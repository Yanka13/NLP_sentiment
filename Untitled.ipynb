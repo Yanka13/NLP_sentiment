{
 "cells": [
  {
   "cell_type": "code",
   "execution_count": 1,
   "id": "76860749",
   "metadata": {},
   "outputs": [],
   "source": [
    "import pandas as pd\n",
    "import seaborn as sns\n",
    "import matplotlib.pyplot as plt"
   ]
  },
  {
   "cell_type": "code",
   "execution_count": 2,
   "id": "7daf91d4",
   "metadata": {},
   "outputs": [],
   "source": [
    "# df = pd.read_csv('data/10k_unfiltered.csv')\n",
    "# df.head()"
   ]
  },
  {
   "cell_type": "code",
   "execution_count": 3,
   "id": "418583a3",
   "metadata": {},
   "outputs": [],
   "source": [
    "# df['Datetime'] = df['Datetime'].astype('datetime64[ns]')\n"
   ]
  },
  {
   "cell_type": "code",
   "execution_count": 4,
   "id": "05aef0ff",
   "metadata": {},
   "outputs": [],
   "source": [
    "# sns.lineplot(data=df, x=\"Datetime\", y=\"Like Count\");"
   ]
  },
  {
   "cell_type": "code",
   "execution_count": null,
   "id": "04db8ad1",
   "metadata": {},
   "outputs": [],
   "source": []
  },
  {
   "cell_type": "code",
   "execution_count": null,
   "id": "c3130227",
   "metadata": {},
   "outputs": [],
   "source": []
  },
  {
   "cell_type": "code",
   "execution_count": null,
   "id": "3af8fb00",
   "metadata": {},
   "outputs": [],
   "source": []
  },
  {
   "cell_type": "code",
   "execution_count": 5,
   "id": "60ff5bf0",
   "metadata": {
    "scrolled": true
   },
   "outputs": [
    {
     "data": {
      "text/html": [
       "<div>\n",
       "<style scoped>\n",
       "    .dataframe tbody tr th:only-of-type {\n",
       "        vertical-align: middle;\n",
       "    }\n",
       "\n",
       "    .dataframe tbody tr th {\n",
       "        vertical-align: top;\n",
       "    }\n",
       "\n",
       "    .dataframe thead th {\n",
       "        text-align: right;\n",
       "    }\n",
       "</style>\n",
       "<table border=\"1\" class=\"dataframe\">\n",
       "  <thead>\n",
       "    <tr style=\"text-align: right;\">\n",
       "      <th></th>\n",
       "      <th>Unnamed: 0.1</th>\n",
       "      <th>Unnamed: 0</th>\n",
       "      <th>Datetime</th>\n",
       "      <th>Tweet Id</th>\n",
       "      <th>Text</th>\n",
       "      <th>Username</th>\n",
       "      <th>Like Count</th>\n",
       "      <th>joy</th>\n",
       "      <th>optimism</th>\n",
       "      <th>anger</th>\n",
       "      <th>sadness</th>\n",
       "      <th>positive</th>\n",
       "      <th>neutral</th>\n",
       "      <th>negative</th>\n",
       "      <th>only_date</th>\n",
       "    </tr>\n",
       "  </thead>\n",
       "  <tbody>\n",
       "    <tr>\n",
       "      <th>0</th>\n",
       "      <td>0</td>\n",
       "      <td>0</td>\n",
       "      <td>2022-06-09 18:56:00+00:00</td>\n",
       "      <td>1534972597259194368</td>\n",
       "      <td>Fury at plans to turn Iconic 'Peaky Blinders' ...</td>\n",
       "      <td>Daily_Express</td>\n",
       "      <td>2.0</td>\n",
       "      <td>0.0101</td>\n",
       "      <td>0.0115</td>\n",
       "      <td>0.9538</td>\n",
       "      <td>0.0246</td>\n",
       "      <td>0.1082</td>\n",
       "      <td>0.8804</td>\n",
       "      <td>0.0114</td>\n",
       "      <td>2022-06-09</td>\n",
       "    </tr>\n",
       "    <tr>\n",
       "      <th>1</th>\n",
       "      <td>1</td>\n",
       "      <td>3</td>\n",
       "      <td>2022-06-09 13:30:04+00:00</td>\n",
       "      <td>1534890576197320709</td>\n",
       "      <td>The Lady Of Heaven producer blasts Muslim prot...</td>\n",
       "      <td>DailyMailUK</td>\n",
       "      <td>9.0</td>\n",
       "      <td>0.0278</td>\n",
       "      <td>0.0531</td>\n",
       "      <td>0.8865</td>\n",
       "      <td>0.0326</td>\n",
       "      <td>0.0110</td>\n",
       "      <td>0.2314</td>\n",
       "      <td>0.7577</td>\n",
       "      <td>2022-06-09</td>\n",
       "    </tr>\n",
       "    <tr>\n",
       "      <th>2</th>\n",
       "      <td>2</td>\n",
       "      <td>5</td>\n",
       "      <td>2022-06-09 03:00:02+00:00</td>\n",
       "      <td>1534732022752727041</td>\n",
       "      <td>Sajid Javid warns cancelled screenings of 'bla...</td>\n",
       "      <td>DailyMailUK</td>\n",
       "      <td>23.0</td>\n",
       "      <td>0.0144</td>\n",
       "      <td>0.0910</td>\n",
       "      <td>0.5922</td>\n",
       "      <td>0.3025</td>\n",
       "      <td>0.0089</td>\n",
       "      <td>0.2727</td>\n",
       "      <td>0.7184</td>\n",
       "      <td>2022-06-09</td>\n",
       "    </tr>\n",
       "    <tr>\n",
       "      <th>3</th>\n",
       "      <td>3</td>\n",
       "      <td>7</td>\n",
       "      <td>2022-06-08 20:40:12+00:00</td>\n",
       "      <td>1534636435285884928</td>\n",
       "      <td>Fury over plans to turn historic 'Peaky Blinde...</td>\n",
       "      <td>DailyMailUK</td>\n",
       "      <td>8.0</td>\n",
       "      <td>0.0262</td>\n",
       "      <td>0.0231</td>\n",
       "      <td>0.8977</td>\n",
       "      <td>0.0530</td>\n",
       "      <td>0.0514</td>\n",
       "      <td>0.9266</td>\n",
       "      <td>0.0220</td>\n",
       "      <td>2022-06-08</td>\n",
       "    </tr>\n",
       "    <tr>\n",
       "      <th>4</th>\n",
       "      <td>4</td>\n",
       "      <td>11</td>\n",
       "      <td>2022-06-08 17:19:07+00:00</td>\n",
       "      <td>1534585826906148868</td>\n",
       "      <td>#MsMarvel Rish Shah pays sweet tribute to lead...</td>\n",
       "      <td>Daily_Express</td>\n",
       "      <td>1.0</td>\n",
       "      <td>0.8786</td>\n",
       "      <td>0.0255</td>\n",
       "      <td>0.0149</td>\n",
       "      <td>0.0810</td>\n",
       "      <td>0.8510</td>\n",
       "      <td>0.1452</td>\n",
       "      <td>0.0038</td>\n",
       "      <td>2022-06-08</td>\n",
       "    </tr>\n",
       "  </tbody>\n",
       "</table>\n",
       "</div>"
      ],
      "text/plain": [
       "   Unnamed: 0.1  Unnamed: 0                   Datetime             Tweet Id  \\\n",
       "0             0           0  2022-06-09 18:56:00+00:00  1534972597259194368   \n",
       "1             1           3  2022-06-09 13:30:04+00:00  1534890576197320709   \n",
       "2             2           5  2022-06-09 03:00:02+00:00  1534732022752727041   \n",
       "3             3           7  2022-06-08 20:40:12+00:00  1534636435285884928   \n",
       "4             4          11  2022-06-08 17:19:07+00:00  1534585826906148868   \n",
       "\n",
       "                                                Text       Username  \\\n",
       "0  Fury at plans to turn Iconic 'Peaky Blinders' ...  Daily_Express   \n",
       "1  The Lady Of Heaven producer blasts Muslim prot...    DailyMailUK   \n",
       "2  Sajid Javid warns cancelled screenings of 'bla...    DailyMailUK   \n",
       "3  Fury over plans to turn historic 'Peaky Blinde...    DailyMailUK   \n",
       "4  #MsMarvel Rish Shah pays sweet tribute to lead...  Daily_Express   \n",
       "\n",
       "   Like Count     joy  optimism   anger  sadness  positive  neutral  negative  \\\n",
       "0         2.0  0.0101    0.0115  0.9538   0.0246    0.1082   0.8804    0.0114   \n",
       "1         9.0  0.0278    0.0531  0.8865   0.0326    0.0110   0.2314    0.7577   \n",
       "2        23.0  0.0144    0.0910  0.5922   0.3025    0.0089   0.2727    0.7184   \n",
       "3         8.0  0.0262    0.0231  0.8977   0.0530    0.0514   0.9266    0.0220   \n",
       "4         1.0  0.8786    0.0255  0.0149   0.0810    0.8510   0.1452    0.0038   \n",
       "\n",
       "    only_date  \n",
       "0  2022-06-09  \n",
       "1  2022-06-09  \n",
       "2  2022-06-09  \n",
       "3  2022-06-08  \n",
       "4  2022-06-08  "
      ]
     },
     "execution_count": 5,
     "metadata": {},
     "output_type": "execute_result"
    }
   ],
   "source": [
    "import pandas as pd\n",
    "df = pd.read_csv('data/muslim_roberta_processed.csv') \n",
    "df = df[0:500]\n",
    "df.head()"
   ]
  },
  {
   "cell_type": "code",
   "execution_count": 6,
   "id": "24729d56",
   "metadata": {},
   "outputs": [
    {
     "data": {
      "text/html": [
       "<div>\n",
       "<style scoped>\n",
       "    .dataframe tbody tr th:only-of-type {\n",
       "        vertical-align: middle;\n",
       "    }\n",
       "\n",
       "    .dataframe tbody tr th {\n",
       "        vertical-align: top;\n",
       "    }\n",
       "\n",
       "    .dataframe thead th {\n",
       "        text-align: right;\n",
       "    }\n",
       "</style>\n",
       "<table border=\"1\" class=\"dataframe\">\n",
       "  <thead>\n",
       "    <tr style=\"text-align: right;\">\n",
       "      <th></th>\n",
       "      <th>Unnamed: 0.1</th>\n",
       "      <th>Unnamed: 0</th>\n",
       "      <th>Datetime</th>\n",
       "      <th>Tweet Id</th>\n",
       "      <th>Text</th>\n",
       "      <th>Username</th>\n",
       "      <th>Like Count</th>\n",
       "      <th>joy</th>\n",
       "      <th>optimism</th>\n",
       "      <th>anger</th>\n",
       "      <th>sadness</th>\n",
       "      <th>positive</th>\n",
       "      <th>neutral</th>\n",
       "      <th>negative</th>\n",
       "      <th>only_date</th>\n",
       "    </tr>\n",
       "  </thead>\n",
       "  <tbody>\n",
       "    <tr>\n",
       "      <th>0</th>\n",
       "      <td>499</td>\n",
       "      <td>822</td>\n",
       "      <td>2021-05-08 07:31:46+00:00</td>\n",
       "      <td>1390932420933914624</td>\n",
       "      <td>SAS: Who Dares Wins in religion and sexism row...</td>\n",
       "      <td>DailyMailUK</td>\n",
       "      <td>15.0</td>\n",
       "      <td>0.0095</td>\n",
       "      <td>0.0411</td>\n",
       "      <td>0.8842</td>\n",
       "      <td>0.0651</td>\n",
       "      <td>0.0191</td>\n",
       "      <td>0.7498</td>\n",
       "      <td>0.2311</td>\n",
       "      <td>2021-05-08</td>\n",
       "    </tr>\n",
       "    <tr>\n",
       "      <th>1</th>\n",
       "      <td>494</td>\n",
       "      <td>813</td>\n",
       "      <td>2021-05-10 22:59:32+00:00</td>\n",
       "      <td>1391890676967776259</td>\n",
       "      <td>Has the Moon been sighted to start Eid al http...</td>\n",
       "      <td>Daily_Express</td>\n",
       "      <td>5.0</td>\n",
       "      <td>0.8159</td>\n",
       "      <td>0.1005</td>\n",
       "      <td>0.0393</td>\n",
       "      <td>0.0443</td>\n",
       "      <td>0.0953</td>\n",
       "      <td>0.8965</td>\n",
       "      <td>0.0082</td>\n",
       "      <td>2021-05-10</td>\n",
       "    </tr>\n",
       "    <tr>\n",
       "      <th>2</th>\n",
       "      <td>495</td>\n",
       "      <td>814</td>\n",
       "      <td>2021-05-10 22:50:00+00:00</td>\n",
       "      <td>1391888278253711363</td>\n",
       "      <td>Car drives into Palestinian protesters throwin...</td>\n",
       "      <td>TheSun</td>\n",
       "      <td>32.0</td>\n",
       "      <td>0.0068</td>\n",
       "      <td>0.0350</td>\n",
       "      <td>0.9338</td>\n",
       "      <td>0.0244</td>\n",
       "      <td>0.0094</td>\n",
       "      <td>0.3778</td>\n",
       "      <td>0.6128</td>\n",
       "      <td>2021-05-10</td>\n",
       "    </tr>\n",
       "    <tr>\n",
       "      <th>3</th>\n",
       "      <td>498</td>\n",
       "      <td>819</td>\n",
       "      <td>2021-05-10 14:59:06+00:00</td>\n",
       "      <td>1391769773118169088</td>\n",
       "      <td>Video: Palestinians take cover inside Al-Aqsa ...</td>\n",
       "      <td>MailOnline</td>\n",
       "      <td>5.0</td>\n",
       "      <td>0.0151</td>\n",
       "      <td>0.0465</td>\n",
       "      <td>0.8511</td>\n",
       "      <td>0.0873</td>\n",
       "      <td>0.0183</td>\n",
       "      <td>0.8501</td>\n",
       "      <td>0.1316</td>\n",
       "      <td>2021-05-10</td>\n",
       "    </tr>\n",
       "    <tr>\n",
       "      <th>4</th>\n",
       "      <td>497</td>\n",
       "      <td>816</td>\n",
       "      <td>2021-05-10 19:30:00+00:00</td>\n",
       "      <td>1391837947293360129</td>\n",
       "      <td>Hundreds injured after violent clashes between...</td>\n",
       "      <td>TheSun</td>\n",
       "      <td>13.0</td>\n",
       "      <td>0.0058</td>\n",
       "      <td>0.0168</td>\n",
       "      <td>0.9513</td>\n",
       "      <td>0.0262</td>\n",
       "      <td>0.0072</td>\n",
       "      <td>0.2074</td>\n",
       "      <td>0.7854</td>\n",
       "      <td>2021-05-10</td>\n",
       "    </tr>\n",
       "  </tbody>\n",
       "</table>\n",
       "</div>"
      ],
      "text/plain": [
       "   Unnamed: 0.1  Unnamed: 0                   Datetime             Tweet Id  \\\n",
       "0           499         822  2021-05-08 07:31:46+00:00  1390932420933914624   \n",
       "1           494         813  2021-05-10 22:59:32+00:00  1391890676967776259   \n",
       "2           495         814  2021-05-10 22:50:00+00:00  1391888278253711363   \n",
       "3           498         819  2021-05-10 14:59:06+00:00  1391769773118169088   \n",
       "4           497         816  2021-05-10 19:30:00+00:00  1391837947293360129   \n",
       "\n",
       "                                                Text       Username  \\\n",
       "0  SAS: Who Dares Wins in religion and sexism row...    DailyMailUK   \n",
       "1  Has the Moon been sighted to start Eid al http...  Daily_Express   \n",
       "2  Car drives into Palestinian protesters throwin...         TheSun   \n",
       "3  Video: Palestinians take cover inside Al-Aqsa ...     MailOnline   \n",
       "4  Hundreds injured after violent clashes between...         TheSun   \n",
       "\n",
       "   Like Count     joy  optimism   anger  sadness  positive  neutral  negative  \\\n",
       "0        15.0  0.0095    0.0411  0.8842   0.0651    0.0191   0.7498    0.2311   \n",
       "1         5.0  0.8159    0.1005  0.0393   0.0443    0.0953   0.8965    0.0082   \n",
       "2        32.0  0.0068    0.0350  0.9338   0.0244    0.0094   0.3778    0.6128   \n",
       "3         5.0  0.0151    0.0465  0.8511   0.0873    0.0183   0.8501    0.1316   \n",
       "4        13.0  0.0058    0.0168  0.9513   0.0262    0.0072   0.2074    0.7854   \n",
       "\n",
       "    only_date  \n",
       "0  2021-05-08  \n",
       "1  2021-05-10  \n",
       "2  2021-05-10  \n",
       "3  2021-05-10  \n",
       "4  2021-05-10  "
      ]
     },
     "execution_count": 6,
     "metadata": {},
     "output_type": "execute_result"
    }
   ],
   "source": [
    "\n",
    "import plotly.express as px\n",
    "\n",
    "\n",
    "# df[\"only_date\"] = df.sort_values(by=\"only_date\")\n",
    "\n",
    "# includes=['TheSun', 'DailyMailUK', 'Daily_Express', 'MailOnline']\n",
    "\n",
    "# df= df[df['Username'].isin(includes)]\n",
    "\n",
    "\n",
    "df = df.sort_values('only_date').reset_index(drop=True)\n",
    "\n",
    "df.head()\n"
   ]
  },
  {
   "cell_type": "code",
   "execution_count": 9,
   "id": "a2573e15",
   "metadata": {},
   "outputs": [
    {
     "data": {
      "application/vnd.plotly.v1+json": {
       "config": {
        "plotlyServerURL": "https://plot.ly"
       },
       "data": [
        {
         "hovertemplate": "<b>%{hovertext}</b><br><br>Username=DailyMailUK<br>only_date=2021-05-08<br>positive=%{x}<br>negative=%{y}<br>Like Count=%{marker.size}<extra></extra>",
         "hovertext": [
          "DailyMailUK"
         ],
         "legendgroup": "DailyMailUK",
         "marker": {
          "color": "#636efa",
          "size": [
           15
          ],
          "sizemode": "area",
          "sizeref": 3.8625,
          "symbol": "circle"
         },
         "mode": "markers",
         "name": "DailyMailUK",
         "orientation": "v",
         "showlegend": true,
         "type": "scatter",
         "x": [
          0.0191
         ],
         "xaxis": "x",
         "y": [
          0.2311
         ],
         "yaxis": "y"
        }
       ],
       "frames": [
        {
         "data": [
          {
           "hovertemplate": "<b>%{hovertext}</b><br><br>Username=DailyMailUK<br>only_date=2021-05-08<br>positive=%{x}<br>negative=%{y}<br>Like Count=%{marker.size}<extra></extra>",
           "hovertext": [
            "DailyMailUK"
           ],
           "legendgroup": "DailyMailUK",
           "marker": {
            "color": "#636efa",
            "size": [
             15
            ],
            "sizemode": "area",
            "sizeref": 3.8625,
            "symbol": "circle"
           },
           "mode": "markers",
           "name": "DailyMailUK",
           "orientation": "v",
           "showlegend": true,
           "type": "scatter",
           "x": [
            0.0191
           ],
           "xaxis": "x",
           "y": [
            0.2311
           ],
           "yaxis": "y"
          }
         ],
         "name": "2021-05-08"
        },
        {
         "data": [
          {
           "hovertemplate": "<b>%{hovertext}</b><br><br>Username=DailyMailUK<br>only_date=2021-05-10<br>positive=%{x}<br>negative=%{y}<br>Like Count=%{marker.size}<extra></extra>",
           "hovertext": [
            "DailyMailUK"
           ],
           "legendgroup": "DailyMailUK",
           "marker": {
            "color": "#636efa",
            "size": [
             5
            ],
            "sizemode": "area",
            "sizeref": 3.8625,
            "symbol": "circle"
           },
           "mode": "markers",
           "name": "DailyMailUK",
           "orientation": "v",
           "showlegend": true,
           "type": "scatter",
           "x": [
            0.0125
           ],
           "xaxis": "x",
           "y": [
            0.673
           ],
           "yaxis": "y"
          },
          {
           "hovertemplate": "<b>%{hovertext}</b><br><br>Username=Daily_Express<br>only_date=2021-05-10<br>positive=%{x}<br>negative=%{y}<br>Like Count=%{marker.size}<extra></extra>",
           "hovertext": [
            "Daily_Express"
           ],
           "legendgroup": "Daily_Express",
           "marker": {
            "color": "#EF553B",
            "size": [
             5
            ],
            "sizemode": "area",
            "sizeref": 3.8625,
            "symbol": "circle"
           },
           "mode": "markers",
           "name": "Daily_Express",
           "orientation": "v",
           "showlegend": true,
           "type": "scatter",
           "x": [
            0.0953
           ],
           "xaxis": "x",
           "y": [
            0.0082
           ],
           "yaxis": "y"
          },
          {
           "hovertemplate": "<b>%{hovertext}</b><br><br>Username=TheSun<br>only_date=2021-05-10<br>positive=%{x}<br>negative=%{y}<br>Like Count=%{marker.size}<extra></extra>",
           "hovertext": [
            "TheSun",
            "TheSun"
           ],
           "legendgroup": "TheSun",
           "marker": {
            "color": "#00cc96",
            "size": [
             32,
             13
            ],
            "sizemode": "area",
            "sizeref": 3.8625,
            "symbol": "circle"
           },
           "mode": "markers",
           "name": "TheSun",
           "orientation": "v",
           "showlegend": true,
           "type": "scatter",
           "x": [
            0.0094,
            0.0072
           ],
           "xaxis": "x",
           "y": [
            0.6128,
            0.7854
           ],
           "yaxis": "y"
          },
          {
           "hovertemplate": "<b>%{hovertext}</b><br><br>Username=MailOnline<br>only_date=2021-05-10<br>positive=%{x}<br>negative=%{y}<br>Like Count=%{marker.size}<extra></extra>",
           "hovertext": [
            "MailOnline"
           ],
           "legendgroup": "MailOnline",
           "marker": {
            "color": "#ab63fa",
            "size": [
             5
            ],
            "sizemode": "area",
            "sizeref": 3.8625,
            "symbol": "circle"
           },
           "mode": "markers",
           "name": "MailOnline",
           "orientation": "v",
           "showlegend": true,
           "type": "scatter",
           "x": [
            0.0183
           ],
           "xaxis": "x",
           "y": [
            0.1316
           ],
           "yaxis": "y"
          }
         ],
         "name": "2021-05-10"
        },
        {
         "data": [
          {
           "hovertemplate": "<b>%{hovertext}</b><br><br>Username=Daily_Express<br>only_date=2021-05-11<br>positive=%{x}<br>negative=%{y}<br>Like Count=%{marker.size}<extra></extra>",
           "hovertext": [
            "Daily_Express",
            "Daily_Express"
           ],
           "legendgroup": "Daily_Express",
           "marker": {
            "color": "#EF553B",
            "size": [
             6,
             6
            ],
            "sizemode": "area",
            "sizeref": 3.8625,
            "symbol": "circle"
           },
           "mode": "markers",
           "name": "Daily_Express",
           "orientation": "v",
           "showlegend": true,
           "type": "scatter",
           "x": [
            0.4932,
            0.0134
           ],
           "xaxis": "x",
           "y": [
            0.0086,
            0.5358
           ],
           "yaxis": "y"
          },
          {
           "hovertemplate": "<b>%{hovertext}</b><br><br>Username=TheSun<br>only_date=2021-05-11<br>positive=%{x}<br>negative=%{y}<br>Like Count=%{marker.size}<extra></extra>",
           "hovertext": [
            "TheSun",
            "TheSun"
           ],
           "legendgroup": "TheSun",
           "marker": {
            "color": "#00cc96",
            "size": [
             20,
             34
            ],
            "sizemode": "area",
            "sizeref": 3.8625,
            "symbol": "circle"
           },
           "mode": "markers",
           "name": "TheSun",
           "orientation": "v",
           "showlegend": true,
           "type": "scatter",
           "x": [
            0.0084,
            0.0149
           ],
           "xaxis": "x",
           "y": [
            0.6541,
            0.5889
           ],
           "yaxis": "y"
          }
         ],
         "name": "2021-05-11"
        },
        {
         "data": [
          {
           "hovertemplate": "<b>%{hovertext}</b><br><br>Username=TheSun<br>only_date=2021-05-12<br>positive=%{x}<br>negative=%{y}<br>Like Count=%{marker.size}<extra></extra>",
           "hovertext": [
            "TheSun"
           ],
           "legendgroup": "TheSun",
           "marker": {
            "color": "#00cc96",
            "size": [
             29
            ],
            "sizemode": "area",
            "sizeref": 3.8625,
            "symbol": "circle"
           },
           "mode": "markers",
           "name": "TheSun",
           "orientation": "v",
           "showlegend": true,
           "type": "scatter",
           "x": [
            0.0095
           ],
           "xaxis": "x",
           "y": [
            0.6292
           ],
           "yaxis": "y"
          }
         ],
         "name": "2021-05-12"
        },
        {
         "data": [
          {
           "hovertemplate": "<b>%{hovertext}</b><br><br>Username=DailyMailUK<br>only_date=2021-05-13<br>positive=%{x}<br>negative=%{y}<br>Like Count=%{marker.size}<extra></extra>",
           "hovertext": [
            "DailyMailUK"
           ],
           "legendgroup": "DailyMailUK",
           "marker": {
            "color": "#636efa",
            "size": [
             6
            ],
            "sizemode": "area",
            "sizeref": 3.8625,
            "symbol": "circle"
           },
           "mode": "markers",
           "name": "DailyMailUK",
           "orientation": "v",
           "showlegend": true,
           "type": "scatter",
           "x": [
            0.0166
           ],
           "xaxis": "x",
           "y": [
            0.4636
           ],
           "yaxis": "y"
          },
          {
           "hovertemplate": "<b>%{hovertext}</b><br><br>Username=Daily_Express<br>only_date=2021-05-13<br>positive=%{x}<br>negative=%{y}<br>Like Count=%{marker.size}<extra></extra>",
           "hovertext": [
            "Daily_Express"
           ],
           "legendgroup": "Daily_Express",
           "marker": {
            "color": "#EF553B",
            "size": [
             2
            ],
            "sizemode": "area",
            "sizeref": 3.8625,
            "symbol": "circle"
           },
           "mode": "markers",
           "name": "Daily_Express",
           "orientation": "v",
           "showlegend": true,
           "type": "scatter",
           "x": [
            0.0475
           ],
           "xaxis": "x",
           "y": [
            0.0201
           ],
           "yaxis": "y"
          },
          {
           "hovertemplate": "<b>%{hovertext}</b><br><br>Username=MailOnline<br>only_date=2021-05-13<br>positive=%{x}<br>negative=%{y}<br>Like Count=%{marker.size}<extra></extra>",
           "hovertext": [
            "MailOnline",
            "MailOnline",
            "MailOnline",
            "MailOnline",
            "MailOnline",
            "MailOnline"
           ],
           "legendgroup": "MailOnline",
           "marker": {
            "color": "#ab63fa",
            "size": [
             32,
             37,
             20,
             23,
             18,
             14
            ],
            "sizemode": "area",
            "sizeref": 3.8625,
            "symbol": "circle"
           },
           "mode": "markers",
           "name": "MailOnline",
           "orientation": "v",
           "showlegend": true,
           "type": "scatter",
           "x": [
            0.0237,
            0.0152,
            0.0218,
            0.217,
            0.0078,
            0.0238
           ],
           "xaxis": "x",
           "y": [
            0.4009,
            0.4786,
            0.3343,
            0.0123,
            0.7052,
            0.4232
           ],
           "yaxis": "y"
          }
         ],
         "name": "2021-05-13"
        },
        {
         "data": [
          {
           "hovertemplate": "<b>%{hovertext}</b><br><br>Username=DailyMailUK<br>only_date=2021-05-14<br>positive=%{x}<br>negative=%{y}<br>Like Count=%{marker.size}<extra></extra>",
           "hovertext": [
            "DailyMailUK"
           ],
           "legendgroup": "DailyMailUK",
           "marker": {
            "color": "#636efa",
            "size": [
             4
            ],
            "sizemode": "area",
            "sizeref": 3.8625,
            "symbol": "circle"
           },
           "mode": "markers",
           "name": "DailyMailUK",
           "orientation": "v",
           "showlegend": true,
           "type": "scatter",
           "x": [
            0.0076
           ],
           "xaxis": "x",
           "y": [
            0.7251
           ],
           "yaxis": "y"
          }
         ],
         "name": "2021-05-14"
        },
        {
         "data": [
          {
           "hovertemplate": "<b>%{hovertext}</b><br><br>Username=MailOnline<br>only_date=2021-05-15<br>positive=%{x}<br>negative=%{y}<br>Like Count=%{marker.size}<extra></extra>",
           "hovertext": [
            "MailOnline",
            "MailOnline"
           ],
           "legendgroup": "MailOnline",
           "marker": {
            "color": "#ab63fa",
            "size": [
             277,
             45
            ],
            "sizemode": "area",
            "sizeref": 3.8625,
            "symbol": "circle"
           },
           "mode": "markers",
           "name": "MailOnline",
           "orientation": "v",
           "showlegend": true,
           "type": "scatter",
           "x": [
            0.031,
            0.0093
           ],
           "xaxis": "x",
           "y": [
            0.563,
            0.4713
           ],
           "yaxis": "y"
          }
         ],
         "name": "2021-05-15"
        },
        {
         "data": [
          {
           "hovertemplate": "<b>%{hovertext}</b><br><br>Username=DailyMailUK<br>only_date=2021-05-17<br>positive=%{x}<br>negative=%{y}<br>Like Count=%{marker.size}<extra></extra>",
           "hovertext": [
            "DailyMailUK"
           ],
           "legendgroup": "DailyMailUK",
           "marker": {
            "color": "#636efa",
            "size": [
             5
            ],
            "sizemode": "area",
            "sizeref": 3.8625,
            "symbol": "circle"
           },
           "mode": "markers",
           "name": "DailyMailUK",
           "orientation": "v",
           "showlegend": true,
           "type": "scatter",
           "x": [
            0.0091
           ],
           "xaxis": "x",
           "y": [
            0.693
           ],
           "yaxis": "y"
          },
          {
           "hovertemplate": "<b>%{hovertext}</b><br><br>Username=Daily_Express<br>only_date=2021-05-17<br>positive=%{x}<br>negative=%{y}<br>Like Count=%{marker.size}<extra></extra>",
           "hovertext": [
            "Daily_Express",
            "Daily_Express",
            "Daily_Express"
           ],
           "legendgroup": "Daily_Express",
           "marker": {
            "color": "#EF553B",
            "size": [
             5,
             1,
             4
            ],
            "sizemode": "area",
            "sizeref": 3.8625,
            "symbol": "circle"
           },
           "mode": "markers",
           "name": "Daily_Express",
           "orientation": "v",
           "showlegend": true,
           "type": "scatter",
           "x": [
            0.0392,
            0.0126,
            0.0155
           ],
           "xaxis": "x",
           "y": [
            0.4956,
            0.481,
            0.4276
           ],
           "yaxis": "y"
          }
         ],
         "name": "2021-05-17"
        },
        {
         "data": [
          {
           "hovertemplate": "<b>%{hovertext}</b><br><br>Username=TheSun<br>only_date=2021-05-18<br>positive=%{x}<br>negative=%{y}<br>Like Count=%{marker.size}<extra></extra>",
           "hovertext": [
            "TheSun"
           ],
           "legendgroup": "TheSun",
           "marker": {
            "color": "#00cc96",
            "size": [
             27
            ],
            "sizemode": "area",
            "sizeref": 3.8625,
            "symbol": "circle"
           },
           "mode": "markers",
           "name": "TheSun",
           "orientation": "v",
           "showlegend": true,
           "type": "scatter",
           "x": [
            0.0102
           ],
           "xaxis": "x",
           "y": [
            0.5756
           ],
           "yaxis": "y"
          },
          {
           "hovertemplate": "<b>%{hovertext}</b><br><br>Username=MailOnline<br>only_date=2021-05-18<br>positive=%{x}<br>negative=%{y}<br>Like Count=%{marker.size}<extra></extra>",
           "hovertext": [
            "MailOnline",
            "MailOnline",
            "MailOnline"
           ],
           "legendgroup": "MailOnline",
           "marker": {
            "color": "#ab63fa",
            "size": [
             56,
             41,
             24
            ],
            "sizemode": "area",
            "sizeref": 3.8625,
            "symbol": "circle"
           },
           "mode": "markers",
           "name": "MailOnline",
           "orientation": "v",
           "showlegend": true,
           "type": "scatter",
           "x": [
            0.0045,
            0.0103,
            0.0043
           ],
           "xaxis": "x",
           "y": [
            0.8785,
            0.6751,
            0.904
           ],
           "yaxis": "y"
          }
         ],
         "name": "2021-05-18"
        },
        {
         "data": [
          {
           "hovertemplate": "<b>%{hovertext}</b><br><br>Username=TheSun<br>only_date=2021-05-19<br>positive=%{x}<br>negative=%{y}<br>Like Count=%{marker.size}<extra></extra>",
           "hovertext": [
            "TheSun",
            "TheSun"
           ],
           "legendgroup": "TheSun",
           "marker": {
            "color": "#00cc96",
            "size": [
             4,
             8
            ],
            "sizemode": "area",
            "sizeref": 3.8625,
            "symbol": "circle"
           },
           "mode": "markers",
           "name": "TheSun",
           "orientation": "v",
           "showlegend": true,
           "type": "scatter",
           "x": [
            0.018,
            0.0071
           ],
           "xaxis": "x",
           "y": [
            0.5059,
            0.7761
           ],
           "yaxis": "y"
          }
         ],
         "name": "2021-05-19"
        },
        {
         "data": [
          {
           "hovertemplate": "<b>%{hovertext}</b><br><br>Username=Daily_Express<br>only_date=2021-05-21<br>positive=%{x}<br>negative=%{y}<br>Like Count=%{marker.size}<extra></extra>",
           "hovertext": [
            "Daily_Express"
           ],
           "legendgroup": "Daily_Express",
           "marker": {
            "color": "#EF553B",
            "size": [
             5
            ],
            "sizemode": "area",
            "sizeref": 3.8625,
            "symbol": "circle"
           },
           "mode": "markers",
           "name": "Daily_Express",
           "orientation": "v",
           "showlegend": true,
           "type": "scatter",
           "x": [
            0.0093
           ],
           "xaxis": "x",
           "y": [
            0.5867
           ],
           "yaxis": "y"
          },
          {
           "hovertemplate": "<b>%{hovertext}</b><br><br>Username=TheSun<br>only_date=2021-05-21<br>positive=%{x}<br>negative=%{y}<br>Like Count=%{marker.size}<extra></extra>",
           "hovertext": [
            "TheSun"
           ],
           "legendgroup": "TheSun",
           "marker": {
            "color": "#00cc96",
            "size": [
             6
            ],
            "sizemode": "area",
            "sizeref": 3.8625,
            "symbol": "circle"
           },
           "mode": "markers",
           "name": "TheSun",
           "orientation": "v",
           "showlegend": true,
           "type": "scatter",
           "x": [
            0.0093
           ],
           "xaxis": "x",
           "y": [
            0.641
           ],
           "yaxis": "y"
          }
         ],
         "name": "2021-05-21"
        },
        {
         "data": [
          {
           "hovertemplate": "<b>%{hovertext}</b><br><br>Username=DailyMailUK<br>only_date=2021-05-25<br>positive=%{x}<br>negative=%{y}<br>Like Count=%{marker.size}<extra></extra>",
           "hovertext": [
            "DailyMailUK"
           ],
           "legendgroup": "DailyMailUK",
           "marker": {
            "color": "#636efa",
            "size": [
             5
            ],
            "sizemode": "area",
            "sizeref": 3.8625,
            "symbol": "circle"
           },
           "mode": "markers",
           "name": "DailyMailUK",
           "orientation": "v",
           "showlegend": true,
           "type": "scatter",
           "x": [
            0.007
           ],
           "xaxis": "x",
           "y": [
            0.6145
           ],
           "yaxis": "y"
          }
         ],
         "name": "2021-05-25"
        },
        {
         "data": [
          {
           "hovertemplate": "<b>%{hovertext}</b><br><br>Username=MailOnline<br>only_date=2021-05-26<br>positive=%{x}<br>negative=%{y}<br>Like Count=%{marker.size}<extra></extra>",
           "hovertext": [
            "MailOnline"
           ],
           "legendgroup": "MailOnline",
           "marker": {
            "color": "#ab63fa",
            "size": [
             22
            ],
            "sizemode": "area",
            "sizeref": 3.8625,
            "symbol": "circle"
           },
           "mode": "markers",
           "name": "MailOnline",
           "orientation": "v",
           "showlegend": true,
           "type": "scatter",
           "x": [
            0.0152
           ],
           "xaxis": "x",
           "y": [
            0.5849
           ],
           "yaxis": "y"
          }
         ],
         "name": "2021-05-26"
        },
        {
         "data": [
          {
           "hovertemplate": "<b>%{hovertext}</b><br><br>Username=DailyMailUK<br>only_date=2021-05-28<br>positive=%{x}<br>negative=%{y}<br>Like Count=%{marker.size}<extra></extra>",
           "hovertext": [
            "DailyMailUK"
           ],
           "legendgroup": "DailyMailUK",
           "marker": {
            "color": "#636efa",
            "size": [
             13
            ],
            "sizemode": "area",
            "sizeref": 3.8625,
            "symbol": "circle"
           },
           "mode": "markers",
           "name": "DailyMailUK",
           "orientation": "v",
           "showlegend": true,
           "type": "scatter",
           "x": [
            0.0041
           ],
           "xaxis": "x",
           "y": [
            0.8448
           ],
           "yaxis": "y"
          }
         ],
         "name": "2021-05-28"
        },
        {
         "data": [
          {
           "hovertemplate": "<b>%{hovertext}</b><br><br>Username=DailyMailUK<br>only_date=2021-05-29<br>positive=%{x}<br>negative=%{y}<br>Like Count=%{marker.size}<extra></extra>",
           "hovertext": [
            "DailyMailUK",
            "DailyMailUK",
            "DailyMailUK"
           ],
           "legendgroup": "DailyMailUK",
           "marker": {
            "color": "#636efa",
            "size": [
             41,
             18,
             19
            ],
            "sizemode": "area",
            "sizeref": 3.8625,
            "symbol": "circle"
           },
           "mode": "markers",
           "name": "DailyMailUK",
           "orientation": "v",
           "showlegend": true,
           "type": "scatter",
           "x": [
            0.0127,
            0.0075,
            0.0059
           ],
           "xaxis": "x",
           "y": [
            0.644,
            0.7803,
            0.8175
           ],
           "yaxis": "y"
          }
         ],
         "name": "2021-05-29"
        },
        {
         "data": [
          {
           "hovertemplate": "<b>%{hovertext}</b><br><br>Username=DailyMailUK<br>only_date=2021-05-30<br>positive=%{x}<br>negative=%{y}<br>Like Count=%{marker.size}<extra></extra>",
           "hovertext": [
            "DailyMailUK",
            "DailyMailUK"
           ],
           "legendgroup": "DailyMailUK",
           "marker": {
            "color": "#636efa",
            "size": [
             24,
             5
            ],
            "sizemode": "area",
            "sizeref": 3.8625,
            "symbol": "circle"
           },
           "mode": "markers",
           "name": "DailyMailUK",
           "orientation": "v",
           "showlegend": true,
           "type": "scatter",
           "x": [
            0.0062,
            0.0178
           ],
           "xaxis": "x",
           "y": [
            0.742,
            0.3902
           ],
           "yaxis": "y"
          }
         ],
         "name": "2021-05-30"
        },
        {
         "data": [
          {
           "hovertemplate": "<b>%{hovertext}</b><br><br>Username=DailyMailUK<br>only_date=2021-06-01<br>positive=%{x}<br>negative=%{y}<br>Like Count=%{marker.size}<extra></extra>",
           "hovertext": [
            "DailyMailUK"
           ],
           "legendgroup": "DailyMailUK",
           "marker": {
            "color": "#636efa",
            "size": [
             7
            ],
            "sizemode": "area",
            "sizeref": 3.8625,
            "symbol": "circle"
           },
           "mode": "markers",
           "name": "DailyMailUK",
           "orientation": "v",
           "showlegend": true,
           "type": "scatter",
           "x": [
            0.0111
           ],
           "xaxis": "x",
           "y": [
            0.4286
           ],
           "yaxis": "y"
          },
          {
           "hovertemplate": "<b>%{hovertext}</b><br><br>Username=MailOnline<br>only_date=2021-06-01<br>positive=%{x}<br>negative=%{y}<br>Like Count=%{marker.size}<extra></extra>",
           "hovertext": [
            "MailOnline"
           ],
           "legendgroup": "MailOnline",
           "marker": {
            "color": "#ab63fa",
            "size": [
             12
            ],
            "sizemode": "area",
            "sizeref": 3.8625,
            "symbol": "circle"
           },
           "mode": "markers",
           "name": "MailOnline",
           "orientation": "v",
           "showlegend": true,
           "type": "scatter",
           "x": [
            0.0846
           ],
           "xaxis": "x",
           "y": [
            0.0186
           ],
           "yaxis": "y"
          }
         ],
         "name": "2021-06-01"
        },
        {
         "data": [
          {
           "hovertemplate": "<b>%{hovertext}</b><br><br>Username=TheSun<br>only_date=2021-06-02<br>positive=%{x}<br>negative=%{y}<br>Like Count=%{marker.size}<extra></extra>",
           "hovertext": [
            "TheSun"
           ],
           "legendgroup": "TheSun",
           "marker": {
            "color": "#00cc96",
            "size": [
             5
            ],
            "sizemode": "area",
            "sizeref": 3.8625,
            "symbol": "circle"
           },
           "mode": "markers",
           "name": "TheSun",
           "orientation": "v",
           "showlegend": true,
           "type": "scatter",
           "x": [
            0.0312
           ],
           "xaxis": "x",
           "y": [
            0.3588
           ],
           "yaxis": "y"
          }
         ],
         "name": "2021-06-02"
        },
        {
         "data": [
          {
           "hovertemplate": "<b>%{hovertext}</b><br><br>Username=MailOnline<br>only_date=2021-06-03<br>positive=%{x}<br>negative=%{y}<br>Like Count=%{marker.size}<extra></extra>",
           "hovertext": [
            "MailOnline"
           ],
           "legendgroup": "MailOnline",
           "marker": {
            "color": "#ab63fa",
            "size": [
             30
            ],
            "sizemode": "area",
            "sizeref": 3.8625,
            "symbol": "circle"
           },
           "mode": "markers",
           "name": "MailOnline",
           "orientation": "v",
           "showlegend": true,
           "type": "scatter",
           "x": [
            0.0049
           ],
           "xaxis": "x",
           "y": [
            0.8389
           ],
           "yaxis": "y"
          }
         ],
         "name": "2021-06-03"
        },
        {
         "data": [
          {
           "hovertemplate": "<b>%{hovertext}</b><br><br>Username=DailyMailUK<br>only_date=2021-06-08<br>positive=%{x}<br>negative=%{y}<br>Like Count=%{marker.size}<extra></extra>",
           "hovertext": [
            "DailyMailUK"
           ],
           "legendgroup": "DailyMailUK",
           "marker": {
            "color": "#636efa",
            "size": [
             3
            ],
            "sizemode": "area",
            "sizeref": 3.8625,
            "symbol": "circle"
           },
           "mode": "markers",
           "name": "DailyMailUK",
           "orientation": "v",
           "showlegend": true,
           "type": "scatter",
           "x": [
            0.0116
           ],
           "xaxis": "x",
           "y": [
            0.6369
           ],
           "yaxis": "y"
          },
          {
           "hovertemplate": "<b>%{hovertext}</b><br><br>Username=MailOnline<br>only_date=2021-06-08<br>positive=%{x}<br>negative=%{y}<br>Like Count=%{marker.size}<extra></extra>",
           "hovertext": [
            "MailOnline",
            "MailOnline"
           ],
           "legendgroup": "MailOnline",
           "marker": {
            "color": "#ab63fa",
            "size": [
             33,
             19
            ],
            "sizemode": "area",
            "sizeref": 3.8625,
            "symbol": "circle"
           },
           "mode": "markers",
           "name": "MailOnline",
           "orientation": "v",
           "showlegend": true,
           "type": "scatter",
           "x": [
            0.0065,
            0.012
           ],
           "xaxis": "x",
           "y": [
            0.8109,
            0.5454
           ],
           "yaxis": "y"
          }
         ],
         "name": "2021-06-08"
        },
        {
         "data": [
          {
           "hovertemplate": "<b>%{hovertext}</b><br><br>Username=DailyMailUK<br>only_date=2021-06-10<br>positive=%{x}<br>negative=%{y}<br>Like Count=%{marker.size}<extra></extra>",
           "hovertext": [
            "DailyMailUK"
           ],
           "legendgroup": "DailyMailUK",
           "marker": {
            "color": "#636efa",
            "size": [
             38
            ],
            "sizemode": "area",
            "sizeref": 3.8625,
            "symbol": "circle"
           },
           "mode": "markers",
           "name": "DailyMailUK",
           "orientation": "v",
           "showlegend": true,
           "type": "scatter",
           "x": [
            0.0115
           ],
           "xaxis": "x",
           "y": [
            0.3641
           ],
           "yaxis": "y"
          },
          {
           "hovertemplate": "<b>%{hovertext}</b><br><br>Username=MailOnline<br>only_date=2021-06-10<br>positive=%{x}<br>negative=%{y}<br>Like Count=%{marker.size}<extra></extra>",
           "hovertext": [
            "MailOnline"
           ],
           "legendgroup": "MailOnline",
           "marker": {
            "color": "#ab63fa",
            "size": [
             18
            ],
            "sizemode": "area",
            "sizeref": 3.8625,
            "symbol": "circle"
           },
           "mode": "markers",
           "name": "MailOnline",
           "orientation": "v",
           "showlegend": true,
           "type": "scatter",
           "x": [
            0.0215
           ],
           "xaxis": "x",
           "y": [
            0.5271
           ],
           "yaxis": "y"
          }
         ],
         "name": "2021-06-10"
        },
        {
         "data": [
          {
           "hovertemplate": "<b>%{hovertext}</b><br><br>Username=DailyMailUK<br>only_date=2021-06-12<br>positive=%{x}<br>negative=%{y}<br>Like Count=%{marker.size}<extra></extra>",
           "hovertext": [
            "DailyMailUK"
           ],
           "legendgroup": "DailyMailUK",
           "marker": {
            "color": "#636efa",
            "size": [
             9
            ],
            "sizemode": "area",
            "sizeref": 3.8625,
            "symbol": "circle"
           },
           "mode": "markers",
           "name": "DailyMailUK",
           "orientation": "v",
           "showlegend": true,
           "type": "scatter",
           "x": [
            0.0141
           ],
           "xaxis": "x",
           "y": [
            0.1435
           ],
           "yaxis": "y"
          }
         ],
         "name": "2021-06-12"
        },
        {
         "data": [
          {
           "hovertemplate": "<b>%{hovertext}</b><br><br>Username=MailOnline<br>only_date=2021-06-13<br>positive=%{x}<br>negative=%{y}<br>Like Count=%{marker.size}<extra></extra>",
           "hovertext": [
            "MailOnline"
           ],
           "legendgroup": "MailOnline",
           "marker": {
            "color": "#ab63fa",
            "size": [
             8
            ],
            "sizemode": "area",
            "sizeref": 3.8625,
            "symbol": "circle"
           },
           "mode": "markers",
           "name": "MailOnline",
           "orientation": "v",
           "showlegend": true,
           "type": "scatter",
           "x": [
            0.0088
           ],
           "xaxis": "x",
           "y": [
            0.5656
           ],
           "yaxis": "y"
          }
         ],
         "name": "2021-06-13"
        },
        {
         "data": [
          {
           "hovertemplate": "<b>%{hovertext}</b><br><br>Username=DailyMailUK<br>only_date=2021-06-14<br>positive=%{x}<br>negative=%{y}<br>Like Count=%{marker.size}<extra></extra>",
           "hovertext": [
            "DailyMailUK"
           ],
           "legendgroup": "DailyMailUK",
           "marker": {
            "color": "#636efa",
            "size": [
             24
            ],
            "sizemode": "area",
            "sizeref": 3.8625,
            "symbol": "circle"
           },
           "mode": "markers",
           "name": "DailyMailUK",
           "orientation": "v",
           "showlegend": true,
           "type": "scatter",
           "x": [
            0.07
           ],
           "xaxis": "x",
           "y": [
            0.3079
           ],
           "yaxis": "y"
          },
          {
           "hovertemplate": "<b>%{hovertext}</b><br><br>Username=Daily_Express<br>only_date=2021-06-14<br>positive=%{x}<br>negative=%{y}<br>Like Count=%{marker.size}<extra></extra>",
           "hovertext": [
            "Daily_Express"
           ],
           "legendgroup": "Daily_Express",
           "marker": {
            "color": "#EF553B",
            "size": [
             0
            ],
            "sizemode": "area",
            "sizeref": 3.8625,
            "symbol": "circle"
           },
           "mode": "markers",
           "name": "Daily_Express",
           "orientation": "v",
           "showlegend": true,
           "type": "scatter",
           "x": [
            0.0087
           ],
           "xaxis": "x",
           "y": [
            0.5137
           ],
           "yaxis": "y"
          }
         ],
         "name": "2021-06-14"
        },
        {
         "data": [
          {
           "hovertemplate": "<b>%{hovertext}</b><br><br>Username=DailyMailUK<br>only_date=2021-06-15<br>positive=%{x}<br>negative=%{y}<br>Like Count=%{marker.size}<extra></extra>",
           "hovertext": [
            "DailyMailUK"
           ],
           "legendgroup": "DailyMailUK",
           "marker": {
            "color": "#636efa",
            "size": [
             7
            ],
            "sizemode": "area",
            "sizeref": 3.8625,
            "symbol": "circle"
           },
           "mode": "markers",
           "name": "DailyMailUK",
           "orientation": "v",
           "showlegend": true,
           "type": "scatter",
           "x": [
            0.0083
           ],
           "xaxis": "x",
           "y": [
            0.695
           ],
           "yaxis": "y"
          },
          {
           "hovertemplate": "<b>%{hovertext}</b><br><br>Username=TheSun<br>only_date=2021-06-15<br>positive=%{x}<br>negative=%{y}<br>Like Count=%{marker.size}<extra></extra>",
           "hovertext": [
            "TheSun"
           ],
           "legendgroup": "TheSun",
           "marker": {
            "color": "#00cc96",
            "size": [
             6
            ],
            "sizemode": "area",
            "sizeref": 3.8625,
            "symbol": "circle"
           },
           "mode": "markers",
           "name": "TheSun",
           "orientation": "v",
           "showlegend": true,
           "type": "scatter",
           "x": [
            0.0072
           ],
           "xaxis": "x",
           "y": [
            0.6769
           ],
           "yaxis": "y"
          },
          {
           "hovertemplate": "<b>%{hovertext}</b><br><br>Username=MailOnline<br>only_date=2021-06-15<br>positive=%{x}<br>negative=%{y}<br>Like Count=%{marker.size}<extra></extra>",
           "hovertext": [
            "MailOnline"
           ],
           "legendgroup": "MailOnline",
           "marker": {
            "color": "#ab63fa",
            "size": [
             19
            ],
            "sizemode": "area",
            "sizeref": 3.8625,
            "symbol": "circle"
           },
           "mode": "markers",
           "name": "MailOnline",
           "orientation": "v",
           "showlegend": true,
           "type": "scatter",
           "x": [
            0.0091
           ],
           "xaxis": "x",
           "y": [
            0.688
           ],
           "yaxis": "y"
          }
         ],
         "name": "2021-06-15"
        },
        {
         "data": [
          {
           "hovertemplate": "<b>%{hovertext}</b><br><br>Username=MailOnline<br>only_date=2021-06-18<br>positive=%{x}<br>negative=%{y}<br>Like Count=%{marker.size}<extra></extra>",
           "hovertext": [
            "MailOnline"
           ],
           "legendgroup": "MailOnline",
           "marker": {
            "color": "#ab63fa",
            "size": [
             19
            ],
            "sizemode": "area",
            "sizeref": 3.8625,
            "symbol": "circle"
           },
           "mode": "markers",
           "name": "MailOnline",
           "orientation": "v",
           "showlegend": true,
           "type": "scatter",
           "x": [
            0.0104
           ],
           "xaxis": "x",
           "y": [
            0.6503
           ],
           "yaxis": "y"
          }
         ],
         "name": "2021-06-18"
        },
        {
         "data": [
          {
           "hovertemplate": "<b>%{hovertext}</b><br><br>Username=DailyMailUK<br>only_date=2021-06-20<br>positive=%{x}<br>negative=%{y}<br>Like Count=%{marker.size}<extra></extra>",
           "hovertext": [
            "DailyMailUK"
           ],
           "legendgroup": "DailyMailUK",
           "marker": {
            "color": "#636efa",
            "size": [
             9
            ],
            "sizemode": "area",
            "sizeref": 3.8625,
            "symbol": "circle"
           },
           "mode": "markers",
           "name": "DailyMailUK",
           "orientation": "v",
           "showlegend": true,
           "type": "scatter",
           "x": [
            0.0075
           ],
           "xaxis": "x",
           "y": [
            0.7778
           ],
           "yaxis": "y"
          }
         ],
         "name": "2021-06-20"
        },
        {
         "data": [
          {
           "hovertemplate": "<b>%{hovertext}</b><br><br>Username=MailOnline<br>only_date=2021-06-21<br>positive=%{x}<br>negative=%{y}<br>Like Count=%{marker.size}<extra></extra>",
           "hovertext": [
            "MailOnline"
           ],
           "legendgroup": "MailOnline",
           "marker": {
            "color": "#ab63fa",
            "size": [
             58
            ],
            "sizemode": "area",
            "sizeref": 3.8625,
            "symbol": "circle"
           },
           "mode": "markers",
           "name": "MailOnline",
           "orientation": "v",
           "showlegend": true,
           "type": "scatter",
           "x": [
            0.0103
           ],
           "xaxis": "x",
           "y": [
            0.6077
           ],
           "yaxis": "y"
          }
         ],
         "name": "2021-06-21"
        },
        {
         "data": [
          {
           "hovertemplate": "<b>%{hovertext}</b><br><br>Username=MailOnline<br>only_date=2021-06-26<br>positive=%{x}<br>negative=%{y}<br>Like Count=%{marker.size}<extra></extra>",
           "hovertext": [
            "MailOnline",
            "MailOnline"
           ],
           "legendgroup": "MailOnline",
           "marker": {
            "color": "#ab63fa",
            "size": [
             23,
             11
            ],
            "sizemode": "area",
            "sizeref": 3.8625,
            "symbol": "circle"
           },
           "mode": "markers",
           "name": "MailOnline",
           "orientation": "v",
           "showlegend": true,
           "type": "scatter",
           "x": [
            0.049,
            0.0107
           ],
           "xaxis": "x",
           "y": [
            0.1876,
            0.5806
           ],
           "yaxis": "y"
          }
         ],
         "name": "2021-06-26"
        },
        {
         "data": [
          {
           "hovertemplate": "<b>%{hovertext}</b><br><br>Username=MailOnline<br>only_date=2021-06-28<br>positive=%{x}<br>negative=%{y}<br>Like Count=%{marker.size}<extra></extra>",
           "hovertext": [
            "MailOnline"
           ],
           "legendgroup": "MailOnline",
           "marker": {
            "color": "#ab63fa",
            "size": [
             10
            ],
            "sizemode": "area",
            "sizeref": 3.8625,
            "symbol": "circle"
           },
           "mode": "markers",
           "name": "MailOnline",
           "orientation": "v",
           "showlegend": true,
           "type": "scatter",
           "x": [
            0.0268
           ],
           "xaxis": "x",
           "y": [
            0.2764
           ],
           "yaxis": "y"
          }
         ],
         "name": "2021-06-28"
        },
        {
         "data": [
          {
           "hovertemplate": "<b>%{hovertext}</b><br><br>Username=Daily_Express<br>only_date=2021-06-30<br>positive=%{x}<br>negative=%{y}<br>Like Count=%{marker.size}<extra></extra>",
           "hovertext": [
            "Daily_Express",
            "Daily_Express"
           ],
           "legendgroup": "Daily_Express",
           "marker": {
            "color": "#EF553B",
            "size": [
             0,
             3
            ],
            "sizemode": "area",
            "sizeref": 3.8625,
            "symbol": "circle"
           },
           "mode": "markers",
           "name": "Daily_Express",
           "orientation": "v",
           "showlegend": true,
           "type": "scatter",
           "x": [
            0.0215,
            0.0188
           ],
           "xaxis": "x",
           "y": [
            0.2203,
            0.3068
           ],
           "yaxis": "y"
          }
         ],
         "name": "2021-06-30"
        },
        {
         "data": [
          {
           "hovertemplate": "<b>%{hovertext}</b><br><br>Username=DailyMailUK<br>only_date=2021-07-02<br>positive=%{x}<br>negative=%{y}<br>Like Count=%{marker.size}<extra></extra>",
           "hovertext": [
            "DailyMailUK"
           ],
           "legendgroup": "DailyMailUK",
           "marker": {
            "color": "#636efa",
            "size": [
             10
            ],
            "sizemode": "area",
            "sizeref": 3.8625,
            "symbol": "circle"
           },
           "mode": "markers",
           "name": "DailyMailUK",
           "orientation": "v",
           "showlegend": true,
           "type": "scatter",
           "x": [
            0.0069
           ],
           "xaxis": "x",
           "y": [
            0.7067
           ],
           "yaxis": "y"
          }
         ],
         "name": "2021-07-02"
        },
        {
         "data": [
          {
           "hovertemplate": "<b>%{hovertext}</b><br><br>Username=DailyMailUK<br>only_date=2021-07-04<br>positive=%{x}<br>negative=%{y}<br>Like Count=%{marker.size}<extra></extra>",
           "hovertext": [
            "DailyMailUK"
           ],
           "legendgroup": "DailyMailUK",
           "marker": {
            "color": "#636efa",
            "size": [
             17
            ],
            "sizemode": "area",
            "sizeref": 3.8625,
            "symbol": "circle"
           },
           "mode": "markers",
           "name": "DailyMailUK",
           "orientation": "v",
           "showlegend": true,
           "type": "scatter",
           "x": [
            0.0424
           ],
           "xaxis": "x",
           "y": [
            0.2751
           ],
           "yaxis": "y"
          },
          {
           "hovertemplate": "<b>%{hovertext}</b><br><br>Username=Daily_Express<br>only_date=2021-07-04<br>positive=%{x}<br>negative=%{y}<br>Like Count=%{marker.size}<extra></extra>",
           "hovertext": [
            "Daily_Express"
           ],
           "legendgroup": "Daily_Express",
           "marker": {
            "color": "#EF553B",
            "size": [
             3
            ],
            "sizemode": "area",
            "sizeref": 3.8625,
            "symbol": "circle"
           },
           "mode": "markers",
           "name": "Daily_Express",
           "orientation": "v",
           "showlegend": true,
           "type": "scatter",
           "x": [
            0.0085
           ],
           "xaxis": "x",
           "y": [
            0.694
           ],
           "yaxis": "y"
          },
          {
           "hovertemplate": "<b>%{hovertext}</b><br><br>Username=TheSun<br>only_date=2021-07-04<br>positive=%{x}<br>negative=%{y}<br>Like Count=%{marker.size}<extra></extra>",
           "hovertext": [
            "TheSun"
           ],
           "legendgroup": "TheSun",
           "marker": {
            "color": "#00cc96",
            "size": [
             28
            ],
            "sizemode": "area",
            "sizeref": 3.8625,
            "symbol": "circle"
           },
           "mode": "markers",
           "name": "TheSun",
           "orientation": "v",
           "showlegend": true,
           "type": "scatter",
           "x": [
            0.3743
           ],
           "xaxis": "x",
           "y": [
            0.0177
           ],
           "yaxis": "y"
          }
         ],
         "name": "2021-07-04"
        },
        {
         "data": [
          {
           "hovertemplate": "<b>%{hovertext}</b><br><br>Username=MailOnline<br>only_date=2021-07-05<br>positive=%{x}<br>negative=%{y}<br>Like Count=%{marker.size}<extra></extra>",
           "hovertext": [
            "MailOnline"
           ],
           "legendgroup": "MailOnline",
           "marker": {
            "color": "#ab63fa",
            "size": [
             34
            ],
            "sizemode": "area",
            "sizeref": 3.8625,
            "symbol": "circle"
           },
           "mode": "markers",
           "name": "MailOnline",
           "orientation": "v",
           "showlegend": true,
           "type": "scatter",
           "x": [
            0.008
           ],
           "xaxis": "x",
           "y": [
            0.6833
           ],
           "yaxis": "y"
          }
         ],
         "name": "2021-07-05"
        },
        {
         "data": [
          {
           "hovertemplate": "<b>%{hovertext}</b><br><br>Username=DailyMailUK<br>only_date=2021-07-07<br>positive=%{x}<br>negative=%{y}<br>Like Count=%{marker.size}<extra></extra>",
           "hovertext": [
            "DailyMailUK"
           ],
           "legendgroup": "DailyMailUK",
           "marker": {
            "color": "#636efa",
            "size": [
             30
            ],
            "sizemode": "area",
            "sizeref": 3.8625,
            "symbol": "circle"
           },
           "mode": "markers",
           "name": "DailyMailUK",
           "orientation": "v",
           "showlegend": true,
           "type": "scatter",
           "x": [
            0.0216
           ],
           "xaxis": "x",
           "y": [
            0.4544
           ],
           "yaxis": "y"
          },
          {
           "hovertemplate": "<b>%{hovertext}</b><br><br>Username=TheSun<br>only_date=2021-07-07<br>positive=%{x}<br>negative=%{y}<br>Like Count=%{marker.size}<extra></extra>",
           "hovertext": [
            "TheSun",
            "TheSun"
           ],
           "legendgroup": "TheSun",
           "marker": {
            "color": "#00cc96",
            "size": [
             10,
             41
            ],
            "sizemode": "area",
            "sizeref": 3.8625,
            "symbol": "circle"
           },
           "mode": "markers",
           "name": "TheSun",
           "orientation": "v",
           "showlegend": true,
           "type": "scatter",
           "x": [
            0.0249,
            0.0259
           ],
           "xaxis": "x",
           "y": [
            0.2137,
            0.1871
           ],
           "yaxis": "y"
          }
         ],
         "name": "2021-07-07"
        },
        {
         "data": [
          {
           "hovertemplate": "<b>%{hovertext}</b><br><br>Username=DailyMailUK<br>only_date=2021-07-09<br>positive=%{x}<br>negative=%{y}<br>Like Count=%{marker.size}<extra></extra>",
           "hovertext": [
            "DailyMailUK"
           ],
           "legendgroup": "DailyMailUK",
           "marker": {
            "color": "#636efa",
            "size": [
             16
            ],
            "sizemode": "area",
            "sizeref": 3.8625,
            "symbol": "circle"
           },
           "mode": "markers",
           "name": "DailyMailUK",
           "orientation": "v",
           "showlegend": true,
           "type": "scatter",
           "x": [
            0.0174
           ],
           "xaxis": "x",
           "y": [
            0.6175
           ],
           "yaxis": "y"
          },
          {
           "hovertemplate": "<b>%{hovertext}</b><br><br>Username=MailOnline<br>only_date=2021-07-09<br>positive=%{x}<br>negative=%{y}<br>Like Count=%{marker.size}<extra></extra>",
           "hovertext": [
            "MailOnline"
           ],
           "legendgroup": "MailOnline",
           "marker": {
            "color": "#ab63fa",
            "size": [
             44
            ],
            "sizemode": "area",
            "sizeref": 3.8625,
            "symbol": "circle"
           },
           "mode": "markers",
           "name": "MailOnline",
           "orientation": "v",
           "showlegend": true,
           "type": "scatter",
           "x": [
            0.0315
           ],
           "xaxis": "x",
           "y": [
            0.0623
           ],
           "yaxis": "y"
          }
         ],
         "name": "2021-07-09"
        },
        {
         "data": [
          {
           "hovertemplate": "<b>%{hovertext}</b><br><br>Username=Daily_Express<br>only_date=2021-07-10<br>positive=%{x}<br>negative=%{y}<br>Like Count=%{marker.size}<extra></extra>",
           "hovertext": [
            "Daily_Express"
           ],
           "legendgroup": "Daily_Express",
           "marker": {
            "color": "#EF553B",
            "size": [
             3
            ],
            "sizemode": "area",
            "sizeref": 3.8625,
            "symbol": "circle"
           },
           "mode": "markers",
           "name": "Daily_Express",
           "orientation": "v",
           "showlegend": true,
           "type": "scatter",
           "x": [
            0.0136
           ],
           "xaxis": "x",
           "y": [
            0.6413
           ],
           "yaxis": "y"
          },
          {
           "hovertemplate": "<b>%{hovertext}</b><br><br>Username=MailOnline<br>only_date=2021-07-10<br>positive=%{x}<br>negative=%{y}<br>Like Count=%{marker.size}<extra></extra>",
           "hovertext": [
            "MailOnline"
           ],
           "legendgroup": "MailOnline",
           "marker": {
            "color": "#ab63fa",
            "size": [
             7
            ],
            "sizemode": "area",
            "sizeref": 3.8625,
            "symbol": "circle"
           },
           "mode": "markers",
           "name": "MailOnline",
           "orientation": "v",
           "showlegend": true,
           "type": "scatter",
           "x": [
            0.0145
           ],
           "xaxis": "x",
           "y": [
            0.4053
           ],
           "yaxis": "y"
          }
         ],
         "name": "2021-07-10"
        },
        {
         "data": [
          {
           "hovertemplate": "<b>%{hovertext}</b><br><br>Username=MailOnline<br>only_date=2021-07-11<br>positive=%{x}<br>negative=%{y}<br>Like Count=%{marker.size}<extra></extra>",
           "hovertext": [
            "MailOnline"
           ],
           "legendgroup": "MailOnline",
           "marker": {
            "color": "#ab63fa",
            "size": [
             23
            ],
            "sizemode": "area",
            "sizeref": 3.8625,
            "symbol": "circle"
           },
           "mode": "markers",
           "name": "MailOnline",
           "orientation": "v",
           "showlegend": true,
           "type": "scatter",
           "x": [
            0.0083
           ],
           "xaxis": "x",
           "y": [
            0.6285
           ],
           "yaxis": "y"
          }
         ],
         "name": "2021-07-11"
        },
        {
         "data": [
          {
           "hovertemplate": "<b>%{hovertext}</b><br><br>Username=DailyMailUK<br>only_date=2021-07-14<br>positive=%{x}<br>negative=%{y}<br>Like Count=%{marker.size}<extra></extra>",
           "hovertext": [
            "DailyMailUK",
            "DailyMailUK",
            "DailyMailUK"
           ],
           "legendgroup": "DailyMailUK",
           "marker": {
            "color": "#636efa",
            "size": [
             22,
             0,
             4
            ],
            "sizemode": "area",
            "sizeref": 3.8625,
            "symbol": "circle"
           },
           "mode": "markers",
           "name": "DailyMailUK",
           "orientation": "v",
           "showlegend": true,
           "type": "scatter",
           "x": [
            0.006,
            0.0214,
            0.008
           ],
           "xaxis": "x",
           "y": [
            0.8051,
            0.5163,
            0.6588
           ],
           "yaxis": "y"
          }
         ],
         "name": "2021-07-14"
        },
        {
         "data": [
          {
           "hovertemplate": "<b>%{hovertext}</b><br><br>Username=TheSun<br>only_date=2021-07-16<br>positive=%{x}<br>negative=%{y}<br>Like Count=%{marker.size}<extra></extra>",
           "hovertext": [
            "TheSun"
           ],
           "legendgroup": "TheSun",
           "marker": {
            "color": "#00cc96",
            "size": [
             2
            ],
            "sizemode": "area",
            "sizeref": 3.8625,
            "symbol": "circle"
           },
           "mode": "markers",
           "name": "TheSun",
           "orientation": "v",
           "showlegend": true,
           "type": "scatter",
           "x": [
            0.0081
           ],
           "xaxis": "x",
           "y": [
            0.8316
           ],
           "yaxis": "y"
          }
         ],
         "name": "2021-07-16"
        },
        {
         "data": [
          {
           "hovertemplate": "<b>%{hovertext}</b><br><br>Username=MailOnline<br>only_date=2021-07-18<br>positive=%{x}<br>negative=%{y}<br>Like Count=%{marker.size}<extra></extra>",
           "hovertext": [
            "MailOnline",
            "MailOnline"
           ],
           "legendgroup": "MailOnline",
           "marker": {
            "color": "#ab63fa",
            "size": [
             19,
             41
            ],
            "sizemode": "area",
            "sizeref": 3.8625,
            "symbol": "circle"
           },
           "mode": "markers",
           "name": "MailOnline",
           "orientation": "v",
           "showlegend": true,
           "type": "scatter",
           "x": [
            0.0214,
            0.0445
           ],
           "xaxis": "x",
           "y": [
            0.189,
            0.0636
           ],
           "yaxis": "y"
          }
         ],
         "name": "2021-07-18"
        },
        {
         "data": [
          {
           "hovertemplate": "<b>%{hovertext}</b><br><br>Username=DailyMailUK<br>only_date=2021-07-19<br>positive=%{x}<br>negative=%{y}<br>Like Count=%{marker.size}<extra></extra>",
           "hovertext": [
            "DailyMailUK"
           ],
           "legendgroup": "DailyMailUK",
           "marker": {
            "color": "#636efa",
            "size": [
             13
            ],
            "sizemode": "area",
            "sizeref": 3.8625,
            "symbol": "circle"
           },
           "mode": "markers",
           "name": "DailyMailUK",
           "orientation": "v",
           "showlegend": true,
           "type": "scatter",
           "x": [
            0.0061
           ],
           "xaxis": "x",
           "y": [
            0.806
           ],
           "yaxis": "y"
          },
          {
           "hovertemplate": "<b>%{hovertext}</b><br><br>Username=Daily_Express<br>only_date=2021-07-19<br>positive=%{x}<br>negative=%{y}<br>Like Count=%{marker.size}<extra></extra>",
           "hovertext": [
            "Daily_Express"
           ],
           "legendgroup": "Daily_Express",
           "marker": {
            "color": "#EF553B",
            "size": [
             1
            ],
            "sizemode": "area",
            "sizeref": 3.8625,
            "symbol": "circle"
           },
           "mode": "markers",
           "name": "Daily_Express",
           "orientation": "v",
           "showlegend": true,
           "type": "scatter",
           "x": [
            0.9197
           ],
           "xaxis": "x",
           "y": [
            0.0024
           ],
           "yaxis": "y"
          }
         ],
         "name": "2021-07-19"
        },
        {
         "data": [
          {
           "hovertemplate": "<b>%{hovertext}</b><br><br>Username=TheSun<br>only_date=2021-07-20<br>positive=%{x}<br>negative=%{y}<br>Like Count=%{marker.size}<extra></extra>",
           "hovertext": [
            "TheSun"
           ],
           "legendgroup": "TheSun",
           "marker": {
            "color": "#00cc96",
            "size": [
             7
            ],
            "sizemode": "area",
            "sizeref": 3.8625,
            "symbol": "circle"
           },
           "mode": "markers",
           "name": "TheSun",
           "orientation": "v",
           "showlegend": true,
           "type": "scatter",
           "x": [
            0.0143
           ],
           "xaxis": "x",
           "y": [
            0.4283
           ],
           "yaxis": "y"
          },
          {
           "hovertemplate": "<b>%{hovertext}</b><br><br>Username=MailOnline<br>only_date=2021-07-20<br>positive=%{x}<br>negative=%{y}<br>Like Count=%{marker.size}<extra></extra>",
           "hovertext": [
            "MailOnline",
            "MailOnline"
           ],
           "legendgroup": "MailOnline",
           "marker": {
            "color": "#ab63fa",
            "size": [
             16,
             7
            ],
            "sizemode": "area",
            "sizeref": 3.8625,
            "symbol": "circle"
           },
           "mode": "markers",
           "name": "MailOnline",
           "orientation": "v",
           "showlegend": true,
           "type": "scatter",
           "x": [
            0.0116,
            0.0119
           ],
           "xaxis": "x",
           "y": [
            0.5982,
            0.4761
           ],
           "yaxis": "y"
          }
         ],
         "name": "2021-07-20"
        },
        {
         "data": [
          {
           "hovertemplate": "<b>%{hovertext}</b><br><br>Username=DailyMailUK<br>only_date=2021-07-21<br>positive=%{x}<br>negative=%{y}<br>Like Count=%{marker.size}<extra></extra>",
           "hovertext": [
            "DailyMailUK"
           ],
           "legendgroup": "DailyMailUK",
           "marker": {
            "color": "#636efa",
            "size": [
             39
            ],
            "sizemode": "area",
            "sizeref": 3.8625,
            "symbol": "circle"
           },
           "mode": "markers",
           "name": "DailyMailUK",
           "orientation": "v",
           "showlegend": true,
           "type": "scatter",
           "x": [
            0.0048
           ],
           "xaxis": "x",
           "y": [
            0.8313
           ],
           "yaxis": "y"
          },
          {
           "hovertemplate": "<b>%{hovertext}</b><br><br>Username=MailOnline<br>only_date=2021-07-21<br>positive=%{x}<br>negative=%{y}<br>Like Count=%{marker.size}<extra></extra>",
           "hovertext": [
            "MailOnline"
           ],
           "legendgroup": "MailOnline",
           "marker": {
            "color": "#ab63fa",
            "size": [
             15
            ],
            "sizemode": "area",
            "sizeref": 3.8625,
            "symbol": "circle"
           },
           "mode": "markers",
           "name": "MailOnline",
           "orientation": "v",
           "showlegend": true,
           "type": "scatter",
           "x": [
            0.0315
           ],
           "xaxis": "x",
           "y": [
            0.1439
           ],
           "yaxis": "y"
          }
         ],
         "name": "2021-07-21"
        },
        {
         "data": [
          {
           "hovertemplate": "<b>%{hovertext}</b><br><br>Username=Daily_Express<br>only_date=2021-07-22<br>positive=%{x}<br>negative=%{y}<br>Like Count=%{marker.size}<extra></extra>",
           "hovertext": [
            "Daily_Express",
            "Daily_Express"
           ],
           "legendgroup": "Daily_Express",
           "marker": {
            "color": "#EF553B",
            "size": [
             0,
             4
            ],
            "sizemode": "area",
            "sizeref": 3.8625,
            "symbol": "circle"
           },
           "mode": "markers",
           "name": "Daily_Express",
           "orientation": "v",
           "showlegend": true,
           "type": "scatter",
           "x": [
            0.0242,
            0.112
           ],
           "xaxis": "x",
           "y": [
            0.1948,
            0.0053
           ],
           "yaxis": "y"
          },
          {
           "hovertemplate": "<b>%{hovertext}</b><br><br>Username=MailOnline<br>only_date=2021-07-22<br>positive=%{x}<br>negative=%{y}<br>Like Count=%{marker.size}<extra></extra>",
           "hovertext": [
            "MailOnline"
           ],
           "legendgroup": "MailOnline",
           "marker": {
            "color": "#ab63fa",
            "size": [
             47
            ],
            "sizemode": "area",
            "sizeref": 3.8625,
            "symbol": "circle"
           },
           "mode": "markers",
           "name": "MailOnline",
           "orientation": "v",
           "showlegend": true,
           "type": "scatter",
           "x": [
            0.0068
           ],
           "xaxis": "x",
           "y": [
            0.7718
           ],
           "yaxis": "y"
          }
         ],
         "name": "2021-07-22"
        },
        {
         "data": [
          {
           "hovertemplate": "<b>%{hovertext}</b><br><br>Username=TheSun<br>only_date=2021-07-24<br>positive=%{x}<br>negative=%{y}<br>Like Count=%{marker.size}<extra></extra>",
           "hovertext": [
            "TheSun"
           ],
           "legendgroup": "TheSun",
           "marker": {
            "color": "#00cc96",
            "size": [
             60
            ],
            "sizemode": "area",
            "sizeref": 3.8625,
            "symbol": "circle"
           },
           "mode": "markers",
           "name": "TheSun",
           "orientation": "v",
           "showlegend": true,
           "type": "scatter",
           "x": [
            0.023
           ],
           "xaxis": "x",
           "y": [
            0.4442
           ],
           "yaxis": "y"
          }
         ],
         "name": "2021-07-24"
        },
        {
         "data": [
          {
           "hovertemplate": "<b>%{hovertext}</b><br><br>Username=MailOnline<br>only_date=2021-07-26<br>positive=%{x}<br>negative=%{y}<br>Like Count=%{marker.size}<extra></extra>",
           "hovertext": [
            "MailOnline"
           ],
           "legendgroup": "MailOnline",
           "marker": {
            "color": "#ab63fa",
            "size": [
             8
            ],
            "sizemode": "area",
            "sizeref": 3.8625,
            "symbol": "circle"
           },
           "mode": "markers",
           "name": "MailOnline",
           "orientation": "v",
           "showlegend": true,
           "type": "scatter",
           "x": [
            0.0163
           ],
           "xaxis": "x",
           "y": [
            0.2263
           ],
           "yaxis": "y"
          }
         ],
         "name": "2021-07-26"
        },
        {
         "data": [
          {
           "hovertemplate": "<b>%{hovertext}</b><br><br>Username=DailyMailUK<br>only_date=2021-07-27<br>positive=%{x}<br>negative=%{y}<br>Like Count=%{marker.size}<extra></extra>",
           "hovertext": [
            "DailyMailUK",
            "DailyMailUK"
           ],
           "legendgroup": "DailyMailUK",
           "marker": {
            "color": "#636efa",
            "size": [
             158,
             34
            ],
            "sizemode": "area",
            "sizeref": 3.8625,
            "symbol": "circle"
           },
           "mode": "markers",
           "name": "DailyMailUK",
           "orientation": "v",
           "showlegend": true,
           "type": "scatter",
           "x": [
            0.0187,
            0.0064
           ],
           "xaxis": "x",
           "y": [
            0.296,
            0.7927
           ],
           "yaxis": "y"
          },
          {
           "hovertemplate": "<b>%{hovertext}</b><br><br>Username=MailOnline<br>only_date=2021-07-27<br>positive=%{x}<br>negative=%{y}<br>Like Count=%{marker.size}<extra></extra>",
           "hovertext": [
            "MailOnline",
            "MailOnline",
            "MailOnline"
           ],
           "legendgroup": "MailOnline",
           "marker": {
            "color": "#ab63fa",
            "size": [
             19,
             26,
             452
            ],
            "sizemode": "area",
            "sizeref": 3.8625,
            "symbol": "circle"
           },
           "mode": "markers",
           "name": "MailOnline",
           "orientation": "v",
           "showlegend": true,
           "type": "scatter",
           "x": [
            0.0102,
            0.0063,
            0.0077
           ],
           "xaxis": "x",
           "y": [
            0.66,
            0.7551,
            0.706
           ],
           "yaxis": "y"
          }
         ],
         "name": "2021-07-27"
        },
        {
         "data": [
          {
           "hovertemplate": "<b>%{hovertext}</b><br><br>Username=MailOnline<br>only_date=2021-07-31<br>positive=%{x}<br>negative=%{y}<br>Like Count=%{marker.size}<extra></extra>",
           "hovertext": [
            "MailOnline"
           ],
           "legendgroup": "MailOnline",
           "marker": {
            "color": "#ab63fa",
            "size": [
             20
            ],
            "sizemode": "area",
            "sizeref": 3.8625,
            "symbol": "circle"
           },
           "mode": "markers",
           "name": "MailOnline",
           "orientation": "v",
           "showlegend": true,
           "type": "scatter",
           "x": [
            0.0048
           ],
           "xaxis": "x",
           "y": [
            0.8298
           ],
           "yaxis": "y"
          }
         ],
         "name": "2021-07-31"
        },
        {
         "data": [
          {
           "hovertemplate": "<b>%{hovertext}</b><br><br>Username=DailyMailUK<br>only_date=2021-08-01<br>positive=%{x}<br>negative=%{y}<br>Like Count=%{marker.size}<extra></extra>",
           "hovertext": [
            "DailyMailUK"
           ],
           "legendgroup": "DailyMailUK",
           "marker": {
            "color": "#636efa",
            "size": [
             7
            ],
            "sizemode": "area",
            "sizeref": 3.8625,
            "symbol": "circle"
           },
           "mode": "markers",
           "name": "DailyMailUK",
           "orientation": "v",
           "showlegend": true,
           "type": "scatter",
           "x": [
            0.0318
           ],
           "xaxis": "x",
           "y": [
            0.2881
           ],
           "yaxis": "y"
          }
         ],
         "name": "2021-08-01"
        },
        {
         "data": [
          {
           "hovertemplate": "<b>%{hovertext}</b><br><br>Username=DailyMailUK<br>only_date=2021-08-02<br>positive=%{x}<br>negative=%{y}<br>Like Count=%{marker.size}<extra></extra>",
           "hovertext": [
            "DailyMailUK",
            "DailyMailUK"
           ],
           "legendgroup": "DailyMailUK",
           "marker": {
            "color": "#636efa",
            "size": [
             13,
             5
            ],
            "sizemode": "area",
            "sizeref": 3.8625,
            "symbol": "circle"
           },
           "mode": "markers",
           "name": "DailyMailUK",
           "orientation": "v",
           "showlegend": true,
           "type": "scatter",
           "x": [
            0.0066,
            0.0235
           ],
           "xaxis": "x",
           "y": [
            0.7125,
            0.31
           ],
           "yaxis": "y"
          }
         ],
         "name": "2021-08-02"
        },
        {
         "data": [
          {
           "hovertemplate": "<b>%{hovertext}</b><br><br>Username=DailyMailUK<br>only_date=2021-08-03<br>positive=%{x}<br>negative=%{y}<br>Like Count=%{marker.size}<extra></extra>",
           "hovertext": [
            "DailyMailUK",
            "DailyMailUK"
           ],
           "legendgroup": "DailyMailUK",
           "marker": {
            "color": "#636efa",
            "size": [
             10,
             2
            ],
            "sizemode": "area",
            "sizeref": 3.8625,
            "symbol": "circle"
           },
           "mode": "markers",
           "name": "DailyMailUK",
           "orientation": "v",
           "showlegend": true,
           "type": "scatter",
           "x": [
            0.0099,
            0.0067
           ],
           "xaxis": "x",
           "y": [
            0.5386,
            0.7727
           ],
           "yaxis": "y"
          }
         ],
         "name": "2021-08-03"
        },
        {
         "data": [
          {
           "hovertemplate": "<b>%{hovertext}</b><br><br>Username=DailyMailUK<br>only_date=2021-08-04<br>positive=%{x}<br>negative=%{y}<br>Like Count=%{marker.size}<extra></extra>",
           "hovertext": [
            "DailyMailUK"
           ],
           "legendgroup": "DailyMailUK",
           "marker": {
            "color": "#636efa",
            "size": [
             4
            ],
            "sizemode": "area",
            "sizeref": 3.8625,
            "symbol": "circle"
           },
           "mode": "markers",
           "name": "DailyMailUK",
           "orientation": "v",
           "showlegend": true,
           "type": "scatter",
           "x": [
            0.0123
           ],
           "xaxis": "x",
           "y": [
            0.5686
           ],
           "yaxis": "y"
          },
          {
           "hovertemplate": "<b>%{hovertext}</b><br><br>Username=TheSun<br>only_date=2021-08-04<br>positive=%{x}<br>negative=%{y}<br>Like Count=%{marker.size}<extra></extra>",
           "hovertext": [
            "TheSun",
            "TheSun"
           ],
           "legendgroup": "TheSun",
           "marker": {
            "color": "#00cc96",
            "size": [
             10,
             6
            ],
            "sizemode": "area",
            "sizeref": 3.8625,
            "symbol": "circle"
           },
           "mode": "markers",
           "name": "TheSun",
           "orientation": "v",
           "showlegend": true,
           "type": "scatter",
           "x": [
            0.0124,
            0.0056
           ],
           "xaxis": "x",
           "y": [
            0.3789,
            0.7956
           ],
           "yaxis": "y"
          }
         ],
         "name": "2021-08-04"
        },
        {
         "data": [
          {
           "hovertemplate": "<b>%{hovertext}</b><br><br>Username=DailyMailUK<br>only_date=2021-08-05<br>positive=%{x}<br>negative=%{y}<br>Like Count=%{marker.size}<extra></extra>",
           "hovertext": [
            "DailyMailUK"
           ],
           "legendgroup": "DailyMailUK",
           "marker": {
            "color": "#636efa",
            "size": [
             7
            ],
            "sizemode": "area",
            "sizeref": 3.8625,
            "symbol": "circle"
           },
           "mode": "markers",
           "name": "DailyMailUK",
           "orientation": "v",
           "showlegend": true,
           "type": "scatter",
           "x": [
            0.0093
           ],
           "xaxis": "x",
           "y": [
            0.3103
           ],
           "yaxis": "y"
          },
          {
           "hovertemplate": "<b>%{hovertext}</b><br><br>Username=Daily_Express<br>only_date=2021-08-05<br>positive=%{x}<br>negative=%{y}<br>Like Count=%{marker.size}<extra></extra>",
           "hovertext": [
            "Daily_Express"
           ],
           "legendgroup": "Daily_Express",
           "marker": {
            "color": "#EF553B",
            "size": [
             4
            ],
            "sizemode": "area",
            "sizeref": 3.8625,
            "symbol": "circle"
           },
           "mode": "markers",
           "name": "Daily_Express",
           "orientation": "v",
           "showlegend": true,
           "type": "scatter",
           "x": [
            0.0054
           ],
           "xaxis": "x",
           "y": [
            0.8927
           ],
           "yaxis": "y"
          }
         ],
         "name": "2021-08-05"
        },
        {
         "data": [
          {
           "hovertemplate": "<b>%{hovertext}</b><br><br>Username=DailyMailUK<br>only_date=2021-08-08<br>positive=%{x}<br>negative=%{y}<br>Like Count=%{marker.size}<extra></extra>",
           "hovertext": [
            "DailyMailUK"
           ],
           "legendgroup": "DailyMailUK",
           "marker": {
            "color": "#636efa",
            "size": [
             487
            ],
            "sizemode": "area",
            "sizeref": 3.8625,
            "symbol": "circle"
           },
           "mode": "markers",
           "name": "DailyMailUK",
           "orientation": "v",
           "showlegend": true,
           "type": "scatter",
           "x": [
            0.0069
           ],
           "xaxis": "x",
           "y": [
            0.7787
           ],
           "yaxis": "y"
          },
          {
           "hovertemplate": "<b>%{hovertext}</b><br><br>Username=MailOnline<br>only_date=2021-08-08<br>positive=%{x}<br>negative=%{y}<br>Like Count=%{marker.size}<extra></extra>",
           "hovertext": [
            "MailOnline"
           ],
           "legendgroup": "MailOnline",
           "marker": {
            "color": "#ab63fa",
            "size": [
             145
            ],
            "sizemode": "area",
            "sizeref": 3.8625,
            "symbol": "circle"
           },
           "mode": "markers",
           "name": "MailOnline",
           "orientation": "v",
           "showlegend": true,
           "type": "scatter",
           "x": [
            0.0097
           ],
           "xaxis": "x",
           "y": [
            0.7536
           ],
           "yaxis": "y"
          }
         ],
         "name": "2021-08-08"
        },
        {
         "data": [
          {
           "hovertemplate": "<b>%{hovertext}</b><br><br>Username=DailyMailUK<br>only_date=2021-08-09<br>positive=%{x}<br>negative=%{y}<br>Like Count=%{marker.size}<extra></extra>",
           "hovertext": [
            "DailyMailUK"
           ],
           "legendgroup": "DailyMailUK",
           "marker": {
            "color": "#636efa",
            "size": [
             17
            ],
            "sizemode": "area",
            "sizeref": 3.8625,
            "symbol": "circle"
           },
           "mode": "markers",
           "name": "DailyMailUK",
           "orientation": "v",
           "showlegend": true,
           "type": "scatter",
           "x": [
            0.0084
           ],
           "xaxis": "x",
           "y": [
            0.663
           ],
           "yaxis": "y"
          }
         ],
         "name": "2021-08-09"
        },
        {
         "data": [
          {
           "hovertemplate": "<b>%{hovertext}</b><br><br>Username=DailyMailUK<br>only_date=2021-08-10<br>positive=%{x}<br>negative=%{y}<br>Like Count=%{marker.size}<extra></extra>",
           "hovertext": [
            "DailyMailUK",
            "DailyMailUK",
            "DailyMailUK"
           ],
           "legendgroup": "DailyMailUK",
           "marker": {
            "color": "#636efa",
            "size": [
             5,
             14,
             13
            ],
            "sizemode": "area",
            "sizeref": 3.8625,
            "symbol": "circle"
           },
           "mode": "markers",
           "name": "DailyMailUK",
           "orientation": "v",
           "showlegend": true,
           "type": "scatter",
           "x": [
            0.0488,
            0.0124,
            0.0229
           ],
           "xaxis": "x",
           "y": [
            0.0529,
            0.23,
            0.3111
           ],
           "yaxis": "y"
          },
          {
           "hovertemplate": "<b>%{hovertext}</b><br><br>Username=TheSun<br>only_date=2021-08-10<br>positive=%{x}<br>negative=%{y}<br>Like Count=%{marker.size}<extra></extra>",
           "hovertext": [
            "TheSun"
           ],
           "legendgroup": "TheSun",
           "marker": {
            "color": "#00cc96",
            "size": [
             14
            ],
            "sizemode": "area",
            "sizeref": 3.8625,
            "symbol": "circle"
           },
           "mode": "markers",
           "name": "TheSun",
           "orientation": "v",
           "showlegend": true,
           "type": "scatter",
           "x": [
            0.0528
           ],
           "xaxis": "x",
           "y": [
            0.0498
           ],
           "yaxis": "y"
          },
          {
           "hovertemplate": "<b>%{hovertext}</b><br><br>Username=MailOnline<br>only_date=2021-08-10<br>positive=%{x}<br>negative=%{y}<br>Like Count=%{marker.size}<extra></extra>",
           "hovertext": [
            "MailOnline"
           ],
           "legendgroup": "MailOnline",
           "marker": {
            "color": "#ab63fa",
            "size": [
             33
            ],
            "sizemode": "area",
            "sizeref": 3.8625,
            "symbol": "circle"
           },
           "mode": "markers",
           "name": "MailOnline",
           "orientation": "v",
           "showlegend": true,
           "type": "scatter",
           "x": [
            0.063
           ],
           "xaxis": "x",
           "y": [
            0.0391
           ],
           "yaxis": "y"
          }
         ],
         "name": "2021-08-10"
        },
        {
         "data": [
          {
           "hovertemplate": "<b>%{hovertext}</b><br><br>Username=DailyMailUK<br>only_date=2021-08-11<br>positive=%{x}<br>negative=%{y}<br>Like Count=%{marker.size}<extra></extra>",
           "hovertext": [
            "DailyMailUK"
           ],
           "legendgroup": "DailyMailUK",
           "marker": {
            "color": "#636efa",
            "size": [
             6
            ],
            "sizemode": "area",
            "sizeref": 3.8625,
            "symbol": "circle"
           },
           "mode": "markers",
           "name": "DailyMailUK",
           "orientation": "v",
           "showlegend": true,
           "type": "scatter",
           "x": [
            0.0113
           ],
           "xaxis": "x",
           "y": [
            0.6568
           ],
           "yaxis": "y"
          },
          {
           "hovertemplate": "<b>%{hovertext}</b><br><br>Username=Daily_Express<br>only_date=2021-08-11<br>positive=%{x}<br>negative=%{y}<br>Like Count=%{marker.size}<extra></extra>",
           "hovertext": [
            "Daily_Express"
           ],
           "legendgroup": "Daily_Express",
           "marker": {
            "color": "#EF553B",
            "size": [
             0
            ],
            "sizemode": "area",
            "sizeref": 3.8625,
            "symbol": "circle"
           },
           "mode": "markers",
           "name": "Daily_Express",
           "orientation": "v",
           "showlegend": true,
           "type": "scatter",
           "x": [
            0.0118
           ],
           "xaxis": "x",
           "y": [
            0.3755
           ],
           "yaxis": "y"
          },
          {
           "hovertemplate": "<b>%{hovertext}</b><br><br>Username=TheSun<br>only_date=2021-08-11<br>positive=%{x}<br>negative=%{y}<br>Like Count=%{marker.size}<extra></extra>",
           "hovertext": [
            "TheSun"
           ],
           "legendgroup": "TheSun",
           "marker": {
            "color": "#00cc96",
            "size": [
             9
            ],
            "sizemode": "area",
            "sizeref": 3.8625,
            "symbol": "circle"
           },
           "mode": "markers",
           "name": "TheSun",
           "orientation": "v",
           "showlegend": true,
           "type": "scatter",
           "x": [
            0.0064
           ],
           "xaxis": "x",
           "y": [
            0.6947
           ],
           "yaxis": "y"
          },
          {
           "hovertemplate": "<b>%{hovertext}</b><br><br>Username=MailOnline<br>only_date=2021-08-11<br>positive=%{x}<br>negative=%{y}<br>Like Count=%{marker.size}<extra></extra>",
           "hovertext": [
            "MailOnline"
           ],
           "legendgroup": "MailOnline",
           "marker": {
            "color": "#ab63fa",
            "size": [
             15
            ],
            "sizemode": "area",
            "sizeref": 3.8625,
            "symbol": "circle"
           },
           "mode": "markers",
           "name": "MailOnline",
           "orientation": "v",
           "showlegend": true,
           "type": "scatter",
           "x": [
            0.0116
           ],
           "xaxis": "x",
           "y": [
            0.599
           ],
           "yaxis": "y"
          }
         ],
         "name": "2021-08-11"
        },
        {
         "data": [
          {
           "hovertemplate": "<b>%{hovertext}</b><br><br>Username=DailyMailUK<br>only_date=2021-08-12<br>positive=%{x}<br>negative=%{y}<br>Like Count=%{marker.size}<extra></extra>",
           "hovertext": [
            "DailyMailUK"
           ],
           "legendgroup": "DailyMailUK",
           "marker": {
            "color": "#636efa",
            "size": [
             6
            ],
            "sizemode": "area",
            "sizeref": 3.8625,
            "symbol": "circle"
           },
           "mode": "markers",
           "name": "DailyMailUK",
           "orientation": "v",
           "showlegend": true,
           "type": "scatter",
           "x": [
            0.0162
           ],
           "xaxis": "x",
           "y": [
            0.5095
           ],
           "yaxis": "y"
          },
          {
           "hovertemplate": "<b>%{hovertext}</b><br><br>Username=MailOnline<br>only_date=2021-08-12<br>positive=%{x}<br>negative=%{y}<br>Like Count=%{marker.size}<extra></extra>",
           "hovertext": [
            "MailOnline"
           ],
           "legendgroup": "MailOnline",
           "marker": {
            "color": "#ab63fa",
            "size": [
             7
            ],
            "sizemode": "area",
            "sizeref": 3.8625,
            "symbol": "circle"
           },
           "mode": "markers",
           "name": "MailOnline",
           "orientation": "v",
           "showlegend": true,
           "type": "scatter",
           "x": [
            0.0358
           ],
           "xaxis": "x",
           "y": [
            0.3237
           ],
           "yaxis": "y"
          }
         ],
         "name": "2021-08-12"
        },
        {
         "data": [
          {
           "hovertemplate": "<b>%{hovertext}</b><br><br>Username=DailyMailUK<br>only_date=2021-08-13<br>positive=%{x}<br>negative=%{y}<br>Like Count=%{marker.size}<extra></extra>",
           "hovertext": [
            "DailyMailUK",
            "DailyMailUK",
            "DailyMailUK"
           ],
           "legendgroup": "DailyMailUK",
           "marker": {
            "color": "#636efa",
            "size": [
             8,
             17,
             20
            ],
            "sizemode": "area",
            "sizeref": 3.8625,
            "symbol": "circle"
           },
           "mode": "markers",
           "name": "DailyMailUK",
           "orientation": "v",
           "showlegend": true,
           "type": "scatter",
           "x": [
            0.0081,
            0.0117,
            0.0143
           ],
           "xaxis": "x",
           "y": [
            0.7532,
            0.5851,
            0.3611
           ],
           "yaxis": "y"
          },
          {
           "hovertemplate": "<b>%{hovertext}</b><br><br>Username=TheSun<br>only_date=2021-08-13<br>positive=%{x}<br>negative=%{y}<br>Like Count=%{marker.size}<extra></extra>",
           "hovertext": [
            "TheSun"
           ],
           "legendgroup": "TheSun",
           "marker": {
            "color": "#00cc96",
            "size": [
             4
            ],
            "sizemode": "area",
            "sizeref": 3.8625,
            "symbol": "circle"
           },
           "mode": "markers",
           "name": "TheSun",
           "orientation": "v",
           "showlegend": true,
           "type": "scatter",
           "x": [
            0.0063
           ],
           "xaxis": "x",
           "y": [
            0.8162
           ],
           "yaxis": "y"
          }
         ],
         "name": "2021-08-13"
        },
        {
         "data": [
          {
           "hovertemplate": "<b>%{hovertext}</b><br><br>Username=DailyMailUK<br>only_date=2021-08-15<br>positive=%{x}<br>negative=%{y}<br>Like Count=%{marker.size}<extra></extra>",
           "hovertext": [
            "DailyMailUK",
            "DailyMailUK"
           ],
           "legendgroup": "DailyMailUK",
           "marker": {
            "color": "#636efa",
            "size": [
             25,
             17
            ],
            "sizemode": "area",
            "sizeref": 3.8625,
            "symbol": "circle"
           },
           "mode": "markers",
           "name": "DailyMailUK",
           "orientation": "v",
           "showlegend": true,
           "type": "scatter",
           "x": [
            0.0066,
            0.013
           ],
           "xaxis": "x",
           "y": [
            0.7618,
            0.3743
           ],
           "yaxis": "y"
          },
          {
           "hovertemplate": "<b>%{hovertext}</b><br><br>Username=Daily_Express<br>only_date=2021-08-15<br>positive=%{x}<br>negative=%{y}<br>Like Count=%{marker.size}<extra></extra>",
           "hovertext": [
            "Daily_Express"
           ],
           "legendgroup": "Daily_Express",
           "marker": {
            "color": "#EF553B",
            "size": [
             4
            ],
            "sizemode": "area",
            "sizeref": 3.8625,
            "symbol": "circle"
           },
           "mode": "markers",
           "name": "Daily_Express",
           "orientation": "v",
           "showlegend": true,
           "type": "scatter",
           "x": [
            0.0158
           ],
           "xaxis": "x",
           "y": [
            0.2101
           ],
           "yaxis": "y"
          }
         ],
         "name": "2021-08-15"
        },
        {
         "data": [
          {
           "hovertemplate": "<b>%{hovertext}</b><br><br>Username=DailyMailUK<br>only_date=2021-08-16<br>positive=%{x}<br>negative=%{y}<br>Like Count=%{marker.size}<extra></extra>",
           "hovertext": [
            "DailyMailUK"
           ],
           "legendgroup": "DailyMailUK",
           "marker": {
            "color": "#636efa",
            "size": [
             8
            ],
            "sizemode": "area",
            "sizeref": 3.8625,
            "symbol": "circle"
           },
           "mode": "markers",
           "name": "DailyMailUK",
           "orientation": "v",
           "showlegend": true,
           "type": "scatter",
           "x": [
            0.0058
           ],
           "xaxis": "x",
           "y": [
            0.7631
           ],
           "yaxis": "y"
          },
          {
           "hovertemplate": "<b>%{hovertext}</b><br><br>Username=Daily_Express<br>only_date=2021-08-16<br>positive=%{x}<br>negative=%{y}<br>Like Count=%{marker.size}<extra></extra>",
           "hovertext": [
            "Daily_Express"
           ],
           "legendgroup": "Daily_Express",
           "marker": {
            "color": "#EF553B",
            "size": [
             8
            ],
            "sizemode": "area",
            "sizeref": 3.8625,
            "symbol": "circle"
           },
           "mode": "markers",
           "name": "Daily_Express",
           "orientation": "v",
           "showlegend": true,
           "type": "scatter",
           "x": [
            0.0101
           ],
           "xaxis": "x",
           "y": [
            0.7209
           ],
           "yaxis": "y"
          },
          {
           "hovertemplate": "<b>%{hovertext}</b><br><br>Username=MailOnline<br>only_date=2021-08-16<br>positive=%{x}<br>negative=%{y}<br>Like Count=%{marker.size}<extra></extra>",
           "hovertext": [
            "MailOnline",
            "MailOnline"
           ],
           "legendgroup": "MailOnline",
           "marker": {
            "color": "#ab63fa",
            "size": [
             27,
             15
            ],
            "sizemode": "area",
            "sizeref": 3.8625,
            "symbol": "circle"
           },
           "mode": "markers",
           "name": "MailOnline",
           "orientation": "v",
           "showlegend": true,
           "type": "scatter",
           "x": [
            0.0155,
            0.0058
           ],
           "xaxis": "x",
           "y": [
            0.4096,
            0.8242
           ],
           "yaxis": "y"
          }
         ],
         "name": "2021-08-16"
        },
        {
         "data": [
          {
           "hovertemplate": "<b>%{hovertext}</b><br><br>Username=DailyMailUK<br>only_date=2021-08-17<br>positive=%{x}<br>negative=%{y}<br>Like Count=%{marker.size}<extra></extra>",
           "hovertext": [
            "DailyMailUK"
           ],
           "legendgroup": "DailyMailUK",
           "marker": {
            "color": "#636efa",
            "size": [
             6
            ],
            "sizemode": "area",
            "sizeref": 3.8625,
            "symbol": "circle"
           },
           "mode": "markers",
           "name": "DailyMailUK",
           "orientation": "v",
           "showlegend": true,
           "type": "scatter",
           "x": [
            0.1439
           ],
           "xaxis": "x",
           "y": [
            0.1586
           ],
           "yaxis": "y"
          },
          {
           "hovertemplate": "<b>%{hovertext}</b><br><br>Username=Daily_Express<br>only_date=2021-08-17<br>positive=%{x}<br>negative=%{y}<br>Like Count=%{marker.size}<extra></extra>",
           "hovertext": [
            "Daily_Express"
           ],
           "legendgroup": "Daily_Express",
           "marker": {
            "color": "#EF553B",
            "size": [
             21
            ],
            "sizemode": "area",
            "sizeref": 3.8625,
            "symbol": "circle"
           },
           "mode": "markers",
           "name": "Daily_Express",
           "orientation": "v",
           "showlegend": true,
           "type": "scatter",
           "x": [
            0.6107
           ],
           "xaxis": "x",
           "y": [
            0.0072
           ],
           "yaxis": "y"
          },
          {
           "hovertemplate": "<b>%{hovertext}</b><br><br>Username=TheSun<br>only_date=2021-08-17<br>positive=%{x}<br>negative=%{y}<br>Like Count=%{marker.size}<extra></extra>",
           "hovertext": [
            "TheSun",
            "TheSun"
           ],
           "legendgroup": "TheSun",
           "marker": {
            "color": "#00cc96",
            "size": [
             92,
             21
            ],
            "sizemode": "area",
            "sizeref": 3.8625,
            "symbol": "circle"
           },
           "mode": "markers",
           "name": "TheSun",
           "orientation": "v",
           "showlegend": true,
           "type": "scatter",
           "x": [
            0.0515,
            0.0083
           ],
           "xaxis": "x",
           "y": [
            0.0505,
            0.643
           ],
           "yaxis": "y"
          },
          {
           "hovertemplate": "<b>%{hovertext}</b><br><br>Username=MailOnline<br>only_date=2021-08-17<br>positive=%{x}<br>negative=%{y}<br>Like Count=%{marker.size}<extra></extra>",
           "hovertext": [
            "MailOnline",
            "MailOnline",
            "MailOnline",
            "MailOnline"
           ],
           "legendgroup": "MailOnline",
           "marker": {
            "color": "#ab63fa",
            "size": [
             30,
             87,
             21,
             25
            ],
            "sizemode": "area",
            "sizeref": 3.8625,
            "symbol": "circle"
           },
           "mode": "markers",
           "name": "MailOnline",
           "orientation": "v",
           "showlegend": true,
           "type": "scatter",
           "x": [
            0.0084,
            0.1615,
            0.007,
            0.0125
           ],
           "xaxis": "x",
           "y": [
            0.6544,
            0.0264,
            0.7173,
            0.7315
           ],
           "yaxis": "y"
          }
         ],
         "name": "2021-08-17"
        },
        {
         "data": [
          {
           "hovertemplate": "<b>%{hovertext}</b><br><br>Username=Daily_Express<br>only_date=2021-08-18<br>positive=%{x}<br>negative=%{y}<br>Like Count=%{marker.size}<extra></extra>",
           "hovertext": [
            "Daily_Express"
           ],
           "legendgroup": "Daily_Express",
           "marker": {
            "color": "#EF553B",
            "size": [
             4
            ],
            "sizemode": "area",
            "sizeref": 3.8625,
            "symbol": "circle"
           },
           "mode": "markers",
           "name": "Daily_Express",
           "orientation": "v",
           "showlegend": true,
           "type": "scatter",
           "x": [
            0.0341
           ],
           "xaxis": "x",
           "y": [
            0.155
           ],
           "yaxis": "y"
          },
          {
           "hovertemplate": "<b>%{hovertext}</b><br><br>Username=TheSun<br>only_date=2021-08-18<br>positive=%{x}<br>negative=%{y}<br>Like Count=%{marker.size}<extra></extra>",
           "hovertext": [
            "TheSun"
           ],
           "legendgroup": "TheSun",
           "marker": {
            "color": "#00cc96",
            "size": [
             36
            ],
            "sizemode": "area",
            "sizeref": 3.8625,
            "symbol": "circle"
           },
           "mode": "markers",
           "name": "TheSun",
           "orientation": "v",
           "showlegend": true,
           "type": "scatter",
           "x": [
            0.0561
           ],
           "xaxis": "x",
           "y": [
            0.0548
           ],
           "yaxis": "y"
          },
          {
           "hovertemplate": "<b>%{hovertext}</b><br><br>Username=MailOnline<br>only_date=2021-08-18<br>positive=%{x}<br>negative=%{y}<br>Like Count=%{marker.size}<extra></extra>",
           "hovertext": [
            "MailOnline"
           ],
           "legendgroup": "MailOnline",
           "marker": {
            "color": "#ab63fa",
            "size": [
             25
            ],
            "sizemode": "area",
            "sizeref": 3.8625,
            "symbol": "circle"
           },
           "mode": "markers",
           "name": "MailOnline",
           "orientation": "v",
           "showlegend": true,
           "type": "scatter",
           "x": [
            0.0067
           ],
           "xaxis": "x",
           "y": [
            0.8064
           ],
           "yaxis": "y"
          }
         ],
         "name": "2021-08-18"
        },
        {
         "data": [
          {
           "hovertemplate": "<b>%{hovertext}</b><br><br>Username=DailyMailUK<br>only_date=2021-08-19<br>positive=%{x}<br>negative=%{y}<br>Like Count=%{marker.size}<extra></extra>",
           "hovertext": [
            "DailyMailUK"
           ],
           "legendgroup": "DailyMailUK",
           "marker": {
            "color": "#636efa",
            "size": [
             12
            ],
            "sizemode": "area",
            "sizeref": 3.8625,
            "symbol": "circle"
           },
           "mode": "markers",
           "name": "DailyMailUK",
           "orientation": "v",
           "showlegend": true,
           "type": "scatter",
           "x": [
            0.0072
           ],
           "xaxis": "x",
           "y": [
            0.6325
           ],
           "yaxis": "y"
          },
          {
           "hovertemplate": "<b>%{hovertext}</b><br><br>Username=MailOnline<br>only_date=2021-08-19<br>positive=%{x}<br>negative=%{y}<br>Like Count=%{marker.size}<extra></extra>",
           "hovertext": [
            "MailOnline",
            "MailOnline"
           ],
           "legendgroup": "MailOnline",
           "marker": {
            "color": "#ab63fa",
            "size": [
             20,
             22
            ],
            "sizemode": "area",
            "sizeref": 3.8625,
            "symbol": "circle"
           },
           "mode": "markers",
           "name": "MailOnline",
           "orientation": "v",
           "showlegend": true,
           "type": "scatter",
           "x": [
            0.0089,
            0.0078
           ],
           "xaxis": "x",
           "y": [
            0.5967,
            0.8086
           ],
           "yaxis": "y"
          }
         ],
         "name": "2021-08-19"
        },
        {
         "data": [
          {
           "hovertemplate": "<b>%{hovertext}</b><br><br>Username=DailyMailUK<br>only_date=2021-08-20<br>positive=%{x}<br>negative=%{y}<br>Like Count=%{marker.size}<extra></extra>",
           "hovertext": [
            "DailyMailUK",
            "DailyMailUK",
            "DailyMailUK"
           ],
           "legendgroup": "DailyMailUK",
           "marker": {
            "color": "#636efa",
            "size": [
             3,
             26,
             2
            ],
            "sizemode": "area",
            "sizeref": 3.8625,
            "symbol": "circle"
           },
           "mode": "markers",
           "name": "DailyMailUK",
           "orientation": "v",
           "showlegend": true,
           "type": "scatter",
           "x": [
            0.0168,
            0.0295,
            0.0145
           ],
           "xaxis": "x",
           "y": [
            0.585,
            0.2036,
            0.402
           ],
           "yaxis": "y"
          }
         ],
         "name": "2021-08-20"
        },
        {
         "data": [
          {
           "hovertemplate": "<b>%{hovertext}</b><br><br>Username=DailyMailUK<br>only_date=2021-08-21<br>positive=%{x}<br>negative=%{y}<br>Like Count=%{marker.size}<extra></extra>",
           "hovertext": [
            "DailyMailUK"
           ],
           "legendgroup": "DailyMailUK",
           "marker": {
            "color": "#636efa",
            "size": [
             9
            ],
            "sizemode": "area",
            "sizeref": 3.8625,
            "symbol": "circle"
           },
           "mode": "markers",
           "name": "DailyMailUK",
           "orientation": "v",
           "showlegend": true,
           "type": "scatter",
           "x": [
            0.0062
           ],
           "xaxis": "x",
           "y": [
            0.8793
           ],
           "yaxis": "y"
          },
          {
           "hovertemplate": "<b>%{hovertext}</b><br><br>Username=Daily_Express<br>only_date=2021-08-21<br>positive=%{x}<br>negative=%{y}<br>Like Count=%{marker.size}<extra></extra>",
           "hovertext": [
            "Daily_Express"
           ],
           "legendgroup": "Daily_Express",
           "marker": {
            "color": "#EF553B",
            "size": [
             17
            ],
            "sizemode": "area",
            "sizeref": 3.8625,
            "symbol": "circle"
           },
           "mode": "markers",
           "name": "Daily_Express",
           "orientation": "v",
           "showlegend": true,
           "type": "scatter",
           "x": [
            0.0071
           ],
           "xaxis": "x",
           "y": [
            0.6671
           ],
           "yaxis": "y"
          }
         ],
         "name": "2021-08-21"
        },
        {
         "data": [
          {
           "hovertemplate": "<b>%{hovertext}</b><br><br>Username=DailyMailUK<br>only_date=2021-08-22<br>positive=%{x}<br>negative=%{y}<br>Like Count=%{marker.size}<extra></extra>",
           "hovertext": [
            "DailyMailUK"
           ],
           "legendgroup": "DailyMailUK",
           "marker": {
            "color": "#636efa",
            "size": [
             55
            ],
            "sizemode": "area",
            "sizeref": 3.8625,
            "symbol": "circle"
           },
           "mode": "markers",
           "name": "DailyMailUK",
           "orientation": "v",
           "showlegend": true,
           "type": "scatter",
           "x": [
            0.0085
           ],
           "xaxis": "x",
           "y": [
            0.539
           ],
           "yaxis": "y"
          },
          {
           "hovertemplate": "<b>%{hovertext}</b><br><br>Username=Daily_Express<br>only_date=2021-08-22<br>positive=%{x}<br>negative=%{y}<br>Like Count=%{marker.size}<extra></extra>",
           "hovertext": [
            "Daily_Express"
           ],
           "legendgroup": "Daily_Express",
           "marker": {
            "color": "#EF553B",
            "size": [
             3
            ],
            "sizemode": "area",
            "sizeref": 3.8625,
            "symbol": "circle"
           },
           "mode": "markers",
           "name": "Daily_Express",
           "orientation": "v",
           "showlegend": true,
           "type": "scatter",
           "x": [
            0.007
           ],
           "xaxis": "x",
           "y": [
            0.8106
           ],
           "yaxis": "y"
          }
         ],
         "name": "2021-08-22"
        },
        {
         "data": [
          {
           "hovertemplate": "<b>%{hovertext}</b><br><br>Username=DailyMailUK<br>only_date=2021-08-23<br>positive=%{x}<br>negative=%{y}<br>Like Count=%{marker.size}<extra></extra>",
           "hovertext": [
            "DailyMailUK",
            "DailyMailUK"
           ],
           "legendgroup": "DailyMailUK",
           "marker": {
            "color": "#636efa",
            "size": [
             27,
             39
            ],
            "sizemode": "area",
            "sizeref": 3.8625,
            "symbol": "circle"
           },
           "mode": "markers",
           "name": "DailyMailUK",
           "orientation": "v",
           "showlegend": true,
           "type": "scatter",
           "x": [
            0.0387,
            0.6
           ],
           "xaxis": "x",
           "y": [
            0.1669,
            0.0092
           ],
           "yaxis": "y"
          },
          {
           "hovertemplate": "<b>%{hovertext}</b><br><br>Username=MailOnline<br>only_date=2021-08-23<br>positive=%{x}<br>negative=%{y}<br>Like Count=%{marker.size}<extra></extra>",
           "hovertext": [
            "MailOnline"
           ],
           "legendgroup": "MailOnline",
           "marker": {
            "color": "#ab63fa",
            "size": [
             257
            ],
            "sizemode": "area",
            "sizeref": 3.8625,
            "symbol": "circle"
           },
           "mode": "markers",
           "name": "MailOnline",
           "orientation": "v",
           "showlegend": true,
           "type": "scatter",
           "x": [
            0.0057
           ],
           "xaxis": "x",
           "y": [
            0.7611
           ],
           "yaxis": "y"
          }
         ],
         "name": "2021-08-23"
        },
        {
         "data": [
          {
           "hovertemplate": "<b>%{hovertext}</b><br><br>Username=DailyMailUK<br>only_date=2021-08-24<br>positive=%{x}<br>negative=%{y}<br>Like Count=%{marker.size}<extra></extra>",
           "hovertext": [
            "DailyMailUK",
            "DailyMailUK"
           ],
           "legendgroup": "DailyMailUK",
           "marker": {
            "color": "#636efa",
            "size": [
             6,
             117
            ],
            "sizemode": "area",
            "sizeref": 3.8625,
            "symbol": "circle"
           },
           "mode": "markers",
           "name": "DailyMailUK",
           "orientation": "v",
           "showlegend": true,
           "type": "scatter",
           "x": [
            0.0165,
            0.0072
           ],
           "xaxis": "x",
           "y": [
            0.4475,
            0.748
           ],
           "yaxis": "y"
          },
          {
           "hovertemplate": "<b>%{hovertext}</b><br><br>Username=Daily_Express<br>only_date=2021-08-24<br>positive=%{x}<br>negative=%{y}<br>Like Count=%{marker.size}<extra></extra>",
           "hovertext": [
            "Daily_Express"
           ],
           "legendgroup": "Daily_Express",
           "marker": {
            "color": "#EF553B",
            "size": [
             0
            ],
            "sizemode": "area",
            "sizeref": 3.8625,
            "symbol": "circle"
           },
           "mode": "markers",
           "name": "Daily_Express",
           "orientation": "v",
           "showlegend": true,
           "type": "scatter",
           "x": [
            0.0085
           ],
           "xaxis": "x",
           "y": [
            0.7393
           ],
           "yaxis": "y"
          },
          {
           "hovertemplate": "<b>%{hovertext}</b><br><br>Username=MailOnline<br>only_date=2021-08-24<br>positive=%{x}<br>negative=%{y}<br>Like Count=%{marker.size}<extra></extra>",
           "hovertext": [
            "MailOnline",
            "MailOnline"
           ],
           "legendgroup": "MailOnline",
           "marker": {
            "color": "#ab63fa",
            "size": [
             73,
             33
            ],
            "sizemode": "area",
            "sizeref": 3.8625,
            "symbol": "circle"
           },
           "mode": "markers",
           "name": "MailOnline",
           "orientation": "v",
           "showlegend": true,
           "type": "scatter",
           "x": [
            0.0052,
            0.0129
           ],
           "xaxis": "x",
           "y": [
            0.8897,
            0.5095
           ],
           "yaxis": "y"
          }
         ],
         "name": "2021-08-24"
        },
        {
         "data": [
          {
           "hovertemplate": "<b>%{hovertext}</b><br><br>Username=Daily_Express<br>only_date=2021-08-25<br>positive=%{x}<br>negative=%{y}<br>Like Count=%{marker.size}<extra></extra>",
           "hovertext": [
            "Daily_Express"
           ],
           "legendgroup": "Daily_Express",
           "marker": {
            "color": "#EF553B",
            "size": [
             2
            ],
            "sizemode": "area",
            "sizeref": 3.8625,
            "symbol": "circle"
           },
           "mode": "markers",
           "name": "Daily_Express",
           "orientation": "v",
           "showlegend": true,
           "type": "scatter",
           "x": [
            0.0051
           ],
           "xaxis": "x",
           "y": [
            0.8548
           ],
           "yaxis": "y"
          }
         ],
         "name": "2021-08-25"
        },
        {
         "data": [
          {
           "hovertemplate": "<b>%{hovertext}</b><br><br>Username=TheSun<br>only_date=2021-08-26<br>positive=%{x}<br>negative=%{y}<br>Like Count=%{marker.size}<extra></extra>",
           "hovertext": [
            "TheSun",
            "TheSun"
           ],
           "legendgroup": "TheSun",
           "marker": {
            "color": "#00cc96",
            "size": [
             19,
             8
            ],
            "sizemode": "area",
            "sizeref": 3.8625,
            "symbol": "circle"
           },
           "mode": "markers",
           "name": "TheSun",
           "orientation": "v",
           "showlegend": true,
           "type": "scatter",
           "x": [
            0.0062,
            0.0065
           ],
           "xaxis": "x",
           "y": [
            0.7755,
            0.7184
           ],
           "yaxis": "y"
          }
         ],
         "name": "2021-08-26"
        },
        {
         "data": [
          {
           "hovertemplate": "<b>%{hovertext}</b><br><br>Username=Daily_Express<br>only_date=2021-08-29<br>positive=%{x}<br>negative=%{y}<br>Like Count=%{marker.size}<extra></extra>",
           "hovertext": [
            "Daily_Express"
           ],
           "legendgroup": "Daily_Express",
           "marker": {
            "color": "#EF553B",
            "size": [
             3
            ],
            "sizemode": "area",
            "sizeref": 3.8625,
            "symbol": "circle"
           },
           "mode": "markers",
           "name": "Daily_Express",
           "orientation": "v",
           "showlegend": true,
           "type": "scatter",
           "x": [
            0.0171
           ],
           "xaxis": "x",
           "y": [
            0.4798
           ],
           "yaxis": "y"
          },
          {
           "hovertemplate": "<b>%{hovertext}</b><br><br>Username=MailOnline<br>only_date=2021-08-29<br>positive=%{x}<br>negative=%{y}<br>Like Count=%{marker.size}<extra></extra>",
           "hovertext": [
            "MailOnline",
            "MailOnline"
           ],
           "legendgroup": "MailOnline",
           "marker": {
            "color": "#ab63fa",
            "size": [
             48,
             23
            ],
            "sizemode": "area",
            "sizeref": 3.8625,
            "symbol": "circle"
           },
           "mode": "markers",
           "name": "MailOnline",
           "orientation": "v",
           "showlegend": true,
           "type": "scatter",
           "x": [
            0.0078,
            0.0072
           ],
           "xaxis": "x",
           "y": [
            0.6842,
            0.7077
           ],
           "yaxis": "y"
          }
         ],
         "name": "2021-08-29"
        },
        {
         "data": [
          {
           "hovertemplate": "<b>%{hovertext}</b><br><br>Username=DailyMailUK<br>only_date=2021-08-30<br>positive=%{x}<br>negative=%{y}<br>Like Count=%{marker.size}<extra></extra>",
           "hovertext": [
            "DailyMailUK"
           ],
           "legendgroup": "DailyMailUK",
           "marker": {
            "color": "#636efa",
            "size": [
             19
            ],
            "sizemode": "area",
            "sizeref": 3.8625,
            "symbol": "circle"
           },
           "mode": "markers",
           "name": "DailyMailUK",
           "orientation": "v",
           "showlegend": true,
           "type": "scatter",
           "x": [
            0.0353
           ],
           "xaxis": "x",
           "y": [
            0.1847
           ],
           "yaxis": "y"
          },
          {
           "hovertemplate": "<b>%{hovertext}</b><br><br>Username=Daily_Express<br>only_date=2021-08-30<br>positive=%{x}<br>negative=%{y}<br>Like Count=%{marker.size}<extra></extra>",
           "hovertext": [
            "Daily_Express",
            "Daily_Express"
           ],
           "legendgroup": "Daily_Express",
           "marker": {
            "color": "#EF553B",
            "size": [
             1,
             3
            ],
            "sizemode": "area",
            "sizeref": 3.8625,
            "symbol": "circle"
           },
           "mode": "markers",
           "name": "Daily_Express",
           "orientation": "v",
           "showlegend": true,
           "type": "scatter",
           "x": [
            0.0057,
            0.0056
           ],
           "xaxis": "x",
           "y": [
            0.8034,
            0.7949
           ],
           "yaxis": "y"
          }
         ],
         "name": "2021-08-30"
        },
        {
         "data": [
          {
           "hovertemplate": "<b>%{hovertext}</b><br><br>Username=DailyMailUK<br>only_date=2021-08-31<br>positive=%{x}<br>negative=%{y}<br>Like Count=%{marker.size}<extra></extra>",
           "hovertext": [
            "DailyMailUK"
           ],
           "legendgroup": "DailyMailUK",
           "marker": {
            "color": "#636efa",
            "size": [
             31
            ],
            "sizemode": "area",
            "sizeref": 3.8625,
            "symbol": "circle"
           },
           "mode": "markers",
           "name": "DailyMailUK",
           "orientation": "v",
           "showlegend": true,
           "type": "scatter",
           "x": [
            0.0096
           ],
           "xaxis": "x",
           "y": [
            0.6541
           ],
           "yaxis": "y"
          },
          {
           "hovertemplate": "<b>%{hovertext}</b><br><br>Username=MailOnline<br>only_date=2021-08-31<br>positive=%{x}<br>negative=%{y}<br>Like Count=%{marker.size}<extra></extra>",
           "hovertext": [
            "MailOnline"
           ],
           "legendgroup": "MailOnline",
           "marker": {
            "color": "#ab63fa",
            "size": [
             28
            ],
            "sizemode": "area",
            "sizeref": 3.8625,
            "symbol": "circle"
           },
           "mode": "markers",
           "name": "MailOnline",
           "orientation": "v",
           "showlegend": true,
           "type": "scatter",
           "x": [
            0.0163
           ],
           "xaxis": "x",
           "y": [
            0.544
           ],
           "yaxis": "y"
          }
         ],
         "name": "2021-08-31"
        },
        {
         "data": [
          {
           "hovertemplate": "<b>%{hovertext}</b><br><br>Username=MailOnline<br>only_date=2021-09-01<br>positive=%{x}<br>negative=%{y}<br>Like Count=%{marker.size}<extra></extra>",
           "hovertext": [
            "MailOnline"
           ],
           "legendgroup": "MailOnline",
           "marker": {
            "color": "#ab63fa",
            "size": [
             9
            ],
            "sizemode": "area",
            "sizeref": 3.8625,
            "symbol": "circle"
           },
           "mode": "markers",
           "name": "MailOnline",
           "orientation": "v",
           "showlegend": true,
           "type": "scatter",
           "x": [
            0.0048
           ],
           "xaxis": "x",
           "y": [
            0.7855
           ],
           "yaxis": "y"
          }
         ],
         "name": "2021-09-01"
        },
        {
         "data": [
          {
           "hovertemplate": "<b>%{hovertext}</b><br><br>Username=DailyMailUK<br>only_date=2021-09-02<br>positive=%{x}<br>negative=%{y}<br>Like Count=%{marker.size}<extra></extra>",
           "hovertext": [
            "DailyMailUK"
           ],
           "legendgroup": "DailyMailUK",
           "marker": {
            "color": "#636efa",
            "size": [
             13
            ],
            "sizemode": "area",
            "sizeref": 3.8625,
            "symbol": "circle"
           },
           "mode": "markers",
           "name": "DailyMailUK",
           "orientation": "v",
           "showlegend": true,
           "type": "scatter",
           "x": [
            0.0063
           ],
           "xaxis": "x",
           "y": [
            0.7358
           ],
           "yaxis": "y"
          }
         ],
         "name": "2021-09-02"
        },
        {
         "data": [
          {
           "hovertemplate": "<b>%{hovertext}</b><br><br>Username=Daily_Express<br>only_date=2021-09-03<br>positive=%{x}<br>negative=%{y}<br>Like Count=%{marker.size}<extra></extra>",
           "hovertext": [
            "Daily_Express"
           ],
           "legendgroup": "Daily_Express",
           "marker": {
            "color": "#EF553B",
            "size": [
             5
            ],
            "sizemode": "area",
            "sizeref": 3.8625,
            "symbol": "circle"
           },
           "mode": "markers",
           "name": "Daily_Express",
           "orientation": "v",
           "showlegend": true,
           "type": "scatter",
           "x": [
            0.0054
           ],
           "xaxis": "x",
           "y": [
            0.8442
           ],
           "yaxis": "y"
          },
          {
           "hovertemplate": "<b>%{hovertext}</b><br><br>Username=MailOnline<br>only_date=2021-09-03<br>positive=%{x}<br>negative=%{y}<br>Like Count=%{marker.size}<extra></extra>",
           "hovertext": [
            "MailOnline",
            "MailOnline"
           ],
           "legendgroup": "MailOnline",
           "marker": {
            "color": "#ab63fa",
            "size": [
             42,
             7
            ],
            "sizemode": "area",
            "sizeref": 3.8625,
            "symbol": "circle"
           },
           "mode": "markers",
           "name": "MailOnline",
           "orientation": "v",
           "showlegend": true,
           "type": "scatter",
           "x": [
            0.037,
            0.0073
           ],
           "xaxis": "x",
           "y": [
            0.1426,
            0.7977
           ],
           "yaxis": "y"
          }
         ],
         "name": "2021-09-03"
        },
        {
         "data": [
          {
           "hovertemplate": "<b>%{hovertext}</b><br><br>Username=TheSun<br>only_date=2021-09-04<br>positive=%{x}<br>negative=%{y}<br>Like Count=%{marker.size}<extra></extra>",
           "hovertext": [
            "TheSun"
           ],
           "legendgroup": "TheSun",
           "marker": {
            "color": "#00cc96",
            "size": [
             14
            ],
            "sizemode": "area",
            "sizeref": 3.8625,
            "symbol": "circle"
           },
           "mode": "markers",
           "name": "TheSun",
           "orientation": "v",
           "showlegend": true,
           "type": "scatter",
           "x": [
            0.0067
           ],
           "xaxis": "x",
           "y": [
            0.8112
           ],
           "yaxis": "y"
          }
         ],
         "name": "2021-09-04"
        },
        {
         "data": [
          {
           "hovertemplate": "<b>%{hovertext}</b><br><br>Username=DailyMailUK<br>only_date=2021-09-06<br>positive=%{x}<br>negative=%{y}<br>Like Count=%{marker.size}<extra></extra>",
           "hovertext": [
            "DailyMailUK",
            "DailyMailUK"
           ],
           "legendgroup": "DailyMailUK",
           "marker": {
            "color": "#636efa",
            "size": [
             17,
             11
            ],
            "sizemode": "area",
            "sizeref": 3.8625,
            "symbol": "circle"
           },
           "mode": "markers",
           "name": "DailyMailUK",
           "orientation": "v",
           "showlegend": true,
           "type": "scatter",
           "x": [
            0.0111,
            0.0219
           ],
           "xaxis": "x",
           "y": [
            0.6056,
            0.3979
           ],
           "yaxis": "y"
          }
         ],
         "name": "2021-09-06"
        },
        {
         "data": [
          {
           "hovertemplate": "<b>%{hovertext}</b><br><br>Username=Daily_Express<br>only_date=2021-09-08<br>positive=%{x}<br>negative=%{y}<br>Like Count=%{marker.size}<extra></extra>",
           "hovertext": [
            "Daily_Express"
           ],
           "legendgroup": "Daily_Express",
           "marker": {
            "color": "#EF553B",
            "size": [
             8
            ],
            "sizemode": "area",
            "sizeref": 3.8625,
            "symbol": "circle"
           },
           "mode": "markers",
           "name": "Daily_Express",
           "orientation": "v",
           "showlegend": true,
           "type": "scatter",
           "x": [
            0.0194
           ],
           "xaxis": "x",
           "y": [
            0.4175
           ],
           "yaxis": "y"
          },
          {
           "hovertemplate": "<b>%{hovertext}</b><br><br>Username=MailOnline<br>only_date=2021-09-08<br>positive=%{x}<br>negative=%{y}<br>Like Count=%{marker.size}<extra></extra>",
           "hovertext": [
            "MailOnline",
            "MailOnline"
           ],
           "legendgroup": "MailOnline",
           "marker": {
            "color": "#ab63fa",
            "size": [
             11,
             12
            ],
            "sizemode": "area",
            "sizeref": 3.8625,
            "symbol": "circle"
           },
           "mode": "markers",
           "name": "MailOnline",
           "orientation": "v",
           "showlegend": true,
           "type": "scatter",
           "x": [
            0.009,
            0.0147
           ],
           "xaxis": "x",
           "y": [
            0.6942,
            0.4005
           ],
           "yaxis": "y"
          }
         ],
         "name": "2021-09-08"
        },
        {
         "data": [
          {
           "hovertemplate": "<b>%{hovertext}</b><br><br>Username=MailOnline<br>only_date=2021-09-09<br>positive=%{x}<br>negative=%{y}<br>Like Count=%{marker.size}<extra></extra>",
           "hovertext": [
            "MailOnline",
            "MailOnline",
            "MailOnline"
           ],
           "legendgroup": "MailOnline",
           "marker": {
            "color": "#ab63fa",
            "size": [
             12,
             14,
             3
            ],
            "sizemode": "area",
            "sizeref": 3.8625,
            "symbol": "circle"
           },
           "mode": "markers",
           "name": "MailOnline",
           "orientation": "v",
           "showlegend": true,
           "type": "scatter",
           "x": [
            0.0122,
            0.1787,
            0.0554
           ],
           "xaxis": "x",
           "y": [
            0.5166,
            0.2848,
            0.1279
           ],
           "yaxis": "y"
          }
         ],
         "name": "2021-09-09"
        },
        {
         "data": [
          {
           "hovertemplate": "<b>%{hovertext}</b><br><br>Username=MailOnline<br>only_date=2021-09-10<br>positive=%{x}<br>negative=%{y}<br>Like Count=%{marker.size}<extra></extra>",
           "hovertext": [
            "MailOnline"
           ],
           "legendgroup": "MailOnline",
           "marker": {
            "color": "#ab63fa",
            "size": [
             14
            ],
            "sizemode": "area",
            "sizeref": 3.8625,
            "symbol": "circle"
           },
           "mode": "markers",
           "name": "MailOnline",
           "orientation": "v",
           "showlegend": true,
           "type": "scatter",
           "x": [
            0.0117
           ],
           "xaxis": "x",
           "y": [
            0.4073
           ],
           "yaxis": "y"
          }
         ],
         "name": "2021-09-10"
        },
        {
         "data": [
          {
           "hovertemplate": "<b>%{hovertext}</b><br><br>Username=DailyMailUK<br>only_date=2021-09-11<br>positive=%{x}<br>negative=%{y}<br>Like Count=%{marker.size}<extra></extra>",
           "hovertext": [
            "DailyMailUK"
           ],
           "legendgroup": "DailyMailUK",
           "marker": {
            "color": "#636efa",
            "size": [
             3
            ],
            "sizemode": "area",
            "sizeref": 3.8625,
            "symbol": "circle"
           },
           "mode": "markers",
           "name": "DailyMailUK",
           "orientation": "v",
           "showlegend": true,
           "type": "scatter",
           "x": [
            0.0065
           ],
           "xaxis": "x",
           "y": [
            0.779
           ],
           "yaxis": "y"
          },
          {
           "hovertemplate": "<b>%{hovertext}</b><br><br>Username=TheSun<br>only_date=2021-09-11<br>positive=%{x}<br>negative=%{y}<br>Like Count=%{marker.size}<extra></extra>",
           "hovertext": [
            "TheSun",
            "TheSun"
           ],
           "legendgroup": "TheSun",
           "marker": {
            "color": "#00cc96",
            "size": [
             17,
             8
            ],
            "sizemode": "area",
            "sizeref": 3.8625,
            "symbol": "circle"
           },
           "mode": "markers",
           "name": "TheSun",
           "orientation": "v",
           "showlegend": true,
           "type": "scatter",
           "x": [
            0.0087,
            0.0091
           ],
           "xaxis": "x",
           "y": [
            0.6828,
            0.687
           ],
           "yaxis": "y"
          }
         ],
         "name": "2021-09-11"
        },
        {
         "data": [
          {
           "hovertemplate": "<b>%{hovertext}</b><br><br>Username=DailyMailUK<br>only_date=2021-09-12<br>positive=%{x}<br>negative=%{y}<br>Like Count=%{marker.size}<extra></extra>",
           "hovertext": [
            "DailyMailUK",
            "DailyMailUK"
           ],
           "legendgroup": "DailyMailUK",
           "marker": {
            "color": "#636efa",
            "size": [
             28,
             5
            ],
            "sizemode": "area",
            "sizeref": 3.8625,
            "symbol": "circle"
           },
           "mode": "markers",
           "name": "DailyMailUK",
           "orientation": "v",
           "showlegend": true,
           "type": "scatter",
           "x": [
            0.0074,
            0.0076
           ],
           "xaxis": "x",
           "y": [
            0.5757,
            0.6576
           ],
           "yaxis": "y"
          },
          {
           "hovertemplate": "<b>%{hovertext}</b><br><br>Username=Daily_Express<br>only_date=2021-09-12<br>positive=%{x}<br>negative=%{y}<br>Like Count=%{marker.size}<extra></extra>",
           "hovertext": [
            "Daily_Express"
           ],
           "legendgroup": "Daily_Express",
           "marker": {
            "color": "#EF553B",
            "size": [
             6
            ],
            "sizemode": "area",
            "sizeref": 3.8625,
            "symbol": "circle"
           },
           "mode": "markers",
           "name": "Daily_Express",
           "orientation": "v",
           "showlegend": true,
           "type": "scatter",
           "x": [
            0.0055
           ],
           "xaxis": "x",
           "y": [
            0.8782
           ],
           "yaxis": "y"
          },
          {
           "hovertemplate": "<b>%{hovertext}</b><br><br>Username=MailOnline<br>only_date=2021-09-12<br>positive=%{x}<br>negative=%{y}<br>Like Count=%{marker.size}<extra></extra>",
           "hovertext": [
            "MailOnline"
           ],
           "legendgroup": "MailOnline",
           "marker": {
            "color": "#ab63fa",
            "size": [
             20
            ],
            "sizemode": "area",
            "sizeref": 3.8625,
            "symbol": "circle"
           },
           "mode": "markers",
           "name": "MailOnline",
           "orientation": "v",
           "showlegend": true,
           "type": "scatter",
           "x": [
            0.0098
           ],
           "xaxis": "x",
           "y": [
            0.6829
           ],
           "yaxis": "y"
          }
         ],
         "name": "2021-09-12"
        },
        {
         "data": [
          {
           "hovertemplate": "<b>%{hovertext}</b><br><br>Username=Daily_Express<br>only_date=2021-09-13<br>positive=%{x}<br>negative=%{y}<br>Like Count=%{marker.size}<extra></extra>",
           "hovertext": [
            "Daily_Express"
           ],
           "legendgroup": "Daily_Express",
           "marker": {
            "color": "#EF553B",
            "size": [
             4
            ],
            "sizemode": "area",
            "sizeref": 3.8625,
            "symbol": "circle"
           },
           "mode": "markers",
           "name": "Daily_Express",
           "orientation": "v",
           "showlegend": true,
           "type": "scatter",
           "x": [
            0.0153
           ],
           "xaxis": "x",
           "y": [
            0.4101
           ],
           "yaxis": "y"
          }
         ],
         "name": "2021-09-13"
        },
        {
         "data": [
          {
           "hovertemplate": "<b>%{hovertext}</b><br><br>Username=TheSun<br>only_date=2021-09-14<br>positive=%{x}<br>negative=%{y}<br>Like Count=%{marker.size}<extra></extra>",
           "hovertext": [
            "TheSun"
           ],
           "legendgroup": "TheSun",
           "marker": {
            "color": "#00cc96",
            "size": [
             4
            ],
            "sizemode": "area",
            "sizeref": 3.8625,
            "symbol": "circle"
           },
           "mode": "markers",
           "name": "TheSun",
           "orientation": "v",
           "showlegend": true,
           "type": "scatter",
           "x": [
            0.0085
           ],
           "xaxis": "x",
           "y": [
            0.804
           ],
           "yaxis": "y"
          },
          {
           "hovertemplate": "<b>%{hovertext}</b><br><br>Username=MailOnline<br>only_date=2021-09-14<br>positive=%{x}<br>negative=%{y}<br>Like Count=%{marker.size}<extra></extra>",
           "hovertext": [
            "MailOnline"
           ],
           "legendgroup": "MailOnline",
           "marker": {
            "color": "#ab63fa",
            "size": [
             23
            ],
            "sizemode": "area",
            "sizeref": 3.8625,
            "symbol": "circle"
           },
           "mode": "markers",
           "name": "MailOnline",
           "orientation": "v",
           "showlegend": true,
           "type": "scatter",
           "x": [
            0.0085
           ],
           "xaxis": "x",
           "y": [
            0.4035
           ],
           "yaxis": "y"
          }
         ],
         "name": "2021-09-14"
        },
        {
         "data": [
          {
           "hovertemplate": "<b>%{hovertext}</b><br><br>Username=DailyMailUK<br>only_date=2021-09-15<br>positive=%{x}<br>negative=%{y}<br>Like Count=%{marker.size}<extra></extra>",
           "hovertext": [
            "DailyMailUK"
           ],
           "legendgroup": "DailyMailUK",
           "marker": {
            "color": "#636efa",
            "size": [
             7
            ],
            "sizemode": "area",
            "sizeref": 3.8625,
            "symbol": "circle"
           },
           "mode": "markers",
           "name": "DailyMailUK",
           "orientation": "v",
           "showlegend": true,
           "type": "scatter",
           "x": [
            0.0149
           ],
           "xaxis": "x",
           "y": [
            0.5683
           ],
           "yaxis": "y"
          },
          {
           "hovertemplate": "<b>%{hovertext}</b><br><br>Username=MailOnline<br>only_date=2021-09-15<br>positive=%{x}<br>negative=%{y}<br>Like Count=%{marker.size}<extra></extra>",
           "hovertext": [
            "MailOnline"
           ],
           "legendgroup": "MailOnline",
           "marker": {
            "color": "#ab63fa",
            "size": [
             24
            ],
            "sizemode": "area",
            "sizeref": 3.8625,
            "symbol": "circle"
           },
           "mode": "markers",
           "name": "MailOnline",
           "orientation": "v",
           "showlegend": true,
           "type": "scatter",
           "x": [
            0.006
           ],
           "xaxis": "x",
           "y": [
            0.8342
           ],
           "yaxis": "y"
          }
         ],
         "name": "2021-09-15"
        },
        {
         "data": [
          {
           "hovertemplate": "<b>%{hovertext}</b><br><br>Username=DailyMailUK<br>only_date=2021-09-17<br>positive=%{x}<br>negative=%{y}<br>Like Count=%{marker.size}<extra></extra>",
           "hovertext": [
            "DailyMailUK"
           ],
           "legendgroup": "DailyMailUK",
           "marker": {
            "color": "#636efa",
            "size": [
             14
            ],
            "sizemode": "area",
            "sizeref": 3.8625,
            "symbol": "circle"
           },
           "mode": "markers",
           "name": "DailyMailUK",
           "orientation": "v",
           "showlegend": true,
           "type": "scatter",
           "x": [
            0.0077
           ],
           "xaxis": "x",
           "y": [
            0.7683
           ],
           "yaxis": "y"
          },
          {
           "hovertemplate": "<b>%{hovertext}</b><br><br>Username=TheSun<br>only_date=2021-09-17<br>positive=%{x}<br>negative=%{y}<br>Like Count=%{marker.size}<extra></extra>",
           "hovertext": [
            "TheSun"
           ],
           "legendgroup": "TheSun",
           "marker": {
            "color": "#00cc96",
            "size": [
             12
            ],
            "sizemode": "area",
            "sizeref": 3.8625,
            "symbol": "circle"
           },
           "mode": "markers",
           "name": "TheSun",
           "orientation": "v",
           "showlegend": true,
           "type": "scatter",
           "x": [
            0.0155
           ],
           "xaxis": "x",
           "y": [
            0.7178
           ],
           "yaxis": "y"
          },
          {
           "hovertemplate": "<b>%{hovertext}</b><br><br>Username=MailOnline<br>only_date=2021-09-17<br>positive=%{x}<br>negative=%{y}<br>Like Count=%{marker.size}<extra></extra>",
           "hovertext": [
            "MailOnline",
            "MailOnline",
            "MailOnline"
           ],
           "legendgroup": "MailOnline",
           "marker": {
            "color": "#ab63fa",
            "size": [
             29,
             20,
             20
            ],
            "sizemode": "area",
            "sizeref": 3.8625,
            "symbol": "circle"
           },
           "mode": "markers",
           "name": "MailOnline",
           "orientation": "v",
           "showlegend": true,
           "type": "scatter",
           "x": [
            0.0089,
            0.0078,
            0.0095
           ],
           "xaxis": "x",
           "y": [
            0.6753,
            0.6812,
            0.6394
           ],
           "yaxis": "y"
          }
         ],
         "name": "2021-09-17"
        },
        {
         "data": [
          {
           "hovertemplate": "<b>%{hovertext}</b><br><br>Username=MailOnline<br>only_date=2021-09-19<br>positive=%{x}<br>negative=%{y}<br>Like Count=%{marker.size}<extra></extra>",
           "hovertext": [
            "MailOnline"
           ],
           "legendgroup": "MailOnline",
           "marker": {
            "color": "#ab63fa",
            "size": [
             10
            ],
            "sizemode": "area",
            "sizeref": 3.8625,
            "symbol": "circle"
           },
           "mode": "markers",
           "name": "MailOnline",
           "orientation": "v",
           "showlegend": true,
           "type": "scatter",
           "x": [
            0.0126
           ],
           "xaxis": "x",
           "y": [
            0.4751
           ],
           "yaxis": "y"
          }
         ],
         "name": "2021-09-19"
        },
        {
         "data": [
          {
           "hovertemplate": "<b>%{hovertext}</b><br><br>Username=MailOnline<br>only_date=2021-09-20<br>positive=%{x}<br>negative=%{y}<br>Like Count=%{marker.size}<extra></extra>",
           "hovertext": [
            "MailOnline"
           ],
           "legendgroup": "MailOnline",
           "marker": {
            "color": "#ab63fa",
            "size": [
             15
            ],
            "sizemode": "area",
            "sizeref": 3.8625,
            "symbol": "circle"
           },
           "mode": "markers",
           "name": "MailOnline",
           "orientation": "v",
           "showlegend": true,
           "type": "scatter",
           "x": [
            0.0065
           ],
           "xaxis": "x",
           "y": [
            0.7964
           ],
           "yaxis": "y"
          }
         ],
         "name": "2021-09-20"
        },
        {
         "data": [
          {
           "hovertemplate": "<b>%{hovertext}</b><br><br>Username=MailOnline<br>only_date=2021-09-29<br>positive=%{x}<br>negative=%{y}<br>Like Count=%{marker.size}<extra></extra>",
           "hovertext": [
            "MailOnline",
            "MailOnline"
           ],
           "legendgroup": "MailOnline",
           "marker": {
            "color": "#ab63fa",
            "size": [
             23,
             9
            ],
            "sizemode": "area",
            "sizeref": 3.8625,
            "symbol": "circle"
           },
           "mode": "markers",
           "name": "MailOnline",
           "orientation": "v",
           "showlegend": true,
           "type": "scatter",
           "x": [
            0.0125,
            0.0633
           ],
           "xaxis": "x",
           "y": [
            0.5214,
            0.1824
           ],
           "yaxis": "y"
          }
         ],
         "name": "2021-09-29"
        },
        {
         "data": [
          {
           "hovertemplate": "<b>%{hovertext}</b><br><br>Username=TheSun<br>only_date=2021-10-03<br>positive=%{x}<br>negative=%{y}<br>Like Count=%{marker.size}<extra></extra>",
           "hovertext": [
            "TheSun"
           ],
           "legendgroup": "TheSun",
           "marker": {
            "color": "#00cc96",
            "size": [
             10
            ],
            "sizemode": "area",
            "sizeref": 3.8625,
            "symbol": "circle"
           },
           "mode": "markers",
           "name": "TheSun",
           "orientation": "v",
           "showlegend": true,
           "type": "scatter",
           "x": [
            0.0078
           ],
           "xaxis": "x",
           "y": [
            0.7443
           ],
           "yaxis": "y"
          },
          {
           "hovertemplate": "<b>%{hovertext}</b><br><br>Username=MailOnline<br>only_date=2021-10-03<br>positive=%{x}<br>negative=%{y}<br>Like Count=%{marker.size}<extra></extra>",
           "hovertext": [
            "MailOnline"
           ],
           "legendgroup": "MailOnline",
           "marker": {
            "color": "#ab63fa",
            "size": [
             10
            ],
            "sizemode": "area",
            "sizeref": 3.8625,
            "symbol": "circle"
           },
           "mode": "markers",
           "name": "MailOnline",
           "orientation": "v",
           "showlegend": true,
           "type": "scatter",
           "x": [
            0.0061
           ],
           "xaxis": "x",
           "y": [
            0.7728
           ],
           "yaxis": "y"
          }
         ],
         "name": "2021-10-03"
        },
        {
         "data": [
          {
           "hovertemplate": "<b>%{hovertext}</b><br><br>Username=MailOnline<br>only_date=2021-10-04<br>positive=%{x}<br>negative=%{y}<br>Like Count=%{marker.size}<extra></extra>",
           "hovertext": [
            "MailOnline",
            "MailOnline"
           ],
           "legendgroup": "MailOnline",
           "marker": {
            "color": "#ab63fa",
            "size": [
             8,
             45
            ],
            "sizemode": "area",
            "sizeref": 3.8625,
            "symbol": "circle"
           },
           "mode": "markers",
           "name": "MailOnline",
           "orientation": "v",
           "showlegend": true,
           "type": "scatter",
           "x": [
            0.0266,
            0.0298
           ],
           "xaxis": "x",
           "y": [
            0.1043,
            0.1207
           ],
           "yaxis": "y"
          }
         ],
         "name": "2021-10-04"
        },
        {
         "data": [
          {
           "hovertemplate": "<b>%{hovertext}</b><br><br>Username=MailOnline<br>only_date=2021-10-07<br>positive=%{x}<br>negative=%{y}<br>Like Count=%{marker.size}<extra></extra>",
           "hovertext": [
            "MailOnline"
           ],
           "legendgroup": "MailOnline",
           "marker": {
            "color": "#ab63fa",
            "size": [
             6
            ],
            "sizemode": "area",
            "sizeref": 3.8625,
            "symbol": "circle"
           },
           "mode": "markers",
           "name": "MailOnline",
           "orientation": "v",
           "showlegend": true,
           "type": "scatter",
           "x": [
            0.022
           ],
           "xaxis": "x",
           "y": [
            0.6111
           ],
           "yaxis": "y"
          }
         ],
         "name": "2021-10-07"
        },
        {
         "data": [
          {
           "hovertemplate": "<b>%{hovertext}</b><br><br>Username=MailOnline<br>only_date=2021-10-08<br>positive=%{x}<br>negative=%{y}<br>Like Count=%{marker.size}<extra></extra>",
           "hovertext": [
            "MailOnline"
           ],
           "legendgroup": "MailOnline",
           "marker": {
            "color": "#ab63fa",
            "size": [
             12
            ],
            "sizemode": "area",
            "sizeref": 3.8625,
            "symbol": "circle"
           },
           "mode": "markers",
           "name": "MailOnline",
           "orientation": "v",
           "showlegend": true,
           "type": "scatter",
           "x": [
            0.0071
           ],
           "xaxis": "x",
           "y": [
            0.7505
           ],
           "yaxis": "y"
          }
         ],
         "name": "2021-10-08"
        },
        {
         "data": [
          {
           "hovertemplate": "<b>%{hovertext}</b><br><br>Username=TheSun<br>only_date=2021-10-09<br>positive=%{x}<br>negative=%{y}<br>Like Count=%{marker.size}<extra></extra>",
           "hovertext": [
            "TheSun"
           ],
           "legendgroup": "TheSun",
           "marker": {
            "color": "#00cc96",
            "size": [
             9
            ],
            "sizemode": "area",
            "sizeref": 3.8625,
            "symbol": "circle"
           },
           "mode": "markers",
           "name": "TheSun",
           "orientation": "v",
           "showlegend": true,
           "type": "scatter",
           "x": [
            0.0065
           ],
           "xaxis": "x",
           "y": [
            0.8783
           ],
           "yaxis": "y"
          }
         ],
         "name": "2021-10-09"
        },
        {
         "data": [
          {
           "hovertemplate": "<b>%{hovertext}</b><br><br>Username=MailOnline<br>only_date=2021-10-10<br>positive=%{x}<br>negative=%{y}<br>Like Count=%{marker.size}<extra></extra>",
           "hovertext": [
            "MailOnline"
           ],
           "legendgroup": "MailOnline",
           "marker": {
            "color": "#ab63fa",
            "size": [
             16
            ],
            "sizemode": "area",
            "sizeref": 3.8625,
            "symbol": "circle"
           },
           "mode": "markers",
           "name": "MailOnline",
           "orientation": "v",
           "showlegend": true,
           "type": "scatter",
           "x": [
            0.0076
           ],
           "xaxis": "x",
           "y": [
            0.7172
           ],
           "yaxis": "y"
          }
         ],
         "name": "2021-10-10"
        },
        {
         "data": [
          {
           "hovertemplate": "<b>%{hovertext}</b><br><br>Username=MailOnline<br>only_date=2021-10-11<br>positive=%{x}<br>negative=%{y}<br>Like Count=%{marker.size}<extra></extra>",
           "hovertext": [
            "MailOnline",
            "MailOnline",
            "MailOnline",
            "MailOnline"
           ],
           "legendgroup": "MailOnline",
           "marker": {
            "color": "#ab63fa",
            "size": [
             26,
             44,
             13,
             4
            ],
            "sizemode": "area",
            "sizeref": 3.8625,
            "symbol": "circle"
           },
           "mode": "markers",
           "name": "MailOnline",
           "orientation": "v",
           "showlegend": true,
           "type": "scatter",
           "x": [
            0.038,
            0.0077,
            0.0059,
            0.0104
           ],
           "xaxis": "x",
           "y": [
            0.0126,
            0.8373,
            0.8293,
            0.6544
           ],
           "yaxis": "y"
          }
         ],
         "name": "2021-10-11"
        },
        {
         "data": [
          {
           "hovertemplate": "<b>%{hovertext}</b><br><br>Username=DailyMailUK<br>only_date=2021-10-12<br>positive=%{x}<br>negative=%{y}<br>Like Count=%{marker.size}<extra></extra>",
           "hovertext": [
            "DailyMailUK"
           ],
           "legendgroup": "DailyMailUK",
           "marker": {
            "color": "#636efa",
            "size": [
             18
            ],
            "sizemode": "area",
            "sizeref": 3.8625,
            "symbol": "circle"
           },
           "mode": "markers",
           "name": "DailyMailUK",
           "orientation": "v",
           "showlegend": true,
           "type": "scatter",
           "x": [
            0.0562
           ],
           "xaxis": "x",
           "y": [
            0.1035
           ],
           "yaxis": "y"
          },
          {
           "hovertemplate": "<b>%{hovertext}</b><br><br>Username=MailOnline<br>only_date=2021-10-12<br>positive=%{x}<br>negative=%{y}<br>Like Count=%{marker.size}<extra></extra>",
           "hovertext": [
            "MailOnline"
           ],
           "legendgroup": "MailOnline",
           "marker": {
            "color": "#ab63fa",
            "size": [
             7
            ],
            "sizemode": "area",
            "sizeref": 3.8625,
            "symbol": "circle"
           },
           "mode": "markers",
           "name": "MailOnline",
           "orientation": "v",
           "showlegend": true,
           "type": "scatter",
           "x": [
            0.0052
           ],
           "xaxis": "x",
           "y": [
            0.8342
           ],
           "yaxis": "y"
          }
         ],
         "name": "2021-10-12"
        },
        {
         "data": [
          {
           "hovertemplate": "<b>%{hovertext}</b><br><br>Username=TheSun<br>only_date=2021-10-14<br>positive=%{x}<br>negative=%{y}<br>Like Count=%{marker.size}<extra></extra>",
           "hovertext": [
            "TheSun",
            "TheSun",
            "TheSun"
           ],
           "legendgroup": "TheSun",
           "marker": {
            "color": "#00cc96",
            "size": [
             79,
             8,
             13
            ],
            "sizemode": "area",
            "sizeref": 3.8625,
            "symbol": "circle"
           },
           "mode": "markers",
           "name": "TheSun",
           "orientation": "v",
           "showlegend": true,
           "type": "scatter",
           "x": [
            0.0108,
            0.007,
            0.0074
           ],
           "xaxis": "x",
           "y": [
            0.2253,
            0.751,
            0.782
           ],
           "yaxis": "y"
          },
          {
           "hovertemplate": "<b>%{hovertext}</b><br><br>Username=MailOnline<br>only_date=2021-10-14<br>positive=%{x}<br>negative=%{y}<br>Like Count=%{marker.size}<extra></extra>",
           "hovertext": [
            "MailOnline",
            "MailOnline",
            "MailOnline",
            "MailOnline",
            "MailOnline",
            "MailOnline"
           ],
           "legendgroup": "MailOnline",
           "marker": {
            "color": "#ab63fa",
            "size": [
             11,
             2,
             26,
             44,
             34,
             8
            ],
            "sizemode": "area",
            "sizeref": 3.8625,
            "symbol": "circle"
           },
           "mode": "markers",
           "name": "MailOnline",
           "orientation": "v",
           "showlegend": true,
           "type": "scatter",
           "x": [
            0.0053,
            0.007,
            0.0051,
            0.0114,
            0.0057,
            0.0086
           ],
           "xaxis": "x",
           "y": [
            0.7768,
            0.7301,
            0.8036,
            0.3688,
            0.7901,
            0.5345
           ],
           "yaxis": "y"
          }
         ],
         "name": "2021-10-14"
        },
        {
         "data": [
          {
           "hovertemplate": "<b>%{hovertext}</b><br><br>Username=DailyMailUK<br>only_date=2021-10-15<br>positive=%{x}<br>negative=%{y}<br>Like Count=%{marker.size}<extra></extra>",
           "hovertext": [
            "DailyMailUK"
           ],
           "legendgroup": "DailyMailUK",
           "marker": {
            "color": "#636efa",
            "size": [
             75
            ],
            "sizemode": "area",
            "sizeref": 3.8625,
            "symbol": "circle"
           },
           "mode": "markers",
           "name": "DailyMailUK",
           "orientation": "v",
           "showlegend": true,
           "type": "scatter",
           "x": [
            0.0074
           ],
           "xaxis": "x",
           "y": [
            0.644
           ],
           "yaxis": "y"
          },
          {
           "hovertemplate": "<b>%{hovertext}</b><br><br>Username=MailOnline<br>only_date=2021-10-15<br>positive=%{x}<br>negative=%{y}<br>Like Count=%{marker.size}<extra></extra>",
           "hovertext": [
            "MailOnline",
            "MailOnline"
           ],
           "legendgroup": "MailOnline",
           "marker": {
            "color": "#ab63fa",
            "size": [
             15,
             4
            ],
            "sizemode": "area",
            "sizeref": 3.8625,
            "symbol": "circle"
           },
           "mode": "markers",
           "name": "MailOnline",
           "orientation": "v",
           "showlegend": true,
           "type": "scatter",
           "x": [
            0.0077,
            0.009
           ],
           "xaxis": "x",
           "y": [
            0.7198,
            0.6544
           ],
           "yaxis": "y"
          }
         ],
         "name": "2021-10-15"
        },
        {
         "data": [
          {
           "hovertemplate": "<b>%{hovertext}</b><br><br>Username=DailyMailUK<br>only_date=2021-10-16<br>positive=%{x}<br>negative=%{y}<br>Like Count=%{marker.size}<extra></extra>",
           "hovertext": [
            "DailyMailUK"
           ],
           "legendgroup": "DailyMailUK",
           "marker": {
            "color": "#636efa",
            "size": [
             4
            ],
            "sizemode": "area",
            "sizeref": 3.8625,
            "symbol": "circle"
           },
           "mode": "markers",
           "name": "DailyMailUK",
           "orientation": "v",
           "showlegend": true,
           "type": "scatter",
           "x": [
            0.0046
           ],
           "xaxis": "x",
           "y": [
            0.8867
           ],
           "yaxis": "y"
          },
          {
           "hovertemplate": "<b>%{hovertext}</b><br><br>Username=MailOnline<br>only_date=2021-10-16<br>positive=%{x}<br>negative=%{y}<br>Like Count=%{marker.size}<extra></extra>",
           "hovertext": [
            "MailOnline",
            "MailOnline",
            "MailOnline",
            "MailOnline",
            "MailOnline"
           ],
           "legendgroup": "MailOnline",
           "marker": {
            "color": "#ab63fa",
            "size": [
             25,
             8,
             8,
             12,
             27
            ],
            "sizemode": "area",
            "sizeref": 3.8625,
            "symbol": "circle"
           },
           "mode": "markers",
           "name": "MailOnline",
           "orientation": "v",
           "showlegend": true,
           "type": "scatter",
           "x": [
            0.0072,
            0.0049,
            0.0059,
            0.0053,
            0.0703
           ],
           "xaxis": "x",
           "y": [
            0.7728,
            0.8682,
            0.7596,
            0.8263,
            0.0075
           ],
           "yaxis": "y"
          }
         ],
         "name": "2021-10-16"
        },
        {
         "data": [
          {
           "hovertemplate": "<b>%{hovertext}</b><br><br>Username=MailOnline<br>only_date=2021-10-17<br>positive=%{x}<br>negative=%{y}<br>Like Count=%{marker.size}<extra></extra>",
           "hovertext": [
            "MailOnline",
            "MailOnline"
           ],
           "legendgroup": "MailOnline",
           "marker": {
            "color": "#ab63fa",
            "size": [
             99,
             70
            ],
            "sizemode": "area",
            "sizeref": 3.8625,
            "symbol": "circle"
           },
           "mode": "markers",
           "name": "MailOnline",
           "orientation": "v",
           "showlegend": true,
           "type": "scatter",
           "x": [
            0.0123,
            0.0072
           ],
           "xaxis": "x",
           "y": [
            0.5604,
            0.6685
           ],
           "yaxis": "y"
          }
         ],
         "name": "2021-10-17"
        },
        {
         "data": [
          {
           "hovertemplate": "<b>%{hovertext}</b><br><br>Username=DailyMailUK<br>only_date=2021-10-18<br>positive=%{x}<br>negative=%{y}<br>Like Count=%{marker.size}<extra></extra>",
           "hovertext": [
            "DailyMailUK",
            "DailyMailUK"
           ],
           "legendgroup": "DailyMailUK",
           "marker": {
            "color": "#636efa",
            "size": [
             32,
             4
            ],
            "sizemode": "area",
            "sizeref": 3.8625,
            "symbol": "circle"
           },
           "mode": "markers",
           "name": "DailyMailUK",
           "orientation": "v",
           "showlegend": true,
           "type": "scatter",
           "x": [
            0.0103,
            0.0098
           ],
           "xaxis": "x",
           "y": [
            0.4908,
            0.2948
           ],
           "yaxis": "y"
          },
          {
           "hovertemplate": "<b>%{hovertext}</b><br><br>Username=MailOnline<br>only_date=2021-10-18<br>positive=%{x}<br>negative=%{y}<br>Like Count=%{marker.size}<extra></extra>",
           "hovertext": [
            "MailOnline",
            "MailOnline",
            "MailOnline"
           ],
           "legendgroup": "MailOnline",
           "marker": {
            "color": "#ab63fa",
            "size": [
             7,
             6,
             21
            ],
            "sizemode": "area",
            "sizeref": 3.8625,
            "symbol": "circle"
           },
           "mode": "markers",
           "name": "MailOnline",
           "orientation": "v",
           "showlegend": true,
           "type": "scatter",
           "x": [
            0.0057,
            0.0062,
            0.0099
           ],
           "xaxis": "x",
           "y": [
            0.8152,
            0.773,
            0.5313
           ],
           "yaxis": "y"
          }
         ],
         "name": "2021-10-18"
        },
        {
         "data": [
          {
           "hovertemplate": "<b>%{hovertext}</b><br><br>Username=DailyMailUK<br>only_date=2021-10-20<br>positive=%{x}<br>negative=%{y}<br>Like Count=%{marker.size}<extra></extra>",
           "hovertext": [
            "DailyMailUK"
           ],
           "legendgroup": "DailyMailUK",
           "marker": {
            "color": "#636efa",
            "size": [
             17
            ],
            "sizemode": "area",
            "sizeref": 3.8625,
            "symbol": "circle"
           },
           "mode": "markers",
           "name": "DailyMailUK",
           "orientation": "v",
           "showlegend": true,
           "type": "scatter",
           "x": [
            0.0063
           ],
           "xaxis": "x",
           "y": [
            0.8556
           ],
           "yaxis": "y"
          },
          {
           "hovertemplate": "<b>%{hovertext}</b><br><br>Username=TheSun<br>only_date=2021-10-20<br>positive=%{x}<br>negative=%{y}<br>Like Count=%{marker.size}<extra></extra>",
           "hovertext": [
            "TheSun"
           ],
           "legendgroup": "TheSun",
           "marker": {
            "color": "#00cc96",
            "size": [
             8
            ],
            "sizemode": "area",
            "sizeref": 3.8625,
            "symbol": "circle"
           },
           "mode": "markers",
           "name": "TheSun",
           "orientation": "v",
           "showlegend": true,
           "type": "scatter",
           "x": [
            0.0075
           ],
           "xaxis": "x",
           "y": [
            0.7945
           ],
           "yaxis": "y"
          }
         ],
         "name": "2021-10-20"
        },
        {
         "data": [
          {
           "hovertemplate": "<b>%{hovertext}</b><br><br>Username=DailyMailUK<br>only_date=2021-10-21<br>positive=%{x}<br>negative=%{y}<br>Like Count=%{marker.size}<extra></extra>",
           "hovertext": [
            "DailyMailUK"
           ],
           "legendgroup": "DailyMailUK",
           "marker": {
            "color": "#636efa",
            "size": [
             11
            ],
            "sizemode": "area",
            "sizeref": 3.8625,
            "symbol": "circle"
           },
           "mode": "markers",
           "name": "DailyMailUK",
           "orientation": "v",
           "showlegend": true,
           "type": "scatter",
           "x": [
            0.0048
           ],
           "xaxis": "x",
           "y": [
            0.8441
           ],
           "yaxis": "y"
          }
         ],
         "name": "2021-10-21"
        },
        {
         "data": [
          {
           "hovertemplate": "<b>%{hovertext}</b><br><br>Username=TheSun<br>only_date=2021-10-22<br>positive=%{x}<br>negative=%{y}<br>Like Count=%{marker.size}<extra></extra>",
           "hovertext": [
            "TheSun"
           ],
           "legendgroup": "TheSun",
           "marker": {
            "color": "#00cc96",
            "size": [
             9
            ],
            "sizemode": "area",
            "sizeref": 3.8625,
            "symbol": "circle"
           },
           "mode": "markers",
           "name": "TheSun",
           "orientation": "v",
           "showlegend": true,
           "type": "scatter",
           "x": [
            0.0049
           ],
           "xaxis": "x",
           "y": [
            0.8654
           ],
           "yaxis": "y"
          }
         ],
         "name": "2021-10-22"
        },
        {
         "data": [
          {
           "hovertemplate": "<b>%{hovertext}</b><br><br>Username=DailyMailUK<br>only_date=2021-10-23<br>positive=%{x}<br>negative=%{y}<br>Like Count=%{marker.size}<extra></extra>",
           "hovertext": [
            "DailyMailUK"
           ],
           "legendgroup": "DailyMailUK",
           "marker": {
            "color": "#636efa",
            "size": [
             19
            ],
            "sizemode": "area",
            "sizeref": 3.8625,
            "symbol": "circle"
           },
           "mode": "markers",
           "name": "DailyMailUK",
           "orientation": "v",
           "showlegend": true,
           "type": "scatter",
           "x": [
            0.0153
           ],
           "xaxis": "x",
           "y": [
            0.4454
           ],
           "yaxis": "y"
          }
         ],
         "name": "2021-10-23"
        },
        {
         "data": [
          {
           "hovertemplate": "<b>%{hovertext}</b><br><br>Username=DailyMailUK<br>only_date=2021-10-24<br>positive=%{x}<br>negative=%{y}<br>Like Count=%{marker.size}<extra></extra>",
           "hovertext": [
            "DailyMailUK"
           ],
           "legendgroup": "DailyMailUK",
           "marker": {
            "color": "#636efa",
            "size": [
             10
            ],
            "sizemode": "area",
            "sizeref": 3.8625,
            "symbol": "circle"
           },
           "mode": "markers",
           "name": "DailyMailUK",
           "orientation": "v",
           "showlegend": true,
           "type": "scatter",
           "x": [
            0.0097
           ],
           "xaxis": "x",
           "y": [
            0.6321
           ],
           "yaxis": "y"
          },
          {
           "hovertemplate": "<b>%{hovertext}</b><br><br>Username=MailOnline<br>only_date=2021-10-24<br>positive=%{x}<br>negative=%{y}<br>Like Count=%{marker.size}<extra></extra>",
           "hovertext": [
            "MailOnline"
           ],
           "legendgroup": "MailOnline",
           "marker": {
            "color": "#ab63fa",
            "size": [
             27
            ],
            "sizemode": "area",
            "sizeref": 3.8625,
            "symbol": "circle"
           },
           "mode": "markers",
           "name": "MailOnline",
           "orientation": "v",
           "showlegend": true,
           "type": "scatter",
           "x": [
            0.0118
           ],
           "xaxis": "x",
           "y": [
            0.5128
           ],
           "yaxis": "y"
          }
         ],
         "name": "2021-10-24"
        },
        {
         "data": [
          {
           "hovertemplate": "<b>%{hovertext}</b><br><br>Username=MailOnline<br>only_date=2021-10-25<br>positive=%{x}<br>negative=%{y}<br>Like Count=%{marker.size}<extra></extra>",
           "hovertext": [
            "MailOnline"
           ],
           "legendgroup": "MailOnline",
           "marker": {
            "color": "#ab63fa",
            "size": [
             7
            ],
            "sizemode": "area",
            "sizeref": 3.8625,
            "symbol": "circle"
           },
           "mode": "markers",
           "name": "MailOnline",
           "orientation": "v",
           "showlegend": true,
           "type": "scatter",
           "x": [
            0.0082
           ],
           "xaxis": "x",
           "y": [
            0.5549
           ],
           "yaxis": "y"
          }
         ],
         "name": "2021-10-25"
        },
        {
         "data": [
          {
           "hovertemplate": "<b>%{hovertext}</b><br><br>Username=DailyMailUK<br>only_date=2021-10-26<br>positive=%{x}<br>negative=%{y}<br>Like Count=%{marker.size}<extra></extra>",
           "hovertext": [
            "DailyMailUK"
           ],
           "legendgroup": "DailyMailUK",
           "marker": {
            "color": "#636efa",
            "size": [
             14
            ],
            "sizemode": "area",
            "sizeref": 3.8625,
            "symbol": "circle"
           },
           "mode": "markers",
           "name": "DailyMailUK",
           "orientation": "v",
           "showlegend": true,
           "type": "scatter",
           "x": [
            0.0142
           ],
           "xaxis": "x",
           "y": [
            0.6449
           ],
           "yaxis": "y"
          }
         ],
         "name": "2021-10-26"
        },
        {
         "data": [
          {
           "hovertemplate": "<b>%{hovertext}</b><br><br>Username=MailOnline<br>only_date=2021-10-27<br>positive=%{x}<br>negative=%{y}<br>Like Count=%{marker.size}<extra></extra>",
           "hovertext": [
            "MailOnline",
            "MailOnline"
           ],
           "legendgroup": "MailOnline",
           "marker": {
            "color": "#ab63fa",
            "size": [
             14,
             150
            ],
            "sizemode": "area",
            "sizeref": 3.8625,
            "symbol": "circle"
           },
           "mode": "markers",
           "name": "MailOnline",
           "orientation": "v",
           "showlegend": true,
           "type": "scatter",
           "x": [
            0.007,
            0.0124
           ],
           "xaxis": "x",
           "y": [
            0.6928,
            0.4316
           ],
           "yaxis": "y"
          }
         ],
         "name": "2021-10-27"
        },
        {
         "data": [
          {
           "hovertemplate": "<b>%{hovertext}</b><br><br>Username=Daily_Express<br>only_date=2021-10-28<br>positive=%{x}<br>negative=%{y}<br>Like Count=%{marker.size}<extra></extra>",
           "hovertext": [
            "Daily_Express"
           ],
           "legendgroup": "Daily_Express",
           "marker": {
            "color": "#EF553B",
            "size": [
             4
            ],
            "sizemode": "area",
            "sizeref": 3.8625,
            "symbol": "circle"
           },
           "mode": "markers",
           "name": "Daily_Express",
           "orientation": "v",
           "showlegend": true,
           "type": "scatter",
           "x": [
            0.0114
           ],
           "xaxis": "x",
           "y": [
            0.7313
           ],
           "yaxis": "y"
          },
          {
           "hovertemplate": "<b>%{hovertext}</b><br><br>Username=MailOnline<br>only_date=2021-10-28<br>positive=%{x}<br>negative=%{y}<br>Like Count=%{marker.size}<extra></extra>",
           "hovertext": [
            "MailOnline"
           ],
           "legendgroup": "MailOnline",
           "marker": {
            "color": "#ab63fa",
            "size": [
             23
            ],
            "sizemode": "area",
            "sizeref": 3.8625,
            "symbol": "circle"
           },
           "mode": "markers",
           "name": "MailOnline",
           "orientation": "v",
           "showlegend": true,
           "type": "scatter",
           "x": [
            0.0169
           ],
           "xaxis": "x",
           "y": [
            0.628
           ],
           "yaxis": "y"
          }
         ],
         "name": "2021-10-28"
        },
        {
         "data": [
          {
           "hovertemplate": "<b>%{hovertext}</b><br><br>Username=MailOnline<br>only_date=2021-10-29<br>positive=%{x}<br>negative=%{y}<br>Like Count=%{marker.size}<extra></extra>",
           "hovertext": [
            "MailOnline"
           ],
           "legendgroup": "MailOnline",
           "marker": {
            "color": "#ab63fa",
            "size": [
             42
            ],
            "sizemode": "area",
            "sizeref": 3.8625,
            "symbol": "circle"
           },
           "mode": "markers",
           "name": "MailOnline",
           "orientation": "v",
           "showlegend": true,
           "type": "scatter",
           "x": [
            0.7673
           ],
           "xaxis": "x",
           "y": [
            0.0042
           ],
           "yaxis": "y"
          }
         ],
         "name": "2021-10-29"
        },
        {
         "data": [
          {
           "hovertemplate": "<b>%{hovertext}</b><br><br>Username=MailOnline<br>only_date=2021-11-01<br>positive=%{x}<br>negative=%{y}<br>Like Count=%{marker.size}<extra></extra>",
           "hovertext": [
            "MailOnline"
           ],
           "legendgroup": "MailOnline",
           "marker": {
            "color": "#ab63fa",
            "size": [
             27
            ],
            "sizemode": "area",
            "sizeref": 3.8625,
            "symbol": "circle"
           },
           "mode": "markers",
           "name": "MailOnline",
           "orientation": "v",
           "showlegend": true,
           "type": "scatter",
           "x": [
            0.0282
           ],
           "xaxis": "x",
           "y": [
            0.3421
           ],
           "yaxis": "y"
          }
         ],
         "name": "2021-11-01"
        },
        {
         "data": [
          {
           "hovertemplate": "<b>%{hovertext}</b><br><br>Username=Daily_Express<br>only_date=2021-11-04<br>positive=%{x}<br>negative=%{y}<br>Like Count=%{marker.size}<extra></extra>",
           "hovertext": [
            "Daily_Express"
           ],
           "legendgroup": "Daily_Express",
           "marker": {
            "color": "#EF553B",
            "size": [
             4
            ],
            "sizemode": "area",
            "sizeref": 3.8625,
            "symbol": "circle"
           },
           "mode": "markers",
           "name": "Daily_Express",
           "orientation": "v",
           "showlegend": true,
           "type": "scatter",
           "x": [
            0.206
           ],
           "xaxis": "x",
           "y": [
            0.0892
           ],
           "yaxis": "y"
          },
          {
           "hovertemplate": "<b>%{hovertext}</b><br><br>Username=MailOnline<br>only_date=2021-11-04<br>positive=%{x}<br>negative=%{y}<br>Like Count=%{marker.size}<extra></extra>",
           "hovertext": [
            "MailOnline"
           ],
           "legendgroup": "MailOnline",
           "marker": {
            "color": "#ab63fa",
            "size": [
             19
            ],
            "sizemode": "area",
            "sizeref": 3.8625,
            "symbol": "circle"
           },
           "mode": "markers",
           "name": "MailOnline",
           "orientation": "v",
           "showlegend": true,
           "type": "scatter",
           "x": [
            0.0245
           ],
           "xaxis": "x",
           "y": [
            0.2785
           ],
           "yaxis": "y"
          }
         ],
         "name": "2021-11-04"
        },
        {
         "data": [
          {
           "hovertemplate": "<b>%{hovertext}</b><br><br>Username=DailyMailUK<br>only_date=2021-11-05<br>positive=%{x}<br>negative=%{y}<br>Like Count=%{marker.size}<extra></extra>",
           "hovertext": [
            "DailyMailUK"
           ],
           "legendgroup": "DailyMailUK",
           "marker": {
            "color": "#636efa",
            "size": [
             25
            ],
            "sizemode": "area",
            "sizeref": 3.8625,
            "symbol": "circle"
           },
           "mode": "markers",
           "name": "DailyMailUK",
           "orientation": "v",
           "showlegend": true,
           "type": "scatter",
           "x": [
            0.0207
           ],
           "xaxis": "x",
           "y": [
            0.1659
           ],
           "yaxis": "y"
          }
         ],
         "name": "2021-11-05"
        },
        {
         "data": [
          {
           "hovertemplate": "<b>%{hovertext}</b><br><br>Username=DailyMailUK<br>only_date=2021-11-08<br>positive=%{x}<br>negative=%{y}<br>Like Count=%{marker.size}<extra></extra>",
           "hovertext": [
            "DailyMailUK",
            "DailyMailUK"
           ],
           "legendgroup": "DailyMailUK",
           "marker": {
            "color": "#636efa",
            "size": [
             6,
             35
            ],
            "sizemode": "area",
            "sizeref": 3.8625,
            "symbol": "circle"
           },
           "mode": "markers",
           "name": "DailyMailUK",
           "orientation": "v",
           "showlegend": true,
           "type": "scatter",
           "x": [
            0.0119,
            0.0057
           ],
           "xaxis": "x",
           "y": [
            0.5972,
            0.8037
           ],
           "yaxis": "y"
          },
          {
           "hovertemplate": "<b>%{hovertext}</b><br><br>Username=Daily_Express<br>only_date=2021-11-08<br>positive=%{x}<br>negative=%{y}<br>Like Count=%{marker.size}<extra></extra>",
           "hovertext": [
            "Daily_Express"
           ],
           "legendgroup": "Daily_Express",
           "marker": {
            "color": "#EF553B",
            "size": [
             11
            ],
            "sizemode": "area",
            "sizeref": 3.8625,
            "symbol": "circle"
           },
           "mode": "markers",
           "name": "Daily_Express",
           "orientation": "v",
           "showlegend": true,
           "type": "scatter",
           "x": [
            0.0055
           ],
           "xaxis": "x",
           "y": [
            0.7889
           ],
           "yaxis": "y"
          },
          {
           "hovertemplate": "<b>%{hovertext}</b><br><br>Username=TheSun<br>only_date=2021-11-08<br>positive=%{x}<br>negative=%{y}<br>Like Count=%{marker.size}<extra></extra>",
           "hovertext": [
            "TheSun",
            "TheSun"
           ],
           "legendgroup": "TheSun",
           "marker": {
            "color": "#00cc96",
            "size": [
             7,
             30
            ],
            "sizemode": "area",
            "sizeref": 3.8625,
            "symbol": "circle"
           },
           "mode": "markers",
           "name": "TheSun",
           "orientation": "v",
           "showlegend": true,
           "type": "scatter",
           "x": [
            0.0067,
            0.0084
           ],
           "xaxis": "x",
           "y": [
            0.859,
            0.6201
           ],
           "yaxis": "y"
          }
         ],
         "name": "2021-11-08"
        },
        {
         "data": [
          {
           "hovertemplate": "<b>%{hovertext}</b><br><br>Username=DailyMailUK<br>only_date=2021-11-09<br>positive=%{x}<br>negative=%{y}<br>Like Count=%{marker.size}<extra></extra>",
           "hovertext": [
            "DailyMailUK",
            "DailyMailUK"
           ],
           "legendgroup": "DailyMailUK",
           "marker": {
            "color": "#636efa",
            "size": [
             6,
             10
            ],
            "sizemode": "area",
            "sizeref": 3.8625,
            "symbol": "circle"
           },
           "mode": "markers",
           "name": "DailyMailUK",
           "orientation": "v",
           "showlegend": true,
           "type": "scatter",
           "x": [
            0.0053,
            0.1789
           ],
           "xaxis": "x",
           "y": [
            0.7743,
            0.1039
           ],
           "yaxis": "y"
          },
          {
           "hovertemplate": "<b>%{hovertext}</b><br><br>Username=MailOnline<br>only_date=2021-11-09<br>positive=%{x}<br>negative=%{y}<br>Like Count=%{marker.size}<extra></extra>",
           "hovertext": [
            "MailOnline"
           ],
           "legendgroup": "MailOnline",
           "marker": {
            "color": "#ab63fa",
            "size": [
             16
            ],
            "sizemode": "area",
            "sizeref": 3.8625,
            "symbol": "circle"
           },
           "mode": "markers",
           "name": "MailOnline",
           "orientation": "v",
           "showlegend": true,
           "type": "scatter",
           "x": [
            0.1653
           ],
           "xaxis": "x",
           "y": [
            0.0056
           ],
           "yaxis": "y"
          }
         ],
         "name": "2021-11-09"
        },
        {
         "data": [
          {
           "hovertemplate": "<b>%{hovertext}</b><br><br>Username=Daily_Express<br>only_date=2021-11-11<br>positive=%{x}<br>negative=%{y}<br>Like Count=%{marker.size}<extra></extra>",
           "hovertext": [
            "Daily_Express"
           ],
           "legendgroup": "Daily_Express",
           "marker": {
            "color": "#EF553B",
            "size": [
             4
            ],
            "sizemode": "area",
            "sizeref": 3.8625,
            "symbol": "circle"
           },
           "mode": "markers",
           "name": "Daily_Express",
           "orientation": "v",
           "showlegend": true,
           "type": "scatter",
           "x": [
            0.0153
           ],
           "xaxis": "x",
           "y": [
            0.6844
           ],
           "yaxis": "y"
          }
         ],
         "name": "2021-11-11"
        },
        {
         "data": [
          {
           "hovertemplate": "<b>%{hovertext}</b><br><br>Username=MailOnline<br>only_date=2021-11-12<br>positive=%{x}<br>negative=%{y}<br>Like Count=%{marker.size}<extra></extra>",
           "hovertext": [
            "MailOnline",
            "MailOnline"
           ],
           "legendgroup": "MailOnline",
           "marker": {
            "color": "#ab63fa",
            "size": [
             7,
             10
            ],
            "sizemode": "area",
            "sizeref": 3.8625,
            "symbol": "circle"
           },
           "mode": "markers",
           "name": "MailOnline",
           "orientation": "v",
           "showlegend": true,
           "type": "scatter",
           "x": [
            0.0056,
            0.0084
           ],
           "xaxis": "x",
           "y": [
            0.799,
            0.7393
           ],
           "yaxis": "y"
          }
         ],
         "name": "2021-11-12"
        },
        {
         "data": [
          {
           "hovertemplate": "<b>%{hovertext}</b><br><br>Username=Daily_Express<br>only_date=2021-11-15<br>positive=%{x}<br>negative=%{y}<br>Like Count=%{marker.size}<extra></extra>",
           "hovertext": [
            "Daily_Express"
           ],
           "legendgroup": "Daily_Express",
           "marker": {
            "color": "#EF553B",
            "size": [
             1
            ],
            "sizemode": "area",
            "sizeref": 3.8625,
            "symbol": "circle"
           },
           "mode": "markers",
           "name": "Daily_Express",
           "orientation": "v",
           "showlegend": true,
           "type": "scatter",
           "x": [
            0.0119
           ],
           "xaxis": "x",
           "y": [
            0.6994
           ],
           "yaxis": "y"
          },
          {
           "hovertemplate": "<b>%{hovertext}</b><br><br>Username=TheSun<br>only_date=2021-11-15<br>positive=%{x}<br>negative=%{y}<br>Like Count=%{marker.size}<extra></extra>",
           "hovertext": [
            "TheSun"
           ],
           "legendgroup": "TheSun",
           "marker": {
            "color": "#00cc96",
            "size": [
             9
            ],
            "sizemode": "area",
            "sizeref": 3.8625,
            "symbol": "circle"
           },
           "mode": "markers",
           "name": "TheSun",
           "orientation": "v",
           "showlegend": true,
           "type": "scatter",
           "x": [
            0.0087
           ],
           "xaxis": "x",
           "y": [
            0.7156
           ],
           "yaxis": "y"
          },
          {
           "hovertemplate": "<b>%{hovertext}</b><br><br>Username=MailOnline<br>only_date=2021-11-15<br>positive=%{x}<br>negative=%{y}<br>Like Count=%{marker.size}<extra></extra>",
           "hovertext": [
            "MailOnline"
           ],
           "legendgroup": "MailOnline",
           "marker": {
            "color": "#ab63fa",
            "size": [
             8
            ],
            "sizemode": "area",
            "sizeref": 3.8625,
            "symbol": "circle"
           },
           "mode": "markers",
           "name": "MailOnline",
           "orientation": "v",
           "showlegend": true,
           "type": "scatter",
           "x": [
            0.0094
           ],
           "xaxis": "x",
           "y": [
            0.688
           ],
           "yaxis": "y"
          }
         ],
         "name": "2021-11-15"
        },
        {
         "data": [
          {
           "hovertemplate": "<b>%{hovertext}</b><br><br>Username=TheSun<br>only_date=2021-11-17<br>positive=%{x}<br>negative=%{y}<br>Like Count=%{marker.size}<extra></extra>",
           "hovertext": [
            "TheSun"
           ],
           "legendgroup": "TheSun",
           "marker": {
            "color": "#00cc96",
            "size": [
             6
            ],
            "sizemode": "area",
            "sizeref": 3.8625,
            "symbol": "circle"
           },
           "mode": "markers",
           "name": "TheSun",
           "orientation": "v",
           "showlegend": true,
           "type": "scatter",
           "x": [
            0.0079
           ],
           "xaxis": "x",
           "y": [
            0.7718
           ],
           "yaxis": "y"
          }
         ],
         "name": "2021-11-17"
        },
        {
         "data": [
          {
           "hovertemplate": "<b>%{hovertext}</b><br><br>Username=DailyMailUK<br>only_date=2021-11-18<br>positive=%{x}<br>negative=%{y}<br>Like Count=%{marker.size}<extra></extra>",
           "hovertext": [
            "DailyMailUK",
            "DailyMailUK",
            "DailyMailUK"
           ],
           "legendgroup": "DailyMailUK",
           "marker": {
            "color": "#636efa",
            "size": [
             21,
             48,
             5
            ],
            "sizemode": "area",
            "sizeref": 3.8625,
            "symbol": "circle"
           },
           "mode": "markers",
           "name": "DailyMailUK",
           "orientation": "v",
           "showlegend": true,
           "type": "scatter",
           "x": [
            0.0165,
            0.0583,
            0.619
           ],
           "xaxis": "x",
           "y": [
            0.4708,
            0.006,
            0.0038
           ],
           "yaxis": "y"
          },
          {
           "hovertemplate": "<b>%{hovertext}</b><br><br>Username=Daily_Express<br>only_date=2021-11-18<br>positive=%{x}<br>negative=%{y}<br>Like Count=%{marker.size}<extra></extra>",
           "hovertext": [
            "Daily_Express",
            "Daily_Express"
           ],
           "legendgroup": "Daily_Express",
           "marker": {
            "color": "#EF553B",
            "size": [
             7,
             10
            ],
            "sizemode": "area",
            "sizeref": 3.8625,
            "symbol": "circle"
           },
           "mode": "markers",
           "name": "Daily_Express",
           "orientation": "v",
           "showlegend": true,
           "type": "scatter",
           "x": [
            0.0155,
            0.0506
           ],
           "xaxis": "x",
           "y": [
            0.6316,
            0.2675
           ],
           "yaxis": "y"
          },
          {
           "hovertemplate": "<b>%{hovertext}</b><br><br>Username=MailOnline<br>only_date=2021-11-18<br>positive=%{x}<br>negative=%{y}<br>Like Count=%{marker.size}<extra></extra>",
           "hovertext": [
            "MailOnline",
            "MailOnline"
           ],
           "legendgroup": "MailOnline",
           "marker": {
            "color": "#ab63fa",
            "size": [
             10,
             141
            ],
            "sizemode": "area",
            "sizeref": 3.8625,
            "symbol": "circle"
           },
           "mode": "markers",
           "name": "MailOnline",
           "orientation": "v",
           "showlegend": true,
           "type": "scatter",
           "x": [
            0.0169,
            0.0204
           ],
           "xaxis": "x",
           "y": [
            0.4268,
            0.2181
           ],
           "yaxis": "y"
          }
         ],
         "name": "2021-11-18"
        },
        {
         "data": [
          {
           "hovertemplate": "<b>%{hovertext}</b><br><br>Username=TheSun<br>only_date=2021-11-19<br>positive=%{x}<br>negative=%{y}<br>Like Count=%{marker.size}<extra></extra>",
           "hovertext": [
            "TheSun"
           ],
           "legendgroup": "TheSun",
           "marker": {
            "color": "#00cc96",
            "size": [
             23
            ],
            "sizemode": "area",
            "sizeref": 3.8625,
            "symbol": "circle"
           },
           "mode": "markers",
           "name": "TheSun",
           "orientation": "v",
           "showlegend": true,
           "type": "scatter",
           "x": [
            0.0211
           ],
           "xaxis": "x",
           "y": [
            0.2283
           ],
           "yaxis": "y"
          }
         ],
         "name": "2021-11-19"
        },
        {
         "data": [
          {
           "hovertemplate": "<b>%{hovertext}</b><br><br>Username=DailyMailUK<br>only_date=2021-11-20<br>positive=%{x}<br>negative=%{y}<br>Like Count=%{marker.size}<extra></extra>",
           "hovertext": [
            "DailyMailUK"
           ],
           "legendgroup": "DailyMailUK",
           "marker": {
            "color": "#636efa",
            "size": [
             17
            ],
            "sizemode": "area",
            "sizeref": 3.8625,
            "symbol": "circle"
           },
           "mode": "markers",
           "name": "DailyMailUK",
           "orientation": "v",
           "showlegend": true,
           "type": "scatter",
           "x": [
            0.0085
           ],
           "xaxis": "x",
           "y": [
            0.5417
           ],
           "yaxis": "y"
          },
          {
           "hovertemplate": "<b>%{hovertext}</b><br><br>Username=Daily_Express<br>only_date=2021-11-20<br>positive=%{x}<br>negative=%{y}<br>Like Count=%{marker.size}<extra></extra>",
           "hovertext": [
            "Daily_Express",
            "Daily_Express"
           ],
           "legendgroup": "Daily_Express",
           "marker": {
            "color": "#EF553B",
            "size": [
             0,
             3
            ],
            "sizemode": "area",
            "sizeref": 3.8625,
            "symbol": "circle"
           },
           "mode": "markers",
           "name": "Daily_Express",
           "orientation": "v",
           "showlegend": true,
           "type": "scatter",
           "x": [
            0.0107,
            0.0106
           ],
           "xaxis": "x",
           "y": [
            0.523,
            0.8155
           ],
           "yaxis": "y"
          },
          {
           "hovertemplate": "<b>%{hovertext}</b><br><br>Username=MailOnline<br>only_date=2021-11-20<br>positive=%{x}<br>negative=%{y}<br>Like Count=%{marker.size}<extra></extra>",
           "hovertext": [
            "MailOnline"
           ],
           "legendgroup": "MailOnline",
           "marker": {
            "color": "#ab63fa",
            "size": [
             107
            ],
            "sizemode": "area",
            "sizeref": 3.8625,
            "symbol": "circle"
           },
           "mode": "markers",
           "name": "MailOnline",
           "orientation": "v",
           "showlegend": true,
           "type": "scatter",
           "x": [
            0.0069
           ],
           "xaxis": "x",
           "y": [
            0.7967
           ],
           "yaxis": "y"
          }
         ],
         "name": "2021-11-20"
        },
        {
         "data": [
          {
           "hovertemplate": "<b>%{hovertext}</b><br><br>Username=TheSun<br>only_date=2021-11-21<br>positive=%{x}<br>negative=%{y}<br>Like Count=%{marker.size}<extra></extra>",
           "hovertext": [
            "TheSun"
           ],
           "legendgroup": "TheSun",
           "marker": {
            "color": "#00cc96",
            "size": [
             44
            ],
            "sizemode": "area",
            "sizeref": 3.8625,
            "symbol": "circle"
           },
           "mode": "markers",
           "name": "TheSun",
           "orientation": "v",
           "showlegend": true,
           "type": "scatter",
           "x": [
            0.3318
           ],
           "xaxis": "x",
           "y": [
            0.11
           ],
           "yaxis": "y"
          },
          {
           "hovertemplate": "<b>%{hovertext}</b><br><br>Username=MailOnline<br>only_date=2021-11-21<br>positive=%{x}<br>negative=%{y}<br>Like Count=%{marker.size}<extra></extra>",
           "hovertext": [
            "MailOnline"
           ],
           "legendgroup": "MailOnline",
           "marker": {
            "color": "#ab63fa",
            "size": [
             74
            ],
            "sizemode": "area",
            "sizeref": 3.8625,
            "symbol": "circle"
           },
           "mode": "markers",
           "name": "MailOnline",
           "orientation": "v",
           "showlegend": true,
           "type": "scatter",
           "x": [
            0.0075
           ],
           "xaxis": "x",
           "y": [
            0.6902
           ],
           "yaxis": "y"
          }
         ],
         "name": "2021-11-21"
        },
        {
         "data": [
          {
           "hovertemplate": "<b>%{hovertext}</b><br><br>Username=MailOnline<br>only_date=2021-11-24<br>positive=%{x}<br>negative=%{y}<br>Like Count=%{marker.size}<extra></extra>",
           "hovertext": [
            "MailOnline"
           ],
           "legendgroup": "MailOnline",
           "marker": {
            "color": "#ab63fa",
            "size": [
             7
            ],
            "sizemode": "area",
            "sizeref": 3.8625,
            "symbol": "circle"
           },
           "mode": "markers",
           "name": "MailOnline",
           "orientation": "v",
           "showlegend": true,
           "type": "scatter",
           "x": [
            0.0094
           ],
           "xaxis": "x",
           "y": [
            0.7621
           ],
           "yaxis": "y"
          }
         ],
         "name": "2021-11-24"
        },
        {
         "data": [
          {
           "hovertemplate": "<b>%{hovertext}</b><br><br>Username=MailOnline<br>only_date=2021-11-27<br>positive=%{x}<br>negative=%{y}<br>Like Count=%{marker.size}<extra></extra>",
           "hovertext": [
            "MailOnline",
            "MailOnline",
            "MailOnline",
            "MailOnline"
           ],
           "legendgroup": "MailOnline",
           "marker": {
            "color": "#ab63fa",
            "size": [
             6,
             628,
             24,
             30
            ],
            "sizemode": "area",
            "sizeref": 3.8625,
            "symbol": "circle"
           },
           "mode": "markers",
           "name": "MailOnline",
           "orientation": "v",
           "showlegend": true,
           "type": "scatter",
           "x": [
            0.0046,
            0.0041,
            0.0043,
            0.0041
           ],
           "xaxis": "x",
           "y": [
            0.8038,
            0.8663,
            0.857,
            0.8782
           ],
           "yaxis": "y"
          }
         ],
         "name": "2021-11-27"
        },
        {
         "data": [
          {
           "hovertemplate": "<b>%{hovertext}</b><br><br>Username=MailOnline<br>only_date=2021-11-30<br>positive=%{x}<br>negative=%{y}<br>Like Count=%{marker.size}<extra></extra>",
           "hovertext": [
            "MailOnline",
            "MailOnline"
           ],
           "legendgroup": "MailOnline",
           "marker": {
            "color": "#ab63fa",
            "size": [
             30,
             12
            ],
            "sizemode": "area",
            "sizeref": 3.8625,
            "symbol": "circle"
           },
           "mode": "markers",
           "name": "MailOnline",
           "orientation": "v",
           "showlegend": true,
           "type": "scatter",
           "x": [
            0.0108,
            0.0104
           ],
           "xaxis": "x",
           "y": [
            0.3575,
            0.605
           ],
           "yaxis": "y"
          }
         ],
         "name": "2021-11-30"
        },
        {
         "data": [
          {
           "hovertemplate": "<b>%{hovertext}</b><br><br>Username=DailyMailUK<br>only_date=2021-12-01<br>positive=%{x}<br>negative=%{y}<br>Like Count=%{marker.size}<extra></extra>",
           "hovertext": [
            "DailyMailUK"
           ],
           "legendgroup": "DailyMailUK",
           "marker": {
            "color": "#636efa",
            "size": [
             10
            ],
            "sizemode": "area",
            "sizeref": 3.8625,
            "symbol": "circle"
           },
           "mode": "markers",
           "name": "DailyMailUK",
           "orientation": "v",
           "showlegend": true,
           "type": "scatter",
           "x": [
            0.0051
           ],
           "xaxis": "x",
           "y": [
            0.9042
           ],
           "yaxis": "y"
          },
          {
           "hovertemplate": "<b>%{hovertext}</b><br><br>Username=Daily_Express<br>only_date=2021-12-01<br>positive=%{x}<br>negative=%{y}<br>Like Count=%{marker.size}<extra></extra>",
           "hovertext": [
            "Daily_Express"
           ],
           "legendgroup": "Daily_Express",
           "marker": {
            "color": "#EF553B",
            "size": [
             0
            ],
            "sizemode": "area",
            "sizeref": 3.8625,
            "symbol": "circle"
           },
           "mode": "markers",
           "name": "Daily_Express",
           "orientation": "v",
           "showlegend": true,
           "type": "scatter",
           "x": [
            0.0112
           ],
           "xaxis": "x",
           "y": [
            0.5597
           ],
           "yaxis": "y"
          }
         ],
         "name": "2021-12-01"
        },
        {
         "data": [
          {
           "hovertemplate": "<b>%{hovertext}</b><br><br>Username=DailyMailUK<br>only_date=2021-12-02<br>positive=%{x}<br>negative=%{y}<br>Like Count=%{marker.size}<extra></extra>",
           "hovertext": [
            "DailyMailUK"
           ],
           "legendgroup": "DailyMailUK",
           "marker": {
            "color": "#636efa",
            "size": [
             20
            ],
            "sizemode": "area",
            "sizeref": 3.8625,
            "symbol": "circle"
           },
           "mode": "markers",
           "name": "DailyMailUK",
           "orientation": "v",
           "showlegend": true,
           "type": "scatter",
           "x": [
            0.0075
           ],
           "xaxis": "x",
           "y": [
            0.7565
           ],
           "yaxis": "y"
          }
         ],
         "name": "2021-12-02"
        },
        {
         "data": [
          {
           "hovertemplate": "<b>%{hovertext}</b><br><br>Username=MailOnline<br>only_date=2021-12-04<br>positive=%{x}<br>negative=%{y}<br>Like Count=%{marker.size}<extra></extra>",
           "hovertext": [
            "MailOnline"
           ],
           "legendgroup": "MailOnline",
           "marker": {
            "color": "#ab63fa",
            "size": [
             34
            ],
            "sizemode": "area",
            "sizeref": 3.8625,
            "symbol": "circle"
           },
           "mode": "markers",
           "name": "MailOnline",
           "orientation": "v",
           "showlegend": true,
           "type": "scatter",
           "x": [
            0.0075
           ],
           "xaxis": "x",
           "y": [
            0.8311
           ],
           "yaxis": "y"
          }
         ],
         "name": "2021-12-04"
        },
        {
         "data": [
          {
           "hovertemplate": "<b>%{hovertext}</b><br><br>Username=DailyMailUK<br>only_date=2021-12-05<br>positive=%{x}<br>negative=%{y}<br>Like Count=%{marker.size}<extra></extra>",
           "hovertext": [
            "DailyMailUK"
           ],
           "legendgroup": "DailyMailUK",
           "marker": {
            "color": "#636efa",
            "size": [
             15
            ],
            "sizemode": "area",
            "sizeref": 3.8625,
            "symbol": "circle"
           },
           "mode": "markers",
           "name": "DailyMailUK",
           "orientation": "v",
           "showlegend": true,
           "type": "scatter",
           "x": [
            0.0155
           ],
           "xaxis": "x",
           "y": [
            0.3304
           ],
           "yaxis": "y"
          }
         ],
         "name": "2021-12-05"
        },
        {
         "data": [
          {
           "hovertemplate": "<b>%{hovertext}</b><br><br>Username=MailOnline<br>only_date=2021-12-10<br>positive=%{x}<br>negative=%{y}<br>Like Count=%{marker.size}<extra></extra>",
           "hovertext": [
            "MailOnline"
           ],
           "legendgroup": "MailOnline",
           "marker": {
            "color": "#ab63fa",
            "size": [
             36
            ],
            "sizemode": "area",
            "sizeref": 3.8625,
            "symbol": "circle"
           },
           "mode": "markers",
           "name": "MailOnline",
           "orientation": "v",
           "showlegend": true,
           "type": "scatter",
           "x": [
            0.0078
           ],
           "xaxis": "x",
           "y": [
            0.7175
           ],
           "yaxis": "y"
          }
         ],
         "name": "2021-12-10"
        },
        {
         "data": [
          {
           "hovertemplate": "<b>%{hovertext}</b><br><br>Username=Daily_Express<br>only_date=2021-12-11<br>positive=%{x}<br>negative=%{y}<br>Like Count=%{marker.size}<extra></extra>",
           "hovertext": [
            "Daily_Express"
           ],
           "legendgroup": "Daily_Express",
           "marker": {
            "color": "#EF553B",
            "size": [
             5
            ],
            "sizemode": "area",
            "sizeref": 3.8625,
            "symbol": "circle"
           },
           "mode": "markers",
           "name": "Daily_Express",
           "orientation": "v",
           "showlegend": true,
           "type": "scatter",
           "x": [
            0.0274
           ],
           "xaxis": "x",
           "y": [
            0.368
           ],
           "yaxis": "y"
          },
          {
           "hovertemplate": "<b>%{hovertext}</b><br><br>Username=TheSun<br>only_date=2021-12-11<br>positive=%{x}<br>negative=%{y}<br>Like Count=%{marker.size}<extra></extra>",
           "hovertext": [
            "TheSun"
           ],
           "legendgroup": "TheSun",
           "marker": {
            "color": "#00cc96",
            "size": [
             10
            ],
            "sizemode": "area",
            "sizeref": 3.8625,
            "symbol": "circle"
           },
           "mode": "markers",
           "name": "TheSun",
           "orientation": "v",
           "showlegend": true,
           "type": "scatter",
           "x": [
            0.0114
           ],
           "xaxis": "x",
           "y": [
            0.5421
           ],
           "yaxis": "y"
          }
         ],
         "name": "2021-12-11"
        },
        {
         "data": [
          {
           "hovertemplate": "<b>%{hovertext}</b><br><br>Username=MailOnline<br>only_date=2021-12-14<br>positive=%{x}<br>negative=%{y}<br>Like Count=%{marker.size}<extra></extra>",
           "hovertext": [
            "MailOnline",
            "MailOnline"
           ],
           "legendgroup": "MailOnline",
           "marker": {
            "color": "#ab63fa",
            "size": [
             15,
             5
            ],
            "sizemode": "area",
            "sizeref": 3.8625,
            "symbol": "circle"
           },
           "mode": "markers",
           "name": "MailOnline",
           "orientation": "v",
           "showlegend": true,
           "type": "scatter",
           "x": [
            0.0075,
            0.0067
           ],
           "xaxis": "x",
           "y": [
            0.6438,
            0.7991
           ],
           "yaxis": "y"
          }
         ],
         "name": "2021-12-14"
        },
        {
         "data": [
          {
           "hovertemplate": "<b>%{hovertext}</b><br><br>Username=DailyMailUK<br>only_date=2021-12-16<br>positive=%{x}<br>negative=%{y}<br>Like Count=%{marker.size}<extra></extra>",
           "hovertext": [
            "DailyMailUK"
           ],
           "legendgroup": "DailyMailUK",
           "marker": {
            "color": "#636efa",
            "size": [
             0
            ],
            "sizemode": "area",
            "sizeref": 3.8625,
            "symbol": "circle"
           },
           "mode": "markers",
           "name": "DailyMailUK",
           "orientation": "v",
           "showlegend": true,
           "type": "scatter",
           "x": [
            0.0059
           ],
           "xaxis": "x",
           "y": [
            0.7913
           ],
           "yaxis": "y"
          },
          {
           "hovertemplate": "<b>%{hovertext}</b><br><br>Username=MailOnline<br>only_date=2021-12-16<br>positive=%{x}<br>negative=%{y}<br>Like Count=%{marker.size}<extra></extra>",
           "hovertext": [
            "MailOnline"
           ],
           "legendgroup": "MailOnline",
           "marker": {
            "color": "#ab63fa",
            "size": [
             4
            ],
            "sizemode": "area",
            "sizeref": 3.8625,
            "symbol": "circle"
           },
           "mode": "markers",
           "name": "MailOnline",
           "orientation": "v",
           "showlegend": true,
           "type": "scatter",
           "x": [
            0.0042
           ],
           "xaxis": "x",
           "y": [
            0.8757
           ],
           "yaxis": "y"
          }
         ],
         "name": "2021-12-16"
        },
        {
         "data": [
          {
           "hovertemplate": "<b>%{hovertext}</b><br><br>Username=MailOnline<br>only_date=2021-12-17<br>positive=%{x}<br>negative=%{y}<br>Like Count=%{marker.size}<extra></extra>",
           "hovertext": [
            "MailOnline"
           ],
           "legendgroup": "MailOnline",
           "marker": {
            "color": "#ab63fa",
            "size": [
             22
            ],
            "sizemode": "area",
            "sizeref": 3.8625,
            "symbol": "circle"
           },
           "mode": "markers",
           "name": "MailOnline",
           "orientation": "v",
           "showlegend": true,
           "type": "scatter",
           "x": [
            0.0397
           ],
           "xaxis": "x",
           "y": [
            0.2556
           ],
           "yaxis": "y"
          }
         ],
         "name": "2021-12-17"
        },
        {
         "data": [
          {
           "hovertemplate": "<b>%{hovertext}</b><br><br>Username=DailyMailUK<br>only_date=2021-12-19<br>positive=%{x}<br>negative=%{y}<br>Like Count=%{marker.size}<extra></extra>",
           "hovertext": [
            "DailyMailUK"
           ],
           "legendgroup": "DailyMailUK",
           "marker": {
            "color": "#636efa",
            "size": [
             1
            ],
            "sizemode": "area",
            "sizeref": 3.8625,
            "symbol": "circle"
           },
           "mode": "markers",
           "name": "DailyMailUK",
           "orientation": "v",
           "showlegend": true,
           "type": "scatter",
           "x": [
            0.0078
           ],
           "xaxis": "x",
           "y": [
            0.7946
           ],
           "yaxis": "y"
          }
         ],
         "name": "2021-12-19"
        },
        {
         "data": [
          {
           "hovertemplate": "<b>%{hovertext}</b><br><br>Username=MailOnline<br>only_date=2021-12-21<br>positive=%{x}<br>negative=%{y}<br>Like Count=%{marker.size}<extra></extra>",
           "hovertext": [
            "MailOnline"
           ],
           "legendgroup": "MailOnline",
           "marker": {
            "color": "#ab63fa",
            "size": [
             27
            ],
            "sizemode": "area",
            "sizeref": 3.8625,
            "symbol": "circle"
           },
           "mode": "markers",
           "name": "MailOnline",
           "orientation": "v",
           "showlegend": true,
           "type": "scatter",
           "x": [
            0.0087
           ],
           "xaxis": "x",
           "y": [
            0.419
           ],
           "yaxis": "y"
          }
         ],
         "name": "2021-12-21"
        },
        {
         "data": [
          {
           "hovertemplate": "<b>%{hovertext}</b><br><br>Username=MailOnline<br>only_date=2021-12-24<br>positive=%{x}<br>negative=%{y}<br>Like Count=%{marker.size}<extra></extra>",
           "hovertext": [
            "MailOnline"
           ],
           "legendgroup": "MailOnline",
           "marker": {
            "color": "#ab63fa",
            "size": [
             20
            ],
            "sizemode": "area",
            "sizeref": 3.8625,
            "symbol": "circle"
           },
           "mode": "markers",
           "name": "MailOnline",
           "orientation": "v",
           "showlegend": true,
           "type": "scatter",
           "x": [
            0.0075
           ],
           "xaxis": "x",
           "y": [
            0.6277
           ],
           "yaxis": "y"
          }
         ],
         "name": "2021-12-24"
        },
        {
         "data": [
          {
           "hovertemplate": "<b>%{hovertext}</b><br><br>Username=Daily_Express<br>only_date=2021-12-26<br>positive=%{x}<br>negative=%{y}<br>Like Count=%{marker.size}<extra></extra>",
           "hovertext": [
            "Daily_Express"
           ],
           "legendgroup": "Daily_Express",
           "marker": {
            "color": "#EF553B",
            "size": [
             2
            ],
            "sizemode": "area",
            "sizeref": 3.8625,
            "symbol": "circle"
           },
           "mode": "markers",
           "name": "Daily_Express",
           "orientation": "v",
           "showlegend": true,
           "type": "scatter",
           "x": [
            0.0271
           ],
           "xaxis": "x",
           "y": [
            0.0943
           ],
           "yaxis": "y"
          }
         ],
         "name": "2021-12-26"
        },
        {
         "data": [
          {
           "hovertemplate": "<b>%{hovertext}</b><br><br>Username=Daily_Express<br>only_date=2021-12-30<br>positive=%{x}<br>negative=%{y}<br>Like Count=%{marker.size}<extra></extra>",
           "hovertext": [
            "Daily_Express",
            "Daily_Express"
           ],
           "legendgroup": "Daily_Express",
           "marker": {
            "color": "#EF553B",
            "size": [
             22,
             0
            ],
            "sizemode": "area",
            "sizeref": 3.8625,
            "symbol": "circle"
           },
           "mode": "markers",
           "name": "Daily_Express",
           "orientation": "v",
           "showlegend": true,
           "type": "scatter",
           "x": [
            0.0115,
            0.1724
           ],
           "xaxis": "x",
           "y": [
            0.6999,
            0.0041
           ],
           "yaxis": "y"
          }
         ],
         "name": "2021-12-30"
        },
        {
         "data": [
          {
           "hovertemplate": "<b>%{hovertext}</b><br><br>Username=DailyMailUK<br>only_date=2021-12-31<br>positive=%{x}<br>negative=%{y}<br>Like Count=%{marker.size}<extra></extra>",
           "hovertext": [
            "DailyMailUK"
           ],
           "legendgroup": "DailyMailUK",
           "marker": {
            "color": "#636efa",
            "size": [
             6
            ],
            "sizemode": "area",
            "sizeref": 3.8625,
            "symbol": "circle"
           },
           "mode": "markers",
           "name": "DailyMailUK",
           "orientation": "v",
           "showlegend": true,
           "type": "scatter",
           "x": [
            0.014
           ],
           "xaxis": "x",
           "y": [
            0.2695
           ],
           "yaxis": "y"
          },
          {
           "hovertemplate": "<b>%{hovertext}</b><br><br>Username=Daily_Express<br>only_date=2021-12-31<br>positive=%{x}<br>negative=%{y}<br>Like Count=%{marker.size}<extra></extra>",
           "hovertext": [
            "Daily_Express"
           ],
           "legendgroup": "Daily_Express",
           "marker": {
            "color": "#EF553B",
            "size": [
             2
            ],
            "sizemode": "area",
            "sizeref": 3.8625,
            "symbol": "circle"
           },
           "mode": "markers",
           "name": "Daily_Express",
           "orientation": "v",
           "showlegend": true,
           "type": "scatter",
           "x": [
            0.0097
           ],
           "xaxis": "x",
           "y": [
            0.5147
           ],
           "yaxis": "y"
          }
         ],
         "name": "2021-12-31"
        },
        {
         "data": [
          {
           "hovertemplate": "<b>%{hovertext}</b><br><br>Username=MailOnline<br>only_date=2022-01-03<br>positive=%{x}<br>negative=%{y}<br>Like Count=%{marker.size}<extra></extra>",
           "hovertext": [
            "MailOnline"
           ],
           "legendgroup": "MailOnline",
           "marker": {
            "color": "#ab63fa",
            "size": [
             16
            ],
            "sizemode": "area",
            "sizeref": 3.8625,
            "symbol": "circle"
           },
           "mode": "markers",
           "name": "MailOnline",
           "orientation": "v",
           "showlegend": true,
           "type": "scatter",
           "x": [
            0.0049
           ],
           "xaxis": "x",
           "y": [
            0.8484
           ],
           "yaxis": "y"
          }
         ],
         "name": "2022-01-03"
        },
        {
         "data": [
          {
           "hovertemplate": "<b>%{hovertext}</b><br><br>Username=Daily_Express<br>only_date=2022-01-04<br>positive=%{x}<br>negative=%{y}<br>Like Count=%{marker.size}<extra></extra>",
           "hovertext": [
            "Daily_Express",
            "Daily_Express"
           ],
           "legendgroup": "Daily_Express",
           "marker": {
            "color": "#EF553B",
            "size": [
             2,
             2
            ],
            "sizemode": "area",
            "sizeref": 3.8625,
            "symbol": "circle"
           },
           "mode": "markers",
           "name": "Daily_Express",
           "orientation": "v",
           "showlegend": true,
           "type": "scatter",
           "x": [
            0.1735,
            0.012
           ],
           "xaxis": "x",
           "y": [
            0.0039,
            0.361
           ],
           "yaxis": "y"
          },
          {
           "hovertemplate": "<b>%{hovertext}</b><br><br>Username=MailOnline<br>only_date=2022-01-04<br>positive=%{x}<br>negative=%{y}<br>Like Count=%{marker.size}<extra></extra>",
           "hovertext": [
            "MailOnline"
           ],
           "legendgroup": "MailOnline",
           "marker": {
            "color": "#ab63fa",
            "size": [
             39
            ],
            "sizemode": "area",
            "sizeref": 3.8625,
            "symbol": "circle"
           },
           "mode": "markers",
           "name": "MailOnline",
           "orientation": "v",
           "showlegend": true,
           "type": "scatter",
           "x": [
            0.0058
           ],
           "xaxis": "x",
           "y": [
            0.7886
           ],
           "yaxis": "y"
          }
         ],
         "name": "2022-01-04"
        },
        {
         "data": [
          {
           "hovertemplate": "<b>%{hovertext}</b><br><br>Username=DailyMailUK<br>only_date=2022-01-05<br>positive=%{x}<br>negative=%{y}<br>Like Count=%{marker.size}<extra></extra>",
           "hovertext": [
            "DailyMailUK"
           ],
           "legendgroup": "DailyMailUK",
           "marker": {
            "color": "#636efa",
            "size": [
             6
            ],
            "sizemode": "area",
            "sizeref": 3.8625,
            "symbol": "circle"
           },
           "mode": "markers",
           "name": "DailyMailUK",
           "orientation": "v",
           "showlegend": true,
           "type": "scatter",
           "x": [
            0.1814
           ],
           "xaxis": "x",
           "y": [
            0.1467
           ],
           "yaxis": "y"
          }
         ],
         "name": "2022-01-05"
        },
        {
         "data": [
          {
           "hovertemplate": "<b>%{hovertext}</b><br><br>Username=DailyMailUK<br>only_date=2022-01-06<br>positive=%{x}<br>negative=%{y}<br>Like Count=%{marker.size}<extra></extra>",
           "hovertext": [
            "DailyMailUK"
           ],
           "legendgroup": "DailyMailUK",
           "marker": {
            "color": "#636efa",
            "size": [
             5
            ],
            "sizemode": "area",
            "sizeref": 3.8625,
            "symbol": "circle"
           },
           "mode": "markers",
           "name": "DailyMailUK",
           "orientation": "v",
           "showlegend": true,
           "type": "scatter",
           "x": [
            0.0066
           ],
           "xaxis": "x",
           "y": [
            0.8417
           ],
           "yaxis": "y"
          },
          {
           "hovertemplate": "<b>%{hovertext}</b><br><br>Username=Daily_Express<br>only_date=2022-01-06<br>positive=%{x}<br>negative=%{y}<br>Like Count=%{marker.size}<extra></extra>",
           "hovertext": [
            "Daily_Express"
           ],
           "legendgroup": "Daily_Express",
           "marker": {
            "color": "#EF553B",
            "size": [
             2
            ],
            "sizemode": "area",
            "sizeref": 3.8625,
            "symbol": "circle"
           },
           "mode": "markers",
           "name": "Daily_Express",
           "orientation": "v",
           "showlegend": true,
           "type": "scatter",
           "x": [
            0.0075
           ],
           "xaxis": "x",
           "y": [
            0.7455
           ],
           "yaxis": "y"
          }
         ],
         "name": "2022-01-06"
        },
        {
         "data": [
          {
           "hovertemplate": "<b>%{hovertext}</b><br><br>Username=MailOnline<br>only_date=2022-01-11<br>positive=%{x}<br>negative=%{y}<br>Like Count=%{marker.size}<extra></extra>",
           "hovertext": [
            "MailOnline",
            "MailOnline"
           ],
           "legendgroup": "MailOnline",
           "marker": {
            "color": "#ab63fa",
            "size": [
             9,
             12
            ],
            "sizemode": "area",
            "sizeref": 3.8625,
            "symbol": "circle"
           },
           "mode": "markers",
           "name": "MailOnline",
           "orientation": "v",
           "showlegend": true,
           "type": "scatter",
           "x": [
            0.007,
            0.0164
           ],
           "xaxis": "x",
           "y": [
            0.6486,
            0.4436
           ],
           "yaxis": "y"
          }
         ],
         "name": "2022-01-11"
        },
        {
         "data": [
          {
           "hovertemplate": "<b>%{hovertext}</b><br><br>Username=DailyMailUK<br>only_date=2022-01-12<br>positive=%{x}<br>negative=%{y}<br>Like Count=%{marker.size}<extra></extra>",
           "hovertext": [
            "DailyMailUK",
            "DailyMailUK",
            "DailyMailUK"
           ],
           "legendgroup": "DailyMailUK",
           "marker": {
            "color": "#636efa",
            "size": [
             2,
             4,
             5
            ],
            "sizemode": "area",
            "sizeref": 3.8625,
            "symbol": "circle"
           },
           "mode": "markers",
           "name": "DailyMailUK",
           "orientation": "v",
           "showlegend": true,
           "type": "scatter",
           "x": [
            0.0046,
            0.0396,
            0.0115
           ],
           "xaxis": "x",
           "y": [
            0.8058,
            0.0217,
            0.5285
           ],
           "yaxis": "y"
          },
          {
           "hovertemplate": "<b>%{hovertext}</b><br><br>Username=MailOnline<br>only_date=2022-01-12<br>positive=%{x}<br>negative=%{y}<br>Like Count=%{marker.size}<extra></extra>",
           "hovertext": [
            "MailOnline",
            "MailOnline"
           ],
           "legendgroup": "MailOnline",
           "marker": {
            "color": "#ab63fa",
            "size": [
             13,
             16
            ],
            "sizemode": "area",
            "sizeref": 3.8625,
            "symbol": "circle"
           },
           "mode": "markers",
           "name": "MailOnline",
           "orientation": "v",
           "showlegend": true,
           "type": "scatter",
           "x": [
            0.0083,
            0.0106
           ],
           "xaxis": "x",
           "y": [
            0.6655,
            0.5542
           ],
           "yaxis": "y"
          }
         ],
         "name": "2022-01-12"
        },
        {
         "data": [
          {
           "hovertemplate": "<b>%{hovertext}</b><br><br>Username=MailOnline<br>only_date=2022-01-16<br>positive=%{x}<br>negative=%{y}<br>Like Count=%{marker.size}<extra></extra>",
           "hovertext": [
            "MailOnline",
            "MailOnline"
           ],
           "legendgroup": "MailOnline",
           "marker": {
            "color": "#ab63fa",
            "size": [
             4,
             23
            ],
            "sizemode": "area",
            "sizeref": 3.8625,
            "symbol": "circle"
           },
           "mode": "markers",
           "name": "MailOnline",
           "orientation": "v",
           "showlegend": true,
           "type": "scatter",
           "x": [
            0.0075,
            0.0054
           ],
           "xaxis": "x",
           "y": [
            0.6738,
            0.8509
           ],
           "yaxis": "y"
          }
         ],
         "name": "2022-01-16"
        },
        {
         "data": [
          {
           "hovertemplate": "<b>%{hovertext}</b><br><br>Username=DailyMailUK<br>only_date=2022-01-17<br>positive=%{x}<br>negative=%{y}<br>Like Count=%{marker.size}<extra></extra>",
           "hovertext": [
            "DailyMailUK",
            "DailyMailUK"
           ],
           "legendgroup": "DailyMailUK",
           "marker": {
            "color": "#636efa",
            "size": [
             15,
             23
            ],
            "sizemode": "area",
            "sizeref": 3.8625,
            "symbol": "circle"
           },
           "mode": "markers",
           "name": "DailyMailUK",
           "orientation": "v",
           "showlegend": true,
           "type": "scatter",
           "x": [
            0.0113,
            0.0055
           ],
           "xaxis": "x",
           "y": [
            0.4131,
            0.8059
           ],
           "yaxis": "y"
          },
          {
           "hovertemplate": "<b>%{hovertext}</b><br><br>Username=MailOnline<br>only_date=2022-01-17<br>positive=%{x}<br>negative=%{y}<br>Like Count=%{marker.size}<extra></extra>",
           "hovertext": [
            "MailOnline",
            "MailOnline",
            "MailOnline",
            "MailOnline",
            "MailOnline",
            "MailOnline"
           ],
           "legendgroup": "MailOnline",
           "marker": {
            "color": "#ab63fa",
            "size": [
             3,
             22,
             11,
             12,
             19,
             14
            ],
            "sizemode": "area",
            "sizeref": 3.8625,
            "symbol": "circle"
           },
           "mode": "markers",
           "name": "MailOnline",
           "orientation": "v",
           "showlegend": true,
           "type": "scatter",
           "x": [
            0.0377,
            0.0117,
            0.007,
            0.0091,
            0.0064,
            0.1447
           ],
           "xaxis": "x",
           "y": [
            0.1198,
            0.3819,
            0.7813,
            0.7113,
            0.7779,
            0.2017
           ],
           "yaxis": "y"
          }
         ],
         "name": "2022-01-17"
        },
        {
         "data": [
          {
           "hovertemplate": "<b>%{hovertext}</b><br><br>Username=DailyMailUK<br>only_date=2022-01-18<br>positive=%{x}<br>negative=%{y}<br>Like Count=%{marker.size}<extra></extra>",
           "hovertext": [
            "DailyMailUK"
           ],
           "legendgroup": "DailyMailUK",
           "marker": {
            "color": "#636efa",
            "size": [
             7
            ],
            "sizemode": "area",
            "sizeref": 3.8625,
            "symbol": "circle"
           },
           "mode": "markers",
           "name": "DailyMailUK",
           "orientation": "v",
           "showlegend": true,
           "type": "scatter",
           "x": [
            0.0057
           ],
           "xaxis": "x",
           "y": [
            0.8499
           ],
           "yaxis": "y"
          },
          {
           "hovertemplate": "<b>%{hovertext}</b><br><br>Username=TheSun<br>only_date=2022-01-18<br>positive=%{x}<br>negative=%{y}<br>Like Count=%{marker.size}<extra></extra>",
           "hovertext": [
            "TheSun"
           ],
           "legendgroup": "TheSun",
           "marker": {
            "color": "#00cc96",
            "size": [
             11
            ],
            "sizemode": "area",
            "sizeref": 3.8625,
            "symbol": "circle"
           },
           "mode": "markers",
           "name": "TheSun",
           "orientation": "v",
           "showlegend": true,
           "type": "scatter",
           "x": [
            0.0187
           ],
           "xaxis": "x",
           "y": [
            0.4473
           ],
           "yaxis": "y"
          },
          {
           "hovertemplate": "<b>%{hovertext}</b><br><br>Username=MailOnline<br>only_date=2022-01-18<br>positive=%{x}<br>negative=%{y}<br>Like Count=%{marker.size}<extra></extra>",
           "hovertext": [
            "MailOnline",
            "MailOnline",
            "MailOnline",
            "MailOnline"
           ],
           "legendgroup": "MailOnline",
           "marker": {
            "color": "#ab63fa",
            "size": [
             11,
             8,
             6,
             4
            ],
            "sizemode": "area",
            "sizeref": 3.8625,
            "symbol": "circle"
           },
           "mode": "markers",
           "name": "MailOnline",
           "orientation": "v",
           "showlegend": true,
           "type": "scatter",
           "x": [
            0.0089,
            0.0287,
            0.0119,
            0.0159
           ],
           "xaxis": "x",
           "y": [
            0.4948,
            0.2516,
            0.2732,
            0.2008
           ],
           "yaxis": "y"
          }
         ],
         "name": "2022-01-18"
        },
        {
         "data": [
          {
           "hovertemplate": "<b>%{hovertext}</b><br><br>Username=DailyMailUK<br>only_date=2022-01-19<br>positive=%{x}<br>negative=%{y}<br>Like Count=%{marker.size}<extra></extra>",
           "hovertext": [
            "DailyMailUK",
            "DailyMailUK",
            "DailyMailUK"
           ],
           "legendgroup": "DailyMailUK",
           "marker": {
            "color": "#636efa",
            "size": [
             4,
             3,
             16
            ],
            "sizemode": "area",
            "sizeref": 3.8625,
            "symbol": "circle"
           },
           "mode": "markers",
           "name": "DailyMailUK",
           "orientation": "v",
           "showlegend": true,
           "type": "scatter",
           "x": [
            0.0078,
            0.0113,
            0.005
           ],
           "xaxis": "x",
           "y": [
            0.7282,
            0.3918,
            0.839
           ],
           "yaxis": "y"
          },
          {
           "hovertemplate": "<b>%{hovertext}</b><br><br>Username=MailOnline<br>only_date=2022-01-19<br>positive=%{x}<br>negative=%{y}<br>Like Count=%{marker.size}<extra></extra>",
           "hovertext": [
            "MailOnline",
            "MailOnline",
            "MailOnline"
           ],
           "legendgroup": "MailOnline",
           "marker": {
            "color": "#ab63fa",
            "size": [
             23,
             14,
             11
            ],
            "sizemode": "area",
            "sizeref": 3.8625,
            "symbol": "circle"
           },
           "mode": "markers",
           "name": "MailOnline",
           "orientation": "v",
           "showlegend": true,
           "type": "scatter",
           "x": [
            0.0064,
            0.0081,
            0.0094
           ],
           "xaxis": "x",
           "y": [
            0.839,
            0.7526,
            0.4132
           ],
           "yaxis": "y"
          }
         ],
         "name": "2022-01-19"
        },
        {
         "data": [
          {
           "hovertemplate": "<b>%{hovertext}</b><br><br>Username=DailyMailUK<br>only_date=2022-01-20<br>positive=%{x}<br>negative=%{y}<br>Like Count=%{marker.size}<extra></extra>",
           "hovertext": [
            "DailyMailUK",
            "DailyMailUK"
           ],
           "legendgroup": "DailyMailUK",
           "marker": {
            "color": "#636efa",
            "size": [
             5,
             20
            ],
            "sizemode": "area",
            "sizeref": 3.8625,
            "symbol": "circle"
           },
           "mode": "markers",
           "name": "DailyMailUK",
           "orientation": "v",
           "showlegend": true,
           "type": "scatter",
           "x": [
            0.0054,
            0.0069
           ],
           "xaxis": "x",
           "y": [
            0.8535,
            0.7057
           ],
           "yaxis": "y"
          },
          {
           "hovertemplate": "<b>%{hovertext}</b><br><br>Username=MailOnline<br>only_date=2022-01-20<br>positive=%{x}<br>negative=%{y}<br>Like Count=%{marker.size}<extra></extra>",
           "hovertext": [
            "MailOnline"
           ],
           "legendgroup": "MailOnline",
           "marker": {
            "color": "#ab63fa",
            "size": [
             19
            ],
            "sizemode": "area",
            "sizeref": 3.8625,
            "symbol": "circle"
           },
           "mode": "markers",
           "name": "MailOnline",
           "orientation": "v",
           "showlegend": true,
           "type": "scatter",
           "x": [
            0.0066
           ],
           "xaxis": "x",
           "y": [
            0.7664
           ],
           "yaxis": "y"
          }
         ],
         "name": "2022-01-20"
        },
        {
         "data": [
          {
           "hovertemplate": "<b>%{hovertext}</b><br><br>Username=DailyMailUK<br>only_date=2022-01-21<br>positive=%{x}<br>negative=%{y}<br>Like Count=%{marker.size}<extra></extra>",
           "hovertext": [
            "DailyMailUK",
            "DailyMailUK"
           ],
           "legendgroup": "DailyMailUK",
           "marker": {
            "color": "#636efa",
            "size": [
             11,
             11
            ],
            "sizemode": "area",
            "sizeref": 3.8625,
            "symbol": "circle"
           },
           "mode": "markers",
           "name": "DailyMailUK",
           "orientation": "v",
           "showlegend": true,
           "type": "scatter",
           "x": [
            0.0115,
            0.0076
           ],
           "xaxis": "x",
           "y": [
            0.4133,
            0.7278
           ],
           "yaxis": "y"
          }
         ],
         "name": "2022-01-21"
        },
        {
         "data": [
          {
           "hovertemplate": "<b>%{hovertext}</b><br><br>Username=TheSun<br>only_date=2022-01-22<br>positive=%{x}<br>negative=%{y}<br>Like Count=%{marker.size}<extra></extra>",
           "hovertext": [
            "TheSun"
           ],
           "legendgroup": "TheSun",
           "marker": {
            "color": "#00cc96",
            "size": [
             2
            ],
            "sizemode": "area",
            "sizeref": 3.8625,
            "symbol": "circle"
           },
           "mode": "markers",
           "name": "TheSun",
           "orientation": "v",
           "showlegend": true,
           "type": "scatter",
           "x": [
            0.0096
           ],
           "xaxis": "x",
           "y": [
            0.7707
           ],
           "yaxis": "y"
          }
         ],
         "name": "2022-01-22"
        },
        {
         "data": [
          {
           "hovertemplate": "<b>%{hovertext}</b><br><br>Username=Daily_Express<br>only_date=2022-01-23<br>positive=%{x}<br>negative=%{y}<br>Like Count=%{marker.size}<extra></extra>",
           "hovertext": [
            "Daily_Express"
           ],
           "legendgroup": "Daily_Express",
           "marker": {
            "color": "#EF553B",
            "size": [
             7
            ],
            "sizemode": "area",
            "sizeref": 3.8625,
            "symbol": "circle"
           },
           "mode": "markers",
           "name": "Daily_Express",
           "orientation": "v",
           "showlegend": true,
           "type": "scatter",
           "x": [
            0.0077
           ],
           "xaxis": "x",
           "y": [
            0.6582
           ],
           "yaxis": "y"
          }
         ],
         "name": "2022-01-23"
        },
        {
         "data": [
          {
           "hovertemplate": "<b>%{hovertext}</b><br><br>Username=Daily_Express<br>only_date=2022-01-24<br>positive=%{x}<br>negative=%{y}<br>Like Count=%{marker.size}<extra></extra>",
           "hovertext": [
            "Daily_Express"
           ],
           "legendgroup": "Daily_Express",
           "marker": {
            "color": "#EF553B",
            "size": [
             2
            ],
            "sizemode": "area",
            "sizeref": 3.8625,
            "symbol": "circle"
           },
           "mode": "markers",
           "name": "Daily_Express",
           "orientation": "v",
           "showlegend": true,
           "type": "scatter",
           "x": [
            0.009
           ],
           "xaxis": "x",
           "y": [
            0.6496
           ],
           "yaxis": "y"
          },
          {
           "hovertemplate": "<b>%{hovertext}</b><br><br>Username=TheSun<br>only_date=2022-01-24<br>positive=%{x}<br>negative=%{y}<br>Like Count=%{marker.size}<extra></extra>",
           "hovertext": [
            "TheSun",
            "TheSun"
           ],
           "legendgroup": "TheSun",
           "marker": {
            "color": "#00cc96",
            "size": [
             6,
             7
            ],
            "sizemode": "area",
            "sizeref": 3.8625,
            "symbol": "circle"
           },
           "mode": "markers",
           "name": "TheSun",
           "orientation": "v",
           "showlegend": true,
           "type": "scatter",
           "x": [
            0.0206,
            0.0644
           ],
           "xaxis": "x",
           "y": [
            0.131,
            0.0276
           ],
           "yaxis": "y"
          }
         ],
         "name": "2022-01-24"
        },
        {
         "data": [
          {
           "hovertemplate": "<b>%{hovertext}</b><br><br>Username=DailyMailUK<br>only_date=2022-01-26<br>positive=%{x}<br>negative=%{y}<br>Like Count=%{marker.size}<extra></extra>",
           "hovertext": [
            "DailyMailUK",
            "DailyMailUK"
           ],
           "legendgroup": "DailyMailUK",
           "marker": {
            "color": "#636efa",
            "size": [
             11,
             4
            ],
            "sizemode": "area",
            "sizeref": 3.8625,
            "symbol": "circle"
           },
           "mode": "markers",
           "name": "DailyMailUK",
           "orientation": "v",
           "showlegend": true,
           "type": "scatter",
           "x": [
            0.0074,
            0.0454
           ],
           "xaxis": "x",
           "y": [
            0.7167,
            0.2051
           ],
           "yaxis": "y"
          }
         ],
         "name": "2022-01-26"
        },
        {
         "data": [
          {
           "hovertemplate": "<b>%{hovertext}</b><br><br>Username=DailyMailUK<br>only_date=2022-01-27<br>positive=%{x}<br>negative=%{y}<br>Like Count=%{marker.size}<extra></extra>",
           "hovertext": [
            "DailyMailUK"
           ],
           "legendgroup": "DailyMailUK",
           "marker": {
            "color": "#636efa",
            "size": [
             4
            ],
            "sizemode": "area",
            "sizeref": 3.8625,
            "symbol": "circle"
           },
           "mode": "markers",
           "name": "DailyMailUK",
           "orientation": "v",
           "showlegend": true,
           "type": "scatter",
           "x": [
            0.016
           ],
           "xaxis": "x",
           "y": [
            0.3674
           ],
           "yaxis": "y"
          },
          {
           "hovertemplate": "<b>%{hovertext}</b><br><br>Username=MailOnline<br>only_date=2022-01-27<br>positive=%{x}<br>negative=%{y}<br>Like Count=%{marker.size}<extra></extra>",
           "hovertext": [
            "MailOnline"
           ],
           "legendgroup": "MailOnline",
           "marker": {
            "color": "#ab63fa",
            "size": [
             11
            ],
            "sizemode": "area",
            "sizeref": 3.8625,
            "symbol": "circle"
           },
           "mode": "markers",
           "name": "MailOnline",
           "orientation": "v",
           "showlegend": true,
           "type": "scatter",
           "x": [
            0.0084
           ],
           "xaxis": "x",
           "y": [
            0.6296
           ],
           "yaxis": "y"
          }
         ],
         "name": "2022-01-27"
        },
        {
         "data": [
          {
           "hovertemplate": "<b>%{hovertext}</b><br><br>Username=Daily_Express<br>only_date=2022-01-29<br>positive=%{x}<br>negative=%{y}<br>Like Count=%{marker.size}<extra></extra>",
           "hovertext": [
            "Daily_Express"
           ],
           "legendgroup": "Daily_Express",
           "marker": {
            "color": "#EF553B",
            "size": [
             4
            ],
            "sizemode": "area",
            "sizeref": 3.8625,
            "symbol": "circle"
           },
           "mode": "markers",
           "name": "Daily_Express",
           "orientation": "v",
           "showlegend": true,
           "type": "scatter",
           "x": [
            0.0116
           ],
           "xaxis": "x",
           "y": [
            0.5476
           ],
           "yaxis": "y"
          }
         ],
         "name": "2022-01-29"
        },
        {
         "data": [
          {
           "hovertemplate": "<b>%{hovertext}</b><br><br>Username=MailOnline<br>only_date=2022-01-31<br>positive=%{x}<br>negative=%{y}<br>Like Count=%{marker.size}<extra></extra>",
           "hovertext": [
            "MailOnline"
           ],
           "legendgroup": "MailOnline",
           "marker": {
            "color": "#ab63fa",
            "size": [
             52
            ],
            "sizemode": "area",
            "sizeref": 3.8625,
            "symbol": "circle"
           },
           "mode": "markers",
           "name": "MailOnline",
           "orientation": "v",
           "showlegend": true,
           "type": "scatter",
           "x": [
            0.0076
           ],
           "xaxis": "x",
           "y": [
            0.6697
           ],
           "yaxis": "y"
          }
         ],
         "name": "2022-01-31"
        },
        {
         "data": [
          {
           "hovertemplate": "<b>%{hovertext}</b><br><br>Username=TheSun<br>only_date=2022-02-04<br>positive=%{x}<br>negative=%{y}<br>Like Count=%{marker.size}<extra></extra>",
           "hovertext": [
            "TheSun"
           ],
           "legendgroup": "TheSun",
           "marker": {
            "color": "#00cc96",
            "size": [
             8
            ],
            "sizemode": "area",
            "sizeref": 3.8625,
            "symbol": "circle"
           },
           "mode": "markers",
           "name": "TheSun",
           "orientation": "v",
           "showlegend": true,
           "type": "scatter",
           "x": [
            0.007
           ],
           "xaxis": "x",
           "y": [
            0.7181
           ],
           "yaxis": "y"
          }
         ],
         "name": "2022-02-04"
        },
        {
         "data": [
          {
           "hovertemplate": "<b>%{hovertext}</b><br><br>Username=MailOnline<br>only_date=2022-02-05<br>positive=%{x}<br>negative=%{y}<br>Like Count=%{marker.size}<extra></extra>",
           "hovertext": [
            "MailOnline",
            "MailOnline",
            "MailOnline"
           ],
           "legendgroup": "MailOnline",
           "marker": {
            "color": "#ab63fa",
            "size": [
             41,
             9,
             44
            ],
            "sizemode": "area",
            "sizeref": 3.8625,
            "symbol": "circle"
           },
           "mode": "markers",
           "name": "MailOnline",
           "orientation": "v",
           "showlegend": true,
           "type": "scatter",
           "x": [
            0.008,
            0.0154,
            0.0056
           ],
           "xaxis": "x",
           "y": [
            0.629,
            0.2011,
            0.6798
           ],
           "yaxis": "y"
          }
         ],
         "name": "2022-02-05"
        },
        {
         "data": [
          {
           "hovertemplate": "<b>%{hovertext}</b><br><br>Username=DailyMailUK<br>only_date=2022-02-06<br>positive=%{x}<br>negative=%{y}<br>Like Count=%{marker.size}<extra></extra>",
           "hovertext": [
            "DailyMailUK"
           ],
           "legendgroup": "DailyMailUK",
           "marker": {
            "color": "#636efa",
            "size": [
             14
            ],
            "sizemode": "area",
            "sizeref": 3.8625,
            "symbol": "circle"
           },
           "mode": "markers",
           "name": "DailyMailUK",
           "orientation": "v",
           "showlegend": true,
           "type": "scatter",
           "x": [
            0.0132
           ],
           "xaxis": "x",
           "y": [
            0.5941
           ],
           "yaxis": "y"
          },
          {
           "hovertemplate": "<b>%{hovertext}</b><br><br>Username=MailOnline<br>only_date=2022-02-06<br>positive=%{x}<br>negative=%{y}<br>Like Count=%{marker.size}<extra></extra>",
           "hovertext": [
            "MailOnline"
           ],
           "legendgroup": "MailOnline",
           "marker": {
            "color": "#ab63fa",
            "size": [
             20
            ],
            "sizemode": "area",
            "sizeref": 3.8625,
            "symbol": "circle"
           },
           "mode": "markers",
           "name": "MailOnline",
           "orientation": "v",
           "showlegend": true,
           "type": "scatter",
           "x": [
            0.0109
           ],
           "xaxis": "x",
           "y": [
            0.685
           ],
           "yaxis": "y"
          }
         ],
         "name": "2022-02-06"
        },
        {
         "data": [
          {
           "hovertemplate": "<b>%{hovertext}</b><br><br>Username=MailOnline<br>only_date=2022-02-09<br>positive=%{x}<br>negative=%{y}<br>Like Count=%{marker.size}<extra></extra>",
           "hovertext": [
            "MailOnline"
           ],
           "legendgroup": "MailOnline",
           "marker": {
            "color": "#ab63fa",
            "size": [
             14
            ],
            "sizemode": "area",
            "sizeref": 3.8625,
            "symbol": "circle"
           },
           "mode": "markers",
           "name": "MailOnline",
           "orientation": "v",
           "showlegend": true,
           "type": "scatter",
           "x": [
            0.0123
           ],
           "xaxis": "x",
           "y": [
            0.4998
           ],
           "yaxis": "y"
          }
         ],
         "name": "2022-02-09"
        },
        {
         "data": [
          {
           "hovertemplate": "<b>%{hovertext}</b><br><br>Username=DailyMailUK<br>only_date=2022-02-10<br>positive=%{x}<br>negative=%{y}<br>Like Count=%{marker.size}<extra></extra>",
           "hovertext": [
            "DailyMailUK"
           ],
           "legendgroup": "DailyMailUK",
           "marker": {
            "color": "#636efa",
            "size": [
             7
            ],
            "sizemode": "area",
            "sizeref": 3.8625,
            "symbol": "circle"
           },
           "mode": "markers",
           "name": "DailyMailUK",
           "orientation": "v",
           "showlegend": true,
           "type": "scatter",
           "x": [
            0.0054
           ],
           "xaxis": "x",
           "y": [
            0.748
           ],
           "yaxis": "y"
          },
          {
           "hovertemplate": "<b>%{hovertext}</b><br><br>Username=Daily_Express<br>only_date=2022-02-10<br>positive=%{x}<br>negative=%{y}<br>Like Count=%{marker.size}<extra></extra>",
           "hovertext": [
            "Daily_Express"
           ],
           "legendgroup": "Daily_Express",
           "marker": {
            "color": "#EF553B",
            "size": [
             0
            ],
            "sizemode": "area",
            "sizeref": 3.8625,
            "symbol": "circle"
           },
           "mode": "markers",
           "name": "Daily_Express",
           "orientation": "v",
           "showlegend": true,
           "type": "scatter",
           "x": [
            0.0066
           ],
           "xaxis": "x",
           "y": [
            0.8109
           ],
           "yaxis": "y"
          }
         ],
         "name": "2022-02-10"
        },
        {
         "data": [
          {
           "hovertemplate": "<b>%{hovertext}</b><br><br>Username=MailOnline<br>only_date=2022-02-11<br>positive=%{x}<br>negative=%{y}<br>Like Count=%{marker.size}<extra></extra>",
           "hovertext": [
            "MailOnline"
           ],
           "legendgroup": "MailOnline",
           "marker": {
            "color": "#ab63fa",
            "size": [
             18
            ],
            "sizemode": "area",
            "sizeref": 3.8625,
            "symbol": "circle"
           },
           "mode": "markers",
           "name": "MailOnline",
           "orientation": "v",
           "showlegend": true,
           "type": "scatter",
           "x": [
            0.0244
           ],
           "xaxis": "x",
           "y": [
            0.4866
           ],
           "yaxis": "y"
          }
         ],
         "name": "2022-02-11"
        },
        {
         "data": [
          {
           "hovertemplate": "<b>%{hovertext}</b><br><br>Username=DailyMailUK<br>only_date=2022-02-13<br>positive=%{x}<br>negative=%{y}<br>Like Count=%{marker.size}<extra></extra>",
           "hovertext": [
            "DailyMailUK"
           ],
           "legendgroup": "DailyMailUK",
           "marker": {
            "color": "#636efa",
            "size": [
             26
            ],
            "sizemode": "area",
            "sizeref": 3.8625,
            "symbol": "circle"
           },
           "mode": "markers",
           "name": "DailyMailUK",
           "orientation": "v",
           "showlegend": true,
           "type": "scatter",
           "x": [
            0.0057
           ],
           "xaxis": "x",
           "y": [
            0.7999
           ],
           "yaxis": "y"
          },
          {
           "hovertemplate": "<b>%{hovertext}</b><br><br>Username=MailOnline<br>only_date=2022-02-13<br>positive=%{x}<br>negative=%{y}<br>Like Count=%{marker.size}<extra></extra>",
           "hovertext": [
            "MailOnline"
           ],
           "legendgroup": "MailOnline",
           "marker": {
            "color": "#ab63fa",
            "size": [
             18
            ],
            "sizemode": "area",
            "sizeref": 3.8625,
            "symbol": "circle"
           },
           "mode": "markers",
           "name": "MailOnline",
           "orientation": "v",
           "showlegend": true,
           "type": "scatter",
           "x": [
            0.0099
           ],
           "xaxis": "x",
           "y": [
            0.7319
           ],
           "yaxis": "y"
          }
         ],
         "name": "2022-02-13"
        },
        {
         "data": [
          {
           "hovertemplate": "<b>%{hovertext}</b><br><br>Username=MailOnline<br>only_date=2022-02-16<br>positive=%{x}<br>negative=%{y}<br>Like Count=%{marker.size}<extra></extra>",
           "hovertext": [
            "MailOnline"
           ],
           "legendgroup": "MailOnline",
           "marker": {
            "color": "#ab63fa",
            "size": [
             54
            ],
            "sizemode": "area",
            "sizeref": 3.8625,
            "symbol": "circle"
           },
           "mode": "markers",
           "name": "MailOnline",
           "orientation": "v",
           "showlegend": true,
           "type": "scatter",
           "x": [
            0.0057
           ],
           "xaxis": "x",
           "y": [
            0.8608
           ],
           "yaxis": "y"
          }
         ],
         "name": "2022-02-16"
        },
        {
         "data": [
          {
           "hovertemplate": "<b>%{hovertext}</b><br><br>Username=Daily_Express<br>only_date=2022-02-17<br>positive=%{x}<br>negative=%{y}<br>Like Count=%{marker.size}<extra></extra>",
           "hovertext": [
            "Daily_Express"
           ],
           "legendgroup": "Daily_Express",
           "marker": {
            "color": "#EF553B",
            "size": [
             2
            ],
            "sizemode": "area",
            "sizeref": 3.8625,
            "symbol": "circle"
           },
           "mode": "markers",
           "name": "Daily_Express",
           "orientation": "v",
           "showlegend": true,
           "type": "scatter",
           "x": [
            0.01
           ],
           "xaxis": "x",
           "y": [
            0.5166
           ],
           "yaxis": "y"
          },
          {
           "hovertemplate": "<b>%{hovertext}</b><br><br>Username=MailOnline<br>only_date=2022-02-17<br>positive=%{x}<br>negative=%{y}<br>Like Count=%{marker.size}<extra></extra>",
           "hovertext": [
            "MailOnline"
           ],
           "legendgroup": "MailOnline",
           "marker": {
            "color": "#ab63fa",
            "size": [
             34
            ],
            "sizemode": "area",
            "sizeref": 3.8625,
            "symbol": "circle"
           },
           "mode": "markers",
           "name": "MailOnline",
           "orientation": "v",
           "showlegend": true,
           "type": "scatter",
           "x": [
            0.0066
           ],
           "xaxis": "x",
           "y": [
            0.7896
           ],
           "yaxis": "y"
          }
         ],
         "name": "2022-02-17"
        },
        {
         "data": [
          {
           "hovertemplate": "<b>%{hovertext}</b><br><br>Username=MailOnline<br>only_date=2022-02-18<br>positive=%{x}<br>negative=%{y}<br>Like Count=%{marker.size}<extra></extra>",
           "hovertext": [
            "MailOnline"
           ],
           "legendgroup": "MailOnline",
           "marker": {
            "color": "#ab63fa",
            "size": [
             1545
            ],
            "sizemode": "area",
            "sizeref": 3.8625,
            "symbol": "circle"
           },
           "mode": "markers",
           "name": "MailOnline",
           "orientation": "v",
           "showlegend": true,
           "type": "scatter",
           "x": [
            0.0071
           ],
           "xaxis": "x",
           "y": [
            0.8159
           ],
           "yaxis": "y"
          }
         ],
         "name": "2022-02-18"
        },
        {
         "data": [
          {
           "hovertemplate": "<b>%{hovertext}</b><br><br>Username=Daily_Express<br>only_date=2022-02-22<br>positive=%{x}<br>negative=%{y}<br>Like Count=%{marker.size}<extra></extra>",
           "hovertext": [
            "Daily_Express"
           ],
           "legendgroup": "Daily_Express",
           "marker": {
            "color": "#EF553B",
            "size": [
             5
            ],
            "sizemode": "area",
            "sizeref": 3.8625,
            "symbol": "circle"
           },
           "mode": "markers",
           "name": "Daily_Express",
           "orientation": "v",
           "showlegend": true,
           "type": "scatter",
           "x": [
            0.008
           ],
           "xaxis": "x",
           "y": [
            0.8257
           ],
           "yaxis": "y"
          }
         ],
         "name": "2022-02-22"
        },
        {
         "data": [
          {
           "hovertemplate": "<b>%{hovertext}</b><br><br>Username=DailyMailUK<br>only_date=2022-03-01<br>positive=%{x}<br>negative=%{y}<br>Like Count=%{marker.size}<extra></extra>",
           "hovertext": [
            "DailyMailUK"
           ],
           "legendgroup": "DailyMailUK",
           "marker": {
            "color": "#636efa",
            "size": [
             10
            ],
            "sizemode": "area",
            "sizeref": 3.8625,
            "symbol": "circle"
           },
           "mode": "markers",
           "name": "DailyMailUK",
           "orientation": "v",
           "showlegend": true,
           "type": "scatter",
           "x": [
            0.0063
           ],
           "xaxis": "x",
           "y": [
            0.7745
           ],
           "yaxis": "y"
          },
          {
           "hovertemplate": "<b>%{hovertext}</b><br><br>Username=MailOnline<br>only_date=2022-03-01<br>positive=%{x}<br>negative=%{y}<br>Like Count=%{marker.size}<extra></extra>",
           "hovertext": [
            "MailOnline",
            "MailOnline",
            "MailOnline"
           ],
           "legendgroup": "MailOnline",
           "marker": {
            "color": "#ab63fa",
            "size": [
             175,
             200,
             169
            ],
            "sizemode": "area",
            "sizeref": 3.8625,
            "symbol": "circle"
           },
           "mode": "markers",
           "name": "MailOnline",
           "orientation": "v",
           "showlegend": true,
           "type": "scatter",
           "x": [
            0.012,
            0.0081,
            0.0101
           ],
           "xaxis": "x",
           "y": [
            0.4964,
            0.7684,
            0.6409
           ],
           "yaxis": "y"
          }
         ],
         "name": "2022-03-01"
        },
        {
         "data": [
          {
           "hovertemplate": "<b>%{hovertext}</b><br><br>Username=MailOnline<br>only_date=2022-03-03<br>positive=%{x}<br>negative=%{y}<br>Like Count=%{marker.size}<extra></extra>",
           "hovertext": [
            "MailOnline"
           ],
           "legendgroup": "MailOnline",
           "marker": {
            "color": "#ab63fa",
            "size": [
             24
            ],
            "sizemode": "area",
            "sizeref": 3.8625,
            "symbol": "circle"
           },
           "mode": "markers",
           "name": "MailOnline",
           "orientation": "v",
           "showlegend": true,
           "type": "scatter",
           "x": [
            0.0648
           ],
           "xaxis": "x",
           "y": [
            0.0507
           ],
           "yaxis": "y"
          }
         ],
         "name": "2022-03-03"
        },
        {
         "data": [
          {
           "hovertemplate": "<b>%{hovertext}</b><br><br>Username=DailyMailUK<br>only_date=2022-03-04<br>positive=%{x}<br>negative=%{y}<br>Like Count=%{marker.size}<extra></extra>",
           "hovertext": [
            "DailyMailUK",
            "DailyMailUK"
           ],
           "legendgroup": "DailyMailUK",
           "marker": {
            "color": "#636efa",
            "size": [
             8,
             2
            ],
            "sizemode": "area",
            "sizeref": 3.8625,
            "symbol": "circle"
           },
           "mode": "markers",
           "name": "DailyMailUK",
           "orientation": "v",
           "showlegend": true,
           "type": "scatter",
           "x": [
            0.004,
            0.0038
           ],
           "xaxis": "x",
           "y": [
            0.8458,
            0.8558
           ],
           "yaxis": "y"
          },
          {
           "hovertemplate": "<b>%{hovertext}</b><br><br>Username=MailOnline<br>only_date=2022-03-04<br>positive=%{x}<br>negative=%{y}<br>Like Count=%{marker.size}<extra></extra>",
           "hovertext": [
            "MailOnline"
           ],
           "legendgroup": "MailOnline",
           "marker": {
            "color": "#ab63fa",
            "size": [
             7
            ],
            "sizemode": "area",
            "sizeref": 3.8625,
            "symbol": "circle"
           },
           "mode": "markers",
           "name": "MailOnline",
           "orientation": "v",
           "showlegend": true,
           "type": "scatter",
           "x": [
            0.0045
           ],
           "xaxis": "x",
           "y": [
            0.8062
           ],
           "yaxis": "y"
          }
         ],
         "name": "2022-03-04"
        },
        {
         "data": [
          {
           "hovertemplate": "<b>%{hovertext}</b><br><br>Username=MailOnline<br>only_date=2022-03-06<br>positive=%{x}<br>negative=%{y}<br>Like Count=%{marker.size}<extra></extra>",
           "hovertext": [
            "MailOnline"
           ],
           "legendgroup": "MailOnline",
           "marker": {
            "color": "#ab63fa",
            "size": [
             81
            ],
            "sizemode": "area",
            "sizeref": 3.8625,
            "symbol": "circle"
           },
           "mode": "markers",
           "name": "MailOnline",
           "orientation": "v",
           "showlegend": true,
           "type": "scatter",
           "x": [
            0.016
           ],
           "xaxis": "x",
           "y": [
            0.3754
           ],
           "yaxis": "y"
          }
         ],
         "name": "2022-03-06"
        },
        {
         "data": [
          {
           "hovertemplate": "<b>%{hovertext}</b><br><br>Username=DailyMailUK<br>only_date=2022-03-07<br>positive=%{x}<br>negative=%{y}<br>Like Count=%{marker.size}<extra></extra>",
           "hovertext": [
            "DailyMailUK"
           ],
           "legendgroup": "DailyMailUK",
           "marker": {
            "color": "#636efa",
            "size": [
             10
            ],
            "sizemode": "area",
            "sizeref": 3.8625,
            "symbol": "circle"
           },
           "mode": "markers",
           "name": "DailyMailUK",
           "orientation": "v",
           "showlegend": true,
           "type": "scatter",
           "x": [
            0.0142
           ],
           "xaxis": "x",
           "y": [
            0.1616
           ],
           "yaxis": "y"
          }
         ],
         "name": "2022-03-07"
        },
        {
         "data": [
          {
           "hovertemplate": "<b>%{hovertext}</b><br><br>Username=MailOnline<br>only_date=2022-03-08<br>positive=%{x}<br>negative=%{y}<br>Like Count=%{marker.size}<extra></extra>",
           "hovertext": [
            "MailOnline"
           ],
           "legendgroup": "MailOnline",
           "marker": {
            "color": "#ab63fa",
            "size": [
             15
            ],
            "sizemode": "area",
            "sizeref": 3.8625,
            "symbol": "circle"
           },
           "mode": "markers",
           "name": "MailOnline",
           "orientation": "v",
           "showlegend": true,
           "type": "scatter",
           "x": [
            0.0541
           ],
           "xaxis": "x",
           "y": [
            0.0386
           ],
           "yaxis": "y"
          }
         ],
         "name": "2022-03-08"
        },
        {
         "data": [
          {
           "hovertemplate": "<b>%{hovertext}</b><br><br>Username=MailOnline<br>only_date=2022-03-09<br>positive=%{x}<br>negative=%{y}<br>Like Count=%{marker.size}<extra></extra>",
           "hovertext": [
            "MailOnline"
           ],
           "legendgroup": "MailOnline",
           "marker": {
            "color": "#ab63fa",
            "size": [
             14
            ],
            "sizemode": "area",
            "sizeref": 3.8625,
            "symbol": "circle"
           },
           "mode": "markers",
           "name": "MailOnline",
           "orientation": "v",
           "showlegend": true,
           "type": "scatter",
           "x": [
            0.0345
           ],
           "xaxis": "x",
           "y": [
            0.2193
           ],
           "yaxis": "y"
          }
         ],
         "name": "2022-03-09"
        },
        {
         "data": [
          {
           "hovertemplate": "<b>%{hovertext}</b><br><br>Username=MailOnline<br>only_date=2022-03-11<br>positive=%{x}<br>negative=%{y}<br>Like Count=%{marker.size}<extra></extra>",
           "hovertext": [
            "MailOnline"
           ],
           "legendgroup": "MailOnline",
           "marker": {
            "color": "#ab63fa",
            "size": [
             58
            ],
            "sizemode": "area",
            "sizeref": 3.8625,
            "symbol": "circle"
           },
           "mode": "markers",
           "name": "MailOnline",
           "orientation": "v",
           "showlegend": true,
           "type": "scatter",
           "x": [
            0.0067
           ],
           "xaxis": "x",
           "y": [
            0.7569
           ],
           "yaxis": "y"
          }
         ],
         "name": "2022-03-11"
        },
        {
         "data": [
          {
           "hovertemplate": "<b>%{hovertext}</b><br><br>Username=MailOnline<br>only_date=2022-03-12<br>positive=%{x}<br>negative=%{y}<br>Like Count=%{marker.size}<extra></extra>",
           "hovertext": [
            "MailOnline"
           ],
           "legendgroup": "MailOnline",
           "marker": {
            "color": "#ab63fa",
            "size": [
             24
            ],
            "sizemode": "area",
            "sizeref": 3.8625,
            "symbol": "circle"
           },
           "mode": "markers",
           "name": "MailOnline",
           "orientation": "v",
           "showlegend": true,
           "type": "scatter",
           "x": [
            0.0364
           ],
           "xaxis": "x",
           "y": [
            0.3223
           ],
           "yaxis": "y"
          }
         ],
         "name": "2022-03-12"
        },
        {
         "data": [
          {
           "hovertemplate": "<b>%{hovertext}</b><br><br>Username=DailyMailUK<br>only_date=2022-03-15<br>positive=%{x}<br>negative=%{y}<br>Like Count=%{marker.size}<extra></extra>",
           "hovertext": [
            "DailyMailUK",
            "DailyMailUK"
           ],
           "legendgroup": "DailyMailUK",
           "marker": {
            "color": "#636efa",
            "size": [
             7,
             17
            ],
            "sizemode": "area",
            "sizeref": 3.8625,
            "symbol": "circle"
           },
           "mode": "markers",
           "name": "DailyMailUK",
           "orientation": "v",
           "showlegend": true,
           "type": "scatter",
           "x": [
            0.0184,
            0.0081
           ],
           "xaxis": "x",
           "y": [
            0.2844,
            0.6001
           ],
           "yaxis": "y"
          }
         ],
         "name": "2022-03-15"
        },
        {
         "data": [
          {
           "hovertemplate": "<b>%{hovertext}</b><br><br>Username=DailyMailUK<br>only_date=2022-03-21<br>positive=%{x}<br>negative=%{y}<br>Like Count=%{marker.size}<extra></extra>",
           "hovertext": [
            "DailyMailUK"
           ],
           "legendgroup": "DailyMailUK",
           "marker": {
            "color": "#636efa",
            "size": [
             4
            ],
            "sizemode": "area",
            "sizeref": 3.8625,
            "symbol": "circle"
           },
           "mode": "markers",
           "name": "DailyMailUK",
           "orientation": "v",
           "showlegend": true,
           "type": "scatter",
           "x": [
            0.0069
           ],
           "xaxis": "x",
           "y": [
            0.705
           ],
           "yaxis": "y"
          },
          {
           "hovertemplate": "<b>%{hovertext}</b><br><br>Username=TheSun<br>only_date=2022-03-21<br>positive=%{x}<br>negative=%{y}<br>Like Count=%{marker.size}<extra></extra>",
           "hovertext": [
            "TheSun"
           ],
           "legendgroup": "TheSun",
           "marker": {
            "color": "#00cc96",
            "size": [
             42
            ],
            "sizemode": "area",
            "sizeref": 3.8625,
            "symbol": "circle"
           },
           "mode": "markers",
           "name": "TheSun",
           "orientation": "v",
           "showlegend": true,
           "type": "scatter",
           "x": [
            0.0107
           ],
           "xaxis": "x",
           "y": [
            0.5456
           ],
           "yaxis": "y"
          }
         ],
         "name": "2022-03-21"
        },
        {
         "data": [
          {
           "hovertemplate": "<b>%{hovertext}</b><br><br>Username=DailyMailUK<br>only_date=2022-03-22<br>positive=%{x}<br>negative=%{y}<br>Like Count=%{marker.size}<extra></extra>",
           "hovertext": [
            "DailyMailUK"
           ],
           "legendgroup": "DailyMailUK",
           "marker": {
            "color": "#636efa",
            "size": [
             4
            ],
            "sizemode": "area",
            "sizeref": 3.8625,
            "symbol": "circle"
           },
           "mode": "markers",
           "name": "DailyMailUK",
           "orientation": "v",
           "showlegend": true,
           "type": "scatter",
           "x": [
            0.0103
           ],
           "xaxis": "x",
           "y": [
            0.4849
           ],
           "yaxis": "y"
          },
          {
           "hovertemplate": "<b>%{hovertext}</b><br><br>Username=MailOnline<br>only_date=2022-03-22<br>positive=%{x}<br>negative=%{y}<br>Like Count=%{marker.size}<extra></extra>",
           "hovertext": [
            "MailOnline"
           ],
           "legendgroup": "MailOnline",
           "marker": {
            "color": "#ab63fa",
            "size": [
             13
            ],
            "sizemode": "area",
            "sizeref": 3.8625,
            "symbol": "circle"
           },
           "mode": "markers",
           "name": "MailOnline",
           "orientation": "v",
           "showlegend": true,
           "type": "scatter",
           "x": [
            0.0121
           ],
           "xaxis": "x",
           "y": [
            0.5258
           ],
           "yaxis": "y"
          }
         ],
         "name": "2022-03-22"
        },
        {
         "data": [
          {
           "hovertemplate": "<b>%{hovertext}</b><br><br>Username=DailyMailUK<br>only_date=2022-03-23<br>positive=%{x}<br>negative=%{y}<br>Like Count=%{marker.size}<extra></extra>",
           "hovertext": [
            "DailyMailUK"
           ],
           "legendgroup": "DailyMailUK",
           "marker": {
            "color": "#636efa",
            "size": [
             0
            ],
            "sizemode": "area",
            "sizeref": 3.8625,
            "symbol": "circle"
           },
           "mode": "markers",
           "name": "DailyMailUK",
           "orientation": "v",
           "showlegend": true,
           "type": "scatter",
           "x": [
            0.0109
           ],
           "xaxis": "x",
           "y": [
            0.6016
           ],
           "yaxis": "y"
          },
          {
           "hovertemplate": "<b>%{hovertext}</b><br><br>Username=Daily_Express<br>only_date=2022-03-23<br>positive=%{x}<br>negative=%{y}<br>Like Count=%{marker.size}<extra></extra>",
           "hovertext": [
            "Daily_Express"
           ],
           "legendgroup": "Daily_Express",
           "marker": {
            "color": "#EF553B",
            "size": [
             5
            ],
            "sizemode": "area",
            "sizeref": 3.8625,
            "symbol": "circle"
           },
           "mode": "markers",
           "name": "Daily_Express",
           "orientation": "v",
           "showlegend": true,
           "type": "scatter",
           "x": [
            0.1682
           ],
           "xaxis": "x",
           "y": [
            0.0152
           ],
           "yaxis": "y"
          }
         ],
         "name": "2022-03-23"
        },
        {
         "data": [
          {
           "hovertemplate": "<b>%{hovertext}</b><br><br>Username=Daily_Express<br>only_date=2022-03-24<br>positive=%{x}<br>negative=%{y}<br>Like Count=%{marker.size}<extra></extra>",
           "hovertext": [
            "Daily_Express"
           ],
           "legendgroup": "Daily_Express",
           "marker": {
            "color": "#EF553B",
            "size": [
             4
            ],
            "sizemode": "area",
            "sizeref": 3.8625,
            "symbol": "circle"
           },
           "mode": "markers",
           "name": "Daily_Express",
           "orientation": "v",
           "showlegend": true,
           "type": "scatter",
           "x": [
            0.0111
           ],
           "xaxis": "x",
           "y": [
            0.5977
           ],
           "yaxis": "y"
          }
         ],
         "name": "2022-03-24"
        },
        {
         "data": [
          {
           "hovertemplate": "<b>%{hovertext}</b><br><br>Username=MailOnline<br>only_date=2022-03-25<br>positive=%{x}<br>negative=%{y}<br>Like Count=%{marker.size}<extra></extra>",
           "hovertext": [
            "MailOnline"
           ],
           "legendgroup": "MailOnline",
           "marker": {
            "color": "#ab63fa",
            "size": [
             19
            ],
            "sizemode": "area",
            "sizeref": 3.8625,
            "symbol": "circle"
           },
           "mode": "markers",
           "name": "MailOnline",
           "orientation": "v",
           "showlegend": true,
           "type": "scatter",
           "x": [
            0.0102
           ],
           "xaxis": "x",
           "y": [
            0.6341
           ],
           "yaxis": "y"
          }
         ],
         "name": "2022-03-25"
        },
        {
         "data": [
          {
           "hovertemplate": "<b>%{hovertext}</b><br><br>Username=DailyMailUK<br>only_date=2022-03-30<br>positive=%{x}<br>negative=%{y}<br>Like Count=%{marker.size}<extra></extra>",
           "hovertext": [
            "DailyMailUK"
           ],
           "legendgroup": "DailyMailUK",
           "marker": {
            "color": "#636efa",
            "size": [
             6
            ],
            "sizemode": "area",
            "sizeref": 3.8625,
            "symbol": "circle"
           },
           "mode": "markers",
           "name": "DailyMailUK",
           "orientation": "v",
           "showlegend": true,
           "type": "scatter",
           "x": [
            0.0217
           ],
           "xaxis": "x",
           "y": [
            0.0727
           ],
           "yaxis": "y"
          }
         ],
         "name": "2022-03-30"
        },
        {
         "data": [
          {
           "hovertemplate": "<b>%{hovertext}</b><br><br>Username=Daily_Express<br>only_date=2022-03-31<br>positive=%{x}<br>negative=%{y}<br>Like Count=%{marker.size}<extra></extra>",
           "hovertext": [
            "Daily_Express"
           ],
           "legendgroup": "Daily_Express",
           "marker": {
            "color": "#EF553B",
            "size": [
             7
            ],
            "sizemode": "area",
            "sizeref": 3.8625,
            "symbol": "circle"
           },
           "mode": "markers",
           "name": "Daily_Express",
           "orientation": "v",
           "showlegend": true,
           "type": "scatter",
           "x": [
            0.0239
           ],
           "xaxis": "x",
           "y": [
            0.0421
           ],
           "yaxis": "y"
          },
          {
           "hovertemplate": "<b>%{hovertext}</b><br><br>Username=MailOnline<br>only_date=2022-03-31<br>positive=%{x}<br>negative=%{y}<br>Like Count=%{marker.size}<extra></extra>",
           "hovertext": [
            "MailOnline"
           ],
           "legendgroup": "MailOnline",
           "marker": {
            "color": "#ab63fa",
            "size": [
             9
            ],
            "sizemode": "area",
            "sizeref": 3.8625,
            "symbol": "circle"
           },
           "mode": "markers",
           "name": "MailOnline",
           "orientation": "v",
           "showlegend": true,
           "type": "scatter",
           "x": [
            0.0073
           ],
           "xaxis": "x",
           "y": [
            0.7071
           ],
           "yaxis": "y"
          }
         ],
         "name": "2022-03-31"
        },
        {
         "data": [
          {
           "hovertemplate": "<b>%{hovertext}</b><br><br>Username=Daily_Express<br>only_date=2022-04-01<br>positive=%{x}<br>negative=%{y}<br>Like Count=%{marker.size}<extra></extra>",
           "hovertext": [
            "Daily_Express",
            "Daily_Express",
            "Daily_Express",
            "Daily_Express",
            "Daily_Express",
            "Daily_Express",
            "Daily_Express"
           ],
           "legendgroup": "Daily_Express",
           "marker": {
            "color": "#EF553B",
            "size": [
             10,
             1,
             1,
             11,
             538,
             13,
             4
            ],
            "sizemode": "area",
            "sizeref": 3.8625,
            "symbol": "circle"
           },
           "mode": "markers",
           "name": "Daily_Express",
           "orientation": "v",
           "showlegend": true,
           "type": "scatter",
           "x": [
            0.0795,
            0.0795,
            0.0615,
            0.678,
            0.0615,
            0.678,
            0.6122
           ],
           "xaxis": "x",
           "y": [
            0.0649,
            0.0649,
            0.0071,
            0.0061,
            0.0071,
            0.0061,
            0.0065
           ],
           "yaxis": "y"
          }
         ],
         "name": "2022-04-01"
        },
        {
         "data": [
          {
           "hovertemplate": "<b>%{hovertext}</b><br><br>Username=Daily_Express<br>only_date=2022-04-02<br>positive=%{x}<br>negative=%{y}<br>Like Count=%{marker.size}<extra></extra>",
           "hovertext": [
            "Daily_Express",
            "Daily_Express",
            "Daily_Express"
           ],
           "legendgroup": "Daily_Express",
           "marker": {
            "color": "#EF553B",
            "size": [
             3,
             2,
             0
            ],
            "sizemode": "area",
            "sizeref": 3.8625,
            "symbol": "circle"
           },
           "mode": "markers",
           "name": "Daily_Express",
           "orientation": "v",
           "showlegend": true,
           "type": "scatter",
           "x": [
            0.0558,
            0.0942,
            0.0231
           ],
           "xaxis": "x",
           "y": [
            0.0077,
            0.0562,
            0.0099
           ],
           "yaxis": "y"
          }
         ],
         "name": "2022-04-02"
        },
        {
         "data": [
          {
           "hovertemplate": "<b>%{hovertext}</b><br><br>Username=Daily_Express<br>only_date=2022-04-03<br>positive=%{x}<br>negative=%{y}<br>Like Count=%{marker.size}<extra></extra>",
           "hovertext": [
            "Daily_Express",
            "Daily_Express"
           ],
           "legendgroup": "Daily_Express",
           "marker": {
            "color": "#EF553B",
            "size": [
             0,
             1
            ],
            "sizemode": "area",
            "sizeref": 3.8625,
            "symbol": "circle"
           },
           "mode": "markers",
           "name": "Daily_Express",
           "orientation": "v",
           "showlegend": true,
           "type": "scatter",
           "x": [
            0.0539,
            0.0866
           ],
           "xaxis": "x",
           "y": [
            0.0073,
            0.0499
           ],
           "yaxis": "y"
          }
         ],
         "name": "2022-04-03"
        },
        {
         "data": [
          {
           "hovertemplate": "<b>%{hovertext}</b><br><br>Username=DailyMailUK<br>only_date=2022-04-04<br>positive=%{x}<br>negative=%{y}<br>Like Count=%{marker.size}<extra></extra>",
           "hovertext": [
            "DailyMailUK"
           ],
           "legendgroup": "DailyMailUK",
           "marker": {
            "color": "#636efa",
            "size": [
             3
            ],
            "sizemode": "area",
            "sizeref": 3.8625,
            "symbol": "circle"
           },
           "mode": "markers",
           "name": "DailyMailUK",
           "orientation": "v",
           "showlegend": true,
           "type": "scatter",
           "x": [
            0.0057
           ],
           "xaxis": "x",
           "y": [
            0.798
           ],
           "yaxis": "y"
          }
         ],
         "name": "2022-04-04"
        },
        {
         "data": [
          {
           "hovertemplate": "<b>%{hovertext}</b><br><br>Username=DailyMailUK<br>only_date=2022-04-05<br>positive=%{x}<br>negative=%{y}<br>Like Count=%{marker.size}<extra></extra>",
           "hovertext": [
            "DailyMailUK"
           ],
           "legendgroup": "DailyMailUK",
           "marker": {
            "color": "#636efa",
            "size": [
             15
            ],
            "sizemode": "area",
            "sizeref": 3.8625,
            "symbol": "circle"
           },
           "mode": "markers",
           "name": "DailyMailUK",
           "orientation": "v",
           "showlegend": true,
           "type": "scatter",
           "x": [
            0.0345
           ],
           "xaxis": "x",
           "y": [
            0.1012
           ],
           "yaxis": "y"
          },
          {
           "hovertemplate": "<b>%{hovertext}</b><br><br>Username=Daily_Express<br>only_date=2022-04-05<br>positive=%{x}<br>negative=%{y}<br>Like Count=%{marker.size}<extra></extra>",
           "hovertext": [
            "Daily_Express"
           ],
           "legendgroup": "Daily_Express",
           "marker": {
            "color": "#EF553B",
            "size": [
             8
            ],
            "sizemode": "area",
            "sizeref": 3.8625,
            "symbol": "circle"
           },
           "mode": "markers",
           "name": "Daily_Express",
           "orientation": "v",
           "showlegend": true,
           "type": "scatter",
           "x": [
            0.0246
           ],
           "xaxis": "x",
           "y": [
            0.6527
           ],
           "yaxis": "y"
          },
          {
           "hovertemplate": "<b>%{hovertext}</b><br><br>Username=MailOnline<br>only_date=2022-04-05<br>positive=%{x}<br>negative=%{y}<br>Like Count=%{marker.size}<extra></extra>",
           "hovertext": [
            "MailOnline",
            "MailOnline"
           ],
           "legendgroup": "MailOnline",
           "marker": {
            "color": "#ab63fa",
            "size": [
             68,
             14
            ],
            "sizemode": "area",
            "sizeref": 3.8625,
            "symbol": "circle"
           },
           "mode": "markers",
           "name": "MailOnline",
           "orientation": "v",
           "showlegend": true,
           "type": "scatter",
           "x": [
            0.0049,
            0.0068
           ],
           "xaxis": "x",
           "y": [
            0.8673,
            0.7255
           ],
           "yaxis": "y"
          }
         ],
         "name": "2022-04-05"
        },
        {
         "data": [
          {
           "hovertemplate": "<b>%{hovertext}</b><br><br>Username=Daily_Express<br>only_date=2022-04-07<br>positive=%{x}<br>negative=%{y}<br>Like Count=%{marker.size}<extra></extra>",
           "hovertext": [
            "Daily_Express"
           ],
           "legendgroup": "Daily_Express",
           "marker": {
            "color": "#EF553B",
            "size": [
             2
            ],
            "sizemode": "area",
            "sizeref": 3.8625,
            "symbol": "circle"
           },
           "mode": "markers",
           "name": "Daily_Express",
           "orientation": "v",
           "showlegend": true,
           "type": "scatter",
           "x": [
            0.0065
           ],
           "xaxis": "x",
           "y": [
            0.6792
           ],
           "yaxis": "y"
          }
         ],
         "name": "2022-04-07"
        },
        {
         "data": [
          {
           "hovertemplate": "<b>%{hovertext}</b><br><br>Username=DailyMailUK<br>only_date=2022-04-08<br>positive=%{x}<br>negative=%{y}<br>Like Count=%{marker.size}<extra></extra>",
           "hovertext": [
            "DailyMailUK"
           ],
           "legendgroup": "DailyMailUK",
           "marker": {
            "color": "#636efa",
            "size": [
             3
            ],
            "sizemode": "area",
            "sizeref": 3.8625,
            "symbol": "circle"
           },
           "mode": "markers",
           "name": "DailyMailUK",
           "orientation": "v",
           "showlegend": true,
           "type": "scatter",
           "x": [
            0.0073
           ],
           "xaxis": "x",
           "y": [
            0.7555
           ],
           "yaxis": "y"
          }
         ],
         "name": "2022-04-08"
        },
        {
         "data": [
          {
           "hovertemplate": "<b>%{hovertext}</b><br><br>Username=DailyMailUK<br>only_date=2022-04-11<br>positive=%{x}<br>negative=%{y}<br>Like Count=%{marker.size}<extra></extra>",
           "hovertext": [
            "DailyMailUK"
           ],
           "legendgroup": "DailyMailUK",
           "marker": {
            "color": "#636efa",
            "size": [
             4
            ],
            "sizemode": "area",
            "sizeref": 3.8625,
            "symbol": "circle"
           },
           "mode": "markers",
           "name": "DailyMailUK",
           "orientation": "v",
           "showlegend": true,
           "type": "scatter",
           "x": [
            0.008
           ],
           "xaxis": "x",
           "y": [
            0.7005
           ],
           "yaxis": "y"
          }
         ],
         "name": "2022-04-11"
        },
        {
         "data": [
          {
           "hovertemplate": "<b>%{hovertext}</b><br><br>Username=DailyMailUK<br>only_date=2022-04-13<br>positive=%{x}<br>negative=%{y}<br>Like Count=%{marker.size}<extra></extra>",
           "hovertext": [
            "DailyMailUK"
           ],
           "legendgroup": "DailyMailUK",
           "marker": {
            "color": "#636efa",
            "size": [
             41
            ],
            "sizemode": "area",
            "sizeref": 3.8625,
            "symbol": "circle"
           },
           "mode": "markers",
           "name": "DailyMailUK",
           "orientation": "v",
           "showlegend": true,
           "type": "scatter",
           "x": [
            0.0074
           ],
           "xaxis": "x",
           "y": [
            0.8616
           ],
           "yaxis": "y"
          }
         ],
         "name": "2022-04-13"
        },
        {
         "data": [
          {
           "hovertemplate": "<b>%{hovertext}</b><br><br>Username=MailOnline<br>only_date=2022-04-15<br>positive=%{x}<br>negative=%{y}<br>Like Count=%{marker.size}<extra></extra>",
           "hovertext": [
            "MailOnline"
           ],
           "legendgroup": "MailOnline",
           "marker": {
            "color": "#ab63fa",
            "size": [
             17
            ],
            "sizemode": "area",
            "sizeref": 3.8625,
            "symbol": "circle"
           },
           "mode": "markers",
           "name": "MailOnline",
           "orientation": "v",
           "showlegend": true,
           "type": "scatter",
           "x": [
            0.0189
           ],
           "xaxis": "x",
           "y": [
            0.3407
           ],
           "yaxis": "y"
          }
         ],
         "name": "2022-04-15"
        },
        {
         "data": [
          {
           "hovertemplate": "<b>%{hovertext}</b><br><br>Username=MailOnline<br>only_date=2022-04-17<br>positive=%{x}<br>negative=%{y}<br>Like Count=%{marker.size}<extra></extra>",
           "hovertext": [
            "MailOnline"
           ],
           "legendgroup": "MailOnline",
           "marker": {
            "color": "#ab63fa",
            "size": [
             13
            ],
            "sizemode": "area",
            "sizeref": 3.8625,
            "symbol": "circle"
           },
           "mode": "markers",
           "name": "MailOnline",
           "orientation": "v",
           "showlegend": true,
           "type": "scatter",
           "x": [
            0.0071
           ],
           "xaxis": "x",
           "y": [
            0.7519
           ],
           "yaxis": "y"
          }
         ],
         "name": "2022-04-17"
        },
        {
         "data": [
          {
           "hovertemplate": "<b>%{hovertext}</b><br><br>Username=MailOnline<br>only_date=2022-04-18<br>positive=%{x}<br>negative=%{y}<br>Like Count=%{marker.size}<extra></extra>",
           "hovertext": [
            "MailOnline"
           ],
           "legendgroup": "MailOnline",
           "marker": {
            "color": "#ab63fa",
            "size": [
             48
            ],
            "sizemode": "area",
            "sizeref": 3.8625,
            "symbol": "circle"
           },
           "mode": "markers",
           "name": "MailOnline",
           "orientation": "v",
           "showlegend": true,
           "type": "scatter",
           "x": [
            0.0058
           ],
           "xaxis": "x",
           "y": [
            0.7597
           ],
           "yaxis": "y"
          }
         ],
         "name": "2022-04-18"
        },
        {
         "data": [
          {
           "hovertemplate": "<b>%{hovertext}</b><br><br>Username=MailOnline<br>only_date=2022-04-19<br>positive=%{x}<br>negative=%{y}<br>Like Count=%{marker.size}<extra></extra>",
           "hovertext": [
            "MailOnline"
           ],
           "legendgroup": "MailOnline",
           "marker": {
            "color": "#ab63fa",
            "size": [
             14
            ],
            "sizemode": "area",
            "sizeref": 3.8625,
            "symbol": "circle"
           },
           "mode": "markers",
           "name": "MailOnline",
           "orientation": "v",
           "showlegend": true,
           "type": "scatter",
           "x": [
            0.0059
           ],
           "xaxis": "x",
           "y": [
            0.7801
           ],
           "yaxis": "y"
          }
         ],
         "name": "2022-04-19"
        },
        {
         "data": [
          {
           "hovertemplate": "<b>%{hovertext}</b><br><br>Username=MailOnline<br>only_date=2022-04-20<br>positive=%{x}<br>negative=%{y}<br>Like Count=%{marker.size}<extra></extra>",
           "hovertext": [
            "MailOnline"
           ],
           "legendgroup": "MailOnline",
           "marker": {
            "color": "#ab63fa",
            "size": [
             36
            ],
            "sizemode": "area",
            "sizeref": 3.8625,
            "symbol": "circle"
           },
           "mode": "markers",
           "name": "MailOnline",
           "orientation": "v",
           "showlegend": true,
           "type": "scatter",
           "x": [
            0.4291
           ],
           "xaxis": "x",
           "y": [
            0.0129
           ],
           "yaxis": "y"
          }
         ],
         "name": "2022-04-20"
        },
        {
         "data": [
          {
           "hovertemplate": "<b>%{hovertext}</b><br><br>Username=MailOnline<br>only_date=2022-04-21<br>positive=%{x}<br>negative=%{y}<br>Like Count=%{marker.size}<extra></extra>",
           "hovertext": [
            "MailOnline",
            "MailOnline",
            "MailOnline"
           ],
           "legendgroup": "MailOnline",
           "marker": {
            "color": "#ab63fa",
            "size": [
             83,
             10,
             18
            ],
            "sizemode": "area",
            "sizeref": 3.8625,
            "symbol": "circle"
           },
           "mode": "markers",
           "name": "MailOnline",
           "orientation": "v",
           "showlegend": true,
           "type": "scatter",
           "x": [
            0.0562,
            0.0084,
            0.0113
           ],
           "xaxis": "x",
           "y": [
            0.0663,
            0.6711,
            0.5627
           ],
           "yaxis": "y"
          }
         ],
         "name": "2022-04-21"
        },
        {
         "data": [
          {
           "hovertemplate": "<b>%{hovertext}</b><br><br>Username=Daily_Express<br>only_date=2022-04-22<br>positive=%{x}<br>negative=%{y}<br>Like Count=%{marker.size}<extra></extra>",
           "hovertext": [
            "Daily_Express"
           ],
           "legendgroup": "Daily_Express",
           "marker": {
            "color": "#EF553B",
            "size": [
             0
            ],
            "sizemode": "area",
            "sizeref": 3.8625,
            "symbol": "circle"
           },
           "mode": "markers",
           "name": "Daily_Express",
           "orientation": "v",
           "showlegend": true,
           "type": "scatter",
           "x": [
            0.0221
           ],
           "xaxis": "x",
           "y": [
            0.4825
           ],
           "yaxis": "y"
          },
          {
           "hovertemplate": "<b>%{hovertext}</b><br><br>Username=MailOnline<br>only_date=2022-04-22<br>positive=%{x}<br>negative=%{y}<br>Like Count=%{marker.size}<extra></extra>",
           "hovertext": [
            "MailOnline"
           ],
           "legendgroup": "MailOnline",
           "marker": {
            "color": "#ab63fa",
            "size": [
             12
            ],
            "sizemode": "area",
            "sizeref": 3.8625,
            "symbol": "circle"
           },
           "mode": "markers",
           "name": "MailOnline",
           "orientation": "v",
           "showlegend": true,
           "type": "scatter",
           "x": [
            0.0073
           ],
           "xaxis": "x",
           "y": [
            0.8279
           ],
           "yaxis": "y"
          }
         ],
         "name": "2022-04-22"
        },
        {
         "data": [
          {
           "hovertemplate": "<b>%{hovertext}</b><br><br>Username=Daily_Express<br>only_date=2022-04-25<br>positive=%{x}<br>negative=%{y}<br>Like Count=%{marker.size}<extra></extra>",
           "hovertext": [
            "Daily_Express",
            "Daily_Express"
           ],
           "legendgroup": "Daily_Express",
           "marker": {
            "color": "#EF553B",
            "size": [
             1,
             3
            ],
            "sizemode": "area",
            "sizeref": 3.8625,
            "symbol": "circle"
           },
           "mode": "markers",
           "name": "Daily_Express",
           "orientation": "v",
           "showlegend": true,
           "type": "scatter",
           "x": [
            0.006,
            0.175
           ],
           "xaxis": "x",
           "y": [
            0.8398,
            0.0323
           ],
           "yaxis": "y"
          }
         ],
         "name": "2022-04-25"
        },
        {
         "data": [
          {
           "hovertemplate": "<b>%{hovertext}</b><br><br>Username=DailyMailUK<br>only_date=2022-04-27<br>positive=%{x}<br>negative=%{y}<br>Like Count=%{marker.size}<extra></extra>",
           "hovertext": [
            "DailyMailUK",
            "DailyMailUK"
           ],
           "legendgroup": "DailyMailUK",
           "marker": {
            "color": "#636efa",
            "size": [
             11,
             4
            ],
            "sizemode": "area",
            "sizeref": 3.8625,
            "symbol": "circle"
           },
           "mode": "markers",
           "name": "DailyMailUK",
           "orientation": "v",
           "showlegend": true,
           "type": "scatter",
           "x": [
            0.0306,
            0.0109
           ],
           "xaxis": "x",
           "y": [
            0.3031,
            0.6339
           ],
           "yaxis": "y"
          },
          {
           "hovertemplate": "<b>%{hovertext}</b><br><br>Username=MailOnline<br>only_date=2022-04-27<br>positive=%{x}<br>negative=%{y}<br>Like Count=%{marker.size}<extra></extra>",
           "hovertext": [
            "MailOnline"
           ],
           "legendgroup": "MailOnline",
           "marker": {
            "color": "#ab63fa",
            "size": [
             14
            ],
            "sizemode": "area",
            "sizeref": 3.8625,
            "symbol": "circle"
           },
           "mode": "markers",
           "name": "MailOnline",
           "orientation": "v",
           "showlegend": true,
           "type": "scatter",
           "x": [
            0.0203
           ],
           "xaxis": "x",
           "y": [
            0.4356
           ],
           "yaxis": "y"
          }
         ],
         "name": "2022-04-27"
        },
        {
         "data": [
          {
           "hovertemplate": "<b>%{hovertext}</b><br><br>Username=MailOnline<br>only_date=2022-04-29<br>positive=%{x}<br>negative=%{y}<br>Like Count=%{marker.size}<extra></extra>",
           "hovertext": [
            "MailOnline"
           ],
           "legendgroup": "MailOnline",
           "marker": {
            "color": "#ab63fa",
            "size": [
             34
            ],
            "sizemode": "area",
            "sizeref": 3.8625,
            "symbol": "circle"
           },
           "mode": "markers",
           "name": "MailOnline",
           "orientation": "v",
           "showlegend": true,
           "type": "scatter",
           "x": [
            0.0062
           ],
           "xaxis": "x",
           "y": [
            0.799
           ],
           "yaxis": "y"
          }
         ],
         "name": "2022-04-29"
        },
        {
         "data": [
          {
           "hovertemplate": "<b>%{hovertext}</b><br><br>Username=Daily_Express<br>only_date=2022-04-30<br>positive=%{x}<br>negative=%{y}<br>Like Count=%{marker.size}<extra></extra>",
           "hovertext": [
            "Daily_Express"
           ],
           "legendgroup": "Daily_Express",
           "marker": {
            "color": "#EF553B",
            "size": [
             40
            ],
            "sizemode": "area",
            "sizeref": 3.8625,
            "symbol": "circle"
           },
           "mode": "markers",
           "name": "Daily_Express",
           "orientation": "v",
           "showlegend": true,
           "type": "scatter",
           "x": [
            0.0995
           ],
           "xaxis": "x",
           "y": [
            0.0043
           ],
           "yaxis": "y"
          },
          {
           "hovertemplate": "<b>%{hovertext}</b><br><br>Username=MailOnline<br>only_date=2022-04-30<br>positive=%{x}<br>negative=%{y}<br>Like Count=%{marker.size}<extra></extra>",
           "hovertext": [
            "MailOnline"
           ],
           "legendgroup": "MailOnline",
           "marker": {
            "color": "#ab63fa",
            "size": [
             18
            ],
            "sizemode": "area",
            "sizeref": 3.8625,
            "symbol": "circle"
           },
           "mode": "markers",
           "name": "MailOnline",
           "orientation": "v",
           "showlegend": true,
           "type": "scatter",
           "x": [
            0.0053
           ],
           "xaxis": "x",
           "y": [
            0.8487
           ],
           "yaxis": "y"
          }
         ],
         "name": "2022-04-30"
        },
        {
         "data": [
          {
           "hovertemplate": "<b>%{hovertext}</b><br><br>Username=DailyMailUK<br>only_date=2022-05-02<br>positive=%{x}<br>negative=%{y}<br>Like Count=%{marker.size}<extra></extra>",
           "hovertext": [
            "DailyMailUK",
            "DailyMailUK",
            "DailyMailUK"
           ],
           "legendgroup": "DailyMailUK",
           "marker": {
            "color": "#636efa",
            "size": [
             14,
             54,
             19
            ],
            "sizemode": "area",
            "sizeref": 3.8625,
            "symbol": "circle"
           },
           "mode": "markers",
           "name": "DailyMailUK",
           "orientation": "v",
           "showlegend": true,
           "type": "scatter",
           "x": [
            0.0901,
            0.8302,
            0.0076
           ],
           "xaxis": "x",
           "y": [
            0.019,
            0.0025,
            0.6095
           ],
           "yaxis": "y"
          },
          {
           "hovertemplate": "<b>%{hovertext}</b><br><br>Username=MailOnline<br>only_date=2022-05-02<br>positive=%{x}<br>negative=%{y}<br>Like Count=%{marker.size}<extra></extra>",
           "hovertext": [
            "MailOnline"
           ],
           "legendgroup": "MailOnline",
           "marker": {
            "color": "#ab63fa",
            "size": [
             11
            ],
            "sizemode": "area",
            "sizeref": 3.8625,
            "symbol": "circle"
           },
           "mode": "markers",
           "name": "MailOnline",
           "orientation": "v",
           "showlegend": true,
           "type": "scatter",
           "x": [
            0.7741
           ],
           "xaxis": "x",
           "y": [
            0.0044
           ],
           "yaxis": "y"
          }
         ],
         "name": "2022-05-02"
        },
        {
         "data": [
          {
           "hovertemplate": "<b>%{hovertext}</b><br><br>Username=TheSun<br>only_date=2022-05-05<br>positive=%{x}<br>negative=%{y}<br>Like Count=%{marker.size}<extra></extra>",
           "hovertext": [
            "TheSun"
           ],
           "legendgroup": "TheSun",
           "marker": {
            "color": "#00cc96",
            "size": [
             3
            ],
            "sizemode": "area",
            "sizeref": 3.8625,
            "symbol": "circle"
           },
           "mode": "markers",
           "name": "TheSun",
           "orientation": "v",
           "showlegend": true,
           "type": "scatter",
           "x": [
            0.0219
           ],
           "xaxis": "x",
           "y": [
            0.5735
           ],
           "yaxis": "y"
          },
          {
           "hovertemplate": "<b>%{hovertext}</b><br><br>Username=MailOnline<br>only_date=2022-05-05<br>positive=%{x}<br>negative=%{y}<br>Like Count=%{marker.size}<extra></extra>",
           "hovertext": [
            "MailOnline"
           ],
           "legendgroup": "MailOnline",
           "marker": {
            "color": "#ab63fa",
            "size": [
             16
            ],
            "sizemode": "area",
            "sizeref": 3.8625,
            "symbol": "circle"
           },
           "mode": "markers",
           "name": "MailOnline",
           "orientation": "v",
           "showlegend": true,
           "type": "scatter",
           "x": [
            0.0059
           ],
           "xaxis": "x",
           "y": [
            0.8146
           ],
           "yaxis": "y"
          }
         ],
         "name": "2022-05-05"
        },
        {
         "data": [
          {
           "hovertemplate": "<b>%{hovertext}</b><br><br>Username=MailOnline<br>only_date=2022-05-08<br>positive=%{x}<br>negative=%{y}<br>Like Count=%{marker.size}<extra></extra>",
           "hovertext": [
            "MailOnline"
           ],
           "legendgroup": "MailOnline",
           "marker": {
            "color": "#ab63fa",
            "size": [
             19
            ],
            "sizemode": "area",
            "sizeref": 3.8625,
            "symbol": "circle"
           },
           "mode": "markers",
           "name": "MailOnline",
           "orientation": "v",
           "showlegend": true,
           "type": "scatter",
           "x": [
            0.8204
           ],
           "xaxis": "x",
           "y": [
            0.0022
           ],
           "yaxis": "y"
          }
         ],
         "name": "2022-05-08"
        },
        {
         "data": [
          {
           "hovertemplate": "<b>%{hovertext}</b><br><br>Username=MailOnline<br>only_date=2022-05-10<br>positive=%{x}<br>negative=%{y}<br>Like Count=%{marker.size}<extra></extra>",
           "hovertext": [
            "MailOnline"
           ],
           "legendgroup": "MailOnline",
           "marker": {
            "color": "#ab63fa",
            "size": [
             22
            ],
            "sizemode": "area",
            "sizeref": 3.8625,
            "symbol": "circle"
           },
           "mode": "markers",
           "name": "MailOnline",
           "orientation": "v",
           "showlegend": true,
           "type": "scatter",
           "x": [
            0.0103
           ],
           "xaxis": "x",
           "y": [
            0.6609
           ],
           "yaxis": "y"
          }
         ],
         "name": "2022-05-10"
        },
        {
         "data": [
          {
           "hovertemplate": "<b>%{hovertext}</b><br><br>Username=MailOnline<br>only_date=2022-05-13<br>positive=%{x}<br>negative=%{y}<br>Like Count=%{marker.size}<extra></extra>",
           "hovertext": [
            "MailOnline"
           ],
           "legendgroup": "MailOnline",
           "marker": {
            "color": "#ab63fa",
            "size": [
             41
            ],
            "sizemode": "area",
            "sizeref": 3.8625,
            "symbol": "circle"
           },
           "mode": "markers",
           "name": "MailOnline",
           "orientation": "v",
           "showlegend": true,
           "type": "scatter",
           "x": [
            0.0093
           ],
           "xaxis": "x",
           "y": [
            0.7039
           ],
           "yaxis": "y"
          }
         ],
         "name": "2022-05-13"
        },
        {
         "data": [
          {
           "hovertemplate": "<b>%{hovertext}</b><br><br>Username=MailOnline<br>only_date=2022-05-17<br>positive=%{x}<br>negative=%{y}<br>Like Count=%{marker.size}<extra></extra>",
           "hovertext": [
            "MailOnline",
            "MailOnline",
            "MailOnline"
           ],
           "legendgroup": "MailOnline",
           "marker": {
            "color": "#ab63fa",
            "size": [
             47,
             19,
             24
            ],
            "sizemode": "area",
            "sizeref": 3.8625,
            "symbol": "circle"
           },
           "mode": "markers",
           "name": "MailOnline",
           "orientation": "v",
           "showlegend": true,
           "type": "scatter",
           "x": [
            0.009,
            0.0446,
            0.0103
           ],
           "xaxis": "x",
           "y": [
            0.5033,
            0.1865,
            0.586
           ],
           "yaxis": "y"
          }
         ],
         "name": "2022-05-17"
        },
        {
         "data": [
          {
           "hovertemplate": "<b>%{hovertext}</b><br><br>Username=DailyMailUK<br>only_date=2022-05-18<br>positive=%{x}<br>negative=%{y}<br>Like Count=%{marker.size}<extra></extra>",
           "hovertext": [
            "DailyMailUK"
           ],
           "legendgroup": "DailyMailUK",
           "marker": {
            "color": "#636efa",
            "size": [
             14
            ],
            "sizemode": "area",
            "sizeref": 3.8625,
            "symbol": "circle"
           },
           "mode": "markers",
           "name": "DailyMailUK",
           "orientation": "v",
           "showlegend": true,
           "type": "scatter",
           "x": [
            0.0073
           ],
           "xaxis": "x",
           "y": [
            0.7098
           ],
           "yaxis": "y"
          }
         ],
         "name": "2022-05-18"
        },
        {
         "data": [
          {
           "hovertemplate": "<b>%{hovertext}</b><br><br>Username=MailOnline<br>only_date=2022-05-19<br>positive=%{x}<br>negative=%{y}<br>Like Count=%{marker.size}<extra></extra>",
           "hovertext": [
            "MailOnline"
           ],
           "legendgroup": "MailOnline",
           "marker": {
            "color": "#ab63fa",
            "size": [
             49
            ],
            "sizemode": "area",
            "sizeref": 3.8625,
            "symbol": "circle"
           },
           "mode": "markers",
           "name": "MailOnline",
           "orientation": "v",
           "showlegend": true,
           "type": "scatter",
           "x": [
            0.0235
           ],
           "xaxis": "x",
           "y": [
            0.2633
           ],
           "yaxis": "y"
          }
         ],
         "name": "2022-05-19"
        },
        {
         "data": [
          {
           "hovertemplate": "<b>%{hovertext}</b><br><br>Username=Daily_Express<br>only_date=2022-05-23<br>positive=%{x}<br>negative=%{y}<br>Like Count=%{marker.size}<extra></extra>",
           "hovertext": [
            "Daily_Express"
           ],
           "legendgroup": "Daily_Express",
           "marker": {
            "color": "#EF553B",
            "size": [
             2
            ],
            "sizemode": "area",
            "sizeref": 3.8625,
            "symbol": "circle"
           },
           "mode": "markers",
           "name": "Daily_Express",
           "orientation": "v",
           "showlegend": true,
           "type": "scatter",
           "x": [
            0.0174
           ],
           "xaxis": "x",
           "y": [
            0.429
           ],
           "yaxis": "y"
          }
         ],
         "name": "2022-05-23"
        },
        {
         "data": [
          {
           "hovertemplate": "<b>%{hovertext}</b><br><br>Username=Daily_Express<br>only_date=2022-05-25<br>positive=%{x}<br>negative=%{y}<br>Like Count=%{marker.size}<extra></extra>",
           "hovertext": [
            "Daily_Express"
           ],
           "legendgroup": "Daily_Express",
           "marker": {
            "color": "#EF553B",
            "size": [
             5
            ],
            "sizemode": "area",
            "sizeref": 3.8625,
            "symbol": "circle"
           },
           "mode": "markers",
           "name": "Daily_Express",
           "orientation": "v",
           "showlegend": true,
           "type": "scatter",
           "x": [
            0.0145
           ],
           "xaxis": "x",
           "y": [
            0.5636
           ],
           "yaxis": "y"
          }
         ],
         "name": "2022-05-25"
        },
        {
         "data": [
          {
           "hovertemplate": "<b>%{hovertext}</b><br><br>Username=MailOnline<br>only_date=2022-05-26<br>positive=%{x}<br>negative=%{y}<br>Like Count=%{marker.size}<extra></extra>",
           "hovertext": [
            "MailOnline",
            "MailOnline"
           ],
           "legendgroup": "MailOnline",
           "marker": {
            "color": "#ab63fa",
            "size": [
             31,
             55
            ],
            "sizemode": "area",
            "sizeref": 3.8625,
            "symbol": "circle"
           },
           "mode": "markers",
           "name": "MailOnline",
           "orientation": "v",
           "showlegend": true,
           "type": "scatter",
           "x": [
            0.0101,
            0.0066
           ],
           "xaxis": "x",
           "y": [
            0.6808,
            0.809
           ],
           "yaxis": "y"
          }
         ],
         "name": "2022-05-26"
        },
        {
         "data": [
          {
           "hovertemplate": "<b>%{hovertext}</b><br><br>Username=MailOnline<br>only_date=2022-05-27<br>positive=%{x}<br>negative=%{y}<br>Like Count=%{marker.size}<extra></extra>",
           "hovertext": [
            "MailOnline"
           ],
           "legendgroup": "MailOnline",
           "marker": {
            "color": "#ab63fa",
            "size": [
             8
            ],
            "sizemode": "area",
            "sizeref": 3.8625,
            "symbol": "circle"
           },
           "mode": "markers",
           "name": "MailOnline",
           "orientation": "v",
           "showlegend": true,
           "type": "scatter",
           "x": [
            0.0121
           ],
           "xaxis": "x",
           "y": [
            0.5709
           ],
           "yaxis": "y"
          }
         ],
         "name": "2022-05-27"
        },
        {
         "data": [
          {
           "hovertemplate": "<b>%{hovertext}</b><br><br>Username=TheSun<br>only_date=2022-05-31<br>positive=%{x}<br>negative=%{y}<br>Like Count=%{marker.size}<extra></extra>",
           "hovertext": [
            "TheSun"
           ],
           "legendgroup": "TheSun",
           "marker": {
            "color": "#00cc96",
            "size": [
             10
            ],
            "sizemode": "area",
            "sizeref": 3.8625,
            "symbol": "circle"
           },
           "mode": "markers",
           "name": "TheSun",
           "orientation": "v",
           "showlegend": true,
           "type": "scatter",
           "x": [
            0.0046
           ],
           "xaxis": "x",
           "y": [
            0.9271
           ],
           "yaxis": "y"
          }
         ],
         "name": "2022-05-31"
        },
        {
         "data": [
          {
           "hovertemplate": "<b>%{hovertext}</b><br><br>Username=MailOnline<br>only_date=2022-06-02<br>positive=%{x}<br>negative=%{y}<br>Like Count=%{marker.size}<extra></extra>",
           "hovertext": [
            "MailOnline",
            "MailOnline"
           ],
           "legendgroup": "MailOnline",
           "marker": {
            "color": "#ab63fa",
            "size": [
             15,
             7
            ],
            "sizemode": "area",
            "sizeref": 3.8625,
            "symbol": "circle"
           },
           "mode": "markers",
           "name": "MailOnline",
           "orientation": "v",
           "showlegend": true,
           "type": "scatter",
           "x": [
            0.0108,
            0.0265
           ],
           "xaxis": "x",
           "y": [
            0.6108,
            0.2219
           ],
           "yaxis": "y"
          }
         ],
         "name": "2022-06-02"
        },
        {
         "data": [
          {
           "hovertemplate": "<b>%{hovertext}</b><br><br>Username=Daily_Express<br>only_date=2022-06-04<br>positive=%{x}<br>negative=%{y}<br>Like Count=%{marker.size}<extra></extra>",
           "hovertext": [
            "Daily_Express",
            "Daily_Express"
           ],
           "legendgroup": "Daily_Express",
           "marker": {
            "color": "#EF553B",
            "size": [
             4,
             3
            ],
            "sizemode": "area",
            "sizeref": 3.8625,
            "symbol": "circle"
           },
           "mode": "markers",
           "name": "Daily_Express",
           "orientation": "v",
           "showlegend": true,
           "type": "scatter",
           "x": [
            0.0104,
            0.0089
           ],
           "xaxis": "x",
           "y": [
            0.634,
            0.6747
           ],
           "yaxis": "y"
          }
         ],
         "name": "2022-06-04"
        },
        {
         "data": [
          {
           "hovertemplate": "<b>%{hovertext}</b><br><br>Username=TheSun<br>only_date=2022-06-05<br>positive=%{x}<br>negative=%{y}<br>Like Count=%{marker.size}<extra></extra>",
           "hovertext": [
            "TheSun"
           ],
           "legendgroup": "TheSun",
           "marker": {
            "color": "#00cc96",
            "size": [
             10
            ],
            "sizemode": "area",
            "sizeref": 3.8625,
            "symbol": "circle"
           },
           "mode": "markers",
           "name": "TheSun",
           "orientation": "v",
           "showlegend": true,
           "type": "scatter",
           "x": [
            0.0442
           ],
           "xaxis": "x",
           "y": [
            0.5584
           ],
           "yaxis": "y"
          }
         ],
         "name": "2022-06-05"
        },
        {
         "data": [
          {
           "hovertemplate": "<b>%{hovertext}</b><br><br>Username=MailOnline<br>only_date=2022-06-07<br>positive=%{x}<br>negative=%{y}<br>Like Count=%{marker.size}<extra></extra>",
           "hovertext": [
            "MailOnline",
            "MailOnline"
           ],
           "legendgroup": "MailOnline",
           "marker": {
            "color": "#ab63fa",
            "size": [
             18,
             24
            ],
            "sizemode": "area",
            "sizeref": 3.8625,
            "symbol": "circle"
           },
           "mode": "markers",
           "name": "MailOnline",
           "orientation": "v",
           "showlegend": true,
           "type": "scatter",
           "x": [
            0.008,
            0.0068
           ],
           "xaxis": "x",
           "y": [
            0.7652,
            0.6864
           ],
           "yaxis": "y"
          }
         ],
         "name": "2022-06-07"
        },
        {
         "data": [
          {
           "hovertemplate": "<b>%{hovertext}</b><br><br>Username=DailyMailUK<br>only_date=2022-06-08<br>positive=%{x}<br>negative=%{y}<br>Like Count=%{marker.size}<extra></extra>",
           "hovertext": [
            "DailyMailUK",
            "DailyMailUK",
            "DailyMailUK",
            "DailyMailUK"
           ],
           "legendgroup": "DailyMailUK",
           "marker": {
            "color": "#636efa",
            "size": [
             20,
             8,
             58,
             8
            ],
            "sizemode": "area",
            "sizeref": 3.8625,
            "symbol": "circle"
           },
           "mode": "markers",
           "name": "DailyMailUK",
           "orientation": "v",
           "showlegend": true,
           "type": "scatter",
           "x": [
            0.0069,
            0.0063,
            0.0323,
            0.0514
           ],
           "xaxis": "x",
           "y": [
            0.8118,
            0.7975,
            0.3584,
            0.022
           ],
           "yaxis": "y"
          },
          {
           "hovertemplate": "<b>%{hovertext}</b><br><br>Username=Daily_Express<br>only_date=2022-06-08<br>positive=%{x}<br>negative=%{y}<br>Like Count=%{marker.size}<extra></extra>",
           "hovertext": [
            "Daily_Express",
            "Daily_Express"
           ],
           "legendgroup": "Daily_Express",
           "marker": {
            "color": "#EF553B",
            "size": [
             3,
             1
            ],
            "sizemode": "area",
            "sizeref": 3.8625,
            "symbol": "circle"
           },
           "mode": "markers",
           "name": "Daily_Express",
           "orientation": "v",
           "showlegend": true,
           "type": "scatter",
           "x": [
            0.0163,
            0.851
           ],
           "xaxis": "x",
           "y": [
            0.555,
            0.0038
           ],
           "yaxis": "y"
          },
          {
           "hovertemplate": "<b>%{hovertext}</b><br><br>Username=MailOnline<br>only_date=2022-06-08<br>positive=%{x}<br>negative=%{y}<br>Like Count=%{marker.size}<extra></extra>",
           "hovertext": [
            "MailOnline"
           ],
           "legendgroup": "MailOnline",
           "marker": {
            "color": "#ab63fa",
            "size": [
             4
            ],
            "sizemode": "area",
            "sizeref": 3.8625,
            "symbol": "circle"
           },
           "mode": "markers",
           "name": "MailOnline",
           "orientation": "v",
           "showlegend": true,
           "type": "scatter",
           "x": [
            0.0822
           ],
           "xaxis": "x",
           "y": [
            0.0954
           ],
           "yaxis": "y"
          }
         ],
         "name": "2022-06-08"
        },
        {
         "data": [
          {
           "hovertemplate": "<b>%{hovertext}</b><br><br>Username=DailyMailUK<br>only_date=2022-06-09<br>positive=%{x}<br>negative=%{y}<br>Like Count=%{marker.size}<extra></extra>",
           "hovertext": [
            "DailyMailUK",
            "DailyMailUK"
           ],
           "legendgroup": "DailyMailUK",
           "marker": {
            "color": "#636efa",
            "size": [
             23,
             9
            ],
            "sizemode": "area",
            "sizeref": 3.8625,
            "symbol": "circle"
           },
           "mode": "markers",
           "name": "DailyMailUK",
           "orientation": "v",
           "showlegend": true,
           "type": "scatter",
           "x": [
            0.0089,
            0.011
           ],
           "xaxis": "x",
           "y": [
            0.7184,
            0.7577
           ],
           "yaxis": "y"
          },
          {
           "hovertemplate": "<b>%{hovertext}</b><br><br>Username=Daily_Express<br>only_date=2022-06-09<br>positive=%{x}<br>negative=%{y}<br>Like Count=%{marker.size}<extra></extra>",
           "hovertext": [
            "Daily_Express"
           ],
           "legendgroup": "Daily_Express",
           "marker": {
            "color": "#EF553B",
            "size": [
             2
            ],
            "sizemode": "area",
            "sizeref": 3.8625,
            "symbol": "circle"
           },
           "mode": "markers",
           "name": "Daily_Express",
           "orientation": "v",
           "showlegend": true,
           "type": "scatter",
           "x": [
            0.1082
           ],
           "xaxis": "x",
           "y": [
            0.0114
           ],
           "yaxis": "y"
          }
         ],
         "name": "2022-06-09"
        }
       ],
       "layout": {
        "legend": {
         "itemsizing": "constant",
         "title": {
          "text": "Username"
         },
         "tracegroupgap": 0
        },
        "margin": {
         "t": 60
        },
        "sliders": [
         {
          "active": 0,
          "currentvalue": {
           "prefix": "only_date="
          },
          "len": 0.9,
          "pad": {
           "b": 10,
           "t": 60
          },
          "steps": [
           {
            "args": [
             [
              "2021-05-08"
             ],
             {
              "frame": {
               "duration": 0,
               "redraw": false
              },
              "fromcurrent": true,
              "mode": "immediate",
              "transition": {
               "duration": 0,
               "easing": "linear"
              }
             }
            ],
            "label": "2021-05-08",
            "method": "animate"
           },
           {
            "args": [
             [
              "2021-05-10"
             ],
             {
              "frame": {
               "duration": 0,
               "redraw": false
              },
              "fromcurrent": true,
              "mode": "immediate",
              "transition": {
               "duration": 0,
               "easing": "linear"
              }
             }
            ],
            "label": "2021-05-10",
            "method": "animate"
           },
           {
            "args": [
             [
              "2021-05-11"
             ],
             {
              "frame": {
               "duration": 0,
               "redraw": false
              },
              "fromcurrent": true,
              "mode": "immediate",
              "transition": {
               "duration": 0,
               "easing": "linear"
              }
             }
            ],
            "label": "2021-05-11",
            "method": "animate"
           },
           {
            "args": [
             [
              "2021-05-12"
             ],
             {
              "frame": {
               "duration": 0,
               "redraw": false
              },
              "fromcurrent": true,
              "mode": "immediate",
              "transition": {
               "duration": 0,
               "easing": "linear"
              }
             }
            ],
            "label": "2021-05-12",
            "method": "animate"
           },
           {
            "args": [
             [
              "2021-05-13"
             ],
             {
              "frame": {
               "duration": 0,
               "redraw": false
              },
              "fromcurrent": true,
              "mode": "immediate",
              "transition": {
               "duration": 0,
               "easing": "linear"
              }
             }
            ],
            "label": "2021-05-13",
            "method": "animate"
           },
           {
            "args": [
             [
              "2021-05-14"
             ],
             {
              "frame": {
               "duration": 0,
               "redraw": false
              },
              "fromcurrent": true,
              "mode": "immediate",
              "transition": {
               "duration": 0,
               "easing": "linear"
              }
             }
            ],
            "label": "2021-05-14",
            "method": "animate"
           },
           {
            "args": [
             [
              "2021-05-15"
             ],
             {
              "frame": {
               "duration": 0,
               "redraw": false
              },
              "fromcurrent": true,
              "mode": "immediate",
              "transition": {
               "duration": 0,
               "easing": "linear"
              }
             }
            ],
            "label": "2021-05-15",
            "method": "animate"
           },
           {
            "args": [
             [
              "2021-05-17"
             ],
             {
              "frame": {
               "duration": 0,
               "redraw": false
              },
              "fromcurrent": true,
              "mode": "immediate",
              "transition": {
               "duration": 0,
               "easing": "linear"
              }
             }
            ],
            "label": "2021-05-17",
            "method": "animate"
           },
           {
            "args": [
             [
              "2021-05-18"
             ],
             {
              "frame": {
               "duration": 0,
               "redraw": false
              },
              "fromcurrent": true,
              "mode": "immediate",
              "transition": {
               "duration": 0,
               "easing": "linear"
              }
             }
            ],
            "label": "2021-05-18",
            "method": "animate"
           },
           {
            "args": [
             [
              "2021-05-19"
             ],
             {
              "frame": {
               "duration": 0,
               "redraw": false
              },
              "fromcurrent": true,
              "mode": "immediate",
              "transition": {
               "duration": 0,
               "easing": "linear"
              }
             }
            ],
            "label": "2021-05-19",
            "method": "animate"
           },
           {
            "args": [
             [
              "2021-05-21"
             ],
             {
              "frame": {
               "duration": 0,
               "redraw": false
              },
              "fromcurrent": true,
              "mode": "immediate",
              "transition": {
               "duration": 0,
               "easing": "linear"
              }
             }
            ],
            "label": "2021-05-21",
            "method": "animate"
           },
           {
            "args": [
             [
              "2021-05-25"
             ],
             {
              "frame": {
               "duration": 0,
               "redraw": false
              },
              "fromcurrent": true,
              "mode": "immediate",
              "transition": {
               "duration": 0,
               "easing": "linear"
              }
             }
            ],
            "label": "2021-05-25",
            "method": "animate"
           },
           {
            "args": [
             [
              "2021-05-26"
             ],
             {
              "frame": {
               "duration": 0,
               "redraw": false
              },
              "fromcurrent": true,
              "mode": "immediate",
              "transition": {
               "duration": 0,
               "easing": "linear"
              }
             }
            ],
            "label": "2021-05-26",
            "method": "animate"
           },
           {
            "args": [
             [
              "2021-05-28"
             ],
             {
              "frame": {
               "duration": 0,
               "redraw": false
              },
              "fromcurrent": true,
              "mode": "immediate",
              "transition": {
               "duration": 0,
               "easing": "linear"
              }
             }
            ],
            "label": "2021-05-28",
            "method": "animate"
           },
           {
            "args": [
             [
              "2021-05-29"
             ],
             {
              "frame": {
               "duration": 0,
               "redraw": false
              },
              "fromcurrent": true,
              "mode": "immediate",
              "transition": {
               "duration": 0,
               "easing": "linear"
              }
             }
            ],
            "label": "2021-05-29",
            "method": "animate"
           },
           {
            "args": [
             [
              "2021-05-30"
             ],
             {
              "frame": {
               "duration": 0,
               "redraw": false
              },
              "fromcurrent": true,
              "mode": "immediate",
              "transition": {
               "duration": 0,
               "easing": "linear"
              }
             }
            ],
            "label": "2021-05-30",
            "method": "animate"
           },
           {
            "args": [
             [
              "2021-06-01"
             ],
             {
              "frame": {
               "duration": 0,
               "redraw": false
              },
              "fromcurrent": true,
              "mode": "immediate",
              "transition": {
               "duration": 0,
               "easing": "linear"
              }
             }
            ],
            "label": "2021-06-01",
            "method": "animate"
           },
           {
            "args": [
             [
              "2021-06-02"
             ],
             {
              "frame": {
               "duration": 0,
               "redraw": false
              },
              "fromcurrent": true,
              "mode": "immediate",
              "transition": {
               "duration": 0,
               "easing": "linear"
              }
             }
            ],
            "label": "2021-06-02",
            "method": "animate"
           },
           {
            "args": [
             [
              "2021-06-03"
             ],
             {
              "frame": {
               "duration": 0,
               "redraw": false
              },
              "fromcurrent": true,
              "mode": "immediate",
              "transition": {
               "duration": 0,
               "easing": "linear"
              }
             }
            ],
            "label": "2021-06-03",
            "method": "animate"
           },
           {
            "args": [
             [
              "2021-06-08"
             ],
             {
              "frame": {
               "duration": 0,
               "redraw": false
              },
              "fromcurrent": true,
              "mode": "immediate",
              "transition": {
               "duration": 0,
               "easing": "linear"
              }
             }
            ],
            "label": "2021-06-08",
            "method": "animate"
           },
           {
            "args": [
             [
              "2021-06-10"
             ],
             {
              "frame": {
               "duration": 0,
               "redraw": false
              },
              "fromcurrent": true,
              "mode": "immediate",
              "transition": {
               "duration": 0,
               "easing": "linear"
              }
             }
            ],
            "label": "2021-06-10",
            "method": "animate"
           },
           {
            "args": [
             [
              "2021-06-12"
             ],
             {
              "frame": {
               "duration": 0,
               "redraw": false
              },
              "fromcurrent": true,
              "mode": "immediate",
              "transition": {
               "duration": 0,
               "easing": "linear"
              }
             }
            ],
            "label": "2021-06-12",
            "method": "animate"
           },
           {
            "args": [
             [
              "2021-06-13"
             ],
             {
              "frame": {
               "duration": 0,
               "redraw": false
              },
              "fromcurrent": true,
              "mode": "immediate",
              "transition": {
               "duration": 0,
               "easing": "linear"
              }
             }
            ],
            "label": "2021-06-13",
            "method": "animate"
           },
           {
            "args": [
             [
              "2021-06-14"
             ],
             {
              "frame": {
               "duration": 0,
               "redraw": false
              },
              "fromcurrent": true,
              "mode": "immediate",
              "transition": {
               "duration": 0,
               "easing": "linear"
              }
             }
            ],
            "label": "2021-06-14",
            "method": "animate"
           },
           {
            "args": [
             [
              "2021-06-15"
             ],
             {
              "frame": {
               "duration": 0,
               "redraw": false
              },
              "fromcurrent": true,
              "mode": "immediate",
              "transition": {
               "duration": 0,
               "easing": "linear"
              }
             }
            ],
            "label": "2021-06-15",
            "method": "animate"
           },
           {
            "args": [
             [
              "2021-06-18"
             ],
             {
              "frame": {
               "duration": 0,
               "redraw": false
              },
              "fromcurrent": true,
              "mode": "immediate",
              "transition": {
               "duration": 0,
               "easing": "linear"
              }
             }
            ],
            "label": "2021-06-18",
            "method": "animate"
           },
           {
            "args": [
             [
              "2021-06-20"
             ],
             {
              "frame": {
               "duration": 0,
               "redraw": false
              },
              "fromcurrent": true,
              "mode": "immediate",
              "transition": {
               "duration": 0,
               "easing": "linear"
              }
             }
            ],
            "label": "2021-06-20",
            "method": "animate"
           },
           {
            "args": [
             [
              "2021-06-21"
             ],
             {
              "frame": {
               "duration": 0,
               "redraw": false
              },
              "fromcurrent": true,
              "mode": "immediate",
              "transition": {
               "duration": 0,
               "easing": "linear"
              }
             }
            ],
            "label": "2021-06-21",
            "method": "animate"
           },
           {
            "args": [
             [
              "2021-06-26"
             ],
             {
              "frame": {
               "duration": 0,
               "redraw": false
              },
              "fromcurrent": true,
              "mode": "immediate",
              "transition": {
               "duration": 0,
               "easing": "linear"
              }
             }
            ],
            "label": "2021-06-26",
            "method": "animate"
           },
           {
            "args": [
             [
              "2021-06-28"
             ],
             {
              "frame": {
               "duration": 0,
               "redraw": false
              },
              "fromcurrent": true,
              "mode": "immediate",
              "transition": {
               "duration": 0,
               "easing": "linear"
              }
             }
            ],
            "label": "2021-06-28",
            "method": "animate"
           },
           {
            "args": [
             [
              "2021-06-30"
             ],
             {
              "frame": {
               "duration": 0,
               "redraw": false
              },
              "fromcurrent": true,
              "mode": "immediate",
              "transition": {
               "duration": 0,
               "easing": "linear"
              }
             }
            ],
            "label": "2021-06-30",
            "method": "animate"
           },
           {
            "args": [
             [
              "2021-07-02"
             ],
             {
              "frame": {
               "duration": 0,
               "redraw": false
              },
              "fromcurrent": true,
              "mode": "immediate",
              "transition": {
               "duration": 0,
               "easing": "linear"
              }
             }
            ],
            "label": "2021-07-02",
            "method": "animate"
           },
           {
            "args": [
             [
              "2021-07-04"
             ],
             {
              "frame": {
               "duration": 0,
               "redraw": false
              },
              "fromcurrent": true,
              "mode": "immediate",
              "transition": {
               "duration": 0,
               "easing": "linear"
              }
             }
            ],
            "label": "2021-07-04",
            "method": "animate"
           },
           {
            "args": [
             [
              "2021-07-05"
             ],
             {
              "frame": {
               "duration": 0,
               "redraw": false
              },
              "fromcurrent": true,
              "mode": "immediate",
              "transition": {
               "duration": 0,
               "easing": "linear"
              }
             }
            ],
            "label": "2021-07-05",
            "method": "animate"
           },
           {
            "args": [
             [
              "2021-07-07"
             ],
             {
              "frame": {
               "duration": 0,
               "redraw": false
              },
              "fromcurrent": true,
              "mode": "immediate",
              "transition": {
               "duration": 0,
               "easing": "linear"
              }
             }
            ],
            "label": "2021-07-07",
            "method": "animate"
           },
           {
            "args": [
             [
              "2021-07-09"
             ],
             {
              "frame": {
               "duration": 0,
               "redraw": false
              },
              "fromcurrent": true,
              "mode": "immediate",
              "transition": {
               "duration": 0,
               "easing": "linear"
              }
             }
            ],
            "label": "2021-07-09",
            "method": "animate"
           },
           {
            "args": [
             [
              "2021-07-10"
             ],
             {
              "frame": {
               "duration": 0,
               "redraw": false
              },
              "fromcurrent": true,
              "mode": "immediate",
              "transition": {
               "duration": 0,
               "easing": "linear"
              }
             }
            ],
            "label": "2021-07-10",
            "method": "animate"
           },
           {
            "args": [
             [
              "2021-07-11"
             ],
             {
              "frame": {
               "duration": 0,
               "redraw": false
              },
              "fromcurrent": true,
              "mode": "immediate",
              "transition": {
               "duration": 0,
               "easing": "linear"
              }
             }
            ],
            "label": "2021-07-11",
            "method": "animate"
           },
           {
            "args": [
             [
              "2021-07-14"
             ],
             {
              "frame": {
               "duration": 0,
               "redraw": false
              },
              "fromcurrent": true,
              "mode": "immediate",
              "transition": {
               "duration": 0,
               "easing": "linear"
              }
             }
            ],
            "label": "2021-07-14",
            "method": "animate"
           },
           {
            "args": [
             [
              "2021-07-16"
             ],
             {
              "frame": {
               "duration": 0,
               "redraw": false
              },
              "fromcurrent": true,
              "mode": "immediate",
              "transition": {
               "duration": 0,
               "easing": "linear"
              }
             }
            ],
            "label": "2021-07-16",
            "method": "animate"
           },
           {
            "args": [
             [
              "2021-07-18"
             ],
             {
              "frame": {
               "duration": 0,
               "redraw": false
              },
              "fromcurrent": true,
              "mode": "immediate",
              "transition": {
               "duration": 0,
               "easing": "linear"
              }
             }
            ],
            "label": "2021-07-18",
            "method": "animate"
           },
           {
            "args": [
             [
              "2021-07-19"
             ],
             {
              "frame": {
               "duration": 0,
               "redraw": false
              },
              "fromcurrent": true,
              "mode": "immediate",
              "transition": {
               "duration": 0,
               "easing": "linear"
              }
             }
            ],
            "label": "2021-07-19",
            "method": "animate"
           },
           {
            "args": [
             [
              "2021-07-20"
             ],
             {
              "frame": {
               "duration": 0,
               "redraw": false
              },
              "fromcurrent": true,
              "mode": "immediate",
              "transition": {
               "duration": 0,
               "easing": "linear"
              }
             }
            ],
            "label": "2021-07-20",
            "method": "animate"
           },
           {
            "args": [
             [
              "2021-07-21"
             ],
             {
              "frame": {
               "duration": 0,
               "redraw": false
              },
              "fromcurrent": true,
              "mode": "immediate",
              "transition": {
               "duration": 0,
               "easing": "linear"
              }
             }
            ],
            "label": "2021-07-21",
            "method": "animate"
           },
           {
            "args": [
             [
              "2021-07-22"
             ],
             {
              "frame": {
               "duration": 0,
               "redraw": false
              },
              "fromcurrent": true,
              "mode": "immediate",
              "transition": {
               "duration": 0,
               "easing": "linear"
              }
             }
            ],
            "label": "2021-07-22",
            "method": "animate"
           },
           {
            "args": [
             [
              "2021-07-24"
             ],
             {
              "frame": {
               "duration": 0,
               "redraw": false
              },
              "fromcurrent": true,
              "mode": "immediate",
              "transition": {
               "duration": 0,
               "easing": "linear"
              }
             }
            ],
            "label": "2021-07-24",
            "method": "animate"
           },
           {
            "args": [
             [
              "2021-07-26"
             ],
             {
              "frame": {
               "duration": 0,
               "redraw": false
              },
              "fromcurrent": true,
              "mode": "immediate",
              "transition": {
               "duration": 0,
               "easing": "linear"
              }
             }
            ],
            "label": "2021-07-26",
            "method": "animate"
           },
           {
            "args": [
             [
              "2021-07-27"
             ],
             {
              "frame": {
               "duration": 0,
               "redraw": false
              },
              "fromcurrent": true,
              "mode": "immediate",
              "transition": {
               "duration": 0,
               "easing": "linear"
              }
             }
            ],
            "label": "2021-07-27",
            "method": "animate"
           },
           {
            "args": [
             [
              "2021-07-31"
             ],
             {
              "frame": {
               "duration": 0,
               "redraw": false
              },
              "fromcurrent": true,
              "mode": "immediate",
              "transition": {
               "duration": 0,
               "easing": "linear"
              }
             }
            ],
            "label": "2021-07-31",
            "method": "animate"
           },
           {
            "args": [
             [
              "2021-08-01"
             ],
             {
              "frame": {
               "duration": 0,
               "redraw": false
              },
              "fromcurrent": true,
              "mode": "immediate",
              "transition": {
               "duration": 0,
               "easing": "linear"
              }
             }
            ],
            "label": "2021-08-01",
            "method": "animate"
           },
           {
            "args": [
             [
              "2021-08-02"
             ],
             {
              "frame": {
               "duration": 0,
               "redraw": false
              },
              "fromcurrent": true,
              "mode": "immediate",
              "transition": {
               "duration": 0,
               "easing": "linear"
              }
             }
            ],
            "label": "2021-08-02",
            "method": "animate"
           },
           {
            "args": [
             [
              "2021-08-03"
             ],
             {
              "frame": {
               "duration": 0,
               "redraw": false
              },
              "fromcurrent": true,
              "mode": "immediate",
              "transition": {
               "duration": 0,
               "easing": "linear"
              }
             }
            ],
            "label": "2021-08-03",
            "method": "animate"
           },
           {
            "args": [
             [
              "2021-08-04"
             ],
             {
              "frame": {
               "duration": 0,
               "redraw": false
              },
              "fromcurrent": true,
              "mode": "immediate",
              "transition": {
               "duration": 0,
               "easing": "linear"
              }
             }
            ],
            "label": "2021-08-04",
            "method": "animate"
           },
           {
            "args": [
             [
              "2021-08-05"
             ],
             {
              "frame": {
               "duration": 0,
               "redraw": false
              },
              "fromcurrent": true,
              "mode": "immediate",
              "transition": {
               "duration": 0,
               "easing": "linear"
              }
             }
            ],
            "label": "2021-08-05",
            "method": "animate"
           },
           {
            "args": [
             [
              "2021-08-08"
             ],
             {
              "frame": {
               "duration": 0,
               "redraw": false
              },
              "fromcurrent": true,
              "mode": "immediate",
              "transition": {
               "duration": 0,
               "easing": "linear"
              }
             }
            ],
            "label": "2021-08-08",
            "method": "animate"
           },
           {
            "args": [
             [
              "2021-08-09"
             ],
             {
              "frame": {
               "duration": 0,
               "redraw": false
              },
              "fromcurrent": true,
              "mode": "immediate",
              "transition": {
               "duration": 0,
               "easing": "linear"
              }
             }
            ],
            "label": "2021-08-09",
            "method": "animate"
           },
           {
            "args": [
             [
              "2021-08-10"
             ],
             {
              "frame": {
               "duration": 0,
               "redraw": false
              },
              "fromcurrent": true,
              "mode": "immediate",
              "transition": {
               "duration": 0,
               "easing": "linear"
              }
             }
            ],
            "label": "2021-08-10",
            "method": "animate"
           },
           {
            "args": [
             [
              "2021-08-11"
             ],
             {
              "frame": {
               "duration": 0,
               "redraw": false
              },
              "fromcurrent": true,
              "mode": "immediate",
              "transition": {
               "duration": 0,
               "easing": "linear"
              }
             }
            ],
            "label": "2021-08-11",
            "method": "animate"
           },
           {
            "args": [
             [
              "2021-08-12"
             ],
             {
              "frame": {
               "duration": 0,
               "redraw": false
              },
              "fromcurrent": true,
              "mode": "immediate",
              "transition": {
               "duration": 0,
               "easing": "linear"
              }
             }
            ],
            "label": "2021-08-12",
            "method": "animate"
           },
           {
            "args": [
             [
              "2021-08-13"
             ],
             {
              "frame": {
               "duration": 0,
               "redraw": false
              },
              "fromcurrent": true,
              "mode": "immediate",
              "transition": {
               "duration": 0,
               "easing": "linear"
              }
             }
            ],
            "label": "2021-08-13",
            "method": "animate"
           },
           {
            "args": [
             [
              "2021-08-15"
             ],
             {
              "frame": {
               "duration": 0,
               "redraw": false
              },
              "fromcurrent": true,
              "mode": "immediate",
              "transition": {
               "duration": 0,
               "easing": "linear"
              }
             }
            ],
            "label": "2021-08-15",
            "method": "animate"
           },
           {
            "args": [
             [
              "2021-08-16"
             ],
             {
              "frame": {
               "duration": 0,
               "redraw": false
              },
              "fromcurrent": true,
              "mode": "immediate",
              "transition": {
               "duration": 0,
               "easing": "linear"
              }
             }
            ],
            "label": "2021-08-16",
            "method": "animate"
           },
           {
            "args": [
             [
              "2021-08-17"
             ],
             {
              "frame": {
               "duration": 0,
               "redraw": false
              },
              "fromcurrent": true,
              "mode": "immediate",
              "transition": {
               "duration": 0,
               "easing": "linear"
              }
             }
            ],
            "label": "2021-08-17",
            "method": "animate"
           },
           {
            "args": [
             [
              "2021-08-18"
             ],
             {
              "frame": {
               "duration": 0,
               "redraw": false
              },
              "fromcurrent": true,
              "mode": "immediate",
              "transition": {
               "duration": 0,
               "easing": "linear"
              }
             }
            ],
            "label": "2021-08-18",
            "method": "animate"
           },
           {
            "args": [
             [
              "2021-08-19"
             ],
             {
              "frame": {
               "duration": 0,
               "redraw": false
              },
              "fromcurrent": true,
              "mode": "immediate",
              "transition": {
               "duration": 0,
               "easing": "linear"
              }
             }
            ],
            "label": "2021-08-19",
            "method": "animate"
           },
           {
            "args": [
             [
              "2021-08-20"
             ],
             {
              "frame": {
               "duration": 0,
               "redraw": false
              },
              "fromcurrent": true,
              "mode": "immediate",
              "transition": {
               "duration": 0,
               "easing": "linear"
              }
             }
            ],
            "label": "2021-08-20",
            "method": "animate"
           },
           {
            "args": [
             [
              "2021-08-21"
             ],
             {
              "frame": {
               "duration": 0,
               "redraw": false
              },
              "fromcurrent": true,
              "mode": "immediate",
              "transition": {
               "duration": 0,
               "easing": "linear"
              }
             }
            ],
            "label": "2021-08-21",
            "method": "animate"
           },
           {
            "args": [
             [
              "2021-08-22"
             ],
             {
              "frame": {
               "duration": 0,
               "redraw": false
              },
              "fromcurrent": true,
              "mode": "immediate",
              "transition": {
               "duration": 0,
               "easing": "linear"
              }
             }
            ],
            "label": "2021-08-22",
            "method": "animate"
           },
           {
            "args": [
             [
              "2021-08-23"
             ],
             {
              "frame": {
               "duration": 0,
               "redraw": false
              },
              "fromcurrent": true,
              "mode": "immediate",
              "transition": {
               "duration": 0,
               "easing": "linear"
              }
             }
            ],
            "label": "2021-08-23",
            "method": "animate"
           },
           {
            "args": [
             [
              "2021-08-24"
             ],
             {
              "frame": {
               "duration": 0,
               "redraw": false
              },
              "fromcurrent": true,
              "mode": "immediate",
              "transition": {
               "duration": 0,
               "easing": "linear"
              }
             }
            ],
            "label": "2021-08-24",
            "method": "animate"
           },
           {
            "args": [
             [
              "2021-08-25"
             ],
             {
              "frame": {
               "duration": 0,
               "redraw": false
              },
              "fromcurrent": true,
              "mode": "immediate",
              "transition": {
               "duration": 0,
               "easing": "linear"
              }
             }
            ],
            "label": "2021-08-25",
            "method": "animate"
           },
           {
            "args": [
             [
              "2021-08-26"
             ],
             {
              "frame": {
               "duration": 0,
               "redraw": false
              },
              "fromcurrent": true,
              "mode": "immediate",
              "transition": {
               "duration": 0,
               "easing": "linear"
              }
             }
            ],
            "label": "2021-08-26",
            "method": "animate"
           },
           {
            "args": [
             [
              "2021-08-29"
             ],
             {
              "frame": {
               "duration": 0,
               "redraw": false
              },
              "fromcurrent": true,
              "mode": "immediate",
              "transition": {
               "duration": 0,
               "easing": "linear"
              }
             }
            ],
            "label": "2021-08-29",
            "method": "animate"
           },
           {
            "args": [
             [
              "2021-08-30"
             ],
             {
              "frame": {
               "duration": 0,
               "redraw": false
              },
              "fromcurrent": true,
              "mode": "immediate",
              "transition": {
               "duration": 0,
               "easing": "linear"
              }
             }
            ],
            "label": "2021-08-30",
            "method": "animate"
           },
           {
            "args": [
             [
              "2021-08-31"
             ],
             {
              "frame": {
               "duration": 0,
               "redraw": false
              },
              "fromcurrent": true,
              "mode": "immediate",
              "transition": {
               "duration": 0,
               "easing": "linear"
              }
             }
            ],
            "label": "2021-08-31",
            "method": "animate"
           },
           {
            "args": [
             [
              "2021-09-01"
             ],
             {
              "frame": {
               "duration": 0,
               "redraw": false
              },
              "fromcurrent": true,
              "mode": "immediate",
              "transition": {
               "duration": 0,
               "easing": "linear"
              }
             }
            ],
            "label": "2021-09-01",
            "method": "animate"
           },
           {
            "args": [
             [
              "2021-09-02"
             ],
             {
              "frame": {
               "duration": 0,
               "redraw": false
              },
              "fromcurrent": true,
              "mode": "immediate",
              "transition": {
               "duration": 0,
               "easing": "linear"
              }
             }
            ],
            "label": "2021-09-02",
            "method": "animate"
           },
           {
            "args": [
             [
              "2021-09-03"
             ],
             {
              "frame": {
               "duration": 0,
               "redraw": false
              },
              "fromcurrent": true,
              "mode": "immediate",
              "transition": {
               "duration": 0,
               "easing": "linear"
              }
             }
            ],
            "label": "2021-09-03",
            "method": "animate"
           },
           {
            "args": [
             [
              "2021-09-04"
             ],
             {
              "frame": {
               "duration": 0,
               "redraw": false
              },
              "fromcurrent": true,
              "mode": "immediate",
              "transition": {
               "duration": 0,
               "easing": "linear"
              }
             }
            ],
            "label": "2021-09-04",
            "method": "animate"
           },
           {
            "args": [
             [
              "2021-09-06"
             ],
             {
              "frame": {
               "duration": 0,
               "redraw": false
              },
              "fromcurrent": true,
              "mode": "immediate",
              "transition": {
               "duration": 0,
               "easing": "linear"
              }
             }
            ],
            "label": "2021-09-06",
            "method": "animate"
           },
           {
            "args": [
             [
              "2021-09-08"
             ],
             {
              "frame": {
               "duration": 0,
               "redraw": false
              },
              "fromcurrent": true,
              "mode": "immediate",
              "transition": {
               "duration": 0,
               "easing": "linear"
              }
             }
            ],
            "label": "2021-09-08",
            "method": "animate"
           },
           {
            "args": [
             [
              "2021-09-09"
             ],
             {
              "frame": {
               "duration": 0,
               "redraw": false
              },
              "fromcurrent": true,
              "mode": "immediate",
              "transition": {
               "duration": 0,
               "easing": "linear"
              }
             }
            ],
            "label": "2021-09-09",
            "method": "animate"
           },
           {
            "args": [
             [
              "2021-09-10"
             ],
             {
              "frame": {
               "duration": 0,
               "redraw": false
              },
              "fromcurrent": true,
              "mode": "immediate",
              "transition": {
               "duration": 0,
               "easing": "linear"
              }
             }
            ],
            "label": "2021-09-10",
            "method": "animate"
           },
           {
            "args": [
             [
              "2021-09-11"
             ],
             {
              "frame": {
               "duration": 0,
               "redraw": false
              },
              "fromcurrent": true,
              "mode": "immediate",
              "transition": {
               "duration": 0,
               "easing": "linear"
              }
             }
            ],
            "label": "2021-09-11",
            "method": "animate"
           },
           {
            "args": [
             [
              "2021-09-12"
             ],
             {
              "frame": {
               "duration": 0,
               "redraw": false
              },
              "fromcurrent": true,
              "mode": "immediate",
              "transition": {
               "duration": 0,
               "easing": "linear"
              }
             }
            ],
            "label": "2021-09-12",
            "method": "animate"
           },
           {
            "args": [
             [
              "2021-09-13"
             ],
             {
              "frame": {
               "duration": 0,
               "redraw": false
              },
              "fromcurrent": true,
              "mode": "immediate",
              "transition": {
               "duration": 0,
               "easing": "linear"
              }
             }
            ],
            "label": "2021-09-13",
            "method": "animate"
           },
           {
            "args": [
             [
              "2021-09-14"
             ],
             {
              "frame": {
               "duration": 0,
               "redraw": false
              },
              "fromcurrent": true,
              "mode": "immediate",
              "transition": {
               "duration": 0,
               "easing": "linear"
              }
             }
            ],
            "label": "2021-09-14",
            "method": "animate"
           },
           {
            "args": [
             [
              "2021-09-15"
             ],
             {
              "frame": {
               "duration": 0,
               "redraw": false
              },
              "fromcurrent": true,
              "mode": "immediate",
              "transition": {
               "duration": 0,
               "easing": "linear"
              }
             }
            ],
            "label": "2021-09-15",
            "method": "animate"
           },
           {
            "args": [
             [
              "2021-09-17"
             ],
             {
              "frame": {
               "duration": 0,
               "redraw": false
              },
              "fromcurrent": true,
              "mode": "immediate",
              "transition": {
               "duration": 0,
               "easing": "linear"
              }
             }
            ],
            "label": "2021-09-17",
            "method": "animate"
           },
           {
            "args": [
             [
              "2021-09-19"
             ],
             {
              "frame": {
               "duration": 0,
               "redraw": false
              },
              "fromcurrent": true,
              "mode": "immediate",
              "transition": {
               "duration": 0,
               "easing": "linear"
              }
             }
            ],
            "label": "2021-09-19",
            "method": "animate"
           },
           {
            "args": [
             [
              "2021-09-20"
             ],
             {
              "frame": {
               "duration": 0,
               "redraw": false
              },
              "fromcurrent": true,
              "mode": "immediate",
              "transition": {
               "duration": 0,
               "easing": "linear"
              }
             }
            ],
            "label": "2021-09-20",
            "method": "animate"
           },
           {
            "args": [
             [
              "2021-09-29"
             ],
             {
              "frame": {
               "duration": 0,
               "redraw": false
              },
              "fromcurrent": true,
              "mode": "immediate",
              "transition": {
               "duration": 0,
               "easing": "linear"
              }
             }
            ],
            "label": "2021-09-29",
            "method": "animate"
           },
           {
            "args": [
             [
              "2021-10-03"
             ],
             {
              "frame": {
               "duration": 0,
               "redraw": false
              },
              "fromcurrent": true,
              "mode": "immediate",
              "transition": {
               "duration": 0,
               "easing": "linear"
              }
             }
            ],
            "label": "2021-10-03",
            "method": "animate"
           },
           {
            "args": [
             [
              "2021-10-04"
             ],
             {
              "frame": {
               "duration": 0,
               "redraw": false
              },
              "fromcurrent": true,
              "mode": "immediate",
              "transition": {
               "duration": 0,
               "easing": "linear"
              }
             }
            ],
            "label": "2021-10-04",
            "method": "animate"
           },
           {
            "args": [
             [
              "2021-10-07"
             ],
             {
              "frame": {
               "duration": 0,
               "redraw": false
              },
              "fromcurrent": true,
              "mode": "immediate",
              "transition": {
               "duration": 0,
               "easing": "linear"
              }
             }
            ],
            "label": "2021-10-07",
            "method": "animate"
           },
           {
            "args": [
             [
              "2021-10-08"
             ],
             {
              "frame": {
               "duration": 0,
               "redraw": false
              },
              "fromcurrent": true,
              "mode": "immediate",
              "transition": {
               "duration": 0,
               "easing": "linear"
              }
             }
            ],
            "label": "2021-10-08",
            "method": "animate"
           },
           {
            "args": [
             [
              "2021-10-09"
             ],
             {
              "frame": {
               "duration": 0,
               "redraw": false
              },
              "fromcurrent": true,
              "mode": "immediate",
              "transition": {
               "duration": 0,
               "easing": "linear"
              }
             }
            ],
            "label": "2021-10-09",
            "method": "animate"
           },
           {
            "args": [
             [
              "2021-10-10"
             ],
             {
              "frame": {
               "duration": 0,
               "redraw": false
              },
              "fromcurrent": true,
              "mode": "immediate",
              "transition": {
               "duration": 0,
               "easing": "linear"
              }
             }
            ],
            "label": "2021-10-10",
            "method": "animate"
           },
           {
            "args": [
             [
              "2021-10-11"
             ],
             {
              "frame": {
               "duration": 0,
               "redraw": false
              },
              "fromcurrent": true,
              "mode": "immediate",
              "transition": {
               "duration": 0,
               "easing": "linear"
              }
             }
            ],
            "label": "2021-10-11",
            "method": "animate"
           },
           {
            "args": [
             [
              "2021-10-12"
             ],
             {
              "frame": {
               "duration": 0,
               "redraw": false
              },
              "fromcurrent": true,
              "mode": "immediate",
              "transition": {
               "duration": 0,
               "easing": "linear"
              }
             }
            ],
            "label": "2021-10-12",
            "method": "animate"
           },
           {
            "args": [
             [
              "2021-10-14"
             ],
             {
              "frame": {
               "duration": 0,
               "redraw": false
              },
              "fromcurrent": true,
              "mode": "immediate",
              "transition": {
               "duration": 0,
               "easing": "linear"
              }
             }
            ],
            "label": "2021-10-14",
            "method": "animate"
           },
           {
            "args": [
             [
              "2021-10-15"
             ],
             {
              "frame": {
               "duration": 0,
               "redraw": false
              },
              "fromcurrent": true,
              "mode": "immediate",
              "transition": {
               "duration": 0,
               "easing": "linear"
              }
             }
            ],
            "label": "2021-10-15",
            "method": "animate"
           },
           {
            "args": [
             [
              "2021-10-16"
             ],
             {
              "frame": {
               "duration": 0,
               "redraw": false
              },
              "fromcurrent": true,
              "mode": "immediate",
              "transition": {
               "duration": 0,
               "easing": "linear"
              }
             }
            ],
            "label": "2021-10-16",
            "method": "animate"
           },
           {
            "args": [
             [
              "2021-10-17"
             ],
             {
              "frame": {
               "duration": 0,
               "redraw": false
              },
              "fromcurrent": true,
              "mode": "immediate",
              "transition": {
               "duration": 0,
               "easing": "linear"
              }
             }
            ],
            "label": "2021-10-17",
            "method": "animate"
           },
           {
            "args": [
             [
              "2021-10-18"
             ],
             {
              "frame": {
               "duration": 0,
               "redraw": false
              },
              "fromcurrent": true,
              "mode": "immediate",
              "transition": {
               "duration": 0,
               "easing": "linear"
              }
             }
            ],
            "label": "2021-10-18",
            "method": "animate"
           },
           {
            "args": [
             [
              "2021-10-20"
             ],
             {
              "frame": {
               "duration": 0,
               "redraw": false
              },
              "fromcurrent": true,
              "mode": "immediate",
              "transition": {
               "duration": 0,
               "easing": "linear"
              }
             }
            ],
            "label": "2021-10-20",
            "method": "animate"
           },
           {
            "args": [
             [
              "2021-10-21"
             ],
             {
              "frame": {
               "duration": 0,
               "redraw": false
              },
              "fromcurrent": true,
              "mode": "immediate",
              "transition": {
               "duration": 0,
               "easing": "linear"
              }
             }
            ],
            "label": "2021-10-21",
            "method": "animate"
           },
           {
            "args": [
             [
              "2021-10-22"
             ],
             {
              "frame": {
               "duration": 0,
               "redraw": false
              },
              "fromcurrent": true,
              "mode": "immediate",
              "transition": {
               "duration": 0,
               "easing": "linear"
              }
             }
            ],
            "label": "2021-10-22",
            "method": "animate"
           },
           {
            "args": [
             [
              "2021-10-23"
             ],
             {
              "frame": {
               "duration": 0,
               "redraw": false
              },
              "fromcurrent": true,
              "mode": "immediate",
              "transition": {
               "duration": 0,
               "easing": "linear"
              }
             }
            ],
            "label": "2021-10-23",
            "method": "animate"
           },
           {
            "args": [
             [
              "2021-10-24"
             ],
             {
              "frame": {
               "duration": 0,
               "redraw": false
              },
              "fromcurrent": true,
              "mode": "immediate",
              "transition": {
               "duration": 0,
               "easing": "linear"
              }
             }
            ],
            "label": "2021-10-24",
            "method": "animate"
           },
           {
            "args": [
             [
              "2021-10-25"
             ],
             {
              "frame": {
               "duration": 0,
               "redraw": false
              },
              "fromcurrent": true,
              "mode": "immediate",
              "transition": {
               "duration": 0,
               "easing": "linear"
              }
             }
            ],
            "label": "2021-10-25",
            "method": "animate"
           },
           {
            "args": [
             [
              "2021-10-26"
             ],
             {
              "frame": {
               "duration": 0,
               "redraw": false
              },
              "fromcurrent": true,
              "mode": "immediate",
              "transition": {
               "duration": 0,
               "easing": "linear"
              }
             }
            ],
            "label": "2021-10-26",
            "method": "animate"
           },
           {
            "args": [
             [
              "2021-10-27"
             ],
             {
              "frame": {
               "duration": 0,
               "redraw": false
              },
              "fromcurrent": true,
              "mode": "immediate",
              "transition": {
               "duration": 0,
               "easing": "linear"
              }
             }
            ],
            "label": "2021-10-27",
            "method": "animate"
           },
           {
            "args": [
             [
              "2021-10-28"
             ],
             {
              "frame": {
               "duration": 0,
               "redraw": false
              },
              "fromcurrent": true,
              "mode": "immediate",
              "transition": {
               "duration": 0,
               "easing": "linear"
              }
             }
            ],
            "label": "2021-10-28",
            "method": "animate"
           },
           {
            "args": [
             [
              "2021-10-29"
             ],
             {
              "frame": {
               "duration": 0,
               "redraw": false
              },
              "fromcurrent": true,
              "mode": "immediate",
              "transition": {
               "duration": 0,
               "easing": "linear"
              }
             }
            ],
            "label": "2021-10-29",
            "method": "animate"
           },
           {
            "args": [
             [
              "2021-11-01"
             ],
             {
              "frame": {
               "duration": 0,
               "redraw": false
              },
              "fromcurrent": true,
              "mode": "immediate",
              "transition": {
               "duration": 0,
               "easing": "linear"
              }
             }
            ],
            "label": "2021-11-01",
            "method": "animate"
           },
           {
            "args": [
             [
              "2021-11-04"
             ],
             {
              "frame": {
               "duration": 0,
               "redraw": false
              },
              "fromcurrent": true,
              "mode": "immediate",
              "transition": {
               "duration": 0,
               "easing": "linear"
              }
             }
            ],
            "label": "2021-11-04",
            "method": "animate"
           },
           {
            "args": [
             [
              "2021-11-05"
             ],
             {
              "frame": {
               "duration": 0,
               "redraw": false
              },
              "fromcurrent": true,
              "mode": "immediate",
              "transition": {
               "duration": 0,
               "easing": "linear"
              }
             }
            ],
            "label": "2021-11-05",
            "method": "animate"
           },
           {
            "args": [
             [
              "2021-11-08"
             ],
             {
              "frame": {
               "duration": 0,
               "redraw": false
              },
              "fromcurrent": true,
              "mode": "immediate",
              "transition": {
               "duration": 0,
               "easing": "linear"
              }
             }
            ],
            "label": "2021-11-08",
            "method": "animate"
           },
           {
            "args": [
             [
              "2021-11-09"
             ],
             {
              "frame": {
               "duration": 0,
               "redraw": false
              },
              "fromcurrent": true,
              "mode": "immediate",
              "transition": {
               "duration": 0,
               "easing": "linear"
              }
             }
            ],
            "label": "2021-11-09",
            "method": "animate"
           },
           {
            "args": [
             [
              "2021-11-11"
             ],
             {
              "frame": {
               "duration": 0,
               "redraw": false
              },
              "fromcurrent": true,
              "mode": "immediate",
              "transition": {
               "duration": 0,
               "easing": "linear"
              }
             }
            ],
            "label": "2021-11-11",
            "method": "animate"
           },
           {
            "args": [
             [
              "2021-11-12"
             ],
             {
              "frame": {
               "duration": 0,
               "redraw": false
              },
              "fromcurrent": true,
              "mode": "immediate",
              "transition": {
               "duration": 0,
               "easing": "linear"
              }
             }
            ],
            "label": "2021-11-12",
            "method": "animate"
           },
           {
            "args": [
             [
              "2021-11-15"
             ],
             {
              "frame": {
               "duration": 0,
               "redraw": false
              },
              "fromcurrent": true,
              "mode": "immediate",
              "transition": {
               "duration": 0,
               "easing": "linear"
              }
             }
            ],
            "label": "2021-11-15",
            "method": "animate"
           },
           {
            "args": [
             [
              "2021-11-17"
             ],
             {
              "frame": {
               "duration": 0,
               "redraw": false
              },
              "fromcurrent": true,
              "mode": "immediate",
              "transition": {
               "duration": 0,
               "easing": "linear"
              }
             }
            ],
            "label": "2021-11-17",
            "method": "animate"
           },
           {
            "args": [
             [
              "2021-11-18"
             ],
             {
              "frame": {
               "duration": 0,
               "redraw": false
              },
              "fromcurrent": true,
              "mode": "immediate",
              "transition": {
               "duration": 0,
               "easing": "linear"
              }
             }
            ],
            "label": "2021-11-18",
            "method": "animate"
           },
           {
            "args": [
             [
              "2021-11-19"
             ],
             {
              "frame": {
               "duration": 0,
               "redraw": false
              },
              "fromcurrent": true,
              "mode": "immediate",
              "transition": {
               "duration": 0,
               "easing": "linear"
              }
             }
            ],
            "label": "2021-11-19",
            "method": "animate"
           },
           {
            "args": [
             [
              "2021-11-20"
             ],
             {
              "frame": {
               "duration": 0,
               "redraw": false
              },
              "fromcurrent": true,
              "mode": "immediate",
              "transition": {
               "duration": 0,
               "easing": "linear"
              }
             }
            ],
            "label": "2021-11-20",
            "method": "animate"
           },
           {
            "args": [
             [
              "2021-11-21"
             ],
             {
              "frame": {
               "duration": 0,
               "redraw": false
              },
              "fromcurrent": true,
              "mode": "immediate",
              "transition": {
               "duration": 0,
               "easing": "linear"
              }
             }
            ],
            "label": "2021-11-21",
            "method": "animate"
           },
           {
            "args": [
             [
              "2021-11-24"
             ],
             {
              "frame": {
               "duration": 0,
               "redraw": false
              },
              "fromcurrent": true,
              "mode": "immediate",
              "transition": {
               "duration": 0,
               "easing": "linear"
              }
             }
            ],
            "label": "2021-11-24",
            "method": "animate"
           },
           {
            "args": [
             [
              "2021-11-27"
             ],
             {
              "frame": {
               "duration": 0,
               "redraw": false
              },
              "fromcurrent": true,
              "mode": "immediate",
              "transition": {
               "duration": 0,
               "easing": "linear"
              }
             }
            ],
            "label": "2021-11-27",
            "method": "animate"
           },
           {
            "args": [
             [
              "2021-11-30"
             ],
             {
              "frame": {
               "duration": 0,
               "redraw": false
              },
              "fromcurrent": true,
              "mode": "immediate",
              "transition": {
               "duration": 0,
               "easing": "linear"
              }
             }
            ],
            "label": "2021-11-30",
            "method": "animate"
           },
           {
            "args": [
             [
              "2021-12-01"
             ],
             {
              "frame": {
               "duration": 0,
               "redraw": false
              },
              "fromcurrent": true,
              "mode": "immediate",
              "transition": {
               "duration": 0,
               "easing": "linear"
              }
             }
            ],
            "label": "2021-12-01",
            "method": "animate"
           },
           {
            "args": [
             [
              "2021-12-02"
             ],
             {
              "frame": {
               "duration": 0,
               "redraw": false
              },
              "fromcurrent": true,
              "mode": "immediate",
              "transition": {
               "duration": 0,
               "easing": "linear"
              }
             }
            ],
            "label": "2021-12-02",
            "method": "animate"
           },
           {
            "args": [
             [
              "2021-12-04"
             ],
             {
              "frame": {
               "duration": 0,
               "redraw": false
              },
              "fromcurrent": true,
              "mode": "immediate",
              "transition": {
               "duration": 0,
               "easing": "linear"
              }
             }
            ],
            "label": "2021-12-04",
            "method": "animate"
           },
           {
            "args": [
             [
              "2021-12-05"
             ],
             {
              "frame": {
               "duration": 0,
               "redraw": false
              },
              "fromcurrent": true,
              "mode": "immediate",
              "transition": {
               "duration": 0,
               "easing": "linear"
              }
             }
            ],
            "label": "2021-12-05",
            "method": "animate"
           },
           {
            "args": [
             [
              "2021-12-10"
             ],
             {
              "frame": {
               "duration": 0,
               "redraw": false
              },
              "fromcurrent": true,
              "mode": "immediate",
              "transition": {
               "duration": 0,
               "easing": "linear"
              }
             }
            ],
            "label": "2021-12-10",
            "method": "animate"
           },
           {
            "args": [
             [
              "2021-12-11"
             ],
             {
              "frame": {
               "duration": 0,
               "redraw": false
              },
              "fromcurrent": true,
              "mode": "immediate",
              "transition": {
               "duration": 0,
               "easing": "linear"
              }
             }
            ],
            "label": "2021-12-11",
            "method": "animate"
           },
           {
            "args": [
             [
              "2021-12-14"
             ],
             {
              "frame": {
               "duration": 0,
               "redraw": false
              },
              "fromcurrent": true,
              "mode": "immediate",
              "transition": {
               "duration": 0,
               "easing": "linear"
              }
             }
            ],
            "label": "2021-12-14",
            "method": "animate"
           },
           {
            "args": [
             [
              "2021-12-16"
             ],
             {
              "frame": {
               "duration": 0,
               "redraw": false
              },
              "fromcurrent": true,
              "mode": "immediate",
              "transition": {
               "duration": 0,
               "easing": "linear"
              }
             }
            ],
            "label": "2021-12-16",
            "method": "animate"
           },
           {
            "args": [
             [
              "2021-12-17"
             ],
             {
              "frame": {
               "duration": 0,
               "redraw": false
              },
              "fromcurrent": true,
              "mode": "immediate",
              "transition": {
               "duration": 0,
               "easing": "linear"
              }
             }
            ],
            "label": "2021-12-17",
            "method": "animate"
           },
           {
            "args": [
             [
              "2021-12-19"
             ],
             {
              "frame": {
               "duration": 0,
               "redraw": false
              },
              "fromcurrent": true,
              "mode": "immediate",
              "transition": {
               "duration": 0,
               "easing": "linear"
              }
             }
            ],
            "label": "2021-12-19",
            "method": "animate"
           },
           {
            "args": [
             [
              "2021-12-21"
             ],
             {
              "frame": {
               "duration": 0,
               "redraw": false
              },
              "fromcurrent": true,
              "mode": "immediate",
              "transition": {
               "duration": 0,
               "easing": "linear"
              }
             }
            ],
            "label": "2021-12-21",
            "method": "animate"
           },
           {
            "args": [
             [
              "2021-12-24"
             ],
             {
              "frame": {
               "duration": 0,
               "redraw": false
              },
              "fromcurrent": true,
              "mode": "immediate",
              "transition": {
               "duration": 0,
               "easing": "linear"
              }
             }
            ],
            "label": "2021-12-24",
            "method": "animate"
           },
           {
            "args": [
             [
              "2021-12-26"
             ],
             {
              "frame": {
               "duration": 0,
               "redraw": false
              },
              "fromcurrent": true,
              "mode": "immediate",
              "transition": {
               "duration": 0,
               "easing": "linear"
              }
             }
            ],
            "label": "2021-12-26",
            "method": "animate"
           },
           {
            "args": [
             [
              "2021-12-30"
             ],
             {
              "frame": {
               "duration": 0,
               "redraw": false
              },
              "fromcurrent": true,
              "mode": "immediate",
              "transition": {
               "duration": 0,
               "easing": "linear"
              }
             }
            ],
            "label": "2021-12-30",
            "method": "animate"
           },
           {
            "args": [
             [
              "2021-12-31"
             ],
             {
              "frame": {
               "duration": 0,
               "redraw": false
              },
              "fromcurrent": true,
              "mode": "immediate",
              "transition": {
               "duration": 0,
               "easing": "linear"
              }
             }
            ],
            "label": "2021-12-31",
            "method": "animate"
           },
           {
            "args": [
             [
              "2022-01-03"
             ],
             {
              "frame": {
               "duration": 0,
               "redraw": false
              },
              "fromcurrent": true,
              "mode": "immediate",
              "transition": {
               "duration": 0,
               "easing": "linear"
              }
             }
            ],
            "label": "2022-01-03",
            "method": "animate"
           },
           {
            "args": [
             [
              "2022-01-04"
             ],
             {
              "frame": {
               "duration": 0,
               "redraw": false
              },
              "fromcurrent": true,
              "mode": "immediate",
              "transition": {
               "duration": 0,
               "easing": "linear"
              }
             }
            ],
            "label": "2022-01-04",
            "method": "animate"
           },
           {
            "args": [
             [
              "2022-01-05"
             ],
             {
              "frame": {
               "duration": 0,
               "redraw": false
              },
              "fromcurrent": true,
              "mode": "immediate",
              "transition": {
               "duration": 0,
               "easing": "linear"
              }
             }
            ],
            "label": "2022-01-05",
            "method": "animate"
           },
           {
            "args": [
             [
              "2022-01-06"
             ],
             {
              "frame": {
               "duration": 0,
               "redraw": false
              },
              "fromcurrent": true,
              "mode": "immediate",
              "transition": {
               "duration": 0,
               "easing": "linear"
              }
             }
            ],
            "label": "2022-01-06",
            "method": "animate"
           },
           {
            "args": [
             [
              "2022-01-11"
             ],
             {
              "frame": {
               "duration": 0,
               "redraw": false
              },
              "fromcurrent": true,
              "mode": "immediate",
              "transition": {
               "duration": 0,
               "easing": "linear"
              }
             }
            ],
            "label": "2022-01-11",
            "method": "animate"
           },
           {
            "args": [
             [
              "2022-01-12"
             ],
             {
              "frame": {
               "duration": 0,
               "redraw": false
              },
              "fromcurrent": true,
              "mode": "immediate",
              "transition": {
               "duration": 0,
               "easing": "linear"
              }
             }
            ],
            "label": "2022-01-12",
            "method": "animate"
           },
           {
            "args": [
             [
              "2022-01-16"
             ],
             {
              "frame": {
               "duration": 0,
               "redraw": false
              },
              "fromcurrent": true,
              "mode": "immediate",
              "transition": {
               "duration": 0,
               "easing": "linear"
              }
             }
            ],
            "label": "2022-01-16",
            "method": "animate"
           },
           {
            "args": [
             [
              "2022-01-17"
             ],
             {
              "frame": {
               "duration": 0,
               "redraw": false
              },
              "fromcurrent": true,
              "mode": "immediate",
              "transition": {
               "duration": 0,
               "easing": "linear"
              }
             }
            ],
            "label": "2022-01-17",
            "method": "animate"
           },
           {
            "args": [
             [
              "2022-01-18"
             ],
             {
              "frame": {
               "duration": 0,
               "redraw": false
              },
              "fromcurrent": true,
              "mode": "immediate",
              "transition": {
               "duration": 0,
               "easing": "linear"
              }
             }
            ],
            "label": "2022-01-18",
            "method": "animate"
           },
           {
            "args": [
             [
              "2022-01-19"
             ],
             {
              "frame": {
               "duration": 0,
               "redraw": false
              },
              "fromcurrent": true,
              "mode": "immediate",
              "transition": {
               "duration": 0,
               "easing": "linear"
              }
             }
            ],
            "label": "2022-01-19",
            "method": "animate"
           },
           {
            "args": [
             [
              "2022-01-20"
             ],
             {
              "frame": {
               "duration": 0,
               "redraw": false
              },
              "fromcurrent": true,
              "mode": "immediate",
              "transition": {
               "duration": 0,
               "easing": "linear"
              }
             }
            ],
            "label": "2022-01-20",
            "method": "animate"
           },
           {
            "args": [
             [
              "2022-01-21"
             ],
             {
              "frame": {
               "duration": 0,
               "redraw": false
              },
              "fromcurrent": true,
              "mode": "immediate",
              "transition": {
               "duration": 0,
               "easing": "linear"
              }
             }
            ],
            "label": "2022-01-21",
            "method": "animate"
           },
           {
            "args": [
             [
              "2022-01-22"
             ],
             {
              "frame": {
               "duration": 0,
               "redraw": false
              },
              "fromcurrent": true,
              "mode": "immediate",
              "transition": {
               "duration": 0,
               "easing": "linear"
              }
             }
            ],
            "label": "2022-01-22",
            "method": "animate"
           },
           {
            "args": [
             [
              "2022-01-23"
             ],
             {
              "frame": {
               "duration": 0,
               "redraw": false
              },
              "fromcurrent": true,
              "mode": "immediate",
              "transition": {
               "duration": 0,
               "easing": "linear"
              }
             }
            ],
            "label": "2022-01-23",
            "method": "animate"
           },
           {
            "args": [
             [
              "2022-01-24"
             ],
             {
              "frame": {
               "duration": 0,
               "redraw": false
              },
              "fromcurrent": true,
              "mode": "immediate",
              "transition": {
               "duration": 0,
               "easing": "linear"
              }
             }
            ],
            "label": "2022-01-24",
            "method": "animate"
           },
           {
            "args": [
             [
              "2022-01-26"
             ],
             {
              "frame": {
               "duration": 0,
               "redraw": false
              },
              "fromcurrent": true,
              "mode": "immediate",
              "transition": {
               "duration": 0,
               "easing": "linear"
              }
             }
            ],
            "label": "2022-01-26",
            "method": "animate"
           },
           {
            "args": [
             [
              "2022-01-27"
             ],
             {
              "frame": {
               "duration": 0,
               "redraw": false
              },
              "fromcurrent": true,
              "mode": "immediate",
              "transition": {
               "duration": 0,
               "easing": "linear"
              }
             }
            ],
            "label": "2022-01-27",
            "method": "animate"
           },
           {
            "args": [
             [
              "2022-01-29"
             ],
             {
              "frame": {
               "duration": 0,
               "redraw": false
              },
              "fromcurrent": true,
              "mode": "immediate",
              "transition": {
               "duration": 0,
               "easing": "linear"
              }
             }
            ],
            "label": "2022-01-29",
            "method": "animate"
           },
           {
            "args": [
             [
              "2022-01-31"
             ],
             {
              "frame": {
               "duration": 0,
               "redraw": false
              },
              "fromcurrent": true,
              "mode": "immediate",
              "transition": {
               "duration": 0,
               "easing": "linear"
              }
             }
            ],
            "label": "2022-01-31",
            "method": "animate"
           },
           {
            "args": [
             [
              "2022-02-04"
             ],
             {
              "frame": {
               "duration": 0,
               "redraw": false
              },
              "fromcurrent": true,
              "mode": "immediate",
              "transition": {
               "duration": 0,
               "easing": "linear"
              }
             }
            ],
            "label": "2022-02-04",
            "method": "animate"
           },
           {
            "args": [
             [
              "2022-02-05"
             ],
             {
              "frame": {
               "duration": 0,
               "redraw": false
              },
              "fromcurrent": true,
              "mode": "immediate",
              "transition": {
               "duration": 0,
               "easing": "linear"
              }
             }
            ],
            "label": "2022-02-05",
            "method": "animate"
           },
           {
            "args": [
             [
              "2022-02-06"
             ],
             {
              "frame": {
               "duration": 0,
               "redraw": false
              },
              "fromcurrent": true,
              "mode": "immediate",
              "transition": {
               "duration": 0,
               "easing": "linear"
              }
             }
            ],
            "label": "2022-02-06",
            "method": "animate"
           },
           {
            "args": [
             [
              "2022-02-09"
             ],
             {
              "frame": {
               "duration": 0,
               "redraw": false
              },
              "fromcurrent": true,
              "mode": "immediate",
              "transition": {
               "duration": 0,
               "easing": "linear"
              }
             }
            ],
            "label": "2022-02-09",
            "method": "animate"
           },
           {
            "args": [
             [
              "2022-02-10"
             ],
             {
              "frame": {
               "duration": 0,
               "redraw": false
              },
              "fromcurrent": true,
              "mode": "immediate",
              "transition": {
               "duration": 0,
               "easing": "linear"
              }
             }
            ],
            "label": "2022-02-10",
            "method": "animate"
           },
           {
            "args": [
             [
              "2022-02-11"
             ],
             {
              "frame": {
               "duration": 0,
               "redraw": false
              },
              "fromcurrent": true,
              "mode": "immediate",
              "transition": {
               "duration": 0,
               "easing": "linear"
              }
             }
            ],
            "label": "2022-02-11",
            "method": "animate"
           },
           {
            "args": [
             [
              "2022-02-13"
             ],
             {
              "frame": {
               "duration": 0,
               "redraw": false
              },
              "fromcurrent": true,
              "mode": "immediate",
              "transition": {
               "duration": 0,
               "easing": "linear"
              }
             }
            ],
            "label": "2022-02-13",
            "method": "animate"
           },
           {
            "args": [
             [
              "2022-02-16"
             ],
             {
              "frame": {
               "duration": 0,
               "redraw": false
              },
              "fromcurrent": true,
              "mode": "immediate",
              "transition": {
               "duration": 0,
               "easing": "linear"
              }
             }
            ],
            "label": "2022-02-16",
            "method": "animate"
           },
           {
            "args": [
             [
              "2022-02-17"
             ],
             {
              "frame": {
               "duration": 0,
               "redraw": false
              },
              "fromcurrent": true,
              "mode": "immediate",
              "transition": {
               "duration": 0,
               "easing": "linear"
              }
             }
            ],
            "label": "2022-02-17",
            "method": "animate"
           },
           {
            "args": [
             [
              "2022-02-18"
             ],
             {
              "frame": {
               "duration": 0,
               "redraw": false
              },
              "fromcurrent": true,
              "mode": "immediate",
              "transition": {
               "duration": 0,
               "easing": "linear"
              }
             }
            ],
            "label": "2022-02-18",
            "method": "animate"
           },
           {
            "args": [
             [
              "2022-02-22"
             ],
             {
              "frame": {
               "duration": 0,
               "redraw": false
              },
              "fromcurrent": true,
              "mode": "immediate",
              "transition": {
               "duration": 0,
               "easing": "linear"
              }
             }
            ],
            "label": "2022-02-22",
            "method": "animate"
           },
           {
            "args": [
             [
              "2022-03-01"
             ],
             {
              "frame": {
               "duration": 0,
               "redraw": false
              },
              "fromcurrent": true,
              "mode": "immediate",
              "transition": {
               "duration": 0,
               "easing": "linear"
              }
             }
            ],
            "label": "2022-03-01",
            "method": "animate"
           },
           {
            "args": [
             [
              "2022-03-03"
             ],
             {
              "frame": {
               "duration": 0,
               "redraw": false
              },
              "fromcurrent": true,
              "mode": "immediate",
              "transition": {
               "duration": 0,
               "easing": "linear"
              }
             }
            ],
            "label": "2022-03-03",
            "method": "animate"
           },
           {
            "args": [
             [
              "2022-03-04"
             ],
             {
              "frame": {
               "duration": 0,
               "redraw": false
              },
              "fromcurrent": true,
              "mode": "immediate",
              "transition": {
               "duration": 0,
               "easing": "linear"
              }
             }
            ],
            "label": "2022-03-04",
            "method": "animate"
           },
           {
            "args": [
             [
              "2022-03-06"
             ],
             {
              "frame": {
               "duration": 0,
               "redraw": false
              },
              "fromcurrent": true,
              "mode": "immediate",
              "transition": {
               "duration": 0,
               "easing": "linear"
              }
             }
            ],
            "label": "2022-03-06",
            "method": "animate"
           },
           {
            "args": [
             [
              "2022-03-07"
             ],
             {
              "frame": {
               "duration": 0,
               "redraw": false
              },
              "fromcurrent": true,
              "mode": "immediate",
              "transition": {
               "duration": 0,
               "easing": "linear"
              }
             }
            ],
            "label": "2022-03-07",
            "method": "animate"
           },
           {
            "args": [
             [
              "2022-03-08"
             ],
             {
              "frame": {
               "duration": 0,
               "redraw": false
              },
              "fromcurrent": true,
              "mode": "immediate",
              "transition": {
               "duration": 0,
               "easing": "linear"
              }
             }
            ],
            "label": "2022-03-08",
            "method": "animate"
           },
           {
            "args": [
             [
              "2022-03-09"
             ],
             {
              "frame": {
               "duration": 0,
               "redraw": false
              },
              "fromcurrent": true,
              "mode": "immediate",
              "transition": {
               "duration": 0,
               "easing": "linear"
              }
             }
            ],
            "label": "2022-03-09",
            "method": "animate"
           },
           {
            "args": [
             [
              "2022-03-11"
             ],
             {
              "frame": {
               "duration": 0,
               "redraw": false
              },
              "fromcurrent": true,
              "mode": "immediate",
              "transition": {
               "duration": 0,
               "easing": "linear"
              }
             }
            ],
            "label": "2022-03-11",
            "method": "animate"
           },
           {
            "args": [
             [
              "2022-03-12"
             ],
             {
              "frame": {
               "duration": 0,
               "redraw": false
              },
              "fromcurrent": true,
              "mode": "immediate",
              "transition": {
               "duration": 0,
               "easing": "linear"
              }
             }
            ],
            "label": "2022-03-12",
            "method": "animate"
           },
           {
            "args": [
             [
              "2022-03-15"
             ],
             {
              "frame": {
               "duration": 0,
               "redraw": false
              },
              "fromcurrent": true,
              "mode": "immediate",
              "transition": {
               "duration": 0,
               "easing": "linear"
              }
             }
            ],
            "label": "2022-03-15",
            "method": "animate"
           },
           {
            "args": [
             [
              "2022-03-21"
             ],
             {
              "frame": {
               "duration": 0,
               "redraw": false
              },
              "fromcurrent": true,
              "mode": "immediate",
              "transition": {
               "duration": 0,
               "easing": "linear"
              }
             }
            ],
            "label": "2022-03-21",
            "method": "animate"
           },
           {
            "args": [
             [
              "2022-03-22"
             ],
             {
              "frame": {
               "duration": 0,
               "redraw": false
              },
              "fromcurrent": true,
              "mode": "immediate",
              "transition": {
               "duration": 0,
               "easing": "linear"
              }
             }
            ],
            "label": "2022-03-22",
            "method": "animate"
           },
           {
            "args": [
             [
              "2022-03-23"
             ],
             {
              "frame": {
               "duration": 0,
               "redraw": false
              },
              "fromcurrent": true,
              "mode": "immediate",
              "transition": {
               "duration": 0,
               "easing": "linear"
              }
             }
            ],
            "label": "2022-03-23",
            "method": "animate"
           },
           {
            "args": [
             [
              "2022-03-24"
             ],
             {
              "frame": {
               "duration": 0,
               "redraw": false
              },
              "fromcurrent": true,
              "mode": "immediate",
              "transition": {
               "duration": 0,
               "easing": "linear"
              }
             }
            ],
            "label": "2022-03-24",
            "method": "animate"
           },
           {
            "args": [
             [
              "2022-03-25"
             ],
             {
              "frame": {
               "duration": 0,
               "redraw": false
              },
              "fromcurrent": true,
              "mode": "immediate",
              "transition": {
               "duration": 0,
               "easing": "linear"
              }
             }
            ],
            "label": "2022-03-25",
            "method": "animate"
           },
           {
            "args": [
             [
              "2022-03-30"
             ],
             {
              "frame": {
               "duration": 0,
               "redraw": false
              },
              "fromcurrent": true,
              "mode": "immediate",
              "transition": {
               "duration": 0,
               "easing": "linear"
              }
             }
            ],
            "label": "2022-03-30",
            "method": "animate"
           },
           {
            "args": [
             [
              "2022-03-31"
             ],
             {
              "frame": {
               "duration": 0,
               "redraw": false
              },
              "fromcurrent": true,
              "mode": "immediate",
              "transition": {
               "duration": 0,
               "easing": "linear"
              }
             }
            ],
            "label": "2022-03-31",
            "method": "animate"
           },
           {
            "args": [
             [
              "2022-04-01"
             ],
             {
              "frame": {
               "duration": 0,
               "redraw": false
              },
              "fromcurrent": true,
              "mode": "immediate",
              "transition": {
               "duration": 0,
               "easing": "linear"
              }
             }
            ],
            "label": "2022-04-01",
            "method": "animate"
           },
           {
            "args": [
             [
              "2022-04-02"
             ],
             {
              "frame": {
               "duration": 0,
               "redraw": false
              },
              "fromcurrent": true,
              "mode": "immediate",
              "transition": {
               "duration": 0,
               "easing": "linear"
              }
             }
            ],
            "label": "2022-04-02",
            "method": "animate"
           },
           {
            "args": [
             [
              "2022-04-03"
             ],
             {
              "frame": {
               "duration": 0,
               "redraw": false
              },
              "fromcurrent": true,
              "mode": "immediate",
              "transition": {
               "duration": 0,
               "easing": "linear"
              }
             }
            ],
            "label": "2022-04-03",
            "method": "animate"
           },
           {
            "args": [
             [
              "2022-04-04"
             ],
             {
              "frame": {
               "duration": 0,
               "redraw": false
              },
              "fromcurrent": true,
              "mode": "immediate",
              "transition": {
               "duration": 0,
               "easing": "linear"
              }
             }
            ],
            "label": "2022-04-04",
            "method": "animate"
           },
           {
            "args": [
             [
              "2022-04-05"
             ],
             {
              "frame": {
               "duration": 0,
               "redraw": false
              },
              "fromcurrent": true,
              "mode": "immediate",
              "transition": {
               "duration": 0,
               "easing": "linear"
              }
             }
            ],
            "label": "2022-04-05",
            "method": "animate"
           },
           {
            "args": [
             [
              "2022-04-07"
             ],
             {
              "frame": {
               "duration": 0,
               "redraw": false
              },
              "fromcurrent": true,
              "mode": "immediate",
              "transition": {
               "duration": 0,
               "easing": "linear"
              }
             }
            ],
            "label": "2022-04-07",
            "method": "animate"
           },
           {
            "args": [
             [
              "2022-04-08"
             ],
             {
              "frame": {
               "duration": 0,
               "redraw": false
              },
              "fromcurrent": true,
              "mode": "immediate",
              "transition": {
               "duration": 0,
               "easing": "linear"
              }
             }
            ],
            "label": "2022-04-08",
            "method": "animate"
           },
           {
            "args": [
             [
              "2022-04-11"
             ],
             {
              "frame": {
               "duration": 0,
               "redraw": false
              },
              "fromcurrent": true,
              "mode": "immediate",
              "transition": {
               "duration": 0,
               "easing": "linear"
              }
             }
            ],
            "label": "2022-04-11",
            "method": "animate"
           },
           {
            "args": [
             [
              "2022-04-13"
             ],
             {
              "frame": {
               "duration": 0,
               "redraw": false
              },
              "fromcurrent": true,
              "mode": "immediate",
              "transition": {
               "duration": 0,
               "easing": "linear"
              }
             }
            ],
            "label": "2022-04-13",
            "method": "animate"
           },
           {
            "args": [
             [
              "2022-04-15"
             ],
             {
              "frame": {
               "duration": 0,
               "redraw": false
              },
              "fromcurrent": true,
              "mode": "immediate",
              "transition": {
               "duration": 0,
               "easing": "linear"
              }
             }
            ],
            "label": "2022-04-15",
            "method": "animate"
           },
           {
            "args": [
             [
              "2022-04-17"
             ],
             {
              "frame": {
               "duration": 0,
               "redraw": false
              },
              "fromcurrent": true,
              "mode": "immediate",
              "transition": {
               "duration": 0,
               "easing": "linear"
              }
             }
            ],
            "label": "2022-04-17",
            "method": "animate"
           },
           {
            "args": [
             [
              "2022-04-18"
             ],
             {
              "frame": {
               "duration": 0,
               "redraw": false
              },
              "fromcurrent": true,
              "mode": "immediate",
              "transition": {
               "duration": 0,
               "easing": "linear"
              }
             }
            ],
            "label": "2022-04-18",
            "method": "animate"
           },
           {
            "args": [
             [
              "2022-04-19"
             ],
             {
              "frame": {
               "duration": 0,
               "redraw": false
              },
              "fromcurrent": true,
              "mode": "immediate",
              "transition": {
               "duration": 0,
               "easing": "linear"
              }
             }
            ],
            "label": "2022-04-19",
            "method": "animate"
           },
           {
            "args": [
             [
              "2022-04-20"
             ],
             {
              "frame": {
               "duration": 0,
               "redraw": false
              },
              "fromcurrent": true,
              "mode": "immediate",
              "transition": {
               "duration": 0,
               "easing": "linear"
              }
             }
            ],
            "label": "2022-04-20",
            "method": "animate"
           },
           {
            "args": [
             [
              "2022-04-21"
             ],
             {
              "frame": {
               "duration": 0,
               "redraw": false
              },
              "fromcurrent": true,
              "mode": "immediate",
              "transition": {
               "duration": 0,
               "easing": "linear"
              }
             }
            ],
            "label": "2022-04-21",
            "method": "animate"
           },
           {
            "args": [
             [
              "2022-04-22"
             ],
             {
              "frame": {
               "duration": 0,
               "redraw": false
              },
              "fromcurrent": true,
              "mode": "immediate",
              "transition": {
               "duration": 0,
               "easing": "linear"
              }
             }
            ],
            "label": "2022-04-22",
            "method": "animate"
           },
           {
            "args": [
             [
              "2022-04-25"
             ],
             {
              "frame": {
               "duration": 0,
               "redraw": false
              },
              "fromcurrent": true,
              "mode": "immediate",
              "transition": {
               "duration": 0,
               "easing": "linear"
              }
             }
            ],
            "label": "2022-04-25",
            "method": "animate"
           },
           {
            "args": [
             [
              "2022-04-27"
             ],
             {
              "frame": {
               "duration": 0,
               "redraw": false
              },
              "fromcurrent": true,
              "mode": "immediate",
              "transition": {
               "duration": 0,
               "easing": "linear"
              }
             }
            ],
            "label": "2022-04-27",
            "method": "animate"
           },
           {
            "args": [
             [
              "2022-04-29"
             ],
             {
              "frame": {
               "duration": 0,
               "redraw": false
              },
              "fromcurrent": true,
              "mode": "immediate",
              "transition": {
               "duration": 0,
               "easing": "linear"
              }
             }
            ],
            "label": "2022-04-29",
            "method": "animate"
           },
           {
            "args": [
             [
              "2022-04-30"
             ],
             {
              "frame": {
               "duration": 0,
               "redraw": false
              },
              "fromcurrent": true,
              "mode": "immediate",
              "transition": {
               "duration": 0,
               "easing": "linear"
              }
             }
            ],
            "label": "2022-04-30",
            "method": "animate"
           },
           {
            "args": [
             [
              "2022-05-02"
             ],
             {
              "frame": {
               "duration": 0,
               "redraw": false
              },
              "fromcurrent": true,
              "mode": "immediate",
              "transition": {
               "duration": 0,
               "easing": "linear"
              }
             }
            ],
            "label": "2022-05-02",
            "method": "animate"
           },
           {
            "args": [
             [
              "2022-05-05"
             ],
             {
              "frame": {
               "duration": 0,
               "redraw": false
              },
              "fromcurrent": true,
              "mode": "immediate",
              "transition": {
               "duration": 0,
               "easing": "linear"
              }
             }
            ],
            "label": "2022-05-05",
            "method": "animate"
           },
           {
            "args": [
             [
              "2022-05-08"
             ],
             {
              "frame": {
               "duration": 0,
               "redraw": false
              },
              "fromcurrent": true,
              "mode": "immediate",
              "transition": {
               "duration": 0,
               "easing": "linear"
              }
             }
            ],
            "label": "2022-05-08",
            "method": "animate"
           },
           {
            "args": [
             [
              "2022-05-10"
             ],
             {
              "frame": {
               "duration": 0,
               "redraw": false
              },
              "fromcurrent": true,
              "mode": "immediate",
              "transition": {
               "duration": 0,
               "easing": "linear"
              }
             }
            ],
            "label": "2022-05-10",
            "method": "animate"
           },
           {
            "args": [
             [
              "2022-05-13"
             ],
             {
              "frame": {
               "duration": 0,
               "redraw": false
              },
              "fromcurrent": true,
              "mode": "immediate",
              "transition": {
               "duration": 0,
               "easing": "linear"
              }
             }
            ],
            "label": "2022-05-13",
            "method": "animate"
           },
           {
            "args": [
             [
              "2022-05-17"
             ],
             {
              "frame": {
               "duration": 0,
               "redraw": false
              },
              "fromcurrent": true,
              "mode": "immediate",
              "transition": {
               "duration": 0,
               "easing": "linear"
              }
             }
            ],
            "label": "2022-05-17",
            "method": "animate"
           },
           {
            "args": [
             [
              "2022-05-18"
             ],
             {
              "frame": {
               "duration": 0,
               "redraw": false
              },
              "fromcurrent": true,
              "mode": "immediate",
              "transition": {
               "duration": 0,
               "easing": "linear"
              }
             }
            ],
            "label": "2022-05-18",
            "method": "animate"
           },
           {
            "args": [
             [
              "2022-05-19"
             ],
             {
              "frame": {
               "duration": 0,
               "redraw": false
              },
              "fromcurrent": true,
              "mode": "immediate",
              "transition": {
               "duration": 0,
               "easing": "linear"
              }
             }
            ],
            "label": "2022-05-19",
            "method": "animate"
           },
           {
            "args": [
             [
              "2022-05-23"
             ],
             {
              "frame": {
               "duration": 0,
               "redraw": false
              },
              "fromcurrent": true,
              "mode": "immediate",
              "transition": {
               "duration": 0,
               "easing": "linear"
              }
             }
            ],
            "label": "2022-05-23",
            "method": "animate"
           },
           {
            "args": [
             [
              "2022-05-25"
             ],
             {
              "frame": {
               "duration": 0,
               "redraw": false
              },
              "fromcurrent": true,
              "mode": "immediate",
              "transition": {
               "duration": 0,
               "easing": "linear"
              }
             }
            ],
            "label": "2022-05-25",
            "method": "animate"
           },
           {
            "args": [
             [
              "2022-05-26"
             ],
             {
              "frame": {
               "duration": 0,
               "redraw": false
              },
              "fromcurrent": true,
              "mode": "immediate",
              "transition": {
               "duration": 0,
               "easing": "linear"
              }
             }
            ],
            "label": "2022-05-26",
            "method": "animate"
           },
           {
            "args": [
             [
              "2022-05-27"
             ],
             {
              "frame": {
               "duration": 0,
               "redraw": false
              },
              "fromcurrent": true,
              "mode": "immediate",
              "transition": {
               "duration": 0,
               "easing": "linear"
              }
             }
            ],
            "label": "2022-05-27",
            "method": "animate"
           },
           {
            "args": [
             [
              "2022-05-31"
             ],
             {
              "frame": {
               "duration": 0,
               "redraw": false
              },
              "fromcurrent": true,
              "mode": "immediate",
              "transition": {
               "duration": 0,
               "easing": "linear"
              }
             }
            ],
            "label": "2022-05-31",
            "method": "animate"
           },
           {
            "args": [
             [
              "2022-06-02"
             ],
             {
              "frame": {
               "duration": 0,
               "redraw": false
              },
              "fromcurrent": true,
              "mode": "immediate",
              "transition": {
               "duration": 0,
               "easing": "linear"
              }
             }
            ],
            "label": "2022-06-02",
            "method": "animate"
           },
           {
            "args": [
             [
              "2022-06-04"
             ],
             {
              "frame": {
               "duration": 0,
               "redraw": false
              },
              "fromcurrent": true,
              "mode": "immediate",
              "transition": {
               "duration": 0,
               "easing": "linear"
              }
             }
            ],
            "label": "2022-06-04",
            "method": "animate"
           },
           {
            "args": [
             [
              "2022-06-05"
             ],
             {
              "frame": {
               "duration": 0,
               "redraw": false
              },
              "fromcurrent": true,
              "mode": "immediate",
              "transition": {
               "duration": 0,
               "easing": "linear"
              }
             }
            ],
            "label": "2022-06-05",
            "method": "animate"
           },
           {
            "args": [
             [
              "2022-06-07"
             ],
             {
              "frame": {
               "duration": 0,
               "redraw": false
              },
              "fromcurrent": true,
              "mode": "immediate",
              "transition": {
               "duration": 0,
               "easing": "linear"
              }
             }
            ],
            "label": "2022-06-07",
            "method": "animate"
           },
           {
            "args": [
             [
              "2022-06-08"
             ],
             {
              "frame": {
               "duration": 0,
               "redraw": false
              },
              "fromcurrent": true,
              "mode": "immediate",
              "transition": {
               "duration": 0,
               "easing": "linear"
              }
             }
            ],
            "label": "2022-06-08",
            "method": "animate"
           },
           {
            "args": [
             [
              "2022-06-09"
             ],
             {
              "frame": {
               "duration": 0,
               "redraw": false
              },
              "fromcurrent": true,
              "mode": "immediate",
              "transition": {
               "duration": 0,
               "easing": "linear"
              }
             }
            ],
            "label": "2022-06-09",
            "method": "animate"
           }
          ],
          "x": 0.1,
          "xanchor": "left",
          "y": 0,
          "yanchor": "top"
         }
        ],
        "template": {
         "data": {
          "bar": [
           {
            "error_x": {
             "color": "#2a3f5f"
            },
            "error_y": {
             "color": "#2a3f5f"
            },
            "marker": {
             "line": {
              "color": "#E5ECF6",
              "width": 0.5
             },
             "pattern": {
              "fillmode": "overlay",
              "size": 10,
              "solidity": 0.2
             }
            },
            "type": "bar"
           }
          ],
          "barpolar": [
           {
            "marker": {
             "line": {
              "color": "#E5ECF6",
              "width": 0.5
             },
             "pattern": {
              "fillmode": "overlay",
              "size": 10,
              "solidity": 0.2
             }
            },
            "type": "barpolar"
           }
          ],
          "carpet": [
           {
            "aaxis": {
             "endlinecolor": "#2a3f5f",
             "gridcolor": "white",
             "linecolor": "white",
             "minorgridcolor": "white",
             "startlinecolor": "#2a3f5f"
            },
            "baxis": {
             "endlinecolor": "#2a3f5f",
             "gridcolor": "white",
             "linecolor": "white",
             "minorgridcolor": "white",
             "startlinecolor": "#2a3f5f"
            },
            "type": "carpet"
           }
          ],
          "choropleth": [
           {
            "colorbar": {
             "outlinewidth": 0,
             "ticks": ""
            },
            "type": "choropleth"
           }
          ],
          "contour": [
           {
            "colorbar": {
             "outlinewidth": 0,
             "ticks": ""
            },
            "colorscale": [
             [
              0,
              "#0d0887"
             ],
             [
              0.1111111111111111,
              "#46039f"
             ],
             [
              0.2222222222222222,
              "#7201a8"
             ],
             [
              0.3333333333333333,
              "#9c179e"
             ],
             [
              0.4444444444444444,
              "#bd3786"
             ],
             [
              0.5555555555555556,
              "#d8576b"
             ],
             [
              0.6666666666666666,
              "#ed7953"
             ],
             [
              0.7777777777777778,
              "#fb9f3a"
             ],
             [
              0.8888888888888888,
              "#fdca26"
             ],
             [
              1,
              "#f0f921"
             ]
            ],
            "type": "contour"
           }
          ],
          "contourcarpet": [
           {
            "colorbar": {
             "outlinewidth": 0,
             "ticks": ""
            },
            "type": "contourcarpet"
           }
          ],
          "heatmap": [
           {
            "colorbar": {
             "outlinewidth": 0,
             "ticks": ""
            },
            "colorscale": [
             [
              0,
              "#0d0887"
             ],
             [
              0.1111111111111111,
              "#46039f"
             ],
             [
              0.2222222222222222,
              "#7201a8"
             ],
             [
              0.3333333333333333,
              "#9c179e"
             ],
             [
              0.4444444444444444,
              "#bd3786"
             ],
             [
              0.5555555555555556,
              "#d8576b"
             ],
             [
              0.6666666666666666,
              "#ed7953"
             ],
             [
              0.7777777777777778,
              "#fb9f3a"
             ],
             [
              0.8888888888888888,
              "#fdca26"
             ],
             [
              1,
              "#f0f921"
             ]
            ],
            "type": "heatmap"
           }
          ],
          "heatmapgl": [
           {
            "colorbar": {
             "outlinewidth": 0,
             "ticks": ""
            },
            "colorscale": [
             [
              0,
              "#0d0887"
             ],
             [
              0.1111111111111111,
              "#46039f"
             ],
             [
              0.2222222222222222,
              "#7201a8"
             ],
             [
              0.3333333333333333,
              "#9c179e"
             ],
             [
              0.4444444444444444,
              "#bd3786"
             ],
             [
              0.5555555555555556,
              "#d8576b"
             ],
             [
              0.6666666666666666,
              "#ed7953"
             ],
             [
              0.7777777777777778,
              "#fb9f3a"
             ],
             [
              0.8888888888888888,
              "#fdca26"
             ],
             [
              1,
              "#f0f921"
             ]
            ],
            "type": "heatmapgl"
           }
          ],
          "histogram": [
           {
            "marker": {
             "pattern": {
              "fillmode": "overlay",
              "size": 10,
              "solidity": 0.2
             }
            },
            "type": "histogram"
           }
          ],
          "histogram2d": [
           {
            "colorbar": {
             "outlinewidth": 0,
             "ticks": ""
            },
            "colorscale": [
             [
              0,
              "#0d0887"
             ],
             [
              0.1111111111111111,
              "#46039f"
             ],
             [
              0.2222222222222222,
              "#7201a8"
             ],
             [
              0.3333333333333333,
              "#9c179e"
             ],
             [
              0.4444444444444444,
              "#bd3786"
             ],
             [
              0.5555555555555556,
              "#d8576b"
             ],
             [
              0.6666666666666666,
              "#ed7953"
             ],
             [
              0.7777777777777778,
              "#fb9f3a"
             ],
             [
              0.8888888888888888,
              "#fdca26"
             ],
             [
              1,
              "#f0f921"
             ]
            ],
            "type": "histogram2d"
           }
          ],
          "histogram2dcontour": [
           {
            "colorbar": {
             "outlinewidth": 0,
             "ticks": ""
            },
            "colorscale": [
             [
              0,
              "#0d0887"
             ],
             [
              0.1111111111111111,
              "#46039f"
             ],
             [
              0.2222222222222222,
              "#7201a8"
             ],
             [
              0.3333333333333333,
              "#9c179e"
             ],
             [
              0.4444444444444444,
              "#bd3786"
             ],
             [
              0.5555555555555556,
              "#d8576b"
             ],
             [
              0.6666666666666666,
              "#ed7953"
             ],
             [
              0.7777777777777778,
              "#fb9f3a"
             ],
             [
              0.8888888888888888,
              "#fdca26"
             ],
             [
              1,
              "#f0f921"
             ]
            ],
            "type": "histogram2dcontour"
           }
          ],
          "mesh3d": [
           {
            "colorbar": {
             "outlinewidth": 0,
             "ticks": ""
            },
            "type": "mesh3d"
           }
          ],
          "parcoords": [
           {
            "line": {
             "colorbar": {
              "outlinewidth": 0,
              "ticks": ""
             }
            },
            "type": "parcoords"
           }
          ],
          "pie": [
           {
            "automargin": true,
            "type": "pie"
           }
          ],
          "scatter": [
           {
            "fillpattern": {
             "fillmode": "overlay",
             "size": 10,
             "solidity": 0.2
            },
            "type": "scatter"
           }
          ],
          "scatter3d": [
           {
            "line": {
             "colorbar": {
              "outlinewidth": 0,
              "ticks": ""
             }
            },
            "marker": {
             "colorbar": {
              "outlinewidth": 0,
              "ticks": ""
             }
            },
            "type": "scatter3d"
           }
          ],
          "scattercarpet": [
           {
            "marker": {
             "colorbar": {
              "outlinewidth": 0,
              "ticks": ""
             }
            },
            "type": "scattercarpet"
           }
          ],
          "scattergeo": [
           {
            "marker": {
             "colorbar": {
              "outlinewidth": 0,
              "ticks": ""
             }
            },
            "type": "scattergeo"
           }
          ],
          "scattergl": [
           {
            "marker": {
             "colorbar": {
              "outlinewidth": 0,
              "ticks": ""
             }
            },
            "type": "scattergl"
           }
          ],
          "scattermapbox": [
           {
            "marker": {
             "colorbar": {
              "outlinewidth": 0,
              "ticks": ""
             }
            },
            "type": "scattermapbox"
           }
          ],
          "scatterpolar": [
           {
            "marker": {
             "colorbar": {
              "outlinewidth": 0,
              "ticks": ""
             }
            },
            "type": "scatterpolar"
           }
          ],
          "scatterpolargl": [
           {
            "marker": {
             "colorbar": {
              "outlinewidth": 0,
              "ticks": ""
             }
            },
            "type": "scatterpolargl"
           }
          ],
          "scatterternary": [
           {
            "marker": {
             "colorbar": {
              "outlinewidth": 0,
              "ticks": ""
             }
            },
            "type": "scatterternary"
           }
          ],
          "surface": [
           {
            "colorbar": {
             "outlinewidth": 0,
             "ticks": ""
            },
            "colorscale": [
             [
              0,
              "#0d0887"
             ],
             [
              0.1111111111111111,
              "#46039f"
             ],
             [
              0.2222222222222222,
              "#7201a8"
             ],
             [
              0.3333333333333333,
              "#9c179e"
             ],
             [
              0.4444444444444444,
              "#bd3786"
             ],
             [
              0.5555555555555556,
              "#d8576b"
             ],
             [
              0.6666666666666666,
              "#ed7953"
             ],
             [
              0.7777777777777778,
              "#fb9f3a"
             ],
             [
              0.8888888888888888,
              "#fdca26"
             ],
             [
              1,
              "#f0f921"
             ]
            ],
            "type": "surface"
           }
          ],
          "table": [
           {
            "cells": {
             "fill": {
              "color": "#EBF0F8"
             },
             "line": {
              "color": "white"
             }
            },
            "header": {
             "fill": {
              "color": "#C8D4E3"
             },
             "line": {
              "color": "white"
             }
            },
            "type": "table"
           }
          ]
         },
         "layout": {
          "annotationdefaults": {
           "arrowcolor": "#2a3f5f",
           "arrowhead": 0,
           "arrowwidth": 1
          },
          "autotypenumbers": "strict",
          "coloraxis": {
           "colorbar": {
            "outlinewidth": 0,
            "ticks": ""
           }
          },
          "colorscale": {
           "diverging": [
            [
             0,
             "#8e0152"
            ],
            [
             0.1,
             "#c51b7d"
            ],
            [
             0.2,
             "#de77ae"
            ],
            [
             0.3,
             "#f1b6da"
            ],
            [
             0.4,
             "#fde0ef"
            ],
            [
             0.5,
             "#f7f7f7"
            ],
            [
             0.6,
             "#e6f5d0"
            ],
            [
             0.7,
             "#b8e186"
            ],
            [
             0.8,
             "#7fbc41"
            ],
            [
             0.9,
             "#4d9221"
            ],
            [
             1,
             "#276419"
            ]
           ],
           "sequential": [
            [
             0,
             "#0d0887"
            ],
            [
             0.1111111111111111,
             "#46039f"
            ],
            [
             0.2222222222222222,
             "#7201a8"
            ],
            [
             0.3333333333333333,
             "#9c179e"
            ],
            [
             0.4444444444444444,
             "#bd3786"
            ],
            [
             0.5555555555555556,
             "#d8576b"
            ],
            [
             0.6666666666666666,
             "#ed7953"
            ],
            [
             0.7777777777777778,
             "#fb9f3a"
            ],
            [
             0.8888888888888888,
             "#fdca26"
            ],
            [
             1,
             "#f0f921"
            ]
           ],
           "sequentialminus": [
            [
             0,
             "#0d0887"
            ],
            [
             0.1111111111111111,
             "#46039f"
            ],
            [
             0.2222222222222222,
             "#7201a8"
            ],
            [
             0.3333333333333333,
             "#9c179e"
            ],
            [
             0.4444444444444444,
             "#bd3786"
            ],
            [
             0.5555555555555556,
             "#d8576b"
            ],
            [
             0.6666666666666666,
             "#ed7953"
            ],
            [
             0.7777777777777778,
             "#fb9f3a"
            ],
            [
             0.8888888888888888,
             "#fdca26"
            ],
            [
             1,
             "#f0f921"
            ]
           ]
          },
          "colorway": [
           "#636efa",
           "#EF553B",
           "#00cc96",
           "#ab63fa",
           "#FFA15A",
           "#19d3f3",
           "#FF6692",
           "#B6E880",
           "#FF97FF",
           "#FECB52"
          ],
          "font": {
           "color": "#2a3f5f"
          },
          "geo": {
           "bgcolor": "white",
           "lakecolor": "white",
           "landcolor": "#E5ECF6",
           "showlakes": true,
           "showland": true,
           "subunitcolor": "white"
          },
          "hoverlabel": {
           "align": "left"
          },
          "hovermode": "closest",
          "mapbox": {
           "style": "light"
          },
          "paper_bgcolor": "white",
          "plot_bgcolor": "#E5ECF6",
          "polar": {
           "angularaxis": {
            "gridcolor": "white",
            "linecolor": "white",
            "ticks": ""
           },
           "bgcolor": "#E5ECF6",
           "radialaxis": {
            "gridcolor": "white",
            "linecolor": "white",
            "ticks": ""
           }
          },
          "scene": {
           "xaxis": {
            "backgroundcolor": "#E5ECF6",
            "gridcolor": "white",
            "gridwidth": 2,
            "linecolor": "white",
            "showbackground": true,
            "ticks": "",
            "zerolinecolor": "white"
           },
           "yaxis": {
            "backgroundcolor": "#E5ECF6",
            "gridcolor": "white",
            "gridwidth": 2,
            "linecolor": "white",
            "showbackground": true,
            "ticks": "",
            "zerolinecolor": "white"
           },
           "zaxis": {
            "backgroundcolor": "#E5ECF6",
            "gridcolor": "white",
            "gridwidth": 2,
            "linecolor": "white",
            "showbackground": true,
            "ticks": "",
            "zerolinecolor": "white"
           }
          },
          "shapedefaults": {
           "line": {
            "color": "#2a3f5f"
           }
          },
          "ternary": {
           "aaxis": {
            "gridcolor": "white",
            "linecolor": "white",
            "ticks": ""
           },
           "baxis": {
            "gridcolor": "white",
            "linecolor": "white",
            "ticks": ""
           },
           "bgcolor": "#E5ECF6",
           "caxis": {
            "gridcolor": "white",
            "linecolor": "white",
            "ticks": ""
           }
          },
          "title": {
           "x": 0.05
          },
          "xaxis": {
           "automargin": true,
           "gridcolor": "white",
           "linecolor": "white",
           "ticks": "",
           "title": {
            "standoff": 15
           },
           "zerolinecolor": "white",
           "zerolinewidth": 2
          },
          "yaxis": {
           "automargin": true,
           "gridcolor": "white",
           "linecolor": "white",
           "ticks": "",
           "title": {
            "standoff": 15
           },
           "zerolinecolor": "white",
           "zerolinewidth": 2
          }
         }
        },
        "updatemenus": [
         {
          "buttons": [
           {
            "args": [
             null,
             {
              "frame": {
               "duration": 500,
               "redraw": false
              },
              "fromcurrent": true,
              "mode": "immediate",
              "transition": {
               "duration": 500,
               "easing": "linear"
              }
             }
            ],
            "label": "&#9654;",
            "method": "animate"
           },
           {
            "args": [
             [
              null
             ],
             {
              "frame": {
               "duration": 0,
               "redraw": false
              },
              "fromcurrent": true,
              "mode": "immediate",
              "transition": {
               "duration": 0,
               "easing": "linear"
              }
             }
            ],
            "label": "&#9724;",
            "method": "animate"
           }
          ],
          "direction": "left",
          "pad": {
           "r": 10,
           "t": 70
          },
          "showactive": false,
          "type": "buttons",
          "x": 0.1,
          "xanchor": "right",
          "y": 0,
          "yanchor": "top"
         }
        ],
        "xaxis": {
         "anchor": "y",
         "domain": [
          0,
          1
         ],
         "title": {
          "text": "positive"
         }
        },
        "yaxis": {
         "anchor": "x",
         "domain": [
          0,
          1
         ],
         "title": {
          "text": "negative"
         }
        }
       }
      },
      "text/html": [
       "<div>                            <div id=\"5529ed47-3099-4bc9-a66a-5a50feac84d1\" class=\"plotly-graph-div\" style=\"height:525px; width:100%;\"></div>            <script type=\"text/javascript\">                require([\"plotly\"], function(Plotly) {                    window.PLOTLYENV=window.PLOTLYENV || {};                                    if (document.getElementById(\"5529ed47-3099-4bc9-a66a-5a50feac84d1\")) {                    Plotly.newPlot(                        \"5529ed47-3099-4bc9-a66a-5a50feac84d1\",                        [{\"hovertemplate\":\"<b>%{hovertext}</b><br><br>Username=DailyMailUK<br>only_date=2021-05-08<br>positive=%{x}<br>negative=%{y}<br>Like Count=%{marker.size}<extra></extra>\",\"hovertext\":[\"DailyMailUK\"],\"legendgroup\":\"DailyMailUK\",\"marker\":{\"color\":\"#636efa\",\"size\":[15.0],\"sizemode\":\"area\",\"sizeref\":3.8625,\"symbol\":\"circle\"},\"mode\":\"markers\",\"name\":\"DailyMailUK\",\"orientation\":\"v\",\"showlegend\":true,\"x\":[0.0191],\"xaxis\":\"x\",\"y\":[0.2311],\"yaxis\":\"y\",\"type\":\"scatter\"}],                        {\"template\":{\"data\":{\"histogram2dcontour\":[{\"type\":\"histogram2dcontour\",\"colorbar\":{\"outlinewidth\":0,\"ticks\":\"\"},\"colorscale\":[[0.0,\"#0d0887\"],[0.1111111111111111,\"#46039f\"],[0.2222222222222222,\"#7201a8\"],[0.3333333333333333,\"#9c179e\"],[0.4444444444444444,\"#bd3786\"],[0.5555555555555556,\"#d8576b\"],[0.6666666666666666,\"#ed7953\"],[0.7777777777777778,\"#fb9f3a\"],[0.8888888888888888,\"#fdca26\"],[1.0,\"#f0f921\"]]}],\"choropleth\":[{\"type\":\"choropleth\",\"colorbar\":{\"outlinewidth\":0,\"ticks\":\"\"}}],\"histogram2d\":[{\"type\":\"histogram2d\",\"colorbar\":{\"outlinewidth\":0,\"ticks\":\"\"},\"colorscale\":[[0.0,\"#0d0887\"],[0.1111111111111111,\"#46039f\"],[0.2222222222222222,\"#7201a8\"],[0.3333333333333333,\"#9c179e\"],[0.4444444444444444,\"#bd3786\"],[0.5555555555555556,\"#d8576b\"],[0.6666666666666666,\"#ed7953\"],[0.7777777777777778,\"#fb9f3a\"],[0.8888888888888888,\"#fdca26\"],[1.0,\"#f0f921\"]]}],\"heatmap\":[{\"type\":\"heatmap\",\"colorbar\":{\"outlinewidth\":0,\"ticks\":\"\"},\"colorscale\":[[0.0,\"#0d0887\"],[0.1111111111111111,\"#46039f\"],[0.2222222222222222,\"#7201a8\"],[0.3333333333333333,\"#9c179e\"],[0.4444444444444444,\"#bd3786\"],[0.5555555555555556,\"#d8576b\"],[0.6666666666666666,\"#ed7953\"],[0.7777777777777778,\"#fb9f3a\"],[0.8888888888888888,\"#fdca26\"],[1.0,\"#f0f921\"]]}],\"heatmapgl\":[{\"type\":\"heatmapgl\",\"colorbar\":{\"outlinewidth\":0,\"ticks\":\"\"},\"colorscale\":[[0.0,\"#0d0887\"],[0.1111111111111111,\"#46039f\"],[0.2222222222222222,\"#7201a8\"],[0.3333333333333333,\"#9c179e\"],[0.4444444444444444,\"#bd3786\"],[0.5555555555555556,\"#d8576b\"],[0.6666666666666666,\"#ed7953\"],[0.7777777777777778,\"#fb9f3a\"],[0.8888888888888888,\"#fdca26\"],[1.0,\"#f0f921\"]]}],\"contourcarpet\":[{\"type\":\"contourcarpet\",\"colorbar\":{\"outlinewidth\":0,\"ticks\":\"\"}}],\"contour\":[{\"type\":\"contour\",\"colorbar\":{\"outlinewidth\":0,\"ticks\":\"\"},\"colorscale\":[[0.0,\"#0d0887\"],[0.1111111111111111,\"#46039f\"],[0.2222222222222222,\"#7201a8\"],[0.3333333333333333,\"#9c179e\"],[0.4444444444444444,\"#bd3786\"],[0.5555555555555556,\"#d8576b\"],[0.6666666666666666,\"#ed7953\"],[0.7777777777777778,\"#fb9f3a\"],[0.8888888888888888,\"#fdca26\"],[1.0,\"#f0f921\"]]}],\"surface\":[{\"type\":\"surface\",\"colorbar\":{\"outlinewidth\":0,\"ticks\":\"\"},\"colorscale\":[[0.0,\"#0d0887\"],[0.1111111111111111,\"#46039f\"],[0.2222222222222222,\"#7201a8\"],[0.3333333333333333,\"#9c179e\"],[0.4444444444444444,\"#bd3786\"],[0.5555555555555556,\"#d8576b\"],[0.6666666666666666,\"#ed7953\"],[0.7777777777777778,\"#fb9f3a\"],[0.8888888888888888,\"#fdca26\"],[1.0,\"#f0f921\"]]}],\"mesh3d\":[{\"type\":\"mesh3d\",\"colorbar\":{\"outlinewidth\":0,\"ticks\":\"\"}}],\"scatter\":[{\"fillpattern\":{\"fillmode\":\"overlay\",\"size\":10,\"solidity\":0.2},\"type\":\"scatter\"}],\"parcoords\":[{\"type\":\"parcoords\",\"line\":{\"colorbar\":{\"outlinewidth\":0,\"ticks\":\"\"}}}],\"scatterpolargl\":[{\"type\":\"scatterpolargl\",\"marker\":{\"colorbar\":{\"outlinewidth\":0,\"ticks\":\"\"}}}],\"bar\":[{\"error_x\":{\"color\":\"#2a3f5f\"},\"error_y\":{\"color\":\"#2a3f5f\"},\"marker\":{\"line\":{\"color\":\"#E5ECF6\",\"width\":0.5},\"pattern\":{\"fillmode\":\"overlay\",\"size\":10,\"solidity\":0.2}},\"type\":\"bar\"}],\"scattergeo\":[{\"type\":\"scattergeo\",\"marker\":{\"colorbar\":{\"outlinewidth\":0,\"ticks\":\"\"}}}],\"scatterpolar\":[{\"type\":\"scatterpolar\",\"marker\":{\"colorbar\":{\"outlinewidth\":0,\"ticks\":\"\"}}}],\"histogram\":[{\"marker\":{\"pattern\":{\"fillmode\":\"overlay\",\"size\":10,\"solidity\":0.2}},\"type\":\"histogram\"}],\"scattergl\":[{\"type\":\"scattergl\",\"marker\":{\"colorbar\":{\"outlinewidth\":0,\"ticks\":\"\"}}}],\"scatter3d\":[{\"type\":\"scatter3d\",\"line\":{\"colorbar\":{\"outlinewidth\":0,\"ticks\":\"\"}},\"marker\":{\"colorbar\":{\"outlinewidth\":0,\"ticks\":\"\"}}}],\"scattermapbox\":[{\"type\":\"scattermapbox\",\"marker\":{\"colorbar\":{\"outlinewidth\":0,\"ticks\":\"\"}}}],\"scatterternary\":[{\"type\":\"scatterternary\",\"marker\":{\"colorbar\":{\"outlinewidth\":0,\"ticks\":\"\"}}}],\"scattercarpet\":[{\"type\":\"scattercarpet\",\"marker\":{\"colorbar\":{\"outlinewidth\":0,\"ticks\":\"\"}}}],\"carpet\":[{\"aaxis\":{\"endlinecolor\":\"#2a3f5f\",\"gridcolor\":\"white\",\"linecolor\":\"white\",\"minorgridcolor\":\"white\",\"startlinecolor\":\"#2a3f5f\"},\"baxis\":{\"endlinecolor\":\"#2a3f5f\",\"gridcolor\":\"white\",\"linecolor\":\"white\",\"minorgridcolor\":\"white\",\"startlinecolor\":\"#2a3f5f\"},\"type\":\"carpet\"}],\"table\":[{\"cells\":{\"fill\":{\"color\":\"#EBF0F8\"},\"line\":{\"color\":\"white\"}},\"header\":{\"fill\":{\"color\":\"#C8D4E3\"},\"line\":{\"color\":\"white\"}},\"type\":\"table\"}],\"barpolar\":[{\"marker\":{\"line\":{\"color\":\"#E5ECF6\",\"width\":0.5},\"pattern\":{\"fillmode\":\"overlay\",\"size\":10,\"solidity\":0.2}},\"type\":\"barpolar\"}],\"pie\":[{\"automargin\":true,\"type\":\"pie\"}]},\"layout\":{\"autotypenumbers\":\"strict\",\"colorway\":[\"#636efa\",\"#EF553B\",\"#00cc96\",\"#ab63fa\",\"#FFA15A\",\"#19d3f3\",\"#FF6692\",\"#B6E880\",\"#FF97FF\",\"#FECB52\"],\"font\":{\"color\":\"#2a3f5f\"},\"hovermode\":\"closest\",\"hoverlabel\":{\"align\":\"left\"},\"paper_bgcolor\":\"white\",\"plot_bgcolor\":\"#E5ECF6\",\"polar\":{\"bgcolor\":\"#E5ECF6\",\"angularaxis\":{\"gridcolor\":\"white\",\"linecolor\":\"white\",\"ticks\":\"\"},\"radialaxis\":{\"gridcolor\":\"white\",\"linecolor\":\"white\",\"ticks\":\"\"}},\"ternary\":{\"bgcolor\":\"#E5ECF6\",\"aaxis\":{\"gridcolor\":\"white\",\"linecolor\":\"white\",\"ticks\":\"\"},\"baxis\":{\"gridcolor\":\"white\",\"linecolor\":\"white\",\"ticks\":\"\"},\"caxis\":{\"gridcolor\":\"white\",\"linecolor\":\"white\",\"ticks\":\"\"}},\"coloraxis\":{\"colorbar\":{\"outlinewidth\":0,\"ticks\":\"\"}},\"colorscale\":{\"sequential\":[[0.0,\"#0d0887\"],[0.1111111111111111,\"#46039f\"],[0.2222222222222222,\"#7201a8\"],[0.3333333333333333,\"#9c179e\"],[0.4444444444444444,\"#bd3786\"],[0.5555555555555556,\"#d8576b\"],[0.6666666666666666,\"#ed7953\"],[0.7777777777777778,\"#fb9f3a\"],[0.8888888888888888,\"#fdca26\"],[1.0,\"#f0f921\"]],\"sequentialminus\":[[0.0,\"#0d0887\"],[0.1111111111111111,\"#46039f\"],[0.2222222222222222,\"#7201a8\"],[0.3333333333333333,\"#9c179e\"],[0.4444444444444444,\"#bd3786\"],[0.5555555555555556,\"#d8576b\"],[0.6666666666666666,\"#ed7953\"],[0.7777777777777778,\"#fb9f3a\"],[0.8888888888888888,\"#fdca26\"],[1.0,\"#f0f921\"]],\"diverging\":[[0,\"#8e0152\"],[0.1,\"#c51b7d\"],[0.2,\"#de77ae\"],[0.3,\"#f1b6da\"],[0.4,\"#fde0ef\"],[0.5,\"#f7f7f7\"],[0.6,\"#e6f5d0\"],[0.7,\"#b8e186\"],[0.8,\"#7fbc41\"],[0.9,\"#4d9221\"],[1,\"#276419\"]]},\"xaxis\":{\"gridcolor\":\"white\",\"linecolor\":\"white\",\"ticks\":\"\",\"title\":{\"standoff\":15},\"zerolinecolor\":\"white\",\"automargin\":true,\"zerolinewidth\":2},\"yaxis\":{\"gridcolor\":\"white\",\"linecolor\":\"white\",\"ticks\":\"\",\"title\":{\"standoff\":15},\"zerolinecolor\":\"white\",\"automargin\":true,\"zerolinewidth\":2},\"scene\":{\"xaxis\":{\"backgroundcolor\":\"#E5ECF6\",\"gridcolor\":\"white\",\"linecolor\":\"white\",\"showbackground\":true,\"ticks\":\"\",\"zerolinecolor\":\"white\",\"gridwidth\":2},\"yaxis\":{\"backgroundcolor\":\"#E5ECF6\",\"gridcolor\":\"white\",\"linecolor\":\"white\",\"showbackground\":true,\"ticks\":\"\",\"zerolinecolor\":\"white\",\"gridwidth\":2},\"zaxis\":{\"backgroundcolor\":\"#E5ECF6\",\"gridcolor\":\"white\",\"linecolor\":\"white\",\"showbackground\":true,\"ticks\":\"\",\"zerolinecolor\":\"white\",\"gridwidth\":2}},\"shapedefaults\":{\"line\":{\"color\":\"#2a3f5f\"}},\"annotationdefaults\":{\"arrowcolor\":\"#2a3f5f\",\"arrowhead\":0,\"arrowwidth\":1},\"geo\":{\"bgcolor\":\"white\",\"landcolor\":\"#E5ECF6\",\"subunitcolor\":\"white\",\"showland\":true,\"showlakes\":true,\"lakecolor\":\"white\"},\"title\":{\"x\":0.05},\"mapbox\":{\"style\":\"light\"}}},\"xaxis\":{\"anchor\":\"y\",\"domain\":[0.0,1.0],\"title\":{\"text\":\"positive\"}},\"yaxis\":{\"anchor\":\"x\",\"domain\":[0.0,1.0],\"title\":{\"text\":\"negative\"}},\"legend\":{\"title\":{\"text\":\"Username\"},\"tracegroupgap\":0,\"itemsizing\":\"constant\"},\"margin\":{\"t\":60},\"updatemenus\":[{\"buttons\":[{\"args\":[null,{\"frame\":{\"duration\":500,\"redraw\":false},\"mode\":\"immediate\",\"fromcurrent\":true,\"transition\":{\"duration\":500,\"easing\":\"linear\"}}],\"label\":\"&#9654;\",\"method\":\"animate\"},{\"args\":[[null],{\"frame\":{\"duration\":0,\"redraw\":false},\"mode\":\"immediate\",\"fromcurrent\":true,\"transition\":{\"duration\":0,\"easing\":\"linear\"}}],\"label\":\"&#9724;\",\"method\":\"animate\"}],\"direction\":\"left\",\"pad\":{\"r\":10,\"t\":70},\"showactive\":false,\"type\":\"buttons\",\"x\":0.1,\"xanchor\":\"right\",\"y\":0,\"yanchor\":\"top\"}],\"sliders\":[{\"active\":0,\"currentvalue\":{\"prefix\":\"only_date=\"},\"len\":0.9,\"pad\":{\"b\":10,\"t\":60},\"steps\":[{\"args\":[[\"2021-05-08\"],{\"frame\":{\"duration\":0,\"redraw\":false},\"mode\":\"immediate\",\"fromcurrent\":true,\"transition\":{\"duration\":0,\"easing\":\"linear\"}}],\"label\":\"2021-05-08\",\"method\":\"animate\"},{\"args\":[[\"2021-05-10\"],{\"frame\":{\"duration\":0,\"redraw\":false},\"mode\":\"immediate\",\"fromcurrent\":true,\"transition\":{\"duration\":0,\"easing\":\"linear\"}}],\"label\":\"2021-05-10\",\"method\":\"animate\"},{\"args\":[[\"2021-05-11\"],{\"frame\":{\"duration\":0,\"redraw\":false},\"mode\":\"immediate\",\"fromcurrent\":true,\"transition\":{\"duration\":0,\"easing\":\"linear\"}}],\"label\":\"2021-05-11\",\"method\":\"animate\"},{\"args\":[[\"2021-05-12\"],{\"frame\":{\"duration\":0,\"redraw\":false},\"mode\":\"immediate\",\"fromcurrent\":true,\"transition\":{\"duration\":0,\"easing\":\"linear\"}}],\"label\":\"2021-05-12\",\"method\":\"animate\"},{\"args\":[[\"2021-05-13\"],{\"frame\":{\"duration\":0,\"redraw\":false},\"mode\":\"immediate\",\"fromcurrent\":true,\"transition\":{\"duration\":0,\"easing\":\"linear\"}}],\"label\":\"2021-05-13\",\"method\":\"animate\"},{\"args\":[[\"2021-05-14\"],{\"frame\":{\"duration\":0,\"redraw\":false},\"mode\":\"immediate\",\"fromcurrent\":true,\"transition\":{\"duration\":0,\"easing\":\"linear\"}}],\"label\":\"2021-05-14\",\"method\":\"animate\"},{\"args\":[[\"2021-05-15\"],{\"frame\":{\"duration\":0,\"redraw\":false},\"mode\":\"immediate\",\"fromcurrent\":true,\"transition\":{\"duration\":0,\"easing\":\"linear\"}}],\"label\":\"2021-05-15\",\"method\":\"animate\"},{\"args\":[[\"2021-05-17\"],{\"frame\":{\"duration\":0,\"redraw\":false},\"mode\":\"immediate\",\"fromcurrent\":true,\"transition\":{\"duration\":0,\"easing\":\"linear\"}}],\"label\":\"2021-05-17\",\"method\":\"animate\"},{\"args\":[[\"2021-05-18\"],{\"frame\":{\"duration\":0,\"redraw\":false},\"mode\":\"immediate\",\"fromcurrent\":true,\"transition\":{\"duration\":0,\"easing\":\"linear\"}}],\"label\":\"2021-05-18\",\"method\":\"animate\"},{\"args\":[[\"2021-05-19\"],{\"frame\":{\"duration\":0,\"redraw\":false},\"mode\":\"immediate\",\"fromcurrent\":true,\"transition\":{\"duration\":0,\"easing\":\"linear\"}}],\"label\":\"2021-05-19\",\"method\":\"animate\"},{\"args\":[[\"2021-05-21\"],{\"frame\":{\"duration\":0,\"redraw\":false},\"mode\":\"immediate\",\"fromcurrent\":true,\"transition\":{\"duration\":0,\"easing\":\"linear\"}}],\"label\":\"2021-05-21\",\"method\":\"animate\"},{\"args\":[[\"2021-05-25\"],{\"frame\":{\"duration\":0,\"redraw\":false},\"mode\":\"immediate\",\"fromcurrent\":true,\"transition\":{\"duration\":0,\"easing\":\"linear\"}}],\"label\":\"2021-05-25\",\"method\":\"animate\"},{\"args\":[[\"2021-05-26\"],{\"frame\":{\"duration\":0,\"redraw\":false},\"mode\":\"immediate\",\"fromcurrent\":true,\"transition\":{\"duration\":0,\"easing\":\"linear\"}}],\"label\":\"2021-05-26\",\"method\":\"animate\"},{\"args\":[[\"2021-05-28\"],{\"frame\":{\"duration\":0,\"redraw\":false},\"mode\":\"immediate\",\"fromcurrent\":true,\"transition\":{\"duration\":0,\"easing\":\"linear\"}}],\"label\":\"2021-05-28\",\"method\":\"animate\"},{\"args\":[[\"2021-05-29\"],{\"frame\":{\"duration\":0,\"redraw\":false},\"mode\":\"immediate\",\"fromcurrent\":true,\"transition\":{\"duration\":0,\"easing\":\"linear\"}}],\"label\":\"2021-05-29\",\"method\":\"animate\"},{\"args\":[[\"2021-05-30\"],{\"frame\":{\"duration\":0,\"redraw\":false},\"mode\":\"immediate\",\"fromcurrent\":true,\"transition\":{\"duration\":0,\"easing\":\"linear\"}}],\"label\":\"2021-05-30\",\"method\":\"animate\"},{\"args\":[[\"2021-06-01\"],{\"frame\":{\"duration\":0,\"redraw\":false},\"mode\":\"immediate\",\"fromcurrent\":true,\"transition\":{\"duration\":0,\"easing\":\"linear\"}}],\"label\":\"2021-06-01\",\"method\":\"animate\"},{\"args\":[[\"2021-06-02\"],{\"frame\":{\"duration\":0,\"redraw\":false},\"mode\":\"immediate\",\"fromcurrent\":true,\"transition\":{\"duration\":0,\"easing\":\"linear\"}}],\"label\":\"2021-06-02\",\"method\":\"animate\"},{\"args\":[[\"2021-06-03\"],{\"frame\":{\"duration\":0,\"redraw\":false},\"mode\":\"immediate\",\"fromcurrent\":true,\"transition\":{\"duration\":0,\"easing\":\"linear\"}}],\"label\":\"2021-06-03\",\"method\":\"animate\"},{\"args\":[[\"2021-06-08\"],{\"frame\":{\"duration\":0,\"redraw\":false},\"mode\":\"immediate\",\"fromcurrent\":true,\"transition\":{\"duration\":0,\"easing\":\"linear\"}}],\"label\":\"2021-06-08\",\"method\":\"animate\"},{\"args\":[[\"2021-06-10\"],{\"frame\":{\"duration\":0,\"redraw\":false},\"mode\":\"immediate\",\"fromcurrent\":true,\"transition\":{\"duration\":0,\"easing\":\"linear\"}}],\"label\":\"2021-06-10\",\"method\":\"animate\"},{\"args\":[[\"2021-06-12\"],{\"frame\":{\"duration\":0,\"redraw\":false},\"mode\":\"immediate\",\"fromcurrent\":true,\"transition\":{\"duration\":0,\"easing\":\"linear\"}}],\"label\":\"2021-06-12\",\"method\":\"animate\"},{\"args\":[[\"2021-06-13\"],{\"frame\":{\"duration\":0,\"redraw\":false},\"mode\":\"immediate\",\"fromcurrent\":true,\"transition\":{\"duration\":0,\"easing\":\"linear\"}}],\"label\":\"2021-06-13\",\"method\":\"animate\"},{\"args\":[[\"2021-06-14\"],{\"frame\":{\"duration\":0,\"redraw\":false},\"mode\":\"immediate\",\"fromcurrent\":true,\"transition\":{\"duration\":0,\"easing\":\"linear\"}}],\"label\":\"2021-06-14\",\"method\":\"animate\"},{\"args\":[[\"2021-06-15\"],{\"frame\":{\"duration\":0,\"redraw\":false},\"mode\":\"immediate\",\"fromcurrent\":true,\"transition\":{\"duration\":0,\"easing\":\"linear\"}}],\"label\":\"2021-06-15\",\"method\":\"animate\"},{\"args\":[[\"2021-06-18\"],{\"frame\":{\"duration\":0,\"redraw\":false},\"mode\":\"immediate\",\"fromcurrent\":true,\"transition\":{\"duration\":0,\"easing\":\"linear\"}}],\"label\":\"2021-06-18\",\"method\":\"animate\"},{\"args\":[[\"2021-06-20\"],{\"frame\":{\"duration\":0,\"redraw\":false},\"mode\":\"immediate\",\"fromcurrent\":true,\"transition\":{\"duration\":0,\"easing\":\"linear\"}}],\"label\":\"2021-06-20\",\"method\":\"animate\"},{\"args\":[[\"2021-06-21\"],{\"frame\":{\"duration\":0,\"redraw\":false},\"mode\":\"immediate\",\"fromcurrent\":true,\"transition\":{\"duration\":0,\"easing\":\"linear\"}}],\"label\":\"2021-06-21\",\"method\":\"animate\"},{\"args\":[[\"2021-06-26\"],{\"frame\":{\"duration\":0,\"redraw\":false},\"mode\":\"immediate\",\"fromcurrent\":true,\"transition\":{\"duration\":0,\"easing\":\"linear\"}}],\"label\":\"2021-06-26\",\"method\":\"animate\"},{\"args\":[[\"2021-06-28\"],{\"frame\":{\"duration\":0,\"redraw\":false},\"mode\":\"immediate\",\"fromcurrent\":true,\"transition\":{\"duration\":0,\"easing\":\"linear\"}}],\"label\":\"2021-06-28\",\"method\":\"animate\"},{\"args\":[[\"2021-06-30\"],{\"frame\":{\"duration\":0,\"redraw\":false},\"mode\":\"immediate\",\"fromcurrent\":true,\"transition\":{\"duration\":0,\"easing\":\"linear\"}}],\"label\":\"2021-06-30\",\"method\":\"animate\"},{\"args\":[[\"2021-07-02\"],{\"frame\":{\"duration\":0,\"redraw\":false},\"mode\":\"immediate\",\"fromcurrent\":true,\"transition\":{\"duration\":0,\"easing\":\"linear\"}}],\"label\":\"2021-07-02\",\"method\":\"animate\"},{\"args\":[[\"2021-07-04\"],{\"frame\":{\"duration\":0,\"redraw\":false},\"mode\":\"immediate\",\"fromcurrent\":true,\"transition\":{\"duration\":0,\"easing\":\"linear\"}}],\"label\":\"2021-07-04\",\"method\":\"animate\"},{\"args\":[[\"2021-07-05\"],{\"frame\":{\"duration\":0,\"redraw\":false},\"mode\":\"immediate\",\"fromcurrent\":true,\"transition\":{\"duration\":0,\"easing\":\"linear\"}}],\"label\":\"2021-07-05\",\"method\":\"animate\"},{\"args\":[[\"2021-07-07\"],{\"frame\":{\"duration\":0,\"redraw\":false},\"mode\":\"immediate\",\"fromcurrent\":true,\"transition\":{\"duration\":0,\"easing\":\"linear\"}}],\"label\":\"2021-07-07\",\"method\":\"animate\"},{\"args\":[[\"2021-07-09\"],{\"frame\":{\"duration\":0,\"redraw\":false},\"mode\":\"immediate\",\"fromcurrent\":true,\"transition\":{\"duration\":0,\"easing\":\"linear\"}}],\"label\":\"2021-07-09\",\"method\":\"animate\"},{\"args\":[[\"2021-07-10\"],{\"frame\":{\"duration\":0,\"redraw\":false},\"mode\":\"immediate\",\"fromcurrent\":true,\"transition\":{\"duration\":0,\"easing\":\"linear\"}}],\"label\":\"2021-07-10\",\"method\":\"animate\"},{\"args\":[[\"2021-07-11\"],{\"frame\":{\"duration\":0,\"redraw\":false},\"mode\":\"immediate\",\"fromcurrent\":true,\"transition\":{\"duration\":0,\"easing\":\"linear\"}}],\"label\":\"2021-07-11\",\"method\":\"animate\"},{\"args\":[[\"2021-07-14\"],{\"frame\":{\"duration\":0,\"redraw\":false},\"mode\":\"immediate\",\"fromcurrent\":true,\"transition\":{\"duration\":0,\"easing\":\"linear\"}}],\"label\":\"2021-07-14\",\"method\":\"animate\"},{\"args\":[[\"2021-07-16\"],{\"frame\":{\"duration\":0,\"redraw\":false},\"mode\":\"immediate\",\"fromcurrent\":true,\"transition\":{\"duration\":0,\"easing\":\"linear\"}}],\"label\":\"2021-07-16\",\"method\":\"animate\"},{\"args\":[[\"2021-07-18\"],{\"frame\":{\"duration\":0,\"redraw\":false},\"mode\":\"immediate\",\"fromcurrent\":true,\"transition\":{\"duration\":0,\"easing\":\"linear\"}}],\"label\":\"2021-07-18\",\"method\":\"animate\"},{\"args\":[[\"2021-07-19\"],{\"frame\":{\"duration\":0,\"redraw\":false},\"mode\":\"immediate\",\"fromcurrent\":true,\"transition\":{\"duration\":0,\"easing\":\"linear\"}}],\"label\":\"2021-07-19\",\"method\":\"animate\"},{\"args\":[[\"2021-07-20\"],{\"frame\":{\"duration\":0,\"redraw\":false},\"mode\":\"immediate\",\"fromcurrent\":true,\"transition\":{\"duration\":0,\"easing\":\"linear\"}}],\"label\":\"2021-07-20\",\"method\":\"animate\"},{\"args\":[[\"2021-07-21\"],{\"frame\":{\"duration\":0,\"redraw\":false},\"mode\":\"immediate\",\"fromcurrent\":true,\"transition\":{\"duration\":0,\"easing\":\"linear\"}}],\"label\":\"2021-07-21\",\"method\":\"animate\"},{\"args\":[[\"2021-07-22\"],{\"frame\":{\"duration\":0,\"redraw\":false},\"mode\":\"immediate\",\"fromcurrent\":true,\"transition\":{\"duration\":0,\"easing\":\"linear\"}}],\"label\":\"2021-07-22\",\"method\":\"animate\"},{\"args\":[[\"2021-07-24\"],{\"frame\":{\"duration\":0,\"redraw\":false},\"mode\":\"immediate\",\"fromcurrent\":true,\"transition\":{\"duration\":0,\"easing\":\"linear\"}}],\"label\":\"2021-07-24\",\"method\":\"animate\"},{\"args\":[[\"2021-07-26\"],{\"frame\":{\"duration\":0,\"redraw\":false},\"mode\":\"immediate\",\"fromcurrent\":true,\"transition\":{\"duration\":0,\"easing\":\"linear\"}}],\"label\":\"2021-07-26\",\"method\":\"animate\"},{\"args\":[[\"2021-07-27\"],{\"frame\":{\"duration\":0,\"redraw\":false},\"mode\":\"immediate\",\"fromcurrent\":true,\"transition\":{\"duration\":0,\"easing\":\"linear\"}}],\"label\":\"2021-07-27\",\"method\":\"animate\"},{\"args\":[[\"2021-07-31\"],{\"frame\":{\"duration\":0,\"redraw\":false},\"mode\":\"immediate\",\"fromcurrent\":true,\"transition\":{\"duration\":0,\"easing\":\"linear\"}}],\"label\":\"2021-07-31\",\"method\":\"animate\"},{\"args\":[[\"2021-08-01\"],{\"frame\":{\"duration\":0,\"redraw\":false},\"mode\":\"immediate\",\"fromcurrent\":true,\"transition\":{\"duration\":0,\"easing\":\"linear\"}}],\"label\":\"2021-08-01\",\"method\":\"animate\"},{\"args\":[[\"2021-08-02\"],{\"frame\":{\"duration\":0,\"redraw\":false},\"mode\":\"immediate\",\"fromcurrent\":true,\"transition\":{\"duration\":0,\"easing\":\"linear\"}}],\"label\":\"2021-08-02\",\"method\":\"animate\"},{\"args\":[[\"2021-08-03\"],{\"frame\":{\"duration\":0,\"redraw\":false},\"mode\":\"immediate\",\"fromcurrent\":true,\"transition\":{\"duration\":0,\"easing\":\"linear\"}}],\"label\":\"2021-08-03\",\"method\":\"animate\"},{\"args\":[[\"2021-08-04\"],{\"frame\":{\"duration\":0,\"redraw\":false},\"mode\":\"immediate\",\"fromcurrent\":true,\"transition\":{\"duration\":0,\"easing\":\"linear\"}}],\"label\":\"2021-08-04\",\"method\":\"animate\"},{\"args\":[[\"2021-08-05\"],{\"frame\":{\"duration\":0,\"redraw\":false},\"mode\":\"immediate\",\"fromcurrent\":true,\"transition\":{\"duration\":0,\"easing\":\"linear\"}}],\"label\":\"2021-08-05\",\"method\":\"animate\"},{\"args\":[[\"2021-08-08\"],{\"frame\":{\"duration\":0,\"redraw\":false},\"mode\":\"immediate\",\"fromcurrent\":true,\"transition\":{\"duration\":0,\"easing\":\"linear\"}}],\"label\":\"2021-08-08\",\"method\":\"animate\"},{\"args\":[[\"2021-08-09\"],{\"frame\":{\"duration\":0,\"redraw\":false},\"mode\":\"immediate\",\"fromcurrent\":true,\"transition\":{\"duration\":0,\"easing\":\"linear\"}}],\"label\":\"2021-08-09\",\"method\":\"animate\"},{\"args\":[[\"2021-08-10\"],{\"frame\":{\"duration\":0,\"redraw\":false},\"mode\":\"immediate\",\"fromcurrent\":true,\"transition\":{\"duration\":0,\"easing\":\"linear\"}}],\"label\":\"2021-08-10\",\"method\":\"animate\"},{\"args\":[[\"2021-08-11\"],{\"frame\":{\"duration\":0,\"redraw\":false},\"mode\":\"immediate\",\"fromcurrent\":true,\"transition\":{\"duration\":0,\"easing\":\"linear\"}}],\"label\":\"2021-08-11\",\"method\":\"animate\"},{\"args\":[[\"2021-08-12\"],{\"frame\":{\"duration\":0,\"redraw\":false},\"mode\":\"immediate\",\"fromcurrent\":true,\"transition\":{\"duration\":0,\"easing\":\"linear\"}}],\"label\":\"2021-08-12\",\"method\":\"animate\"},{\"args\":[[\"2021-08-13\"],{\"frame\":{\"duration\":0,\"redraw\":false},\"mode\":\"immediate\",\"fromcurrent\":true,\"transition\":{\"duration\":0,\"easing\":\"linear\"}}],\"label\":\"2021-08-13\",\"method\":\"animate\"},{\"args\":[[\"2021-08-15\"],{\"frame\":{\"duration\":0,\"redraw\":false},\"mode\":\"immediate\",\"fromcurrent\":true,\"transition\":{\"duration\":0,\"easing\":\"linear\"}}],\"label\":\"2021-08-15\",\"method\":\"animate\"},{\"args\":[[\"2021-08-16\"],{\"frame\":{\"duration\":0,\"redraw\":false},\"mode\":\"immediate\",\"fromcurrent\":true,\"transition\":{\"duration\":0,\"easing\":\"linear\"}}],\"label\":\"2021-08-16\",\"method\":\"animate\"},{\"args\":[[\"2021-08-17\"],{\"frame\":{\"duration\":0,\"redraw\":false},\"mode\":\"immediate\",\"fromcurrent\":true,\"transition\":{\"duration\":0,\"easing\":\"linear\"}}],\"label\":\"2021-08-17\",\"method\":\"animate\"},{\"args\":[[\"2021-08-18\"],{\"frame\":{\"duration\":0,\"redraw\":false},\"mode\":\"immediate\",\"fromcurrent\":true,\"transition\":{\"duration\":0,\"easing\":\"linear\"}}],\"label\":\"2021-08-18\",\"method\":\"animate\"},{\"args\":[[\"2021-08-19\"],{\"frame\":{\"duration\":0,\"redraw\":false},\"mode\":\"immediate\",\"fromcurrent\":true,\"transition\":{\"duration\":0,\"easing\":\"linear\"}}],\"label\":\"2021-08-19\",\"method\":\"animate\"},{\"args\":[[\"2021-08-20\"],{\"frame\":{\"duration\":0,\"redraw\":false},\"mode\":\"immediate\",\"fromcurrent\":true,\"transition\":{\"duration\":0,\"easing\":\"linear\"}}],\"label\":\"2021-08-20\",\"method\":\"animate\"},{\"args\":[[\"2021-08-21\"],{\"frame\":{\"duration\":0,\"redraw\":false},\"mode\":\"immediate\",\"fromcurrent\":true,\"transition\":{\"duration\":0,\"easing\":\"linear\"}}],\"label\":\"2021-08-21\",\"method\":\"animate\"},{\"args\":[[\"2021-08-22\"],{\"frame\":{\"duration\":0,\"redraw\":false},\"mode\":\"immediate\",\"fromcurrent\":true,\"transition\":{\"duration\":0,\"easing\":\"linear\"}}],\"label\":\"2021-08-22\",\"method\":\"animate\"},{\"args\":[[\"2021-08-23\"],{\"frame\":{\"duration\":0,\"redraw\":false},\"mode\":\"immediate\",\"fromcurrent\":true,\"transition\":{\"duration\":0,\"easing\":\"linear\"}}],\"label\":\"2021-08-23\",\"method\":\"animate\"},{\"args\":[[\"2021-08-24\"],{\"frame\":{\"duration\":0,\"redraw\":false},\"mode\":\"immediate\",\"fromcurrent\":true,\"transition\":{\"duration\":0,\"easing\":\"linear\"}}],\"label\":\"2021-08-24\",\"method\":\"animate\"},{\"args\":[[\"2021-08-25\"],{\"frame\":{\"duration\":0,\"redraw\":false},\"mode\":\"immediate\",\"fromcurrent\":true,\"transition\":{\"duration\":0,\"easing\":\"linear\"}}],\"label\":\"2021-08-25\",\"method\":\"animate\"},{\"args\":[[\"2021-08-26\"],{\"frame\":{\"duration\":0,\"redraw\":false},\"mode\":\"immediate\",\"fromcurrent\":true,\"transition\":{\"duration\":0,\"easing\":\"linear\"}}],\"label\":\"2021-08-26\",\"method\":\"animate\"},{\"args\":[[\"2021-08-29\"],{\"frame\":{\"duration\":0,\"redraw\":false},\"mode\":\"immediate\",\"fromcurrent\":true,\"transition\":{\"duration\":0,\"easing\":\"linear\"}}],\"label\":\"2021-08-29\",\"method\":\"animate\"},{\"args\":[[\"2021-08-30\"],{\"frame\":{\"duration\":0,\"redraw\":false},\"mode\":\"immediate\",\"fromcurrent\":true,\"transition\":{\"duration\":0,\"easing\":\"linear\"}}],\"label\":\"2021-08-30\",\"method\":\"animate\"},{\"args\":[[\"2021-08-31\"],{\"frame\":{\"duration\":0,\"redraw\":false},\"mode\":\"immediate\",\"fromcurrent\":true,\"transition\":{\"duration\":0,\"easing\":\"linear\"}}],\"label\":\"2021-08-31\",\"method\":\"animate\"},{\"args\":[[\"2021-09-01\"],{\"frame\":{\"duration\":0,\"redraw\":false},\"mode\":\"immediate\",\"fromcurrent\":true,\"transition\":{\"duration\":0,\"easing\":\"linear\"}}],\"label\":\"2021-09-01\",\"method\":\"animate\"},{\"args\":[[\"2021-09-02\"],{\"frame\":{\"duration\":0,\"redraw\":false},\"mode\":\"immediate\",\"fromcurrent\":true,\"transition\":{\"duration\":0,\"easing\":\"linear\"}}],\"label\":\"2021-09-02\",\"method\":\"animate\"},{\"args\":[[\"2021-09-03\"],{\"frame\":{\"duration\":0,\"redraw\":false},\"mode\":\"immediate\",\"fromcurrent\":true,\"transition\":{\"duration\":0,\"easing\":\"linear\"}}],\"label\":\"2021-09-03\",\"method\":\"animate\"},{\"args\":[[\"2021-09-04\"],{\"frame\":{\"duration\":0,\"redraw\":false},\"mode\":\"immediate\",\"fromcurrent\":true,\"transition\":{\"duration\":0,\"easing\":\"linear\"}}],\"label\":\"2021-09-04\",\"method\":\"animate\"},{\"args\":[[\"2021-09-06\"],{\"frame\":{\"duration\":0,\"redraw\":false},\"mode\":\"immediate\",\"fromcurrent\":true,\"transition\":{\"duration\":0,\"easing\":\"linear\"}}],\"label\":\"2021-09-06\",\"method\":\"animate\"},{\"args\":[[\"2021-09-08\"],{\"frame\":{\"duration\":0,\"redraw\":false},\"mode\":\"immediate\",\"fromcurrent\":true,\"transition\":{\"duration\":0,\"easing\":\"linear\"}}],\"label\":\"2021-09-08\",\"method\":\"animate\"},{\"args\":[[\"2021-09-09\"],{\"frame\":{\"duration\":0,\"redraw\":false},\"mode\":\"immediate\",\"fromcurrent\":true,\"transition\":{\"duration\":0,\"easing\":\"linear\"}}],\"label\":\"2021-09-09\",\"method\":\"animate\"},{\"args\":[[\"2021-09-10\"],{\"frame\":{\"duration\":0,\"redraw\":false},\"mode\":\"immediate\",\"fromcurrent\":true,\"transition\":{\"duration\":0,\"easing\":\"linear\"}}],\"label\":\"2021-09-10\",\"method\":\"animate\"},{\"args\":[[\"2021-09-11\"],{\"frame\":{\"duration\":0,\"redraw\":false},\"mode\":\"immediate\",\"fromcurrent\":true,\"transition\":{\"duration\":0,\"easing\":\"linear\"}}],\"label\":\"2021-09-11\",\"method\":\"animate\"},{\"args\":[[\"2021-09-12\"],{\"frame\":{\"duration\":0,\"redraw\":false},\"mode\":\"immediate\",\"fromcurrent\":true,\"transition\":{\"duration\":0,\"easing\":\"linear\"}}],\"label\":\"2021-09-12\",\"method\":\"animate\"},{\"args\":[[\"2021-09-13\"],{\"frame\":{\"duration\":0,\"redraw\":false},\"mode\":\"immediate\",\"fromcurrent\":true,\"transition\":{\"duration\":0,\"easing\":\"linear\"}}],\"label\":\"2021-09-13\",\"method\":\"animate\"},{\"args\":[[\"2021-09-14\"],{\"frame\":{\"duration\":0,\"redraw\":false},\"mode\":\"immediate\",\"fromcurrent\":true,\"transition\":{\"duration\":0,\"easing\":\"linear\"}}],\"label\":\"2021-09-14\",\"method\":\"animate\"},{\"args\":[[\"2021-09-15\"],{\"frame\":{\"duration\":0,\"redraw\":false},\"mode\":\"immediate\",\"fromcurrent\":true,\"transition\":{\"duration\":0,\"easing\":\"linear\"}}],\"label\":\"2021-09-15\",\"method\":\"animate\"},{\"args\":[[\"2021-09-17\"],{\"frame\":{\"duration\":0,\"redraw\":false},\"mode\":\"immediate\",\"fromcurrent\":true,\"transition\":{\"duration\":0,\"easing\":\"linear\"}}],\"label\":\"2021-09-17\",\"method\":\"animate\"},{\"args\":[[\"2021-09-19\"],{\"frame\":{\"duration\":0,\"redraw\":false},\"mode\":\"immediate\",\"fromcurrent\":true,\"transition\":{\"duration\":0,\"easing\":\"linear\"}}],\"label\":\"2021-09-19\",\"method\":\"animate\"},{\"args\":[[\"2021-09-20\"],{\"frame\":{\"duration\":0,\"redraw\":false},\"mode\":\"immediate\",\"fromcurrent\":true,\"transition\":{\"duration\":0,\"easing\":\"linear\"}}],\"label\":\"2021-09-20\",\"method\":\"animate\"},{\"args\":[[\"2021-09-29\"],{\"frame\":{\"duration\":0,\"redraw\":false},\"mode\":\"immediate\",\"fromcurrent\":true,\"transition\":{\"duration\":0,\"easing\":\"linear\"}}],\"label\":\"2021-09-29\",\"method\":\"animate\"},{\"args\":[[\"2021-10-03\"],{\"frame\":{\"duration\":0,\"redraw\":false},\"mode\":\"immediate\",\"fromcurrent\":true,\"transition\":{\"duration\":0,\"easing\":\"linear\"}}],\"label\":\"2021-10-03\",\"method\":\"animate\"},{\"args\":[[\"2021-10-04\"],{\"frame\":{\"duration\":0,\"redraw\":false},\"mode\":\"immediate\",\"fromcurrent\":true,\"transition\":{\"duration\":0,\"easing\":\"linear\"}}],\"label\":\"2021-10-04\",\"method\":\"animate\"},{\"args\":[[\"2021-10-07\"],{\"frame\":{\"duration\":0,\"redraw\":false},\"mode\":\"immediate\",\"fromcurrent\":true,\"transition\":{\"duration\":0,\"easing\":\"linear\"}}],\"label\":\"2021-10-07\",\"method\":\"animate\"},{\"args\":[[\"2021-10-08\"],{\"frame\":{\"duration\":0,\"redraw\":false},\"mode\":\"immediate\",\"fromcurrent\":true,\"transition\":{\"duration\":0,\"easing\":\"linear\"}}],\"label\":\"2021-10-08\",\"method\":\"animate\"},{\"args\":[[\"2021-10-09\"],{\"frame\":{\"duration\":0,\"redraw\":false},\"mode\":\"immediate\",\"fromcurrent\":true,\"transition\":{\"duration\":0,\"easing\":\"linear\"}}],\"label\":\"2021-10-09\",\"method\":\"animate\"},{\"args\":[[\"2021-10-10\"],{\"frame\":{\"duration\":0,\"redraw\":false},\"mode\":\"immediate\",\"fromcurrent\":true,\"transition\":{\"duration\":0,\"easing\":\"linear\"}}],\"label\":\"2021-10-10\",\"method\":\"animate\"},{\"args\":[[\"2021-10-11\"],{\"frame\":{\"duration\":0,\"redraw\":false},\"mode\":\"immediate\",\"fromcurrent\":true,\"transition\":{\"duration\":0,\"easing\":\"linear\"}}],\"label\":\"2021-10-11\",\"method\":\"animate\"},{\"args\":[[\"2021-10-12\"],{\"frame\":{\"duration\":0,\"redraw\":false},\"mode\":\"immediate\",\"fromcurrent\":true,\"transition\":{\"duration\":0,\"easing\":\"linear\"}}],\"label\":\"2021-10-12\",\"method\":\"animate\"},{\"args\":[[\"2021-10-14\"],{\"frame\":{\"duration\":0,\"redraw\":false},\"mode\":\"immediate\",\"fromcurrent\":true,\"transition\":{\"duration\":0,\"easing\":\"linear\"}}],\"label\":\"2021-10-14\",\"method\":\"animate\"},{\"args\":[[\"2021-10-15\"],{\"frame\":{\"duration\":0,\"redraw\":false},\"mode\":\"immediate\",\"fromcurrent\":true,\"transition\":{\"duration\":0,\"easing\":\"linear\"}}],\"label\":\"2021-10-15\",\"method\":\"animate\"},{\"args\":[[\"2021-10-16\"],{\"frame\":{\"duration\":0,\"redraw\":false},\"mode\":\"immediate\",\"fromcurrent\":true,\"transition\":{\"duration\":0,\"easing\":\"linear\"}}],\"label\":\"2021-10-16\",\"method\":\"animate\"},{\"args\":[[\"2021-10-17\"],{\"frame\":{\"duration\":0,\"redraw\":false},\"mode\":\"immediate\",\"fromcurrent\":true,\"transition\":{\"duration\":0,\"easing\":\"linear\"}}],\"label\":\"2021-10-17\",\"method\":\"animate\"},{\"args\":[[\"2021-10-18\"],{\"frame\":{\"duration\":0,\"redraw\":false},\"mode\":\"immediate\",\"fromcurrent\":true,\"transition\":{\"duration\":0,\"easing\":\"linear\"}}],\"label\":\"2021-10-18\",\"method\":\"animate\"},{\"args\":[[\"2021-10-20\"],{\"frame\":{\"duration\":0,\"redraw\":false},\"mode\":\"immediate\",\"fromcurrent\":true,\"transition\":{\"duration\":0,\"easing\":\"linear\"}}],\"label\":\"2021-10-20\",\"method\":\"animate\"},{\"args\":[[\"2021-10-21\"],{\"frame\":{\"duration\":0,\"redraw\":false},\"mode\":\"immediate\",\"fromcurrent\":true,\"transition\":{\"duration\":0,\"easing\":\"linear\"}}],\"label\":\"2021-10-21\",\"method\":\"animate\"},{\"args\":[[\"2021-10-22\"],{\"frame\":{\"duration\":0,\"redraw\":false},\"mode\":\"immediate\",\"fromcurrent\":true,\"transition\":{\"duration\":0,\"easing\":\"linear\"}}],\"label\":\"2021-10-22\",\"method\":\"animate\"},{\"args\":[[\"2021-10-23\"],{\"frame\":{\"duration\":0,\"redraw\":false},\"mode\":\"immediate\",\"fromcurrent\":true,\"transition\":{\"duration\":0,\"easing\":\"linear\"}}],\"label\":\"2021-10-23\",\"method\":\"animate\"},{\"args\":[[\"2021-10-24\"],{\"frame\":{\"duration\":0,\"redraw\":false},\"mode\":\"immediate\",\"fromcurrent\":true,\"transition\":{\"duration\":0,\"easing\":\"linear\"}}],\"label\":\"2021-10-24\",\"method\":\"animate\"},{\"args\":[[\"2021-10-25\"],{\"frame\":{\"duration\":0,\"redraw\":false},\"mode\":\"immediate\",\"fromcurrent\":true,\"transition\":{\"duration\":0,\"easing\":\"linear\"}}],\"label\":\"2021-10-25\",\"method\":\"animate\"},{\"args\":[[\"2021-10-26\"],{\"frame\":{\"duration\":0,\"redraw\":false},\"mode\":\"immediate\",\"fromcurrent\":true,\"transition\":{\"duration\":0,\"easing\":\"linear\"}}],\"label\":\"2021-10-26\",\"method\":\"animate\"},{\"args\":[[\"2021-10-27\"],{\"frame\":{\"duration\":0,\"redraw\":false},\"mode\":\"immediate\",\"fromcurrent\":true,\"transition\":{\"duration\":0,\"easing\":\"linear\"}}],\"label\":\"2021-10-27\",\"method\":\"animate\"},{\"args\":[[\"2021-10-28\"],{\"frame\":{\"duration\":0,\"redraw\":false},\"mode\":\"immediate\",\"fromcurrent\":true,\"transition\":{\"duration\":0,\"easing\":\"linear\"}}],\"label\":\"2021-10-28\",\"method\":\"animate\"},{\"args\":[[\"2021-10-29\"],{\"frame\":{\"duration\":0,\"redraw\":false},\"mode\":\"immediate\",\"fromcurrent\":true,\"transition\":{\"duration\":0,\"easing\":\"linear\"}}],\"label\":\"2021-10-29\",\"method\":\"animate\"},{\"args\":[[\"2021-11-01\"],{\"frame\":{\"duration\":0,\"redraw\":false},\"mode\":\"immediate\",\"fromcurrent\":true,\"transition\":{\"duration\":0,\"easing\":\"linear\"}}],\"label\":\"2021-11-01\",\"method\":\"animate\"},{\"args\":[[\"2021-11-04\"],{\"frame\":{\"duration\":0,\"redraw\":false},\"mode\":\"immediate\",\"fromcurrent\":true,\"transition\":{\"duration\":0,\"easing\":\"linear\"}}],\"label\":\"2021-11-04\",\"method\":\"animate\"},{\"args\":[[\"2021-11-05\"],{\"frame\":{\"duration\":0,\"redraw\":false},\"mode\":\"immediate\",\"fromcurrent\":true,\"transition\":{\"duration\":0,\"easing\":\"linear\"}}],\"label\":\"2021-11-05\",\"method\":\"animate\"},{\"args\":[[\"2021-11-08\"],{\"frame\":{\"duration\":0,\"redraw\":false},\"mode\":\"immediate\",\"fromcurrent\":true,\"transition\":{\"duration\":0,\"easing\":\"linear\"}}],\"label\":\"2021-11-08\",\"method\":\"animate\"},{\"args\":[[\"2021-11-09\"],{\"frame\":{\"duration\":0,\"redraw\":false},\"mode\":\"immediate\",\"fromcurrent\":true,\"transition\":{\"duration\":0,\"easing\":\"linear\"}}],\"label\":\"2021-11-09\",\"method\":\"animate\"},{\"args\":[[\"2021-11-11\"],{\"frame\":{\"duration\":0,\"redraw\":false},\"mode\":\"immediate\",\"fromcurrent\":true,\"transition\":{\"duration\":0,\"easing\":\"linear\"}}],\"label\":\"2021-11-11\",\"method\":\"animate\"},{\"args\":[[\"2021-11-12\"],{\"frame\":{\"duration\":0,\"redraw\":false},\"mode\":\"immediate\",\"fromcurrent\":true,\"transition\":{\"duration\":0,\"easing\":\"linear\"}}],\"label\":\"2021-11-12\",\"method\":\"animate\"},{\"args\":[[\"2021-11-15\"],{\"frame\":{\"duration\":0,\"redraw\":false},\"mode\":\"immediate\",\"fromcurrent\":true,\"transition\":{\"duration\":0,\"easing\":\"linear\"}}],\"label\":\"2021-11-15\",\"method\":\"animate\"},{\"args\":[[\"2021-11-17\"],{\"frame\":{\"duration\":0,\"redraw\":false},\"mode\":\"immediate\",\"fromcurrent\":true,\"transition\":{\"duration\":0,\"easing\":\"linear\"}}],\"label\":\"2021-11-17\",\"method\":\"animate\"},{\"args\":[[\"2021-11-18\"],{\"frame\":{\"duration\":0,\"redraw\":false},\"mode\":\"immediate\",\"fromcurrent\":true,\"transition\":{\"duration\":0,\"easing\":\"linear\"}}],\"label\":\"2021-11-18\",\"method\":\"animate\"},{\"args\":[[\"2021-11-19\"],{\"frame\":{\"duration\":0,\"redraw\":false},\"mode\":\"immediate\",\"fromcurrent\":true,\"transition\":{\"duration\":0,\"easing\":\"linear\"}}],\"label\":\"2021-11-19\",\"method\":\"animate\"},{\"args\":[[\"2021-11-20\"],{\"frame\":{\"duration\":0,\"redraw\":false},\"mode\":\"immediate\",\"fromcurrent\":true,\"transition\":{\"duration\":0,\"easing\":\"linear\"}}],\"label\":\"2021-11-20\",\"method\":\"animate\"},{\"args\":[[\"2021-11-21\"],{\"frame\":{\"duration\":0,\"redraw\":false},\"mode\":\"immediate\",\"fromcurrent\":true,\"transition\":{\"duration\":0,\"easing\":\"linear\"}}],\"label\":\"2021-11-21\",\"method\":\"animate\"},{\"args\":[[\"2021-11-24\"],{\"frame\":{\"duration\":0,\"redraw\":false},\"mode\":\"immediate\",\"fromcurrent\":true,\"transition\":{\"duration\":0,\"easing\":\"linear\"}}],\"label\":\"2021-11-24\",\"method\":\"animate\"},{\"args\":[[\"2021-11-27\"],{\"frame\":{\"duration\":0,\"redraw\":false},\"mode\":\"immediate\",\"fromcurrent\":true,\"transition\":{\"duration\":0,\"easing\":\"linear\"}}],\"label\":\"2021-11-27\",\"method\":\"animate\"},{\"args\":[[\"2021-11-30\"],{\"frame\":{\"duration\":0,\"redraw\":false},\"mode\":\"immediate\",\"fromcurrent\":true,\"transition\":{\"duration\":0,\"easing\":\"linear\"}}],\"label\":\"2021-11-30\",\"method\":\"animate\"},{\"args\":[[\"2021-12-01\"],{\"frame\":{\"duration\":0,\"redraw\":false},\"mode\":\"immediate\",\"fromcurrent\":true,\"transition\":{\"duration\":0,\"easing\":\"linear\"}}],\"label\":\"2021-12-01\",\"method\":\"animate\"},{\"args\":[[\"2021-12-02\"],{\"frame\":{\"duration\":0,\"redraw\":false},\"mode\":\"immediate\",\"fromcurrent\":true,\"transition\":{\"duration\":0,\"easing\":\"linear\"}}],\"label\":\"2021-12-02\",\"method\":\"animate\"},{\"args\":[[\"2021-12-04\"],{\"frame\":{\"duration\":0,\"redraw\":false},\"mode\":\"immediate\",\"fromcurrent\":true,\"transition\":{\"duration\":0,\"easing\":\"linear\"}}],\"label\":\"2021-12-04\",\"method\":\"animate\"},{\"args\":[[\"2021-12-05\"],{\"frame\":{\"duration\":0,\"redraw\":false},\"mode\":\"immediate\",\"fromcurrent\":true,\"transition\":{\"duration\":0,\"easing\":\"linear\"}}],\"label\":\"2021-12-05\",\"method\":\"animate\"},{\"args\":[[\"2021-12-10\"],{\"frame\":{\"duration\":0,\"redraw\":false},\"mode\":\"immediate\",\"fromcurrent\":true,\"transition\":{\"duration\":0,\"easing\":\"linear\"}}],\"label\":\"2021-12-10\",\"method\":\"animate\"},{\"args\":[[\"2021-12-11\"],{\"frame\":{\"duration\":0,\"redraw\":false},\"mode\":\"immediate\",\"fromcurrent\":true,\"transition\":{\"duration\":0,\"easing\":\"linear\"}}],\"label\":\"2021-12-11\",\"method\":\"animate\"},{\"args\":[[\"2021-12-14\"],{\"frame\":{\"duration\":0,\"redraw\":false},\"mode\":\"immediate\",\"fromcurrent\":true,\"transition\":{\"duration\":0,\"easing\":\"linear\"}}],\"label\":\"2021-12-14\",\"method\":\"animate\"},{\"args\":[[\"2021-12-16\"],{\"frame\":{\"duration\":0,\"redraw\":false},\"mode\":\"immediate\",\"fromcurrent\":true,\"transition\":{\"duration\":0,\"easing\":\"linear\"}}],\"label\":\"2021-12-16\",\"method\":\"animate\"},{\"args\":[[\"2021-12-17\"],{\"frame\":{\"duration\":0,\"redraw\":false},\"mode\":\"immediate\",\"fromcurrent\":true,\"transition\":{\"duration\":0,\"easing\":\"linear\"}}],\"label\":\"2021-12-17\",\"method\":\"animate\"},{\"args\":[[\"2021-12-19\"],{\"frame\":{\"duration\":0,\"redraw\":false},\"mode\":\"immediate\",\"fromcurrent\":true,\"transition\":{\"duration\":0,\"easing\":\"linear\"}}],\"label\":\"2021-12-19\",\"method\":\"animate\"},{\"args\":[[\"2021-12-21\"],{\"frame\":{\"duration\":0,\"redraw\":false},\"mode\":\"immediate\",\"fromcurrent\":true,\"transition\":{\"duration\":0,\"easing\":\"linear\"}}],\"label\":\"2021-12-21\",\"method\":\"animate\"},{\"args\":[[\"2021-12-24\"],{\"frame\":{\"duration\":0,\"redraw\":false},\"mode\":\"immediate\",\"fromcurrent\":true,\"transition\":{\"duration\":0,\"easing\":\"linear\"}}],\"label\":\"2021-12-24\",\"method\":\"animate\"},{\"args\":[[\"2021-12-26\"],{\"frame\":{\"duration\":0,\"redraw\":false},\"mode\":\"immediate\",\"fromcurrent\":true,\"transition\":{\"duration\":0,\"easing\":\"linear\"}}],\"label\":\"2021-12-26\",\"method\":\"animate\"},{\"args\":[[\"2021-12-30\"],{\"frame\":{\"duration\":0,\"redraw\":false},\"mode\":\"immediate\",\"fromcurrent\":true,\"transition\":{\"duration\":0,\"easing\":\"linear\"}}],\"label\":\"2021-12-30\",\"method\":\"animate\"},{\"args\":[[\"2021-12-31\"],{\"frame\":{\"duration\":0,\"redraw\":false},\"mode\":\"immediate\",\"fromcurrent\":true,\"transition\":{\"duration\":0,\"easing\":\"linear\"}}],\"label\":\"2021-12-31\",\"method\":\"animate\"},{\"args\":[[\"2022-01-03\"],{\"frame\":{\"duration\":0,\"redraw\":false},\"mode\":\"immediate\",\"fromcurrent\":true,\"transition\":{\"duration\":0,\"easing\":\"linear\"}}],\"label\":\"2022-01-03\",\"method\":\"animate\"},{\"args\":[[\"2022-01-04\"],{\"frame\":{\"duration\":0,\"redraw\":false},\"mode\":\"immediate\",\"fromcurrent\":true,\"transition\":{\"duration\":0,\"easing\":\"linear\"}}],\"label\":\"2022-01-04\",\"method\":\"animate\"},{\"args\":[[\"2022-01-05\"],{\"frame\":{\"duration\":0,\"redraw\":false},\"mode\":\"immediate\",\"fromcurrent\":true,\"transition\":{\"duration\":0,\"easing\":\"linear\"}}],\"label\":\"2022-01-05\",\"method\":\"animate\"},{\"args\":[[\"2022-01-06\"],{\"frame\":{\"duration\":0,\"redraw\":false},\"mode\":\"immediate\",\"fromcurrent\":true,\"transition\":{\"duration\":0,\"easing\":\"linear\"}}],\"label\":\"2022-01-06\",\"method\":\"animate\"},{\"args\":[[\"2022-01-11\"],{\"frame\":{\"duration\":0,\"redraw\":false},\"mode\":\"immediate\",\"fromcurrent\":true,\"transition\":{\"duration\":0,\"easing\":\"linear\"}}],\"label\":\"2022-01-11\",\"method\":\"animate\"},{\"args\":[[\"2022-01-12\"],{\"frame\":{\"duration\":0,\"redraw\":false},\"mode\":\"immediate\",\"fromcurrent\":true,\"transition\":{\"duration\":0,\"easing\":\"linear\"}}],\"label\":\"2022-01-12\",\"method\":\"animate\"},{\"args\":[[\"2022-01-16\"],{\"frame\":{\"duration\":0,\"redraw\":false},\"mode\":\"immediate\",\"fromcurrent\":true,\"transition\":{\"duration\":0,\"easing\":\"linear\"}}],\"label\":\"2022-01-16\",\"method\":\"animate\"},{\"args\":[[\"2022-01-17\"],{\"frame\":{\"duration\":0,\"redraw\":false},\"mode\":\"immediate\",\"fromcurrent\":true,\"transition\":{\"duration\":0,\"easing\":\"linear\"}}],\"label\":\"2022-01-17\",\"method\":\"animate\"},{\"args\":[[\"2022-01-18\"],{\"frame\":{\"duration\":0,\"redraw\":false},\"mode\":\"immediate\",\"fromcurrent\":true,\"transition\":{\"duration\":0,\"easing\":\"linear\"}}],\"label\":\"2022-01-18\",\"method\":\"animate\"},{\"args\":[[\"2022-01-19\"],{\"frame\":{\"duration\":0,\"redraw\":false},\"mode\":\"immediate\",\"fromcurrent\":true,\"transition\":{\"duration\":0,\"easing\":\"linear\"}}],\"label\":\"2022-01-19\",\"method\":\"animate\"},{\"args\":[[\"2022-01-20\"],{\"frame\":{\"duration\":0,\"redraw\":false},\"mode\":\"immediate\",\"fromcurrent\":true,\"transition\":{\"duration\":0,\"easing\":\"linear\"}}],\"label\":\"2022-01-20\",\"method\":\"animate\"},{\"args\":[[\"2022-01-21\"],{\"frame\":{\"duration\":0,\"redraw\":false},\"mode\":\"immediate\",\"fromcurrent\":true,\"transition\":{\"duration\":0,\"easing\":\"linear\"}}],\"label\":\"2022-01-21\",\"method\":\"animate\"},{\"args\":[[\"2022-01-22\"],{\"frame\":{\"duration\":0,\"redraw\":false},\"mode\":\"immediate\",\"fromcurrent\":true,\"transition\":{\"duration\":0,\"easing\":\"linear\"}}],\"label\":\"2022-01-22\",\"method\":\"animate\"},{\"args\":[[\"2022-01-23\"],{\"frame\":{\"duration\":0,\"redraw\":false},\"mode\":\"immediate\",\"fromcurrent\":true,\"transition\":{\"duration\":0,\"easing\":\"linear\"}}],\"label\":\"2022-01-23\",\"method\":\"animate\"},{\"args\":[[\"2022-01-24\"],{\"frame\":{\"duration\":0,\"redraw\":false},\"mode\":\"immediate\",\"fromcurrent\":true,\"transition\":{\"duration\":0,\"easing\":\"linear\"}}],\"label\":\"2022-01-24\",\"method\":\"animate\"},{\"args\":[[\"2022-01-26\"],{\"frame\":{\"duration\":0,\"redraw\":false},\"mode\":\"immediate\",\"fromcurrent\":true,\"transition\":{\"duration\":0,\"easing\":\"linear\"}}],\"label\":\"2022-01-26\",\"method\":\"animate\"},{\"args\":[[\"2022-01-27\"],{\"frame\":{\"duration\":0,\"redraw\":false},\"mode\":\"immediate\",\"fromcurrent\":true,\"transition\":{\"duration\":0,\"easing\":\"linear\"}}],\"label\":\"2022-01-27\",\"method\":\"animate\"},{\"args\":[[\"2022-01-29\"],{\"frame\":{\"duration\":0,\"redraw\":false},\"mode\":\"immediate\",\"fromcurrent\":true,\"transition\":{\"duration\":0,\"easing\":\"linear\"}}],\"label\":\"2022-01-29\",\"method\":\"animate\"},{\"args\":[[\"2022-01-31\"],{\"frame\":{\"duration\":0,\"redraw\":false},\"mode\":\"immediate\",\"fromcurrent\":true,\"transition\":{\"duration\":0,\"easing\":\"linear\"}}],\"label\":\"2022-01-31\",\"method\":\"animate\"},{\"args\":[[\"2022-02-04\"],{\"frame\":{\"duration\":0,\"redraw\":false},\"mode\":\"immediate\",\"fromcurrent\":true,\"transition\":{\"duration\":0,\"easing\":\"linear\"}}],\"label\":\"2022-02-04\",\"method\":\"animate\"},{\"args\":[[\"2022-02-05\"],{\"frame\":{\"duration\":0,\"redraw\":false},\"mode\":\"immediate\",\"fromcurrent\":true,\"transition\":{\"duration\":0,\"easing\":\"linear\"}}],\"label\":\"2022-02-05\",\"method\":\"animate\"},{\"args\":[[\"2022-02-06\"],{\"frame\":{\"duration\":0,\"redraw\":false},\"mode\":\"immediate\",\"fromcurrent\":true,\"transition\":{\"duration\":0,\"easing\":\"linear\"}}],\"label\":\"2022-02-06\",\"method\":\"animate\"},{\"args\":[[\"2022-02-09\"],{\"frame\":{\"duration\":0,\"redraw\":false},\"mode\":\"immediate\",\"fromcurrent\":true,\"transition\":{\"duration\":0,\"easing\":\"linear\"}}],\"label\":\"2022-02-09\",\"method\":\"animate\"},{\"args\":[[\"2022-02-10\"],{\"frame\":{\"duration\":0,\"redraw\":false},\"mode\":\"immediate\",\"fromcurrent\":true,\"transition\":{\"duration\":0,\"easing\":\"linear\"}}],\"label\":\"2022-02-10\",\"method\":\"animate\"},{\"args\":[[\"2022-02-11\"],{\"frame\":{\"duration\":0,\"redraw\":false},\"mode\":\"immediate\",\"fromcurrent\":true,\"transition\":{\"duration\":0,\"easing\":\"linear\"}}],\"label\":\"2022-02-11\",\"method\":\"animate\"},{\"args\":[[\"2022-02-13\"],{\"frame\":{\"duration\":0,\"redraw\":false},\"mode\":\"immediate\",\"fromcurrent\":true,\"transition\":{\"duration\":0,\"easing\":\"linear\"}}],\"label\":\"2022-02-13\",\"method\":\"animate\"},{\"args\":[[\"2022-02-16\"],{\"frame\":{\"duration\":0,\"redraw\":false},\"mode\":\"immediate\",\"fromcurrent\":true,\"transition\":{\"duration\":0,\"easing\":\"linear\"}}],\"label\":\"2022-02-16\",\"method\":\"animate\"},{\"args\":[[\"2022-02-17\"],{\"frame\":{\"duration\":0,\"redraw\":false},\"mode\":\"immediate\",\"fromcurrent\":true,\"transition\":{\"duration\":0,\"easing\":\"linear\"}}],\"label\":\"2022-02-17\",\"method\":\"animate\"},{\"args\":[[\"2022-02-18\"],{\"frame\":{\"duration\":0,\"redraw\":false},\"mode\":\"immediate\",\"fromcurrent\":true,\"transition\":{\"duration\":0,\"easing\":\"linear\"}}],\"label\":\"2022-02-18\",\"method\":\"animate\"},{\"args\":[[\"2022-02-22\"],{\"frame\":{\"duration\":0,\"redraw\":false},\"mode\":\"immediate\",\"fromcurrent\":true,\"transition\":{\"duration\":0,\"easing\":\"linear\"}}],\"label\":\"2022-02-22\",\"method\":\"animate\"},{\"args\":[[\"2022-03-01\"],{\"frame\":{\"duration\":0,\"redraw\":false},\"mode\":\"immediate\",\"fromcurrent\":true,\"transition\":{\"duration\":0,\"easing\":\"linear\"}}],\"label\":\"2022-03-01\",\"method\":\"animate\"},{\"args\":[[\"2022-03-03\"],{\"frame\":{\"duration\":0,\"redraw\":false},\"mode\":\"immediate\",\"fromcurrent\":true,\"transition\":{\"duration\":0,\"easing\":\"linear\"}}],\"label\":\"2022-03-03\",\"method\":\"animate\"},{\"args\":[[\"2022-03-04\"],{\"frame\":{\"duration\":0,\"redraw\":false},\"mode\":\"immediate\",\"fromcurrent\":true,\"transition\":{\"duration\":0,\"easing\":\"linear\"}}],\"label\":\"2022-03-04\",\"method\":\"animate\"},{\"args\":[[\"2022-03-06\"],{\"frame\":{\"duration\":0,\"redraw\":false},\"mode\":\"immediate\",\"fromcurrent\":true,\"transition\":{\"duration\":0,\"easing\":\"linear\"}}],\"label\":\"2022-03-06\",\"method\":\"animate\"},{\"args\":[[\"2022-03-07\"],{\"frame\":{\"duration\":0,\"redraw\":false},\"mode\":\"immediate\",\"fromcurrent\":true,\"transition\":{\"duration\":0,\"easing\":\"linear\"}}],\"label\":\"2022-03-07\",\"method\":\"animate\"},{\"args\":[[\"2022-03-08\"],{\"frame\":{\"duration\":0,\"redraw\":false},\"mode\":\"immediate\",\"fromcurrent\":true,\"transition\":{\"duration\":0,\"easing\":\"linear\"}}],\"label\":\"2022-03-08\",\"method\":\"animate\"},{\"args\":[[\"2022-03-09\"],{\"frame\":{\"duration\":0,\"redraw\":false},\"mode\":\"immediate\",\"fromcurrent\":true,\"transition\":{\"duration\":0,\"easing\":\"linear\"}}],\"label\":\"2022-03-09\",\"method\":\"animate\"},{\"args\":[[\"2022-03-11\"],{\"frame\":{\"duration\":0,\"redraw\":false},\"mode\":\"immediate\",\"fromcurrent\":true,\"transition\":{\"duration\":0,\"easing\":\"linear\"}}],\"label\":\"2022-03-11\",\"method\":\"animate\"},{\"args\":[[\"2022-03-12\"],{\"frame\":{\"duration\":0,\"redraw\":false},\"mode\":\"immediate\",\"fromcurrent\":true,\"transition\":{\"duration\":0,\"easing\":\"linear\"}}],\"label\":\"2022-03-12\",\"method\":\"animate\"},{\"args\":[[\"2022-03-15\"],{\"frame\":{\"duration\":0,\"redraw\":false},\"mode\":\"immediate\",\"fromcurrent\":true,\"transition\":{\"duration\":0,\"easing\":\"linear\"}}],\"label\":\"2022-03-15\",\"method\":\"animate\"},{\"args\":[[\"2022-03-21\"],{\"frame\":{\"duration\":0,\"redraw\":false},\"mode\":\"immediate\",\"fromcurrent\":true,\"transition\":{\"duration\":0,\"easing\":\"linear\"}}],\"label\":\"2022-03-21\",\"method\":\"animate\"},{\"args\":[[\"2022-03-22\"],{\"frame\":{\"duration\":0,\"redraw\":false},\"mode\":\"immediate\",\"fromcurrent\":true,\"transition\":{\"duration\":0,\"easing\":\"linear\"}}],\"label\":\"2022-03-22\",\"method\":\"animate\"},{\"args\":[[\"2022-03-23\"],{\"frame\":{\"duration\":0,\"redraw\":false},\"mode\":\"immediate\",\"fromcurrent\":true,\"transition\":{\"duration\":0,\"easing\":\"linear\"}}],\"label\":\"2022-03-23\",\"method\":\"animate\"},{\"args\":[[\"2022-03-24\"],{\"frame\":{\"duration\":0,\"redraw\":false},\"mode\":\"immediate\",\"fromcurrent\":true,\"transition\":{\"duration\":0,\"easing\":\"linear\"}}],\"label\":\"2022-03-24\",\"method\":\"animate\"},{\"args\":[[\"2022-03-25\"],{\"frame\":{\"duration\":0,\"redraw\":false},\"mode\":\"immediate\",\"fromcurrent\":true,\"transition\":{\"duration\":0,\"easing\":\"linear\"}}],\"label\":\"2022-03-25\",\"method\":\"animate\"},{\"args\":[[\"2022-03-30\"],{\"frame\":{\"duration\":0,\"redraw\":false},\"mode\":\"immediate\",\"fromcurrent\":true,\"transition\":{\"duration\":0,\"easing\":\"linear\"}}],\"label\":\"2022-03-30\",\"method\":\"animate\"},{\"args\":[[\"2022-03-31\"],{\"frame\":{\"duration\":0,\"redraw\":false},\"mode\":\"immediate\",\"fromcurrent\":true,\"transition\":{\"duration\":0,\"easing\":\"linear\"}}],\"label\":\"2022-03-31\",\"method\":\"animate\"},{\"args\":[[\"2022-04-01\"],{\"frame\":{\"duration\":0,\"redraw\":false},\"mode\":\"immediate\",\"fromcurrent\":true,\"transition\":{\"duration\":0,\"easing\":\"linear\"}}],\"label\":\"2022-04-01\",\"method\":\"animate\"},{\"args\":[[\"2022-04-02\"],{\"frame\":{\"duration\":0,\"redraw\":false},\"mode\":\"immediate\",\"fromcurrent\":true,\"transition\":{\"duration\":0,\"easing\":\"linear\"}}],\"label\":\"2022-04-02\",\"method\":\"animate\"},{\"args\":[[\"2022-04-03\"],{\"frame\":{\"duration\":0,\"redraw\":false},\"mode\":\"immediate\",\"fromcurrent\":true,\"transition\":{\"duration\":0,\"easing\":\"linear\"}}],\"label\":\"2022-04-03\",\"method\":\"animate\"},{\"args\":[[\"2022-04-04\"],{\"frame\":{\"duration\":0,\"redraw\":false},\"mode\":\"immediate\",\"fromcurrent\":true,\"transition\":{\"duration\":0,\"easing\":\"linear\"}}],\"label\":\"2022-04-04\",\"method\":\"animate\"},{\"args\":[[\"2022-04-05\"],{\"frame\":{\"duration\":0,\"redraw\":false},\"mode\":\"immediate\",\"fromcurrent\":true,\"transition\":{\"duration\":0,\"easing\":\"linear\"}}],\"label\":\"2022-04-05\",\"method\":\"animate\"},{\"args\":[[\"2022-04-07\"],{\"frame\":{\"duration\":0,\"redraw\":false},\"mode\":\"immediate\",\"fromcurrent\":true,\"transition\":{\"duration\":0,\"easing\":\"linear\"}}],\"label\":\"2022-04-07\",\"method\":\"animate\"},{\"args\":[[\"2022-04-08\"],{\"frame\":{\"duration\":0,\"redraw\":false},\"mode\":\"immediate\",\"fromcurrent\":true,\"transition\":{\"duration\":0,\"easing\":\"linear\"}}],\"label\":\"2022-04-08\",\"method\":\"animate\"},{\"args\":[[\"2022-04-11\"],{\"frame\":{\"duration\":0,\"redraw\":false},\"mode\":\"immediate\",\"fromcurrent\":true,\"transition\":{\"duration\":0,\"easing\":\"linear\"}}],\"label\":\"2022-04-11\",\"method\":\"animate\"},{\"args\":[[\"2022-04-13\"],{\"frame\":{\"duration\":0,\"redraw\":false},\"mode\":\"immediate\",\"fromcurrent\":true,\"transition\":{\"duration\":0,\"easing\":\"linear\"}}],\"label\":\"2022-04-13\",\"method\":\"animate\"},{\"args\":[[\"2022-04-15\"],{\"frame\":{\"duration\":0,\"redraw\":false},\"mode\":\"immediate\",\"fromcurrent\":true,\"transition\":{\"duration\":0,\"easing\":\"linear\"}}],\"label\":\"2022-04-15\",\"method\":\"animate\"},{\"args\":[[\"2022-04-17\"],{\"frame\":{\"duration\":0,\"redraw\":false},\"mode\":\"immediate\",\"fromcurrent\":true,\"transition\":{\"duration\":0,\"easing\":\"linear\"}}],\"label\":\"2022-04-17\",\"method\":\"animate\"},{\"args\":[[\"2022-04-18\"],{\"frame\":{\"duration\":0,\"redraw\":false},\"mode\":\"immediate\",\"fromcurrent\":true,\"transition\":{\"duration\":0,\"easing\":\"linear\"}}],\"label\":\"2022-04-18\",\"method\":\"animate\"},{\"args\":[[\"2022-04-19\"],{\"frame\":{\"duration\":0,\"redraw\":false},\"mode\":\"immediate\",\"fromcurrent\":true,\"transition\":{\"duration\":0,\"easing\":\"linear\"}}],\"label\":\"2022-04-19\",\"method\":\"animate\"},{\"args\":[[\"2022-04-20\"],{\"frame\":{\"duration\":0,\"redraw\":false},\"mode\":\"immediate\",\"fromcurrent\":true,\"transition\":{\"duration\":0,\"easing\":\"linear\"}}],\"label\":\"2022-04-20\",\"method\":\"animate\"},{\"args\":[[\"2022-04-21\"],{\"frame\":{\"duration\":0,\"redraw\":false},\"mode\":\"immediate\",\"fromcurrent\":true,\"transition\":{\"duration\":0,\"easing\":\"linear\"}}],\"label\":\"2022-04-21\",\"method\":\"animate\"},{\"args\":[[\"2022-04-22\"],{\"frame\":{\"duration\":0,\"redraw\":false},\"mode\":\"immediate\",\"fromcurrent\":true,\"transition\":{\"duration\":0,\"easing\":\"linear\"}}],\"label\":\"2022-04-22\",\"method\":\"animate\"},{\"args\":[[\"2022-04-25\"],{\"frame\":{\"duration\":0,\"redraw\":false},\"mode\":\"immediate\",\"fromcurrent\":true,\"transition\":{\"duration\":0,\"easing\":\"linear\"}}],\"label\":\"2022-04-25\",\"method\":\"animate\"},{\"args\":[[\"2022-04-27\"],{\"frame\":{\"duration\":0,\"redraw\":false},\"mode\":\"immediate\",\"fromcurrent\":true,\"transition\":{\"duration\":0,\"easing\":\"linear\"}}],\"label\":\"2022-04-27\",\"method\":\"animate\"},{\"args\":[[\"2022-04-29\"],{\"frame\":{\"duration\":0,\"redraw\":false},\"mode\":\"immediate\",\"fromcurrent\":true,\"transition\":{\"duration\":0,\"easing\":\"linear\"}}],\"label\":\"2022-04-29\",\"method\":\"animate\"},{\"args\":[[\"2022-04-30\"],{\"frame\":{\"duration\":0,\"redraw\":false},\"mode\":\"immediate\",\"fromcurrent\":true,\"transition\":{\"duration\":0,\"easing\":\"linear\"}}],\"label\":\"2022-04-30\",\"method\":\"animate\"},{\"args\":[[\"2022-05-02\"],{\"frame\":{\"duration\":0,\"redraw\":false},\"mode\":\"immediate\",\"fromcurrent\":true,\"transition\":{\"duration\":0,\"easing\":\"linear\"}}],\"label\":\"2022-05-02\",\"method\":\"animate\"},{\"args\":[[\"2022-05-05\"],{\"frame\":{\"duration\":0,\"redraw\":false},\"mode\":\"immediate\",\"fromcurrent\":true,\"transition\":{\"duration\":0,\"easing\":\"linear\"}}],\"label\":\"2022-05-05\",\"method\":\"animate\"},{\"args\":[[\"2022-05-08\"],{\"frame\":{\"duration\":0,\"redraw\":false},\"mode\":\"immediate\",\"fromcurrent\":true,\"transition\":{\"duration\":0,\"easing\":\"linear\"}}],\"label\":\"2022-05-08\",\"method\":\"animate\"},{\"args\":[[\"2022-05-10\"],{\"frame\":{\"duration\":0,\"redraw\":false},\"mode\":\"immediate\",\"fromcurrent\":true,\"transition\":{\"duration\":0,\"easing\":\"linear\"}}],\"label\":\"2022-05-10\",\"method\":\"animate\"},{\"args\":[[\"2022-05-13\"],{\"frame\":{\"duration\":0,\"redraw\":false},\"mode\":\"immediate\",\"fromcurrent\":true,\"transition\":{\"duration\":0,\"easing\":\"linear\"}}],\"label\":\"2022-05-13\",\"method\":\"animate\"},{\"args\":[[\"2022-05-17\"],{\"frame\":{\"duration\":0,\"redraw\":false},\"mode\":\"immediate\",\"fromcurrent\":true,\"transition\":{\"duration\":0,\"easing\":\"linear\"}}],\"label\":\"2022-05-17\",\"method\":\"animate\"},{\"args\":[[\"2022-05-18\"],{\"frame\":{\"duration\":0,\"redraw\":false},\"mode\":\"immediate\",\"fromcurrent\":true,\"transition\":{\"duration\":0,\"easing\":\"linear\"}}],\"label\":\"2022-05-18\",\"method\":\"animate\"},{\"args\":[[\"2022-05-19\"],{\"frame\":{\"duration\":0,\"redraw\":false},\"mode\":\"immediate\",\"fromcurrent\":true,\"transition\":{\"duration\":0,\"easing\":\"linear\"}}],\"label\":\"2022-05-19\",\"method\":\"animate\"},{\"args\":[[\"2022-05-23\"],{\"frame\":{\"duration\":0,\"redraw\":false},\"mode\":\"immediate\",\"fromcurrent\":true,\"transition\":{\"duration\":0,\"easing\":\"linear\"}}],\"label\":\"2022-05-23\",\"method\":\"animate\"},{\"args\":[[\"2022-05-25\"],{\"frame\":{\"duration\":0,\"redraw\":false},\"mode\":\"immediate\",\"fromcurrent\":true,\"transition\":{\"duration\":0,\"easing\":\"linear\"}}],\"label\":\"2022-05-25\",\"method\":\"animate\"},{\"args\":[[\"2022-05-26\"],{\"frame\":{\"duration\":0,\"redraw\":false},\"mode\":\"immediate\",\"fromcurrent\":true,\"transition\":{\"duration\":0,\"easing\":\"linear\"}}],\"label\":\"2022-05-26\",\"method\":\"animate\"},{\"args\":[[\"2022-05-27\"],{\"frame\":{\"duration\":0,\"redraw\":false},\"mode\":\"immediate\",\"fromcurrent\":true,\"transition\":{\"duration\":0,\"easing\":\"linear\"}}],\"label\":\"2022-05-27\",\"method\":\"animate\"},{\"args\":[[\"2022-05-31\"],{\"frame\":{\"duration\":0,\"redraw\":false},\"mode\":\"immediate\",\"fromcurrent\":true,\"transition\":{\"duration\":0,\"easing\":\"linear\"}}],\"label\":\"2022-05-31\",\"method\":\"animate\"},{\"args\":[[\"2022-06-02\"],{\"frame\":{\"duration\":0,\"redraw\":false},\"mode\":\"immediate\",\"fromcurrent\":true,\"transition\":{\"duration\":0,\"easing\":\"linear\"}}],\"label\":\"2022-06-02\",\"method\":\"animate\"},{\"args\":[[\"2022-06-04\"],{\"frame\":{\"duration\":0,\"redraw\":false},\"mode\":\"immediate\",\"fromcurrent\":true,\"transition\":{\"duration\":0,\"easing\":\"linear\"}}],\"label\":\"2022-06-04\",\"method\":\"animate\"},{\"args\":[[\"2022-06-05\"],{\"frame\":{\"duration\":0,\"redraw\":false},\"mode\":\"immediate\",\"fromcurrent\":true,\"transition\":{\"duration\":0,\"easing\":\"linear\"}}],\"label\":\"2022-06-05\",\"method\":\"animate\"},{\"args\":[[\"2022-06-07\"],{\"frame\":{\"duration\":0,\"redraw\":false},\"mode\":\"immediate\",\"fromcurrent\":true,\"transition\":{\"duration\":0,\"easing\":\"linear\"}}],\"label\":\"2022-06-07\",\"method\":\"animate\"},{\"args\":[[\"2022-06-08\"],{\"frame\":{\"duration\":0,\"redraw\":false},\"mode\":\"immediate\",\"fromcurrent\":true,\"transition\":{\"duration\":0,\"easing\":\"linear\"}}],\"label\":\"2022-06-08\",\"method\":\"animate\"},{\"args\":[[\"2022-06-09\"],{\"frame\":{\"duration\":0,\"redraw\":false},\"mode\":\"immediate\",\"fromcurrent\":true,\"transition\":{\"duration\":0,\"easing\":\"linear\"}}],\"label\":\"2022-06-09\",\"method\":\"animate\"}],\"x\":0.1,\"xanchor\":\"left\",\"y\":0,\"yanchor\":\"top\"}]},                        {\"responsive\": true}                    ).then(function(){\n",
       "                            Plotly.addFrames('5529ed47-3099-4bc9-a66a-5a50feac84d1', [{\"data\":[{\"hovertemplate\":\"<b>%{hovertext}</b><br><br>Username=DailyMailUK<br>only_date=2021-05-08<br>positive=%{x}<br>negative=%{y}<br>Like Count=%{marker.size}<extra></extra>\",\"hovertext\":[\"DailyMailUK\"],\"legendgroup\":\"DailyMailUK\",\"marker\":{\"color\":\"#636efa\",\"size\":[15.0],\"sizemode\":\"area\",\"sizeref\":3.8625,\"symbol\":\"circle\"},\"mode\":\"markers\",\"name\":\"DailyMailUK\",\"orientation\":\"v\",\"showlegend\":true,\"x\":[0.0191],\"xaxis\":\"x\",\"y\":[0.2311],\"yaxis\":\"y\",\"type\":\"scatter\"}],\"name\":\"2021-05-08\"},{\"data\":[{\"hovertemplate\":\"<b>%{hovertext}</b><br><br>Username=DailyMailUK<br>only_date=2021-05-10<br>positive=%{x}<br>negative=%{y}<br>Like Count=%{marker.size}<extra></extra>\",\"hovertext\":[\"DailyMailUK\"],\"legendgroup\":\"DailyMailUK\",\"marker\":{\"color\":\"#636efa\",\"size\":[5.0],\"sizemode\":\"area\",\"sizeref\":3.8625,\"symbol\":\"circle\"},\"mode\":\"markers\",\"name\":\"DailyMailUK\",\"orientation\":\"v\",\"showlegend\":true,\"x\":[0.0125],\"xaxis\":\"x\",\"y\":[0.673],\"yaxis\":\"y\",\"type\":\"scatter\"},{\"hovertemplate\":\"<b>%{hovertext}</b><br><br>Username=Daily_Express<br>only_date=2021-05-10<br>positive=%{x}<br>negative=%{y}<br>Like Count=%{marker.size}<extra></extra>\",\"hovertext\":[\"Daily_Express\"],\"legendgroup\":\"Daily_Express\",\"marker\":{\"color\":\"#EF553B\",\"size\":[5.0],\"sizemode\":\"area\",\"sizeref\":3.8625,\"symbol\":\"circle\"},\"mode\":\"markers\",\"name\":\"Daily_Express\",\"orientation\":\"v\",\"showlegend\":true,\"x\":[0.0953],\"xaxis\":\"x\",\"y\":[0.0082],\"yaxis\":\"y\",\"type\":\"scatter\"},{\"hovertemplate\":\"<b>%{hovertext}</b><br><br>Username=TheSun<br>only_date=2021-05-10<br>positive=%{x}<br>negative=%{y}<br>Like Count=%{marker.size}<extra></extra>\",\"hovertext\":[\"TheSun\",\"TheSun\"],\"legendgroup\":\"TheSun\",\"marker\":{\"color\":\"#00cc96\",\"size\":[32.0,13.0],\"sizemode\":\"area\",\"sizeref\":3.8625,\"symbol\":\"circle\"},\"mode\":\"markers\",\"name\":\"TheSun\",\"orientation\":\"v\",\"showlegend\":true,\"x\":[0.0094,0.0072],\"xaxis\":\"x\",\"y\":[0.6128,0.7854],\"yaxis\":\"y\",\"type\":\"scatter\"},{\"hovertemplate\":\"<b>%{hovertext}</b><br><br>Username=MailOnline<br>only_date=2021-05-10<br>positive=%{x}<br>negative=%{y}<br>Like Count=%{marker.size}<extra></extra>\",\"hovertext\":[\"MailOnline\"],\"legendgroup\":\"MailOnline\",\"marker\":{\"color\":\"#ab63fa\",\"size\":[5.0],\"sizemode\":\"area\",\"sizeref\":3.8625,\"symbol\":\"circle\"},\"mode\":\"markers\",\"name\":\"MailOnline\",\"orientation\":\"v\",\"showlegend\":true,\"x\":[0.0183],\"xaxis\":\"x\",\"y\":[0.1316],\"yaxis\":\"y\",\"type\":\"scatter\"}],\"name\":\"2021-05-10\"},{\"data\":[{\"hovertemplate\":\"<b>%{hovertext}</b><br><br>Username=Daily_Express<br>only_date=2021-05-11<br>positive=%{x}<br>negative=%{y}<br>Like Count=%{marker.size}<extra></extra>\",\"hovertext\":[\"Daily_Express\",\"Daily_Express\"],\"legendgroup\":\"Daily_Express\",\"marker\":{\"color\":\"#EF553B\",\"size\":[6.0,6.0],\"sizemode\":\"area\",\"sizeref\":3.8625,\"symbol\":\"circle\"},\"mode\":\"markers\",\"name\":\"Daily_Express\",\"orientation\":\"v\",\"showlegend\":true,\"x\":[0.4932,0.0134],\"xaxis\":\"x\",\"y\":[0.0086,0.5358],\"yaxis\":\"y\",\"type\":\"scatter\"},{\"hovertemplate\":\"<b>%{hovertext}</b><br><br>Username=TheSun<br>only_date=2021-05-11<br>positive=%{x}<br>negative=%{y}<br>Like Count=%{marker.size}<extra></extra>\",\"hovertext\":[\"TheSun\",\"TheSun\"],\"legendgroup\":\"TheSun\",\"marker\":{\"color\":\"#00cc96\",\"size\":[20.0,34.0],\"sizemode\":\"area\",\"sizeref\":3.8625,\"symbol\":\"circle\"},\"mode\":\"markers\",\"name\":\"TheSun\",\"orientation\":\"v\",\"showlegend\":true,\"x\":[0.0084,0.0149],\"xaxis\":\"x\",\"y\":[0.6541,0.5889],\"yaxis\":\"y\",\"type\":\"scatter\"}],\"name\":\"2021-05-11\"},{\"data\":[{\"hovertemplate\":\"<b>%{hovertext}</b><br><br>Username=TheSun<br>only_date=2021-05-12<br>positive=%{x}<br>negative=%{y}<br>Like Count=%{marker.size}<extra></extra>\",\"hovertext\":[\"TheSun\"],\"legendgroup\":\"TheSun\",\"marker\":{\"color\":\"#00cc96\",\"size\":[29.0],\"sizemode\":\"area\",\"sizeref\":3.8625,\"symbol\":\"circle\"},\"mode\":\"markers\",\"name\":\"TheSun\",\"orientation\":\"v\",\"showlegend\":true,\"x\":[0.0095],\"xaxis\":\"x\",\"y\":[0.6292],\"yaxis\":\"y\",\"type\":\"scatter\"}],\"name\":\"2021-05-12\"},{\"data\":[{\"hovertemplate\":\"<b>%{hovertext}</b><br><br>Username=DailyMailUK<br>only_date=2021-05-13<br>positive=%{x}<br>negative=%{y}<br>Like Count=%{marker.size}<extra></extra>\",\"hovertext\":[\"DailyMailUK\"],\"legendgroup\":\"DailyMailUK\",\"marker\":{\"color\":\"#636efa\",\"size\":[6.0],\"sizemode\":\"area\",\"sizeref\":3.8625,\"symbol\":\"circle\"},\"mode\":\"markers\",\"name\":\"DailyMailUK\",\"orientation\":\"v\",\"showlegend\":true,\"x\":[0.0166],\"xaxis\":\"x\",\"y\":[0.4636],\"yaxis\":\"y\",\"type\":\"scatter\"},{\"hovertemplate\":\"<b>%{hovertext}</b><br><br>Username=Daily_Express<br>only_date=2021-05-13<br>positive=%{x}<br>negative=%{y}<br>Like Count=%{marker.size}<extra></extra>\",\"hovertext\":[\"Daily_Express\"],\"legendgroup\":\"Daily_Express\",\"marker\":{\"color\":\"#EF553B\",\"size\":[2.0],\"sizemode\":\"area\",\"sizeref\":3.8625,\"symbol\":\"circle\"},\"mode\":\"markers\",\"name\":\"Daily_Express\",\"orientation\":\"v\",\"showlegend\":true,\"x\":[0.0475],\"xaxis\":\"x\",\"y\":[0.0201],\"yaxis\":\"y\",\"type\":\"scatter\"},{\"hovertemplate\":\"<b>%{hovertext}</b><br><br>Username=MailOnline<br>only_date=2021-05-13<br>positive=%{x}<br>negative=%{y}<br>Like Count=%{marker.size}<extra></extra>\",\"hovertext\":[\"MailOnline\",\"MailOnline\",\"MailOnline\",\"MailOnline\",\"MailOnline\",\"MailOnline\"],\"legendgroup\":\"MailOnline\",\"marker\":{\"color\":\"#ab63fa\",\"size\":[32.0,37.0,20.0,23.0,18.0,14.0],\"sizemode\":\"area\",\"sizeref\":3.8625,\"symbol\":\"circle\"},\"mode\":\"markers\",\"name\":\"MailOnline\",\"orientation\":\"v\",\"showlegend\":true,\"x\":[0.0237,0.0152,0.0218,0.217,0.0078,0.0238],\"xaxis\":\"x\",\"y\":[0.4009,0.4786,0.3343,0.0123,0.7052,0.4232],\"yaxis\":\"y\",\"type\":\"scatter\"}],\"name\":\"2021-05-13\"},{\"data\":[{\"hovertemplate\":\"<b>%{hovertext}</b><br><br>Username=DailyMailUK<br>only_date=2021-05-14<br>positive=%{x}<br>negative=%{y}<br>Like Count=%{marker.size}<extra></extra>\",\"hovertext\":[\"DailyMailUK\"],\"legendgroup\":\"DailyMailUK\",\"marker\":{\"color\":\"#636efa\",\"size\":[4.0],\"sizemode\":\"area\",\"sizeref\":3.8625,\"symbol\":\"circle\"},\"mode\":\"markers\",\"name\":\"DailyMailUK\",\"orientation\":\"v\",\"showlegend\":true,\"x\":[0.0076],\"xaxis\":\"x\",\"y\":[0.7251],\"yaxis\":\"y\",\"type\":\"scatter\"}],\"name\":\"2021-05-14\"},{\"data\":[{\"hovertemplate\":\"<b>%{hovertext}</b><br><br>Username=MailOnline<br>only_date=2021-05-15<br>positive=%{x}<br>negative=%{y}<br>Like Count=%{marker.size}<extra></extra>\",\"hovertext\":[\"MailOnline\",\"MailOnline\"],\"legendgroup\":\"MailOnline\",\"marker\":{\"color\":\"#ab63fa\",\"size\":[277.0,45.0],\"sizemode\":\"area\",\"sizeref\":3.8625,\"symbol\":\"circle\"},\"mode\":\"markers\",\"name\":\"MailOnline\",\"orientation\":\"v\",\"showlegend\":true,\"x\":[0.031,0.0093],\"xaxis\":\"x\",\"y\":[0.563,0.4713],\"yaxis\":\"y\",\"type\":\"scatter\"}],\"name\":\"2021-05-15\"},{\"data\":[{\"hovertemplate\":\"<b>%{hovertext}</b><br><br>Username=DailyMailUK<br>only_date=2021-05-17<br>positive=%{x}<br>negative=%{y}<br>Like Count=%{marker.size}<extra></extra>\",\"hovertext\":[\"DailyMailUK\"],\"legendgroup\":\"DailyMailUK\",\"marker\":{\"color\":\"#636efa\",\"size\":[5.0],\"sizemode\":\"area\",\"sizeref\":3.8625,\"symbol\":\"circle\"},\"mode\":\"markers\",\"name\":\"DailyMailUK\",\"orientation\":\"v\",\"showlegend\":true,\"x\":[0.0091],\"xaxis\":\"x\",\"y\":[0.693],\"yaxis\":\"y\",\"type\":\"scatter\"},{\"hovertemplate\":\"<b>%{hovertext}</b><br><br>Username=Daily_Express<br>only_date=2021-05-17<br>positive=%{x}<br>negative=%{y}<br>Like Count=%{marker.size}<extra></extra>\",\"hovertext\":[\"Daily_Express\",\"Daily_Express\",\"Daily_Express\"],\"legendgroup\":\"Daily_Express\",\"marker\":{\"color\":\"#EF553B\",\"size\":[5.0,1.0,4.0],\"sizemode\":\"area\",\"sizeref\":3.8625,\"symbol\":\"circle\"},\"mode\":\"markers\",\"name\":\"Daily_Express\",\"orientation\":\"v\",\"showlegend\":true,\"x\":[0.0392,0.0126,0.0155],\"xaxis\":\"x\",\"y\":[0.4956,0.481,0.4276],\"yaxis\":\"y\",\"type\":\"scatter\"}],\"name\":\"2021-05-17\"},{\"data\":[{\"hovertemplate\":\"<b>%{hovertext}</b><br><br>Username=TheSun<br>only_date=2021-05-18<br>positive=%{x}<br>negative=%{y}<br>Like Count=%{marker.size}<extra></extra>\",\"hovertext\":[\"TheSun\"],\"legendgroup\":\"TheSun\",\"marker\":{\"color\":\"#00cc96\",\"size\":[27.0],\"sizemode\":\"area\",\"sizeref\":3.8625,\"symbol\":\"circle\"},\"mode\":\"markers\",\"name\":\"TheSun\",\"orientation\":\"v\",\"showlegend\":true,\"x\":[0.0102],\"xaxis\":\"x\",\"y\":[0.5756],\"yaxis\":\"y\",\"type\":\"scatter\"},{\"hovertemplate\":\"<b>%{hovertext}</b><br><br>Username=MailOnline<br>only_date=2021-05-18<br>positive=%{x}<br>negative=%{y}<br>Like Count=%{marker.size}<extra></extra>\",\"hovertext\":[\"MailOnline\",\"MailOnline\",\"MailOnline\"],\"legendgroup\":\"MailOnline\",\"marker\":{\"color\":\"#ab63fa\",\"size\":[56.0,41.0,24.0],\"sizemode\":\"area\",\"sizeref\":3.8625,\"symbol\":\"circle\"},\"mode\":\"markers\",\"name\":\"MailOnline\",\"orientation\":\"v\",\"showlegend\":true,\"x\":[0.0045,0.0103,0.0043],\"xaxis\":\"x\",\"y\":[0.8785,0.6751,0.904],\"yaxis\":\"y\",\"type\":\"scatter\"}],\"name\":\"2021-05-18\"},{\"data\":[{\"hovertemplate\":\"<b>%{hovertext}</b><br><br>Username=TheSun<br>only_date=2021-05-19<br>positive=%{x}<br>negative=%{y}<br>Like Count=%{marker.size}<extra></extra>\",\"hovertext\":[\"TheSun\",\"TheSun\"],\"legendgroup\":\"TheSun\",\"marker\":{\"color\":\"#00cc96\",\"size\":[4.0,8.0],\"sizemode\":\"area\",\"sizeref\":3.8625,\"symbol\":\"circle\"},\"mode\":\"markers\",\"name\":\"TheSun\",\"orientation\":\"v\",\"showlegend\":true,\"x\":[0.018,0.0071],\"xaxis\":\"x\",\"y\":[0.5059,0.7761],\"yaxis\":\"y\",\"type\":\"scatter\"}],\"name\":\"2021-05-19\"},{\"data\":[{\"hovertemplate\":\"<b>%{hovertext}</b><br><br>Username=Daily_Express<br>only_date=2021-05-21<br>positive=%{x}<br>negative=%{y}<br>Like Count=%{marker.size}<extra></extra>\",\"hovertext\":[\"Daily_Express\"],\"legendgroup\":\"Daily_Express\",\"marker\":{\"color\":\"#EF553B\",\"size\":[5.0],\"sizemode\":\"area\",\"sizeref\":3.8625,\"symbol\":\"circle\"},\"mode\":\"markers\",\"name\":\"Daily_Express\",\"orientation\":\"v\",\"showlegend\":true,\"x\":[0.0093],\"xaxis\":\"x\",\"y\":[0.5867],\"yaxis\":\"y\",\"type\":\"scatter\"},{\"hovertemplate\":\"<b>%{hovertext}</b><br><br>Username=TheSun<br>only_date=2021-05-21<br>positive=%{x}<br>negative=%{y}<br>Like Count=%{marker.size}<extra></extra>\",\"hovertext\":[\"TheSun\"],\"legendgroup\":\"TheSun\",\"marker\":{\"color\":\"#00cc96\",\"size\":[6.0],\"sizemode\":\"area\",\"sizeref\":3.8625,\"symbol\":\"circle\"},\"mode\":\"markers\",\"name\":\"TheSun\",\"orientation\":\"v\",\"showlegend\":true,\"x\":[0.0093],\"xaxis\":\"x\",\"y\":[0.641],\"yaxis\":\"y\",\"type\":\"scatter\"}],\"name\":\"2021-05-21\"},{\"data\":[{\"hovertemplate\":\"<b>%{hovertext}</b><br><br>Username=DailyMailUK<br>only_date=2021-05-25<br>positive=%{x}<br>negative=%{y}<br>Like Count=%{marker.size}<extra></extra>\",\"hovertext\":[\"DailyMailUK\"],\"legendgroup\":\"DailyMailUK\",\"marker\":{\"color\":\"#636efa\",\"size\":[5.0],\"sizemode\":\"area\",\"sizeref\":3.8625,\"symbol\":\"circle\"},\"mode\":\"markers\",\"name\":\"DailyMailUK\",\"orientation\":\"v\",\"showlegend\":true,\"x\":[0.007],\"xaxis\":\"x\",\"y\":[0.6145],\"yaxis\":\"y\",\"type\":\"scatter\"}],\"name\":\"2021-05-25\"},{\"data\":[{\"hovertemplate\":\"<b>%{hovertext}</b><br><br>Username=MailOnline<br>only_date=2021-05-26<br>positive=%{x}<br>negative=%{y}<br>Like Count=%{marker.size}<extra></extra>\",\"hovertext\":[\"MailOnline\"],\"legendgroup\":\"MailOnline\",\"marker\":{\"color\":\"#ab63fa\",\"size\":[22.0],\"sizemode\":\"area\",\"sizeref\":3.8625,\"symbol\":\"circle\"},\"mode\":\"markers\",\"name\":\"MailOnline\",\"orientation\":\"v\",\"showlegend\":true,\"x\":[0.0152],\"xaxis\":\"x\",\"y\":[0.5849],\"yaxis\":\"y\",\"type\":\"scatter\"}],\"name\":\"2021-05-26\"},{\"data\":[{\"hovertemplate\":\"<b>%{hovertext}</b><br><br>Username=DailyMailUK<br>only_date=2021-05-28<br>positive=%{x}<br>negative=%{y}<br>Like Count=%{marker.size}<extra></extra>\",\"hovertext\":[\"DailyMailUK\"],\"legendgroup\":\"DailyMailUK\",\"marker\":{\"color\":\"#636efa\",\"size\":[13.0],\"sizemode\":\"area\",\"sizeref\":3.8625,\"symbol\":\"circle\"},\"mode\":\"markers\",\"name\":\"DailyMailUK\",\"orientation\":\"v\",\"showlegend\":true,\"x\":[0.0041],\"xaxis\":\"x\",\"y\":[0.8448],\"yaxis\":\"y\",\"type\":\"scatter\"}],\"name\":\"2021-05-28\"},{\"data\":[{\"hovertemplate\":\"<b>%{hovertext}</b><br><br>Username=DailyMailUK<br>only_date=2021-05-29<br>positive=%{x}<br>negative=%{y}<br>Like Count=%{marker.size}<extra></extra>\",\"hovertext\":[\"DailyMailUK\",\"DailyMailUK\",\"DailyMailUK\"],\"legendgroup\":\"DailyMailUK\",\"marker\":{\"color\":\"#636efa\",\"size\":[41.0,18.0,19.0],\"sizemode\":\"area\",\"sizeref\":3.8625,\"symbol\":\"circle\"},\"mode\":\"markers\",\"name\":\"DailyMailUK\",\"orientation\":\"v\",\"showlegend\":true,\"x\":[0.0127,0.0075,0.0059],\"xaxis\":\"x\",\"y\":[0.644,0.7803,0.8175],\"yaxis\":\"y\",\"type\":\"scatter\"}],\"name\":\"2021-05-29\"},{\"data\":[{\"hovertemplate\":\"<b>%{hovertext}</b><br><br>Username=DailyMailUK<br>only_date=2021-05-30<br>positive=%{x}<br>negative=%{y}<br>Like Count=%{marker.size}<extra></extra>\",\"hovertext\":[\"DailyMailUK\",\"DailyMailUK\"],\"legendgroup\":\"DailyMailUK\",\"marker\":{\"color\":\"#636efa\",\"size\":[24.0,5.0],\"sizemode\":\"area\",\"sizeref\":3.8625,\"symbol\":\"circle\"},\"mode\":\"markers\",\"name\":\"DailyMailUK\",\"orientation\":\"v\",\"showlegend\":true,\"x\":[0.0062,0.0178],\"xaxis\":\"x\",\"y\":[0.742,0.3902],\"yaxis\":\"y\",\"type\":\"scatter\"}],\"name\":\"2021-05-30\"},{\"data\":[{\"hovertemplate\":\"<b>%{hovertext}</b><br><br>Username=DailyMailUK<br>only_date=2021-06-01<br>positive=%{x}<br>negative=%{y}<br>Like Count=%{marker.size}<extra></extra>\",\"hovertext\":[\"DailyMailUK\"],\"legendgroup\":\"DailyMailUK\",\"marker\":{\"color\":\"#636efa\",\"size\":[7.0],\"sizemode\":\"area\",\"sizeref\":3.8625,\"symbol\":\"circle\"},\"mode\":\"markers\",\"name\":\"DailyMailUK\",\"orientation\":\"v\",\"showlegend\":true,\"x\":[0.0111],\"xaxis\":\"x\",\"y\":[0.4286],\"yaxis\":\"y\",\"type\":\"scatter\"},{\"hovertemplate\":\"<b>%{hovertext}</b><br><br>Username=MailOnline<br>only_date=2021-06-01<br>positive=%{x}<br>negative=%{y}<br>Like Count=%{marker.size}<extra></extra>\",\"hovertext\":[\"MailOnline\"],\"legendgroup\":\"MailOnline\",\"marker\":{\"color\":\"#ab63fa\",\"size\":[12.0],\"sizemode\":\"area\",\"sizeref\":3.8625,\"symbol\":\"circle\"},\"mode\":\"markers\",\"name\":\"MailOnline\",\"orientation\":\"v\",\"showlegend\":true,\"x\":[0.0846],\"xaxis\":\"x\",\"y\":[0.0186],\"yaxis\":\"y\",\"type\":\"scatter\"}],\"name\":\"2021-06-01\"},{\"data\":[{\"hovertemplate\":\"<b>%{hovertext}</b><br><br>Username=TheSun<br>only_date=2021-06-02<br>positive=%{x}<br>negative=%{y}<br>Like Count=%{marker.size}<extra></extra>\",\"hovertext\":[\"TheSun\"],\"legendgroup\":\"TheSun\",\"marker\":{\"color\":\"#00cc96\",\"size\":[5.0],\"sizemode\":\"area\",\"sizeref\":3.8625,\"symbol\":\"circle\"},\"mode\":\"markers\",\"name\":\"TheSun\",\"orientation\":\"v\",\"showlegend\":true,\"x\":[0.0312],\"xaxis\":\"x\",\"y\":[0.3588],\"yaxis\":\"y\",\"type\":\"scatter\"}],\"name\":\"2021-06-02\"},{\"data\":[{\"hovertemplate\":\"<b>%{hovertext}</b><br><br>Username=MailOnline<br>only_date=2021-06-03<br>positive=%{x}<br>negative=%{y}<br>Like Count=%{marker.size}<extra></extra>\",\"hovertext\":[\"MailOnline\"],\"legendgroup\":\"MailOnline\",\"marker\":{\"color\":\"#ab63fa\",\"size\":[30.0],\"sizemode\":\"area\",\"sizeref\":3.8625,\"symbol\":\"circle\"},\"mode\":\"markers\",\"name\":\"MailOnline\",\"orientation\":\"v\",\"showlegend\":true,\"x\":[0.0049],\"xaxis\":\"x\",\"y\":[0.8389],\"yaxis\":\"y\",\"type\":\"scatter\"}],\"name\":\"2021-06-03\"},{\"data\":[{\"hovertemplate\":\"<b>%{hovertext}</b><br><br>Username=DailyMailUK<br>only_date=2021-06-08<br>positive=%{x}<br>negative=%{y}<br>Like Count=%{marker.size}<extra></extra>\",\"hovertext\":[\"DailyMailUK\"],\"legendgroup\":\"DailyMailUK\",\"marker\":{\"color\":\"#636efa\",\"size\":[3.0],\"sizemode\":\"area\",\"sizeref\":3.8625,\"symbol\":\"circle\"},\"mode\":\"markers\",\"name\":\"DailyMailUK\",\"orientation\":\"v\",\"showlegend\":true,\"x\":[0.0116],\"xaxis\":\"x\",\"y\":[0.6369],\"yaxis\":\"y\",\"type\":\"scatter\"},{\"hovertemplate\":\"<b>%{hovertext}</b><br><br>Username=MailOnline<br>only_date=2021-06-08<br>positive=%{x}<br>negative=%{y}<br>Like Count=%{marker.size}<extra></extra>\",\"hovertext\":[\"MailOnline\",\"MailOnline\"],\"legendgroup\":\"MailOnline\",\"marker\":{\"color\":\"#ab63fa\",\"size\":[33.0,19.0],\"sizemode\":\"area\",\"sizeref\":3.8625,\"symbol\":\"circle\"},\"mode\":\"markers\",\"name\":\"MailOnline\",\"orientation\":\"v\",\"showlegend\":true,\"x\":[0.0065,0.012],\"xaxis\":\"x\",\"y\":[0.8109,0.5454],\"yaxis\":\"y\",\"type\":\"scatter\"}],\"name\":\"2021-06-08\"},{\"data\":[{\"hovertemplate\":\"<b>%{hovertext}</b><br><br>Username=DailyMailUK<br>only_date=2021-06-10<br>positive=%{x}<br>negative=%{y}<br>Like Count=%{marker.size}<extra></extra>\",\"hovertext\":[\"DailyMailUK\"],\"legendgroup\":\"DailyMailUK\",\"marker\":{\"color\":\"#636efa\",\"size\":[38.0],\"sizemode\":\"area\",\"sizeref\":3.8625,\"symbol\":\"circle\"},\"mode\":\"markers\",\"name\":\"DailyMailUK\",\"orientation\":\"v\",\"showlegend\":true,\"x\":[0.0115],\"xaxis\":\"x\",\"y\":[0.3641],\"yaxis\":\"y\",\"type\":\"scatter\"},{\"hovertemplate\":\"<b>%{hovertext}</b><br><br>Username=MailOnline<br>only_date=2021-06-10<br>positive=%{x}<br>negative=%{y}<br>Like Count=%{marker.size}<extra></extra>\",\"hovertext\":[\"MailOnline\"],\"legendgroup\":\"MailOnline\",\"marker\":{\"color\":\"#ab63fa\",\"size\":[18.0],\"sizemode\":\"area\",\"sizeref\":3.8625,\"symbol\":\"circle\"},\"mode\":\"markers\",\"name\":\"MailOnline\",\"orientation\":\"v\",\"showlegend\":true,\"x\":[0.0215],\"xaxis\":\"x\",\"y\":[0.5271],\"yaxis\":\"y\",\"type\":\"scatter\"}],\"name\":\"2021-06-10\"},{\"data\":[{\"hovertemplate\":\"<b>%{hovertext}</b><br><br>Username=DailyMailUK<br>only_date=2021-06-12<br>positive=%{x}<br>negative=%{y}<br>Like Count=%{marker.size}<extra></extra>\",\"hovertext\":[\"DailyMailUK\"],\"legendgroup\":\"DailyMailUK\",\"marker\":{\"color\":\"#636efa\",\"size\":[9.0],\"sizemode\":\"area\",\"sizeref\":3.8625,\"symbol\":\"circle\"},\"mode\":\"markers\",\"name\":\"DailyMailUK\",\"orientation\":\"v\",\"showlegend\":true,\"x\":[0.0141],\"xaxis\":\"x\",\"y\":[0.1435],\"yaxis\":\"y\",\"type\":\"scatter\"}],\"name\":\"2021-06-12\"},{\"data\":[{\"hovertemplate\":\"<b>%{hovertext}</b><br><br>Username=MailOnline<br>only_date=2021-06-13<br>positive=%{x}<br>negative=%{y}<br>Like Count=%{marker.size}<extra></extra>\",\"hovertext\":[\"MailOnline\"],\"legendgroup\":\"MailOnline\",\"marker\":{\"color\":\"#ab63fa\",\"size\":[8.0],\"sizemode\":\"area\",\"sizeref\":3.8625,\"symbol\":\"circle\"},\"mode\":\"markers\",\"name\":\"MailOnline\",\"orientation\":\"v\",\"showlegend\":true,\"x\":[0.0088],\"xaxis\":\"x\",\"y\":[0.5656],\"yaxis\":\"y\",\"type\":\"scatter\"}],\"name\":\"2021-06-13\"},{\"data\":[{\"hovertemplate\":\"<b>%{hovertext}</b><br><br>Username=DailyMailUK<br>only_date=2021-06-14<br>positive=%{x}<br>negative=%{y}<br>Like Count=%{marker.size}<extra></extra>\",\"hovertext\":[\"DailyMailUK\"],\"legendgroup\":\"DailyMailUK\",\"marker\":{\"color\":\"#636efa\",\"size\":[24.0],\"sizemode\":\"area\",\"sizeref\":3.8625,\"symbol\":\"circle\"},\"mode\":\"markers\",\"name\":\"DailyMailUK\",\"orientation\":\"v\",\"showlegend\":true,\"x\":[0.07],\"xaxis\":\"x\",\"y\":[0.3079],\"yaxis\":\"y\",\"type\":\"scatter\"},{\"hovertemplate\":\"<b>%{hovertext}</b><br><br>Username=Daily_Express<br>only_date=2021-06-14<br>positive=%{x}<br>negative=%{y}<br>Like Count=%{marker.size}<extra></extra>\",\"hovertext\":[\"Daily_Express\"],\"legendgroup\":\"Daily_Express\",\"marker\":{\"color\":\"#EF553B\",\"size\":[0.0],\"sizemode\":\"area\",\"sizeref\":3.8625,\"symbol\":\"circle\"},\"mode\":\"markers\",\"name\":\"Daily_Express\",\"orientation\":\"v\",\"showlegend\":true,\"x\":[0.0087],\"xaxis\":\"x\",\"y\":[0.5137],\"yaxis\":\"y\",\"type\":\"scatter\"}],\"name\":\"2021-06-14\"},{\"data\":[{\"hovertemplate\":\"<b>%{hovertext}</b><br><br>Username=DailyMailUK<br>only_date=2021-06-15<br>positive=%{x}<br>negative=%{y}<br>Like Count=%{marker.size}<extra></extra>\",\"hovertext\":[\"DailyMailUK\"],\"legendgroup\":\"DailyMailUK\",\"marker\":{\"color\":\"#636efa\",\"size\":[7.0],\"sizemode\":\"area\",\"sizeref\":3.8625,\"symbol\":\"circle\"},\"mode\":\"markers\",\"name\":\"DailyMailUK\",\"orientation\":\"v\",\"showlegend\":true,\"x\":[0.0083],\"xaxis\":\"x\",\"y\":[0.695],\"yaxis\":\"y\",\"type\":\"scatter\"},{\"hovertemplate\":\"<b>%{hovertext}</b><br><br>Username=TheSun<br>only_date=2021-06-15<br>positive=%{x}<br>negative=%{y}<br>Like Count=%{marker.size}<extra></extra>\",\"hovertext\":[\"TheSun\"],\"legendgroup\":\"TheSun\",\"marker\":{\"color\":\"#00cc96\",\"size\":[6.0],\"sizemode\":\"area\",\"sizeref\":3.8625,\"symbol\":\"circle\"},\"mode\":\"markers\",\"name\":\"TheSun\",\"orientation\":\"v\",\"showlegend\":true,\"x\":[0.0072],\"xaxis\":\"x\",\"y\":[0.6769],\"yaxis\":\"y\",\"type\":\"scatter\"},{\"hovertemplate\":\"<b>%{hovertext}</b><br><br>Username=MailOnline<br>only_date=2021-06-15<br>positive=%{x}<br>negative=%{y}<br>Like Count=%{marker.size}<extra></extra>\",\"hovertext\":[\"MailOnline\"],\"legendgroup\":\"MailOnline\",\"marker\":{\"color\":\"#ab63fa\",\"size\":[19.0],\"sizemode\":\"area\",\"sizeref\":3.8625,\"symbol\":\"circle\"},\"mode\":\"markers\",\"name\":\"MailOnline\",\"orientation\":\"v\",\"showlegend\":true,\"x\":[0.0091],\"xaxis\":\"x\",\"y\":[0.688],\"yaxis\":\"y\",\"type\":\"scatter\"}],\"name\":\"2021-06-15\"},{\"data\":[{\"hovertemplate\":\"<b>%{hovertext}</b><br><br>Username=MailOnline<br>only_date=2021-06-18<br>positive=%{x}<br>negative=%{y}<br>Like Count=%{marker.size}<extra></extra>\",\"hovertext\":[\"MailOnline\"],\"legendgroup\":\"MailOnline\",\"marker\":{\"color\":\"#ab63fa\",\"size\":[19.0],\"sizemode\":\"area\",\"sizeref\":3.8625,\"symbol\":\"circle\"},\"mode\":\"markers\",\"name\":\"MailOnline\",\"orientation\":\"v\",\"showlegend\":true,\"x\":[0.0104],\"xaxis\":\"x\",\"y\":[0.6503],\"yaxis\":\"y\",\"type\":\"scatter\"}],\"name\":\"2021-06-18\"},{\"data\":[{\"hovertemplate\":\"<b>%{hovertext}</b><br><br>Username=DailyMailUK<br>only_date=2021-06-20<br>positive=%{x}<br>negative=%{y}<br>Like Count=%{marker.size}<extra></extra>\",\"hovertext\":[\"DailyMailUK\"],\"legendgroup\":\"DailyMailUK\",\"marker\":{\"color\":\"#636efa\",\"size\":[9.0],\"sizemode\":\"area\",\"sizeref\":3.8625,\"symbol\":\"circle\"},\"mode\":\"markers\",\"name\":\"DailyMailUK\",\"orientation\":\"v\",\"showlegend\":true,\"x\":[0.0075],\"xaxis\":\"x\",\"y\":[0.7778],\"yaxis\":\"y\",\"type\":\"scatter\"}],\"name\":\"2021-06-20\"},{\"data\":[{\"hovertemplate\":\"<b>%{hovertext}</b><br><br>Username=MailOnline<br>only_date=2021-06-21<br>positive=%{x}<br>negative=%{y}<br>Like Count=%{marker.size}<extra></extra>\",\"hovertext\":[\"MailOnline\"],\"legendgroup\":\"MailOnline\",\"marker\":{\"color\":\"#ab63fa\",\"size\":[58.0],\"sizemode\":\"area\",\"sizeref\":3.8625,\"symbol\":\"circle\"},\"mode\":\"markers\",\"name\":\"MailOnline\",\"orientation\":\"v\",\"showlegend\":true,\"x\":[0.0103],\"xaxis\":\"x\",\"y\":[0.6077],\"yaxis\":\"y\",\"type\":\"scatter\"}],\"name\":\"2021-06-21\"},{\"data\":[{\"hovertemplate\":\"<b>%{hovertext}</b><br><br>Username=MailOnline<br>only_date=2021-06-26<br>positive=%{x}<br>negative=%{y}<br>Like Count=%{marker.size}<extra></extra>\",\"hovertext\":[\"MailOnline\",\"MailOnline\"],\"legendgroup\":\"MailOnline\",\"marker\":{\"color\":\"#ab63fa\",\"size\":[23.0,11.0],\"sizemode\":\"area\",\"sizeref\":3.8625,\"symbol\":\"circle\"},\"mode\":\"markers\",\"name\":\"MailOnline\",\"orientation\":\"v\",\"showlegend\":true,\"x\":[0.049,0.0107],\"xaxis\":\"x\",\"y\":[0.1876,0.5806],\"yaxis\":\"y\",\"type\":\"scatter\"}],\"name\":\"2021-06-26\"},{\"data\":[{\"hovertemplate\":\"<b>%{hovertext}</b><br><br>Username=MailOnline<br>only_date=2021-06-28<br>positive=%{x}<br>negative=%{y}<br>Like Count=%{marker.size}<extra></extra>\",\"hovertext\":[\"MailOnline\"],\"legendgroup\":\"MailOnline\",\"marker\":{\"color\":\"#ab63fa\",\"size\":[10.0],\"sizemode\":\"area\",\"sizeref\":3.8625,\"symbol\":\"circle\"},\"mode\":\"markers\",\"name\":\"MailOnline\",\"orientation\":\"v\",\"showlegend\":true,\"x\":[0.0268],\"xaxis\":\"x\",\"y\":[0.2764],\"yaxis\":\"y\",\"type\":\"scatter\"}],\"name\":\"2021-06-28\"},{\"data\":[{\"hovertemplate\":\"<b>%{hovertext}</b><br><br>Username=Daily_Express<br>only_date=2021-06-30<br>positive=%{x}<br>negative=%{y}<br>Like Count=%{marker.size}<extra></extra>\",\"hovertext\":[\"Daily_Express\",\"Daily_Express\"],\"legendgroup\":\"Daily_Express\",\"marker\":{\"color\":\"#EF553B\",\"size\":[0.0,3.0],\"sizemode\":\"area\",\"sizeref\":3.8625,\"symbol\":\"circle\"},\"mode\":\"markers\",\"name\":\"Daily_Express\",\"orientation\":\"v\",\"showlegend\":true,\"x\":[0.0215,0.0188],\"xaxis\":\"x\",\"y\":[0.2203,0.3068],\"yaxis\":\"y\",\"type\":\"scatter\"}],\"name\":\"2021-06-30\"},{\"data\":[{\"hovertemplate\":\"<b>%{hovertext}</b><br><br>Username=DailyMailUK<br>only_date=2021-07-02<br>positive=%{x}<br>negative=%{y}<br>Like Count=%{marker.size}<extra></extra>\",\"hovertext\":[\"DailyMailUK\"],\"legendgroup\":\"DailyMailUK\",\"marker\":{\"color\":\"#636efa\",\"size\":[10.0],\"sizemode\":\"area\",\"sizeref\":3.8625,\"symbol\":\"circle\"},\"mode\":\"markers\",\"name\":\"DailyMailUK\",\"orientation\":\"v\",\"showlegend\":true,\"x\":[0.0069],\"xaxis\":\"x\",\"y\":[0.7067],\"yaxis\":\"y\",\"type\":\"scatter\"}],\"name\":\"2021-07-02\"},{\"data\":[{\"hovertemplate\":\"<b>%{hovertext}</b><br><br>Username=DailyMailUK<br>only_date=2021-07-04<br>positive=%{x}<br>negative=%{y}<br>Like Count=%{marker.size}<extra></extra>\",\"hovertext\":[\"DailyMailUK\"],\"legendgroup\":\"DailyMailUK\",\"marker\":{\"color\":\"#636efa\",\"size\":[17.0],\"sizemode\":\"area\",\"sizeref\":3.8625,\"symbol\":\"circle\"},\"mode\":\"markers\",\"name\":\"DailyMailUK\",\"orientation\":\"v\",\"showlegend\":true,\"x\":[0.0424],\"xaxis\":\"x\",\"y\":[0.2751],\"yaxis\":\"y\",\"type\":\"scatter\"},{\"hovertemplate\":\"<b>%{hovertext}</b><br><br>Username=Daily_Express<br>only_date=2021-07-04<br>positive=%{x}<br>negative=%{y}<br>Like Count=%{marker.size}<extra></extra>\",\"hovertext\":[\"Daily_Express\"],\"legendgroup\":\"Daily_Express\",\"marker\":{\"color\":\"#EF553B\",\"size\":[3.0],\"sizemode\":\"area\",\"sizeref\":3.8625,\"symbol\":\"circle\"},\"mode\":\"markers\",\"name\":\"Daily_Express\",\"orientation\":\"v\",\"showlegend\":true,\"x\":[0.0085],\"xaxis\":\"x\",\"y\":[0.694],\"yaxis\":\"y\",\"type\":\"scatter\"},{\"hovertemplate\":\"<b>%{hovertext}</b><br><br>Username=TheSun<br>only_date=2021-07-04<br>positive=%{x}<br>negative=%{y}<br>Like Count=%{marker.size}<extra></extra>\",\"hovertext\":[\"TheSun\"],\"legendgroup\":\"TheSun\",\"marker\":{\"color\":\"#00cc96\",\"size\":[28.0],\"sizemode\":\"area\",\"sizeref\":3.8625,\"symbol\":\"circle\"},\"mode\":\"markers\",\"name\":\"TheSun\",\"orientation\":\"v\",\"showlegend\":true,\"x\":[0.3743],\"xaxis\":\"x\",\"y\":[0.0177],\"yaxis\":\"y\",\"type\":\"scatter\"}],\"name\":\"2021-07-04\"},{\"data\":[{\"hovertemplate\":\"<b>%{hovertext}</b><br><br>Username=MailOnline<br>only_date=2021-07-05<br>positive=%{x}<br>negative=%{y}<br>Like Count=%{marker.size}<extra></extra>\",\"hovertext\":[\"MailOnline\"],\"legendgroup\":\"MailOnline\",\"marker\":{\"color\":\"#ab63fa\",\"size\":[34.0],\"sizemode\":\"area\",\"sizeref\":3.8625,\"symbol\":\"circle\"},\"mode\":\"markers\",\"name\":\"MailOnline\",\"orientation\":\"v\",\"showlegend\":true,\"x\":[0.008],\"xaxis\":\"x\",\"y\":[0.6833],\"yaxis\":\"y\",\"type\":\"scatter\"}],\"name\":\"2021-07-05\"},{\"data\":[{\"hovertemplate\":\"<b>%{hovertext}</b><br><br>Username=DailyMailUK<br>only_date=2021-07-07<br>positive=%{x}<br>negative=%{y}<br>Like Count=%{marker.size}<extra></extra>\",\"hovertext\":[\"DailyMailUK\"],\"legendgroup\":\"DailyMailUK\",\"marker\":{\"color\":\"#636efa\",\"size\":[30.0],\"sizemode\":\"area\",\"sizeref\":3.8625,\"symbol\":\"circle\"},\"mode\":\"markers\",\"name\":\"DailyMailUK\",\"orientation\":\"v\",\"showlegend\":true,\"x\":[0.0216],\"xaxis\":\"x\",\"y\":[0.4544],\"yaxis\":\"y\",\"type\":\"scatter\"},{\"hovertemplate\":\"<b>%{hovertext}</b><br><br>Username=TheSun<br>only_date=2021-07-07<br>positive=%{x}<br>negative=%{y}<br>Like Count=%{marker.size}<extra></extra>\",\"hovertext\":[\"TheSun\",\"TheSun\"],\"legendgroup\":\"TheSun\",\"marker\":{\"color\":\"#00cc96\",\"size\":[10.0,41.0],\"sizemode\":\"area\",\"sizeref\":3.8625,\"symbol\":\"circle\"},\"mode\":\"markers\",\"name\":\"TheSun\",\"orientation\":\"v\",\"showlegend\":true,\"x\":[0.0249,0.0259],\"xaxis\":\"x\",\"y\":[0.2137,0.1871],\"yaxis\":\"y\",\"type\":\"scatter\"}],\"name\":\"2021-07-07\"},{\"data\":[{\"hovertemplate\":\"<b>%{hovertext}</b><br><br>Username=DailyMailUK<br>only_date=2021-07-09<br>positive=%{x}<br>negative=%{y}<br>Like Count=%{marker.size}<extra></extra>\",\"hovertext\":[\"DailyMailUK\"],\"legendgroup\":\"DailyMailUK\",\"marker\":{\"color\":\"#636efa\",\"size\":[16.0],\"sizemode\":\"area\",\"sizeref\":3.8625,\"symbol\":\"circle\"},\"mode\":\"markers\",\"name\":\"DailyMailUK\",\"orientation\":\"v\",\"showlegend\":true,\"x\":[0.0174],\"xaxis\":\"x\",\"y\":[0.6175],\"yaxis\":\"y\",\"type\":\"scatter\"},{\"hovertemplate\":\"<b>%{hovertext}</b><br><br>Username=MailOnline<br>only_date=2021-07-09<br>positive=%{x}<br>negative=%{y}<br>Like Count=%{marker.size}<extra></extra>\",\"hovertext\":[\"MailOnline\"],\"legendgroup\":\"MailOnline\",\"marker\":{\"color\":\"#ab63fa\",\"size\":[44.0],\"sizemode\":\"area\",\"sizeref\":3.8625,\"symbol\":\"circle\"},\"mode\":\"markers\",\"name\":\"MailOnline\",\"orientation\":\"v\",\"showlegend\":true,\"x\":[0.0315],\"xaxis\":\"x\",\"y\":[0.0623],\"yaxis\":\"y\",\"type\":\"scatter\"}],\"name\":\"2021-07-09\"},{\"data\":[{\"hovertemplate\":\"<b>%{hovertext}</b><br><br>Username=Daily_Express<br>only_date=2021-07-10<br>positive=%{x}<br>negative=%{y}<br>Like Count=%{marker.size}<extra></extra>\",\"hovertext\":[\"Daily_Express\"],\"legendgroup\":\"Daily_Express\",\"marker\":{\"color\":\"#EF553B\",\"size\":[3.0],\"sizemode\":\"area\",\"sizeref\":3.8625,\"symbol\":\"circle\"},\"mode\":\"markers\",\"name\":\"Daily_Express\",\"orientation\":\"v\",\"showlegend\":true,\"x\":[0.0136],\"xaxis\":\"x\",\"y\":[0.6413],\"yaxis\":\"y\",\"type\":\"scatter\"},{\"hovertemplate\":\"<b>%{hovertext}</b><br><br>Username=MailOnline<br>only_date=2021-07-10<br>positive=%{x}<br>negative=%{y}<br>Like Count=%{marker.size}<extra></extra>\",\"hovertext\":[\"MailOnline\"],\"legendgroup\":\"MailOnline\",\"marker\":{\"color\":\"#ab63fa\",\"size\":[7.0],\"sizemode\":\"area\",\"sizeref\":3.8625,\"symbol\":\"circle\"},\"mode\":\"markers\",\"name\":\"MailOnline\",\"orientation\":\"v\",\"showlegend\":true,\"x\":[0.0145],\"xaxis\":\"x\",\"y\":[0.4053],\"yaxis\":\"y\",\"type\":\"scatter\"}],\"name\":\"2021-07-10\"},{\"data\":[{\"hovertemplate\":\"<b>%{hovertext}</b><br><br>Username=MailOnline<br>only_date=2021-07-11<br>positive=%{x}<br>negative=%{y}<br>Like Count=%{marker.size}<extra></extra>\",\"hovertext\":[\"MailOnline\"],\"legendgroup\":\"MailOnline\",\"marker\":{\"color\":\"#ab63fa\",\"size\":[23.0],\"sizemode\":\"area\",\"sizeref\":3.8625,\"symbol\":\"circle\"},\"mode\":\"markers\",\"name\":\"MailOnline\",\"orientation\":\"v\",\"showlegend\":true,\"x\":[0.0083],\"xaxis\":\"x\",\"y\":[0.6285],\"yaxis\":\"y\",\"type\":\"scatter\"}],\"name\":\"2021-07-11\"},{\"data\":[{\"hovertemplate\":\"<b>%{hovertext}</b><br><br>Username=DailyMailUK<br>only_date=2021-07-14<br>positive=%{x}<br>negative=%{y}<br>Like Count=%{marker.size}<extra></extra>\",\"hovertext\":[\"DailyMailUK\",\"DailyMailUK\",\"DailyMailUK\"],\"legendgroup\":\"DailyMailUK\",\"marker\":{\"color\":\"#636efa\",\"size\":[22.0,0.0,4.0],\"sizemode\":\"area\",\"sizeref\":3.8625,\"symbol\":\"circle\"},\"mode\":\"markers\",\"name\":\"DailyMailUK\",\"orientation\":\"v\",\"showlegend\":true,\"x\":[0.006,0.0214,0.008],\"xaxis\":\"x\",\"y\":[0.8051,0.5163,0.6588],\"yaxis\":\"y\",\"type\":\"scatter\"}],\"name\":\"2021-07-14\"},{\"data\":[{\"hovertemplate\":\"<b>%{hovertext}</b><br><br>Username=TheSun<br>only_date=2021-07-16<br>positive=%{x}<br>negative=%{y}<br>Like Count=%{marker.size}<extra></extra>\",\"hovertext\":[\"TheSun\"],\"legendgroup\":\"TheSun\",\"marker\":{\"color\":\"#00cc96\",\"size\":[2.0],\"sizemode\":\"area\",\"sizeref\":3.8625,\"symbol\":\"circle\"},\"mode\":\"markers\",\"name\":\"TheSun\",\"orientation\":\"v\",\"showlegend\":true,\"x\":[0.0081],\"xaxis\":\"x\",\"y\":[0.8316],\"yaxis\":\"y\",\"type\":\"scatter\"}],\"name\":\"2021-07-16\"},{\"data\":[{\"hovertemplate\":\"<b>%{hovertext}</b><br><br>Username=MailOnline<br>only_date=2021-07-18<br>positive=%{x}<br>negative=%{y}<br>Like Count=%{marker.size}<extra></extra>\",\"hovertext\":[\"MailOnline\",\"MailOnline\"],\"legendgroup\":\"MailOnline\",\"marker\":{\"color\":\"#ab63fa\",\"size\":[19.0,41.0],\"sizemode\":\"area\",\"sizeref\":3.8625,\"symbol\":\"circle\"},\"mode\":\"markers\",\"name\":\"MailOnline\",\"orientation\":\"v\",\"showlegend\":true,\"x\":[0.0214,0.0445],\"xaxis\":\"x\",\"y\":[0.189,0.0636],\"yaxis\":\"y\",\"type\":\"scatter\"}],\"name\":\"2021-07-18\"},{\"data\":[{\"hovertemplate\":\"<b>%{hovertext}</b><br><br>Username=DailyMailUK<br>only_date=2021-07-19<br>positive=%{x}<br>negative=%{y}<br>Like Count=%{marker.size}<extra></extra>\",\"hovertext\":[\"DailyMailUK\"],\"legendgroup\":\"DailyMailUK\",\"marker\":{\"color\":\"#636efa\",\"size\":[13.0],\"sizemode\":\"area\",\"sizeref\":3.8625,\"symbol\":\"circle\"},\"mode\":\"markers\",\"name\":\"DailyMailUK\",\"orientation\":\"v\",\"showlegend\":true,\"x\":[0.0061],\"xaxis\":\"x\",\"y\":[0.806],\"yaxis\":\"y\",\"type\":\"scatter\"},{\"hovertemplate\":\"<b>%{hovertext}</b><br><br>Username=Daily_Express<br>only_date=2021-07-19<br>positive=%{x}<br>negative=%{y}<br>Like Count=%{marker.size}<extra></extra>\",\"hovertext\":[\"Daily_Express\"],\"legendgroup\":\"Daily_Express\",\"marker\":{\"color\":\"#EF553B\",\"size\":[1.0],\"sizemode\":\"area\",\"sizeref\":3.8625,\"symbol\":\"circle\"},\"mode\":\"markers\",\"name\":\"Daily_Express\",\"orientation\":\"v\",\"showlegend\":true,\"x\":[0.9197],\"xaxis\":\"x\",\"y\":[0.0024],\"yaxis\":\"y\",\"type\":\"scatter\"}],\"name\":\"2021-07-19\"},{\"data\":[{\"hovertemplate\":\"<b>%{hovertext}</b><br><br>Username=TheSun<br>only_date=2021-07-20<br>positive=%{x}<br>negative=%{y}<br>Like Count=%{marker.size}<extra></extra>\",\"hovertext\":[\"TheSun\"],\"legendgroup\":\"TheSun\",\"marker\":{\"color\":\"#00cc96\",\"size\":[7.0],\"sizemode\":\"area\",\"sizeref\":3.8625,\"symbol\":\"circle\"},\"mode\":\"markers\",\"name\":\"TheSun\",\"orientation\":\"v\",\"showlegend\":true,\"x\":[0.0143],\"xaxis\":\"x\",\"y\":[0.4283],\"yaxis\":\"y\",\"type\":\"scatter\"},{\"hovertemplate\":\"<b>%{hovertext}</b><br><br>Username=MailOnline<br>only_date=2021-07-20<br>positive=%{x}<br>negative=%{y}<br>Like Count=%{marker.size}<extra></extra>\",\"hovertext\":[\"MailOnline\",\"MailOnline\"],\"legendgroup\":\"MailOnline\",\"marker\":{\"color\":\"#ab63fa\",\"size\":[16.0,7.0],\"sizemode\":\"area\",\"sizeref\":3.8625,\"symbol\":\"circle\"},\"mode\":\"markers\",\"name\":\"MailOnline\",\"orientation\":\"v\",\"showlegend\":true,\"x\":[0.0116,0.0119],\"xaxis\":\"x\",\"y\":[0.5982,0.4761],\"yaxis\":\"y\",\"type\":\"scatter\"}],\"name\":\"2021-07-20\"},{\"data\":[{\"hovertemplate\":\"<b>%{hovertext}</b><br><br>Username=DailyMailUK<br>only_date=2021-07-21<br>positive=%{x}<br>negative=%{y}<br>Like Count=%{marker.size}<extra></extra>\",\"hovertext\":[\"DailyMailUK\"],\"legendgroup\":\"DailyMailUK\",\"marker\":{\"color\":\"#636efa\",\"size\":[39.0],\"sizemode\":\"area\",\"sizeref\":3.8625,\"symbol\":\"circle\"},\"mode\":\"markers\",\"name\":\"DailyMailUK\",\"orientation\":\"v\",\"showlegend\":true,\"x\":[0.0048],\"xaxis\":\"x\",\"y\":[0.8313],\"yaxis\":\"y\",\"type\":\"scatter\"},{\"hovertemplate\":\"<b>%{hovertext}</b><br><br>Username=MailOnline<br>only_date=2021-07-21<br>positive=%{x}<br>negative=%{y}<br>Like Count=%{marker.size}<extra></extra>\",\"hovertext\":[\"MailOnline\"],\"legendgroup\":\"MailOnline\",\"marker\":{\"color\":\"#ab63fa\",\"size\":[15.0],\"sizemode\":\"area\",\"sizeref\":3.8625,\"symbol\":\"circle\"},\"mode\":\"markers\",\"name\":\"MailOnline\",\"orientation\":\"v\",\"showlegend\":true,\"x\":[0.0315],\"xaxis\":\"x\",\"y\":[0.1439],\"yaxis\":\"y\",\"type\":\"scatter\"}],\"name\":\"2021-07-21\"},{\"data\":[{\"hovertemplate\":\"<b>%{hovertext}</b><br><br>Username=Daily_Express<br>only_date=2021-07-22<br>positive=%{x}<br>negative=%{y}<br>Like Count=%{marker.size}<extra></extra>\",\"hovertext\":[\"Daily_Express\",\"Daily_Express\"],\"legendgroup\":\"Daily_Express\",\"marker\":{\"color\":\"#EF553B\",\"size\":[0.0,4.0],\"sizemode\":\"area\",\"sizeref\":3.8625,\"symbol\":\"circle\"},\"mode\":\"markers\",\"name\":\"Daily_Express\",\"orientation\":\"v\",\"showlegend\":true,\"x\":[0.0242,0.112],\"xaxis\":\"x\",\"y\":[0.1948,0.0053],\"yaxis\":\"y\",\"type\":\"scatter\"},{\"hovertemplate\":\"<b>%{hovertext}</b><br><br>Username=MailOnline<br>only_date=2021-07-22<br>positive=%{x}<br>negative=%{y}<br>Like Count=%{marker.size}<extra></extra>\",\"hovertext\":[\"MailOnline\"],\"legendgroup\":\"MailOnline\",\"marker\":{\"color\":\"#ab63fa\",\"size\":[47.0],\"sizemode\":\"area\",\"sizeref\":3.8625,\"symbol\":\"circle\"},\"mode\":\"markers\",\"name\":\"MailOnline\",\"orientation\":\"v\",\"showlegend\":true,\"x\":[0.0068],\"xaxis\":\"x\",\"y\":[0.7718],\"yaxis\":\"y\",\"type\":\"scatter\"}],\"name\":\"2021-07-22\"},{\"data\":[{\"hovertemplate\":\"<b>%{hovertext}</b><br><br>Username=TheSun<br>only_date=2021-07-24<br>positive=%{x}<br>negative=%{y}<br>Like Count=%{marker.size}<extra></extra>\",\"hovertext\":[\"TheSun\"],\"legendgroup\":\"TheSun\",\"marker\":{\"color\":\"#00cc96\",\"size\":[60.0],\"sizemode\":\"area\",\"sizeref\":3.8625,\"symbol\":\"circle\"},\"mode\":\"markers\",\"name\":\"TheSun\",\"orientation\":\"v\",\"showlegend\":true,\"x\":[0.023],\"xaxis\":\"x\",\"y\":[0.4442],\"yaxis\":\"y\",\"type\":\"scatter\"}],\"name\":\"2021-07-24\"},{\"data\":[{\"hovertemplate\":\"<b>%{hovertext}</b><br><br>Username=MailOnline<br>only_date=2021-07-26<br>positive=%{x}<br>negative=%{y}<br>Like Count=%{marker.size}<extra></extra>\",\"hovertext\":[\"MailOnline\"],\"legendgroup\":\"MailOnline\",\"marker\":{\"color\":\"#ab63fa\",\"size\":[8.0],\"sizemode\":\"area\",\"sizeref\":3.8625,\"symbol\":\"circle\"},\"mode\":\"markers\",\"name\":\"MailOnline\",\"orientation\":\"v\",\"showlegend\":true,\"x\":[0.0163],\"xaxis\":\"x\",\"y\":[0.2263],\"yaxis\":\"y\",\"type\":\"scatter\"}],\"name\":\"2021-07-26\"},{\"data\":[{\"hovertemplate\":\"<b>%{hovertext}</b><br><br>Username=DailyMailUK<br>only_date=2021-07-27<br>positive=%{x}<br>negative=%{y}<br>Like Count=%{marker.size}<extra></extra>\",\"hovertext\":[\"DailyMailUK\",\"DailyMailUK\"],\"legendgroup\":\"DailyMailUK\",\"marker\":{\"color\":\"#636efa\",\"size\":[158.0,34.0],\"sizemode\":\"area\",\"sizeref\":3.8625,\"symbol\":\"circle\"},\"mode\":\"markers\",\"name\":\"DailyMailUK\",\"orientation\":\"v\",\"showlegend\":true,\"x\":[0.0187,0.0064],\"xaxis\":\"x\",\"y\":[0.296,0.7927],\"yaxis\":\"y\",\"type\":\"scatter\"},{\"hovertemplate\":\"<b>%{hovertext}</b><br><br>Username=MailOnline<br>only_date=2021-07-27<br>positive=%{x}<br>negative=%{y}<br>Like Count=%{marker.size}<extra></extra>\",\"hovertext\":[\"MailOnline\",\"MailOnline\",\"MailOnline\"],\"legendgroup\":\"MailOnline\",\"marker\":{\"color\":\"#ab63fa\",\"size\":[19.0,26.0,452.0],\"sizemode\":\"area\",\"sizeref\":3.8625,\"symbol\":\"circle\"},\"mode\":\"markers\",\"name\":\"MailOnline\",\"orientation\":\"v\",\"showlegend\":true,\"x\":[0.0102,0.0063,0.0077],\"xaxis\":\"x\",\"y\":[0.66,0.7551,0.706],\"yaxis\":\"y\",\"type\":\"scatter\"}],\"name\":\"2021-07-27\"},{\"data\":[{\"hovertemplate\":\"<b>%{hovertext}</b><br><br>Username=MailOnline<br>only_date=2021-07-31<br>positive=%{x}<br>negative=%{y}<br>Like Count=%{marker.size}<extra></extra>\",\"hovertext\":[\"MailOnline\"],\"legendgroup\":\"MailOnline\",\"marker\":{\"color\":\"#ab63fa\",\"size\":[20.0],\"sizemode\":\"area\",\"sizeref\":3.8625,\"symbol\":\"circle\"},\"mode\":\"markers\",\"name\":\"MailOnline\",\"orientation\":\"v\",\"showlegend\":true,\"x\":[0.0048],\"xaxis\":\"x\",\"y\":[0.8298],\"yaxis\":\"y\",\"type\":\"scatter\"}],\"name\":\"2021-07-31\"},{\"data\":[{\"hovertemplate\":\"<b>%{hovertext}</b><br><br>Username=DailyMailUK<br>only_date=2021-08-01<br>positive=%{x}<br>negative=%{y}<br>Like Count=%{marker.size}<extra></extra>\",\"hovertext\":[\"DailyMailUK\"],\"legendgroup\":\"DailyMailUK\",\"marker\":{\"color\":\"#636efa\",\"size\":[7.0],\"sizemode\":\"area\",\"sizeref\":3.8625,\"symbol\":\"circle\"},\"mode\":\"markers\",\"name\":\"DailyMailUK\",\"orientation\":\"v\",\"showlegend\":true,\"x\":[0.0318],\"xaxis\":\"x\",\"y\":[0.2881],\"yaxis\":\"y\",\"type\":\"scatter\"}],\"name\":\"2021-08-01\"},{\"data\":[{\"hovertemplate\":\"<b>%{hovertext}</b><br><br>Username=DailyMailUK<br>only_date=2021-08-02<br>positive=%{x}<br>negative=%{y}<br>Like Count=%{marker.size}<extra></extra>\",\"hovertext\":[\"DailyMailUK\",\"DailyMailUK\"],\"legendgroup\":\"DailyMailUK\",\"marker\":{\"color\":\"#636efa\",\"size\":[13.0,5.0],\"sizemode\":\"area\",\"sizeref\":3.8625,\"symbol\":\"circle\"},\"mode\":\"markers\",\"name\":\"DailyMailUK\",\"orientation\":\"v\",\"showlegend\":true,\"x\":[0.0066,0.0235],\"xaxis\":\"x\",\"y\":[0.7125,0.31],\"yaxis\":\"y\",\"type\":\"scatter\"}],\"name\":\"2021-08-02\"},{\"data\":[{\"hovertemplate\":\"<b>%{hovertext}</b><br><br>Username=DailyMailUK<br>only_date=2021-08-03<br>positive=%{x}<br>negative=%{y}<br>Like Count=%{marker.size}<extra></extra>\",\"hovertext\":[\"DailyMailUK\",\"DailyMailUK\"],\"legendgroup\":\"DailyMailUK\",\"marker\":{\"color\":\"#636efa\",\"size\":[10.0,2.0],\"sizemode\":\"area\",\"sizeref\":3.8625,\"symbol\":\"circle\"},\"mode\":\"markers\",\"name\":\"DailyMailUK\",\"orientation\":\"v\",\"showlegend\":true,\"x\":[0.0099,0.0067],\"xaxis\":\"x\",\"y\":[0.5386,0.7727],\"yaxis\":\"y\",\"type\":\"scatter\"}],\"name\":\"2021-08-03\"},{\"data\":[{\"hovertemplate\":\"<b>%{hovertext}</b><br><br>Username=DailyMailUK<br>only_date=2021-08-04<br>positive=%{x}<br>negative=%{y}<br>Like Count=%{marker.size}<extra></extra>\",\"hovertext\":[\"DailyMailUK\"],\"legendgroup\":\"DailyMailUK\",\"marker\":{\"color\":\"#636efa\",\"size\":[4.0],\"sizemode\":\"area\",\"sizeref\":3.8625,\"symbol\":\"circle\"},\"mode\":\"markers\",\"name\":\"DailyMailUK\",\"orientation\":\"v\",\"showlegend\":true,\"x\":[0.0123],\"xaxis\":\"x\",\"y\":[0.5686],\"yaxis\":\"y\",\"type\":\"scatter\"},{\"hovertemplate\":\"<b>%{hovertext}</b><br><br>Username=TheSun<br>only_date=2021-08-04<br>positive=%{x}<br>negative=%{y}<br>Like Count=%{marker.size}<extra></extra>\",\"hovertext\":[\"TheSun\",\"TheSun\"],\"legendgroup\":\"TheSun\",\"marker\":{\"color\":\"#00cc96\",\"size\":[10.0,6.0],\"sizemode\":\"area\",\"sizeref\":3.8625,\"symbol\":\"circle\"},\"mode\":\"markers\",\"name\":\"TheSun\",\"orientation\":\"v\",\"showlegend\":true,\"x\":[0.0124,0.0056],\"xaxis\":\"x\",\"y\":[0.3789,0.7956],\"yaxis\":\"y\",\"type\":\"scatter\"}],\"name\":\"2021-08-04\"},{\"data\":[{\"hovertemplate\":\"<b>%{hovertext}</b><br><br>Username=DailyMailUK<br>only_date=2021-08-05<br>positive=%{x}<br>negative=%{y}<br>Like Count=%{marker.size}<extra></extra>\",\"hovertext\":[\"DailyMailUK\"],\"legendgroup\":\"DailyMailUK\",\"marker\":{\"color\":\"#636efa\",\"size\":[7.0],\"sizemode\":\"area\",\"sizeref\":3.8625,\"symbol\":\"circle\"},\"mode\":\"markers\",\"name\":\"DailyMailUK\",\"orientation\":\"v\",\"showlegend\":true,\"x\":[0.0093],\"xaxis\":\"x\",\"y\":[0.3103],\"yaxis\":\"y\",\"type\":\"scatter\"},{\"hovertemplate\":\"<b>%{hovertext}</b><br><br>Username=Daily_Express<br>only_date=2021-08-05<br>positive=%{x}<br>negative=%{y}<br>Like Count=%{marker.size}<extra></extra>\",\"hovertext\":[\"Daily_Express\"],\"legendgroup\":\"Daily_Express\",\"marker\":{\"color\":\"#EF553B\",\"size\":[4.0],\"sizemode\":\"area\",\"sizeref\":3.8625,\"symbol\":\"circle\"},\"mode\":\"markers\",\"name\":\"Daily_Express\",\"orientation\":\"v\",\"showlegend\":true,\"x\":[0.0054],\"xaxis\":\"x\",\"y\":[0.8927],\"yaxis\":\"y\",\"type\":\"scatter\"}],\"name\":\"2021-08-05\"},{\"data\":[{\"hovertemplate\":\"<b>%{hovertext}</b><br><br>Username=DailyMailUK<br>only_date=2021-08-08<br>positive=%{x}<br>negative=%{y}<br>Like Count=%{marker.size}<extra></extra>\",\"hovertext\":[\"DailyMailUK\"],\"legendgroup\":\"DailyMailUK\",\"marker\":{\"color\":\"#636efa\",\"size\":[487.0],\"sizemode\":\"area\",\"sizeref\":3.8625,\"symbol\":\"circle\"},\"mode\":\"markers\",\"name\":\"DailyMailUK\",\"orientation\":\"v\",\"showlegend\":true,\"x\":[0.0069],\"xaxis\":\"x\",\"y\":[0.7787],\"yaxis\":\"y\",\"type\":\"scatter\"},{\"hovertemplate\":\"<b>%{hovertext}</b><br><br>Username=MailOnline<br>only_date=2021-08-08<br>positive=%{x}<br>negative=%{y}<br>Like Count=%{marker.size}<extra></extra>\",\"hovertext\":[\"MailOnline\"],\"legendgroup\":\"MailOnline\",\"marker\":{\"color\":\"#ab63fa\",\"size\":[145.0],\"sizemode\":\"area\",\"sizeref\":3.8625,\"symbol\":\"circle\"},\"mode\":\"markers\",\"name\":\"MailOnline\",\"orientation\":\"v\",\"showlegend\":true,\"x\":[0.0097],\"xaxis\":\"x\",\"y\":[0.7536],\"yaxis\":\"y\",\"type\":\"scatter\"}],\"name\":\"2021-08-08\"},{\"data\":[{\"hovertemplate\":\"<b>%{hovertext}</b><br><br>Username=DailyMailUK<br>only_date=2021-08-09<br>positive=%{x}<br>negative=%{y}<br>Like Count=%{marker.size}<extra></extra>\",\"hovertext\":[\"DailyMailUK\"],\"legendgroup\":\"DailyMailUK\",\"marker\":{\"color\":\"#636efa\",\"size\":[17.0],\"sizemode\":\"area\",\"sizeref\":3.8625,\"symbol\":\"circle\"},\"mode\":\"markers\",\"name\":\"DailyMailUK\",\"orientation\":\"v\",\"showlegend\":true,\"x\":[0.0084],\"xaxis\":\"x\",\"y\":[0.663],\"yaxis\":\"y\",\"type\":\"scatter\"}],\"name\":\"2021-08-09\"},{\"data\":[{\"hovertemplate\":\"<b>%{hovertext}</b><br><br>Username=DailyMailUK<br>only_date=2021-08-10<br>positive=%{x}<br>negative=%{y}<br>Like Count=%{marker.size}<extra></extra>\",\"hovertext\":[\"DailyMailUK\",\"DailyMailUK\",\"DailyMailUK\"],\"legendgroup\":\"DailyMailUK\",\"marker\":{\"color\":\"#636efa\",\"size\":[5.0,14.0,13.0],\"sizemode\":\"area\",\"sizeref\":3.8625,\"symbol\":\"circle\"},\"mode\":\"markers\",\"name\":\"DailyMailUK\",\"orientation\":\"v\",\"showlegend\":true,\"x\":[0.0488,0.0124,0.0229],\"xaxis\":\"x\",\"y\":[0.0529,0.23,0.3111],\"yaxis\":\"y\",\"type\":\"scatter\"},{\"hovertemplate\":\"<b>%{hovertext}</b><br><br>Username=TheSun<br>only_date=2021-08-10<br>positive=%{x}<br>negative=%{y}<br>Like Count=%{marker.size}<extra></extra>\",\"hovertext\":[\"TheSun\"],\"legendgroup\":\"TheSun\",\"marker\":{\"color\":\"#00cc96\",\"size\":[14.0],\"sizemode\":\"area\",\"sizeref\":3.8625,\"symbol\":\"circle\"},\"mode\":\"markers\",\"name\":\"TheSun\",\"orientation\":\"v\",\"showlegend\":true,\"x\":[0.0528],\"xaxis\":\"x\",\"y\":[0.0498],\"yaxis\":\"y\",\"type\":\"scatter\"},{\"hovertemplate\":\"<b>%{hovertext}</b><br><br>Username=MailOnline<br>only_date=2021-08-10<br>positive=%{x}<br>negative=%{y}<br>Like Count=%{marker.size}<extra></extra>\",\"hovertext\":[\"MailOnline\"],\"legendgroup\":\"MailOnline\",\"marker\":{\"color\":\"#ab63fa\",\"size\":[33.0],\"sizemode\":\"area\",\"sizeref\":3.8625,\"symbol\":\"circle\"},\"mode\":\"markers\",\"name\":\"MailOnline\",\"orientation\":\"v\",\"showlegend\":true,\"x\":[0.063],\"xaxis\":\"x\",\"y\":[0.0391],\"yaxis\":\"y\",\"type\":\"scatter\"}],\"name\":\"2021-08-10\"},{\"data\":[{\"hovertemplate\":\"<b>%{hovertext}</b><br><br>Username=DailyMailUK<br>only_date=2021-08-11<br>positive=%{x}<br>negative=%{y}<br>Like Count=%{marker.size}<extra></extra>\",\"hovertext\":[\"DailyMailUK\"],\"legendgroup\":\"DailyMailUK\",\"marker\":{\"color\":\"#636efa\",\"size\":[6.0],\"sizemode\":\"area\",\"sizeref\":3.8625,\"symbol\":\"circle\"},\"mode\":\"markers\",\"name\":\"DailyMailUK\",\"orientation\":\"v\",\"showlegend\":true,\"x\":[0.0113],\"xaxis\":\"x\",\"y\":[0.6568],\"yaxis\":\"y\",\"type\":\"scatter\"},{\"hovertemplate\":\"<b>%{hovertext}</b><br><br>Username=Daily_Express<br>only_date=2021-08-11<br>positive=%{x}<br>negative=%{y}<br>Like Count=%{marker.size}<extra></extra>\",\"hovertext\":[\"Daily_Express\"],\"legendgroup\":\"Daily_Express\",\"marker\":{\"color\":\"#EF553B\",\"size\":[0.0],\"sizemode\":\"area\",\"sizeref\":3.8625,\"symbol\":\"circle\"},\"mode\":\"markers\",\"name\":\"Daily_Express\",\"orientation\":\"v\",\"showlegend\":true,\"x\":[0.0118],\"xaxis\":\"x\",\"y\":[0.3755],\"yaxis\":\"y\",\"type\":\"scatter\"},{\"hovertemplate\":\"<b>%{hovertext}</b><br><br>Username=TheSun<br>only_date=2021-08-11<br>positive=%{x}<br>negative=%{y}<br>Like Count=%{marker.size}<extra></extra>\",\"hovertext\":[\"TheSun\"],\"legendgroup\":\"TheSun\",\"marker\":{\"color\":\"#00cc96\",\"size\":[9.0],\"sizemode\":\"area\",\"sizeref\":3.8625,\"symbol\":\"circle\"},\"mode\":\"markers\",\"name\":\"TheSun\",\"orientation\":\"v\",\"showlegend\":true,\"x\":[0.0064],\"xaxis\":\"x\",\"y\":[0.6947],\"yaxis\":\"y\",\"type\":\"scatter\"},{\"hovertemplate\":\"<b>%{hovertext}</b><br><br>Username=MailOnline<br>only_date=2021-08-11<br>positive=%{x}<br>negative=%{y}<br>Like Count=%{marker.size}<extra></extra>\",\"hovertext\":[\"MailOnline\"],\"legendgroup\":\"MailOnline\",\"marker\":{\"color\":\"#ab63fa\",\"size\":[15.0],\"sizemode\":\"area\",\"sizeref\":3.8625,\"symbol\":\"circle\"},\"mode\":\"markers\",\"name\":\"MailOnline\",\"orientation\":\"v\",\"showlegend\":true,\"x\":[0.0116],\"xaxis\":\"x\",\"y\":[0.599],\"yaxis\":\"y\",\"type\":\"scatter\"}],\"name\":\"2021-08-11\"},{\"data\":[{\"hovertemplate\":\"<b>%{hovertext}</b><br><br>Username=DailyMailUK<br>only_date=2021-08-12<br>positive=%{x}<br>negative=%{y}<br>Like Count=%{marker.size}<extra></extra>\",\"hovertext\":[\"DailyMailUK\"],\"legendgroup\":\"DailyMailUK\",\"marker\":{\"color\":\"#636efa\",\"size\":[6.0],\"sizemode\":\"area\",\"sizeref\":3.8625,\"symbol\":\"circle\"},\"mode\":\"markers\",\"name\":\"DailyMailUK\",\"orientation\":\"v\",\"showlegend\":true,\"x\":[0.0162],\"xaxis\":\"x\",\"y\":[0.5095],\"yaxis\":\"y\",\"type\":\"scatter\"},{\"hovertemplate\":\"<b>%{hovertext}</b><br><br>Username=MailOnline<br>only_date=2021-08-12<br>positive=%{x}<br>negative=%{y}<br>Like Count=%{marker.size}<extra></extra>\",\"hovertext\":[\"MailOnline\"],\"legendgroup\":\"MailOnline\",\"marker\":{\"color\":\"#ab63fa\",\"size\":[7.0],\"sizemode\":\"area\",\"sizeref\":3.8625,\"symbol\":\"circle\"},\"mode\":\"markers\",\"name\":\"MailOnline\",\"orientation\":\"v\",\"showlegend\":true,\"x\":[0.0358],\"xaxis\":\"x\",\"y\":[0.3237],\"yaxis\":\"y\",\"type\":\"scatter\"}],\"name\":\"2021-08-12\"},{\"data\":[{\"hovertemplate\":\"<b>%{hovertext}</b><br><br>Username=DailyMailUK<br>only_date=2021-08-13<br>positive=%{x}<br>negative=%{y}<br>Like Count=%{marker.size}<extra></extra>\",\"hovertext\":[\"DailyMailUK\",\"DailyMailUK\",\"DailyMailUK\"],\"legendgroup\":\"DailyMailUK\",\"marker\":{\"color\":\"#636efa\",\"size\":[8.0,17.0,20.0],\"sizemode\":\"area\",\"sizeref\":3.8625,\"symbol\":\"circle\"},\"mode\":\"markers\",\"name\":\"DailyMailUK\",\"orientation\":\"v\",\"showlegend\":true,\"x\":[0.0081,0.0117,0.0143],\"xaxis\":\"x\",\"y\":[0.7532,0.5851,0.3611],\"yaxis\":\"y\",\"type\":\"scatter\"},{\"hovertemplate\":\"<b>%{hovertext}</b><br><br>Username=TheSun<br>only_date=2021-08-13<br>positive=%{x}<br>negative=%{y}<br>Like Count=%{marker.size}<extra></extra>\",\"hovertext\":[\"TheSun\"],\"legendgroup\":\"TheSun\",\"marker\":{\"color\":\"#00cc96\",\"size\":[4.0],\"sizemode\":\"area\",\"sizeref\":3.8625,\"symbol\":\"circle\"},\"mode\":\"markers\",\"name\":\"TheSun\",\"orientation\":\"v\",\"showlegend\":true,\"x\":[0.0063],\"xaxis\":\"x\",\"y\":[0.8162],\"yaxis\":\"y\",\"type\":\"scatter\"}],\"name\":\"2021-08-13\"},{\"data\":[{\"hovertemplate\":\"<b>%{hovertext}</b><br><br>Username=DailyMailUK<br>only_date=2021-08-15<br>positive=%{x}<br>negative=%{y}<br>Like Count=%{marker.size}<extra></extra>\",\"hovertext\":[\"DailyMailUK\",\"DailyMailUK\"],\"legendgroup\":\"DailyMailUK\",\"marker\":{\"color\":\"#636efa\",\"size\":[25.0,17.0],\"sizemode\":\"area\",\"sizeref\":3.8625,\"symbol\":\"circle\"},\"mode\":\"markers\",\"name\":\"DailyMailUK\",\"orientation\":\"v\",\"showlegend\":true,\"x\":[0.0066,0.013],\"xaxis\":\"x\",\"y\":[0.7618,0.3743],\"yaxis\":\"y\",\"type\":\"scatter\"},{\"hovertemplate\":\"<b>%{hovertext}</b><br><br>Username=Daily_Express<br>only_date=2021-08-15<br>positive=%{x}<br>negative=%{y}<br>Like Count=%{marker.size}<extra></extra>\",\"hovertext\":[\"Daily_Express\"],\"legendgroup\":\"Daily_Express\",\"marker\":{\"color\":\"#EF553B\",\"size\":[4.0],\"sizemode\":\"area\",\"sizeref\":3.8625,\"symbol\":\"circle\"},\"mode\":\"markers\",\"name\":\"Daily_Express\",\"orientation\":\"v\",\"showlegend\":true,\"x\":[0.0158],\"xaxis\":\"x\",\"y\":[0.2101],\"yaxis\":\"y\",\"type\":\"scatter\"}],\"name\":\"2021-08-15\"},{\"data\":[{\"hovertemplate\":\"<b>%{hovertext}</b><br><br>Username=DailyMailUK<br>only_date=2021-08-16<br>positive=%{x}<br>negative=%{y}<br>Like Count=%{marker.size}<extra></extra>\",\"hovertext\":[\"DailyMailUK\"],\"legendgroup\":\"DailyMailUK\",\"marker\":{\"color\":\"#636efa\",\"size\":[8.0],\"sizemode\":\"area\",\"sizeref\":3.8625,\"symbol\":\"circle\"},\"mode\":\"markers\",\"name\":\"DailyMailUK\",\"orientation\":\"v\",\"showlegend\":true,\"x\":[0.0058],\"xaxis\":\"x\",\"y\":[0.7631],\"yaxis\":\"y\",\"type\":\"scatter\"},{\"hovertemplate\":\"<b>%{hovertext}</b><br><br>Username=Daily_Express<br>only_date=2021-08-16<br>positive=%{x}<br>negative=%{y}<br>Like Count=%{marker.size}<extra></extra>\",\"hovertext\":[\"Daily_Express\"],\"legendgroup\":\"Daily_Express\",\"marker\":{\"color\":\"#EF553B\",\"size\":[8.0],\"sizemode\":\"area\",\"sizeref\":3.8625,\"symbol\":\"circle\"},\"mode\":\"markers\",\"name\":\"Daily_Express\",\"orientation\":\"v\",\"showlegend\":true,\"x\":[0.0101],\"xaxis\":\"x\",\"y\":[0.7209],\"yaxis\":\"y\",\"type\":\"scatter\"},{\"hovertemplate\":\"<b>%{hovertext}</b><br><br>Username=MailOnline<br>only_date=2021-08-16<br>positive=%{x}<br>negative=%{y}<br>Like Count=%{marker.size}<extra></extra>\",\"hovertext\":[\"MailOnline\",\"MailOnline\"],\"legendgroup\":\"MailOnline\",\"marker\":{\"color\":\"#ab63fa\",\"size\":[27.0,15.0],\"sizemode\":\"area\",\"sizeref\":3.8625,\"symbol\":\"circle\"},\"mode\":\"markers\",\"name\":\"MailOnline\",\"orientation\":\"v\",\"showlegend\":true,\"x\":[0.0155,0.0058],\"xaxis\":\"x\",\"y\":[0.4096,0.8242],\"yaxis\":\"y\",\"type\":\"scatter\"}],\"name\":\"2021-08-16\"},{\"data\":[{\"hovertemplate\":\"<b>%{hovertext}</b><br><br>Username=DailyMailUK<br>only_date=2021-08-17<br>positive=%{x}<br>negative=%{y}<br>Like Count=%{marker.size}<extra></extra>\",\"hovertext\":[\"DailyMailUK\"],\"legendgroup\":\"DailyMailUK\",\"marker\":{\"color\":\"#636efa\",\"size\":[6.0],\"sizemode\":\"area\",\"sizeref\":3.8625,\"symbol\":\"circle\"},\"mode\":\"markers\",\"name\":\"DailyMailUK\",\"orientation\":\"v\",\"showlegend\":true,\"x\":[0.1439],\"xaxis\":\"x\",\"y\":[0.1586],\"yaxis\":\"y\",\"type\":\"scatter\"},{\"hovertemplate\":\"<b>%{hovertext}</b><br><br>Username=Daily_Express<br>only_date=2021-08-17<br>positive=%{x}<br>negative=%{y}<br>Like Count=%{marker.size}<extra></extra>\",\"hovertext\":[\"Daily_Express\"],\"legendgroup\":\"Daily_Express\",\"marker\":{\"color\":\"#EF553B\",\"size\":[21.0],\"sizemode\":\"area\",\"sizeref\":3.8625,\"symbol\":\"circle\"},\"mode\":\"markers\",\"name\":\"Daily_Express\",\"orientation\":\"v\",\"showlegend\":true,\"x\":[0.6107],\"xaxis\":\"x\",\"y\":[0.0072],\"yaxis\":\"y\",\"type\":\"scatter\"},{\"hovertemplate\":\"<b>%{hovertext}</b><br><br>Username=TheSun<br>only_date=2021-08-17<br>positive=%{x}<br>negative=%{y}<br>Like Count=%{marker.size}<extra></extra>\",\"hovertext\":[\"TheSun\",\"TheSun\"],\"legendgroup\":\"TheSun\",\"marker\":{\"color\":\"#00cc96\",\"size\":[92.0,21.0],\"sizemode\":\"area\",\"sizeref\":3.8625,\"symbol\":\"circle\"},\"mode\":\"markers\",\"name\":\"TheSun\",\"orientation\":\"v\",\"showlegend\":true,\"x\":[0.0515,0.0083],\"xaxis\":\"x\",\"y\":[0.0505,0.643],\"yaxis\":\"y\",\"type\":\"scatter\"},{\"hovertemplate\":\"<b>%{hovertext}</b><br><br>Username=MailOnline<br>only_date=2021-08-17<br>positive=%{x}<br>negative=%{y}<br>Like Count=%{marker.size}<extra></extra>\",\"hovertext\":[\"MailOnline\",\"MailOnline\",\"MailOnline\",\"MailOnline\"],\"legendgroup\":\"MailOnline\",\"marker\":{\"color\":\"#ab63fa\",\"size\":[30.0,87.0,21.0,25.0],\"sizemode\":\"area\",\"sizeref\":3.8625,\"symbol\":\"circle\"},\"mode\":\"markers\",\"name\":\"MailOnline\",\"orientation\":\"v\",\"showlegend\":true,\"x\":[0.0084,0.1615,0.007,0.0125],\"xaxis\":\"x\",\"y\":[0.6544,0.0264,0.7173,0.7315],\"yaxis\":\"y\",\"type\":\"scatter\"}],\"name\":\"2021-08-17\"},{\"data\":[{\"hovertemplate\":\"<b>%{hovertext}</b><br><br>Username=Daily_Express<br>only_date=2021-08-18<br>positive=%{x}<br>negative=%{y}<br>Like Count=%{marker.size}<extra></extra>\",\"hovertext\":[\"Daily_Express\"],\"legendgroup\":\"Daily_Express\",\"marker\":{\"color\":\"#EF553B\",\"size\":[4.0],\"sizemode\":\"area\",\"sizeref\":3.8625,\"symbol\":\"circle\"},\"mode\":\"markers\",\"name\":\"Daily_Express\",\"orientation\":\"v\",\"showlegend\":true,\"x\":[0.0341],\"xaxis\":\"x\",\"y\":[0.155],\"yaxis\":\"y\",\"type\":\"scatter\"},{\"hovertemplate\":\"<b>%{hovertext}</b><br><br>Username=TheSun<br>only_date=2021-08-18<br>positive=%{x}<br>negative=%{y}<br>Like Count=%{marker.size}<extra></extra>\",\"hovertext\":[\"TheSun\"],\"legendgroup\":\"TheSun\",\"marker\":{\"color\":\"#00cc96\",\"size\":[36.0],\"sizemode\":\"area\",\"sizeref\":3.8625,\"symbol\":\"circle\"},\"mode\":\"markers\",\"name\":\"TheSun\",\"orientation\":\"v\",\"showlegend\":true,\"x\":[0.0561],\"xaxis\":\"x\",\"y\":[0.0548],\"yaxis\":\"y\",\"type\":\"scatter\"},{\"hovertemplate\":\"<b>%{hovertext}</b><br><br>Username=MailOnline<br>only_date=2021-08-18<br>positive=%{x}<br>negative=%{y}<br>Like Count=%{marker.size}<extra></extra>\",\"hovertext\":[\"MailOnline\"],\"legendgroup\":\"MailOnline\",\"marker\":{\"color\":\"#ab63fa\",\"size\":[25.0],\"sizemode\":\"area\",\"sizeref\":3.8625,\"symbol\":\"circle\"},\"mode\":\"markers\",\"name\":\"MailOnline\",\"orientation\":\"v\",\"showlegend\":true,\"x\":[0.0067],\"xaxis\":\"x\",\"y\":[0.8064],\"yaxis\":\"y\",\"type\":\"scatter\"}],\"name\":\"2021-08-18\"},{\"data\":[{\"hovertemplate\":\"<b>%{hovertext}</b><br><br>Username=DailyMailUK<br>only_date=2021-08-19<br>positive=%{x}<br>negative=%{y}<br>Like Count=%{marker.size}<extra></extra>\",\"hovertext\":[\"DailyMailUK\"],\"legendgroup\":\"DailyMailUK\",\"marker\":{\"color\":\"#636efa\",\"size\":[12.0],\"sizemode\":\"area\",\"sizeref\":3.8625,\"symbol\":\"circle\"},\"mode\":\"markers\",\"name\":\"DailyMailUK\",\"orientation\":\"v\",\"showlegend\":true,\"x\":[0.0072],\"xaxis\":\"x\",\"y\":[0.6325],\"yaxis\":\"y\",\"type\":\"scatter\"},{\"hovertemplate\":\"<b>%{hovertext}</b><br><br>Username=MailOnline<br>only_date=2021-08-19<br>positive=%{x}<br>negative=%{y}<br>Like Count=%{marker.size}<extra></extra>\",\"hovertext\":[\"MailOnline\",\"MailOnline\"],\"legendgroup\":\"MailOnline\",\"marker\":{\"color\":\"#ab63fa\",\"size\":[20.0,22.0],\"sizemode\":\"area\",\"sizeref\":3.8625,\"symbol\":\"circle\"},\"mode\":\"markers\",\"name\":\"MailOnline\",\"orientation\":\"v\",\"showlegend\":true,\"x\":[0.0089,0.0078],\"xaxis\":\"x\",\"y\":[0.5967,0.8086],\"yaxis\":\"y\",\"type\":\"scatter\"}],\"name\":\"2021-08-19\"},{\"data\":[{\"hovertemplate\":\"<b>%{hovertext}</b><br><br>Username=DailyMailUK<br>only_date=2021-08-20<br>positive=%{x}<br>negative=%{y}<br>Like Count=%{marker.size}<extra></extra>\",\"hovertext\":[\"DailyMailUK\",\"DailyMailUK\",\"DailyMailUK\"],\"legendgroup\":\"DailyMailUK\",\"marker\":{\"color\":\"#636efa\",\"size\":[3.0,26.0,2.0],\"sizemode\":\"area\",\"sizeref\":3.8625,\"symbol\":\"circle\"},\"mode\":\"markers\",\"name\":\"DailyMailUK\",\"orientation\":\"v\",\"showlegend\":true,\"x\":[0.0168,0.0295,0.0145],\"xaxis\":\"x\",\"y\":[0.585,0.2036,0.402],\"yaxis\":\"y\",\"type\":\"scatter\"}],\"name\":\"2021-08-20\"},{\"data\":[{\"hovertemplate\":\"<b>%{hovertext}</b><br><br>Username=DailyMailUK<br>only_date=2021-08-21<br>positive=%{x}<br>negative=%{y}<br>Like Count=%{marker.size}<extra></extra>\",\"hovertext\":[\"DailyMailUK\"],\"legendgroup\":\"DailyMailUK\",\"marker\":{\"color\":\"#636efa\",\"size\":[9.0],\"sizemode\":\"area\",\"sizeref\":3.8625,\"symbol\":\"circle\"},\"mode\":\"markers\",\"name\":\"DailyMailUK\",\"orientation\":\"v\",\"showlegend\":true,\"x\":[0.0062],\"xaxis\":\"x\",\"y\":[0.8793],\"yaxis\":\"y\",\"type\":\"scatter\"},{\"hovertemplate\":\"<b>%{hovertext}</b><br><br>Username=Daily_Express<br>only_date=2021-08-21<br>positive=%{x}<br>negative=%{y}<br>Like Count=%{marker.size}<extra></extra>\",\"hovertext\":[\"Daily_Express\"],\"legendgroup\":\"Daily_Express\",\"marker\":{\"color\":\"#EF553B\",\"size\":[17.0],\"sizemode\":\"area\",\"sizeref\":3.8625,\"symbol\":\"circle\"},\"mode\":\"markers\",\"name\":\"Daily_Express\",\"orientation\":\"v\",\"showlegend\":true,\"x\":[0.0071],\"xaxis\":\"x\",\"y\":[0.6671],\"yaxis\":\"y\",\"type\":\"scatter\"}],\"name\":\"2021-08-21\"},{\"data\":[{\"hovertemplate\":\"<b>%{hovertext}</b><br><br>Username=DailyMailUK<br>only_date=2021-08-22<br>positive=%{x}<br>negative=%{y}<br>Like Count=%{marker.size}<extra></extra>\",\"hovertext\":[\"DailyMailUK\"],\"legendgroup\":\"DailyMailUK\",\"marker\":{\"color\":\"#636efa\",\"size\":[55.0],\"sizemode\":\"area\",\"sizeref\":3.8625,\"symbol\":\"circle\"},\"mode\":\"markers\",\"name\":\"DailyMailUK\",\"orientation\":\"v\",\"showlegend\":true,\"x\":[0.0085],\"xaxis\":\"x\",\"y\":[0.539],\"yaxis\":\"y\",\"type\":\"scatter\"},{\"hovertemplate\":\"<b>%{hovertext}</b><br><br>Username=Daily_Express<br>only_date=2021-08-22<br>positive=%{x}<br>negative=%{y}<br>Like Count=%{marker.size}<extra></extra>\",\"hovertext\":[\"Daily_Express\"],\"legendgroup\":\"Daily_Express\",\"marker\":{\"color\":\"#EF553B\",\"size\":[3.0],\"sizemode\":\"area\",\"sizeref\":3.8625,\"symbol\":\"circle\"},\"mode\":\"markers\",\"name\":\"Daily_Express\",\"orientation\":\"v\",\"showlegend\":true,\"x\":[0.007],\"xaxis\":\"x\",\"y\":[0.8106],\"yaxis\":\"y\",\"type\":\"scatter\"}],\"name\":\"2021-08-22\"},{\"data\":[{\"hovertemplate\":\"<b>%{hovertext}</b><br><br>Username=DailyMailUK<br>only_date=2021-08-23<br>positive=%{x}<br>negative=%{y}<br>Like Count=%{marker.size}<extra></extra>\",\"hovertext\":[\"DailyMailUK\",\"DailyMailUK\"],\"legendgroup\":\"DailyMailUK\",\"marker\":{\"color\":\"#636efa\",\"size\":[27.0,39.0],\"sizemode\":\"area\",\"sizeref\":3.8625,\"symbol\":\"circle\"},\"mode\":\"markers\",\"name\":\"DailyMailUK\",\"orientation\":\"v\",\"showlegend\":true,\"x\":[0.0387,0.6],\"xaxis\":\"x\",\"y\":[0.1669,0.0092],\"yaxis\":\"y\",\"type\":\"scatter\"},{\"hovertemplate\":\"<b>%{hovertext}</b><br><br>Username=MailOnline<br>only_date=2021-08-23<br>positive=%{x}<br>negative=%{y}<br>Like Count=%{marker.size}<extra></extra>\",\"hovertext\":[\"MailOnline\"],\"legendgroup\":\"MailOnline\",\"marker\":{\"color\":\"#ab63fa\",\"size\":[257.0],\"sizemode\":\"area\",\"sizeref\":3.8625,\"symbol\":\"circle\"},\"mode\":\"markers\",\"name\":\"MailOnline\",\"orientation\":\"v\",\"showlegend\":true,\"x\":[0.0057],\"xaxis\":\"x\",\"y\":[0.7611],\"yaxis\":\"y\",\"type\":\"scatter\"}],\"name\":\"2021-08-23\"},{\"data\":[{\"hovertemplate\":\"<b>%{hovertext}</b><br><br>Username=DailyMailUK<br>only_date=2021-08-24<br>positive=%{x}<br>negative=%{y}<br>Like Count=%{marker.size}<extra></extra>\",\"hovertext\":[\"DailyMailUK\",\"DailyMailUK\"],\"legendgroup\":\"DailyMailUK\",\"marker\":{\"color\":\"#636efa\",\"size\":[6.0,117.0],\"sizemode\":\"area\",\"sizeref\":3.8625,\"symbol\":\"circle\"},\"mode\":\"markers\",\"name\":\"DailyMailUK\",\"orientation\":\"v\",\"showlegend\":true,\"x\":[0.0165,0.0072],\"xaxis\":\"x\",\"y\":[0.4475,0.748],\"yaxis\":\"y\",\"type\":\"scatter\"},{\"hovertemplate\":\"<b>%{hovertext}</b><br><br>Username=Daily_Express<br>only_date=2021-08-24<br>positive=%{x}<br>negative=%{y}<br>Like Count=%{marker.size}<extra></extra>\",\"hovertext\":[\"Daily_Express\"],\"legendgroup\":\"Daily_Express\",\"marker\":{\"color\":\"#EF553B\",\"size\":[0.0],\"sizemode\":\"area\",\"sizeref\":3.8625,\"symbol\":\"circle\"},\"mode\":\"markers\",\"name\":\"Daily_Express\",\"orientation\":\"v\",\"showlegend\":true,\"x\":[0.0085],\"xaxis\":\"x\",\"y\":[0.7393],\"yaxis\":\"y\",\"type\":\"scatter\"},{\"hovertemplate\":\"<b>%{hovertext}</b><br><br>Username=MailOnline<br>only_date=2021-08-24<br>positive=%{x}<br>negative=%{y}<br>Like Count=%{marker.size}<extra></extra>\",\"hovertext\":[\"MailOnline\",\"MailOnline\"],\"legendgroup\":\"MailOnline\",\"marker\":{\"color\":\"#ab63fa\",\"size\":[73.0,33.0],\"sizemode\":\"area\",\"sizeref\":3.8625,\"symbol\":\"circle\"},\"mode\":\"markers\",\"name\":\"MailOnline\",\"orientation\":\"v\",\"showlegend\":true,\"x\":[0.0052,0.0129],\"xaxis\":\"x\",\"y\":[0.8897,0.5095],\"yaxis\":\"y\",\"type\":\"scatter\"}],\"name\":\"2021-08-24\"},{\"data\":[{\"hovertemplate\":\"<b>%{hovertext}</b><br><br>Username=Daily_Express<br>only_date=2021-08-25<br>positive=%{x}<br>negative=%{y}<br>Like Count=%{marker.size}<extra></extra>\",\"hovertext\":[\"Daily_Express\"],\"legendgroup\":\"Daily_Express\",\"marker\":{\"color\":\"#EF553B\",\"size\":[2.0],\"sizemode\":\"area\",\"sizeref\":3.8625,\"symbol\":\"circle\"},\"mode\":\"markers\",\"name\":\"Daily_Express\",\"orientation\":\"v\",\"showlegend\":true,\"x\":[0.0051],\"xaxis\":\"x\",\"y\":[0.8548],\"yaxis\":\"y\",\"type\":\"scatter\"}],\"name\":\"2021-08-25\"},{\"data\":[{\"hovertemplate\":\"<b>%{hovertext}</b><br><br>Username=TheSun<br>only_date=2021-08-26<br>positive=%{x}<br>negative=%{y}<br>Like Count=%{marker.size}<extra></extra>\",\"hovertext\":[\"TheSun\",\"TheSun\"],\"legendgroup\":\"TheSun\",\"marker\":{\"color\":\"#00cc96\",\"size\":[19.0,8.0],\"sizemode\":\"area\",\"sizeref\":3.8625,\"symbol\":\"circle\"},\"mode\":\"markers\",\"name\":\"TheSun\",\"orientation\":\"v\",\"showlegend\":true,\"x\":[0.0062,0.0065],\"xaxis\":\"x\",\"y\":[0.7755,0.7184],\"yaxis\":\"y\",\"type\":\"scatter\"}],\"name\":\"2021-08-26\"},{\"data\":[{\"hovertemplate\":\"<b>%{hovertext}</b><br><br>Username=Daily_Express<br>only_date=2021-08-29<br>positive=%{x}<br>negative=%{y}<br>Like Count=%{marker.size}<extra></extra>\",\"hovertext\":[\"Daily_Express\"],\"legendgroup\":\"Daily_Express\",\"marker\":{\"color\":\"#EF553B\",\"size\":[3.0],\"sizemode\":\"area\",\"sizeref\":3.8625,\"symbol\":\"circle\"},\"mode\":\"markers\",\"name\":\"Daily_Express\",\"orientation\":\"v\",\"showlegend\":true,\"x\":[0.0171],\"xaxis\":\"x\",\"y\":[0.4798],\"yaxis\":\"y\",\"type\":\"scatter\"},{\"hovertemplate\":\"<b>%{hovertext}</b><br><br>Username=MailOnline<br>only_date=2021-08-29<br>positive=%{x}<br>negative=%{y}<br>Like Count=%{marker.size}<extra></extra>\",\"hovertext\":[\"MailOnline\",\"MailOnline\"],\"legendgroup\":\"MailOnline\",\"marker\":{\"color\":\"#ab63fa\",\"size\":[48.0,23.0],\"sizemode\":\"area\",\"sizeref\":3.8625,\"symbol\":\"circle\"},\"mode\":\"markers\",\"name\":\"MailOnline\",\"orientation\":\"v\",\"showlegend\":true,\"x\":[0.0078,0.0072],\"xaxis\":\"x\",\"y\":[0.6842,0.7077],\"yaxis\":\"y\",\"type\":\"scatter\"}],\"name\":\"2021-08-29\"},{\"data\":[{\"hovertemplate\":\"<b>%{hovertext}</b><br><br>Username=DailyMailUK<br>only_date=2021-08-30<br>positive=%{x}<br>negative=%{y}<br>Like Count=%{marker.size}<extra></extra>\",\"hovertext\":[\"DailyMailUK\"],\"legendgroup\":\"DailyMailUK\",\"marker\":{\"color\":\"#636efa\",\"size\":[19.0],\"sizemode\":\"area\",\"sizeref\":3.8625,\"symbol\":\"circle\"},\"mode\":\"markers\",\"name\":\"DailyMailUK\",\"orientation\":\"v\",\"showlegend\":true,\"x\":[0.0353],\"xaxis\":\"x\",\"y\":[0.1847],\"yaxis\":\"y\",\"type\":\"scatter\"},{\"hovertemplate\":\"<b>%{hovertext}</b><br><br>Username=Daily_Express<br>only_date=2021-08-30<br>positive=%{x}<br>negative=%{y}<br>Like Count=%{marker.size}<extra></extra>\",\"hovertext\":[\"Daily_Express\",\"Daily_Express\"],\"legendgroup\":\"Daily_Express\",\"marker\":{\"color\":\"#EF553B\",\"size\":[1.0,3.0],\"sizemode\":\"area\",\"sizeref\":3.8625,\"symbol\":\"circle\"},\"mode\":\"markers\",\"name\":\"Daily_Express\",\"orientation\":\"v\",\"showlegend\":true,\"x\":[0.0057,0.0056],\"xaxis\":\"x\",\"y\":[0.8034,0.7949],\"yaxis\":\"y\",\"type\":\"scatter\"}],\"name\":\"2021-08-30\"},{\"data\":[{\"hovertemplate\":\"<b>%{hovertext}</b><br><br>Username=DailyMailUK<br>only_date=2021-08-31<br>positive=%{x}<br>negative=%{y}<br>Like Count=%{marker.size}<extra></extra>\",\"hovertext\":[\"DailyMailUK\"],\"legendgroup\":\"DailyMailUK\",\"marker\":{\"color\":\"#636efa\",\"size\":[31.0],\"sizemode\":\"area\",\"sizeref\":3.8625,\"symbol\":\"circle\"},\"mode\":\"markers\",\"name\":\"DailyMailUK\",\"orientation\":\"v\",\"showlegend\":true,\"x\":[0.0096],\"xaxis\":\"x\",\"y\":[0.6541],\"yaxis\":\"y\",\"type\":\"scatter\"},{\"hovertemplate\":\"<b>%{hovertext}</b><br><br>Username=MailOnline<br>only_date=2021-08-31<br>positive=%{x}<br>negative=%{y}<br>Like Count=%{marker.size}<extra></extra>\",\"hovertext\":[\"MailOnline\"],\"legendgroup\":\"MailOnline\",\"marker\":{\"color\":\"#ab63fa\",\"size\":[28.0],\"sizemode\":\"area\",\"sizeref\":3.8625,\"symbol\":\"circle\"},\"mode\":\"markers\",\"name\":\"MailOnline\",\"orientation\":\"v\",\"showlegend\":true,\"x\":[0.0163],\"xaxis\":\"x\",\"y\":[0.544],\"yaxis\":\"y\",\"type\":\"scatter\"}],\"name\":\"2021-08-31\"},{\"data\":[{\"hovertemplate\":\"<b>%{hovertext}</b><br><br>Username=MailOnline<br>only_date=2021-09-01<br>positive=%{x}<br>negative=%{y}<br>Like Count=%{marker.size}<extra></extra>\",\"hovertext\":[\"MailOnline\"],\"legendgroup\":\"MailOnline\",\"marker\":{\"color\":\"#ab63fa\",\"size\":[9.0],\"sizemode\":\"area\",\"sizeref\":3.8625,\"symbol\":\"circle\"},\"mode\":\"markers\",\"name\":\"MailOnline\",\"orientation\":\"v\",\"showlegend\":true,\"x\":[0.0048],\"xaxis\":\"x\",\"y\":[0.7855],\"yaxis\":\"y\",\"type\":\"scatter\"}],\"name\":\"2021-09-01\"},{\"data\":[{\"hovertemplate\":\"<b>%{hovertext}</b><br><br>Username=DailyMailUK<br>only_date=2021-09-02<br>positive=%{x}<br>negative=%{y}<br>Like Count=%{marker.size}<extra></extra>\",\"hovertext\":[\"DailyMailUK\"],\"legendgroup\":\"DailyMailUK\",\"marker\":{\"color\":\"#636efa\",\"size\":[13.0],\"sizemode\":\"area\",\"sizeref\":3.8625,\"symbol\":\"circle\"},\"mode\":\"markers\",\"name\":\"DailyMailUK\",\"orientation\":\"v\",\"showlegend\":true,\"x\":[0.0063],\"xaxis\":\"x\",\"y\":[0.7358],\"yaxis\":\"y\",\"type\":\"scatter\"}],\"name\":\"2021-09-02\"},{\"data\":[{\"hovertemplate\":\"<b>%{hovertext}</b><br><br>Username=Daily_Express<br>only_date=2021-09-03<br>positive=%{x}<br>negative=%{y}<br>Like Count=%{marker.size}<extra></extra>\",\"hovertext\":[\"Daily_Express\"],\"legendgroup\":\"Daily_Express\",\"marker\":{\"color\":\"#EF553B\",\"size\":[5.0],\"sizemode\":\"area\",\"sizeref\":3.8625,\"symbol\":\"circle\"},\"mode\":\"markers\",\"name\":\"Daily_Express\",\"orientation\":\"v\",\"showlegend\":true,\"x\":[0.0054],\"xaxis\":\"x\",\"y\":[0.8442],\"yaxis\":\"y\",\"type\":\"scatter\"},{\"hovertemplate\":\"<b>%{hovertext}</b><br><br>Username=MailOnline<br>only_date=2021-09-03<br>positive=%{x}<br>negative=%{y}<br>Like Count=%{marker.size}<extra></extra>\",\"hovertext\":[\"MailOnline\",\"MailOnline\"],\"legendgroup\":\"MailOnline\",\"marker\":{\"color\":\"#ab63fa\",\"size\":[42.0,7.0],\"sizemode\":\"area\",\"sizeref\":3.8625,\"symbol\":\"circle\"},\"mode\":\"markers\",\"name\":\"MailOnline\",\"orientation\":\"v\",\"showlegend\":true,\"x\":[0.037,0.0073],\"xaxis\":\"x\",\"y\":[0.1426,0.7977],\"yaxis\":\"y\",\"type\":\"scatter\"}],\"name\":\"2021-09-03\"},{\"data\":[{\"hovertemplate\":\"<b>%{hovertext}</b><br><br>Username=TheSun<br>only_date=2021-09-04<br>positive=%{x}<br>negative=%{y}<br>Like Count=%{marker.size}<extra></extra>\",\"hovertext\":[\"TheSun\"],\"legendgroup\":\"TheSun\",\"marker\":{\"color\":\"#00cc96\",\"size\":[14.0],\"sizemode\":\"area\",\"sizeref\":3.8625,\"symbol\":\"circle\"},\"mode\":\"markers\",\"name\":\"TheSun\",\"orientation\":\"v\",\"showlegend\":true,\"x\":[0.0067],\"xaxis\":\"x\",\"y\":[0.8112],\"yaxis\":\"y\",\"type\":\"scatter\"}],\"name\":\"2021-09-04\"},{\"data\":[{\"hovertemplate\":\"<b>%{hovertext}</b><br><br>Username=DailyMailUK<br>only_date=2021-09-06<br>positive=%{x}<br>negative=%{y}<br>Like Count=%{marker.size}<extra></extra>\",\"hovertext\":[\"DailyMailUK\",\"DailyMailUK\"],\"legendgroup\":\"DailyMailUK\",\"marker\":{\"color\":\"#636efa\",\"size\":[17.0,11.0],\"sizemode\":\"area\",\"sizeref\":3.8625,\"symbol\":\"circle\"},\"mode\":\"markers\",\"name\":\"DailyMailUK\",\"orientation\":\"v\",\"showlegend\":true,\"x\":[0.0111,0.0219],\"xaxis\":\"x\",\"y\":[0.6056,0.3979],\"yaxis\":\"y\",\"type\":\"scatter\"}],\"name\":\"2021-09-06\"},{\"data\":[{\"hovertemplate\":\"<b>%{hovertext}</b><br><br>Username=Daily_Express<br>only_date=2021-09-08<br>positive=%{x}<br>negative=%{y}<br>Like Count=%{marker.size}<extra></extra>\",\"hovertext\":[\"Daily_Express\"],\"legendgroup\":\"Daily_Express\",\"marker\":{\"color\":\"#EF553B\",\"size\":[8.0],\"sizemode\":\"area\",\"sizeref\":3.8625,\"symbol\":\"circle\"},\"mode\":\"markers\",\"name\":\"Daily_Express\",\"orientation\":\"v\",\"showlegend\":true,\"x\":[0.0194],\"xaxis\":\"x\",\"y\":[0.4175],\"yaxis\":\"y\",\"type\":\"scatter\"},{\"hovertemplate\":\"<b>%{hovertext}</b><br><br>Username=MailOnline<br>only_date=2021-09-08<br>positive=%{x}<br>negative=%{y}<br>Like Count=%{marker.size}<extra></extra>\",\"hovertext\":[\"MailOnline\",\"MailOnline\"],\"legendgroup\":\"MailOnline\",\"marker\":{\"color\":\"#ab63fa\",\"size\":[11.0,12.0],\"sizemode\":\"area\",\"sizeref\":3.8625,\"symbol\":\"circle\"},\"mode\":\"markers\",\"name\":\"MailOnline\",\"orientation\":\"v\",\"showlegend\":true,\"x\":[0.009,0.0147],\"xaxis\":\"x\",\"y\":[0.6942,0.4005],\"yaxis\":\"y\",\"type\":\"scatter\"}],\"name\":\"2021-09-08\"},{\"data\":[{\"hovertemplate\":\"<b>%{hovertext}</b><br><br>Username=MailOnline<br>only_date=2021-09-09<br>positive=%{x}<br>negative=%{y}<br>Like Count=%{marker.size}<extra></extra>\",\"hovertext\":[\"MailOnline\",\"MailOnline\",\"MailOnline\"],\"legendgroup\":\"MailOnline\",\"marker\":{\"color\":\"#ab63fa\",\"size\":[12.0,14.0,3.0],\"sizemode\":\"area\",\"sizeref\":3.8625,\"symbol\":\"circle\"},\"mode\":\"markers\",\"name\":\"MailOnline\",\"orientation\":\"v\",\"showlegend\":true,\"x\":[0.0122,0.1787,0.0554],\"xaxis\":\"x\",\"y\":[0.5166,0.2848,0.1279],\"yaxis\":\"y\",\"type\":\"scatter\"}],\"name\":\"2021-09-09\"},{\"data\":[{\"hovertemplate\":\"<b>%{hovertext}</b><br><br>Username=MailOnline<br>only_date=2021-09-10<br>positive=%{x}<br>negative=%{y}<br>Like Count=%{marker.size}<extra></extra>\",\"hovertext\":[\"MailOnline\"],\"legendgroup\":\"MailOnline\",\"marker\":{\"color\":\"#ab63fa\",\"size\":[14.0],\"sizemode\":\"area\",\"sizeref\":3.8625,\"symbol\":\"circle\"},\"mode\":\"markers\",\"name\":\"MailOnline\",\"orientation\":\"v\",\"showlegend\":true,\"x\":[0.0117],\"xaxis\":\"x\",\"y\":[0.4073],\"yaxis\":\"y\",\"type\":\"scatter\"}],\"name\":\"2021-09-10\"},{\"data\":[{\"hovertemplate\":\"<b>%{hovertext}</b><br><br>Username=DailyMailUK<br>only_date=2021-09-11<br>positive=%{x}<br>negative=%{y}<br>Like Count=%{marker.size}<extra></extra>\",\"hovertext\":[\"DailyMailUK\"],\"legendgroup\":\"DailyMailUK\",\"marker\":{\"color\":\"#636efa\",\"size\":[3.0],\"sizemode\":\"area\",\"sizeref\":3.8625,\"symbol\":\"circle\"},\"mode\":\"markers\",\"name\":\"DailyMailUK\",\"orientation\":\"v\",\"showlegend\":true,\"x\":[0.0065],\"xaxis\":\"x\",\"y\":[0.779],\"yaxis\":\"y\",\"type\":\"scatter\"},{\"hovertemplate\":\"<b>%{hovertext}</b><br><br>Username=TheSun<br>only_date=2021-09-11<br>positive=%{x}<br>negative=%{y}<br>Like Count=%{marker.size}<extra></extra>\",\"hovertext\":[\"TheSun\",\"TheSun\"],\"legendgroup\":\"TheSun\",\"marker\":{\"color\":\"#00cc96\",\"size\":[17.0,8.0],\"sizemode\":\"area\",\"sizeref\":3.8625,\"symbol\":\"circle\"},\"mode\":\"markers\",\"name\":\"TheSun\",\"orientation\":\"v\",\"showlegend\":true,\"x\":[0.0087,0.0091],\"xaxis\":\"x\",\"y\":[0.6828,0.687],\"yaxis\":\"y\",\"type\":\"scatter\"}],\"name\":\"2021-09-11\"},{\"data\":[{\"hovertemplate\":\"<b>%{hovertext}</b><br><br>Username=DailyMailUK<br>only_date=2021-09-12<br>positive=%{x}<br>negative=%{y}<br>Like Count=%{marker.size}<extra></extra>\",\"hovertext\":[\"DailyMailUK\",\"DailyMailUK\"],\"legendgroup\":\"DailyMailUK\",\"marker\":{\"color\":\"#636efa\",\"size\":[28.0,5.0],\"sizemode\":\"area\",\"sizeref\":3.8625,\"symbol\":\"circle\"},\"mode\":\"markers\",\"name\":\"DailyMailUK\",\"orientation\":\"v\",\"showlegend\":true,\"x\":[0.0074,0.0076],\"xaxis\":\"x\",\"y\":[0.5757,0.6576],\"yaxis\":\"y\",\"type\":\"scatter\"},{\"hovertemplate\":\"<b>%{hovertext}</b><br><br>Username=Daily_Express<br>only_date=2021-09-12<br>positive=%{x}<br>negative=%{y}<br>Like Count=%{marker.size}<extra></extra>\",\"hovertext\":[\"Daily_Express\"],\"legendgroup\":\"Daily_Express\",\"marker\":{\"color\":\"#EF553B\",\"size\":[6.0],\"sizemode\":\"area\",\"sizeref\":3.8625,\"symbol\":\"circle\"},\"mode\":\"markers\",\"name\":\"Daily_Express\",\"orientation\":\"v\",\"showlegend\":true,\"x\":[0.0055],\"xaxis\":\"x\",\"y\":[0.8782],\"yaxis\":\"y\",\"type\":\"scatter\"},{\"hovertemplate\":\"<b>%{hovertext}</b><br><br>Username=MailOnline<br>only_date=2021-09-12<br>positive=%{x}<br>negative=%{y}<br>Like Count=%{marker.size}<extra></extra>\",\"hovertext\":[\"MailOnline\"],\"legendgroup\":\"MailOnline\",\"marker\":{\"color\":\"#ab63fa\",\"size\":[20.0],\"sizemode\":\"area\",\"sizeref\":3.8625,\"symbol\":\"circle\"},\"mode\":\"markers\",\"name\":\"MailOnline\",\"orientation\":\"v\",\"showlegend\":true,\"x\":[0.0098],\"xaxis\":\"x\",\"y\":[0.6829],\"yaxis\":\"y\",\"type\":\"scatter\"}],\"name\":\"2021-09-12\"},{\"data\":[{\"hovertemplate\":\"<b>%{hovertext}</b><br><br>Username=Daily_Express<br>only_date=2021-09-13<br>positive=%{x}<br>negative=%{y}<br>Like Count=%{marker.size}<extra></extra>\",\"hovertext\":[\"Daily_Express\"],\"legendgroup\":\"Daily_Express\",\"marker\":{\"color\":\"#EF553B\",\"size\":[4.0],\"sizemode\":\"area\",\"sizeref\":3.8625,\"symbol\":\"circle\"},\"mode\":\"markers\",\"name\":\"Daily_Express\",\"orientation\":\"v\",\"showlegend\":true,\"x\":[0.0153],\"xaxis\":\"x\",\"y\":[0.4101],\"yaxis\":\"y\",\"type\":\"scatter\"}],\"name\":\"2021-09-13\"},{\"data\":[{\"hovertemplate\":\"<b>%{hovertext}</b><br><br>Username=TheSun<br>only_date=2021-09-14<br>positive=%{x}<br>negative=%{y}<br>Like Count=%{marker.size}<extra></extra>\",\"hovertext\":[\"TheSun\"],\"legendgroup\":\"TheSun\",\"marker\":{\"color\":\"#00cc96\",\"size\":[4.0],\"sizemode\":\"area\",\"sizeref\":3.8625,\"symbol\":\"circle\"},\"mode\":\"markers\",\"name\":\"TheSun\",\"orientation\":\"v\",\"showlegend\":true,\"x\":[0.0085],\"xaxis\":\"x\",\"y\":[0.804],\"yaxis\":\"y\",\"type\":\"scatter\"},{\"hovertemplate\":\"<b>%{hovertext}</b><br><br>Username=MailOnline<br>only_date=2021-09-14<br>positive=%{x}<br>negative=%{y}<br>Like Count=%{marker.size}<extra></extra>\",\"hovertext\":[\"MailOnline\"],\"legendgroup\":\"MailOnline\",\"marker\":{\"color\":\"#ab63fa\",\"size\":[23.0],\"sizemode\":\"area\",\"sizeref\":3.8625,\"symbol\":\"circle\"},\"mode\":\"markers\",\"name\":\"MailOnline\",\"orientation\":\"v\",\"showlegend\":true,\"x\":[0.0085],\"xaxis\":\"x\",\"y\":[0.4035],\"yaxis\":\"y\",\"type\":\"scatter\"}],\"name\":\"2021-09-14\"},{\"data\":[{\"hovertemplate\":\"<b>%{hovertext}</b><br><br>Username=DailyMailUK<br>only_date=2021-09-15<br>positive=%{x}<br>negative=%{y}<br>Like Count=%{marker.size}<extra></extra>\",\"hovertext\":[\"DailyMailUK\"],\"legendgroup\":\"DailyMailUK\",\"marker\":{\"color\":\"#636efa\",\"size\":[7.0],\"sizemode\":\"area\",\"sizeref\":3.8625,\"symbol\":\"circle\"},\"mode\":\"markers\",\"name\":\"DailyMailUK\",\"orientation\":\"v\",\"showlegend\":true,\"x\":[0.0149],\"xaxis\":\"x\",\"y\":[0.5683],\"yaxis\":\"y\",\"type\":\"scatter\"},{\"hovertemplate\":\"<b>%{hovertext}</b><br><br>Username=MailOnline<br>only_date=2021-09-15<br>positive=%{x}<br>negative=%{y}<br>Like Count=%{marker.size}<extra></extra>\",\"hovertext\":[\"MailOnline\"],\"legendgroup\":\"MailOnline\",\"marker\":{\"color\":\"#ab63fa\",\"size\":[24.0],\"sizemode\":\"area\",\"sizeref\":3.8625,\"symbol\":\"circle\"},\"mode\":\"markers\",\"name\":\"MailOnline\",\"orientation\":\"v\",\"showlegend\":true,\"x\":[0.006],\"xaxis\":\"x\",\"y\":[0.8342],\"yaxis\":\"y\",\"type\":\"scatter\"}],\"name\":\"2021-09-15\"},{\"data\":[{\"hovertemplate\":\"<b>%{hovertext}</b><br><br>Username=DailyMailUK<br>only_date=2021-09-17<br>positive=%{x}<br>negative=%{y}<br>Like Count=%{marker.size}<extra></extra>\",\"hovertext\":[\"DailyMailUK\"],\"legendgroup\":\"DailyMailUK\",\"marker\":{\"color\":\"#636efa\",\"size\":[14.0],\"sizemode\":\"area\",\"sizeref\":3.8625,\"symbol\":\"circle\"},\"mode\":\"markers\",\"name\":\"DailyMailUK\",\"orientation\":\"v\",\"showlegend\":true,\"x\":[0.0077],\"xaxis\":\"x\",\"y\":[0.7683],\"yaxis\":\"y\",\"type\":\"scatter\"},{\"hovertemplate\":\"<b>%{hovertext}</b><br><br>Username=TheSun<br>only_date=2021-09-17<br>positive=%{x}<br>negative=%{y}<br>Like Count=%{marker.size}<extra></extra>\",\"hovertext\":[\"TheSun\"],\"legendgroup\":\"TheSun\",\"marker\":{\"color\":\"#00cc96\",\"size\":[12.0],\"sizemode\":\"area\",\"sizeref\":3.8625,\"symbol\":\"circle\"},\"mode\":\"markers\",\"name\":\"TheSun\",\"orientation\":\"v\",\"showlegend\":true,\"x\":[0.0155],\"xaxis\":\"x\",\"y\":[0.7178],\"yaxis\":\"y\",\"type\":\"scatter\"},{\"hovertemplate\":\"<b>%{hovertext}</b><br><br>Username=MailOnline<br>only_date=2021-09-17<br>positive=%{x}<br>negative=%{y}<br>Like Count=%{marker.size}<extra></extra>\",\"hovertext\":[\"MailOnline\",\"MailOnline\",\"MailOnline\"],\"legendgroup\":\"MailOnline\",\"marker\":{\"color\":\"#ab63fa\",\"size\":[29.0,20.0,20.0],\"sizemode\":\"area\",\"sizeref\":3.8625,\"symbol\":\"circle\"},\"mode\":\"markers\",\"name\":\"MailOnline\",\"orientation\":\"v\",\"showlegend\":true,\"x\":[0.0089,0.0078,0.0095],\"xaxis\":\"x\",\"y\":[0.6753,0.6812,0.6394],\"yaxis\":\"y\",\"type\":\"scatter\"}],\"name\":\"2021-09-17\"},{\"data\":[{\"hovertemplate\":\"<b>%{hovertext}</b><br><br>Username=MailOnline<br>only_date=2021-09-19<br>positive=%{x}<br>negative=%{y}<br>Like Count=%{marker.size}<extra></extra>\",\"hovertext\":[\"MailOnline\"],\"legendgroup\":\"MailOnline\",\"marker\":{\"color\":\"#ab63fa\",\"size\":[10.0],\"sizemode\":\"area\",\"sizeref\":3.8625,\"symbol\":\"circle\"},\"mode\":\"markers\",\"name\":\"MailOnline\",\"orientation\":\"v\",\"showlegend\":true,\"x\":[0.0126],\"xaxis\":\"x\",\"y\":[0.4751],\"yaxis\":\"y\",\"type\":\"scatter\"}],\"name\":\"2021-09-19\"},{\"data\":[{\"hovertemplate\":\"<b>%{hovertext}</b><br><br>Username=MailOnline<br>only_date=2021-09-20<br>positive=%{x}<br>negative=%{y}<br>Like Count=%{marker.size}<extra></extra>\",\"hovertext\":[\"MailOnline\"],\"legendgroup\":\"MailOnline\",\"marker\":{\"color\":\"#ab63fa\",\"size\":[15.0],\"sizemode\":\"area\",\"sizeref\":3.8625,\"symbol\":\"circle\"},\"mode\":\"markers\",\"name\":\"MailOnline\",\"orientation\":\"v\",\"showlegend\":true,\"x\":[0.0065],\"xaxis\":\"x\",\"y\":[0.7964],\"yaxis\":\"y\",\"type\":\"scatter\"}],\"name\":\"2021-09-20\"},{\"data\":[{\"hovertemplate\":\"<b>%{hovertext}</b><br><br>Username=MailOnline<br>only_date=2021-09-29<br>positive=%{x}<br>negative=%{y}<br>Like Count=%{marker.size}<extra></extra>\",\"hovertext\":[\"MailOnline\",\"MailOnline\"],\"legendgroup\":\"MailOnline\",\"marker\":{\"color\":\"#ab63fa\",\"size\":[23.0,9.0],\"sizemode\":\"area\",\"sizeref\":3.8625,\"symbol\":\"circle\"},\"mode\":\"markers\",\"name\":\"MailOnline\",\"orientation\":\"v\",\"showlegend\":true,\"x\":[0.0125,0.0633],\"xaxis\":\"x\",\"y\":[0.5214,0.1824],\"yaxis\":\"y\",\"type\":\"scatter\"}],\"name\":\"2021-09-29\"},{\"data\":[{\"hovertemplate\":\"<b>%{hovertext}</b><br><br>Username=TheSun<br>only_date=2021-10-03<br>positive=%{x}<br>negative=%{y}<br>Like Count=%{marker.size}<extra></extra>\",\"hovertext\":[\"TheSun\"],\"legendgroup\":\"TheSun\",\"marker\":{\"color\":\"#00cc96\",\"size\":[10.0],\"sizemode\":\"area\",\"sizeref\":3.8625,\"symbol\":\"circle\"},\"mode\":\"markers\",\"name\":\"TheSun\",\"orientation\":\"v\",\"showlegend\":true,\"x\":[0.0078],\"xaxis\":\"x\",\"y\":[0.7443],\"yaxis\":\"y\",\"type\":\"scatter\"},{\"hovertemplate\":\"<b>%{hovertext}</b><br><br>Username=MailOnline<br>only_date=2021-10-03<br>positive=%{x}<br>negative=%{y}<br>Like Count=%{marker.size}<extra></extra>\",\"hovertext\":[\"MailOnline\"],\"legendgroup\":\"MailOnline\",\"marker\":{\"color\":\"#ab63fa\",\"size\":[10.0],\"sizemode\":\"area\",\"sizeref\":3.8625,\"symbol\":\"circle\"},\"mode\":\"markers\",\"name\":\"MailOnline\",\"orientation\":\"v\",\"showlegend\":true,\"x\":[0.0061],\"xaxis\":\"x\",\"y\":[0.7728],\"yaxis\":\"y\",\"type\":\"scatter\"}],\"name\":\"2021-10-03\"},{\"data\":[{\"hovertemplate\":\"<b>%{hovertext}</b><br><br>Username=MailOnline<br>only_date=2021-10-04<br>positive=%{x}<br>negative=%{y}<br>Like Count=%{marker.size}<extra></extra>\",\"hovertext\":[\"MailOnline\",\"MailOnline\"],\"legendgroup\":\"MailOnline\",\"marker\":{\"color\":\"#ab63fa\",\"size\":[8.0,45.0],\"sizemode\":\"area\",\"sizeref\":3.8625,\"symbol\":\"circle\"},\"mode\":\"markers\",\"name\":\"MailOnline\",\"orientation\":\"v\",\"showlegend\":true,\"x\":[0.0266,0.0298],\"xaxis\":\"x\",\"y\":[0.1043,0.1207],\"yaxis\":\"y\",\"type\":\"scatter\"}],\"name\":\"2021-10-04\"},{\"data\":[{\"hovertemplate\":\"<b>%{hovertext}</b><br><br>Username=MailOnline<br>only_date=2021-10-07<br>positive=%{x}<br>negative=%{y}<br>Like Count=%{marker.size}<extra></extra>\",\"hovertext\":[\"MailOnline\"],\"legendgroup\":\"MailOnline\",\"marker\":{\"color\":\"#ab63fa\",\"size\":[6.0],\"sizemode\":\"area\",\"sizeref\":3.8625,\"symbol\":\"circle\"},\"mode\":\"markers\",\"name\":\"MailOnline\",\"orientation\":\"v\",\"showlegend\":true,\"x\":[0.022],\"xaxis\":\"x\",\"y\":[0.6111],\"yaxis\":\"y\",\"type\":\"scatter\"}],\"name\":\"2021-10-07\"},{\"data\":[{\"hovertemplate\":\"<b>%{hovertext}</b><br><br>Username=MailOnline<br>only_date=2021-10-08<br>positive=%{x}<br>negative=%{y}<br>Like Count=%{marker.size}<extra></extra>\",\"hovertext\":[\"MailOnline\"],\"legendgroup\":\"MailOnline\",\"marker\":{\"color\":\"#ab63fa\",\"size\":[12.0],\"sizemode\":\"area\",\"sizeref\":3.8625,\"symbol\":\"circle\"},\"mode\":\"markers\",\"name\":\"MailOnline\",\"orientation\":\"v\",\"showlegend\":true,\"x\":[0.0071],\"xaxis\":\"x\",\"y\":[0.7505],\"yaxis\":\"y\",\"type\":\"scatter\"}],\"name\":\"2021-10-08\"},{\"data\":[{\"hovertemplate\":\"<b>%{hovertext}</b><br><br>Username=TheSun<br>only_date=2021-10-09<br>positive=%{x}<br>negative=%{y}<br>Like Count=%{marker.size}<extra></extra>\",\"hovertext\":[\"TheSun\"],\"legendgroup\":\"TheSun\",\"marker\":{\"color\":\"#00cc96\",\"size\":[9.0],\"sizemode\":\"area\",\"sizeref\":3.8625,\"symbol\":\"circle\"},\"mode\":\"markers\",\"name\":\"TheSun\",\"orientation\":\"v\",\"showlegend\":true,\"x\":[0.0065],\"xaxis\":\"x\",\"y\":[0.8783],\"yaxis\":\"y\",\"type\":\"scatter\"}],\"name\":\"2021-10-09\"},{\"data\":[{\"hovertemplate\":\"<b>%{hovertext}</b><br><br>Username=MailOnline<br>only_date=2021-10-10<br>positive=%{x}<br>negative=%{y}<br>Like Count=%{marker.size}<extra></extra>\",\"hovertext\":[\"MailOnline\"],\"legendgroup\":\"MailOnline\",\"marker\":{\"color\":\"#ab63fa\",\"size\":[16.0],\"sizemode\":\"area\",\"sizeref\":3.8625,\"symbol\":\"circle\"},\"mode\":\"markers\",\"name\":\"MailOnline\",\"orientation\":\"v\",\"showlegend\":true,\"x\":[0.0076],\"xaxis\":\"x\",\"y\":[0.7172],\"yaxis\":\"y\",\"type\":\"scatter\"}],\"name\":\"2021-10-10\"},{\"data\":[{\"hovertemplate\":\"<b>%{hovertext}</b><br><br>Username=MailOnline<br>only_date=2021-10-11<br>positive=%{x}<br>negative=%{y}<br>Like Count=%{marker.size}<extra></extra>\",\"hovertext\":[\"MailOnline\",\"MailOnline\",\"MailOnline\",\"MailOnline\"],\"legendgroup\":\"MailOnline\",\"marker\":{\"color\":\"#ab63fa\",\"size\":[26.0,44.0,13.0,4.0],\"sizemode\":\"area\",\"sizeref\":3.8625,\"symbol\":\"circle\"},\"mode\":\"markers\",\"name\":\"MailOnline\",\"orientation\":\"v\",\"showlegend\":true,\"x\":[0.038,0.0077,0.0059,0.0104],\"xaxis\":\"x\",\"y\":[0.0126,0.8373,0.8293,0.6544],\"yaxis\":\"y\",\"type\":\"scatter\"}],\"name\":\"2021-10-11\"},{\"data\":[{\"hovertemplate\":\"<b>%{hovertext}</b><br><br>Username=DailyMailUK<br>only_date=2021-10-12<br>positive=%{x}<br>negative=%{y}<br>Like Count=%{marker.size}<extra></extra>\",\"hovertext\":[\"DailyMailUK\"],\"legendgroup\":\"DailyMailUK\",\"marker\":{\"color\":\"#636efa\",\"size\":[18.0],\"sizemode\":\"area\",\"sizeref\":3.8625,\"symbol\":\"circle\"},\"mode\":\"markers\",\"name\":\"DailyMailUK\",\"orientation\":\"v\",\"showlegend\":true,\"x\":[0.0562],\"xaxis\":\"x\",\"y\":[0.1035],\"yaxis\":\"y\",\"type\":\"scatter\"},{\"hovertemplate\":\"<b>%{hovertext}</b><br><br>Username=MailOnline<br>only_date=2021-10-12<br>positive=%{x}<br>negative=%{y}<br>Like Count=%{marker.size}<extra></extra>\",\"hovertext\":[\"MailOnline\"],\"legendgroup\":\"MailOnline\",\"marker\":{\"color\":\"#ab63fa\",\"size\":[7.0],\"sizemode\":\"area\",\"sizeref\":3.8625,\"symbol\":\"circle\"},\"mode\":\"markers\",\"name\":\"MailOnline\",\"orientation\":\"v\",\"showlegend\":true,\"x\":[0.0052],\"xaxis\":\"x\",\"y\":[0.8342],\"yaxis\":\"y\",\"type\":\"scatter\"}],\"name\":\"2021-10-12\"},{\"data\":[{\"hovertemplate\":\"<b>%{hovertext}</b><br><br>Username=TheSun<br>only_date=2021-10-14<br>positive=%{x}<br>negative=%{y}<br>Like Count=%{marker.size}<extra></extra>\",\"hovertext\":[\"TheSun\",\"TheSun\",\"TheSun\"],\"legendgroup\":\"TheSun\",\"marker\":{\"color\":\"#00cc96\",\"size\":[79.0,8.0,13.0],\"sizemode\":\"area\",\"sizeref\":3.8625,\"symbol\":\"circle\"},\"mode\":\"markers\",\"name\":\"TheSun\",\"orientation\":\"v\",\"showlegend\":true,\"x\":[0.0108,0.007,0.0074],\"xaxis\":\"x\",\"y\":[0.2253,0.751,0.782],\"yaxis\":\"y\",\"type\":\"scatter\"},{\"hovertemplate\":\"<b>%{hovertext}</b><br><br>Username=MailOnline<br>only_date=2021-10-14<br>positive=%{x}<br>negative=%{y}<br>Like Count=%{marker.size}<extra></extra>\",\"hovertext\":[\"MailOnline\",\"MailOnline\",\"MailOnline\",\"MailOnline\",\"MailOnline\",\"MailOnline\"],\"legendgroup\":\"MailOnline\",\"marker\":{\"color\":\"#ab63fa\",\"size\":[11.0,2.0,26.0,44.0,34.0,8.0],\"sizemode\":\"area\",\"sizeref\":3.8625,\"symbol\":\"circle\"},\"mode\":\"markers\",\"name\":\"MailOnline\",\"orientation\":\"v\",\"showlegend\":true,\"x\":[0.0053,0.007,0.0051,0.0114,0.0057,0.0086],\"xaxis\":\"x\",\"y\":[0.7768,0.7301,0.8036,0.3688,0.7901,0.5345],\"yaxis\":\"y\",\"type\":\"scatter\"}],\"name\":\"2021-10-14\"},{\"data\":[{\"hovertemplate\":\"<b>%{hovertext}</b><br><br>Username=DailyMailUK<br>only_date=2021-10-15<br>positive=%{x}<br>negative=%{y}<br>Like Count=%{marker.size}<extra></extra>\",\"hovertext\":[\"DailyMailUK\"],\"legendgroup\":\"DailyMailUK\",\"marker\":{\"color\":\"#636efa\",\"size\":[75.0],\"sizemode\":\"area\",\"sizeref\":3.8625,\"symbol\":\"circle\"},\"mode\":\"markers\",\"name\":\"DailyMailUK\",\"orientation\":\"v\",\"showlegend\":true,\"x\":[0.0074],\"xaxis\":\"x\",\"y\":[0.644],\"yaxis\":\"y\",\"type\":\"scatter\"},{\"hovertemplate\":\"<b>%{hovertext}</b><br><br>Username=MailOnline<br>only_date=2021-10-15<br>positive=%{x}<br>negative=%{y}<br>Like Count=%{marker.size}<extra></extra>\",\"hovertext\":[\"MailOnline\",\"MailOnline\"],\"legendgroup\":\"MailOnline\",\"marker\":{\"color\":\"#ab63fa\",\"size\":[15.0,4.0],\"sizemode\":\"area\",\"sizeref\":3.8625,\"symbol\":\"circle\"},\"mode\":\"markers\",\"name\":\"MailOnline\",\"orientation\":\"v\",\"showlegend\":true,\"x\":[0.0077,0.009],\"xaxis\":\"x\",\"y\":[0.7198,0.6544],\"yaxis\":\"y\",\"type\":\"scatter\"}],\"name\":\"2021-10-15\"},{\"data\":[{\"hovertemplate\":\"<b>%{hovertext}</b><br><br>Username=DailyMailUK<br>only_date=2021-10-16<br>positive=%{x}<br>negative=%{y}<br>Like Count=%{marker.size}<extra></extra>\",\"hovertext\":[\"DailyMailUK\"],\"legendgroup\":\"DailyMailUK\",\"marker\":{\"color\":\"#636efa\",\"size\":[4.0],\"sizemode\":\"area\",\"sizeref\":3.8625,\"symbol\":\"circle\"},\"mode\":\"markers\",\"name\":\"DailyMailUK\",\"orientation\":\"v\",\"showlegend\":true,\"x\":[0.0046],\"xaxis\":\"x\",\"y\":[0.8867],\"yaxis\":\"y\",\"type\":\"scatter\"},{\"hovertemplate\":\"<b>%{hovertext}</b><br><br>Username=MailOnline<br>only_date=2021-10-16<br>positive=%{x}<br>negative=%{y}<br>Like Count=%{marker.size}<extra></extra>\",\"hovertext\":[\"MailOnline\",\"MailOnline\",\"MailOnline\",\"MailOnline\",\"MailOnline\"],\"legendgroup\":\"MailOnline\",\"marker\":{\"color\":\"#ab63fa\",\"size\":[25.0,8.0,8.0,12.0,27.0],\"sizemode\":\"area\",\"sizeref\":3.8625,\"symbol\":\"circle\"},\"mode\":\"markers\",\"name\":\"MailOnline\",\"orientation\":\"v\",\"showlegend\":true,\"x\":[0.0072,0.0049,0.0059,0.0053,0.0703],\"xaxis\":\"x\",\"y\":[0.7728,0.8682,0.7596,0.8263,0.0075],\"yaxis\":\"y\",\"type\":\"scatter\"}],\"name\":\"2021-10-16\"},{\"data\":[{\"hovertemplate\":\"<b>%{hovertext}</b><br><br>Username=MailOnline<br>only_date=2021-10-17<br>positive=%{x}<br>negative=%{y}<br>Like Count=%{marker.size}<extra></extra>\",\"hovertext\":[\"MailOnline\",\"MailOnline\"],\"legendgroup\":\"MailOnline\",\"marker\":{\"color\":\"#ab63fa\",\"size\":[99.0,70.0],\"sizemode\":\"area\",\"sizeref\":3.8625,\"symbol\":\"circle\"},\"mode\":\"markers\",\"name\":\"MailOnline\",\"orientation\":\"v\",\"showlegend\":true,\"x\":[0.0123,0.0072],\"xaxis\":\"x\",\"y\":[0.5604,0.6685],\"yaxis\":\"y\",\"type\":\"scatter\"}],\"name\":\"2021-10-17\"},{\"data\":[{\"hovertemplate\":\"<b>%{hovertext}</b><br><br>Username=DailyMailUK<br>only_date=2021-10-18<br>positive=%{x}<br>negative=%{y}<br>Like Count=%{marker.size}<extra></extra>\",\"hovertext\":[\"DailyMailUK\",\"DailyMailUK\"],\"legendgroup\":\"DailyMailUK\",\"marker\":{\"color\":\"#636efa\",\"size\":[32.0,4.0],\"sizemode\":\"area\",\"sizeref\":3.8625,\"symbol\":\"circle\"},\"mode\":\"markers\",\"name\":\"DailyMailUK\",\"orientation\":\"v\",\"showlegend\":true,\"x\":[0.0103,0.0098],\"xaxis\":\"x\",\"y\":[0.4908,0.2948],\"yaxis\":\"y\",\"type\":\"scatter\"},{\"hovertemplate\":\"<b>%{hovertext}</b><br><br>Username=MailOnline<br>only_date=2021-10-18<br>positive=%{x}<br>negative=%{y}<br>Like Count=%{marker.size}<extra></extra>\",\"hovertext\":[\"MailOnline\",\"MailOnline\",\"MailOnline\"],\"legendgroup\":\"MailOnline\",\"marker\":{\"color\":\"#ab63fa\",\"size\":[7.0,6.0,21.0],\"sizemode\":\"area\",\"sizeref\":3.8625,\"symbol\":\"circle\"},\"mode\":\"markers\",\"name\":\"MailOnline\",\"orientation\":\"v\",\"showlegend\":true,\"x\":[0.0057,0.0062,0.0099],\"xaxis\":\"x\",\"y\":[0.8152,0.773,0.5313],\"yaxis\":\"y\",\"type\":\"scatter\"}],\"name\":\"2021-10-18\"},{\"data\":[{\"hovertemplate\":\"<b>%{hovertext}</b><br><br>Username=DailyMailUK<br>only_date=2021-10-20<br>positive=%{x}<br>negative=%{y}<br>Like Count=%{marker.size}<extra></extra>\",\"hovertext\":[\"DailyMailUK\"],\"legendgroup\":\"DailyMailUK\",\"marker\":{\"color\":\"#636efa\",\"size\":[17.0],\"sizemode\":\"area\",\"sizeref\":3.8625,\"symbol\":\"circle\"},\"mode\":\"markers\",\"name\":\"DailyMailUK\",\"orientation\":\"v\",\"showlegend\":true,\"x\":[0.0063],\"xaxis\":\"x\",\"y\":[0.8556],\"yaxis\":\"y\",\"type\":\"scatter\"},{\"hovertemplate\":\"<b>%{hovertext}</b><br><br>Username=TheSun<br>only_date=2021-10-20<br>positive=%{x}<br>negative=%{y}<br>Like Count=%{marker.size}<extra></extra>\",\"hovertext\":[\"TheSun\"],\"legendgroup\":\"TheSun\",\"marker\":{\"color\":\"#00cc96\",\"size\":[8.0],\"sizemode\":\"area\",\"sizeref\":3.8625,\"symbol\":\"circle\"},\"mode\":\"markers\",\"name\":\"TheSun\",\"orientation\":\"v\",\"showlegend\":true,\"x\":[0.0075],\"xaxis\":\"x\",\"y\":[0.7945],\"yaxis\":\"y\",\"type\":\"scatter\"}],\"name\":\"2021-10-20\"},{\"data\":[{\"hovertemplate\":\"<b>%{hovertext}</b><br><br>Username=DailyMailUK<br>only_date=2021-10-21<br>positive=%{x}<br>negative=%{y}<br>Like Count=%{marker.size}<extra></extra>\",\"hovertext\":[\"DailyMailUK\"],\"legendgroup\":\"DailyMailUK\",\"marker\":{\"color\":\"#636efa\",\"size\":[11.0],\"sizemode\":\"area\",\"sizeref\":3.8625,\"symbol\":\"circle\"},\"mode\":\"markers\",\"name\":\"DailyMailUK\",\"orientation\":\"v\",\"showlegend\":true,\"x\":[0.0048],\"xaxis\":\"x\",\"y\":[0.8441],\"yaxis\":\"y\",\"type\":\"scatter\"}],\"name\":\"2021-10-21\"},{\"data\":[{\"hovertemplate\":\"<b>%{hovertext}</b><br><br>Username=TheSun<br>only_date=2021-10-22<br>positive=%{x}<br>negative=%{y}<br>Like Count=%{marker.size}<extra></extra>\",\"hovertext\":[\"TheSun\"],\"legendgroup\":\"TheSun\",\"marker\":{\"color\":\"#00cc96\",\"size\":[9.0],\"sizemode\":\"area\",\"sizeref\":3.8625,\"symbol\":\"circle\"},\"mode\":\"markers\",\"name\":\"TheSun\",\"orientation\":\"v\",\"showlegend\":true,\"x\":[0.0049],\"xaxis\":\"x\",\"y\":[0.8654],\"yaxis\":\"y\",\"type\":\"scatter\"}],\"name\":\"2021-10-22\"},{\"data\":[{\"hovertemplate\":\"<b>%{hovertext}</b><br><br>Username=DailyMailUK<br>only_date=2021-10-23<br>positive=%{x}<br>negative=%{y}<br>Like Count=%{marker.size}<extra></extra>\",\"hovertext\":[\"DailyMailUK\"],\"legendgroup\":\"DailyMailUK\",\"marker\":{\"color\":\"#636efa\",\"size\":[19.0],\"sizemode\":\"area\",\"sizeref\":3.8625,\"symbol\":\"circle\"},\"mode\":\"markers\",\"name\":\"DailyMailUK\",\"orientation\":\"v\",\"showlegend\":true,\"x\":[0.0153],\"xaxis\":\"x\",\"y\":[0.4454],\"yaxis\":\"y\",\"type\":\"scatter\"}],\"name\":\"2021-10-23\"},{\"data\":[{\"hovertemplate\":\"<b>%{hovertext}</b><br><br>Username=DailyMailUK<br>only_date=2021-10-24<br>positive=%{x}<br>negative=%{y}<br>Like Count=%{marker.size}<extra></extra>\",\"hovertext\":[\"DailyMailUK\"],\"legendgroup\":\"DailyMailUK\",\"marker\":{\"color\":\"#636efa\",\"size\":[10.0],\"sizemode\":\"area\",\"sizeref\":3.8625,\"symbol\":\"circle\"},\"mode\":\"markers\",\"name\":\"DailyMailUK\",\"orientation\":\"v\",\"showlegend\":true,\"x\":[0.0097],\"xaxis\":\"x\",\"y\":[0.6321],\"yaxis\":\"y\",\"type\":\"scatter\"},{\"hovertemplate\":\"<b>%{hovertext}</b><br><br>Username=MailOnline<br>only_date=2021-10-24<br>positive=%{x}<br>negative=%{y}<br>Like Count=%{marker.size}<extra></extra>\",\"hovertext\":[\"MailOnline\"],\"legendgroup\":\"MailOnline\",\"marker\":{\"color\":\"#ab63fa\",\"size\":[27.0],\"sizemode\":\"area\",\"sizeref\":3.8625,\"symbol\":\"circle\"},\"mode\":\"markers\",\"name\":\"MailOnline\",\"orientation\":\"v\",\"showlegend\":true,\"x\":[0.0118],\"xaxis\":\"x\",\"y\":[0.5128],\"yaxis\":\"y\",\"type\":\"scatter\"}],\"name\":\"2021-10-24\"},{\"data\":[{\"hovertemplate\":\"<b>%{hovertext}</b><br><br>Username=MailOnline<br>only_date=2021-10-25<br>positive=%{x}<br>negative=%{y}<br>Like Count=%{marker.size}<extra></extra>\",\"hovertext\":[\"MailOnline\"],\"legendgroup\":\"MailOnline\",\"marker\":{\"color\":\"#ab63fa\",\"size\":[7.0],\"sizemode\":\"area\",\"sizeref\":3.8625,\"symbol\":\"circle\"},\"mode\":\"markers\",\"name\":\"MailOnline\",\"orientation\":\"v\",\"showlegend\":true,\"x\":[0.0082],\"xaxis\":\"x\",\"y\":[0.5549],\"yaxis\":\"y\",\"type\":\"scatter\"}],\"name\":\"2021-10-25\"},{\"data\":[{\"hovertemplate\":\"<b>%{hovertext}</b><br><br>Username=DailyMailUK<br>only_date=2021-10-26<br>positive=%{x}<br>negative=%{y}<br>Like Count=%{marker.size}<extra></extra>\",\"hovertext\":[\"DailyMailUK\"],\"legendgroup\":\"DailyMailUK\",\"marker\":{\"color\":\"#636efa\",\"size\":[14.0],\"sizemode\":\"area\",\"sizeref\":3.8625,\"symbol\":\"circle\"},\"mode\":\"markers\",\"name\":\"DailyMailUK\",\"orientation\":\"v\",\"showlegend\":true,\"x\":[0.0142],\"xaxis\":\"x\",\"y\":[0.6449],\"yaxis\":\"y\",\"type\":\"scatter\"}],\"name\":\"2021-10-26\"},{\"data\":[{\"hovertemplate\":\"<b>%{hovertext}</b><br><br>Username=MailOnline<br>only_date=2021-10-27<br>positive=%{x}<br>negative=%{y}<br>Like Count=%{marker.size}<extra></extra>\",\"hovertext\":[\"MailOnline\",\"MailOnline\"],\"legendgroup\":\"MailOnline\",\"marker\":{\"color\":\"#ab63fa\",\"size\":[14.0,150.0],\"sizemode\":\"area\",\"sizeref\":3.8625,\"symbol\":\"circle\"},\"mode\":\"markers\",\"name\":\"MailOnline\",\"orientation\":\"v\",\"showlegend\":true,\"x\":[0.007,0.0124],\"xaxis\":\"x\",\"y\":[0.6928,0.4316],\"yaxis\":\"y\",\"type\":\"scatter\"}],\"name\":\"2021-10-27\"},{\"data\":[{\"hovertemplate\":\"<b>%{hovertext}</b><br><br>Username=Daily_Express<br>only_date=2021-10-28<br>positive=%{x}<br>negative=%{y}<br>Like Count=%{marker.size}<extra></extra>\",\"hovertext\":[\"Daily_Express\"],\"legendgroup\":\"Daily_Express\",\"marker\":{\"color\":\"#EF553B\",\"size\":[4.0],\"sizemode\":\"area\",\"sizeref\":3.8625,\"symbol\":\"circle\"},\"mode\":\"markers\",\"name\":\"Daily_Express\",\"orientation\":\"v\",\"showlegend\":true,\"x\":[0.0114],\"xaxis\":\"x\",\"y\":[0.7313],\"yaxis\":\"y\",\"type\":\"scatter\"},{\"hovertemplate\":\"<b>%{hovertext}</b><br><br>Username=MailOnline<br>only_date=2021-10-28<br>positive=%{x}<br>negative=%{y}<br>Like Count=%{marker.size}<extra></extra>\",\"hovertext\":[\"MailOnline\"],\"legendgroup\":\"MailOnline\",\"marker\":{\"color\":\"#ab63fa\",\"size\":[23.0],\"sizemode\":\"area\",\"sizeref\":3.8625,\"symbol\":\"circle\"},\"mode\":\"markers\",\"name\":\"MailOnline\",\"orientation\":\"v\",\"showlegend\":true,\"x\":[0.0169],\"xaxis\":\"x\",\"y\":[0.628],\"yaxis\":\"y\",\"type\":\"scatter\"}],\"name\":\"2021-10-28\"},{\"data\":[{\"hovertemplate\":\"<b>%{hovertext}</b><br><br>Username=MailOnline<br>only_date=2021-10-29<br>positive=%{x}<br>negative=%{y}<br>Like Count=%{marker.size}<extra></extra>\",\"hovertext\":[\"MailOnline\"],\"legendgroup\":\"MailOnline\",\"marker\":{\"color\":\"#ab63fa\",\"size\":[42.0],\"sizemode\":\"area\",\"sizeref\":3.8625,\"symbol\":\"circle\"},\"mode\":\"markers\",\"name\":\"MailOnline\",\"orientation\":\"v\",\"showlegend\":true,\"x\":[0.7673],\"xaxis\":\"x\",\"y\":[0.0042],\"yaxis\":\"y\",\"type\":\"scatter\"}],\"name\":\"2021-10-29\"},{\"data\":[{\"hovertemplate\":\"<b>%{hovertext}</b><br><br>Username=MailOnline<br>only_date=2021-11-01<br>positive=%{x}<br>negative=%{y}<br>Like Count=%{marker.size}<extra></extra>\",\"hovertext\":[\"MailOnline\"],\"legendgroup\":\"MailOnline\",\"marker\":{\"color\":\"#ab63fa\",\"size\":[27.0],\"sizemode\":\"area\",\"sizeref\":3.8625,\"symbol\":\"circle\"},\"mode\":\"markers\",\"name\":\"MailOnline\",\"orientation\":\"v\",\"showlegend\":true,\"x\":[0.0282],\"xaxis\":\"x\",\"y\":[0.3421],\"yaxis\":\"y\",\"type\":\"scatter\"}],\"name\":\"2021-11-01\"},{\"data\":[{\"hovertemplate\":\"<b>%{hovertext}</b><br><br>Username=Daily_Express<br>only_date=2021-11-04<br>positive=%{x}<br>negative=%{y}<br>Like Count=%{marker.size}<extra></extra>\",\"hovertext\":[\"Daily_Express\"],\"legendgroup\":\"Daily_Express\",\"marker\":{\"color\":\"#EF553B\",\"size\":[4.0],\"sizemode\":\"area\",\"sizeref\":3.8625,\"symbol\":\"circle\"},\"mode\":\"markers\",\"name\":\"Daily_Express\",\"orientation\":\"v\",\"showlegend\":true,\"x\":[0.206],\"xaxis\":\"x\",\"y\":[0.0892],\"yaxis\":\"y\",\"type\":\"scatter\"},{\"hovertemplate\":\"<b>%{hovertext}</b><br><br>Username=MailOnline<br>only_date=2021-11-04<br>positive=%{x}<br>negative=%{y}<br>Like Count=%{marker.size}<extra></extra>\",\"hovertext\":[\"MailOnline\"],\"legendgroup\":\"MailOnline\",\"marker\":{\"color\":\"#ab63fa\",\"size\":[19.0],\"sizemode\":\"area\",\"sizeref\":3.8625,\"symbol\":\"circle\"},\"mode\":\"markers\",\"name\":\"MailOnline\",\"orientation\":\"v\",\"showlegend\":true,\"x\":[0.0245],\"xaxis\":\"x\",\"y\":[0.2785],\"yaxis\":\"y\",\"type\":\"scatter\"}],\"name\":\"2021-11-04\"},{\"data\":[{\"hovertemplate\":\"<b>%{hovertext}</b><br><br>Username=DailyMailUK<br>only_date=2021-11-05<br>positive=%{x}<br>negative=%{y}<br>Like Count=%{marker.size}<extra></extra>\",\"hovertext\":[\"DailyMailUK\"],\"legendgroup\":\"DailyMailUK\",\"marker\":{\"color\":\"#636efa\",\"size\":[25.0],\"sizemode\":\"area\",\"sizeref\":3.8625,\"symbol\":\"circle\"},\"mode\":\"markers\",\"name\":\"DailyMailUK\",\"orientation\":\"v\",\"showlegend\":true,\"x\":[0.0207],\"xaxis\":\"x\",\"y\":[0.1659],\"yaxis\":\"y\",\"type\":\"scatter\"}],\"name\":\"2021-11-05\"},{\"data\":[{\"hovertemplate\":\"<b>%{hovertext}</b><br><br>Username=DailyMailUK<br>only_date=2021-11-08<br>positive=%{x}<br>negative=%{y}<br>Like Count=%{marker.size}<extra></extra>\",\"hovertext\":[\"DailyMailUK\",\"DailyMailUK\"],\"legendgroup\":\"DailyMailUK\",\"marker\":{\"color\":\"#636efa\",\"size\":[6.0,35.0],\"sizemode\":\"area\",\"sizeref\":3.8625,\"symbol\":\"circle\"},\"mode\":\"markers\",\"name\":\"DailyMailUK\",\"orientation\":\"v\",\"showlegend\":true,\"x\":[0.0119,0.0057],\"xaxis\":\"x\",\"y\":[0.5972,0.8037],\"yaxis\":\"y\",\"type\":\"scatter\"},{\"hovertemplate\":\"<b>%{hovertext}</b><br><br>Username=Daily_Express<br>only_date=2021-11-08<br>positive=%{x}<br>negative=%{y}<br>Like Count=%{marker.size}<extra></extra>\",\"hovertext\":[\"Daily_Express\"],\"legendgroup\":\"Daily_Express\",\"marker\":{\"color\":\"#EF553B\",\"size\":[11.0],\"sizemode\":\"area\",\"sizeref\":3.8625,\"symbol\":\"circle\"},\"mode\":\"markers\",\"name\":\"Daily_Express\",\"orientation\":\"v\",\"showlegend\":true,\"x\":[0.0055],\"xaxis\":\"x\",\"y\":[0.7889],\"yaxis\":\"y\",\"type\":\"scatter\"},{\"hovertemplate\":\"<b>%{hovertext}</b><br><br>Username=TheSun<br>only_date=2021-11-08<br>positive=%{x}<br>negative=%{y}<br>Like Count=%{marker.size}<extra></extra>\",\"hovertext\":[\"TheSun\",\"TheSun\"],\"legendgroup\":\"TheSun\",\"marker\":{\"color\":\"#00cc96\",\"size\":[7.0,30.0],\"sizemode\":\"area\",\"sizeref\":3.8625,\"symbol\":\"circle\"},\"mode\":\"markers\",\"name\":\"TheSun\",\"orientation\":\"v\",\"showlegend\":true,\"x\":[0.0067,0.0084],\"xaxis\":\"x\",\"y\":[0.859,0.6201],\"yaxis\":\"y\",\"type\":\"scatter\"}],\"name\":\"2021-11-08\"},{\"data\":[{\"hovertemplate\":\"<b>%{hovertext}</b><br><br>Username=DailyMailUK<br>only_date=2021-11-09<br>positive=%{x}<br>negative=%{y}<br>Like Count=%{marker.size}<extra></extra>\",\"hovertext\":[\"DailyMailUK\",\"DailyMailUK\"],\"legendgroup\":\"DailyMailUK\",\"marker\":{\"color\":\"#636efa\",\"size\":[6.0,10.0],\"sizemode\":\"area\",\"sizeref\":3.8625,\"symbol\":\"circle\"},\"mode\":\"markers\",\"name\":\"DailyMailUK\",\"orientation\":\"v\",\"showlegend\":true,\"x\":[0.0053,0.1789],\"xaxis\":\"x\",\"y\":[0.7743,0.1039],\"yaxis\":\"y\",\"type\":\"scatter\"},{\"hovertemplate\":\"<b>%{hovertext}</b><br><br>Username=MailOnline<br>only_date=2021-11-09<br>positive=%{x}<br>negative=%{y}<br>Like Count=%{marker.size}<extra></extra>\",\"hovertext\":[\"MailOnline\"],\"legendgroup\":\"MailOnline\",\"marker\":{\"color\":\"#ab63fa\",\"size\":[16.0],\"sizemode\":\"area\",\"sizeref\":3.8625,\"symbol\":\"circle\"},\"mode\":\"markers\",\"name\":\"MailOnline\",\"orientation\":\"v\",\"showlegend\":true,\"x\":[0.1653],\"xaxis\":\"x\",\"y\":[0.0056],\"yaxis\":\"y\",\"type\":\"scatter\"}],\"name\":\"2021-11-09\"},{\"data\":[{\"hovertemplate\":\"<b>%{hovertext}</b><br><br>Username=Daily_Express<br>only_date=2021-11-11<br>positive=%{x}<br>negative=%{y}<br>Like Count=%{marker.size}<extra></extra>\",\"hovertext\":[\"Daily_Express\"],\"legendgroup\":\"Daily_Express\",\"marker\":{\"color\":\"#EF553B\",\"size\":[4.0],\"sizemode\":\"area\",\"sizeref\":3.8625,\"symbol\":\"circle\"},\"mode\":\"markers\",\"name\":\"Daily_Express\",\"orientation\":\"v\",\"showlegend\":true,\"x\":[0.0153],\"xaxis\":\"x\",\"y\":[0.6844],\"yaxis\":\"y\",\"type\":\"scatter\"}],\"name\":\"2021-11-11\"},{\"data\":[{\"hovertemplate\":\"<b>%{hovertext}</b><br><br>Username=MailOnline<br>only_date=2021-11-12<br>positive=%{x}<br>negative=%{y}<br>Like Count=%{marker.size}<extra></extra>\",\"hovertext\":[\"MailOnline\",\"MailOnline\"],\"legendgroup\":\"MailOnline\",\"marker\":{\"color\":\"#ab63fa\",\"size\":[7.0,10.0],\"sizemode\":\"area\",\"sizeref\":3.8625,\"symbol\":\"circle\"},\"mode\":\"markers\",\"name\":\"MailOnline\",\"orientation\":\"v\",\"showlegend\":true,\"x\":[0.0056,0.0084],\"xaxis\":\"x\",\"y\":[0.799,0.7393],\"yaxis\":\"y\",\"type\":\"scatter\"}],\"name\":\"2021-11-12\"},{\"data\":[{\"hovertemplate\":\"<b>%{hovertext}</b><br><br>Username=Daily_Express<br>only_date=2021-11-15<br>positive=%{x}<br>negative=%{y}<br>Like Count=%{marker.size}<extra></extra>\",\"hovertext\":[\"Daily_Express\"],\"legendgroup\":\"Daily_Express\",\"marker\":{\"color\":\"#EF553B\",\"size\":[1.0],\"sizemode\":\"area\",\"sizeref\":3.8625,\"symbol\":\"circle\"},\"mode\":\"markers\",\"name\":\"Daily_Express\",\"orientation\":\"v\",\"showlegend\":true,\"x\":[0.0119],\"xaxis\":\"x\",\"y\":[0.6994],\"yaxis\":\"y\",\"type\":\"scatter\"},{\"hovertemplate\":\"<b>%{hovertext}</b><br><br>Username=TheSun<br>only_date=2021-11-15<br>positive=%{x}<br>negative=%{y}<br>Like Count=%{marker.size}<extra></extra>\",\"hovertext\":[\"TheSun\"],\"legendgroup\":\"TheSun\",\"marker\":{\"color\":\"#00cc96\",\"size\":[9.0],\"sizemode\":\"area\",\"sizeref\":3.8625,\"symbol\":\"circle\"},\"mode\":\"markers\",\"name\":\"TheSun\",\"orientation\":\"v\",\"showlegend\":true,\"x\":[0.0087],\"xaxis\":\"x\",\"y\":[0.7156],\"yaxis\":\"y\",\"type\":\"scatter\"},{\"hovertemplate\":\"<b>%{hovertext}</b><br><br>Username=MailOnline<br>only_date=2021-11-15<br>positive=%{x}<br>negative=%{y}<br>Like Count=%{marker.size}<extra></extra>\",\"hovertext\":[\"MailOnline\"],\"legendgroup\":\"MailOnline\",\"marker\":{\"color\":\"#ab63fa\",\"size\":[8.0],\"sizemode\":\"area\",\"sizeref\":3.8625,\"symbol\":\"circle\"},\"mode\":\"markers\",\"name\":\"MailOnline\",\"orientation\":\"v\",\"showlegend\":true,\"x\":[0.0094],\"xaxis\":\"x\",\"y\":[0.688],\"yaxis\":\"y\",\"type\":\"scatter\"}],\"name\":\"2021-11-15\"},{\"data\":[{\"hovertemplate\":\"<b>%{hovertext}</b><br><br>Username=TheSun<br>only_date=2021-11-17<br>positive=%{x}<br>negative=%{y}<br>Like Count=%{marker.size}<extra></extra>\",\"hovertext\":[\"TheSun\"],\"legendgroup\":\"TheSun\",\"marker\":{\"color\":\"#00cc96\",\"size\":[6.0],\"sizemode\":\"area\",\"sizeref\":3.8625,\"symbol\":\"circle\"},\"mode\":\"markers\",\"name\":\"TheSun\",\"orientation\":\"v\",\"showlegend\":true,\"x\":[0.0079],\"xaxis\":\"x\",\"y\":[0.7718],\"yaxis\":\"y\",\"type\":\"scatter\"}],\"name\":\"2021-11-17\"},{\"data\":[{\"hovertemplate\":\"<b>%{hovertext}</b><br><br>Username=DailyMailUK<br>only_date=2021-11-18<br>positive=%{x}<br>negative=%{y}<br>Like Count=%{marker.size}<extra></extra>\",\"hovertext\":[\"DailyMailUK\",\"DailyMailUK\",\"DailyMailUK\"],\"legendgroup\":\"DailyMailUK\",\"marker\":{\"color\":\"#636efa\",\"size\":[21.0,48.0,5.0],\"sizemode\":\"area\",\"sizeref\":3.8625,\"symbol\":\"circle\"},\"mode\":\"markers\",\"name\":\"DailyMailUK\",\"orientation\":\"v\",\"showlegend\":true,\"x\":[0.0165,0.0583,0.619],\"xaxis\":\"x\",\"y\":[0.4708,0.006,0.0038],\"yaxis\":\"y\",\"type\":\"scatter\"},{\"hovertemplate\":\"<b>%{hovertext}</b><br><br>Username=Daily_Express<br>only_date=2021-11-18<br>positive=%{x}<br>negative=%{y}<br>Like Count=%{marker.size}<extra></extra>\",\"hovertext\":[\"Daily_Express\",\"Daily_Express\"],\"legendgroup\":\"Daily_Express\",\"marker\":{\"color\":\"#EF553B\",\"size\":[7.0,10.0],\"sizemode\":\"area\",\"sizeref\":3.8625,\"symbol\":\"circle\"},\"mode\":\"markers\",\"name\":\"Daily_Express\",\"orientation\":\"v\",\"showlegend\":true,\"x\":[0.0155,0.0506],\"xaxis\":\"x\",\"y\":[0.6316,0.2675],\"yaxis\":\"y\",\"type\":\"scatter\"},{\"hovertemplate\":\"<b>%{hovertext}</b><br><br>Username=MailOnline<br>only_date=2021-11-18<br>positive=%{x}<br>negative=%{y}<br>Like Count=%{marker.size}<extra></extra>\",\"hovertext\":[\"MailOnline\",\"MailOnline\"],\"legendgroup\":\"MailOnline\",\"marker\":{\"color\":\"#ab63fa\",\"size\":[10.0,141.0],\"sizemode\":\"area\",\"sizeref\":3.8625,\"symbol\":\"circle\"},\"mode\":\"markers\",\"name\":\"MailOnline\",\"orientation\":\"v\",\"showlegend\":true,\"x\":[0.0169,0.0204],\"xaxis\":\"x\",\"y\":[0.4268,0.2181],\"yaxis\":\"y\",\"type\":\"scatter\"}],\"name\":\"2021-11-18\"},{\"data\":[{\"hovertemplate\":\"<b>%{hovertext}</b><br><br>Username=TheSun<br>only_date=2021-11-19<br>positive=%{x}<br>negative=%{y}<br>Like Count=%{marker.size}<extra></extra>\",\"hovertext\":[\"TheSun\"],\"legendgroup\":\"TheSun\",\"marker\":{\"color\":\"#00cc96\",\"size\":[23.0],\"sizemode\":\"area\",\"sizeref\":3.8625,\"symbol\":\"circle\"},\"mode\":\"markers\",\"name\":\"TheSun\",\"orientation\":\"v\",\"showlegend\":true,\"x\":[0.0211],\"xaxis\":\"x\",\"y\":[0.2283],\"yaxis\":\"y\",\"type\":\"scatter\"}],\"name\":\"2021-11-19\"},{\"data\":[{\"hovertemplate\":\"<b>%{hovertext}</b><br><br>Username=DailyMailUK<br>only_date=2021-11-20<br>positive=%{x}<br>negative=%{y}<br>Like Count=%{marker.size}<extra></extra>\",\"hovertext\":[\"DailyMailUK\"],\"legendgroup\":\"DailyMailUK\",\"marker\":{\"color\":\"#636efa\",\"size\":[17.0],\"sizemode\":\"area\",\"sizeref\":3.8625,\"symbol\":\"circle\"},\"mode\":\"markers\",\"name\":\"DailyMailUK\",\"orientation\":\"v\",\"showlegend\":true,\"x\":[0.0085],\"xaxis\":\"x\",\"y\":[0.5417],\"yaxis\":\"y\",\"type\":\"scatter\"},{\"hovertemplate\":\"<b>%{hovertext}</b><br><br>Username=Daily_Express<br>only_date=2021-11-20<br>positive=%{x}<br>negative=%{y}<br>Like Count=%{marker.size}<extra></extra>\",\"hovertext\":[\"Daily_Express\",\"Daily_Express\"],\"legendgroup\":\"Daily_Express\",\"marker\":{\"color\":\"#EF553B\",\"size\":[0.0,3.0],\"sizemode\":\"area\",\"sizeref\":3.8625,\"symbol\":\"circle\"},\"mode\":\"markers\",\"name\":\"Daily_Express\",\"orientation\":\"v\",\"showlegend\":true,\"x\":[0.0107,0.0106],\"xaxis\":\"x\",\"y\":[0.523,0.8155],\"yaxis\":\"y\",\"type\":\"scatter\"},{\"hovertemplate\":\"<b>%{hovertext}</b><br><br>Username=MailOnline<br>only_date=2021-11-20<br>positive=%{x}<br>negative=%{y}<br>Like Count=%{marker.size}<extra></extra>\",\"hovertext\":[\"MailOnline\"],\"legendgroup\":\"MailOnline\",\"marker\":{\"color\":\"#ab63fa\",\"size\":[107.0],\"sizemode\":\"area\",\"sizeref\":3.8625,\"symbol\":\"circle\"},\"mode\":\"markers\",\"name\":\"MailOnline\",\"orientation\":\"v\",\"showlegend\":true,\"x\":[0.0069],\"xaxis\":\"x\",\"y\":[0.7967],\"yaxis\":\"y\",\"type\":\"scatter\"}],\"name\":\"2021-11-20\"},{\"data\":[{\"hovertemplate\":\"<b>%{hovertext}</b><br><br>Username=TheSun<br>only_date=2021-11-21<br>positive=%{x}<br>negative=%{y}<br>Like Count=%{marker.size}<extra></extra>\",\"hovertext\":[\"TheSun\"],\"legendgroup\":\"TheSun\",\"marker\":{\"color\":\"#00cc96\",\"size\":[44.0],\"sizemode\":\"area\",\"sizeref\":3.8625,\"symbol\":\"circle\"},\"mode\":\"markers\",\"name\":\"TheSun\",\"orientation\":\"v\",\"showlegend\":true,\"x\":[0.3318],\"xaxis\":\"x\",\"y\":[0.11],\"yaxis\":\"y\",\"type\":\"scatter\"},{\"hovertemplate\":\"<b>%{hovertext}</b><br><br>Username=MailOnline<br>only_date=2021-11-21<br>positive=%{x}<br>negative=%{y}<br>Like Count=%{marker.size}<extra></extra>\",\"hovertext\":[\"MailOnline\"],\"legendgroup\":\"MailOnline\",\"marker\":{\"color\":\"#ab63fa\",\"size\":[74.0],\"sizemode\":\"area\",\"sizeref\":3.8625,\"symbol\":\"circle\"},\"mode\":\"markers\",\"name\":\"MailOnline\",\"orientation\":\"v\",\"showlegend\":true,\"x\":[0.0075],\"xaxis\":\"x\",\"y\":[0.6902],\"yaxis\":\"y\",\"type\":\"scatter\"}],\"name\":\"2021-11-21\"},{\"data\":[{\"hovertemplate\":\"<b>%{hovertext}</b><br><br>Username=MailOnline<br>only_date=2021-11-24<br>positive=%{x}<br>negative=%{y}<br>Like Count=%{marker.size}<extra></extra>\",\"hovertext\":[\"MailOnline\"],\"legendgroup\":\"MailOnline\",\"marker\":{\"color\":\"#ab63fa\",\"size\":[7.0],\"sizemode\":\"area\",\"sizeref\":3.8625,\"symbol\":\"circle\"},\"mode\":\"markers\",\"name\":\"MailOnline\",\"orientation\":\"v\",\"showlegend\":true,\"x\":[0.0094],\"xaxis\":\"x\",\"y\":[0.7621],\"yaxis\":\"y\",\"type\":\"scatter\"}],\"name\":\"2021-11-24\"},{\"data\":[{\"hovertemplate\":\"<b>%{hovertext}</b><br><br>Username=MailOnline<br>only_date=2021-11-27<br>positive=%{x}<br>negative=%{y}<br>Like Count=%{marker.size}<extra></extra>\",\"hovertext\":[\"MailOnline\",\"MailOnline\",\"MailOnline\",\"MailOnline\"],\"legendgroup\":\"MailOnline\",\"marker\":{\"color\":\"#ab63fa\",\"size\":[6.0,628.0,24.0,30.0],\"sizemode\":\"area\",\"sizeref\":3.8625,\"symbol\":\"circle\"},\"mode\":\"markers\",\"name\":\"MailOnline\",\"orientation\":\"v\",\"showlegend\":true,\"x\":[0.0046,0.0041,0.0043,0.0041],\"xaxis\":\"x\",\"y\":[0.8038,0.8663,0.857,0.8782],\"yaxis\":\"y\",\"type\":\"scatter\"}],\"name\":\"2021-11-27\"},{\"data\":[{\"hovertemplate\":\"<b>%{hovertext}</b><br><br>Username=MailOnline<br>only_date=2021-11-30<br>positive=%{x}<br>negative=%{y}<br>Like Count=%{marker.size}<extra></extra>\",\"hovertext\":[\"MailOnline\",\"MailOnline\"],\"legendgroup\":\"MailOnline\",\"marker\":{\"color\":\"#ab63fa\",\"size\":[30.0,12.0],\"sizemode\":\"area\",\"sizeref\":3.8625,\"symbol\":\"circle\"},\"mode\":\"markers\",\"name\":\"MailOnline\",\"orientation\":\"v\",\"showlegend\":true,\"x\":[0.0108,0.0104],\"xaxis\":\"x\",\"y\":[0.3575,0.605],\"yaxis\":\"y\",\"type\":\"scatter\"}],\"name\":\"2021-11-30\"},{\"data\":[{\"hovertemplate\":\"<b>%{hovertext}</b><br><br>Username=DailyMailUK<br>only_date=2021-12-01<br>positive=%{x}<br>negative=%{y}<br>Like Count=%{marker.size}<extra></extra>\",\"hovertext\":[\"DailyMailUK\"],\"legendgroup\":\"DailyMailUK\",\"marker\":{\"color\":\"#636efa\",\"size\":[10.0],\"sizemode\":\"area\",\"sizeref\":3.8625,\"symbol\":\"circle\"},\"mode\":\"markers\",\"name\":\"DailyMailUK\",\"orientation\":\"v\",\"showlegend\":true,\"x\":[0.0051],\"xaxis\":\"x\",\"y\":[0.9042],\"yaxis\":\"y\",\"type\":\"scatter\"},{\"hovertemplate\":\"<b>%{hovertext}</b><br><br>Username=Daily_Express<br>only_date=2021-12-01<br>positive=%{x}<br>negative=%{y}<br>Like Count=%{marker.size}<extra></extra>\",\"hovertext\":[\"Daily_Express\"],\"legendgroup\":\"Daily_Express\",\"marker\":{\"color\":\"#EF553B\",\"size\":[0.0],\"sizemode\":\"area\",\"sizeref\":3.8625,\"symbol\":\"circle\"},\"mode\":\"markers\",\"name\":\"Daily_Express\",\"orientation\":\"v\",\"showlegend\":true,\"x\":[0.0112],\"xaxis\":\"x\",\"y\":[0.5597],\"yaxis\":\"y\",\"type\":\"scatter\"}],\"name\":\"2021-12-01\"},{\"data\":[{\"hovertemplate\":\"<b>%{hovertext}</b><br><br>Username=DailyMailUK<br>only_date=2021-12-02<br>positive=%{x}<br>negative=%{y}<br>Like Count=%{marker.size}<extra></extra>\",\"hovertext\":[\"DailyMailUK\"],\"legendgroup\":\"DailyMailUK\",\"marker\":{\"color\":\"#636efa\",\"size\":[20.0],\"sizemode\":\"area\",\"sizeref\":3.8625,\"symbol\":\"circle\"},\"mode\":\"markers\",\"name\":\"DailyMailUK\",\"orientation\":\"v\",\"showlegend\":true,\"x\":[0.0075],\"xaxis\":\"x\",\"y\":[0.7565],\"yaxis\":\"y\",\"type\":\"scatter\"}],\"name\":\"2021-12-02\"},{\"data\":[{\"hovertemplate\":\"<b>%{hovertext}</b><br><br>Username=MailOnline<br>only_date=2021-12-04<br>positive=%{x}<br>negative=%{y}<br>Like Count=%{marker.size}<extra></extra>\",\"hovertext\":[\"MailOnline\"],\"legendgroup\":\"MailOnline\",\"marker\":{\"color\":\"#ab63fa\",\"size\":[34.0],\"sizemode\":\"area\",\"sizeref\":3.8625,\"symbol\":\"circle\"},\"mode\":\"markers\",\"name\":\"MailOnline\",\"orientation\":\"v\",\"showlegend\":true,\"x\":[0.0075],\"xaxis\":\"x\",\"y\":[0.8311],\"yaxis\":\"y\",\"type\":\"scatter\"}],\"name\":\"2021-12-04\"},{\"data\":[{\"hovertemplate\":\"<b>%{hovertext}</b><br><br>Username=DailyMailUK<br>only_date=2021-12-05<br>positive=%{x}<br>negative=%{y}<br>Like Count=%{marker.size}<extra></extra>\",\"hovertext\":[\"DailyMailUK\"],\"legendgroup\":\"DailyMailUK\",\"marker\":{\"color\":\"#636efa\",\"size\":[15.0],\"sizemode\":\"area\",\"sizeref\":3.8625,\"symbol\":\"circle\"},\"mode\":\"markers\",\"name\":\"DailyMailUK\",\"orientation\":\"v\",\"showlegend\":true,\"x\":[0.0155],\"xaxis\":\"x\",\"y\":[0.3304],\"yaxis\":\"y\",\"type\":\"scatter\"}],\"name\":\"2021-12-05\"},{\"data\":[{\"hovertemplate\":\"<b>%{hovertext}</b><br><br>Username=MailOnline<br>only_date=2021-12-10<br>positive=%{x}<br>negative=%{y}<br>Like Count=%{marker.size}<extra></extra>\",\"hovertext\":[\"MailOnline\"],\"legendgroup\":\"MailOnline\",\"marker\":{\"color\":\"#ab63fa\",\"size\":[36.0],\"sizemode\":\"area\",\"sizeref\":3.8625,\"symbol\":\"circle\"},\"mode\":\"markers\",\"name\":\"MailOnline\",\"orientation\":\"v\",\"showlegend\":true,\"x\":[0.0078],\"xaxis\":\"x\",\"y\":[0.7175],\"yaxis\":\"y\",\"type\":\"scatter\"}],\"name\":\"2021-12-10\"},{\"data\":[{\"hovertemplate\":\"<b>%{hovertext}</b><br><br>Username=Daily_Express<br>only_date=2021-12-11<br>positive=%{x}<br>negative=%{y}<br>Like Count=%{marker.size}<extra></extra>\",\"hovertext\":[\"Daily_Express\"],\"legendgroup\":\"Daily_Express\",\"marker\":{\"color\":\"#EF553B\",\"size\":[5.0],\"sizemode\":\"area\",\"sizeref\":3.8625,\"symbol\":\"circle\"},\"mode\":\"markers\",\"name\":\"Daily_Express\",\"orientation\":\"v\",\"showlegend\":true,\"x\":[0.0274],\"xaxis\":\"x\",\"y\":[0.368],\"yaxis\":\"y\",\"type\":\"scatter\"},{\"hovertemplate\":\"<b>%{hovertext}</b><br><br>Username=TheSun<br>only_date=2021-12-11<br>positive=%{x}<br>negative=%{y}<br>Like Count=%{marker.size}<extra></extra>\",\"hovertext\":[\"TheSun\"],\"legendgroup\":\"TheSun\",\"marker\":{\"color\":\"#00cc96\",\"size\":[10.0],\"sizemode\":\"area\",\"sizeref\":3.8625,\"symbol\":\"circle\"},\"mode\":\"markers\",\"name\":\"TheSun\",\"orientation\":\"v\",\"showlegend\":true,\"x\":[0.0114],\"xaxis\":\"x\",\"y\":[0.5421],\"yaxis\":\"y\",\"type\":\"scatter\"}],\"name\":\"2021-12-11\"},{\"data\":[{\"hovertemplate\":\"<b>%{hovertext}</b><br><br>Username=MailOnline<br>only_date=2021-12-14<br>positive=%{x}<br>negative=%{y}<br>Like Count=%{marker.size}<extra></extra>\",\"hovertext\":[\"MailOnline\",\"MailOnline\"],\"legendgroup\":\"MailOnline\",\"marker\":{\"color\":\"#ab63fa\",\"size\":[15.0,5.0],\"sizemode\":\"area\",\"sizeref\":3.8625,\"symbol\":\"circle\"},\"mode\":\"markers\",\"name\":\"MailOnline\",\"orientation\":\"v\",\"showlegend\":true,\"x\":[0.0075,0.0067],\"xaxis\":\"x\",\"y\":[0.6438,0.7991],\"yaxis\":\"y\",\"type\":\"scatter\"}],\"name\":\"2021-12-14\"},{\"data\":[{\"hovertemplate\":\"<b>%{hovertext}</b><br><br>Username=DailyMailUK<br>only_date=2021-12-16<br>positive=%{x}<br>negative=%{y}<br>Like Count=%{marker.size}<extra></extra>\",\"hovertext\":[\"DailyMailUK\"],\"legendgroup\":\"DailyMailUK\",\"marker\":{\"color\":\"#636efa\",\"size\":[0.0],\"sizemode\":\"area\",\"sizeref\":3.8625,\"symbol\":\"circle\"},\"mode\":\"markers\",\"name\":\"DailyMailUK\",\"orientation\":\"v\",\"showlegend\":true,\"x\":[0.0059],\"xaxis\":\"x\",\"y\":[0.7913],\"yaxis\":\"y\",\"type\":\"scatter\"},{\"hovertemplate\":\"<b>%{hovertext}</b><br><br>Username=MailOnline<br>only_date=2021-12-16<br>positive=%{x}<br>negative=%{y}<br>Like Count=%{marker.size}<extra></extra>\",\"hovertext\":[\"MailOnline\"],\"legendgroup\":\"MailOnline\",\"marker\":{\"color\":\"#ab63fa\",\"size\":[4.0],\"sizemode\":\"area\",\"sizeref\":3.8625,\"symbol\":\"circle\"},\"mode\":\"markers\",\"name\":\"MailOnline\",\"orientation\":\"v\",\"showlegend\":true,\"x\":[0.0042],\"xaxis\":\"x\",\"y\":[0.8757],\"yaxis\":\"y\",\"type\":\"scatter\"}],\"name\":\"2021-12-16\"},{\"data\":[{\"hovertemplate\":\"<b>%{hovertext}</b><br><br>Username=MailOnline<br>only_date=2021-12-17<br>positive=%{x}<br>negative=%{y}<br>Like Count=%{marker.size}<extra></extra>\",\"hovertext\":[\"MailOnline\"],\"legendgroup\":\"MailOnline\",\"marker\":{\"color\":\"#ab63fa\",\"size\":[22.0],\"sizemode\":\"area\",\"sizeref\":3.8625,\"symbol\":\"circle\"},\"mode\":\"markers\",\"name\":\"MailOnline\",\"orientation\":\"v\",\"showlegend\":true,\"x\":[0.0397],\"xaxis\":\"x\",\"y\":[0.2556],\"yaxis\":\"y\",\"type\":\"scatter\"}],\"name\":\"2021-12-17\"},{\"data\":[{\"hovertemplate\":\"<b>%{hovertext}</b><br><br>Username=DailyMailUK<br>only_date=2021-12-19<br>positive=%{x}<br>negative=%{y}<br>Like Count=%{marker.size}<extra></extra>\",\"hovertext\":[\"DailyMailUK\"],\"legendgroup\":\"DailyMailUK\",\"marker\":{\"color\":\"#636efa\",\"size\":[1.0],\"sizemode\":\"area\",\"sizeref\":3.8625,\"symbol\":\"circle\"},\"mode\":\"markers\",\"name\":\"DailyMailUK\",\"orientation\":\"v\",\"showlegend\":true,\"x\":[0.0078],\"xaxis\":\"x\",\"y\":[0.7946],\"yaxis\":\"y\",\"type\":\"scatter\"}],\"name\":\"2021-12-19\"},{\"data\":[{\"hovertemplate\":\"<b>%{hovertext}</b><br><br>Username=MailOnline<br>only_date=2021-12-21<br>positive=%{x}<br>negative=%{y}<br>Like Count=%{marker.size}<extra></extra>\",\"hovertext\":[\"MailOnline\"],\"legendgroup\":\"MailOnline\",\"marker\":{\"color\":\"#ab63fa\",\"size\":[27.0],\"sizemode\":\"area\",\"sizeref\":3.8625,\"symbol\":\"circle\"},\"mode\":\"markers\",\"name\":\"MailOnline\",\"orientation\":\"v\",\"showlegend\":true,\"x\":[0.0087],\"xaxis\":\"x\",\"y\":[0.419],\"yaxis\":\"y\",\"type\":\"scatter\"}],\"name\":\"2021-12-21\"},{\"data\":[{\"hovertemplate\":\"<b>%{hovertext}</b><br><br>Username=MailOnline<br>only_date=2021-12-24<br>positive=%{x}<br>negative=%{y}<br>Like Count=%{marker.size}<extra></extra>\",\"hovertext\":[\"MailOnline\"],\"legendgroup\":\"MailOnline\",\"marker\":{\"color\":\"#ab63fa\",\"size\":[20.0],\"sizemode\":\"area\",\"sizeref\":3.8625,\"symbol\":\"circle\"},\"mode\":\"markers\",\"name\":\"MailOnline\",\"orientation\":\"v\",\"showlegend\":true,\"x\":[0.0075],\"xaxis\":\"x\",\"y\":[0.6277],\"yaxis\":\"y\",\"type\":\"scatter\"}],\"name\":\"2021-12-24\"},{\"data\":[{\"hovertemplate\":\"<b>%{hovertext}</b><br><br>Username=Daily_Express<br>only_date=2021-12-26<br>positive=%{x}<br>negative=%{y}<br>Like Count=%{marker.size}<extra></extra>\",\"hovertext\":[\"Daily_Express\"],\"legendgroup\":\"Daily_Express\",\"marker\":{\"color\":\"#EF553B\",\"size\":[2.0],\"sizemode\":\"area\",\"sizeref\":3.8625,\"symbol\":\"circle\"},\"mode\":\"markers\",\"name\":\"Daily_Express\",\"orientation\":\"v\",\"showlegend\":true,\"x\":[0.0271],\"xaxis\":\"x\",\"y\":[0.0943],\"yaxis\":\"y\",\"type\":\"scatter\"}],\"name\":\"2021-12-26\"},{\"data\":[{\"hovertemplate\":\"<b>%{hovertext}</b><br><br>Username=Daily_Express<br>only_date=2021-12-30<br>positive=%{x}<br>negative=%{y}<br>Like Count=%{marker.size}<extra></extra>\",\"hovertext\":[\"Daily_Express\",\"Daily_Express\"],\"legendgroup\":\"Daily_Express\",\"marker\":{\"color\":\"#EF553B\",\"size\":[22.0,0.0],\"sizemode\":\"area\",\"sizeref\":3.8625,\"symbol\":\"circle\"},\"mode\":\"markers\",\"name\":\"Daily_Express\",\"orientation\":\"v\",\"showlegend\":true,\"x\":[0.0115,0.1724],\"xaxis\":\"x\",\"y\":[0.6999,0.0041],\"yaxis\":\"y\",\"type\":\"scatter\"}],\"name\":\"2021-12-30\"},{\"data\":[{\"hovertemplate\":\"<b>%{hovertext}</b><br><br>Username=DailyMailUK<br>only_date=2021-12-31<br>positive=%{x}<br>negative=%{y}<br>Like Count=%{marker.size}<extra></extra>\",\"hovertext\":[\"DailyMailUK\"],\"legendgroup\":\"DailyMailUK\",\"marker\":{\"color\":\"#636efa\",\"size\":[6.0],\"sizemode\":\"area\",\"sizeref\":3.8625,\"symbol\":\"circle\"},\"mode\":\"markers\",\"name\":\"DailyMailUK\",\"orientation\":\"v\",\"showlegend\":true,\"x\":[0.014],\"xaxis\":\"x\",\"y\":[0.2695],\"yaxis\":\"y\",\"type\":\"scatter\"},{\"hovertemplate\":\"<b>%{hovertext}</b><br><br>Username=Daily_Express<br>only_date=2021-12-31<br>positive=%{x}<br>negative=%{y}<br>Like Count=%{marker.size}<extra></extra>\",\"hovertext\":[\"Daily_Express\"],\"legendgroup\":\"Daily_Express\",\"marker\":{\"color\":\"#EF553B\",\"size\":[2.0],\"sizemode\":\"area\",\"sizeref\":3.8625,\"symbol\":\"circle\"},\"mode\":\"markers\",\"name\":\"Daily_Express\",\"orientation\":\"v\",\"showlegend\":true,\"x\":[0.0097],\"xaxis\":\"x\",\"y\":[0.5147],\"yaxis\":\"y\",\"type\":\"scatter\"}],\"name\":\"2021-12-31\"},{\"data\":[{\"hovertemplate\":\"<b>%{hovertext}</b><br><br>Username=MailOnline<br>only_date=2022-01-03<br>positive=%{x}<br>negative=%{y}<br>Like Count=%{marker.size}<extra></extra>\",\"hovertext\":[\"MailOnline\"],\"legendgroup\":\"MailOnline\",\"marker\":{\"color\":\"#ab63fa\",\"size\":[16.0],\"sizemode\":\"area\",\"sizeref\":3.8625,\"symbol\":\"circle\"},\"mode\":\"markers\",\"name\":\"MailOnline\",\"orientation\":\"v\",\"showlegend\":true,\"x\":[0.0049],\"xaxis\":\"x\",\"y\":[0.8484],\"yaxis\":\"y\",\"type\":\"scatter\"}],\"name\":\"2022-01-03\"},{\"data\":[{\"hovertemplate\":\"<b>%{hovertext}</b><br><br>Username=Daily_Express<br>only_date=2022-01-04<br>positive=%{x}<br>negative=%{y}<br>Like Count=%{marker.size}<extra></extra>\",\"hovertext\":[\"Daily_Express\",\"Daily_Express\"],\"legendgroup\":\"Daily_Express\",\"marker\":{\"color\":\"#EF553B\",\"size\":[2.0,2.0],\"sizemode\":\"area\",\"sizeref\":3.8625,\"symbol\":\"circle\"},\"mode\":\"markers\",\"name\":\"Daily_Express\",\"orientation\":\"v\",\"showlegend\":true,\"x\":[0.1735,0.012],\"xaxis\":\"x\",\"y\":[0.0039,0.361],\"yaxis\":\"y\",\"type\":\"scatter\"},{\"hovertemplate\":\"<b>%{hovertext}</b><br><br>Username=MailOnline<br>only_date=2022-01-04<br>positive=%{x}<br>negative=%{y}<br>Like Count=%{marker.size}<extra></extra>\",\"hovertext\":[\"MailOnline\"],\"legendgroup\":\"MailOnline\",\"marker\":{\"color\":\"#ab63fa\",\"size\":[39.0],\"sizemode\":\"area\",\"sizeref\":3.8625,\"symbol\":\"circle\"},\"mode\":\"markers\",\"name\":\"MailOnline\",\"orientation\":\"v\",\"showlegend\":true,\"x\":[0.0058],\"xaxis\":\"x\",\"y\":[0.7886],\"yaxis\":\"y\",\"type\":\"scatter\"}],\"name\":\"2022-01-04\"},{\"data\":[{\"hovertemplate\":\"<b>%{hovertext}</b><br><br>Username=DailyMailUK<br>only_date=2022-01-05<br>positive=%{x}<br>negative=%{y}<br>Like Count=%{marker.size}<extra></extra>\",\"hovertext\":[\"DailyMailUK\"],\"legendgroup\":\"DailyMailUK\",\"marker\":{\"color\":\"#636efa\",\"size\":[6.0],\"sizemode\":\"area\",\"sizeref\":3.8625,\"symbol\":\"circle\"},\"mode\":\"markers\",\"name\":\"DailyMailUK\",\"orientation\":\"v\",\"showlegend\":true,\"x\":[0.1814],\"xaxis\":\"x\",\"y\":[0.1467],\"yaxis\":\"y\",\"type\":\"scatter\"}],\"name\":\"2022-01-05\"},{\"data\":[{\"hovertemplate\":\"<b>%{hovertext}</b><br><br>Username=DailyMailUK<br>only_date=2022-01-06<br>positive=%{x}<br>negative=%{y}<br>Like Count=%{marker.size}<extra></extra>\",\"hovertext\":[\"DailyMailUK\"],\"legendgroup\":\"DailyMailUK\",\"marker\":{\"color\":\"#636efa\",\"size\":[5.0],\"sizemode\":\"area\",\"sizeref\":3.8625,\"symbol\":\"circle\"},\"mode\":\"markers\",\"name\":\"DailyMailUK\",\"orientation\":\"v\",\"showlegend\":true,\"x\":[0.0066],\"xaxis\":\"x\",\"y\":[0.8417],\"yaxis\":\"y\",\"type\":\"scatter\"},{\"hovertemplate\":\"<b>%{hovertext}</b><br><br>Username=Daily_Express<br>only_date=2022-01-06<br>positive=%{x}<br>negative=%{y}<br>Like Count=%{marker.size}<extra></extra>\",\"hovertext\":[\"Daily_Express\"],\"legendgroup\":\"Daily_Express\",\"marker\":{\"color\":\"#EF553B\",\"size\":[2.0],\"sizemode\":\"area\",\"sizeref\":3.8625,\"symbol\":\"circle\"},\"mode\":\"markers\",\"name\":\"Daily_Express\",\"orientation\":\"v\",\"showlegend\":true,\"x\":[0.0075],\"xaxis\":\"x\",\"y\":[0.7455],\"yaxis\":\"y\",\"type\":\"scatter\"}],\"name\":\"2022-01-06\"},{\"data\":[{\"hovertemplate\":\"<b>%{hovertext}</b><br><br>Username=MailOnline<br>only_date=2022-01-11<br>positive=%{x}<br>negative=%{y}<br>Like Count=%{marker.size}<extra></extra>\",\"hovertext\":[\"MailOnline\",\"MailOnline\"],\"legendgroup\":\"MailOnline\",\"marker\":{\"color\":\"#ab63fa\",\"size\":[9.0,12.0],\"sizemode\":\"area\",\"sizeref\":3.8625,\"symbol\":\"circle\"},\"mode\":\"markers\",\"name\":\"MailOnline\",\"orientation\":\"v\",\"showlegend\":true,\"x\":[0.007,0.0164],\"xaxis\":\"x\",\"y\":[0.6486,0.4436],\"yaxis\":\"y\",\"type\":\"scatter\"}],\"name\":\"2022-01-11\"},{\"data\":[{\"hovertemplate\":\"<b>%{hovertext}</b><br><br>Username=DailyMailUK<br>only_date=2022-01-12<br>positive=%{x}<br>negative=%{y}<br>Like Count=%{marker.size}<extra></extra>\",\"hovertext\":[\"DailyMailUK\",\"DailyMailUK\",\"DailyMailUK\"],\"legendgroup\":\"DailyMailUK\",\"marker\":{\"color\":\"#636efa\",\"size\":[2.0,4.0,5.0],\"sizemode\":\"area\",\"sizeref\":3.8625,\"symbol\":\"circle\"},\"mode\":\"markers\",\"name\":\"DailyMailUK\",\"orientation\":\"v\",\"showlegend\":true,\"x\":[0.0046,0.0396,0.0115],\"xaxis\":\"x\",\"y\":[0.8058,0.0217,0.5285],\"yaxis\":\"y\",\"type\":\"scatter\"},{\"hovertemplate\":\"<b>%{hovertext}</b><br><br>Username=MailOnline<br>only_date=2022-01-12<br>positive=%{x}<br>negative=%{y}<br>Like Count=%{marker.size}<extra></extra>\",\"hovertext\":[\"MailOnline\",\"MailOnline\"],\"legendgroup\":\"MailOnline\",\"marker\":{\"color\":\"#ab63fa\",\"size\":[13.0,16.0],\"sizemode\":\"area\",\"sizeref\":3.8625,\"symbol\":\"circle\"},\"mode\":\"markers\",\"name\":\"MailOnline\",\"orientation\":\"v\",\"showlegend\":true,\"x\":[0.0083,0.0106],\"xaxis\":\"x\",\"y\":[0.6655,0.5542],\"yaxis\":\"y\",\"type\":\"scatter\"}],\"name\":\"2022-01-12\"},{\"data\":[{\"hovertemplate\":\"<b>%{hovertext}</b><br><br>Username=MailOnline<br>only_date=2022-01-16<br>positive=%{x}<br>negative=%{y}<br>Like Count=%{marker.size}<extra></extra>\",\"hovertext\":[\"MailOnline\",\"MailOnline\"],\"legendgroup\":\"MailOnline\",\"marker\":{\"color\":\"#ab63fa\",\"size\":[4.0,23.0],\"sizemode\":\"area\",\"sizeref\":3.8625,\"symbol\":\"circle\"},\"mode\":\"markers\",\"name\":\"MailOnline\",\"orientation\":\"v\",\"showlegend\":true,\"x\":[0.0075,0.0054],\"xaxis\":\"x\",\"y\":[0.6738,0.8509],\"yaxis\":\"y\",\"type\":\"scatter\"}],\"name\":\"2022-01-16\"},{\"data\":[{\"hovertemplate\":\"<b>%{hovertext}</b><br><br>Username=DailyMailUK<br>only_date=2022-01-17<br>positive=%{x}<br>negative=%{y}<br>Like Count=%{marker.size}<extra></extra>\",\"hovertext\":[\"DailyMailUK\",\"DailyMailUK\"],\"legendgroup\":\"DailyMailUK\",\"marker\":{\"color\":\"#636efa\",\"size\":[15.0,23.0],\"sizemode\":\"area\",\"sizeref\":3.8625,\"symbol\":\"circle\"},\"mode\":\"markers\",\"name\":\"DailyMailUK\",\"orientation\":\"v\",\"showlegend\":true,\"x\":[0.0113,0.0055],\"xaxis\":\"x\",\"y\":[0.4131,0.8059],\"yaxis\":\"y\",\"type\":\"scatter\"},{\"hovertemplate\":\"<b>%{hovertext}</b><br><br>Username=MailOnline<br>only_date=2022-01-17<br>positive=%{x}<br>negative=%{y}<br>Like Count=%{marker.size}<extra></extra>\",\"hovertext\":[\"MailOnline\",\"MailOnline\",\"MailOnline\",\"MailOnline\",\"MailOnline\",\"MailOnline\"],\"legendgroup\":\"MailOnline\",\"marker\":{\"color\":\"#ab63fa\",\"size\":[3.0,22.0,11.0,12.0,19.0,14.0],\"sizemode\":\"area\",\"sizeref\":3.8625,\"symbol\":\"circle\"},\"mode\":\"markers\",\"name\":\"MailOnline\",\"orientation\":\"v\",\"showlegend\":true,\"x\":[0.0377,0.0117,0.007,0.0091,0.0064,0.1447],\"xaxis\":\"x\",\"y\":[0.1198,0.3819,0.7813,0.7113,0.7779,0.2017],\"yaxis\":\"y\",\"type\":\"scatter\"}],\"name\":\"2022-01-17\"},{\"data\":[{\"hovertemplate\":\"<b>%{hovertext}</b><br><br>Username=DailyMailUK<br>only_date=2022-01-18<br>positive=%{x}<br>negative=%{y}<br>Like Count=%{marker.size}<extra></extra>\",\"hovertext\":[\"DailyMailUK\"],\"legendgroup\":\"DailyMailUK\",\"marker\":{\"color\":\"#636efa\",\"size\":[7.0],\"sizemode\":\"area\",\"sizeref\":3.8625,\"symbol\":\"circle\"},\"mode\":\"markers\",\"name\":\"DailyMailUK\",\"orientation\":\"v\",\"showlegend\":true,\"x\":[0.0057],\"xaxis\":\"x\",\"y\":[0.8499],\"yaxis\":\"y\",\"type\":\"scatter\"},{\"hovertemplate\":\"<b>%{hovertext}</b><br><br>Username=TheSun<br>only_date=2022-01-18<br>positive=%{x}<br>negative=%{y}<br>Like Count=%{marker.size}<extra></extra>\",\"hovertext\":[\"TheSun\"],\"legendgroup\":\"TheSun\",\"marker\":{\"color\":\"#00cc96\",\"size\":[11.0],\"sizemode\":\"area\",\"sizeref\":3.8625,\"symbol\":\"circle\"},\"mode\":\"markers\",\"name\":\"TheSun\",\"orientation\":\"v\",\"showlegend\":true,\"x\":[0.0187],\"xaxis\":\"x\",\"y\":[0.4473],\"yaxis\":\"y\",\"type\":\"scatter\"},{\"hovertemplate\":\"<b>%{hovertext}</b><br><br>Username=MailOnline<br>only_date=2022-01-18<br>positive=%{x}<br>negative=%{y}<br>Like Count=%{marker.size}<extra></extra>\",\"hovertext\":[\"MailOnline\",\"MailOnline\",\"MailOnline\",\"MailOnline\"],\"legendgroup\":\"MailOnline\",\"marker\":{\"color\":\"#ab63fa\",\"size\":[11.0,8.0,6.0,4.0],\"sizemode\":\"area\",\"sizeref\":3.8625,\"symbol\":\"circle\"},\"mode\":\"markers\",\"name\":\"MailOnline\",\"orientation\":\"v\",\"showlegend\":true,\"x\":[0.0089,0.0287,0.0119,0.0159],\"xaxis\":\"x\",\"y\":[0.4948,0.2516,0.2732,0.2008],\"yaxis\":\"y\",\"type\":\"scatter\"}],\"name\":\"2022-01-18\"},{\"data\":[{\"hovertemplate\":\"<b>%{hovertext}</b><br><br>Username=DailyMailUK<br>only_date=2022-01-19<br>positive=%{x}<br>negative=%{y}<br>Like Count=%{marker.size}<extra></extra>\",\"hovertext\":[\"DailyMailUK\",\"DailyMailUK\",\"DailyMailUK\"],\"legendgroup\":\"DailyMailUK\",\"marker\":{\"color\":\"#636efa\",\"size\":[4.0,3.0,16.0],\"sizemode\":\"area\",\"sizeref\":3.8625,\"symbol\":\"circle\"},\"mode\":\"markers\",\"name\":\"DailyMailUK\",\"orientation\":\"v\",\"showlegend\":true,\"x\":[0.0078,0.0113,0.005],\"xaxis\":\"x\",\"y\":[0.7282,0.3918,0.839],\"yaxis\":\"y\",\"type\":\"scatter\"},{\"hovertemplate\":\"<b>%{hovertext}</b><br><br>Username=MailOnline<br>only_date=2022-01-19<br>positive=%{x}<br>negative=%{y}<br>Like Count=%{marker.size}<extra></extra>\",\"hovertext\":[\"MailOnline\",\"MailOnline\",\"MailOnline\"],\"legendgroup\":\"MailOnline\",\"marker\":{\"color\":\"#ab63fa\",\"size\":[23.0,14.0,11.0],\"sizemode\":\"area\",\"sizeref\":3.8625,\"symbol\":\"circle\"},\"mode\":\"markers\",\"name\":\"MailOnline\",\"orientation\":\"v\",\"showlegend\":true,\"x\":[0.0064,0.0081,0.0094],\"xaxis\":\"x\",\"y\":[0.839,0.7526,0.4132],\"yaxis\":\"y\",\"type\":\"scatter\"}],\"name\":\"2022-01-19\"},{\"data\":[{\"hovertemplate\":\"<b>%{hovertext}</b><br><br>Username=DailyMailUK<br>only_date=2022-01-20<br>positive=%{x}<br>negative=%{y}<br>Like Count=%{marker.size}<extra></extra>\",\"hovertext\":[\"DailyMailUK\",\"DailyMailUK\"],\"legendgroup\":\"DailyMailUK\",\"marker\":{\"color\":\"#636efa\",\"size\":[5.0,20.0],\"sizemode\":\"area\",\"sizeref\":3.8625,\"symbol\":\"circle\"},\"mode\":\"markers\",\"name\":\"DailyMailUK\",\"orientation\":\"v\",\"showlegend\":true,\"x\":[0.0054,0.0069],\"xaxis\":\"x\",\"y\":[0.8535,0.7057],\"yaxis\":\"y\",\"type\":\"scatter\"},{\"hovertemplate\":\"<b>%{hovertext}</b><br><br>Username=MailOnline<br>only_date=2022-01-20<br>positive=%{x}<br>negative=%{y}<br>Like Count=%{marker.size}<extra></extra>\",\"hovertext\":[\"MailOnline\"],\"legendgroup\":\"MailOnline\",\"marker\":{\"color\":\"#ab63fa\",\"size\":[19.0],\"sizemode\":\"area\",\"sizeref\":3.8625,\"symbol\":\"circle\"},\"mode\":\"markers\",\"name\":\"MailOnline\",\"orientation\":\"v\",\"showlegend\":true,\"x\":[0.0066],\"xaxis\":\"x\",\"y\":[0.7664],\"yaxis\":\"y\",\"type\":\"scatter\"}],\"name\":\"2022-01-20\"},{\"data\":[{\"hovertemplate\":\"<b>%{hovertext}</b><br><br>Username=DailyMailUK<br>only_date=2022-01-21<br>positive=%{x}<br>negative=%{y}<br>Like Count=%{marker.size}<extra></extra>\",\"hovertext\":[\"DailyMailUK\",\"DailyMailUK\"],\"legendgroup\":\"DailyMailUK\",\"marker\":{\"color\":\"#636efa\",\"size\":[11.0,11.0],\"sizemode\":\"area\",\"sizeref\":3.8625,\"symbol\":\"circle\"},\"mode\":\"markers\",\"name\":\"DailyMailUK\",\"orientation\":\"v\",\"showlegend\":true,\"x\":[0.0115,0.0076],\"xaxis\":\"x\",\"y\":[0.4133,0.7278],\"yaxis\":\"y\",\"type\":\"scatter\"}],\"name\":\"2022-01-21\"},{\"data\":[{\"hovertemplate\":\"<b>%{hovertext}</b><br><br>Username=TheSun<br>only_date=2022-01-22<br>positive=%{x}<br>negative=%{y}<br>Like Count=%{marker.size}<extra></extra>\",\"hovertext\":[\"TheSun\"],\"legendgroup\":\"TheSun\",\"marker\":{\"color\":\"#00cc96\",\"size\":[2.0],\"sizemode\":\"area\",\"sizeref\":3.8625,\"symbol\":\"circle\"},\"mode\":\"markers\",\"name\":\"TheSun\",\"orientation\":\"v\",\"showlegend\":true,\"x\":[0.0096],\"xaxis\":\"x\",\"y\":[0.7707],\"yaxis\":\"y\",\"type\":\"scatter\"}],\"name\":\"2022-01-22\"},{\"data\":[{\"hovertemplate\":\"<b>%{hovertext}</b><br><br>Username=Daily_Express<br>only_date=2022-01-23<br>positive=%{x}<br>negative=%{y}<br>Like Count=%{marker.size}<extra></extra>\",\"hovertext\":[\"Daily_Express\"],\"legendgroup\":\"Daily_Express\",\"marker\":{\"color\":\"#EF553B\",\"size\":[7.0],\"sizemode\":\"area\",\"sizeref\":3.8625,\"symbol\":\"circle\"},\"mode\":\"markers\",\"name\":\"Daily_Express\",\"orientation\":\"v\",\"showlegend\":true,\"x\":[0.0077],\"xaxis\":\"x\",\"y\":[0.6582],\"yaxis\":\"y\",\"type\":\"scatter\"}],\"name\":\"2022-01-23\"},{\"data\":[{\"hovertemplate\":\"<b>%{hovertext}</b><br><br>Username=Daily_Express<br>only_date=2022-01-24<br>positive=%{x}<br>negative=%{y}<br>Like Count=%{marker.size}<extra></extra>\",\"hovertext\":[\"Daily_Express\"],\"legendgroup\":\"Daily_Express\",\"marker\":{\"color\":\"#EF553B\",\"size\":[2.0],\"sizemode\":\"area\",\"sizeref\":3.8625,\"symbol\":\"circle\"},\"mode\":\"markers\",\"name\":\"Daily_Express\",\"orientation\":\"v\",\"showlegend\":true,\"x\":[0.009],\"xaxis\":\"x\",\"y\":[0.6496],\"yaxis\":\"y\",\"type\":\"scatter\"},{\"hovertemplate\":\"<b>%{hovertext}</b><br><br>Username=TheSun<br>only_date=2022-01-24<br>positive=%{x}<br>negative=%{y}<br>Like Count=%{marker.size}<extra></extra>\",\"hovertext\":[\"TheSun\",\"TheSun\"],\"legendgroup\":\"TheSun\",\"marker\":{\"color\":\"#00cc96\",\"size\":[6.0,7.0],\"sizemode\":\"area\",\"sizeref\":3.8625,\"symbol\":\"circle\"},\"mode\":\"markers\",\"name\":\"TheSun\",\"orientation\":\"v\",\"showlegend\":true,\"x\":[0.0206,0.0644],\"xaxis\":\"x\",\"y\":[0.131,0.0276],\"yaxis\":\"y\",\"type\":\"scatter\"}],\"name\":\"2022-01-24\"},{\"data\":[{\"hovertemplate\":\"<b>%{hovertext}</b><br><br>Username=DailyMailUK<br>only_date=2022-01-26<br>positive=%{x}<br>negative=%{y}<br>Like Count=%{marker.size}<extra></extra>\",\"hovertext\":[\"DailyMailUK\",\"DailyMailUK\"],\"legendgroup\":\"DailyMailUK\",\"marker\":{\"color\":\"#636efa\",\"size\":[11.0,4.0],\"sizemode\":\"area\",\"sizeref\":3.8625,\"symbol\":\"circle\"},\"mode\":\"markers\",\"name\":\"DailyMailUK\",\"orientation\":\"v\",\"showlegend\":true,\"x\":[0.0074,0.0454],\"xaxis\":\"x\",\"y\":[0.7167,0.2051],\"yaxis\":\"y\",\"type\":\"scatter\"}],\"name\":\"2022-01-26\"},{\"data\":[{\"hovertemplate\":\"<b>%{hovertext}</b><br><br>Username=DailyMailUK<br>only_date=2022-01-27<br>positive=%{x}<br>negative=%{y}<br>Like Count=%{marker.size}<extra></extra>\",\"hovertext\":[\"DailyMailUK\"],\"legendgroup\":\"DailyMailUK\",\"marker\":{\"color\":\"#636efa\",\"size\":[4.0],\"sizemode\":\"area\",\"sizeref\":3.8625,\"symbol\":\"circle\"},\"mode\":\"markers\",\"name\":\"DailyMailUK\",\"orientation\":\"v\",\"showlegend\":true,\"x\":[0.016],\"xaxis\":\"x\",\"y\":[0.3674],\"yaxis\":\"y\",\"type\":\"scatter\"},{\"hovertemplate\":\"<b>%{hovertext}</b><br><br>Username=MailOnline<br>only_date=2022-01-27<br>positive=%{x}<br>negative=%{y}<br>Like Count=%{marker.size}<extra></extra>\",\"hovertext\":[\"MailOnline\"],\"legendgroup\":\"MailOnline\",\"marker\":{\"color\":\"#ab63fa\",\"size\":[11.0],\"sizemode\":\"area\",\"sizeref\":3.8625,\"symbol\":\"circle\"},\"mode\":\"markers\",\"name\":\"MailOnline\",\"orientation\":\"v\",\"showlegend\":true,\"x\":[0.0084],\"xaxis\":\"x\",\"y\":[0.6296],\"yaxis\":\"y\",\"type\":\"scatter\"}],\"name\":\"2022-01-27\"},{\"data\":[{\"hovertemplate\":\"<b>%{hovertext}</b><br><br>Username=Daily_Express<br>only_date=2022-01-29<br>positive=%{x}<br>negative=%{y}<br>Like Count=%{marker.size}<extra></extra>\",\"hovertext\":[\"Daily_Express\"],\"legendgroup\":\"Daily_Express\",\"marker\":{\"color\":\"#EF553B\",\"size\":[4.0],\"sizemode\":\"area\",\"sizeref\":3.8625,\"symbol\":\"circle\"},\"mode\":\"markers\",\"name\":\"Daily_Express\",\"orientation\":\"v\",\"showlegend\":true,\"x\":[0.0116],\"xaxis\":\"x\",\"y\":[0.5476],\"yaxis\":\"y\",\"type\":\"scatter\"}],\"name\":\"2022-01-29\"},{\"data\":[{\"hovertemplate\":\"<b>%{hovertext}</b><br><br>Username=MailOnline<br>only_date=2022-01-31<br>positive=%{x}<br>negative=%{y}<br>Like Count=%{marker.size}<extra></extra>\",\"hovertext\":[\"MailOnline\"],\"legendgroup\":\"MailOnline\",\"marker\":{\"color\":\"#ab63fa\",\"size\":[52.0],\"sizemode\":\"area\",\"sizeref\":3.8625,\"symbol\":\"circle\"},\"mode\":\"markers\",\"name\":\"MailOnline\",\"orientation\":\"v\",\"showlegend\":true,\"x\":[0.0076],\"xaxis\":\"x\",\"y\":[0.6697],\"yaxis\":\"y\",\"type\":\"scatter\"}],\"name\":\"2022-01-31\"},{\"data\":[{\"hovertemplate\":\"<b>%{hovertext}</b><br><br>Username=TheSun<br>only_date=2022-02-04<br>positive=%{x}<br>negative=%{y}<br>Like Count=%{marker.size}<extra></extra>\",\"hovertext\":[\"TheSun\"],\"legendgroup\":\"TheSun\",\"marker\":{\"color\":\"#00cc96\",\"size\":[8.0],\"sizemode\":\"area\",\"sizeref\":3.8625,\"symbol\":\"circle\"},\"mode\":\"markers\",\"name\":\"TheSun\",\"orientation\":\"v\",\"showlegend\":true,\"x\":[0.007],\"xaxis\":\"x\",\"y\":[0.7181],\"yaxis\":\"y\",\"type\":\"scatter\"}],\"name\":\"2022-02-04\"},{\"data\":[{\"hovertemplate\":\"<b>%{hovertext}</b><br><br>Username=MailOnline<br>only_date=2022-02-05<br>positive=%{x}<br>negative=%{y}<br>Like Count=%{marker.size}<extra></extra>\",\"hovertext\":[\"MailOnline\",\"MailOnline\",\"MailOnline\"],\"legendgroup\":\"MailOnline\",\"marker\":{\"color\":\"#ab63fa\",\"size\":[41.0,9.0,44.0],\"sizemode\":\"area\",\"sizeref\":3.8625,\"symbol\":\"circle\"},\"mode\":\"markers\",\"name\":\"MailOnline\",\"orientation\":\"v\",\"showlegend\":true,\"x\":[0.008,0.0154,0.0056],\"xaxis\":\"x\",\"y\":[0.629,0.2011,0.6798],\"yaxis\":\"y\",\"type\":\"scatter\"}],\"name\":\"2022-02-05\"},{\"data\":[{\"hovertemplate\":\"<b>%{hovertext}</b><br><br>Username=DailyMailUK<br>only_date=2022-02-06<br>positive=%{x}<br>negative=%{y}<br>Like Count=%{marker.size}<extra></extra>\",\"hovertext\":[\"DailyMailUK\"],\"legendgroup\":\"DailyMailUK\",\"marker\":{\"color\":\"#636efa\",\"size\":[14.0],\"sizemode\":\"area\",\"sizeref\":3.8625,\"symbol\":\"circle\"},\"mode\":\"markers\",\"name\":\"DailyMailUK\",\"orientation\":\"v\",\"showlegend\":true,\"x\":[0.0132],\"xaxis\":\"x\",\"y\":[0.5941],\"yaxis\":\"y\",\"type\":\"scatter\"},{\"hovertemplate\":\"<b>%{hovertext}</b><br><br>Username=MailOnline<br>only_date=2022-02-06<br>positive=%{x}<br>negative=%{y}<br>Like Count=%{marker.size}<extra></extra>\",\"hovertext\":[\"MailOnline\"],\"legendgroup\":\"MailOnline\",\"marker\":{\"color\":\"#ab63fa\",\"size\":[20.0],\"sizemode\":\"area\",\"sizeref\":3.8625,\"symbol\":\"circle\"},\"mode\":\"markers\",\"name\":\"MailOnline\",\"orientation\":\"v\",\"showlegend\":true,\"x\":[0.0109],\"xaxis\":\"x\",\"y\":[0.685],\"yaxis\":\"y\",\"type\":\"scatter\"}],\"name\":\"2022-02-06\"},{\"data\":[{\"hovertemplate\":\"<b>%{hovertext}</b><br><br>Username=MailOnline<br>only_date=2022-02-09<br>positive=%{x}<br>negative=%{y}<br>Like Count=%{marker.size}<extra></extra>\",\"hovertext\":[\"MailOnline\"],\"legendgroup\":\"MailOnline\",\"marker\":{\"color\":\"#ab63fa\",\"size\":[14.0],\"sizemode\":\"area\",\"sizeref\":3.8625,\"symbol\":\"circle\"},\"mode\":\"markers\",\"name\":\"MailOnline\",\"orientation\":\"v\",\"showlegend\":true,\"x\":[0.0123],\"xaxis\":\"x\",\"y\":[0.4998],\"yaxis\":\"y\",\"type\":\"scatter\"}],\"name\":\"2022-02-09\"},{\"data\":[{\"hovertemplate\":\"<b>%{hovertext}</b><br><br>Username=DailyMailUK<br>only_date=2022-02-10<br>positive=%{x}<br>negative=%{y}<br>Like Count=%{marker.size}<extra></extra>\",\"hovertext\":[\"DailyMailUK\"],\"legendgroup\":\"DailyMailUK\",\"marker\":{\"color\":\"#636efa\",\"size\":[7.0],\"sizemode\":\"area\",\"sizeref\":3.8625,\"symbol\":\"circle\"},\"mode\":\"markers\",\"name\":\"DailyMailUK\",\"orientation\":\"v\",\"showlegend\":true,\"x\":[0.0054],\"xaxis\":\"x\",\"y\":[0.748],\"yaxis\":\"y\",\"type\":\"scatter\"},{\"hovertemplate\":\"<b>%{hovertext}</b><br><br>Username=Daily_Express<br>only_date=2022-02-10<br>positive=%{x}<br>negative=%{y}<br>Like Count=%{marker.size}<extra></extra>\",\"hovertext\":[\"Daily_Express\"],\"legendgroup\":\"Daily_Express\",\"marker\":{\"color\":\"#EF553B\",\"size\":[0.0],\"sizemode\":\"area\",\"sizeref\":3.8625,\"symbol\":\"circle\"},\"mode\":\"markers\",\"name\":\"Daily_Express\",\"orientation\":\"v\",\"showlegend\":true,\"x\":[0.0066],\"xaxis\":\"x\",\"y\":[0.8109],\"yaxis\":\"y\",\"type\":\"scatter\"}],\"name\":\"2022-02-10\"},{\"data\":[{\"hovertemplate\":\"<b>%{hovertext}</b><br><br>Username=MailOnline<br>only_date=2022-02-11<br>positive=%{x}<br>negative=%{y}<br>Like Count=%{marker.size}<extra></extra>\",\"hovertext\":[\"MailOnline\"],\"legendgroup\":\"MailOnline\",\"marker\":{\"color\":\"#ab63fa\",\"size\":[18.0],\"sizemode\":\"area\",\"sizeref\":3.8625,\"symbol\":\"circle\"},\"mode\":\"markers\",\"name\":\"MailOnline\",\"orientation\":\"v\",\"showlegend\":true,\"x\":[0.0244],\"xaxis\":\"x\",\"y\":[0.4866],\"yaxis\":\"y\",\"type\":\"scatter\"}],\"name\":\"2022-02-11\"},{\"data\":[{\"hovertemplate\":\"<b>%{hovertext}</b><br><br>Username=DailyMailUK<br>only_date=2022-02-13<br>positive=%{x}<br>negative=%{y}<br>Like Count=%{marker.size}<extra></extra>\",\"hovertext\":[\"DailyMailUK\"],\"legendgroup\":\"DailyMailUK\",\"marker\":{\"color\":\"#636efa\",\"size\":[26.0],\"sizemode\":\"area\",\"sizeref\":3.8625,\"symbol\":\"circle\"},\"mode\":\"markers\",\"name\":\"DailyMailUK\",\"orientation\":\"v\",\"showlegend\":true,\"x\":[0.0057],\"xaxis\":\"x\",\"y\":[0.7999],\"yaxis\":\"y\",\"type\":\"scatter\"},{\"hovertemplate\":\"<b>%{hovertext}</b><br><br>Username=MailOnline<br>only_date=2022-02-13<br>positive=%{x}<br>negative=%{y}<br>Like Count=%{marker.size}<extra></extra>\",\"hovertext\":[\"MailOnline\"],\"legendgroup\":\"MailOnline\",\"marker\":{\"color\":\"#ab63fa\",\"size\":[18.0],\"sizemode\":\"area\",\"sizeref\":3.8625,\"symbol\":\"circle\"},\"mode\":\"markers\",\"name\":\"MailOnline\",\"orientation\":\"v\",\"showlegend\":true,\"x\":[0.0099],\"xaxis\":\"x\",\"y\":[0.7319],\"yaxis\":\"y\",\"type\":\"scatter\"}],\"name\":\"2022-02-13\"},{\"data\":[{\"hovertemplate\":\"<b>%{hovertext}</b><br><br>Username=MailOnline<br>only_date=2022-02-16<br>positive=%{x}<br>negative=%{y}<br>Like Count=%{marker.size}<extra></extra>\",\"hovertext\":[\"MailOnline\"],\"legendgroup\":\"MailOnline\",\"marker\":{\"color\":\"#ab63fa\",\"size\":[54.0],\"sizemode\":\"area\",\"sizeref\":3.8625,\"symbol\":\"circle\"},\"mode\":\"markers\",\"name\":\"MailOnline\",\"orientation\":\"v\",\"showlegend\":true,\"x\":[0.0057],\"xaxis\":\"x\",\"y\":[0.8608],\"yaxis\":\"y\",\"type\":\"scatter\"}],\"name\":\"2022-02-16\"},{\"data\":[{\"hovertemplate\":\"<b>%{hovertext}</b><br><br>Username=Daily_Express<br>only_date=2022-02-17<br>positive=%{x}<br>negative=%{y}<br>Like Count=%{marker.size}<extra></extra>\",\"hovertext\":[\"Daily_Express\"],\"legendgroup\":\"Daily_Express\",\"marker\":{\"color\":\"#EF553B\",\"size\":[2.0],\"sizemode\":\"area\",\"sizeref\":3.8625,\"symbol\":\"circle\"},\"mode\":\"markers\",\"name\":\"Daily_Express\",\"orientation\":\"v\",\"showlegend\":true,\"x\":[0.01],\"xaxis\":\"x\",\"y\":[0.5166],\"yaxis\":\"y\",\"type\":\"scatter\"},{\"hovertemplate\":\"<b>%{hovertext}</b><br><br>Username=MailOnline<br>only_date=2022-02-17<br>positive=%{x}<br>negative=%{y}<br>Like Count=%{marker.size}<extra></extra>\",\"hovertext\":[\"MailOnline\"],\"legendgroup\":\"MailOnline\",\"marker\":{\"color\":\"#ab63fa\",\"size\":[34.0],\"sizemode\":\"area\",\"sizeref\":3.8625,\"symbol\":\"circle\"},\"mode\":\"markers\",\"name\":\"MailOnline\",\"orientation\":\"v\",\"showlegend\":true,\"x\":[0.0066],\"xaxis\":\"x\",\"y\":[0.7896],\"yaxis\":\"y\",\"type\":\"scatter\"}],\"name\":\"2022-02-17\"},{\"data\":[{\"hovertemplate\":\"<b>%{hovertext}</b><br><br>Username=MailOnline<br>only_date=2022-02-18<br>positive=%{x}<br>negative=%{y}<br>Like Count=%{marker.size}<extra></extra>\",\"hovertext\":[\"MailOnline\"],\"legendgroup\":\"MailOnline\",\"marker\":{\"color\":\"#ab63fa\",\"size\":[1545.0],\"sizemode\":\"area\",\"sizeref\":3.8625,\"symbol\":\"circle\"},\"mode\":\"markers\",\"name\":\"MailOnline\",\"orientation\":\"v\",\"showlegend\":true,\"x\":[0.0071],\"xaxis\":\"x\",\"y\":[0.8159],\"yaxis\":\"y\",\"type\":\"scatter\"}],\"name\":\"2022-02-18\"},{\"data\":[{\"hovertemplate\":\"<b>%{hovertext}</b><br><br>Username=Daily_Express<br>only_date=2022-02-22<br>positive=%{x}<br>negative=%{y}<br>Like Count=%{marker.size}<extra></extra>\",\"hovertext\":[\"Daily_Express\"],\"legendgroup\":\"Daily_Express\",\"marker\":{\"color\":\"#EF553B\",\"size\":[5.0],\"sizemode\":\"area\",\"sizeref\":3.8625,\"symbol\":\"circle\"},\"mode\":\"markers\",\"name\":\"Daily_Express\",\"orientation\":\"v\",\"showlegend\":true,\"x\":[0.008],\"xaxis\":\"x\",\"y\":[0.8257],\"yaxis\":\"y\",\"type\":\"scatter\"}],\"name\":\"2022-02-22\"},{\"data\":[{\"hovertemplate\":\"<b>%{hovertext}</b><br><br>Username=DailyMailUK<br>only_date=2022-03-01<br>positive=%{x}<br>negative=%{y}<br>Like Count=%{marker.size}<extra></extra>\",\"hovertext\":[\"DailyMailUK\"],\"legendgroup\":\"DailyMailUK\",\"marker\":{\"color\":\"#636efa\",\"size\":[10.0],\"sizemode\":\"area\",\"sizeref\":3.8625,\"symbol\":\"circle\"},\"mode\":\"markers\",\"name\":\"DailyMailUK\",\"orientation\":\"v\",\"showlegend\":true,\"x\":[0.0063],\"xaxis\":\"x\",\"y\":[0.7745],\"yaxis\":\"y\",\"type\":\"scatter\"},{\"hovertemplate\":\"<b>%{hovertext}</b><br><br>Username=MailOnline<br>only_date=2022-03-01<br>positive=%{x}<br>negative=%{y}<br>Like Count=%{marker.size}<extra></extra>\",\"hovertext\":[\"MailOnline\",\"MailOnline\",\"MailOnline\"],\"legendgroup\":\"MailOnline\",\"marker\":{\"color\":\"#ab63fa\",\"size\":[175.0,200.0,169.0],\"sizemode\":\"area\",\"sizeref\":3.8625,\"symbol\":\"circle\"},\"mode\":\"markers\",\"name\":\"MailOnline\",\"orientation\":\"v\",\"showlegend\":true,\"x\":[0.012,0.0081,0.0101],\"xaxis\":\"x\",\"y\":[0.4964,0.7684,0.6409],\"yaxis\":\"y\",\"type\":\"scatter\"}],\"name\":\"2022-03-01\"},{\"data\":[{\"hovertemplate\":\"<b>%{hovertext}</b><br><br>Username=MailOnline<br>only_date=2022-03-03<br>positive=%{x}<br>negative=%{y}<br>Like Count=%{marker.size}<extra></extra>\",\"hovertext\":[\"MailOnline\"],\"legendgroup\":\"MailOnline\",\"marker\":{\"color\":\"#ab63fa\",\"size\":[24.0],\"sizemode\":\"area\",\"sizeref\":3.8625,\"symbol\":\"circle\"},\"mode\":\"markers\",\"name\":\"MailOnline\",\"orientation\":\"v\",\"showlegend\":true,\"x\":[0.0648],\"xaxis\":\"x\",\"y\":[0.0507],\"yaxis\":\"y\",\"type\":\"scatter\"}],\"name\":\"2022-03-03\"},{\"data\":[{\"hovertemplate\":\"<b>%{hovertext}</b><br><br>Username=DailyMailUK<br>only_date=2022-03-04<br>positive=%{x}<br>negative=%{y}<br>Like Count=%{marker.size}<extra></extra>\",\"hovertext\":[\"DailyMailUK\",\"DailyMailUK\"],\"legendgroup\":\"DailyMailUK\",\"marker\":{\"color\":\"#636efa\",\"size\":[8.0,2.0],\"sizemode\":\"area\",\"sizeref\":3.8625,\"symbol\":\"circle\"},\"mode\":\"markers\",\"name\":\"DailyMailUK\",\"orientation\":\"v\",\"showlegend\":true,\"x\":[0.004,0.0038],\"xaxis\":\"x\",\"y\":[0.8458,0.8558],\"yaxis\":\"y\",\"type\":\"scatter\"},{\"hovertemplate\":\"<b>%{hovertext}</b><br><br>Username=MailOnline<br>only_date=2022-03-04<br>positive=%{x}<br>negative=%{y}<br>Like Count=%{marker.size}<extra></extra>\",\"hovertext\":[\"MailOnline\"],\"legendgroup\":\"MailOnline\",\"marker\":{\"color\":\"#ab63fa\",\"size\":[7.0],\"sizemode\":\"area\",\"sizeref\":3.8625,\"symbol\":\"circle\"},\"mode\":\"markers\",\"name\":\"MailOnline\",\"orientation\":\"v\",\"showlegend\":true,\"x\":[0.0045],\"xaxis\":\"x\",\"y\":[0.8062],\"yaxis\":\"y\",\"type\":\"scatter\"}],\"name\":\"2022-03-04\"},{\"data\":[{\"hovertemplate\":\"<b>%{hovertext}</b><br><br>Username=MailOnline<br>only_date=2022-03-06<br>positive=%{x}<br>negative=%{y}<br>Like Count=%{marker.size}<extra></extra>\",\"hovertext\":[\"MailOnline\"],\"legendgroup\":\"MailOnline\",\"marker\":{\"color\":\"#ab63fa\",\"size\":[81.0],\"sizemode\":\"area\",\"sizeref\":3.8625,\"symbol\":\"circle\"},\"mode\":\"markers\",\"name\":\"MailOnline\",\"orientation\":\"v\",\"showlegend\":true,\"x\":[0.016],\"xaxis\":\"x\",\"y\":[0.3754],\"yaxis\":\"y\",\"type\":\"scatter\"}],\"name\":\"2022-03-06\"},{\"data\":[{\"hovertemplate\":\"<b>%{hovertext}</b><br><br>Username=DailyMailUK<br>only_date=2022-03-07<br>positive=%{x}<br>negative=%{y}<br>Like Count=%{marker.size}<extra></extra>\",\"hovertext\":[\"DailyMailUK\"],\"legendgroup\":\"DailyMailUK\",\"marker\":{\"color\":\"#636efa\",\"size\":[10.0],\"sizemode\":\"area\",\"sizeref\":3.8625,\"symbol\":\"circle\"},\"mode\":\"markers\",\"name\":\"DailyMailUK\",\"orientation\":\"v\",\"showlegend\":true,\"x\":[0.0142],\"xaxis\":\"x\",\"y\":[0.1616],\"yaxis\":\"y\",\"type\":\"scatter\"}],\"name\":\"2022-03-07\"},{\"data\":[{\"hovertemplate\":\"<b>%{hovertext}</b><br><br>Username=MailOnline<br>only_date=2022-03-08<br>positive=%{x}<br>negative=%{y}<br>Like Count=%{marker.size}<extra></extra>\",\"hovertext\":[\"MailOnline\"],\"legendgroup\":\"MailOnline\",\"marker\":{\"color\":\"#ab63fa\",\"size\":[15.0],\"sizemode\":\"area\",\"sizeref\":3.8625,\"symbol\":\"circle\"},\"mode\":\"markers\",\"name\":\"MailOnline\",\"orientation\":\"v\",\"showlegend\":true,\"x\":[0.0541],\"xaxis\":\"x\",\"y\":[0.0386],\"yaxis\":\"y\",\"type\":\"scatter\"}],\"name\":\"2022-03-08\"},{\"data\":[{\"hovertemplate\":\"<b>%{hovertext}</b><br><br>Username=MailOnline<br>only_date=2022-03-09<br>positive=%{x}<br>negative=%{y}<br>Like Count=%{marker.size}<extra></extra>\",\"hovertext\":[\"MailOnline\"],\"legendgroup\":\"MailOnline\",\"marker\":{\"color\":\"#ab63fa\",\"size\":[14.0],\"sizemode\":\"area\",\"sizeref\":3.8625,\"symbol\":\"circle\"},\"mode\":\"markers\",\"name\":\"MailOnline\",\"orientation\":\"v\",\"showlegend\":true,\"x\":[0.0345],\"xaxis\":\"x\",\"y\":[0.2193],\"yaxis\":\"y\",\"type\":\"scatter\"}],\"name\":\"2022-03-09\"},{\"data\":[{\"hovertemplate\":\"<b>%{hovertext}</b><br><br>Username=MailOnline<br>only_date=2022-03-11<br>positive=%{x}<br>negative=%{y}<br>Like Count=%{marker.size}<extra></extra>\",\"hovertext\":[\"MailOnline\"],\"legendgroup\":\"MailOnline\",\"marker\":{\"color\":\"#ab63fa\",\"size\":[58.0],\"sizemode\":\"area\",\"sizeref\":3.8625,\"symbol\":\"circle\"},\"mode\":\"markers\",\"name\":\"MailOnline\",\"orientation\":\"v\",\"showlegend\":true,\"x\":[0.0067],\"xaxis\":\"x\",\"y\":[0.7569],\"yaxis\":\"y\",\"type\":\"scatter\"}],\"name\":\"2022-03-11\"},{\"data\":[{\"hovertemplate\":\"<b>%{hovertext}</b><br><br>Username=MailOnline<br>only_date=2022-03-12<br>positive=%{x}<br>negative=%{y}<br>Like Count=%{marker.size}<extra></extra>\",\"hovertext\":[\"MailOnline\"],\"legendgroup\":\"MailOnline\",\"marker\":{\"color\":\"#ab63fa\",\"size\":[24.0],\"sizemode\":\"area\",\"sizeref\":3.8625,\"symbol\":\"circle\"},\"mode\":\"markers\",\"name\":\"MailOnline\",\"orientation\":\"v\",\"showlegend\":true,\"x\":[0.0364],\"xaxis\":\"x\",\"y\":[0.3223],\"yaxis\":\"y\",\"type\":\"scatter\"}],\"name\":\"2022-03-12\"},{\"data\":[{\"hovertemplate\":\"<b>%{hovertext}</b><br><br>Username=DailyMailUK<br>only_date=2022-03-15<br>positive=%{x}<br>negative=%{y}<br>Like Count=%{marker.size}<extra></extra>\",\"hovertext\":[\"DailyMailUK\",\"DailyMailUK\"],\"legendgroup\":\"DailyMailUK\",\"marker\":{\"color\":\"#636efa\",\"size\":[7.0,17.0],\"sizemode\":\"area\",\"sizeref\":3.8625,\"symbol\":\"circle\"},\"mode\":\"markers\",\"name\":\"DailyMailUK\",\"orientation\":\"v\",\"showlegend\":true,\"x\":[0.0184,0.0081],\"xaxis\":\"x\",\"y\":[0.2844,0.6001],\"yaxis\":\"y\",\"type\":\"scatter\"}],\"name\":\"2022-03-15\"},{\"data\":[{\"hovertemplate\":\"<b>%{hovertext}</b><br><br>Username=DailyMailUK<br>only_date=2022-03-21<br>positive=%{x}<br>negative=%{y}<br>Like Count=%{marker.size}<extra></extra>\",\"hovertext\":[\"DailyMailUK\"],\"legendgroup\":\"DailyMailUK\",\"marker\":{\"color\":\"#636efa\",\"size\":[4.0],\"sizemode\":\"area\",\"sizeref\":3.8625,\"symbol\":\"circle\"},\"mode\":\"markers\",\"name\":\"DailyMailUK\",\"orientation\":\"v\",\"showlegend\":true,\"x\":[0.0069],\"xaxis\":\"x\",\"y\":[0.705],\"yaxis\":\"y\",\"type\":\"scatter\"},{\"hovertemplate\":\"<b>%{hovertext}</b><br><br>Username=TheSun<br>only_date=2022-03-21<br>positive=%{x}<br>negative=%{y}<br>Like Count=%{marker.size}<extra></extra>\",\"hovertext\":[\"TheSun\"],\"legendgroup\":\"TheSun\",\"marker\":{\"color\":\"#00cc96\",\"size\":[42.0],\"sizemode\":\"area\",\"sizeref\":3.8625,\"symbol\":\"circle\"},\"mode\":\"markers\",\"name\":\"TheSun\",\"orientation\":\"v\",\"showlegend\":true,\"x\":[0.0107],\"xaxis\":\"x\",\"y\":[0.5456],\"yaxis\":\"y\",\"type\":\"scatter\"}],\"name\":\"2022-03-21\"},{\"data\":[{\"hovertemplate\":\"<b>%{hovertext}</b><br><br>Username=DailyMailUK<br>only_date=2022-03-22<br>positive=%{x}<br>negative=%{y}<br>Like Count=%{marker.size}<extra></extra>\",\"hovertext\":[\"DailyMailUK\"],\"legendgroup\":\"DailyMailUK\",\"marker\":{\"color\":\"#636efa\",\"size\":[4.0],\"sizemode\":\"area\",\"sizeref\":3.8625,\"symbol\":\"circle\"},\"mode\":\"markers\",\"name\":\"DailyMailUK\",\"orientation\":\"v\",\"showlegend\":true,\"x\":[0.0103],\"xaxis\":\"x\",\"y\":[0.4849],\"yaxis\":\"y\",\"type\":\"scatter\"},{\"hovertemplate\":\"<b>%{hovertext}</b><br><br>Username=MailOnline<br>only_date=2022-03-22<br>positive=%{x}<br>negative=%{y}<br>Like Count=%{marker.size}<extra></extra>\",\"hovertext\":[\"MailOnline\"],\"legendgroup\":\"MailOnline\",\"marker\":{\"color\":\"#ab63fa\",\"size\":[13.0],\"sizemode\":\"area\",\"sizeref\":3.8625,\"symbol\":\"circle\"},\"mode\":\"markers\",\"name\":\"MailOnline\",\"orientation\":\"v\",\"showlegend\":true,\"x\":[0.0121],\"xaxis\":\"x\",\"y\":[0.5258],\"yaxis\":\"y\",\"type\":\"scatter\"}],\"name\":\"2022-03-22\"},{\"data\":[{\"hovertemplate\":\"<b>%{hovertext}</b><br><br>Username=DailyMailUK<br>only_date=2022-03-23<br>positive=%{x}<br>negative=%{y}<br>Like Count=%{marker.size}<extra></extra>\",\"hovertext\":[\"DailyMailUK\"],\"legendgroup\":\"DailyMailUK\",\"marker\":{\"color\":\"#636efa\",\"size\":[0.0],\"sizemode\":\"area\",\"sizeref\":3.8625,\"symbol\":\"circle\"},\"mode\":\"markers\",\"name\":\"DailyMailUK\",\"orientation\":\"v\",\"showlegend\":true,\"x\":[0.0109],\"xaxis\":\"x\",\"y\":[0.6016],\"yaxis\":\"y\",\"type\":\"scatter\"},{\"hovertemplate\":\"<b>%{hovertext}</b><br><br>Username=Daily_Express<br>only_date=2022-03-23<br>positive=%{x}<br>negative=%{y}<br>Like Count=%{marker.size}<extra></extra>\",\"hovertext\":[\"Daily_Express\"],\"legendgroup\":\"Daily_Express\",\"marker\":{\"color\":\"#EF553B\",\"size\":[5.0],\"sizemode\":\"area\",\"sizeref\":3.8625,\"symbol\":\"circle\"},\"mode\":\"markers\",\"name\":\"Daily_Express\",\"orientation\":\"v\",\"showlegend\":true,\"x\":[0.1682],\"xaxis\":\"x\",\"y\":[0.0152],\"yaxis\":\"y\",\"type\":\"scatter\"}],\"name\":\"2022-03-23\"},{\"data\":[{\"hovertemplate\":\"<b>%{hovertext}</b><br><br>Username=Daily_Express<br>only_date=2022-03-24<br>positive=%{x}<br>negative=%{y}<br>Like Count=%{marker.size}<extra></extra>\",\"hovertext\":[\"Daily_Express\"],\"legendgroup\":\"Daily_Express\",\"marker\":{\"color\":\"#EF553B\",\"size\":[4.0],\"sizemode\":\"area\",\"sizeref\":3.8625,\"symbol\":\"circle\"},\"mode\":\"markers\",\"name\":\"Daily_Express\",\"orientation\":\"v\",\"showlegend\":true,\"x\":[0.0111],\"xaxis\":\"x\",\"y\":[0.5977],\"yaxis\":\"y\",\"type\":\"scatter\"}],\"name\":\"2022-03-24\"},{\"data\":[{\"hovertemplate\":\"<b>%{hovertext}</b><br><br>Username=MailOnline<br>only_date=2022-03-25<br>positive=%{x}<br>negative=%{y}<br>Like Count=%{marker.size}<extra></extra>\",\"hovertext\":[\"MailOnline\"],\"legendgroup\":\"MailOnline\",\"marker\":{\"color\":\"#ab63fa\",\"size\":[19.0],\"sizemode\":\"area\",\"sizeref\":3.8625,\"symbol\":\"circle\"},\"mode\":\"markers\",\"name\":\"MailOnline\",\"orientation\":\"v\",\"showlegend\":true,\"x\":[0.0102],\"xaxis\":\"x\",\"y\":[0.6341],\"yaxis\":\"y\",\"type\":\"scatter\"}],\"name\":\"2022-03-25\"},{\"data\":[{\"hovertemplate\":\"<b>%{hovertext}</b><br><br>Username=DailyMailUK<br>only_date=2022-03-30<br>positive=%{x}<br>negative=%{y}<br>Like Count=%{marker.size}<extra></extra>\",\"hovertext\":[\"DailyMailUK\"],\"legendgroup\":\"DailyMailUK\",\"marker\":{\"color\":\"#636efa\",\"size\":[6.0],\"sizemode\":\"area\",\"sizeref\":3.8625,\"symbol\":\"circle\"},\"mode\":\"markers\",\"name\":\"DailyMailUK\",\"orientation\":\"v\",\"showlegend\":true,\"x\":[0.0217],\"xaxis\":\"x\",\"y\":[0.0727],\"yaxis\":\"y\",\"type\":\"scatter\"}],\"name\":\"2022-03-30\"},{\"data\":[{\"hovertemplate\":\"<b>%{hovertext}</b><br><br>Username=Daily_Express<br>only_date=2022-03-31<br>positive=%{x}<br>negative=%{y}<br>Like Count=%{marker.size}<extra></extra>\",\"hovertext\":[\"Daily_Express\"],\"legendgroup\":\"Daily_Express\",\"marker\":{\"color\":\"#EF553B\",\"size\":[7.0],\"sizemode\":\"area\",\"sizeref\":3.8625,\"symbol\":\"circle\"},\"mode\":\"markers\",\"name\":\"Daily_Express\",\"orientation\":\"v\",\"showlegend\":true,\"x\":[0.0239],\"xaxis\":\"x\",\"y\":[0.0421],\"yaxis\":\"y\",\"type\":\"scatter\"},{\"hovertemplate\":\"<b>%{hovertext}</b><br><br>Username=MailOnline<br>only_date=2022-03-31<br>positive=%{x}<br>negative=%{y}<br>Like Count=%{marker.size}<extra></extra>\",\"hovertext\":[\"MailOnline\"],\"legendgroup\":\"MailOnline\",\"marker\":{\"color\":\"#ab63fa\",\"size\":[9.0],\"sizemode\":\"area\",\"sizeref\":3.8625,\"symbol\":\"circle\"},\"mode\":\"markers\",\"name\":\"MailOnline\",\"orientation\":\"v\",\"showlegend\":true,\"x\":[0.0073],\"xaxis\":\"x\",\"y\":[0.7071],\"yaxis\":\"y\",\"type\":\"scatter\"}],\"name\":\"2022-03-31\"},{\"data\":[{\"hovertemplate\":\"<b>%{hovertext}</b><br><br>Username=Daily_Express<br>only_date=2022-04-01<br>positive=%{x}<br>negative=%{y}<br>Like Count=%{marker.size}<extra></extra>\",\"hovertext\":[\"Daily_Express\",\"Daily_Express\",\"Daily_Express\",\"Daily_Express\",\"Daily_Express\",\"Daily_Express\",\"Daily_Express\"],\"legendgroup\":\"Daily_Express\",\"marker\":{\"color\":\"#EF553B\",\"size\":[10.0,1.0,1.0,11.0,538.0,13.0,4.0],\"sizemode\":\"area\",\"sizeref\":3.8625,\"symbol\":\"circle\"},\"mode\":\"markers\",\"name\":\"Daily_Express\",\"orientation\":\"v\",\"showlegend\":true,\"x\":[0.0795,0.0795,0.0615,0.678,0.0615,0.678,0.6122],\"xaxis\":\"x\",\"y\":[0.0649,0.0649,0.0071,0.0061,0.0071,0.0061,0.0065],\"yaxis\":\"y\",\"type\":\"scatter\"}],\"name\":\"2022-04-01\"},{\"data\":[{\"hovertemplate\":\"<b>%{hovertext}</b><br><br>Username=Daily_Express<br>only_date=2022-04-02<br>positive=%{x}<br>negative=%{y}<br>Like Count=%{marker.size}<extra></extra>\",\"hovertext\":[\"Daily_Express\",\"Daily_Express\",\"Daily_Express\"],\"legendgroup\":\"Daily_Express\",\"marker\":{\"color\":\"#EF553B\",\"size\":[3.0,2.0,0.0],\"sizemode\":\"area\",\"sizeref\":3.8625,\"symbol\":\"circle\"},\"mode\":\"markers\",\"name\":\"Daily_Express\",\"orientation\":\"v\",\"showlegend\":true,\"x\":[0.0558,0.0942,0.0231],\"xaxis\":\"x\",\"y\":[0.0077,0.0562,0.0099],\"yaxis\":\"y\",\"type\":\"scatter\"}],\"name\":\"2022-04-02\"},{\"data\":[{\"hovertemplate\":\"<b>%{hovertext}</b><br><br>Username=Daily_Express<br>only_date=2022-04-03<br>positive=%{x}<br>negative=%{y}<br>Like Count=%{marker.size}<extra></extra>\",\"hovertext\":[\"Daily_Express\",\"Daily_Express\"],\"legendgroup\":\"Daily_Express\",\"marker\":{\"color\":\"#EF553B\",\"size\":[0.0,1.0],\"sizemode\":\"area\",\"sizeref\":3.8625,\"symbol\":\"circle\"},\"mode\":\"markers\",\"name\":\"Daily_Express\",\"orientation\":\"v\",\"showlegend\":true,\"x\":[0.0539,0.0866],\"xaxis\":\"x\",\"y\":[0.0073,0.0499],\"yaxis\":\"y\",\"type\":\"scatter\"}],\"name\":\"2022-04-03\"},{\"data\":[{\"hovertemplate\":\"<b>%{hovertext}</b><br><br>Username=DailyMailUK<br>only_date=2022-04-04<br>positive=%{x}<br>negative=%{y}<br>Like Count=%{marker.size}<extra></extra>\",\"hovertext\":[\"DailyMailUK\"],\"legendgroup\":\"DailyMailUK\",\"marker\":{\"color\":\"#636efa\",\"size\":[3.0],\"sizemode\":\"area\",\"sizeref\":3.8625,\"symbol\":\"circle\"},\"mode\":\"markers\",\"name\":\"DailyMailUK\",\"orientation\":\"v\",\"showlegend\":true,\"x\":[0.0057],\"xaxis\":\"x\",\"y\":[0.798],\"yaxis\":\"y\",\"type\":\"scatter\"}],\"name\":\"2022-04-04\"},{\"data\":[{\"hovertemplate\":\"<b>%{hovertext}</b><br><br>Username=DailyMailUK<br>only_date=2022-04-05<br>positive=%{x}<br>negative=%{y}<br>Like Count=%{marker.size}<extra></extra>\",\"hovertext\":[\"DailyMailUK\"],\"legendgroup\":\"DailyMailUK\",\"marker\":{\"color\":\"#636efa\",\"size\":[15.0],\"sizemode\":\"area\",\"sizeref\":3.8625,\"symbol\":\"circle\"},\"mode\":\"markers\",\"name\":\"DailyMailUK\",\"orientation\":\"v\",\"showlegend\":true,\"x\":[0.0345],\"xaxis\":\"x\",\"y\":[0.1012],\"yaxis\":\"y\",\"type\":\"scatter\"},{\"hovertemplate\":\"<b>%{hovertext}</b><br><br>Username=Daily_Express<br>only_date=2022-04-05<br>positive=%{x}<br>negative=%{y}<br>Like Count=%{marker.size}<extra></extra>\",\"hovertext\":[\"Daily_Express\"],\"legendgroup\":\"Daily_Express\",\"marker\":{\"color\":\"#EF553B\",\"size\":[8.0],\"sizemode\":\"area\",\"sizeref\":3.8625,\"symbol\":\"circle\"},\"mode\":\"markers\",\"name\":\"Daily_Express\",\"orientation\":\"v\",\"showlegend\":true,\"x\":[0.0246],\"xaxis\":\"x\",\"y\":[0.6527],\"yaxis\":\"y\",\"type\":\"scatter\"},{\"hovertemplate\":\"<b>%{hovertext}</b><br><br>Username=MailOnline<br>only_date=2022-04-05<br>positive=%{x}<br>negative=%{y}<br>Like Count=%{marker.size}<extra></extra>\",\"hovertext\":[\"MailOnline\",\"MailOnline\"],\"legendgroup\":\"MailOnline\",\"marker\":{\"color\":\"#ab63fa\",\"size\":[68.0,14.0],\"sizemode\":\"area\",\"sizeref\":3.8625,\"symbol\":\"circle\"},\"mode\":\"markers\",\"name\":\"MailOnline\",\"orientation\":\"v\",\"showlegend\":true,\"x\":[0.0049,0.0068],\"xaxis\":\"x\",\"y\":[0.8673,0.7255],\"yaxis\":\"y\",\"type\":\"scatter\"}],\"name\":\"2022-04-05\"},{\"data\":[{\"hovertemplate\":\"<b>%{hovertext}</b><br><br>Username=Daily_Express<br>only_date=2022-04-07<br>positive=%{x}<br>negative=%{y}<br>Like Count=%{marker.size}<extra></extra>\",\"hovertext\":[\"Daily_Express\"],\"legendgroup\":\"Daily_Express\",\"marker\":{\"color\":\"#EF553B\",\"size\":[2.0],\"sizemode\":\"area\",\"sizeref\":3.8625,\"symbol\":\"circle\"},\"mode\":\"markers\",\"name\":\"Daily_Express\",\"orientation\":\"v\",\"showlegend\":true,\"x\":[0.0065],\"xaxis\":\"x\",\"y\":[0.6792],\"yaxis\":\"y\",\"type\":\"scatter\"}],\"name\":\"2022-04-07\"},{\"data\":[{\"hovertemplate\":\"<b>%{hovertext}</b><br><br>Username=DailyMailUK<br>only_date=2022-04-08<br>positive=%{x}<br>negative=%{y}<br>Like Count=%{marker.size}<extra></extra>\",\"hovertext\":[\"DailyMailUK\"],\"legendgroup\":\"DailyMailUK\",\"marker\":{\"color\":\"#636efa\",\"size\":[3.0],\"sizemode\":\"area\",\"sizeref\":3.8625,\"symbol\":\"circle\"},\"mode\":\"markers\",\"name\":\"DailyMailUK\",\"orientation\":\"v\",\"showlegend\":true,\"x\":[0.0073],\"xaxis\":\"x\",\"y\":[0.7555],\"yaxis\":\"y\",\"type\":\"scatter\"}],\"name\":\"2022-04-08\"},{\"data\":[{\"hovertemplate\":\"<b>%{hovertext}</b><br><br>Username=DailyMailUK<br>only_date=2022-04-11<br>positive=%{x}<br>negative=%{y}<br>Like Count=%{marker.size}<extra></extra>\",\"hovertext\":[\"DailyMailUK\"],\"legendgroup\":\"DailyMailUK\",\"marker\":{\"color\":\"#636efa\",\"size\":[4.0],\"sizemode\":\"area\",\"sizeref\":3.8625,\"symbol\":\"circle\"},\"mode\":\"markers\",\"name\":\"DailyMailUK\",\"orientation\":\"v\",\"showlegend\":true,\"x\":[0.008],\"xaxis\":\"x\",\"y\":[0.7005],\"yaxis\":\"y\",\"type\":\"scatter\"}],\"name\":\"2022-04-11\"},{\"data\":[{\"hovertemplate\":\"<b>%{hovertext}</b><br><br>Username=DailyMailUK<br>only_date=2022-04-13<br>positive=%{x}<br>negative=%{y}<br>Like Count=%{marker.size}<extra></extra>\",\"hovertext\":[\"DailyMailUK\"],\"legendgroup\":\"DailyMailUK\",\"marker\":{\"color\":\"#636efa\",\"size\":[41.0],\"sizemode\":\"area\",\"sizeref\":3.8625,\"symbol\":\"circle\"},\"mode\":\"markers\",\"name\":\"DailyMailUK\",\"orientation\":\"v\",\"showlegend\":true,\"x\":[0.0074],\"xaxis\":\"x\",\"y\":[0.8616],\"yaxis\":\"y\",\"type\":\"scatter\"}],\"name\":\"2022-04-13\"},{\"data\":[{\"hovertemplate\":\"<b>%{hovertext}</b><br><br>Username=MailOnline<br>only_date=2022-04-15<br>positive=%{x}<br>negative=%{y}<br>Like Count=%{marker.size}<extra></extra>\",\"hovertext\":[\"MailOnline\"],\"legendgroup\":\"MailOnline\",\"marker\":{\"color\":\"#ab63fa\",\"size\":[17.0],\"sizemode\":\"area\",\"sizeref\":3.8625,\"symbol\":\"circle\"},\"mode\":\"markers\",\"name\":\"MailOnline\",\"orientation\":\"v\",\"showlegend\":true,\"x\":[0.0189],\"xaxis\":\"x\",\"y\":[0.3407],\"yaxis\":\"y\",\"type\":\"scatter\"}],\"name\":\"2022-04-15\"},{\"data\":[{\"hovertemplate\":\"<b>%{hovertext}</b><br><br>Username=MailOnline<br>only_date=2022-04-17<br>positive=%{x}<br>negative=%{y}<br>Like Count=%{marker.size}<extra></extra>\",\"hovertext\":[\"MailOnline\"],\"legendgroup\":\"MailOnline\",\"marker\":{\"color\":\"#ab63fa\",\"size\":[13.0],\"sizemode\":\"area\",\"sizeref\":3.8625,\"symbol\":\"circle\"},\"mode\":\"markers\",\"name\":\"MailOnline\",\"orientation\":\"v\",\"showlegend\":true,\"x\":[0.0071],\"xaxis\":\"x\",\"y\":[0.7519],\"yaxis\":\"y\",\"type\":\"scatter\"}],\"name\":\"2022-04-17\"},{\"data\":[{\"hovertemplate\":\"<b>%{hovertext}</b><br><br>Username=MailOnline<br>only_date=2022-04-18<br>positive=%{x}<br>negative=%{y}<br>Like Count=%{marker.size}<extra></extra>\",\"hovertext\":[\"MailOnline\"],\"legendgroup\":\"MailOnline\",\"marker\":{\"color\":\"#ab63fa\",\"size\":[48.0],\"sizemode\":\"area\",\"sizeref\":3.8625,\"symbol\":\"circle\"},\"mode\":\"markers\",\"name\":\"MailOnline\",\"orientation\":\"v\",\"showlegend\":true,\"x\":[0.0058],\"xaxis\":\"x\",\"y\":[0.7597],\"yaxis\":\"y\",\"type\":\"scatter\"}],\"name\":\"2022-04-18\"},{\"data\":[{\"hovertemplate\":\"<b>%{hovertext}</b><br><br>Username=MailOnline<br>only_date=2022-04-19<br>positive=%{x}<br>negative=%{y}<br>Like Count=%{marker.size}<extra></extra>\",\"hovertext\":[\"MailOnline\"],\"legendgroup\":\"MailOnline\",\"marker\":{\"color\":\"#ab63fa\",\"size\":[14.0],\"sizemode\":\"area\",\"sizeref\":3.8625,\"symbol\":\"circle\"},\"mode\":\"markers\",\"name\":\"MailOnline\",\"orientation\":\"v\",\"showlegend\":true,\"x\":[0.0059],\"xaxis\":\"x\",\"y\":[0.7801],\"yaxis\":\"y\",\"type\":\"scatter\"}],\"name\":\"2022-04-19\"},{\"data\":[{\"hovertemplate\":\"<b>%{hovertext}</b><br><br>Username=MailOnline<br>only_date=2022-04-20<br>positive=%{x}<br>negative=%{y}<br>Like Count=%{marker.size}<extra></extra>\",\"hovertext\":[\"MailOnline\"],\"legendgroup\":\"MailOnline\",\"marker\":{\"color\":\"#ab63fa\",\"size\":[36.0],\"sizemode\":\"area\",\"sizeref\":3.8625,\"symbol\":\"circle\"},\"mode\":\"markers\",\"name\":\"MailOnline\",\"orientation\":\"v\",\"showlegend\":true,\"x\":[0.4291],\"xaxis\":\"x\",\"y\":[0.0129],\"yaxis\":\"y\",\"type\":\"scatter\"}],\"name\":\"2022-04-20\"},{\"data\":[{\"hovertemplate\":\"<b>%{hovertext}</b><br><br>Username=MailOnline<br>only_date=2022-04-21<br>positive=%{x}<br>negative=%{y}<br>Like Count=%{marker.size}<extra></extra>\",\"hovertext\":[\"MailOnline\",\"MailOnline\",\"MailOnline\"],\"legendgroup\":\"MailOnline\",\"marker\":{\"color\":\"#ab63fa\",\"size\":[83.0,10.0,18.0],\"sizemode\":\"area\",\"sizeref\":3.8625,\"symbol\":\"circle\"},\"mode\":\"markers\",\"name\":\"MailOnline\",\"orientation\":\"v\",\"showlegend\":true,\"x\":[0.0562,0.0084,0.0113],\"xaxis\":\"x\",\"y\":[0.0663,0.6711,0.5627],\"yaxis\":\"y\",\"type\":\"scatter\"}],\"name\":\"2022-04-21\"},{\"data\":[{\"hovertemplate\":\"<b>%{hovertext}</b><br><br>Username=Daily_Express<br>only_date=2022-04-22<br>positive=%{x}<br>negative=%{y}<br>Like Count=%{marker.size}<extra></extra>\",\"hovertext\":[\"Daily_Express\"],\"legendgroup\":\"Daily_Express\",\"marker\":{\"color\":\"#EF553B\",\"size\":[0.0],\"sizemode\":\"area\",\"sizeref\":3.8625,\"symbol\":\"circle\"},\"mode\":\"markers\",\"name\":\"Daily_Express\",\"orientation\":\"v\",\"showlegend\":true,\"x\":[0.0221],\"xaxis\":\"x\",\"y\":[0.4825],\"yaxis\":\"y\",\"type\":\"scatter\"},{\"hovertemplate\":\"<b>%{hovertext}</b><br><br>Username=MailOnline<br>only_date=2022-04-22<br>positive=%{x}<br>negative=%{y}<br>Like Count=%{marker.size}<extra></extra>\",\"hovertext\":[\"MailOnline\"],\"legendgroup\":\"MailOnline\",\"marker\":{\"color\":\"#ab63fa\",\"size\":[12.0],\"sizemode\":\"area\",\"sizeref\":3.8625,\"symbol\":\"circle\"},\"mode\":\"markers\",\"name\":\"MailOnline\",\"orientation\":\"v\",\"showlegend\":true,\"x\":[0.0073],\"xaxis\":\"x\",\"y\":[0.8279],\"yaxis\":\"y\",\"type\":\"scatter\"}],\"name\":\"2022-04-22\"},{\"data\":[{\"hovertemplate\":\"<b>%{hovertext}</b><br><br>Username=Daily_Express<br>only_date=2022-04-25<br>positive=%{x}<br>negative=%{y}<br>Like Count=%{marker.size}<extra></extra>\",\"hovertext\":[\"Daily_Express\",\"Daily_Express\"],\"legendgroup\":\"Daily_Express\",\"marker\":{\"color\":\"#EF553B\",\"size\":[1.0,3.0],\"sizemode\":\"area\",\"sizeref\":3.8625,\"symbol\":\"circle\"},\"mode\":\"markers\",\"name\":\"Daily_Express\",\"orientation\":\"v\",\"showlegend\":true,\"x\":[0.006,0.175],\"xaxis\":\"x\",\"y\":[0.8398,0.0323],\"yaxis\":\"y\",\"type\":\"scatter\"}],\"name\":\"2022-04-25\"},{\"data\":[{\"hovertemplate\":\"<b>%{hovertext}</b><br><br>Username=DailyMailUK<br>only_date=2022-04-27<br>positive=%{x}<br>negative=%{y}<br>Like Count=%{marker.size}<extra></extra>\",\"hovertext\":[\"DailyMailUK\",\"DailyMailUK\"],\"legendgroup\":\"DailyMailUK\",\"marker\":{\"color\":\"#636efa\",\"size\":[11.0,4.0],\"sizemode\":\"area\",\"sizeref\":3.8625,\"symbol\":\"circle\"},\"mode\":\"markers\",\"name\":\"DailyMailUK\",\"orientation\":\"v\",\"showlegend\":true,\"x\":[0.0306,0.0109],\"xaxis\":\"x\",\"y\":[0.3031,0.6339],\"yaxis\":\"y\",\"type\":\"scatter\"},{\"hovertemplate\":\"<b>%{hovertext}</b><br><br>Username=MailOnline<br>only_date=2022-04-27<br>positive=%{x}<br>negative=%{y}<br>Like Count=%{marker.size}<extra></extra>\",\"hovertext\":[\"MailOnline\"],\"legendgroup\":\"MailOnline\",\"marker\":{\"color\":\"#ab63fa\",\"size\":[14.0],\"sizemode\":\"area\",\"sizeref\":3.8625,\"symbol\":\"circle\"},\"mode\":\"markers\",\"name\":\"MailOnline\",\"orientation\":\"v\",\"showlegend\":true,\"x\":[0.0203],\"xaxis\":\"x\",\"y\":[0.4356],\"yaxis\":\"y\",\"type\":\"scatter\"}],\"name\":\"2022-04-27\"},{\"data\":[{\"hovertemplate\":\"<b>%{hovertext}</b><br><br>Username=MailOnline<br>only_date=2022-04-29<br>positive=%{x}<br>negative=%{y}<br>Like Count=%{marker.size}<extra></extra>\",\"hovertext\":[\"MailOnline\"],\"legendgroup\":\"MailOnline\",\"marker\":{\"color\":\"#ab63fa\",\"size\":[34.0],\"sizemode\":\"area\",\"sizeref\":3.8625,\"symbol\":\"circle\"},\"mode\":\"markers\",\"name\":\"MailOnline\",\"orientation\":\"v\",\"showlegend\":true,\"x\":[0.0062],\"xaxis\":\"x\",\"y\":[0.799],\"yaxis\":\"y\",\"type\":\"scatter\"}],\"name\":\"2022-04-29\"},{\"data\":[{\"hovertemplate\":\"<b>%{hovertext}</b><br><br>Username=Daily_Express<br>only_date=2022-04-30<br>positive=%{x}<br>negative=%{y}<br>Like Count=%{marker.size}<extra></extra>\",\"hovertext\":[\"Daily_Express\"],\"legendgroup\":\"Daily_Express\",\"marker\":{\"color\":\"#EF553B\",\"size\":[40.0],\"sizemode\":\"area\",\"sizeref\":3.8625,\"symbol\":\"circle\"},\"mode\":\"markers\",\"name\":\"Daily_Express\",\"orientation\":\"v\",\"showlegend\":true,\"x\":[0.0995],\"xaxis\":\"x\",\"y\":[0.0043],\"yaxis\":\"y\",\"type\":\"scatter\"},{\"hovertemplate\":\"<b>%{hovertext}</b><br><br>Username=MailOnline<br>only_date=2022-04-30<br>positive=%{x}<br>negative=%{y}<br>Like Count=%{marker.size}<extra></extra>\",\"hovertext\":[\"MailOnline\"],\"legendgroup\":\"MailOnline\",\"marker\":{\"color\":\"#ab63fa\",\"size\":[18.0],\"sizemode\":\"area\",\"sizeref\":3.8625,\"symbol\":\"circle\"},\"mode\":\"markers\",\"name\":\"MailOnline\",\"orientation\":\"v\",\"showlegend\":true,\"x\":[0.0053],\"xaxis\":\"x\",\"y\":[0.8487],\"yaxis\":\"y\",\"type\":\"scatter\"}],\"name\":\"2022-04-30\"},{\"data\":[{\"hovertemplate\":\"<b>%{hovertext}</b><br><br>Username=DailyMailUK<br>only_date=2022-05-02<br>positive=%{x}<br>negative=%{y}<br>Like Count=%{marker.size}<extra></extra>\",\"hovertext\":[\"DailyMailUK\",\"DailyMailUK\",\"DailyMailUK\"],\"legendgroup\":\"DailyMailUK\",\"marker\":{\"color\":\"#636efa\",\"size\":[14.0,54.0,19.0],\"sizemode\":\"area\",\"sizeref\":3.8625,\"symbol\":\"circle\"},\"mode\":\"markers\",\"name\":\"DailyMailUK\",\"orientation\":\"v\",\"showlegend\":true,\"x\":[0.0901,0.8302,0.0076],\"xaxis\":\"x\",\"y\":[0.019,0.0025,0.6095],\"yaxis\":\"y\",\"type\":\"scatter\"},{\"hovertemplate\":\"<b>%{hovertext}</b><br><br>Username=MailOnline<br>only_date=2022-05-02<br>positive=%{x}<br>negative=%{y}<br>Like Count=%{marker.size}<extra></extra>\",\"hovertext\":[\"MailOnline\"],\"legendgroup\":\"MailOnline\",\"marker\":{\"color\":\"#ab63fa\",\"size\":[11.0],\"sizemode\":\"area\",\"sizeref\":3.8625,\"symbol\":\"circle\"},\"mode\":\"markers\",\"name\":\"MailOnline\",\"orientation\":\"v\",\"showlegend\":true,\"x\":[0.7741],\"xaxis\":\"x\",\"y\":[0.0044],\"yaxis\":\"y\",\"type\":\"scatter\"}],\"name\":\"2022-05-02\"},{\"data\":[{\"hovertemplate\":\"<b>%{hovertext}</b><br><br>Username=TheSun<br>only_date=2022-05-05<br>positive=%{x}<br>negative=%{y}<br>Like Count=%{marker.size}<extra></extra>\",\"hovertext\":[\"TheSun\"],\"legendgroup\":\"TheSun\",\"marker\":{\"color\":\"#00cc96\",\"size\":[3.0],\"sizemode\":\"area\",\"sizeref\":3.8625,\"symbol\":\"circle\"},\"mode\":\"markers\",\"name\":\"TheSun\",\"orientation\":\"v\",\"showlegend\":true,\"x\":[0.0219],\"xaxis\":\"x\",\"y\":[0.5735],\"yaxis\":\"y\",\"type\":\"scatter\"},{\"hovertemplate\":\"<b>%{hovertext}</b><br><br>Username=MailOnline<br>only_date=2022-05-05<br>positive=%{x}<br>negative=%{y}<br>Like Count=%{marker.size}<extra></extra>\",\"hovertext\":[\"MailOnline\"],\"legendgroup\":\"MailOnline\",\"marker\":{\"color\":\"#ab63fa\",\"size\":[16.0],\"sizemode\":\"area\",\"sizeref\":3.8625,\"symbol\":\"circle\"},\"mode\":\"markers\",\"name\":\"MailOnline\",\"orientation\":\"v\",\"showlegend\":true,\"x\":[0.0059],\"xaxis\":\"x\",\"y\":[0.8146],\"yaxis\":\"y\",\"type\":\"scatter\"}],\"name\":\"2022-05-05\"},{\"data\":[{\"hovertemplate\":\"<b>%{hovertext}</b><br><br>Username=MailOnline<br>only_date=2022-05-08<br>positive=%{x}<br>negative=%{y}<br>Like Count=%{marker.size}<extra></extra>\",\"hovertext\":[\"MailOnline\"],\"legendgroup\":\"MailOnline\",\"marker\":{\"color\":\"#ab63fa\",\"size\":[19.0],\"sizemode\":\"area\",\"sizeref\":3.8625,\"symbol\":\"circle\"},\"mode\":\"markers\",\"name\":\"MailOnline\",\"orientation\":\"v\",\"showlegend\":true,\"x\":[0.8204],\"xaxis\":\"x\",\"y\":[0.0022],\"yaxis\":\"y\",\"type\":\"scatter\"}],\"name\":\"2022-05-08\"},{\"data\":[{\"hovertemplate\":\"<b>%{hovertext}</b><br><br>Username=MailOnline<br>only_date=2022-05-10<br>positive=%{x}<br>negative=%{y}<br>Like Count=%{marker.size}<extra></extra>\",\"hovertext\":[\"MailOnline\"],\"legendgroup\":\"MailOnline\",\"marker\":{\"color\":\"#ab63fa\",\"size\":[22.0],\"sizemode\":\"area\",\"sizeref\":3.8625,\"symbol\":\"circle\"},\"mode\":\"markers\",\"name\":\"MailOnline\",\"orientation\":\"v\",\"showlegend\":true,\"x\":[0.0103],\"xaxis\":\"x\",\"y\":[0.6609],\"yaxis\":\"y\",\"type\":\"scatter\"}],\"name\":\"2022-05-10\"},{\"data\":[{\"hovertemplate\":\"<b>%{hovertext}</b><br><br>Username=MailOnline<br>only_date=2022-05-13<br>positive=%{x}<br>negative=%{y}<br>Like Count=%{marker.size}<extra></extra>\",\"hovertext\":[\"MailOnline\"],\"legendgroup\":\"MailOnline\",\"marker\":{\"color\":\"#ab63fa\",\"size\":[41.0],\"sizemode\":\"area\",\"sizeref\":3.8625,\"symbol\":\"circle\"},\"mode\":\"markers\",\"name\":\"MailOnline\",\"orientation\":\"v\",\"showlegend\":true,\"x\":[0.0093],\"xaxis\":\"x\",\"y\":[0.7039],\"yaxis\":\"y\",\"type\":\"scatter\"}],\"name\":\"2022-05-13\"},{\"data\":[{\"hovertemplate\":\"<b>%{hovertext}</b><br><br>Username=MailOnline<br>only_date=2022-05-17<br>positive=%{x}<br>negative=%{y}<br>Like Count=%{marker.size}<extra></extra>\",\"hovertext\":[\"MailOnline\",\"MailOnline\",\"MailOnline\"],\"legendgroup\":\"MailOnline\",\"marker\":{\"color\":\"#ab63fa\",\"size\":[47.0,19.0,24.0],\"sizemode\":\"area\",\"sizeref\":3.8625,\"symbol\":\"circle\"},\"mode\":\"markers\",\"name\":\"MailOnline\",\"orientation\":\"v\",\"showlegend\":true,\"x\":[0.009,0.0446,0.0103],\"xaxis\":\"x\",\"y\":[0.5033,0.1865,0.586],\"yaxis\":\"y\",\"type\":\"scatter\"}],\"name\":\"2022-05-17\"},{\"data\":[{\"hovertemplate\":\"<b>%{hovertext}</b><br><br>Username=DailyMailUK<br>only_date=2022-05-18<br>positive=%{x}<br>negative=%{y}<br>Like Count=%{marker.size}<extra></extra>\",\"hovertext\":[\"DailyMailUK\"],\"legendgroup\":\"DailyMailUK\",\"marker\":{\"color\":\"#636efa\",\"size\":[14.0],\"sizemode\":\"area\",\"sizeref\":3.8625,\"symbol\":\"circle\"},\"mode\":\"markers\",\"name\":\"DailyMailUK\",\"orientation\":\"v\",\"showlegend\":true,\"x\":[0.0073],\"xaxis\":\"x\",\"y\":[0.7098],\"yaxis\":\"y\",\"type\":\"scatter\"}],\"name\":\"2022-05-18\"},{\"data\":[{\"hovertemplate\":\"<b>%{hovertext}</b><br><br>Username=MailOnline<br>only_date=2022-05-19<br>positive=%{x}<br>negative=%{y}<br>Like Count=%{marker.size}<extra></extra>\",\"hovertext\":[\"MailOnline\"],\"legendgroup\":\"MailOnline\",\"marker\":{\"color\":\"#ab63fa\",\"size\":[49.0],\"sizemode\":\"area\",\"sizeref\":3.8625,\"symbol\":\"circle\"},\"mode\":\"markers\",\"name\":\"MailOnline\",\"orientation\":\"v\",\"showlegend\":true,\"x\":[0.0235],\"xaxis\":\"x\",\"y\":[0.2633],\"yaxis\":\"y\",\"type\":\"scatter\"}],\"name\":\"2022-05-19\"},{\"data\":[{\"hovertemplate\":\"<b>%{hovertext}</b><br><br>Username=Daily_Express<br>only_date=2022-05-23<br>positive=%{x}<br>negative=%{y}<br>Like Count=%{marker.size}<extra></extra>\",\"hovertext\":[\"Daily_Express\"],\"legendgroup\":\"Daily_Express\",\"marker\":{\"color\":\"#EF553B\",\"size\":[2.0],\"sizemode\":\"area\",\"sizeref\":3.8625,\"symbol\":\"circle\"},\"mode\":\"markers\",\"name\":\"Daily_Express\",\"orientation\":\"v\",\"showlegend\":true,\"x\":[0.0174],\"xaxis\":\"x\",\"y\":[0.429],\"yaxis\":\"y\",\"type\":\"scatter\"}],\"name\":\"2022-05-23\"},{\"data\":[{\"hovertemplate\":\"<b>%{hovertext}</b><br><br>Username=Daily_Express<br>only_date=2022-05-25<br>positive=%{x}<br>negative=%{y}<br>Like Count=%{marker.size}<extra></extra>\",\"hovertext\":[\"Daily_Express\"],\"legendgroup\":\"Daily_Express\",\"marker\":{\"color\":\"#EF553B\",\"size\":[5.0],\"sizemode\":\"area\",\"sizeref\":3.8625,\"symbol\":\"circle\"},\"mode\":\"markers\",\"name\":\"Daily_Express\",\"orientation\":\"v\",\"showlegend\":true,\"x\":[0.0145],\"xaxis\":\"x\",\"y\":[0.5636],\"yaxis\":\"y\",\"type\":\"scatter\"}],\"name\":\"2022-05-25\"},{\"data\":[{\"hovertemplate\":\"<b>%{hovertext}</b><br><br>Username=MailOnline<br>only_date=2022-05-26<br>positive=%{x}<br>negative=%{y}<br>Like Count=%{marker.size}<extra></extra>\",\"hovertext\":[\"MailOnline\",\"MailOnline\"],\"legendgroup\":\"MailOnline\",\"marker\":{\"color\":\"#ab63fa\",\"size\":[31.0,55.0],\"sizemode\":\"area\",\"sizeref\":3.8625,\"symbol\":\"circle\"},\"mode\":\"markers\",\"name\":\"MailOnline\",\"orientation\":\"v\",\"showlegend\":true,\"x\":[0.0101,0.0066],\"xaxis\":\"x\",\"y\":[0.6808,0.809],\"yaxis\":\"y\",\"type\":\"scatter\"}],\"name\":\"2022-05-26\"},{\"data\":[{\"hovertemplate\":\"<b>%{hovertext}</b><br><br>Username=MailOnline<br>only_date=2022-05-27<br>positive=%{x}<br>negative=%{y}<br>Like Count=%{marker.size}<extra></extra>\",\"hovertext\":[\"MailOnline\"],\"legendgroup\":\"MailOnline\",\"marker\":{\"color\":\"#ab63fa\",\"size\":[8.0],\"sizemode\":\"area\",\"sizeref\":3.8625,\"symbol\":\"circle\"},\"mode\":\"markers\",\"name\":\"MailOnline\",\"orientation\":\"v\",\"showlegend\":true,\"x\":[0.0121],\"xaxis\":\"x\",\"y\":[0.5709],\"yaxis\":\"y\",\"type\":\"scatter\"}],\"name\":\"2022-05-27\"},{\"data\":[{\"hovertemplate\":\"<b>%{hovertext}</b><br><br>Username=TheSun<br>only_date=2022-05-31<br>positive=%{x}<br>negative=%{y}<br>Like Count=%{marker.size}<extra></extra>\",\"hovertext\":[\"TheSun\"],\"legendgroup\":\"TheSun\",\"marker\":{\"color\":\"#00cc96\",\"size\":[10.0],\"sizemode\":\"area\",\"sizeref\":3.8625,\"symbol\":\"circle\"},\"mode\":\"markers\",\"name\":\"TheSun\",\"orientation\":\"v\",\"showlegend\":true,\"x\":[0.0046],\"xaxis\":\"x\",\"y\":[0.9271],\"yaxis\":\"y\",\"type\":\"scatter\"}],\"name\":\"2022-05-31\"},{\"data\":[{\"hovertemplate\":\"<b>%{hovertext}</b><br><br>Username=MailOnline<br>only_date=2022-06-02<br>positive=%{x}<br>negative=%{y}<br>Like Count=%{marker.size}<extra></extra>\",\"hovertext\":[\"MailOnline\",\"MailOnline\"],\"legendgroup\":\"MailOnline\",\"marker\":{\"color\":\"#ab63fa\",\"size\":[15.0,7.0],\"sizemode\":\"area\",\"sizeref\":3.8625,\"symbol\":\"circle\"},\"mode\":\"markers\",\"name\":\"MailOnline\",\"orientation\":\"v\",\"showlegend\":true,\"x\":[0.0108,0.0265],\"xaxis\":\"x\",\"y\":[0.6108,0.2219],\"yaxis\":\"y\",\"type\":\"scatter\"}],\"name\":\"2022-06-02\"},{\"data\":[{\"hovertemplate\":\"<b>%{hovertext}</b><br><br>Username=Daily_Express<br>only_date=2022-06-04<br>positive=%{x}<br>negative=%{y}<br>Like Count=%{marker.size}<extra></extra>\",\"hovertext\":[\"Daily_Express\",\"Daily_Express\"],\"legendgroup\":\"Daily_Express\",\"marker\":{\"color\":\"#EF553B\",\"size\":[4.0,3.0],\"sizemode\":\"area\",\"sizeref\":3.8625,\"symbol\":\"circle\"},\"mode\":\"markers\",\"name\":\"Daily_Express\",\"orientation\":\"v\",\"showlegend\":true,\"x\":[0.0104,0.0089],\"xaxis\":\"x\",\"y\":[0.634,0.6747],\"yaxis\":\"y\",\"type\":\"scatter\"}],\"name\":\"2022-06-04\"},{\"data\":[{\"hovertemplate\":\"<b>%{hovertext}</b><br><br>Username=TheSun<br>only_date=2022-06-05<br>positive=%{x}<br>negative=%{y}<br>Like Count=%{marker.size}<extra></extra>\",\"hovertext\":[\"TheSun\"],\"legendgroup\":\"TheSun\",\"marker\":{\"color\":\"#00cc96\",\"size\":[10.0],\"sizemode\":\"area\",\"sizeref\":3.8625,\"symbol\":\"circle\"},\"mode\":\"markers\",\"name\":\"TheSun\",\"orientation\":\"v\",\"showlegend\":true,\"x\":[0.0442],\"xaxis\":\"x\",\"y\":[0.5584],\"yaxis\":\"y\",\"type\":\"scatter\"}],\"name\":\"2022-06-05\"},{\"data\":[{\"hovertemplate\":\"<b>%{hovertext}</b><br><br>Username=MailOnline<br>only_date=2022-06-07<br>positive=%{x}<br>negative=%{y}<br>Like Count=%{marker.size}<extra></extra>\",\"hovertext\":[\"MailOnline\",\"MailOnline\"],\"legendgroup\":\"MailOnline\",\"marker\":{\"color\":\"#ab63fa\",\"size\":[18.0,24.0],\"sizemode\":\"area\",\"sizeref\":3.8625,\"symbol\":\"circle\"},\"mode\":\"markers\",\"name\":\"MailOnline\",\"orientation\":\"v\",\"showlegend\":true,\"x\":[0.008,0.0068],\"xaxis\":\"x\",\"y\":[0.7652,0.6864],\"yaxis\":\"y\",\"type\":\"scatter\"}],\"name\":\"2022-06-07\"},{\"data\":[{\"hovertemplate\":\"<b>%{hovertext}</b><br><br>Username=DailyMailUK<br>only_date=2022-06-08<br>positive=%{x}<br>negative=%{y}<br>Like Count=%{marker.size}<extra></extra>\",\"hovertext\":[\"DailyMailUK\",\"DailyMailUK\",\"DailyMailUK\",\"DailyMailUK\"],\"legendgroup\":\"DailyMailUK\",\"marker\":{\"color\":\"#636efa\",\"size\":[20.0,8.0,58.0,8.0],\"sizemode\":\"area\",\"sizeref\":3.8625,\"symbol\":\"circle\"},\"mode\":\"markers\",\"name\":\"DailyMailUK\",\"orientation\":\"v\",\"showlegend\":true,\"x\":[0.0069,0.0063,0.0323,0.0514],\"xaxis\":\"x\",\"y\":[0.8118,0.7975,0.3584,0.022],\"yaxis\":\"y\",\"type\":\"scatter\"},{\"hovertemplate\":\"<b>%{hovertext}</b><br><br>Username=Daily_Express<br>only_date=2022-06-08<br>positive=%{x}<br>negative=%{y}<br>Like Count=%{marker.size}<extra></extra>\",\"hovertext\":[\"Daily_Express\",\"Daily_Express\"],\"legendgroup\":\"Daily_Express\",\"marker\":{\"color\":\"#EF553B\",\"size\":[3.0,1.0],\"sizemode\":\"area\",\"sizeref\":3.8625,\"symbol\":\"circle\"},\"mode\":\"markers\",\"name\":\"Daily_Express\",\"orientation\":\"v\",\"showlegend\":true,\"x\":[0.0163,0.851],\"xaxis\":\"x\",\"y\":[0.555,0.0038],\"yaxis\":\"y\",\"type\":\"scatter\"},{\"hovertemplate\":\"<b>%{hovertext}</b><br><br>Username=MailOnline<br>only_date=2022-06-08<br>positive=%{x}<br>negative=%{y}<br>Like Count=%{marker.size}<extra></extra>\",\"hovertext\":[\"MailOnline\"],\"legendgroup\":\"MailOnline\",\"marker\":{\"color\":\"#ab63fa\",\"size\":[4.0],\"sizemode\":\"area\",\"sizeref\":3.8625,\"symbol\":\"circle\"},\"mode\":\"markers\",\"name\":\"MailOnline\",\"orientation\":\"v\",\"showlegend\":true,\"x\":[0.0822],\"xaxis\":\"x\",\"y\":[0.0954],\"yaxis\":\"y\",\"type\":\"scatter\"}],\"name\":\"2022-06-08\"},{\"data\":[{\"hovertemplate\":\"<b>%{hovertext}</b><br><br>Username=DailyMailUK<br>only_date=2022-06-09<br>positive=%{x}<br>negative=%{y}<br>Like Count=%{marker.size}<extra></extra>\",\"hovertext\":[\"DailyMailUK\",\"DailyMailUK\"],\"legendgroup\":\"DailyMailUK\",\"marker\":{\"color\":\"#636efa\",\"size\":[23.0,9.0],\"sizemode\":\"area\",\"sizeref\":3.8625,\"symbol\":\"circle\"},\"mode\":\"markers\",\"name\":\"DailyMailUK\",\"orientation\":\"v\",\"showlegend\":true,\"x\":[0.0089,0.011],\"xaxis\":\"x\",\"y\":[0.7184,0.7577],\"yaxis\":\"y\",\"type\":\"scatter\"},{\"hovertemplate\":\"<b>%{hovertext}</b><br><br>Username=Daily_Express<br>only_date=2022-06-09<br>positive=%{x}<br>negative=%{y}<br>Like Count=%{marker.size}<extra></extra>\",\"hovertext\":[\"Daily_Express\"],\"legendgroup\":\"Daily_Express\",\"marker\":{\"color\":\"#EF553B\",\"size\":[2.0],\"sizemode\":\"area\",\"sizeref\":3.8625,\"symbol\":\"circle\"},\"mode\":\"markers\",\"name\":\"Daily_Express\",\"orientation\":\"v\",\"showlegend\":true,\"x\":[0.1082],\"xaxis\":\"x\",\"y\":[0.0114],\"yaxis\":\"y\",\"type\":\"scatter\"}],\"name\":\"2022-06-09\"}]);\n",
       "                        }).then(function(){\n",
       "                            \n",
       "var gd = document.getElementById('5529ed47-3099-4bc9-a66a-5a50feac84d1');\n",
       "var x = new MutationObserver(function (mutations, observer) {{\n",
       "        var display = window.getComputedStyle(gd).display;\n",
       "        if (!display || display === 'none') {{\n",
       "            console.log([gd, 'removed!']);\n",
       "            Plotly.purge(gd);\n",
       "            observer.disconnect();\n",
       "        }}\n",
       "}});\n",
       "\n",
       "// Listen for the removal of the full notebook cells\n",
       "var notebookContainer = gd.closest('#notebook-container');\n",
       "if (notebookContainer) {{\n",
       "    x.observe(notebookContainer, {childList: true});\n",
       "}}\n",
       "\n",
       "// Listen for the clearing of the current output cell\n",
       "var outputEl = gd.closest('.output');\n",
       "if (outputEl) {{\n",
       "    x.observe(outputEl, {childList: true});\n",
       "}}\n",
       "\n",
       "                        })                };                });            </script>        </div>"
      ]
     },
     "metadata": {},
     "output_type": "display_data"
    }
   ],
   "source": [
    "fig = px.scatter(df, x=\"positive\", y= \"negative\", size=\"Like Count\", color=\"Username\", hover_name=\"Username\", animation_frame= 'only_date')\n",
    "fig\n"
   ]
  },
  {
   "cell_type": "code",
   "execution_count": null,
   "id": "20e57d2a",
   "metadata": {},
   "outputs": [],
   "source": []
  },
  {
   "cell_type": "code",
   "execution_count": null,
   "id": "d065747d",
   "metadata": {},
   "outputs": [],
   "source": []
  }
 ],
 "metadata": {
  "kernelspec": {
   "display_name": "Python 3 (ipykernel)",
   "language": "python",
   "name": "python3"
  },
  "language_info": {
   "codemirror_mode": {
    "name": "ipython",
    "version": 3
   },
   "file_extension": ".py",
   "mimetype": "text/x-python",
   "name": "python",
   "nbconvert_exporter": "python",
   "pygments_lexer": "ipython3",
   "version": "3.8.12"
  },
  "toc": {
   "base_numbering": 1,
   "nav_menu": {},
   "number_sections": true,
   "sideBar": true,
   "skip_h1_title": false,
   "title_cell": "Table of Contents",
   "title_sidebar": "Contents",
   "toc_cell": false,
   "toc_position": {},
   "toc_section_display": true,
   "toc_window_display": false
  }
 },
 "nbformat": 4,
 "nbformat_minor": 5
}
