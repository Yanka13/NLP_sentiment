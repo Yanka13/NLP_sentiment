{
 "cells": [
  {
   "cell_type": "code",
   "execution_count": 1,
   "id": "b1bbffbd",
   "metadata": {},
   "outputs": [
    {
     "name": "stdout",
     "output_type": "stream",
     "text": [
      "18_19_all_tweets.csv               Ewan_ukraine_data_collection.ipynb\r\n",
      "19_20_all_tweets.csv               Humberto_RoBERTa.ipynb\r\n",
      "20k_cleaning.ipynb                 Muslim.csv\r\n",
      "\u001b[1m\u001b[36mArchive\u001b[m\u001b[m                            \u001b[1m\u001b[36mOutput 1\u001b[m\u001b[m\r\n",
      "\u001b[1m\u001b[36mData collection\u001b[m\u001b[m                    \u001b[1m\u001b[36mOutput 2 \u001b[m\u001b[m\r\n",
      "EMOROBERTA & EMOJI VIZ TESTS.ipynb \u001b[1m\u001b[36mOutput 3\u001b[m\u001b[m\r\n",
      "Ewan_2k_tweets-Copy.ipynb          Untitled.ipynb\r\n",
      "Ewan_first_twitter_top2vec.ipynb   accessing_google_drive.ipynb\r\n",
      "Ewan_optimise_top2vec_20K.ipynb    top2vec_test.ipynb\r\n",
      "Ewan_top2vec_test.ipynb            visualize_RoBERTa.ipynb\r\n"
     ]
    }
   ],
   "source": [
    "!ls"
   ]
  },
  {
   "cell_type": "code",
   "execution_count": 2,
   "id": "eab1facb",
   "metadata": {},
   "outputs": [
    {
     "name": "stdout",
     "output_type": "stream",
     "text": [
      "/Users/jennatan/code/jennajt/NLP_sentiment/notebooks\r\n"
     ]
    }
   ],
   "source": [
    "!pwd"
   ]
  },
  {
   "cell_type": "code",
   "execution_count": 5,
   "id": "bd7a015e",
   "metadata": {},
   "outputs": [
    {
     "ename": "ModuleNotFoundError",
     "evalue": "No module named 'Muslim2_Plotly'",
     "output_type": "error",
     "traceback": [
      "\u001b[0;31m---------------------------------------------------------------------------\u001b[0m",
      "\u001b[0;31mModuleNotFoundError\u001b[0m                       Traceback (most recent call last)",
      "Input \u001b[0;32mIn [5]\u001b[0m, in \u001b[0;36m<cell line: 1>\u001b[0;34m()\u001b[0m\n\u001b[0;32m----> 1\u001b[0m \u001b[38;5;28;01mimport\u001b[39;00m \u001b[38;5;21;01mMuslim2_Plotly\u001b[39;00m\n",
      "\u001b[0;31mModuleNotFoundError\u001b[0m: No module named 'Muslim2_Plotly'"
     ]
    }
   ],
   "source": [
    "\n",
    "import Muslim2_Plotly"
   ]
  },
  {
   "cell_type": "code",
   "execution_count": null,
   "id": "954d9dfe",
   "metadata": {},
   "outputs": [],
   "source": []
  }
 ],
 "metadata": {
  "kernelspec": {
   "display_name": "Python 3 (ipykernel)",
   "language": "python",
   "name": "python3"
  },
  "language_info": {
   "codemirror_mode": {
    "name": "ipython",
    "version": 3
   },
   "file_extension": ".py",
   "mimetype": "text/x-python",
   "name": "python",
   "nbconvert_exporter": "python",
   "pygments_lexer": "ipython3",
   "version": "3.8.12"
  },
  "toc": {
   "base_numbering": 1,
   "nav_menu": {},
   "number_sections": true,
   "sideBar": true,
   "skip_h1_title": false,
   "title_cell": "Table of Contents",
   "title_sidebar": "Contents",
   "toc_cell": false,
   "toc_position": {},
   "toc_section_display": true,
   "toc_window_display": false
  }
 },
 "nbformat": 4,
 "nbformat_minor": 5
}
