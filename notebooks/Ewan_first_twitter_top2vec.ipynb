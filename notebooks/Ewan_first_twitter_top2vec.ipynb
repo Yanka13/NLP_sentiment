{
 "cells": [
  {
   "cell_type": "markdown",
   "id": "7c69e993",
   "metadata": {},
   "source": [
    "# Run with Top2Vec with 5k since '08 twitter data :)"
   ]
  },
  {
   "cell_type": "markdown",
   "id": "d2f4fa70",
   "metadata": {},
   "source": [
    "## Copy Ellis's new pre-processing function"
   ]
  },
  {
   "cell_type": "code",
   "execution_count": 1,
   "id": "b5093bd3",
   "metadata": {
    "scrolled": true
   },
   "outputs": [
    {
     "name": "stderr",
     "output_type": "stream",
     "text": [
      "[nltk_data] Downloading package stopwords to\n",
      "[nltk_data]     /Users/ewanevans/nltk_data...\n",
      "[nltk_data]   Package stopwords is already up-to-date!\n"
     ]
    },
    {
     "name": "stdout",
     "output_type": "stream",
     "text": [
      "!\"#$%&'()*+,-./:;<=>?@[\\]^_`{|}~\n"
     ]
    }
   ],
   "source": [
    "import pandas as pd\n",
    "import nltk\n",
    "nltk.download('stopwords')\n",
    "from nltk.corpus import stopwords\n",
    "from nltk.tokenize import word_tokenize\n",
    "from bs4 import BeautifulSoup\n",
    "import string\n",
    "string.punctuation \n",
    "print (string.punctuation) \n",
    "stop_words = stopwords.words('english')\n",
    "# -*- coding: utf-8 -*-\n",
    "punctuation = [ c for c in string.punctuation ] + [u'\\u201c',u'\\u201d',u'\\u2018',u'\\u2019']\n",
    "import matplotlib.pyplot as plt"
   ]
  },
  {
   "cell_type": "code",
   "execution_count": 2,
   "id": "bb8c89e9",
   "metadata": {},
   "outputs": [
    {
     "data": {
      "text/plain": [
       "['!',\n",
       " '\"',\n",
       " '#',\n",
       " '$',\n",
       " '%',\n",
       " '&',\n",
       " \"'\",\n",
       " '(',\n",
       " ')',\n",
       " '*',\n",
       " '+',\n",
       " ',',\n",
       " '-',\n",
       " '.',\n",
       " '/',\n",
       " ':',\n",
       " ';',\n",
       " '<',\n",
       " '=',\n",
       " '>',\n",
       " '?',\n",
       " '@',\n",
       " '[',\n",
       " '\\\\',\n",
       " ']',\n",
       " '^',\n",
       " '_',\n",
       " '`',\n",
       " '{',\n",
       " '|',\n",
       " '}',\n",
       " '~',\n",
       " '“',\n",
       " '”',\n",
       " '‘',\n",
       " '’']"
      ]
     },
     "execution_count": 2,
     "metadata": {},
     "output_type": "execute_result"
    }
   ],
   "source": [
    "punctuation"
   ]
  },
  {
   "cell_type": "code",
   "execution_count": 3,
   "id": "ce57f74f",
   "metadata": {},
   "outputs": [
    {
     "name": "stdout",
     "output_type": "stream",
     "text": [
      "10k_unfiltered.csv\r\n",
      "2k_general.csv\r\n",
      "5k_2008.csv\r\n",
      "Ewan_first_twitter_top2vec.ipynb\r\n",
      "Ewan_top2vec_test.ipynb\r\n",
      "Jenna_2k_tweets.ipynb\r\n",
      "training.1600000.processed.noemoticon.csv\r\n"
     ]
    }
   ],
   "source": [
    "!ls"
   ]
  },
  {
   "cell_type": "code",
   "execution_count": 4,
   "id": "edd38932",
   "metadata": {},
   "outputs": [],
   "source": [
    "data = pd.read_csv('5k_2008.csv')"
   ]
  },
  {
   "cell_type": "code",
   "execution_count": 5,
   "id": "a67c1693",
   "metadata": {},
   "outputs": [
    {
     "data": {
      "text/html": [
       "<div>\n",
       "<style scoped>\n",
       "    .dataframe tbody tr th:only-of-type {\n",
       "        vertical-align: middle;\n",
       "    }\n",
       "\n",
       "    .dataframe tbody tr th {\n",
       "        vertical-align: top;\n",
       "    }\n",
       "\n",
       "    .dataframe thead th {\n",
       "        text-align: right;\n",
       "    }\n",
       "</style>\n",
       "<table border=\"1\" class=\"dataframe\">\n",
       "  <thead>\n",
       "    <tr style=\"text-align: right;\">\n",
       "      <th></th>\n",
       "      <th>Unnamed: 0</th>\n",
       "      <th>Datetime</th>\n",
       "      <th>Tweet Id</th>\n",
       "      <th>Text</th>\n",
       "      <th>Username</th>\n",
       "      <th>Like Count</th>\n",
       "    </tr>\n",
       "  </thead>\n",
       "  <tbody>\n",
       "    <tr>\n",
       "      <th>0</th>\n",
       "      <td>0</td>\n",
       "      <td>2022-06-08 04:20:19+00:00</td>\n",
       "      <td>1534389836995514368</td>\n",
       "      <td>First monkeypox patient to go public is a gay ...</td>\n",
       "      <td>MailOnline</td>\n",
       "      <td>13.0</td>\n",
       "    </tr>\n",
       "    <tr>\n",
       "      <th>1</th>\n",
       "      <td>1</td>\n",
       "      <td>2022-05-21 13:50:18+00:00</td>\n",
       "      <td>1528010297482657793</td>\n",
       "      <td>Father-of-two leaves wife for Ukrainian refuge...</td>\n",
       "      <td>Daily_Express</td>\n",
       "      <td>1.0</td>\n",
       "    </tr>\n",
       "    <tr>\n",
       "      <th>2</th>\n",
       "      <td>2</td>\n",
       "      <td>2022-05-09 09:10:02+00:00</td>\n",
       "      <td>1523591110798548992</td>\n",
       "      <td>Victorious Sinn Fein raises pressure for a bor...</td>\n",
       "      <td>DailyMailUK</td>\n",
       "      <td>2.0</td>\n",
       "    </tr>\n",
       "    <tr>\n",
       "      <th>3</th>\n",
       "      <td>3</td>\n",
       "      <td>2022-04-27 13:53:41+00:00</td>\n",
       "      <td>1519313837878652929</td>\n",
       "      <td>Boris is ONLY PM because Britain voted Brexit'...</td>\n",
       "      <td>Daily_Express</td>\n",
       "      <td>4.0</td>\n",
       "    </tr>\n",
       "    <tr>\n",
       "      <th>4</th>\n",
       "      <td>4</td>\n",
       "      <td>2022-04-19 22:10:00+00:00</td>\n",
       "      <td>1516539637761814533</td>\n",
       "      <td>Moment Putin’s nuclear bomber flies close to U...</td>\n",
       "      <td>TheSun</td>\n",
       "      <td>23.0</td>\n",
       "    </tr>\n",
       "  </tbody>\n",
       "</table>\n",
       "</div>"
      ],
      "text/plain": [
       "  Unnamed: 0                   Datetime             Tweet Id  \\\n",
       "0          0  2022-06-08 04:20:19+00:00  1534389836995514368   \n",
       "1          1  2022-05-21 13:50:18+00:00  1528010297482657793   \n",
       "2          2  2022-05-09 09:10:02+00:00  1523591110798548992   \n",
       "3          3  2022-04-27 13:53:41+00:00  1519313837878652929   \n",
       "4          4  2022-04-19 22:10:00+00:00  1516539637761814533   \n",
       "\n",
       "                                                Text       Username  \\\n",
       "0  First monkeypox patient to go public is a gay ...     MailOnline   \n",
       "1  Father-of-two leaves wife for Ukrainian refuge...  Daily_Express   \n",
       "2  Victorious Sinn Fein raises pressure for a bor...    DailyMailUK   \n",
       "3  Boris is ONLY PM because Britain voted Brexit'...  Daily_Express   \n",
       "4  Moment Putin’s nuclear bomber flies close to U...         TheSun   \n",
       "\n",
       "   Like Count  \n",
       "0        13.0  \n",
       "1         1.0  \n",
       "2         2.0  \n",
       "3         4.0  \n",
       "4        23.0  "
      ]
     },
     "execution_count": 5,
     "metadata": {},
     "output_type": "execute_result"
    }
   ],
   "source": [
    "data.head()"
   ]
  },
  {
   "cell_type": "code",
   "execution_count": 6,
   "id": "f3f0007b",
   "metadata": {},
   "outputs": [],
   "source": [
    "df_copy = data.copy()"
   ]
  },
  {
   "cell_type": "markdown",
   "id": "9ce8ccb7",
   "metadata": {},
   "source": [
    "Add tailored stopwords"
   ]
  },
  {
   "cell_type": "code",
   "execution_count": 7,
   "id": "f434d915",
   "metadata": {},
   "outputs": [
    {
     "data": {
      "text/plain": [
       "179"
      ]
     },
     "execution_count": 7,
     "metadata": {},
     "output_type": "execute_result"
    }
   ],
   "source": [
    "len(stop_words)"
   ]
  },
  {
   "cell_type": "code",
   "execution_count": 31,
   "id": "9ebb19c8",
   "metadata": {},
   "outputs": [
    {
     "data": {
      "text/plain": [
       "24"
      ]
     },
     "execution_count": 31,
     "metadata": {},
     "output_type": "execute_result"
    }
   ],
   "source": [
    "list_of_xtra_stop_words = ['Djokovic', 'http', 'eu', 'us', 'migrant', 'migrants', 'migrates', 'foreign', 'foreigner', 'foreigners', 'immigration', 'immigrant', 'asylum', 'refugee', 'refugees', 'visa', 'visas', 'borders', 'border', 'deport', 'deportation', 'deports', 'uk', 'co']\n",
    "len(list_of_xtra_stop_words)"
   ]
  },
  {
   "cell_type": "code",
   "execution_count": 32,
   "id": "7534b3b7",
   "metadata": {},
   "outputs": [],
   "source": [
    "stop_words = stopwords.words('english')\n",
    "stop_words.extend(list_of_xtra_stop_words)"
   ]
  },
  {
   "cell_type": "code",
   "execution_count": 33,
   "id": "ade36f3b",
   "metadata": {},
   "outputs": [
    {
     "data": {
      "text/plain": [
       "203"
      ]
     },
     "execution_count": 33,
     "metadata": {},
     "output_type": "execute_result"
    }
   ],
   "source": [
    "len(stop_words)"
   ]
  },
  {
   "cell_type": "code",
   "execution_count": 11,
   "id": "3d3a2036",
   "metadata": {},
   "outputs": [],
   "source": [
    "#remove_punc(\"This is a test of the remove 99.99% functions\")"
   ]
  },
  {
   "cell_type": "code",
   "execution_count": 12,
   "id": "eb6e632c",
   "metadata": {},
   "outputs": [],
   "source": [
    "import re\n",
    "def remove_punc(text):\n",
    "    txt=text\n",
    "    for punc in punctuation:\n",
    "        txt = txt.replace(punc, \" \")\n",
    "    txt = txt.lower()\n",
    "    return txt \n",
    "\n",
    "def remove_URL_and_HTML(row):\n",
    "    row = re.sub(r'https.*$', \"\", row)\n",
    "    return row\n",
    "\n",
    "def remove_stopwords(row):\n",
    "    row = word_tokenize(row)\n",
    "    return ' '.join(w for w in row if not w in stop_words)\n",
    "\n",
    "def preprocessing(col):\n",
    "    col = col.astype(str)\n",
    "    punctuation_list = col.apply(remove_punc)\n",
    "    URL = punctuation_list.apply(remove_URL_and_HTML)\n",
    "    word_tokens = URL.apply(remove_stopwords)                                           \n",
    "    return word_tokens"
   ]
  },
  {
   "cell_type": "code",
   "execution_count": 13,
   "id": "08d99684",
   "metadata": {},
   "outputs": [
    {
     "data": {
      "text/plain": [
       "(6065, 6)"
      ]
     },
     "execution_count": 13,
     "metadata": {},
     "output_type": "execute_result"
    }
   ],
   "source": [
    "df_copy.shape"
   ]
  },
  {
   "cell_type": "code",
   "execution_count": 14,
   "id": "548f830c",
   "metadata": {},
   "outputs": [
    {
     "data": {
      "text/plain": [
       "\"First monkeypox patient to go public is a gay HR manager from London who was deported from Dubai just weeks ago for testing positive for HIV - and he claims he STILL hasn't been contact traced https://t.co/OZDkG9qduo\""
      ]
     },
     "execution_count": 14,
     "metadata": {},
     "output_type": "execute_result"
    }
   ],
   "source": [
    "df_copy[\"Text\"][0]"
   ]
  },
  {
   "cell_type": "code",
   "execution_count": 35,
   "id": "a7f2d3ef",
   "metadata": {},
   "outputs": [],
   "source": [
    "df_copy['preprocessed'] = preprocessing(df_copy[\"Text\"])"
   ]
  },
  {
   "cell_type": "code",
   "execution_count": 36,
   "id": "3abcf2e9",
   "metadata": {},
   "outputs": [
    {
     "data": {
      "text/html": [
       "<div>\n",
       "<style scoped>\n",
       "    .dataframe tbody tr th:only-of-type {\n",
       "        vertical-align: middle;\n",
       "    }\n",
       "\n",
       "    .dataframe tbody tr th {\n",
       "        vertical-align: top;\n",
       "    }\n",
       "\n",
       "    .dataframe thead th {\n",
       "        text-align: right;\n",
       "    }\n",
       "</style>\n",
       "<table border=\"1\" class=\"dataframe\">\n",
       "  <thead>\n",
       "    <tr style=\"text-align: right;\">\n",
       "      <th></th>\n",
       "      <th>Unnamed: 0</th>\n",
       "      <th>Datetime</th>\n",
       "      <th>Tweet Id</th>\n",
       "      <th>Text</th>\n",
       "      <th>Username</th>\n",
       "      <th>Like Count</th>\n",
       "      <th>preprocessed</th>\n",
       "    </tr>\n",
       "  </thead>\n",
       "  <tbody>\n",
       "    <tr>\n",
       "      <th>0</th>\n",
       "      <td>0</td>\n",
       "      <td>2022-06-08 04:20:19+00:00</td>\n",
       "      <td>1534389836995514368</td>\n",
       "      <td>First monkeypox patient to go public is a gay ...</td>\n",
       "      <td>MailOnline</td>\n",
       "      <td>13.0</td>\n",
       "      <td>first monkeypox patient go public gay hr manag...</td>\n",
       "    </tr>\n",
       "    <tr>\n",
       "      <th>1</th>\n",
       "      <td>1</td>\n",
       "      <td>2022-05-21 13:50:18+00:00</td>\n",
       "      <td>1528010297482657793</td>\n",
       "      <td>Father-of-two leaves wife for Ukrainian refuge...</td>\n",
       "      <td>Daily_Express</td>\n",
       "      <td>1.0</td>\n",
       "      <td>father two leaves wife ukrainian moved family ...</td>\n",
       "    </tr>\n",
       "    <tr>\n",
       "      <th>2</th>\n",
       "      <td>2</td>\n",
       "      <td>2022-05-09 09:10:02+00:00</td>\n",
       "      <td>1523591110798548992</td>\n",
       "      <td>Victorious Sinn Fein raises pressure for a bor...</td>\n",
       "      <td>DailyMailUK</td>\n",
       "      <td>2.0</td>\n",
       "      <td>victorious sinn fein raises pressure poll</td>\n",
       "    </tr>\n",
       "    <tr>\n",
       "      <th>3</th>\n",
       "      <td>3</td>\n",
       "      <td>2022-04-27 13:53:41+00:00</td>\n",
       "      <td>1519313837878652929</td>\n",
       "      <td>Boris is ONLY PM because Britain voted Brexit'...</td>\n",
       "      <td>Daily_Express</td>\n",
       "      <td>4.0</td>\n",
       "      <td>boris pm britain voted brexit nigel farage sla...</td>\n",
       "    </tr>\n",
       "    <tr>\n",
       "      <th>4</th>\n",
       "      <td>4</td>\n",
       "      <td>2022-04-19 22:10:00+00:00</td>\n",
       "      <td>1516539637761814533</td>\n",
       "      <td>Moment Putin’s nuclear bomber flies close to U...</td>\n",
       "      <td>TheSun</td>\n",
       "      <td>23.0</td>\n",
       "      <td>moment putin nuclear bomber flies close ukrain...</td>\n",
       "    </tr>\n",
       "  </tbody>\n",
       "</table>\n",
       "</div>"
      ],
      "text/plain": [
       "  Unnamed: 0                   Datetime             Tweet Id  \\\n",
       "0          0  2022-06-08 04:20:19+00:00  1534389836995514368   \n",
       "1          1  2022-05-21 13:50:18+00:00  1528010297482657793   \n",
       "2          2  2022-05-09 09:10:02+00:00  1523591110798548992   \n",
       "3          3  2022-04-27 13:53:41+00:00  1519313837878652929   \n",
       "4          4  2022-04-19 22:10:00+00:00  1516539637761814533   \n",
       "\n",
       "                                                Text       Username  \\\n",
       "0  First monkeypox patient to go public is a gay ...     MailOnline   \n",
       "1  Father-of-two leaves wife for Ukrainian refuge...  Daily_Express   \n",
       "2  Victorious Sinn Fein raises pressure for a bor...    DailyMailUK   \n",
       "3  Boris is ONLY PM because Britain voted Brexit'...  Daily_Express   \n",
       "4  Moment Putin’s nuclear bomber flies close to U...         TheSun   \n",
       "\n",
       "   Like Count                                       preprocessed  \n",
       "0        13.0  first monkeypox patient go public gay hr manag...  \n",
       "1         1.0  father two leaves wife ukrainian moved family ...  \n",
       "2         2.0          victorious sinn fein raises pressure poll  \n",
       "3         4.0  boris pm britain voted brexit nigel farage sla...  \n",
       "4        23.0  moment putin nuclear bomber flies close ukrain...  "
      ]
     },
     "execution_count": 36,
     "metadata": {},
     "output_type": "execute_result"
    }
   ],
   "source": [
    "df_copy.head()"
   ]
  },
  {
   "cell_type": "code",
   "execution_count": 37,
   "id": "09fb2e17",
   "metadata": {},
   "outputs": [
    {
     "data": {
      "text/plain": [
       "(6065, 7)"
      ]
     },
     "execution_count": 37,
     "metadata": {},
     "output_type": "execute_result"
    }
   ],
   "source": [
    "df_copy.shape"
   ]
  },
  {
   "cell_type": "code",
   "execution_count": 38,
   "id": "357d3af1",
   "metadata": {},
   "outputs": [
    {
     "data": {
      "text/plain": [
       "6037"
      ]
     },
     "execution_count": 38,
     "metadata": {},
     "output_type": "execute_result"
    }
   ],
   "source": [
    "df_copy[\"Tweet Id\"].nunique()"
   ]
  },
  {
   "cell_type": "code",
   "execution_count": 39,
   "id": "9247c990",
   "metadata": {},
   "outputs": [],
   "source": [
    "df_copy_no_duplicates = df_copy.drop_duplicates(subset='Tweet Id', keep=\"first\")"
   ]
  },
  {
   "cell_type": "code",
   "execution_count": 40,
   "id": "cd5e374c",
   "metadata": {},
   "outputs": [
    {
     "data": {
      "text/plain": [
       "(6037, 7)"
      ]
     },
     "execution_count": 40,
     "metadata": {},
     "output_type": "execute_result"
    }
   ],
   "source": [
    "df_copy_no_duplicates.shape"
   ]
  },
  {
   "cell_type": "code",
   "execution_count": 41,
   "id": "24beb3c0",
   "metadata": {},
   "outputs": [],
   "source": [
    "df_copy_no_duplicates = df_copy.drop_duplicates(subset='preprocessed', keep=\"first\")"
   ]
  },
  {
   "cell_type": "code",
   "execution_count": 42,
   "id": "1dbb6e74",
   "metadata": {},
   "outputs": [
    {
     "data": {
      "text/plain": [
       "(5433, 7)"
      ]
     },
     "execution_count": 42,
     "metadata": {},
     "output_type": "execute_result"
    }
   ],
   "source": [
    "df_copy_no_duplicates.shape"
   ]
  },
  {
   "cell_type": "markdown",
   "id": "7d28c01b",
   "metadata": {},
   "source": [
    "# Practice run with Top2Vec model"
   ]
  },
  {
   "cell_type": "code",
   "execution_count": 43,
   "id": "901cc719",
   "metadata": {},
   "outputs": [],
   "source": [
    "from top2vec import Top2Vec"
   ]
  },
  {
   "cell_type": "code",
   "execution_count": 44,
   "id": "c15328f9",
   "metadata": {},
   "outputs": [],
   "source": [
    "list_tweets = [i for i in df_copy_no_duplicates['preprocessed']]"
   ]
  },
  {
   "cell_type": "markdown",
   "id": "a301e7dd",
   "metadata": {},
   "source": [
    "Number of tweets in list"
   ]
  },
  {
   "cell_type": "code",
   "execution_count": 45,
   "id": "c64a58d3",
   "metadata": {},
   "outputs": [
    {
     "data": {
      "text/plain": [
       "5433"
      ]
     },
     "execution_count": 45,
     "metadata": {},
     "output_type": "execute_result"
    }
   ],
   "source": [
    "len(list_tweets)"
   ]
  },
  {
   "cell_type": "code",
   "execution_count": 46,
   "id": "8e976865",
   "metadata": {},
   "outputs": [],
   "source": [
    "tweet_lengths = [len(i.split(\" \")) for i in list_tweets]"
   ]
  },
  {
   "cell_type": "code",
   "execution_count": 47,
   "id": "a05035a8",
   "metadata": {},
   "outputs": [
    {
     "data": {
      "text/plain": [
       "[20,\n",
       " 10,\n",
       " 6,\n",
       " 9,\n",
       " 10,\n",
       " 10,\n",
       " 9,\n",
       " 10,\n",
       " 5,\n",
       " 10,\n",
       " 10,\n",
       " 7,\n",
       " 10,\n",
       " 7,\n",
       " 8,\n",
       " 7,\n",
       " 8,\n",
       " 6,\n",
       " 10,\n",
       " 7,\n",
       " 6,\n",
       " 8,\n",
       " 10,\n",
       " 8,\n",
       " 9,\n",
       " 7,\n",
       " 4,\n",
       " 9,\n",
       " 6,\n",
       " 11,\n",
       " 10,\n",
       " 12,\n",
       " 13,\n",
       " 11,\n",
       " 8,\n",
       " 9,\n",
       " 13,\n",
       " 12,\n",
       " 11,\n",
       " 6,\n",
       " 12,\n",
       " 15,\n",
       " 10,\n",
       " 9,\n",
       " 12,\n",
       " 9,\n",
       " 10,\n",
       " 10,\n",
       " 12,\n",
       " 7,\n",
       " 8,\n",
       " 8,\n",
       " 7,\n",
       " 9,\n",
       " 8,\n",
       " 7,\n",
       " 7,\n",
       " 9,\n",
       " 8,\n",
       " 10,\n",
       " 6,\n",
       " 6,\n",
       " 11,\n",
       " 5,\n",
       " 9,\n",
       " 10,\n",
       " 6,\n",
       " 10,\n",
       " 12,\n",
       " 10,\n",
       " 15,\n",
       " 7,\n",
       " 9,\n",
       " 10,\n",
       " 8,\n",
       " 10,\n",
       " 13,\n",
       " 6,\n",
       " 12,\n",
       " 9,\n",
       " 8,\n",
       " 9,\n",
       " 10,\n",
       " 9,\n",
       " 6,\n",
       " 11,\n",
       " 9,\n",
       " 11,\n",
       " 9,\n",
       " 10,\n",
       " 6,\n",
       " 7,\n",
       " 11,\n",
       " 9,\n",
       " 19,\n",
       " 6,\n",
       " 7,\n",
       " 11,\n",
       " 8,\n",
       " 13,\n",
       " 8,\n",
       " 8,\n",
       " 11,\n",
       " 12,\n",
       " 6,\n",
       " 9,\n",
       " 19,\n",
       " 9,\n",
       " 13,\n",
       " 11,\n",
       " 10,\n",
       " 7,\n",
       " 9,\n",
       " 9,\n",
       " 10,\n",
       " 7,\n",
       " 8,\n",
       " 8,\n",
       " 7,\n",
       " 13,\n",
       " 11,\n",
       " 16,\n",
       " 8,\n",
       " 10,\n",
       " 9,\n",
       " 7,\n",
       " 8,\n",
       " 11,\n",
       " 6,\n",
       " 19,\n",
       " 10,\n",
       " 20,\n",
       " 10,\n",
       " 10,\n",
       " 8,\n",
       " 11,\n",
       " 10,\n",
       " 9,\n",
       " 10,\n",
       " 10,\n",
       " 9,\n",
       " 10,\n",
       " 15,\n",
       " 6,\n",
       " 6,\n",
       " 8,\n",
       " 7,\n",
       " 11,\n",
       " 10,\n",
       " 14,\n",
       " 10,\n",
       " 8,\n",
       " 8,\n",
       " 9,\n",
       " 9,\n",
       " 6,\n",
       " 11,\n",
       " 7,\n",
       " 7,\n",
       " 7,\n",
       " 9,\n",
       " 9,\n",
       " 14,\n",
       " 10,\n",
       " 6,\n",
       " 10,\n",
       " 19,\n",
       " 22,\n",
       " 9,\n",
       " 7,\n",
       " 12,\n",
       " 11,\n",
       " 9,\n",
       " 12,\n",
       " 10,\n",
       " 12,\n",
       " 5,\n",
       " 10,\n",
       " 9,\n",
       " 7,\n",
       " 13,\n",
       " 7,\n",
       " 10,\n",
       " 9,\n",
       " 9,\n",
       " 5,\n",
       " 9,\n",
       " 7,\n",
       " 6,\n",
       " 11,\n",
       " 14,\n",
       " 20,\n",
       " 10,\n",
       " 11,\n",
       " 8,\n",
       " 6,\n",
       " 12,\n",
       " 8,\n",
       " 7,\n",
       " 8,\n",
       " 9,\n",
       " 11,\n",
       " 8,\n",
       " 9,\n",
       " 8,\n",
       " 9,\n",
       " 11,\n",
       " 8,\n",
       " 14,\n",
       " 5,\n",
       " 8,\n",
       " 8,\n",
       " 7,\n",
       " 5,\n",
       " 9,\n",
       " 8,\n",
       " 8,\n",
       " 8,\n",
       " 11,\n",
       " 11,\n",
       " 9,\n",
       " 11,\n",
       " 8,\n",
       " 3,\n",
       " 8,\n",
       " 14,\n",
       " 7,\n",
       " 7,\n",
       " 7,\n",
       " 8,\n",
       " 7,\n",
       " 7,\n",
       " 6,\n",
       " 11,\n",
       " 7,\n",
       " 8,\n",
       " 16,\n",
       " 11,\n",
       " 10,\n",
       " 9,\n",
       " 6,\n",
       " 6,\n",
       " 8,\n",
       " 11,\n",
       " 6,\n",
       " 8,\n",
       " 9,\n",
       " 8,\n",
       " 8,\n",
       " 12,\n",
       " 10,\n",
       " 11,\n",
       " 6,\n",
       " 7,\n",
       " 7,\n",
       " 7,\n",
       " 5,\n",
       " 9,\n",
       " 13,\n",
       " 9,\n",
       " 10,\n",
       " 7,\n",
       " 8,\n",
       " 10,\n",
       " 8,\n",
       " 13,\n",
       " 10,\n",
       " 6,\n",
       " 12,\n",
       " 10,\n",
       " 10,\n",
       " 8,\n",
       " 9,\n",
       " 8,\n",
       " 13,\n",
       " 9,\n",
       " 10,\n",
       " 7,\n",
       " 8,\n",
       " 10,\n",
       " 8,\n",
       " 8,\n",
       " 8,\n",
       " 10,\n",
       " 8,\n",
       " 9,\n",
       " 13,\n",
       " 10,\n",
       " 11,\n",
       " 9,\n",
       " 12,\n",
       " 8,\n",
       " 9,\n",
       " 5,\n",
       " 6,\n",
       " 12,\n",
       " 10,\n",
       " 10,\n",
       " 7,\n",
       " 10,\n",
       " 7,\n",
       " 6,\n",
       " 8,\n",
       " 11,\n",
       " 13,\n",
       " 8,\n",
       " 9,\n",
       " 10,\n",
       " 6,\n",
       " 9,\n",
       " 12,\n",
       " 10,\n",
       " 9,\n",
       " 13,\n",
       " 5,\n",
       " 10,\n",
       " 9,\n",
       " 10,\n",
       " 10,\n",
       " 13,\n",
       " 12,\n",
       " 8,\n",
       " 9,\n",
       " 8,\n",
       " 7,\n",
       " 11,\n",
       " 8,\n",
       " 11,\n",
       " 8,\n",
       " 7,\n",
       " 9,\n",
       " 13,\n",
       " 11,\n",
       " 7,\n",
       " 8,\n",
       " 9,\n",
       " 10,\n",
       " 11,\n",
       " 8,\n",
       " 12,\n",
       " 6,\n",
       " 9,\n",
       " 9,\n",
       " 17,\n",
       " 12,\n",
       " 7,\n",
       " 8,\n",
       " 7,\n",
       " 7,\n",
       " 14,\n",
       " 10,\n",
       " 7,\n",
       " 6,\n",
       " 15,\n",
       " 11,\n",
       " 12,\n",
       " 6,\n",
       " 11,\n",
       " 9,\n",
       " 8,\n",
       " 13,\n",
       " 9,\n",
       " 10,\n",
       " 10,\n",
       " 8,\n",
       " 12,\n",
       " 9,\n",
       " 8,\n",
       " 7,\n",
       " 7,\n",
       " 13,\n",
       " 8,\n",
       " 9,\n",
       " 12,\n",
       " 12,\n",
       " 13,\n",
       " 13,\n",
       " 7,\n",
       " 6,\n",
       " 8,\n",
       " 8,\n",
       " 6,\n",
       " 6,\n",
       " 6,\n",
       " 7,\n",
       " 9,\n",
       " 9,\n",
       " 10,\n",
       " 11,\n",
       " 6,\n",
       " 6,\n",
       " 7,\n",
       " 12,\n",
       " 9,\n",
       " 9,\n",
       " 9,\n",
       " 10,\n",
       " 4,\n",
       " 11,\n",
       " 7,\n",
       " 6,\n",
       " 12,\n",
       " 14,\n",
       " 6,\n",
       " 9,\n",
       " 8,\n",
       " 6,\n",
       " 13,\n",
       " 14,\n",
       " 4,\n",
       " 10,\n",
       " 16,\n",
       " 6,\n",
       " 10,\n",
       " 13,\n",
       " 9,\n",
       " 6,\n",
       " 8,\n",
       " 12,\n",
       " 11,\n",
       " 6,\n",
       " 11,\n",
       " 14,\n",
       " 11,\n",
       " 10,\n",
       " 14,\n",
       " 11,\n",
       " 11,\n",
       " 8,\n",
       " 7,\n",
       " 14,\n",
       " 10,\n",
       " 7,\n",
       " 8,\n",
       " 9,\n",
       " 12,\n",
       " 6,\n",
       " 10,\n",
       " 8,\n",
       " 14,\n",
       " 9,\n",
       " 9,\n",
       " 13,\n",
       " 10,\n",
       " 11,\n",
       " 8,\n",
       " 10,\n",
       " 13,\n",
       " 8,\n",
       " 7,\n",
       " 7,\n",
       " 12,\n",
       " 12,\n",
       " 10,\n",
       " 11,\n",
       " 10,\n",
       " 12,\n",
       " 7,\n",
       " 13,\n",
       " 11,\n",
       " 7,\n",
       " 11,\n",
       " 12,\n",
       " 9,\n",
       " 6,\n",
       " 17,\n",
       " 13,\n",
       " 10,\n",
       " 14,\n",
       " 10,\n",
       " 6,\n",
       " 13,\n",
       " 8,\n",
       " 13,\n",
       " 9,\n",
       " 11,\n",
       " 13,\n",
       " 16,\n",
       " 10,\n",
       " 12,\n",
       " 14,\n",
       " 9,\n",
       " 8,\n",
       " 7,\n",
       " 13,\n",
       " 12,\n",
       " 14,\n",
       " 8,\n",
       " 7,\n",
       " 11,\n",
       " 9,\n",
       " 10,\n",
       " 8,\n",
       " 8,\n",
       " 9,\n",
       " 9,\n",
       " 16,\n",
       " 10,\n",
       " 9,\n",
       " 9,\n",
       " 12,\n",
       " 8,\n",
       " 10,\n",
       " 11,\n",
       " 7,\n",
       " 10,\n",
       " 9,\n",
       " 10,\n",
       " 11,\n",
       " 12,\n",
       " 13,\n",
       " 19,\n",
       " 18,\n",
       " 8,\n",
       " 11,\n",
       " 11,\n",
       " 10,\n",
       " 13,\n",
       " 10,\n",
       " 8,\n",
       " 9,\n",
       " 6,\n",
       " 12,\n",
       " 9,\n",
       " 10,\n",
       " 18,\n",
       " 10,\n",
       " 9,\n",
       " 12,\n",
       " 9,\n",
       " 5,\n",
       " 7,\n",
       " 10,\n",
       " 11,\n",
       " 12,\n",
       " 13,\n",
       " 8,\n",
       " 11,\n",
       " 11,\n",
       " 11,\n",
       " 29,\n",
       " 10,\n",
       " 12,\n",
       " 7,\n",
       " 11,\n",
       " 12,\n",
       " 8,\n",
       " 15,\n",
       " 10,\n",
       " 10,\n",
       " 15,\n",
       " 11,\n",
       " 12,\n",
       " 9,\n",
       " 7,\n",
       " 10,\n",
       " 6,\n",
       " 11,\n",
       " 8,\n",
       " 9,\n",
       " 7,\n",
       " 12,\n",
       " 9,\n",
       " 7,\n",
       " 7,\n",
       " 13,\n",
       " 8,\n",
       " 7,\n",
       " 8,\n",
       " 7,\n",
       " 9,\n",
       " 12,\n",
       " 11,\n",
       " 10,\n",
       " 5,\n",
       " 9,\n",
       " 8,\n",
       " 12,\n",
       " 17,\n",
       " 11,\n",
       " 10,\n",
       " 9,\n",
       " 8,\n",
       " 13,\n",
       " 14,\n",
       " 12,\n",
       " 7,\n",
       " 11,\n",
       " 11,\n",
       " 10,\n",
       " 14,\n",
       " 12,\n",
       " 9,\n",
       " 12,\n",
       " 10,\n",
       " 9,\n",
       " 9,\n",
       " 11,\n",
       " 10,\n",
       " 10,\n",
       " 15,\n",
       " 11,\n",
       " 12,\n",
       " 8,\n",
       " 11,\n",
       " 9,\n",
       " 14,\n",
       " 13,\n",
       " 10,\n",
       " 12,\n",
       " 9,\n",
       " 7,\n",
       " 8,\n",
       " 11,\n",
       " 9,\n",
       " 12,\n",
       " 9,\n",
       " 11,\n",
       " 11,\n",
       " 10,\n",
       " 9,\n",
       " 9,\n",
       " 10,\n",
       " 15,\n",
       " 9,\n",
       " 9,\n",
       " 8,\n",
       " 16,\n",
       " 6,\n",
       " 9,\n",
       " 9,\n",
       " 15,\n",
       " 17,\n",
       " 10,\n",
       " 7,\n",
       " 12,\n",
       " 11,\n",
       " 10,\n",
       " 10,\n",
       " 15,\n",
       " 9,\n",
       " 12,\n",
       " 10,\n",
       " 12,\n",
       " 11,\n",
       " 10,\n",
       " 11,\n",
       " 6,\n",
       " 6,\n",
       " 13,\n",
       " 8,\n",
       " 10,\n",
       " 10,\n",
       " 21,\n",
       " 13,\n",
       " 10,\n",
       " 9,\n",
       " 10,\n",
       " 9,\n",
       " 9,\n",
       " 6,\n",
       " 10,\n",
       " 11,\n",
       " 12,\n",
       " 10,\n",
       " 8,\n",
       " 9,\n",
       " 13,\n",
       " 13,\n",
       " 11,\n",
       " 9,\n",
       " 8,\n",
       " 9,\n",
       " 10,\n",
       " 10,\n",
       " 10,\n",
       " 10,\n",
       " 8,\n",
       " 8,\n",
       " 12,\n",
       " 11,\n",
       " 10,\n",
       " 10,\n",
       " 7,\n",
       " 11,\n",
       " 8,\n",
       " 6,\n",
       " 8,\n",
       " 11,\n",
       " 10,\n",
       " 12,\n",
       " 10,\n",
       " 9,\n",
       " 13,\n",
       " 12,\n",
       " 7,\n",
       " 9,\n",
       " 12,\n",
       " 7,\n",
       " 8,\n",
       " 8,\n",
       " 9,\n",
       " 7,\n",
       " 8,\n",
       " 13,\n",
       " 7,\n",
       " 8,\n",
       " 12,\n",
       " 10,\n",
       " 9,\n",
       " 10,\n",
       " 10,\n",
       " 9,\n",
       " 6,\n",
       " 10,\n",
       " 11,\n",
       " 8,\n",
       " 9,\n",
       " 10,\n",
       " 9,\n",
       " 12,\n",
       " 13,\n",
       " 10,\n",
       " 11,\n",
       " 12,\n",
       " 9,\n",
       " 9,\n",
       " 6,\n",
       " 11,\n",
       " 8,\n",
       " 7,\n",
       " 8,\n",
       " 10,\n",
       " 12,\n",
       " 8,\n",
       " 12,\n",
       " 11,\n",
       " 10,\n",
       " 9,\n",
       " 8,\n",
       " 12,\n",
       " 6,\n",
       " 10,\n",
       " 10,\n",
       " 9,\n",
       " 8,\n",
       " 6,\n",
       " 10,\n",
       " 7,\n",
       " 9,\n",
       " 9,\n",
       " 7,\n",
       " 8,\n",
       " 11,\n",
       " 8,\n",
       " 8,\n",
       " 7,\n",
       " 8,\n",
       " 8,\n",
       " 7,\n",
       " 8,\n",
       " 7,\n",
       " 7,\n",
       " 9,\n",
       " 7,\n",
       " 8,\n",
       " 10,\n",
       " 7,\n",
       " 9,\n",
       " 11,\n",
       " 8,\n",
       " 10,\n",
       " 10,\n",
       " 11,\n",
       " 9,\n",
       " 6,\n",
       " 9,\n",
       " 12,\n",
       " 9,\n",
       " 11,\n",
       " 10,\n",
       " 11,\n",
       " 14,\n",
       " 11,\n",
       " 11,\n",
       " 7,\n",
       " 11,\n",
       " 11,\n",
       " 9,\n",
       " 10,\n",
       " 9,\n",
       " 8,\n",
       " 9,\n",
       " 9,\n",
       " 9,\n",
       " 11,\n",
       " 12,\n",
       " 10,\n",
       " 8,\n",
       " 9,\n",
       " 10,\n",
       " 8,\n",
       " 8,\n",
       " 7,\n",
       " 8,\n",
       " 15,\n",
       " 9,\n",
       " 8,\n",
       " 12,\n",
       " 10,\n",
       " 8,\n",
       " 10,\n",
       " 11,\n",
       " 10,\n",
       " 10,\n",
       " 13,\n",
       " 11,\n",
       " 9,\n",
       " 7,\n",
       " 7,\n",
       " 10,\n",
       " 6,\n",
       " 7,\n",
       " 9,\n",
       " 8,\n",
       " 7,\n",
       " 9,\n",
       " 9,\n",
       " 6,\n",
       " 8,\n",
       " 11,\n",
       " 9,\n",
       " 7,\n",
       " 6,\n",
       " 7,\n",
       " 8,\n",
       " 9,\n",
       " 9,\n",
       " 12,\n",
       " 8,\n",
       " 9,\n",
       " 7,\n",
       " 5,\n",
       " 9,\n",
       " 9,\n",
       " 9,\n",
       " 11,\n",
       " 8,\n",
       " 12,\n",
       " 9,\n",
       " 11,\n",
       " 7,\n",
       " 12,\n",
       " 11,\n",
       " 12,\n",
       " 13,\n",
       " 8,\n",
       " 9,\n",
       " 7,\n",
       " 7,\n",
       " 10,\n",
       " 6,\n",
       " 12,\n",
       " 10,\n",
       " 11,\n",
       " 7,\n",
       " 10,\n",
       " 8,\n",
       " 12,\n",
       " 10,\n",
       " 10,\n",
       " 9,\n",
       " 10,\n",
       " 6,\n",
       " 8,\n",
       " 11,\n",
       " 12,\n",
       " 8,\n",
       " 10,\n",
       " 7,\n",
       " 9,\n",
       " 10,\n",
       " 10,\n",
       " 10,\n",
       " 7,\n",
       " 8,\n",
       " 6,\n",
       " 8,\n",
       " 8,\n",
       " 10,\n",
       " 8,\n",
       " 8,\n",
       " 8,\n",
       " 9,\n",
       " 8,\n",
       " 9,\n",
       " 8,\n",
       " 8,\n",
       " 12,\n",
       " 8,\n",
       " 6,\n",
       " 10,\n",
       " 9,\n",
       " 11,\n",
       " 14,\n",
       " 13,\n",
       " 9,\n",
       " 9,\n",
       " 11,\n",
       " 10,\n",
       " 7,\n",
       " 10,\n",
       " 6,\n",
       " 10,\n",
       " 8,\n",
       " 11,\n",
       " 10,\n",
       " 7,\n",
       " 6,\n",
       " 9,\n",
       " 9,\n",
       " 14,\n",
       " 9,\n",
       " 12,\n",
       " 4,\n",
       " 7,\n",
       " 8,\n",
       " 9,\n",
       " 9,\n",
       " 13,\n",
       " 7,\n",
       " 12,\n",
       " 7,\n",
       " 10,\n",
       " 12,\n",
       " 8,\n",
       " 11,\n",
       " 6,\n",
       " 7,\n",
       " 10,\n",
       " 8,\n",
       " 11,\n",
       " 9,\n",
       " 9,\n",
       " 9,\n",
       " 6,\n",
       " 12,\n",
       " 9,\n",
       " 9,\n",
       " 7,\n",
       " 15,\n",
       " 10,\n",
       " 8,\n",
       " 9,\n",
       " 11,\n",
       " 7,\n",
       " 11,\n",
       " 11,\n",
       " 8,\n",
       " 8,\n",
       " 8,\n",
       " 8,\n",
       " 9,\n",
       " 8,\n",
       " 7,\n",
       " 7,\n",
       " 14,\n",
       " 10,\n",
       " 7,\n",
       " 6,\n",
       " 7,\n",
       " 5,\n",
       " 6,\n",
       " 12,\n",
       " 8,\n",
       " 8,\n",
       " 10,\n",
       " 9,\n",
       " 9,\n",
       " 6,\n",
       " 10,\n",
       " 12,\n",
       " 9,\n",
       " 10,\n",
       " 10,\n",
       " 11,\n",
       " 8,\n",
       " 9,\n",
       " 8,\n",
       " 10,\n",
       " 13,\n",
       " 6,\n",
       " 7,\n",
       " 7,\n",
       " 8,\n",
       " 9,\n",
       " 14,\n",
       " 6,\n",
       " 10,\n",
       " 10,\n",
       " ...]"
      ]
     },
     "execution_count": 47,
     "metadata": {},
     "output_type": "execute_result"
    }
   ],
   "source": [
    "tweet_lengths"
   ]
  },
  {
   "cell_type": "code",
   "execution_count": 48,
   "id": "9fecd06b",
   "metadata": {},
   "outputs": [
    {
     "data": {
      "text/plain": [
       "5433"
      ]
     },
     "execution_count": 48,
     "metadata": {},
     "output_type": "execute_result"
    }
   ],
   "source": [
    "len(tweet_lengths)"
   ]
  },
  {
   "cell_type": "code",
   "execution_count": 49,
   "id": "f52ef314",
   "metadata": {},
   "outputs": [
    {
     "data": {
      "image/png": "[encoded data removed]",
      "text/plain": [
       "<Figure size 720x360 with 1 Axes>"
      ]
     },
     "metadata": {
      "needs_background": "light"
     },
     "output_type": "display_data"
    }
   ],
   "source": [
    "plt.figure(figsize=(10,5))\n",
    "plt.hist(tweet_lengths, bins=50);"
   ]
  },
  {
   "cell_type": "markdown",
   "id": "4516628c",
   "metadata": {},
   "source": [
    "Training our model - default embedding model is doc2vec "
   ]
  },
  {
   "cell_type": "code",
   "execution_count": 57,
   "id": "9b8af21f",
   "metadata": {},
   "outputs": [
    {
     "name": "stderr",
     "output_type": "stream",
     "text": [
      "2022-06-08 17:53:23,529 - top2vec - INFO - Pre-processing documents for training\n",
      "2022-06-08 17:53:23,679 - top2vec - INFO - Creating joint document/word embedding\n",
      "2022-06-08 17:53:24,972 - top2vec - INFO - Creating lower dimension embedding of documents\n",
      "2022-06-08 17:53:33,760 - top2vec - INFO - Finding dense areas of documents\n",
      "2022-06-08 17:53:34,120 - top2vec - INFO - Finding topics\n"
     ]
    }
   ],
   "source": [
    "model_5k = Top2Vec(list_tweets, workers=-2, speed='deep-learn', min_count=100)"
   ]
  },
  {
   "cell_type": "markdown",
   "id": "6343c2d1",
   "metadata": {},
   "source": [
    "Number of topics produced by top2vec model"
   ]
  },
  {
   "cell_type": "code",
   "execution_count": 58,
   "id": "7be41ed8",
   "metadata": {},
   "outputs": [
    {
     "data": {
      "text/plain": [
       "20"
      ]
     },
     "execution_count": 58,
     "metadata": {},
     "output_type": "execute_result"
    }
   ],
   "source": [
    "model_5k.get_num_topics()"
   ]
  },
  {
   "cell_type": "markdown",
   "id": "3d7b7dfa",
   "metadata": {},
   "source": [
    "50 key words associated with topic 0"
   ]
  },
  {
   "cell_type": "code",
   "execution_count": 59,
   "id": "f801b0f3",
   "metadata": {},
   "outputs": [
    {
     "data": {
      "text/plain": [
       "array(['get', 'ukraine', 'syrian', 'police', 'thousands', 'seeker',\n",
       "       'people', 'british', 'year', 'trump', 'europe', 'warns', 'home',\n",
       "       'new', 'calais', 'camp', 'deal', 'crisis', 'immigrants', 'seekers',\n",
       "       'could', 'stop', 'illegal', 'german', 'two', 'years', 'boat',\n",
       "       'deported', 'bit', 'may', 'germany', 'says', 'million', 'france',\n",
       "       'take', 'merkel', 'ukrainian', 'ly', 'brexit', 'back', 'britain',\n",
       "       'migration', 'channel'], dtype='<U10')"
      ]
     },
     "execution_count": 59,
     "metadata": {},
     "output_type": "execute_result"
    }
   ],
   "source": [
    "model_5k.topic_words[0]"
   ]
  },
  {
   "cell_type": "code",
   "execution_count": 60,
   "id": "e76303f5",
   "metadata": {},
   "outputs": [
    {
     "data": {
      "text/plain": [
       "array(['ukrainian', 'back', 'could', 'new', 'ly', 'may', 'police',\n",
       "       'britain', 'says', 'calais', 'camp', 'year', 'deported', 'people',\n",
       "       'two', 'migration', 'stop', 'europe', 'thousands', 'seekers',\n",
       "       'channel', 'immigrants', 'boat', 'years', 'seeker', 'take',\n",
       "       'syrian', 'german', 'germany', 'home', 'ukraine', 'merkel', 'get',\n",
       "       'crisis', 'million', 'bit', 'illegal', 'warns', 'brexit',\n",
       "       'british', 'france', 'trump', 'deal'], dtype='<U10')"
      ]
     },
     "execution_count": 60,
     "metadata": {},
     "output_type": "execute_result"
    }
   ],
   "source": [
    "model_5k.topic_words[1]"
   ]
  },
  {
   "cell_type": "code",
   "execution_count": 61,
   "id": "1cf5eb34",
   "metadata": {},
   "outputs": [
    {
     "data": {
      "text/plain": [
       "array(['ukrainian', 'take', 'illegal', 'camp', 'trump', 'may', 'back',\n",
       "       'deal', 'calais', 'germany', 'merkel', 'could', 'britain', 'stop',\n",
       "       'people', 'says', 'ly', 'two', 'get', 'british', 'syrian',\n",
       "       'german', 'years', 'deported', 'brexit', 'france', 'million',\n",
       "       'crisis', 'seeker', 'migration', 'new', 'police', 'immigrants',\n",
       "       'boat', 'home', 'year', 'bit', 'warns', 'europe', 'ukraine',\n",
       "       'thousands', 'channel', 'seekers'], dtype='<U10')"
      ]
     },
     "execution_count": 61,
     "metadata": {},
     "output_type": "execute_result"
    }
   ],
   "source": [
    "model_5k.topic_words[3]"
   ]
  },
  {
   "cell_type": "code",
   "execution_count": 62,
   "id": "599261e5",
   "metadata": {},
   "outputs": [
    {
     "data": {
      "text/plain": [
       "array(['trump', 'people', 'german', 'police', 'syrian', 'seeker', 'camp',\n",
       "       'new', 'illegal', 'deal', 'ukrainian', 'france', 'year', 'channel',\n",
       "       'migration', 'home', 'british', 'bit', 'million', 'thousands',\n",
       "       'ly', 'get', 'stop', 'says', 'europe', 'britain', 'immigrants',\n",
       "       'take', 'years', 'crisis', 'boat', 'seekers', 'ukraine', 'may',\n",
       "       'two', 'germany', 'calais', 'deported', 'back', 'merkel', 'warns',\n",
       "       'could', 'brexit'], dtype='<U10')"
      ]
     },
     "execution_count": 62,
     "metadata": {},
     "output_type": "execute_result"
    }
   ],
   "source": [
    "model_5k.topic_words[4]"
   ]
  },
  {
   "cell_type": "code",
   "execution_count": 56,
   "id": "dc7c48e0",
   "metadata": {},
   "outputs": [
    {
     "data": {
      "text/plain": [
       "array(['britain'], dtype='<U7')"
      ]
     },
     "execution_count": 56,
     "metadata": {},
     "output_type": "execute_result"
    }
   ],
   "source": [
    "model_5k.topic_words[5]"
   ]
  },
  {
   "cell_type": "markdown",
   "id": "77214214",
   "metadata": {},
   "source": [
    "Find 3 topics associated with \"Ukraine\" and show us the 50 words in those topics"
   ]
  },
  {
   "cell_type": "code",
   "execution_count": null,
   "id": "3f7bd932",
   "metadata": {},
   "outputs": [],
   "source": [
    "topic_words, word_scores, topic_scores, topic_nums = model_5k.search_topics(keywords=[\"Ukraine\"], num_topics=3)"
   ]
  },
  {
   "cell_type": "code",
   "execution_count": null,
   "id": "e5afc2c2",
   "metadata": {},
   "outputs": [],
   "source": [
    "topic_words"
   ]
  },
  {
   "cell_type": "markdown",
   "id": "bf9cbf7b",
   "metadata": {},
   "source": [
    "Find 5 documents (tweets) belonging to topic 1 "
   ]
  },
  {
   "cell_type": "code",
   "execution_count": null,
   "id": "95565950",
   "metadata": {},
   "outputs": [],
   "source": [
    "model_5k.search_documents_by_topic(1, num_docs=10)"
   ]
  },
  {
   "cell_type": "code",
   "execution_count": null,
   "id": "5ed22018",
   "metadata": {},
   "outputs": [],
   "source": [
    "model_5k.search_documents_by_topic(2, num_docs=10)"
   ]
  },
  {
   "cell_type": "code",
   "execution_count": null,
   "id": "1b942662",
   "metadata": {},
   "outputs": [],
   "source": [
    "model_5k.search_documents_by_topic(2, num_docs=5)"
   ]
  },
  {
   "cell_type": "code",
   "execution_count": null,
   "id": "55b2aa1f",
   "metadata": {},
   "outputs": [],
   "source": [
    "model_5k.search_documents_by_topic(9, num_docs=5)"
   ]
  },
  {
   "cell_type": "markdown",
   "id": "55ef0840",
   "metadata": {},
   "source": [
    "Reduce the number of topics from 23 to 10"
   ]
  },
  {
   "cell_type": "code",
   "execution_count": null,
   "id": "4399aada",
   "metadata": {},
   "outputs": [],
   "source": [
    "topic_mapping = model_5k.hierarchical_topic_reduction(num_topics=10)"
   ]
  },
  {
   "cell_type": "markdown",
   "id": "d2c39ef6",
   "metadata": {},
   "source": [
    "Original topics 'condensed' into new topic number 1"
   ]
  },
  {
   "cell_type": "code",
   "execution_count": null,
   "id": "2c368b6c",
   "metadata": {},
   "outputs": [],
   "source": [
    "topic_mapping[1]"
   ]
  },
  {
   "cell_type": "code",
   "execution_count": null,
   "id": "c1705856",
   "metadata": {},
   "outputs": [],
   "source": [
    "model_5k.topic_words_reduced[0]"
   ]
  },
  {
   "cell_type": "code",
   "execution_count": null,
   "id": "92034e81",
   "metadata": {},
   "outputs": [],
   "source": [
    "model_5k.topic_words_reduced[1]"
   ]
  },
  {
   "cell_type": "code",
   "execution_count": null,
   "id": "a9dc5d00",
   "metadata": {},
   "outputs": [],
   "source": [
    "model_5k.topic_words_reduced[2]"
   ]
  },
  {
   "cell_type": "code",
   "execution_count": null,
   "id": "10f6cf5f",
   "metadata": {},
   "outputs": [],
   "source": [
    "model_5k.generate_topic_wordcloud(0)"
   ]
  },
  {
   "cell_type": "markdown",
   "id": "f478dff1",
   "metadata": {},
   "source": [
    "## Unfiltered top2vec model - 10k tweets"
   ]
  },
  {
   "cell_type": "code",
   "execution_count": null,
   "id": "37e2e071",
   "metadata": {},
   "outputs": [],
   "source": []
  },
  {
   "cell_type": "code",
   "execution_count": null,
   "id": "363645af",
   "metadata": {},
   "outputs": [],
   "source": [
    "!ls"
   ]
  },
  {
   "cell_type": "code",
   "execution_count": null,
   "id": "dab047c2",
   "metadata": {},
   "outputs": [],
   "source": [
    "nofilter_df = pd.read_csv('10k_unfiltered.csv')"
   ]
  },
  {
   "cell_type": "code",
   "execution_count": null,
   "id": "985d9b3c",
   "metadata": {},
   "outputs": [],
   "source": [
    "nofilter_df.head()"
   ]
  },
  {
   "cell_type": "code",
   "execution_count": null,
   "id": "c7c50d02",
   "metadata": {},
   "outputs": [],
   "source": []
  }
 ],
 "metadata": {
  "kernelspec": {
   "display_name": "Python 3 (ipykernel)",
   "language": "python",
   "name": "python3"
  },
  "language_info": {
   "codemirror_mode": {
    "name": "ipython",
    "version": 3
   },
   "file_extension": ".py",
   "mimetype": "text/x-python",
   "name": "python",
   "nbconvert_exporter": "python",
   "pygments_lexer": "ipython3",
   "version": "3.8.12"
  },
  "toc": {
   "base_numbering": 1,
   "nav_menu": {},
   "number_sections": true,
   "sideBar": true,
   "skip_h1_title": false,
   "title_cell": "Table of Contents",
   "title_sidebar": "Contents",
   "toc_cell": false,
   "toc_position": {},
   "toc_section_display": true,
   "toc_window_display": false
  }
 },
 "nbformat": 4,
 "nbformat_minor": 5
}
