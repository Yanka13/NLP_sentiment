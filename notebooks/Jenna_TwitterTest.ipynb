{
 "cells": [
  {
   "cell_type": "code",
   "execution_count": 1,
   "id": "82e65896",
   "metadata": {},
   "outputs": [],
   "source": [
    "import requests\n",
    "import os\n",
    "import json"
   ]
  },
  {
   "cell_type": "code",
   "execution_count": 2,
   "id": "d3dfa5d2",
   "metadata": {},
   "outputs": [],
   "source": [
    "# set bearer token as environment variable in terminal\n",
    "bearer_token = \"AAAAAAAAAAAAAAAAAAAAAJcpdAEAAAAAeFkQWJQEbApBzQmwjJlBluHf3v0%3DW7Q5Unv5xBP386kXTt19e0tTgT0NDmqt3MkIMU47oANHsoLx3q\""
   ]
  },
  {
   "cell_type": "code",
   "execution_count": 3,
   "id": "22ad1e61",
   "metadata": {},
   "outputs": [],
   "source": [
    "#search by tweet\n",
    "search_url = \"https://api.twitter.com/2/tweets/search/recent\"\n",
    "query_params = {'query': '(from:TheSun OR from:DailyMailUK OR from:MailOnline OR from:Daily_Express) -is:retweet (immigration OR crossing OR visa OR visas OR refugee OR migrants OR terrorist OR terrorists OR refugees OR migrant OR homeoffice OR muslim OR asian OR foreigner)',\n",
    "                'max_results': 100}"
   ]
  },
  {
   "cell_type": "code",
   "execution_count": 4,
   "id": "38f403de",
   "metadata": {},
   "outputs": [],
   "source": [
    "def bearer_oauth(r):\n",
    "    \"\"\"\n",
    "    Method required by bearer token authentication.\n",
    "    \"\"\"\n",
    "\n",
    "    r.headers[\"Authorization\"] = f\"Bearer {bearer_token}\"\n",
    "    r.headers[\"User-Agent\"] = \"v2RecentSearchPython\"\n",
    "\n",
    "    return r"
   ]
  },
  {
   "cell_type": "code",
   "execution_count": 5,
   "id": "f86ffe23",
   "metadata": {},
   "outputs": [],
   "source": [
    "def connect_to_endpoint(url, params):\n",
    "    response = requests.get(url=url, auth=bearer_oauth, params=params)\n",
    "    print(response.status_code)\n",
    "    if response.status_code != 200:\n",
    "        raise Exception(response.status_code, response.text)\n",
    "    return response.json()"
   ]
  },
  {
   "cell_type": "code",
   "execution_count": 6,
   "id": "19f1fd73",
   "metadata": {},
   "outputs": [
    {
     "name": "stdout",
     "output_type": "stream",
     "text": [
      "200\n"
     ]
    },
    {
     "data": {
      "text/plain": [
       "[{'id': '1532391986921185281',\n",
       "  'text': 'Russia unleashes hypersonic missile on NATO supply line inside Ukraine in desperate bid to stop arms crossing border\\nhttps://t.co/wf4o5T6eEm'},\n",
       " {'id': '1532345807667617793',\n",
       "  'text': 'Up to 100 more migrants arrive in Dover after being picked up in the Channel https://t.co/EREeitowD3'},\n",
       " {'id': '1532210416356671489',\n",
       "  'text': 'Erdogan vows to rid northern Syria of ‘terrorists’ as he announces targets of Turkey’s fourth military incursion into the war-torn country since 2016 https://t.co/Ajy2HZoajr'},\n",
       " {'id': '1532016641839611904',\n",
       "  'text': 'Children clutching teddies are brought ashore at Dover as more than 100 migrants cross the Channel https://t.co/8l5J0LFFgy'},\n",
       " {'id': '1532014124460302337',\n",
       "  'text': 'K-Pop band BTS flash finger hearts as they join beaming President Joe Biden at the White House https://t.co/4KoHkgoxVm'},\n",
       " {'id': '1531979619234156548',\n",
       "  'text': 'K-Pop band BTS flash finger hearts as they join beaming President Joe Biden at the White House https://t.co/AJJmaAeNXe'},\n",
       " {'id': '1531791637231259648',\n",
       "  'text': \"GB News: Nigel Farage slams PM over Brexit border control deceit 'They couldn't care less' \\n\\nhttps://t.co/wRNhztPPcD https://t.co/jkiSLurTYA\"},\n",
       " {'id': '1531791425402290176',\n",
       "  'text': 'Ukrainian refugee recognises her new boiler photographed on top of a Russian tank in Luhansk https://t.co/5TvL8L8n8u'},\n",
       " {'id': '1531781419013443584',\n",
       "  'text': \"'What wasn't destroyed they stole’ Ukrainian refugee sees looted items on Russian tank https://t.co/KGXATglgwS\"},\n",
       " {'id': '1531722436089196545',\n",
       "  'text': 'Defiant villagers protesting new centre for 1,500 young single male asylum seekers https://t.co/yReDaTQ1tX'},\n",
       " {'id': '1531712162107883524',\n",
       "  'text': \"EXCLUSIVE: The £46-a-night hotel in Rwanda that will house UK's illegal migrants https://t.co/F6xCMvmtys\"},\n",
       " {'id': '1531689480759005190',\n",
       "  'text': 'Home Office tells first migrants they will be sent to Rwanda in TWO WEEKS https://t.co/uS6qmx34p1'},\n",
       " {'id': '1531607500650323968',\n",
       "  'text': \"Inside the £46-a-night hotel in Rwanda that will house UK's illegal migrants https://t.co/NTRWLwNT6u https://t.co/GEZ5jiTGOV\"},\n",
       " {'id': '1531606457648615424',\n",
       "  'text': \"Inside the £46-a-night hotel in Rwanda that will house UK's illegal migrants https://t.co/n2f9flNoca\"},\n",
       " {'id': '1531605241539481601',\n",
       "  'text': 'At least 100 migrants including women and small children arrive in Dover after being picked up in Channel https://t.co/g2V4TYySml'},\n",
       " {'id': '1531576285213892613',\n",
       "  'text': \"EXCLUSIVE: The £46-a-night hotel in Rwanda that will house UK's illegal migrants https://t.co/77fdr3SDZA\"},\n",
       " {'id': '1531567432304934913',\n",
       "  'text': \"Inside the £46-a-night hotel in Rwanda that will house UK's illegal migrants https://t.co/Yt46BRYBbq\"},\n",
       " {'id': '1531530080782102528',\n",
       "  'text': \"Defiant villagers protesting new migrant centre told by Home Office 'no final decision has been made' https://t.co/DUT4GrQx1U\"},\n",
       " {'id': '1531519915240349696',\n",
       "  'text': \"'My husband was a terrorist… I want to tell my daughter her daddy is in hell' https://t.co/e4uv9eIg1Y\"},\n",
       " {'id': '1531433041448550400',\n",
       "  'text': \"First migrants 'face being handed Rwanda notices THIS WEEK' https://t.co/0Ks5HQ300A\"},\n",
       " {'id': '1531390033176952833',\n",
       "  'text': \"First migrants 'face being handed Rwanda notices THIS WEEK' https://t.co/TDgwjuDLLh\"},\n",
       " {'id': '1531306965288222720',\n",
       "  'text': \"First migrants 'face being handed Rwanda notices THIS WEEK' https://t.co/FZ5cmFrrYR\"},\n",
       " {'id': '1531299429814308870',\n",
       "  'text': \"First migrants 'face being handed Rwanda deportation notices THIS WEEK' https://t.co/j5EgEDtGfz\"},\n",
       " {'id': '1531296920961941509',\n",
       "  'text': 'Asian man beaten on NYC subway platform after it was claimed he touched girl https://t.co/990s5BbbVm'},\n",
       " {'id': '1531290597314666499',\n",
       "  'text': \"Migrants 'face being handed Rwanda deportation notices THIS WEEK' https://t.co/sbIfbCwi6n\"},\n",
       " {'id': '1530828432287973376',\n",
       "  'text': \"Ukraine LIVE: 'Guilty about Putin!' Kremlin humiliated as Russians help Ukrainians flee https://t.co/OdklYFzuco\"},\n",
       " {'id': '1530798992484876290',\n",
       "  'text': \"Ukraine LIVE: 'Guilty about Putin!' Kremlin humiliated as Russians HELP Ukrainians flee\\nhttps://t.co/OdklYFzuco\"},\n",
       " {'id': '1530197400442351616',\n",
       "  'text': 'Brits will have to PAY to visit Europe - How much and from when? All you need to know\\nhttps://t.co/9EkJ4pyblP'},\n",
       " {'id': '1530194638329495557',\n",
       "  'text': 'More than a million foreign nationals were offered visas to live in the UK last year https://t.co/Q8mkNKlSxn'},\n",
       " {'id': '1530135639173255170',\n",
       "  'text': 'UK immigration SURGE: Visas now staggering 145% HIGHER than 2021 as Tories turn on Patel \\nhttps://t.co/WEbjjb9CIU'},\n",
       " {'id': '1530091452369358849',\n",
       "  'text': 'Self-confessed K-Pop fan Biden will host BTS at the White House to talk anti-Asian hate crime https://t.co/4s50Db9ySl'},\n",
       " {'id': '1530070195804557313',\n",
       "  'text': 'UK immigration SURGE: Visas now staggering 145% HIGHER than 2021 as Tories turn on Patel\\nhttps://t.co/WEbjjb9CIU'},\n",
       " {'id': '1530035083675111436',\n",
       "  'text': \"'Absolute disgrace!' Boris blasted by Brit amid visa plea for autistic Ukrainian boy https://t.co/MKXHmxGbHF\"},\n",
       " {'id': '1529954245511942144',\n",
       "  'text': 'The new leader of ISIS has been captured just three months after the terrorist group’s last chief was killed https://t.co/obqadvqxmC'}]"
      ]
     },
     "execution_count": 6,
     "metadata": {},
     "output_type": "execute_result"
    }
   ],
   "source": [
    "connect_to_endpoint(search_url,query_params)['data']"
   ]
  },
  {
   "cell_type": "markdown",
   "id": "894247da",
   "metadata": {},
   "source": [
    "### Notes"
   ]
  },
  {
   "cell_type": "markdown",
   "id": "1c2cc74f",
   "metadata": {},
   "source": [
    "Query builder:\n",
    "https://developer.twitter.com/apitools/api?endpoint=%2F2%2Ftweets%2Fsearch%2Fall&method=get\n"
   ]
  },
  {
   "cell_type": "code",
   "execution_count": 7,
   "id": "bea8a191",
   "metadata": {},
   "outputs": [],
   "source": [
    "#r.headers[\"User-Agent\"] = \"v2RecentSearchPython\"# v2UserTweetsPython\n",
    "\n",
    "\n",
    "\n",
    "# by user\n",
    "#def create_url():\n",
    "#     user_id = \"34655603\"\n",
    "#     url = \"https://api.twitter.com/2/users/{}/tweets\".format(user_id)\n",
    "#     return url\n",
    "\n",
    "#url = create_url()"
   ]
  },
  {
   "cell_type": "code",
   "execution_count": null,
   "id": "6bd52b9f",
   "metadata": {},
   "outputs": [],
   "source": []
  }
 ],
 "metadata": {
  "kernelspec": {
   "display_name": "Python 3 (ipykernel)",
   "language": "python",
   "name": "python3"
  },
  "language_info": {
   "codemirror_mode": {
    "name": "ipython",
    "version": 3
   },
   "file_extension": ".py",
   "mimetype": "text/x-python",
   "name": "python",
   "nbconvert_exporter": "python",
   "pygments_lexer": "ipython3",
   "version": "3.8.12"
  },
  "toc": {
   "base_numbering": 1,
   "nav_menu": {},
   "number_sections": true,
   "sideBar": true,
   "skip_h1_title": false,
   "title_cell": "Table of Contents",
   "title_sidebar": "Contents",
   "toc_cell": false,
   "toc_position": {},
   "toc_section_display": true,
   "toc_window_display": false
  }
 },
 "nbformat": 4,
 "nbformat_minor": 5
}
