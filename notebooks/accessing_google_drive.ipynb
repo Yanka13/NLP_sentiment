{
  "nbformat": 4,
  "nbformat_minor": 0,
  "metadata": {
    "colab": {
      "name": "accessing_google_drive.ipynb",
      "provenance": []
    },
    "kernelspec": {
      "name": "python3",
      "display_name": "Python 3"
    },
    "language_info": {
      "name": "python"
    }
  },
  "cells": [
    {
      "cell_type": "code",
      "execution_count": 1,
      "metadata": {
        "colab": {
          "base_uri": "https://localhost:8080/"
        },
        "id": "gVWPFEVUy11_",
        "outputId": "7aa0c52a-ded1-4e12-ef1c-cf2404e4cfcb"
      },
      "outputs": [
        {
          "output_type": "stream",
          "name": "stdout",
          "text": [
            "Drive already mounted at /content/drive; to attempt to forcibly remount, call drive.mount(\"/content/drive\", force_remount=True).\n"
          ]
        }
      ],
      "source": [
        "from google.colab import drive\n",
        "drive.mount('/content/drive')"
      ]
    },
    {
      "cell_type": "code",
      "source": [
        "!pip install nltk\n",
        "nltk.download('punkt')"
      ],
      "metadata": {
        "colab": {
          "base_uri": "https://localhost:8080/"
        },
        "id": "b0-94L8YQfy0",
        "outputId": "d753ac07-18c7-4319-8c0e-608e3a5766f7"
      },
      "execution_count": 47,
      "outputs": [
        {
          "output_type": "stream",
          "name": "stdout",
          "text": [
            "Looking in indexes: https://pypi.org/simple, https://us-python.pkg.dev/colab-wheels/public/simple/\n",
            "Requirement already satisfied: nltk in /usr/local/lib/python3.7/dist-packages (3.2.5)\n",
            "Requirement already satisfied: six in /usr/local/lib/python3.7/dist-packages (from nltk) (1.15.0)\n",
            "[nltk_data] Downloading package punkt to /root/nltk_data...\n",
            "[nltk_data]   Unzipping tokenizers/punkt.zip.\n"
          ]
        },
        {
          "output_type": "execute_result",
          "data": {
            "text/plain": [
              "True"
            ]
          },
          "metadata": {},
          "execution_count": 47
        }
      ]
    },
    {
      "cell_type": "code",
      "source": [
        "import pandas as pd\n",
        "import nltk\n",
        "nltk.download('stopwords')\n",
        "from nltk.corpus import stopwords\n",
        "from nltk.tokenize import word_tokenize\n",
        "from bs4 import BeautifulSoup\n",
        "import string\n",
        "string.punctuation \n",
        "stop_words = stopwords.words('english')\n",
        "# -*- coding: utf-8 -*-\n",
        "punctuation = [ c for c in string.punctuation ] + [u'\\u201c',u'\\u201d',u'\\u2018',u'\\u2019']\n",
        "import matplotlib.pyplot as plt\n",
        "import re"
      ],
      "metadata": {
        "colab": {
          "base_uri": "https://localhost:8080/"
        },
        "id": "ZD595eTi2EZz",
        "outputId": "19916f76-95ea-47cc-a2fa-c7b3f675cea9"
      },
      "execution_count": 48,
      "outputs": [
        {
          "output_type": "stream",
          "name": "stdout",
          "text": [
            "[nltk_data] Downloading package stopwords to /root/nltk_data...\n",
            "[nltk_data]   Package stopwords is already up-to-date!\n"
          ]
        }
      ]
    },
    {
      "cell_type": "code",
      "source": [
        "df_08 = pd.read_csv('/content/drive/MyDrive/all_tweets_by_year/08_09_all_tweets.csv')"
      ],
      "metadata": {
        "id": "0QhpiibI9Wnw"
      },
      "execution_count": 3,
      "outputs": []
    },
    {
      "cell_type": "code",
      "source": [
        "df_08.head()"
      ],
      "metadata": {
        "colab": {
          "base_uri": "https://localhost:8080/",
          "height": 206
        },
        "id": "rDWReHlw-eFi",
        "outputId": "1d5a5d82-167b-4a7e-b37a-6cef1bf861be"
      },
      "execution_count": 4,
      "outputs": [
        {
          "output_type": "execute_result",
          "data": {
            "text/plain": [
              "  Unnamed: 0                   Datetime      Tweet Id  \\\n",
              "0          0  2009-07-27 23:12:12+00:00  2.879456e+09   \n",
              "1          1  2009-07-27 23:12:10+00:00  2.879455e+09   \n",
              "2          2  2009-07-27 23:12:08+00:00  2.879455e+09   \n",
              "3          3  2009-07-27 23:12:07+00:00  2.879454e+09   \n",
              "4          4  2009-07-27 23:12:05+00:00  2.879454e+09   \n",
              "\n",
              "                                                Text  \n",
              "0                   Express aces http://bit.ly/EYVnw  \n",
              "1  Why I decided to stay at Bridge http://bit.ly/...  \n",
              "2        Sharks find their teeth http://bit.ly/q1u1P  \n",
              "3      Cooke's pulls out of race http://bit.ly/LWnJz  \n",
              "4   Tancock washes Peirsol away http://bit.ly/12BCMD  "
            ],
            "text/html": [
              "\n",
              "  <div id=\"df-6ea57286-22eb-4804-8737-523c627fdb95\">\n",
              "    <div class=\"colab-df-container\">\n",
              "      <div>\n",
              "<style scoped>\n",
              "    .dataframe tbody tr th:only-of-type {\n",
              "        vertical-align: middle;\n",
              "    }\n",
              "\n",
              "    .dataframe tbody tr th {\n",
              "        vertical-align: top;\n",
              "    }\n",
              "\n",
              "    .dataframe thead th {\n",
              "        text-align: right;\n",
              "    }\n",
              "</style>\n",
              "<table border=\"1\" class=\"dataframe\">\n",
              "  <thead>\n",
              "    <tr style=\"text-align: right;\">\n",
              "      <th></th>\n",
              "      <th>Unnamed: 0</th>\n",
              "      <th>Datetime</th>\n",
              "      <th>Tweet Id</th>\n",
              "      <th>Text</th>\n",
              "    </tr>\n",
              "  </thead>\n",
              "  <tbody>\n",
              "    <tr>\n",
              "      <th>0</th>\n",
              "      <td>0</td>\n",
              "      <td>2009-07-27 23:12:12+00:00</td>\n",
              "      <td>2.879456e+09</td>\n",
              "      <td>Express aces http://bit.ly/EYVnw</td>\n",
              "    </tr>\n",
              "    <tr>\n",
              "      <th>1</th>\n",
              "      <td>1</td>\n",
              "      <td>2009-07-27 23:12:10+00:00</td>\n",
              "      <td>2.879455e+09</td>\n",
              "      <td>Why I decided to stay at Bridge http://bit.ly/...</td>\n",
              "    </tr>\n",
              "    <tr>\n",
              "      <th>2</th>\n",
              "      <td>2</td>\n",
              "      <td>2009-07-27 23:12:08+00:00</td>\n",
              "      <td>2.879455e+09</td>\n",
              "      <td>Sharks find their teeth http://bit.ly/q1u1P</td>\n",
              "    </tr>\n",
              "    <tr>\n",
              "      <th>3</th>\n",
              "      <td>3</td>\n",
              "      <td>2009-07-27 23:12:07+00:00</td>\n",
              "      <td>2.879454e+09</td>\n",
              "      <td>Cooke's pulls out of race http://bit.ly/LWnJz</td>\n",
              "    </tr>\n",
              "    <tr>\n",
              "      <th>4</th>\n",
              "      <td>4</td>\n",
              "      <td>2009-07-27 23:12:05+00:00</td>\n",
              "      <td>2.879454e+09</td>\n",
              "      <td>Tancock washes Peirsol away http://bit.ly/12BCMD</td>\n",
              "    </tr>\n",
              "  </tbody>\n",
              "</table>\n",
              "</div>\n",
              "      <button class=\"colab-df-convert\" onclick=\"convertToInteractive('df-6ea57286-22eb-4804-8737-523c627fdb95')\"\n",
              "              title=\"Convert this dataframe to an interactive table.\"\n",
              "              style=\"display:none;\">\n",
              "        \n",
              "  <svg xmlns=\"http://www.w3.org/2000/svg\" height=\"24px\"viewBox=\"0 0 24 24\"\n",
              "       width=\"24px\">\n",
              "    <path d=\"M0 0h24v24H0V0z\" fill=\"none\"/>\n",
              "    <path d=\"M18.56 5.44l.94 2.06.94-2.06 2.06-.94-2.06-.94-.94-2.06-.94 2.06-2.06.94zm-11 1L8.5 8.5l.94-2.06 2.06-.94-2.06-.94L8.5 2.5l-.94 2.06-2.06.94zm10 10l.94 2.06.94-2.06 2.06-.94-2.06-.94-.94-2.06-.94 2.06-2.06.94z\"/><path d=\"M17.41 7.96l-1.37-1.37c-.4-.4-.92-.59-1.43-.59-.52 0-1.04.2-1.43.59L10.3 9.45l-7.72 7.72c-.78.78-.78 2.05 0 2.83L4 21.41c.39.39.9.59 1.41.59.51 0 1.02-.2 1.41-.59l7.78-7.78 2.81-2.81c.8-.78.8-2.07 0-2.86zM5.41 20L4 18.59l7.72-7.72 1.47 1.35L5.41 20z\"/>\n",
              "  </svg>\n",
              "      </button>\n",
              "      \n",
              "  <style>\n",
              "    .colab-df-container {\n",
              "      display:flex;\n",
              "      flex-wrap:wrap;\n",
              "      gap: 12px;\n",
              "    }\n",
              "\n",
              "    .colab-df-convert {\n",
              "      background-color: #E8F0FE;\n",
              "      border: none;\n",
              "      border-radius: 50%;\n",
              "      cursor: pointer;\n",
              "      display: none;\n",
              "      fill: #1967D2;\n",
              "      height: 32px;\n",
              "      padding: 0 0 0 0;\n",
              "      width: 32px;\n",
              "    }\n",
              "\n",
              "    .colab-df-convert:hover {\n",
              "      background-color: #E2EBFA;\n",
              "      box-shadow: 0px 1px 2px rgba(60, 64, 67, 0.3), 0px 1px 3px 1px rgba(60, 64, 67, 0.15);\n",
              "      fill: #174EA6;\n",
              "    }\n",
              "\n",
              "    [theme=dark] .colab-df-convert {\n",
              "      background-color: #3B4455;\n",
              "      fill: #D2E3FC;\n",
              "    }\n",
              "\n",
              "    [theme=dark] .colab-df-convert:hover {\n",
              "      background-color: #434B5C;\n",
              "      box-shadow: 0px 1px 3px 1px rgba(0, 0, 0, 0.15);\n",
              "      filter: drop-shadow(0px 1px 2px rgba(0, 0, 0, 0.3));\n",
              "      fill: #FFFFFF;\n",
              "    }\n",
              "  </style>\n",
              "\n",
              "      <script>\n",
              "        const buttonEl =\n",
              "          document.querySelector('#df-6ea57286-22eb-4804-8737-523c627fdb95 button.colab-df-convert');\n",
              "        buttonEl.style.display =\n",
              "          google.colab.kernel.accessAllowed ? 'block' : 'none';\n",
              "\n",
              "        async function convertToInteractive(key) {\n",
              "          const element = document.querySelector('#df-6ea57286-22eb-4804-8737-523c627fdb95');\n",
              "          const dataTable =\n",
              "            await google.colab.kernel.invokeFunction('convertToInteractive',\n",
              "                                                     [key], {});\n",
              "          if (!dataTable) return;\n",
              "\n",
              "          const docLinkHtml = 'Like what you see? Visit the ' +\n",
              "            '<a target=\"_blank\" href=https://colab.research.google.com/notebooks/data_table.ipynb>data table notebook</a>'\n",
              "            + ' to learn more about interactive tables.';\n",
              "          element.innerHTML = '';\n",
              "          dataTable['output_type'] = 'display_data';\n",
              "          await google.colab.output.renderOutput(dataTable, element);\n",
              "          const docLink = document.createElement('div');\n",
              "          docLink.innerHTML = docLinkHtml;\n",
              "          element.appendChild(docLink);\n",
              "        }\n",
              "      </script>\n",
              "    </div>\n",
              "  </div>\n",
              "  "
            ]
          },
          "metadata": {},
          "execution_count": 4
        }
      ]
    },
    {
      "cell_type": "code",
      "source": [
        "df = pd.read_csv('/content/drive/MyDrive/all_tweets_by_year/2013-14.csv')\n",
        "df.head()"
      ],
      "metadata": {
        "colab": {
          "base_uri": "https://localhost:8080/",
          "height": 206
        },
        "id": "6FtGKM1bHhQW",
        "outputId": "9fff0ff3-1fa4-4814-ebea-66739a3e56c8"
      },
      "execution_count": 5,
      "outputs": [
        {
          "output_type": "execute_result",
          "data": {
            "text/plain": [
              "  Unnamed: 0                   Datetime     Tweet Id  \\\n",
              "0          0  2014-07-27 22:26:36+00:00  4.93523E+17   \n",
              "1          1  2014-07-27 22:14:59+00:00   4.9352E+17   \n",
              "2          2  2014-07-27 22:00:13+00:00  4.93516E+17   \n",
              "3          3  2014-07-27 21:40:10+00:00  4.93511E+17   \n",
              "4          4  2014-07-27 21:20:08+00:00  4.93506E+17   \n",
              "\n",
              "                                                Text  \n",
              "0  Couples are shunning traditional wedding gifts...  \n",
              "1  You may be wasting your money on organic food ...  \n",
              "2  We take a look at how seven celeb sex tapes sh...  \n",
              "3  A man whose jaw was broken by a Domino‚Äôs dri...  \n",
              "4  The Portuguese ex-cop being sued by the McCann...  "
            ],
            "text/html": [
              "\n",
              "  <div id=\"df-5f89c03e-cd35-4f38-b1cf-daf18a0d1735\">\n",
              "    <div class=\"colab-df-container\">\n",
              "      <div>\n",
              "<style scoped>\n",
              "    .dataframe tbody tr th:only-of-type {\n",
              "        vertical-align: middle;\n",
              "    }\n",
              "\n",
              "    .dataframe tbody tr th {\n",
              "        vertical-align: top;\n",
              "    }\n",
              "\n",
              "    .dataframe thead th {\n",
              "        text-align: right;\n",
              "    }\n",
              "</style>\n",
              "<table border=\"1\" class=\"dataframe\">\n",
              "  <thead>\n",
              "    <tr style=\"text-align: right;\">\n",
              "      <th></th>\n",
              "      <th>Unnamed: 0</th>\n",
              "      <th>Datetime</th>\n",
              "      <th>Tweet Id</th>\n",
              "      <th>Text</th>\n",
              "    </tr>\n",
              "  </thead>\n",
              "  <tbody>\n",
              "    <tr>\n",
              "      <th>0</th>\n",
              "      <td>0</td>\n",
              "      <td>2014-07-27 22:26:36+00:00</td>\n",
              "      <td>4.93523E+17</td>\n",
              "      <td>Couples are shunning traditional wedding gifts...</td>\n",
              "    </tr>\n",
              "    <tr>\n",
              "      <th>1</th>\n",
              "      <td>1</td>\n",
              "      <td>2014-07-27 22:14:59+00:00</td>\n",
              "      <td>4.9352E+17</td>\n",
              "      <td>You may be wasting your money on organic food ...</td>\n",
              "    </tr>\n",
              "    <tr>\n",
              "      <th>2</th>\n",
              "      <td>2</td>\n",
              "      <td>2014-07-27 22:00:13+00:00</td>\n",
              "      <td>4.93516E+17</td>\n",
              "      <td>We take a look at how seven celeb sex tapes sh...</td>\n",
              "    </tr>\n",
              "    <tr>\n",
              "      <th>3</th>\n",
              "      <td>3</td>\n",
              "      <td>2014-07-27 21:40:10+00:00</td>\n",
              "      <td>4.93511E+17</td>\n",
              "      <td>A man whose jaw was broken by a Domino‚Äôs dri...</td>\n",
              "    </tr>\n",
              "    <tr>\n",
              "      <th>4</th>\n",
              "      <td>4</td>\n",
              "      <td>2014-07-27 21:20:08+00:00</td>\n",
              "      <td>4.93506E+17</td>\n",
              "      <td>The Portuguese ex-cop being sued by the McCann...</td>\n",
              "    </tr>\n",
              "  </tbody>\n",
              "</table>\n",
              "</div>\n",
              "      <button class=\"colab-df-convert\" onclick=\"convertToInteractive('df-5f89c03e-cd35-4f38-b1cf-daf18a0d1735')\"\n",
              "              title=\"Convert this dataframe to an interactive table.\"\n",
              "              style=\"display:none;\">\n",
              "        \n",
              "  <svg xmlns=\"http://www.w3.org/2000/svg\" height=\"24px\"viewBox=\"0 0 24 24\"\n",
              "       width=\"24px\">\n",
              "    <path d=\"M0 0h24v24H0V0z\" fill=\"none\"/>\n",
              "    <path d=\"M18.56 5.44l.94 2.06.94-2.06 2.06-.94-2.06-.94-.94-2.06-.94 2.06-2.06.94zm-11 1L8.5 8.5l.94-2.06 2.06-.94-2.06-.94L8.5 2.5l-.94 2.06-2.06.94zm10 10l.94 2.06.94-2.06 2.06-.94-2.06-.94-.94-2.06-.94 2.06-2.06.94z\"/><path d=\"M17.41 7.96l-1.37-1.37c-.4-.4-.92-.59-1.43-.59-.52 0-1.04.2-1.43.59L10.3 9.45l-7.72 7.72c-.78.78-.78 2.05 0 2.83L4 21.41c.39.39.9.59 1.41.59.51 0 1.02-.2 1.41-.59l7.78-7.78 2.81-2.81c.8-.78.8-2.07 0-2.86zM5.41 20L4 18.59l7.72-7.72 1.47 1.35L5.41 20z\"/>\n",
              "  </svg>\n",
              "      </button>\n",
              "      \n",
              "  <style>\n",
              "    .colab-df-container {\n",
              "      display:flex;\n",
              "      flex-wrap:wrap;\n",
              "      gap: 12px;\n",
              "    }\n",
              "\n",
              "    .colab-df-convert {\n",
              "      background-color: #E8F0FE;\n",
              "      border: none;\n",
              "      border-radius: 50%;\n",
              "      cursor: pointer;\n",
              "      display: none;\n",
              "      fill: #1967D2;\n",
              "      height: 32px;\n",
              "      padding: 0 0 0 0;\n",
              "      width: 32px;\n",
              "    }\n",
              "\n",
              "    .colab-df-convert:hover {\n",
              "      background-color: #E2EBFA;\n",
              "      box-shadow: 0px 1px 2px rgba(60, 64, 67, 0.3), 0px 1px 3px 1px rgba(60, 64, 67, 0.15);\n",
              "      fill: #174EA6;\n",
              "    }\n",
              "\n",
              "    [theme=dark] .colab-df-convert {\n",
              "      background-color: #3B4455;\n",
              "      fill: #D2E3FC;\n",
              "    }\n",
              "\n",
              "    [theme=dark] .colab-df-convert:hover {\n",
              "      background-color: #434B5C;\n",
              "      box-shadow: 0px 1px 3px 1px rgba(0, 0, 0, 0.15);\n",
              "      filter: drop-shadow(0px 1px 2px rgba(0, 0, 0, 0.3));\n",
              "      fill: #FFFFFF;\n",
              "    }\n",
              "  </style>\n",
              "\n",
              "      <script>\n",
              "        const buttonEl =\n",
              "          document.querySelector('#df-5f89c03e-cd35-4f38-b1cf-daf18a0d1735 button.colab-df-convert');\n",
              "        buttonEl.style.display =\n",
              "          google.colab.kernel.accessAllowed ? 'block' : 'none';\n",
              "\n",
              "        async function convertToInteractive(key) {\n",
              "          const element = document.querySelector('#df-5f89c03e-cd35-4f38-b1cf-daf18a0d1735');\n",
              "          const dataTable =\n",
              "            await google.colab.kernel.invokeFunction('convertToInteractive',\n",
              "                                                     [key], {});\n",
              "          if (!dataTable) return;\n",
              "\n",
              "          const docLinkHtml = 'Like what you see? Visit the ' +\n",
              "            '<a target=\"_blank\" href=https://colab.research.google.com/notebooks/data_table.ipynb>data table notebook</a>'\n",
              "            + ' to learn more about interactive tables.';\n",
              "          element.innerHTML = '';\n",
              "          dataTable['output_type'] = 'display_data';\n",
              "          await google.colab.output.renderOutput(dataTable, element);\n",
              "          const docLink = document.createElement('div');\n",
              "          docLink.innerHTML = docLinkHtml;\n",
              "          element.appendChild(docLink);\n",
              "        }\n",
              "      </script>\n",
              "    </div>\n",
              "  </div>\n",
              "  "
            ]
          },
          "metadata": {},
          "execution_count": 5
        }
      ]
    },
    {
      "cell_type": "code",
      "source": [
        "import os\n",
        "os.listdir('/content/drive/MyDrive/all_tweets_by_year')"
      ],
      "metadata": {
        "colab": {
          "base_uri": "https://localhost:8080/"
        },
        "id": "1MRNMpN0-g-x",
        "outputId": "6537ddfe-f05c-4e31-e587-7c3de0ac4919"
      },
      "execution_count": 6,
      "outputs": [
        {
          "output_type": "execute_result",
          "data": {
            "text/plain": [
              "['12_13_all_tweets',\n",
              " '08_09_all_tweets.csv',\n",
              " '09_10_all_tweets.csv',\n",
              " '10_11_all_tweets.csv',\n",
              " '11_12_all_tweets.csv',\n",
              " '21_22_all_tweets.csv',\n",
              " '12_13_skip3_tweets.csv',\n",
              " '19_20_all_tweets.csv',\n",
              " '13_14_all_tweets',\n",
              " '20_21_all_tweets.csv',\n",
              " '14_15_all_tweets.csv',\n",
              " '18_19_all_tweets.csv',\n",
              " '17_18_all_tweets',\n",
              " '2014-15.csv',\n",
              " '15_16_all_tweets.csv',\n",
              " '2017-18.csv',\n",
              " '2013-14.csv']"
            ]
          },
          "metadata": {},
          "execution_count": 6
        }
      ]
    },
    {
      "cell_type": "code",
      "source": [
        "def read_csvs(list_files):\n",
        "  list_csv = [file for file in list_files if file[-3:] == \"csv\"]\n",
        "  print(list_csv)\n",
        "  frames = []\n",
        "  for csv in list_csv:\n",
        "    frames.append(pd.read_csv(f'/content/drive/MyDrive/all_tweets_by_year/{csv}', engine='python'))\n",
        "    print(f\"added csv: {csv}\")\n",
        "  big_df = pd.concat(frames, ignore_index=True)\n",
        "  return big_df"
      ],
      "metadata": {
        "id": "_zK7zhWR-0yf"
      },
      "execution_count": 33,
      "outputs": []
    },
    {
      "cell_type": "code",
      "source": [
        "large_df = read_csvs(os.listdir('/content/drive/MyDrive/all_tweets_by_year'))"
      ],
      "metadata": {
        "colab": {
          "base_uri": "https://localhost:8080/"
        },
        "id": "ONMf0Lc9BdNG",
        "outputId": "79c9d1db-7375-4523-dc4e-b90c096ea20c"
      },
      "execution_count": 34,
      "outputs": [
        {
          "output_type": "stream",
          "name": "stdout",
          "text": [
            "['08_09_all_tweets.csv', '09_10_all_tweets.csv', '10_11_all_tweets.csv', '11_12_all_tweets.csv', '21_22_all_tweets.csv', '12_13_skip3_tweets.csv', '19_20_all_tweets.csv', '20_21_all_tweets.csv', '14_15_all_tweets.csv', '18_19_all_tweets.csv', '2014-15.csv', '15_16_all_tweets.csv', '2017-18.csv', '2013-14.csv']\n",
            "added csv: 08_09_all_tweets.csv\n",
            "added csv: 09_10_all_tweets.csv\n",
            "added csv: 10_11_all_tweets.csv\n",
            "added csv: 11_12_all_tweets.csv\n",
            "added csv: 21_22_all_tweets.csv\n",
            "added csv: 12_13_skip3_tweets.csv\n",
            "added csv: 19_20_all_tweets.csv\n",
            "added csv: 20_21_all_tweets.csv\n",
            "added csv: 14_15_all_tweets.csv\n",
            "added csv: 18_19_all_tweets.csv\n",
            "added csv: 2014-15.csv\n",
            "added csv: 15_16_all_tweets.csv\n",
            "added csv: 2017-18.csv\n",
            "added csv: 2013-14.csv\n"
          ]
        }
      ]
    },
    {
      "cell_type": "code",
      "source": [
        "large_df.shape"
      ],
      "metadata": {
        "colab": {
          "base_uri": "https://localhost:8080/"
        },
        "id": "CSXnmtC8KFtv",
        "outputId": "d78c0086-5072-471b-f86e-9160071f7bf3"
      },
      "execution_count": 36,
      "outputs": [
        {
          "output_type": "execute_result",
          "data": {
            "text/plain": [
              "(2148604, 5)"
            ]
          },
          "metadata": {},
          "execution_count": 36
        }
      ]
    },
    {
      "cell_type": "code",
      "source": [
        "large_df = large_df.drop_duplicates(subset='Text', keep='first')\n",
        "large_df.shape"
      ],
      "metadata": {
        "colab": {
          "base_uri": "https://localhost:8080/"
        },
        "id": "j6E3Wu0VISMi",
        "outputId": "05e4a407-28ea-4bcc-e325-9566080ea9da"
      },
      "execution_count": 37,
      "outputs": [
        {
          "output_type": "execute_result",
          "data": {
            "text/plain": [
              "(1761590, 5)"
            ]
          },
          "metadata": {},
          "execution_count": 37
        }
      ]
    },
    {
      "cell_type": "code",
      "source": [
        "def remove_punc(text):\n",
        "    txt=text\n",
        "    for punc in punctuation:\n",
        "        txt = txt.replace(punc, \" \")\n",
        "    txt = txt.lower()\n",
        "    return txt \n",
        "\n",
        "def remove_URL_and_HTML(row):\n",
        "    row = re.sub(r'http.*$', \"\", row)\n",
        "    row = re.sub(r'https.*$', \"\", row)\n",
        "    return row\n",
        "\n",
        "def remove_stopwords(row):\n",
        "    row = word_tokenize(row)\n",
        "    return ' '.join(w for w in row if not w in stop_words)\n",
        "\n",
        "def preprocessing(col):\n",
        "    col = col.astype(str)\n",
        "    punctuation_list = col.apply(remove_punc)\n",
        "    URL = punctuation_list.apply(remove_URL_and_HTML)\n",
        "    word_tokens = URL.apply(remove_stopwords)                                           \n",
        "    return word_tokens"
      ],
      "metadata": {
        "id": "IiLpW3oiPFLn"
      },
      "execution_count": 59,
      "outputs": []
    },
    {
      "cell_type": "code",
      "source": [
        "test = preprocessing(large_df['Text'][0:10])\n",
        "test"
      ],
      "metadata": {
        "colab": {
          "base_uri": "https://localhost:8080/"
        },
        "id": "6wbJO3SwVX_2",
        "outputId": "94517d67-e9a8-4b39-af60-6a6f64945e49"
      },
      "execution_count": 60,
      "outputs": [
        {
          "output_type": "execute_result",
          "data": {
            "text/plain": [
              "0                          express aces\n",
              "1                   decided stay bridge\n",
              "2                     sharks find teeth\n",
              "3                      cooke pulls race\n",
              "4           tancock washes peirsol away\n",
              "5           darling plea business loans\n",
              "6     safety sake skip playground games\n",
              "7     broken marriages take toll health\n",
              "8                 exercise beats cancer\n",
              "9    soup water diet kills mum 14 weeks\n",
              "Name: Text, dtype: object"
            ]
          },
          "metadata": {},
          "execution_count": 60
        }
      ]
    },
    {
      "cell_type": "code",
      "source": [
        "large_df['preprocessed'] = preprocessing(large_df['Text'])"
      ],
      "metadata": {
        "id": "nNdreIsQP78b"
      },
      "execution_count": 61,
      "outputs": []
    },
    {
      "cell_type": "code",
      "source": [
        "large_df.head()"
      ],
      "metadata": {
        "colab": {
          "base_uri": "https://localhost:8080/",
          "height": 250
        },
        "id": "FNLjfQGeQQvE",
        "outputId": "278b8965-1b5f-4b8d-de69-98d78effc130"
      },
      "execution_count": 62,
      "outputs": [
        {
          "output_type": "execute_result",
          "data": {
            "text/plain": [
              "  Unnamed: 0                   Datetime      Tweet Id  \\\n",
              "0          0  2009-07-27 23:12:12+00:00  2879455640.0   \n",
              "1          1  2009-07-27 23:12:10+00:00  2879455191.0   \n",
              "2          2  2009-07-27 23:12:08+00:00  2879454727.0   \n",
              "3          3  2009-07-27 23:12:07+00:00  2879454325.0   \n",
              "4          4  2009-07-27 23:12:05+00:00  2879453826.0   \n",
              "\n",
              "                                                Text Unnamed: 4  \\\n",
              "0                   Express aces http://bit.ly/EYVnw        NaN   \n",
              "1  Why I decided to stay at Bridge http://bit.ly/...        NaN   \n",
              "2        Sharks find their teeth http://bit.ly/q1u1P        NaN   \n",
              "3      Cooke's pulls out of race http://bit.ly/LWnJz        NaN   \n",
              "4   Tancock washes Peirsol away http://bit.ly/12BCMD        NaN   \n",
              "\n",
              "                  preprocessed  \n",
              "0                 express aces  \n",
              "1          decided stay bridge  \n",
              "2            sharks find teeth  \n",
              "3             cooke pulls race  \n",
              "4  tancock washes peirsol away  "
            ],
            "text/html": [
              "\n",
              "  <div id=\"df-1d7abc27-0c01-47ca-b415-d3b0f3b19599\">\n",
              "    <div class=\"colab-df-container\">\n",
              "      <div>\n",
              "<style scoped>\n",
              "    .dataframe tbody tr th:only-of-type {\n",
              "        vertical-align: middle;\n",
              "    }\n",
              "\n",
              "    .dataframe tbody tr th {\n",
              "        vertical-align: top;\n",
              "    }\n",
              "\n",
              "    .dataframe thead th {\n",
              "        text-align: right;\n",
              "    }\n",
              "</style>\n",
              "<table border=\"1\" class=\"dataframe\">\n",
              "  <thead>\n",
              "    <tr style=\"text-align: right;\">\n",
              "      <th></th>\n",
              "      <th>Unnamed: 0</th>\n",
              "      <th>Datetime</th>\n",
              "      <th>Tweet Id</th>\n",
              "      <th>Text</th>\n",
              "      <th>Unnamed: 4</th>\n",
              "      <th>preprocessed</th>\n",
              "    </tr>\n",
              "  </thead>\n",
              "  <tbody>\n",
              "    <tr>\n",
              "      <th>0</th>\n",
              "      <td>0</td>\n",
              "      <td>2009-07-27 23:12:12+00:00</td>\n",
              "      <td>2879455640.0</td>\n",
              "      <td>Express aces http://bit.ly/EYVnw</td>\n",
              "      <td>NaN</td>\n",
              "      <td>express aces</td>\n",
              "    </tr>\n",
              "    <tr>\n",
              "      <th>1</th>\n",
              "      <td>1</td>\n",
              "      <td>2009-07-27 23:12:10+00:00</td>\n",
              "      <td>2879455191.0</td>\n",
              "      <td>Why I decided to stay at Bridge http://bit.ly/...</td>\n",
              "      <td>NaN</td>\n",
              "      <td>decided stay bridge</td>\n",
              "    </tr>\n",
              "    <tr>\n",
              "      <th>2</th>\n",
              "      <td>2</td>\n",
              "      <td>2009-07-27 23:12:08+00:00</td>\n",
              "      <td>2879454727.0</td>\n",
              "      <td>Sharks find their teeth http://bit.ly/q1u1P</td>\n",
              "      <td>NaN</td>\n",
              "      <td>sharks find teeth</td>\n",
              "    </tr>\n",
              "    <tr>\n",
              "      <th>3</th>\n",
              "      <td>3</td>\n",
              "      <td>2009-07-27 23:12:07+00:00</td>\n",
              "      <td>2879454325.0</td>\n",
              "      <td>Cooke's pulls out of race http://bit.ly/LWnJz</td>\n",
              "      <td>NaN</td>\n",
              "      <td>cooke pulls race</td>\n",
              "    </tr>\n",
              "    <tr>\n",
              "      <th>4</th>\n",
              "      <td>4</td>\n",
              "      <td>2009-07-27 23:12:05+00:00</td>\n",
              "      <td>2879453826.0</td>\n",
              "      <td>Tancock washes Peirsol away http://bit.ly/12BCMD</td>\n",
              "      <td>NaN</td>\n",
              "      <td>tancock washes peirsol away</td>\n",
              "    </tr>\n",
              "  </tbody>\n",
              "</table>\n",
              "</div>\n",
              "      <button class=\"colab-df-convert\" onclick=\"convertToInteractive('df-1d7abc27-0c01-47ca-b415-d3b0f3b19599')\"\n",
              "              title=\"Convert this dataframe to an interactive table.\"\n",
              "              style=\"display:none;\">\n",
              "        \n",
              "  <svg xmlns=\"http://www.w3.org/2000/svg\" height=\"24px\"viewBox=\"0 0 24 24\"\n",
              "       width=\"24px\">\n",
              "    <path d=\"M0 0h24v24H0V0z\" fill=\"none\"/>\n",
              "    <path d=\"M18.56 5.44l.94 2.06.94-2.06 2.06-.94-2.06-.94-.94-2.06-.94 2.06-2.06.94zm-11 1L8.5 8.5l.94-2.06 2.06-.94-2.06-.94L8.5 2.5l-.94 2.06-2.06.94zm10 10l.94 2.06.94-2.06 2.06-.94-2.06-.94-.94-2.06-.94 2.06-2.06.94z\"/><path d=\"M17.41 7.96l-1.37-1.37c-.4-.4-.92-.59-1.43-.59-.52 0-1.04.2-1.43.59L10.3 9.45l-7.72 7.72c-.78.78-.78 2.05 0 2.83L4 21.41c.39.39.9.59 1.41.59.51 0 1.02-.2 1.41-.59l7.78-7.78 2.81-2.81c.8-.78.8-2.07 0-2.86zM5.41 20L4 18.59l7.72-7.72 1.47 1.35L5.41 20z\"/>\n",
              "  </svg>\n",
              "      </button>\n",
              "      \n",
              "  <style>\n",
              "    .colab-df-container {\n",
              "      display:flex;\n",
              "      flex-wrap:wrap;\n",
              "      gap: 12px;\n",
              "    }\n",
              "\n",
              "    .colab-df-convert {\n",
              "      background-color: #E8F0FE;\n",
              "      border: none;\n",
              "      border-radius: 50%;\n",
              "      cursor: pointer;\n",
              "      display: none;\n",
              "      fill: #1967D2;\n",
              "      height: 32px;\n",
              "      padding: 0 0 0 0;\n",
              "      width: 32px;\n",
              "    }\n",
              "\n",
              "    .colab-df-convert:hover {\n",
              "      background-color: #E2EBFA;\n",
              "      box-shadow: 0px 1px 2px rgba(60, 64, 67, 0.3), 0px 1px 3px 1px rgba(60, 64, 67, 0.15);\n",
              "      fill: #174EA6;\n",
              "    }\n",
              "\n",
              "    [theme=dark] .colab-df-convert {\n",
              "      background-color: #3B4455;\n",
              "      fill: #D2E3FC;\n",
              "    }\n",
              "\n",
              "    [theme=dark] .colab-df-convert:hover {\n",
              "      background-color: #434B5C;\n",
              "      box-shadow: 0px 1px 3px 1px rgba(0, 0, 0, 0.15);\n",
              "      filter: drop-shadow(0px 1px 2px rgba(0, 0, 0, 0.3));\n",
              "      fill: #FFFFFF;\n",
              "    }\n",
              "  </style>\n",
              "\n",
              "      <script>\n",
              "        const buttonEl =\n",
              "          document.querySelector('#df-1d7abc27-0c01-47ca-b415-d3b0f3b19599 button.colab-df-convert');\n",
              "        buttonEl.style.display =\n",
              "          google.colab.kernel.accessAllowed ? 'block' : 'none';\n",
              "\n",
              "        async function convertToInteractive(key) {\n",
              "          const element = document.querySelector('#df-1d7abc27-0c01-47ca-b415-d3b0f3b19599');\n",
              "          const dataTable =\n",
              "            await google.colab.kernel.invokeFunction('convertToInteractive',\n",
              "                                                     [key], {});\n",
              "          if (!dataTable) return;\n",
              "\n",
              "          const docLinkHtml = 'Like what you see? Visit the ' +\n",
              "            '<a target=\"_blank\" href=https://colab.research.google.com/notebooks/data_table.ipynb>data table notebook</a>'\n",
              "            + ' to learn more about interactive tables.';\n",
              "          element.innerHTML = '';\n",
              "          dataTable['output_type'] = 'display_data';\n",
              "          await google.colab.output.renderOutput(dataTable, element);\n",
              "          const docLink = document.createElement('div');\n",
              "          docLink.innerHTML = docLinkHtml;\n",
              "          element.appendChild(docLink);\n",
              "        }\n",
              "      </script>\n",
              "    </div>\n",
              "  </div>\n",
              "  "
            ]
          },
          "metadata": {},
          "execution_count": 62
        }
      ]
    },
    {
      "cell_type": "code",
      "source": [
        "large_df = large_df.drop_duplicates(subset='preprocessed', keep='first')"
      ],
      "metadata": {
        "id": "RjjMWXFRUZ6e"
      },
      "execution_count": 63,
      "outputs": []
    },
    {
      "cell_type": "code",
      "source": [
        "large_df.shape"
      ],
      "metadata": {
        "colab": {
          "base_uri": "https://localhost:8080/"
        },
        "id": "6dZezZi-WS2j",
        "outputId": "20c22d39-323b-4099-ded3-7be03efdddcc"
      },
      "execution_count": 64,
      "outputs": [
        {
          "output_type": "execute_result",
          "data": {
            "text/plain": [
              "(1183416, 6)"
            ]
          },
          "metadata": {},
          "execution_count": 64
        }
      ]
    },
    {
      "cell_type": "code",
      "source": [
        "!pwd"
      ],
      "metadata": {
        "colab": {
          "base_uri": "https://localhost:8080/"
        },
        "id": "7uPW1druXE1c",
        "outputId": "9864d9c0-c864-48dd-deb2-f16b03abf703"
      },
      "execution_count": 65,
      "outputs": [
        {
          "output_type": "stream",
          "name": "stdout",
          "text": [
            "/content\n"
          ]
        }
      ]
    },
    {
      "cell_type": "code",
      "source": [
        "large_df.to_csv('large_df')"
      ],
      "metadata": {
        "id": "Cka5J6XSXJXw"
      },
      "execution_count": 66,
      "outputs": []
    },
    {
      "cell_type": "code",
      "source": [
        ""
      ],
      "metadata": {
        "id": "20AZi-ZZXOyD"
      },
      "execution_count": null,
      "outputs": []
    }
  ]
}